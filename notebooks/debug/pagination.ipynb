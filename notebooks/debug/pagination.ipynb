{
 "cells": [
  {
   "cell_type": "code",
   "execution_count": 1,
   "id": "c31f791a",
   "metadata": {},
   "outputs": [
    {
     "data": {
      "application/javascript": [
       "\n",
       "            setTimeout(function() {\n",
       "                var nbb_cell_id = 1;\n",
       "                var nbb_unformatted_code = \"%load_ext nb_black\";\n",
       "                var nbb_formatted_code = \"%load_ext nb_black\";\n",
       "                var nbb_cells = Jupyter.notebook.get_cells();\n",
       "                for (var i = 0; i < nbb_cells.length; ++i) {\n",
       "                    if (nbb_cells[i].input_prompt_number == nbb_cell_id) {\n",
       "                        if (nbb_cells[i].get_text() == nbb_unformatted_code) {\n",
       "                             nbb_cells[i].set_text(nbb_formatted_code);\n",
       "                        }\n",
       "                        break;\n",
       "                    }\n",
       "                }\n",
       "            }, 500);\n",
       "            "
      ],
      "text/plain": [
       "<IPython.core.display.Javascript object>"
      ]
     },
     "metadata": {},
     "output_type": "display_data"
    }
   ],
   "source": [
    "%load_ext nb_black"
   ]
  },
  {
   "cell_type": "markdown",
   "id": "de1e7bb5",
   "metadata": {},
   "source": [
    "# Create Some Blogposts"
   ]
  },
  {
   "cell_type": "code",
   "execution_count": 3,
   "id": "1b409d86",
   "metadata": {},
   "outputs": [
    {
     "name": "stdout",
     "output_type": "stream",
     "text": [
      "jochen\n",
      "lbog\n"
     ]
    },
    {
     "data": {
      "application/javascript": [
       "\n",
       "            setTimeout(function() {\n",
       "                var nbb_cell_id = 3;\n",
       "                var nbb_unformatted_code = \"user = User.objects.first()\\nprint(user)\\nblog = Blog.objects.first()\\nprint(blog)\";\n",
       "                var nbb_formatted_code = \"user = User.objects.first()\\nprint(user)\\nblog = Blog.objects.first()\\nprint(blog)\";\n",
       "                var nbb_cells = Jupyter.notebook.get_cells();\n",
       "                for (var i = 0; i < nbb_cells.length; ++i) {\n",
       "                    if (nbb_cells[i].input_prompt_number == nbb_cell_id) {\n",
       "                        if (nbb_cells[i].get_text() == nbb_unformatted_code) {\n",
       "                             nbb_cells[i].set_text(nbb_formatted_code);\n",
       "                        }\n",
       "                        break;\n",
       "                    }\n",
       "                }\n",
       "            }, 500);\n",
       "            "
      ],
      "text/plain": [
       "<IPython.core.display.Javascript object>"
      ]
     },
     "metadata": {},
     "output_type": "display_data"
    }
   ],
   "source": [
    "user = User.objects.first()\n",
    "print(user)\n",
    "blog = Blog.objects.first()\n",
    "print(blog)\n"
   ]
  },
  {
   "cell_type": "code",
   "execution_count": 9,
   "id": "a6893445",
   "metadata": {},
   "outputs": [
    {
     "data": {
      "application/javascript": [
       "\n",
       "            setTimeout(function() {\n",
       "                var nbb_cell_id = 9;\n",
       "                var nbb_unformatted_code = \"for i in range(2, 20):\\n    kwargs = {\\\"title\\\": f\\\"post {i}\\\", \\\"slug\\\": f\\\"post-{i}\\\"}\\n    post = Post(**kwargs)\\n    blog.add_child(instance=post)\";\n",
       "                var nbb_formatted_code = \"for i in range(2, 20):\\n    kwargs = {\\\"title\\\": f\\\"post {i}\\\", \\\"slug\\\": f\\\"post-{i}\\\"}\\n    post = Post(**kwargs)\\n    blog.add_child(instance=post)\";\n",
       "                var nbb_cells = Jupyter.notebook.get_cells();\n",
       "                for (var i = 0; i < nbb_cells.length; ++i) {\n",
       "                    if (nbb_cells[i].input_prompt_number == nbb_cell_id) {\n",
       "                        if (nbb_cells[i].get_text() == nbb_unformatted_code) {\n",
       "                             nbb_cells[i].set_text(nbb_formatted_code);\n",
       "                        }\n",
       "                        break;\n",
       "                    }\n",
       "                }\n",
       "            }, 500);\n",
       "            "
      ],
      "text/plain": [
       "<IPython.core.display.Javascript object>"
      ]
     },
     "metadata": {},
     "output_type": "display_data"
    }
   ],
   "source": [
    "for i in range(20):\n",
    "    kwargs = {\"title\": f\"post {i}\", \"slug\": f\"post-{i}\"}\n",
    "    post = Post(**kwargs)\n",
    "    blog.add_child(instance=post)"
   ]
  },
  {
   "cell_type": "code",
   "execution_count": 10,
   "id": "5b2f7227",
   "metadata": {},
   "outputs": [
    {
     "data": {
      "application/javascript": [
       "\n",
       "            setTimeout(function() {\n",
       "                var nbb_cell_id = 10;\n",
       "                var nbb_unformatted_code = \"for i in range(10):\\n    kwargs = {\\\"title\\\": f\\\"blubber {i}\\\", \\\"slug\\\": f\\\"post-blubber-{i}\\\"}\\n    post = Post(**kwargs)\\n    blog.add_child(instance=post)\";\n",
       "                var nbb_formatted_code = \"for i in range(10):\\n    kwargs = {\\\"title\\\": f\\\"blubber {i}\\\", \\\"slug\\\": f\\\"post-blubber-{i}\\\"}\\n    post = Post(**kwargs)\\n    blog.add_child(instance=post)\";\n",
       "                var nbb_cells = Jupyter.notebook.get_cells();\n",
       "                for (var i = 0; i < nbb_cells.length; ++i) {\n",
       "                    if (nbb_cells[i].input_prompt_number == nbb_cell_id) {\n",
       "                        if (nbb_cells[i].get_text() == nbb_unformatted_code) {\n",
       "                             nbb_cells[i].set_text(nbb_formatted_code);\n",
       "                        }\n",
       "                        break;\n",
       "                    }\n",
       "                }\n",
       "            }, 500);\n",
       "            "
      ],
      "text/plain": [
       "<IPython.core.display.Javascript object>"
      ]
     },
     "metadata": {},
     "output_type": "display_data"
    }
   ],
   "source": [
    "for i in range(10):\n",
    "    kwargs = {\"title\": f\"blubber {i}\", \"slug\": f\"post-blubber-{i}\"}\n",
    "    post = Post(**kwargs)\n",
    "    blog.add_child(instance=post)"
   ]
  },
  {
   "cell_type": "code",
   "execution_count": null,
   "id": "2ecdfa5e",
   "metadata": {},
   "outputs": [],
   "source": []
  }
 ],
 "metadata": {
  "kernelspec": {
   "display_name": "Django Shell-Plus",
   "language": "python",
   "name": "django_extensions"
  },
  "language_info": {
   "codemirror_mode": {
    "name": "ipython",
    "version": 3
   },
   "file_extension": ".py",
   "mimetype": "text/x-python",
   "name": "python",
   "nbconvert_exporter": "python",
   "pygments_lexer": "ipython3",
   "version": "3.9.7"
  }
 },
 "nbformat": 4,
 "nbformat_minor": 5
}
