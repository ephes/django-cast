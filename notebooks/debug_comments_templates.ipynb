{
 "cells": [
  {
   "cell_type": "code",
   "execution_count": 2,
   "id": "ef329a76",
   "metadata": {},
   "outputs": [
    {
     "data": {
      "text/plain": [
       "'/admin/password_change/'"
      ]
     },
     "execution_count": 2,
     "metadata": {},
     "output_type": "execute_result"
    }
   ],
   "source": [
    "reverse(\"admin:password_change\")"
   ]
  },
  {
   "cell_type": "code",
   "execution_count": 3,
   "id": "757bb079",
   "metadata": {},
   "outputs": [
    {
     "data": {
      "text/plain": [
       "0"
      ]
     },
     "execution_count": 3,
     "metadata": {},
     "output_type": "execute_result"
    }
   ],
   "source": [
    "Comment.objects.count()"
   ]
  },
  {
   "cell_type": "code",
   "execution_count": 15,
   "id": "29db9c00",
   "metadata": {},
   "outputs": [],
   "source": [
    "from fluent_comments import get_model\n",
    "Comment = get_model()"
   ]
  },
  {
   "cell_type": "code",
   "execution_count": 16,
   "id": "de22f17a",
   "metadata": {},
   "outputs": [
    {
     "name": "stdout",
     "output_type": "stream",
     "text": [
      "my first post\n"
     ]
    }
   ],
   "source": [
    "post = Post.objects.first()\n",
    "print(post)"
   ]
  },
  {
   "cell_type": "code",
   "execution_count": 19,
   "id": "ca6047c9",
   "metadata": {},
   "outputs": [],
   "source": [
    "comment = Comment.objects.all()[1]"
   ]
  },
  {
   "cell_type": "code",
   "execution_count": 17,
   "id": "96500f16",
   "metadata": {},
   "outputs": [],
   "source": [
    "comment.content_object = post"
   ]
  },
  {
   "cell_type": "code",
   "execution_count": 18,
   "id": "e01e9020",
   "metadata": {},
   "outputs": [],
   "source": [
    "comment.save()"
   ]
  },
  {
   "cell_type": "code",
   "execution_count": 20,
   "id": "ff37dab4",
   "metadata": {},
   "outputs": [
    {
     "name": "stdout",
     "output_type": "stream",
     "text": [
      "my first post\n"
     ]
    }
   ],
   "source": [
    "print(comment.content_object)"
   ]
  },
  {
   "cell_type": "code",
   "execution_count": 21,
   "id": "adefbbfb",
   "metadata": {},
   "outputs": [],
   "source": [
    "for comment in Comment.objects.all():\n",
    "    comment.content_object = post\n",
    "    comment.save()"
   ]
  },
  {
   "cell_type": "code",
   "execution_count": 22,
   "id": "5167e0ef",
   "metadata": {},
   "outputs": [],
   "source": [
    "spamfilter = SpamFilter.objects.first()"
   ]
  },
  {
   "cell_type": "code",
   "execution_count": 24,
   "id": "908f0ed6",
   "metadata": {},
   "outputs": [],
   "source": [
    "model = spamfilter.model"
   ]
  },
  {
   "cell_type": "code",
   "execution_count": 26,
   "id": "8b3fa4dc",
   "metadata": {},
   "outputs": [
    {
     "data": {
      "text/plain": [
       "{'ham': 0.26744186046511625, 'spam': 0.7325581395348837}"
      ]
     },
     "execution_count": 26,
     "metadata": {},
     "output_type": "execute_result"
    }
   ],
   "source": [
    "model.prior_probabilities"
   ]
  },
  {
   "cell_type": "code",
   "execution_count": 28,
   "id": "d5529533",
   "metadata": {},
   "outputs": [
    {
     "data": {
      "text/plain": [
       "True"
      ]
     },
     "execution_count": 28,
     "metadata": {},
     "output_type": "execute_result"
    }
   ],
   "source": [
    "comment.is_removed"
   ]
  },
  {
   "cell_type": "code",
   "execution_count": 29,
   "id": "2fa4c1a0",
   "metadata": {},
   "outputs": [],
   "source": [
    "comment = Comment(is_removed=True)"
   ]
  },
  {
   "cell_type": "code",
   "execution_count": 30,
   "id": "6219afc6",
   "metadata": {},
   "outputs": [
    {
     "data": {
      "text/plain": [
       "True"
      ]
     },
     "execution_count": 30,
     "metadata": {},
     "output_type": "execute_result"
    }
   ],
   "source": [
    "comment.is_removed"
   ]
  },
  {
   "cell_type": "code",
   "execution_count": null,
   "id": "2978641a",
   "metadata": {},
   "outputs": [],
   "source": []
  }
 ],
 "metadata": {
  "kernelspec": {
   "display_name": "Django Shell-Plus",
   "language": "python",
   "name": "django_extensions"
  },
  "language_info": {
   "codemirror_mode": {
    "name": "ipython",
    "version": 3
   },
   "file_extension": ".py",
   "mimetype": "text/x-python",
   "name": "python",
   "nbconvert_exporter": "python",
   "pygments_lexer": "ipython3",
   "version": "3.9.7"
  }
 },
 "nbformat": 4,
 "nbformat_minor": 5
}
