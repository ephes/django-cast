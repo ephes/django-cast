{
 "cells": [
  {
   "cell_type": "code",
   "execution_count": 1,
   "id": "97b60ba5",
   "metadata": {},
   "outputs": [
    {
     "data": {
      "application/javascript": [
       "\n",
       "            setTimeout(function() {\n",
       "                var nbb_cell_id = 1;\n",
       "                var nbb_unformatted_code = \"%load_ext nb_black\";\n",
       "                var nbb_formatted_code = \"%load_ext nb_black\";\n",
       "                var nbb_cells = Jupyter.notebook.get_cells();\n",
       "                for (var i = 0; i < nbb_cells.length; ++i) {\n",
       "                    if (nbb_cells[i].input_prompt_number == nbb_cell_id) {\n",
       "                        if (nbb_cells[i].get_text() == nbb_unformatted_code) {\n",
       "                             nbb_cells[i].set_text(nbb_formatted_code);\n",
       "                        }\n",
       "                        break;\n",
       "                    }\n",
       "                }\n",
       "            }, 500);\n",
       "            "
      ],
      "text/plain": [
       "<IPython.core.display.Javascript object>"
      ]
     },
     "metadata": {},
     "output_type": "display_data"
    }
   ],
   "source": [
    "%load_ext nb_black"
   ]
  },
  {
   "cell_type": "code",
   "execution_count": 2,
   "id": "969c4e91",
   "metadata": {},
   "outputs": [
    {
     "data": {
      "application/javascript": [
       "\n",
       "            setTimeout(function() {\n",
       "                var nbb_cell_id = 2;\n",
       "                var nbb_unformatted_code = \"from cast.filters import PostFilter\\nfrom cast.filters import parse_date_facets\";\n",
       "                var nbb_formatted_code = \"from cast.filters import PostFilter\\nfrom cast.filters import parse_date_facets\";\n",
       "                var nbb_cells = Jupyter.notebook.get_cells();\n",
       "                for (var i = 0; i < nbb_cells.length; ++i) {\n",
       "                    if (nbb_cells[i].input_prompt_number == nbb_cell_id) {\n",
       "                        if (nbb_cells[i].get_text() == nbb_unformatted_code) {\n",
       "                             nbb_cells[i].set_text(nbb_formatted_code);\n",
       "                        }\n",
       "                        break;\n",
       "                    }\n",
       "                }\n",
       "            }, 500);\n",
       "            "
      ],
      "text/plain": [
       "<IPython.core.display.Javascript object>"
      ]
     },
     "metadata": {},
     "output_type": "display_data"
    }
   ],
   "source": [
    "from cast.filters import PostFilter\n",
    "from cast.filters import parse_date_facets"
   ]
  },
  {
   "cell_type": "code",
   "execution_count": 3,
   "id": "a58d0293",
   "metadata": {},
   "outputs": [
    {
     "data": {
      "text/plain": [
       "5"
      ]
     },
     "execution_count": 3,
     "metadata": {},
     "output_type": "execute_result"
    },
    {
     "data": {
      "application/javascript": [
       "\n",
       "            setTimeout(function() {\n",
       "                var nbb_cell_id = 3;\n",
       "                var nbb_unformatted_code = \"blog = Blog.objects.first()\\nqs = Post.objects.live().descendant_of(blog).order_by(\\\"-visible_date\\\")\\nqs.count()\";\n",
       "                var nbb_formatted_code = \"blog = Blog.objects.first()\\nqs = Post.objects.live().descendant_of(blog).order_by(\\\"-visible_date\\\")\\nqs.count()\";\n",
       "                var nbb_cells = Jupyter.notebook.get_cells();\n",
       "                for (var i = 0; i < nbb_cells.length; ++i) {\n",
       "                    if (nbb_cells[i].input_prompt_number == nbb_cell_id) {\n",
       "                        if (nbb_cells[i].get_text() == nbb_unformatted_code) {\n",
       "                             nbb_cells[i].set_text(nbb_formatted_code);\n",
       "                        }\n",
       "                        break;\n",
       "                    }\n",
       "                }\n",
       "            }, 500);\n",
       "            "
      ],
      "text/plain": [
       "<IPython.core.display.Javascript object>"
      ]
     },
     "metadata": {},
     "output_type": "display_data"
    }
   ],
   "source": [
    "blog = Blog.objects.first()\n",
    "qs = Post.objects.live().descendant_of(blog).order_by(\"-visible_date\")\n",
    "qs.count()"
   ]
  },
  {
   "cell_type": "code",
   "execution_count": 4,
   "id": "8b053e7b",
   "metadata": {},
   "outputs": [
    {
     "data": {
      "text/plain": [
       "<PageQuerySet [<Post: post with audio>, <Post: post with gallery>, <Post: post with image>, <Post: third post!>, <Post: my first post>]>"
      ]
     },
     "execution_count": 4,
     "metadata": {},
     "output_type": "execute_result"
    },
    {
     "data": {
      "application/javascript": [
       "\n",
       "            setTimeout(function() {\n",
       "                var nbb_cell_id = 4;\n",
       "                var nbb_unformatted_code = \"blog.published_posts\";\n",
       "                var nbb_formatted_code = \"blog.published_posts\";\n",
       "                var nbb_cells = Jupyter.notebook.get_cells();\n",
       "                for (var i = 0; i < nbb_cells.length; ++i) {\n",
       "                    if (nbb_cells[i].input_prompt_number == nbb_cell_id) {\n",
       "                        if (nbb_cells[i].get_text() == nbb_unformatted_code) {\n",
       "                             nbb_cells[i].set_text(nbb_formatted_code);\n",
       "                        }\n",
       "                        break;\n",
       "                    }\n",
       "                }\n",
       "            }, 500);\n",
       "            "
      ],
      "text/plain": [
       "<IPython.core.display.Javascript object>"
      ]
     },
     "metadata": {},
     "output_type": "display_data"
    }
   ],
   "source": [
    "blog.published_posts"
   ]
  },
  {
   "cell_type": "code",
   "execution_count": 12,
   "id": "54309c1c",
   "metadata": {},
   "outputs": [
    {
     "data": {
      "text/plain": [
       "<SearchResults []>"
      ]
     },
     "execution_count": 12,
     "metadata": {},
     "output_type": "execute_result"
    },
    {
     "data": {
      "application/javascript": [
       "\n",
       "            setTimeout(function() {\n",
       "                var nbb_cell_id = 12;\n",
       "                var nbb_unformatted_code = \"qs.search(\\\"blub\\\")\";\n",
       "                var nbb_formatted_code = \"qs.search(\\\"blub\\\")\";\n",
       "                var nbb_cells = Jupyter.notebook.get_cells();\n",
       "                for (var i = 0; i < nbb_cells.length; ++i) {\n",
       "                    if (nbb_cells[i].input_prompt_number == nbb_cell_id) {\n",
       "                        if (nbb_cells[i].get_text() == nbb_unformatted_code) {\n",
       "                             nbb_cells[i].set_text(nbb_formatted_code);\n",
       "                        }\n",
       "                        break;\n",
       "                    }\n",
       "                }\n",
       "            }, 500);\n",
       "            "
      ],
      "text/plain": [
       "<IPython.core.display.Javascript object>"
      ]
     },
     "metadata": {},
     "output_type": "display_data"
    }
   ],
   "source": [
    "qs.search(\"blub\")"
   ]
  },
  {
   "cell_type": "code",
   "execution_count": 14,
   "id": "58562092",
   "metadata": {},
   "outputs": [
    {
     "data": {
      "application/javascript": [
       "\n",
       "            setTimeout(function() {\n",
       "                var nbb_cell_id = 14;\n",
       "                var nbb_unformatted_code = \"post = Post.objects.get(slug=\\\"my-first-post\\\")\";\n",
       "                var nbb_formatted_code = \"post = Post.objects.get(slug=\\\"my-first-post\\\")\";\n",
       "                var nbb_cells = Jupyter.notebook.get_cells();\n",
       "                for (var i = 0; i < nbb_cells.length; ++i) {\n",
       "                    if (nbb_cells[i].input_prompt_number == nbb_cell_id) {\n",
       "                        if (nbb_cells[i].get_text() == nbb_unformatted_code) {\n",
       "                             nbb_cells[i].set_text(nbb_formatted_code);\n",
       "                        }\n",
       "                        break;\n",
       "                    }\n",
       "                }\n",
       "            }, 500);\n",
       "            "
      ],
      "text/plain": [
       "<IPython.core.display.Javascript object>"
      ]
     },
     "metadata": {},
     "output_type": "display_data"
    }
   ],
   "source": [
    "post = Post.objects.get(slug=\"my-first-post\")"
   ]
  },
  {
   "cell_type": "code",
   "execution_count": 18,
   "id": "b659f152",
   "metadata": {},
   "outputs": [
    {
     "name": "stdout",
     "output_type": "stream",
     "text": [
      "[]\n"
     ]
    },
    {
     "data": {
      "application/javascript": [
       "\n",
       "            setTimeout(function() {\n",
       "                var nbb_cell_id = 18;\n",
       "                var nbb_unformatted_code = \"print(post.body.raw_data)\";\n",
       "                var nbb_formatted_code = \"print(post.body.raw_data)\";\n",
       "                var nbb_cells = Jupyter.notebook.get_cells();\n",
       "                for (var i = 0; i < nbb_cells.length; ++i) {\n",
       "                    if (nbb_cells[i].input_prompt_number == nbb_cell_id) {\n",
       "                        if (nbb_cells[i].get_text() == nbb_unformatted_code) {\n",
       "                             nbb_cells[i].set_text(nbb_formatted_code);\n",
       "                        }\n",
       "                        break;\n",
       "                    }\n",
       "                }\n",
       "            }, 500);\n",
       "            "
      ],
      "text/plain": [
       "<IPython.core.display.Javascript object>"
      ]
     },
     "metadata": {},
     "output_type": "display_data"
    }
   ],
   "source": [
    "print(post.body.raw_data)"
   ]
  },
  {
   "cell_type": "code",
   "execution_count": 17,
   "id": "b3d3952f",
   "metadata": {},
   "outputs": [
    {
     "data": {
      "text/plain": [
       "'my first post'"
      ]
     },
     "execution_count": 17,
     "metadata": {},
     "output_type": "execute_result"
    },
    {
     "data": {
      "application/javascript": [
       "\n",
       "            setTimeout(function() {\n",
       "                var nbb_cell_id = 17;\n",
       "                var nbb_unformatted_code = \"post.title\";\n",
       "                var nbb_formatted_code = \"post.title\";\n",
       "                var nbb_cells = Jupyter.notebook.get_cells();\n",
       "                for (var i = 0; i < nbb_cells.length; ++i) {\n",
       "                    if (nbb_cells[i].input_prompt_number == nbb_cell_id) {\n",
       "                        if (nbb_cells[i].get_text() == nbb_unformatted_code) {\n",
       "                             nbb_cells[i].set_text(nbb_formatted_code);\n",
       "                        }\n",
       "                        break;\n",
       "                    }\n",
       "                }\n",
       "            }, 500);\n",
       "            "
      ],
      "text/plain": [
       "<IPython.core.display.Javascript object>"
      ]
     },
     "metadata": {},
     "output_type": "display_data"
    }
   ],
   "source": [
    "post.title"
   ]
  },
  {
   "cell_type": "code",
   "execution_count": 20,
   "id": "97d5a438",
   "metadata": {},
   "outputs": [
    {
     "data": {
      "text/plain": [
       "datetime.datetime(2021, 8, 4, 9, 39, 7, 185000, tzinfo=<UTC>)"
      ]
     },
     "execution_count": 20,
     "metadata": {},
     "output_type": "execute_result"
    },
    {
     "data": {
      "application/javascript": [
       "\n",
       "            setTimeout(function() {\n",
       "                var nbb_cell_id = 20;\n",
       "                var nbb_unformatted_code = \"blog.created\";\n",
       "                var nbb_formatted_code = \"blog.created\";\n",
       "                var nbb_cells = Jupyter.notebook.get_cells();\n",
       "                for (var i = 0; i < nbb_cells.length; ++i) {\n",
       "                    if (nbb_cells[i].input_prompt_number == nbb_cell_id) {\n",
       "                        if (nbb_cells[i].get_text() == nbb_unformatted_code) {\n",
       "                             nbb_cells[i].set_text(nbb_formatted_code);\n",
       "                        }\n",
       "                        break;\n",
       "                    }\n",
       "                }\n",
       "            }, 500);\n",
       "            "
      ],
      "text/plain": [
       "<IPython.core.display.Javascript object>"
      ]
     },
     "metadata": {},
     "output_type": "display_data"
    }
   ],
   "source": [
    "blog.created"
   ]
  },
  {
   "cell_type": "code",
   "execution_count": 22,
   "id": "db782545",
   "metadata": {},
   "outputs": [
    {
     "data": {
      "text/plain": [
       "['DEFAULT_PREVIEW_MODES',\n",
       " 'DoesNotExist',\n",
       " 'EXPLICIT_CHOICES',\n",
       " 'Meta',\n",
       " 'MultipleObjectsReturned',\n",
       " '__class__',\n",
       " '__delattr__',\n",
       " '__dict__',\n",
       " '__dir__',\n",
       " '__doc__',\n",
       " '__eq__',\n",
       " '__format__',\n",
       " '__ge__',\n",
       " '__getattribute__',\n",
       " '__getstate__',\n",
       " '__gt__',\n",
       " '__hash__',\n",
       " '__init__',\n",
       " '__init_subclass__',\n",
       " '__le__',\n",
       " '__lt__',\n",
       " '__module__',\n",
       " '__ne__',\n",
       " '__new__',\n",
       " '__reduce__',\n",
       " '__reduce_ex__',\n",
       " '__repr__',\n",
       " '__setattr__',\n",
       " '__setstate__',\n",
       " '__sizeof__',\n",
       " '__str__',\n",
       " '__subclasshook__',\n",
       " '__weakref__',\n",
       " '_check_column_name_clashes',\n",
       " '_check_constraints',\n",
       " '_check_default_pk',\n",
       " '_check_field_name_clashes',\n",
       " '_check_fields',\n",
       " '_check_id_field',\n",
       " '_check_index_together',\n",
       " '_check_indexes',\n",
       " '_check_local_fields',\n",
       " '_check_long_column_names',\n",
       " '_check_m2m_through_same_relationship',\n",
       " '_check_managers',\n",
       " '_check_model',\n",
       " '_check_model_name_db_lookup_clashes',\n",
       " '_check_ordering',\n",
       " '_check_property_name_related_field_accessor_clashes',\n",
       " '_check_search_fields',\n",
       " '_check_single_primary_key',\n",
       " '_check_swappable',\n",
       " '_check_unique_together',\n",
       " '_clean_parent_page_models',\n",
       " '_clean_subpage_models',\n",
       " '_db_connection',\n",
       " '_do_insert',\n",
       " '_do_update',\n",
       " '_get_FIELD_display',\n",
       " '_get_autogenerated_slug',\n",
       " '_get_basepath',\n",
       " '_get_children_path_interval',\n",
       " '_get_database_connection',\n",
       " '_get_database_cursor',\n",
       " '_get_dummy_header_url',\n",
       " '_get_dummy_headers',\n",
       " '_get_expr_references',\n",
       " '_get_lastpos_in_path',\n",
       " '_get_next_or_previous_by_FIELD',\n",
       " '_get_next_or_previous_in_order',\n",
       " '_get_parent_path_from_path',\n",
       " '_get_path',\n",
       " '_get_pk_val',\n",
       " '_get_serializable_model',\n",
       " '_get_site_root_paths',\n",
       " '_get_unique_checks',\n",
       " '_has_field',\n",
       " '_inc_path',\n",
       " '_int2str',\n",
       " '_meta',\n",
       " '_perform_date_checks',\n",
       " '_perform_unique_checks',\n",
       " '_prepare_pos_var',\n",
       " '_prepare_pos_var_for_add_sibling',\n",
       " '_prepare_pos_var_for_move',\n",
       " '_prepare_related_fields_for_save',\n",
       " '_process_foreign_keys',\n",
       " '_rewrite_node_path',\n",
       " '_save_parents',\n",
       " '_save_table',\n",
       " '_set_pk_val',\n",
       " '_slug_is_available',\n",
       " '_state',\n",
       " '_str2int',\n",
       " '_update_descendant_url_paths',\n",
       " '_valid_pos_for_add_sibling',\n",
       " '_valid_pos_for_move',\n",
       " '_valid_pos_for_sorted_add_sibling',\n",
       " '_valid_pos_for_sorted_move',\n",
       " 'add_child',\n",
       " 'add_root',\n",
       " 'add_sibling',\n",
       " 'ajax_template',\n",
       " 'alias_of',\n",
       " 'alias_of_id',\n",
       " 'aliases',\n",
       " 'aliases_homepage',\n",
       " 'allowed_parent_page_models',\n",
       " 'allowed_subpage_models',\n",
       " 'alphabet',\n",
       " 'approved_schedule',\n",
       " 'author',\n",
       " 'author_name',\n",
       " 'base_form_class',\n",
       " 'blog',\n",
       " 'cached_content_type',\n",
       " 'can_create_at',\n",
       " 'can_exist_under',\n",
       " 'can_move_to',\n",
       " 'check',\n",
       " 'clean',\n",
       " 'clean_fields',\n",
       " 'clean_parent_page_models',\n",
       " 'clean_subpage_models',\n",
       " 'comments',\n",
       " 'comments_enabled',\n",
       " 'content_panels',\n",
       " 'content_type',\n",
       " 'content_type_id',\n",
       " 'context_object_name',\n",
       " 'copy',\n",
       " 'copy_all_child_relations',\n",
       " 'copy_child_relation',\n",
       " 'copy_for_translation',\n",
       " 'creatable_subpage_models',\n",
       " 'create_alias',\n",
       " 'created',\n",
       " 'current_workflow_state',\n",
       " 'current_workflow_task',\n",
       " 'current_workflow_task_state',\n",
       " 'date_error_message',\n",
       " 'default_exclude_fields_in_copy',\n",
       " 'default_preview_mode',\n",
       " 'delete',\n",
       " 'depth',\n",
       " 'description',\n",
       " 'draft_title',\n",
       " 'dump_bulk',\n",
       " 'email',\n",
       " 'exclude_fields_in_copy',\n",
       " 'expire_at',\n",
       " 'expired',\n",
       " 'explicit',\n",
       " 'find_problems',\n",
       " 'first_published_at',\n",
       " 'fix_tree',\n",
       " 'formsubmission_set',\n",
       " 'from_db',\n",
       " 'from_json',\n",
       " 'from_serializable_data',\n",
       " 'full_clean',\n",
       " 'full_url',\n",
       " 'gap',\n",
       " 'get_absolute_url',\n",
       " 'get_admin_display_title',\n",
       " 'get_ancestors',\n",
       " 'get_annotated_list',\n",
       " 'get_annotated_list_qs',\n",
       " 'get_autocomplete_search_fields',\n",
       " 'get_cached_paths',\n",
       " 'get_children',\n",
       " 'get_children_count',\n",
       " 'get_context',\n",
       " 'get_database_vendor',\n",
       " 'get_default_locale',\n",
       " 'get_deferred_fields',\n",
       " 'get_depth',\n",
       " 'get_descendant_count',\n",
       " 'get_descendants',\n",
       " 'get_descendants_group_count',\n",
       " 'get_edit_handler',\n",
       " 'get_explicit_display',\n",
       " 'get_facet_counts',\n",
       " 'get_filterable_search_fields',\n",
       " 'get_first_child',\n",
       " 'get_first_root_node',\n",
       " 'get_first_sibling',\n",
       " 'get_foreign_keys',\n",
       " 'get_full_url',\n",
       " 'get_indexed_instance',\n",
       " 'get_indexed_objects',\n",
       " 'get_last_child',\n",
       " 'get_last_root_node',\n",
       " 'get_last_sibling',\n",
       " 'get_latest_revision',\n",
       " 'get_latest_revision_as_page',\n",
       " 'get_next_by_created',\n",
       " 'get_next_by_modified',\n",
       " 'get_next_sibling',\n",
       " 'get_next_siblings',\n",
       " 'get_parent',\n",
       " 'get_prev_sibling',\n",
       " 'get_prev_siblings',\n",
       " 'get_previous_by_created',\n",
       " 'get_previous_by_modified',\n",
       " 'get_root',\n",
       " 'get_root_nodes',\n",
       " 'get_search_fields',\n",
       " 'get_searchable_search_fields',\n",
       " 'get_selected_facet',\n",
       " 'get_siblings',\n",
       " 'get_site',\n",
       " 'get_sitemap_urls',\n",
       " 'get_sorted_pos_queryset',\n",
       " 'get_specific',\n",
       " 'get_static_site_paths',\n",
       " 'get_streamfield_names',\n",
       " 'get_template',\n",
       " 'get_translation',\n",
       " 'get_translation_model',\n",
       " 'get_translation_or_none',\n",
       " 'get_translations',\n",
       " 'get_tree',\n",
       " 'get_url',\n",
       " 'get_url_parts',\n",
       " 'get_verbose_name',\n",
       " 'get_view_restrictions',\n",
       " 'get_workflow',\n",
       " 'go_live_at',\n",
       " 'group_permissions',\n",
       " 'has_translation',\n",
       " 'has_unpublished_changes',\n",
       " 'has_unpublished_subtree',\n",
       " 'has_workflow',\n",
       " 'homepage',\n",
       " 'id',\n",
       " 'indexed_get_content_type',\n",
       " 'indexed_get_parent',\n",
       " 'indexed_get_toplevel_content_type',\n",
       " 'is_child_of',\n",
       " 'is_creatable',\n",
       " 'is_descendant_of',\n",
       " 'is_leaf',\n",
       " 'is_navigable',\n",
       " 'is_podcast',\n",
       " 'is_previewable',\n",
       " 'is_root',\n",
       " 'is_sibling_of',\n",
       " 'is_site_root',\n",
       " 'itunes_artwork',\n",
       " 'itunes_artwork_id',\n",
       " 'itunes_categories',\n",
       " 'itunes_categories_parsed',\n",
       " 'keywords',\n",
       " 'last_build_date',\n",
       " 'last_published_at',\n",
       " 'latest_revision_created_at',\n",
       " 'live',\n",
       " 'live_revision',\n",
       " 'live_revision_id',\n",
       " 'load_bulk',\n",
       " 'locale',\n",
       " 'locale_id',\n",
       " 'localized',\n",
       " 'localized_draft',\n",
       " 'locked',\n",
       " 'locked_at',\n",
       " 'locked_by',\n",
       " 'locked_by_id',\n",
       " 'make_preview_request',\n",
       " 'max_count',\n",
       " 'max_count_per_parent',\n",
       " 'modified',\n",
       " 'move',\n",
       " 'node_order_by',\n",
       " 'numchild',\n",
       " 'numconv_obj',\n",
       " 'numconv_obj_',\n",
       " 'objects',\n",
       " 'owner',\n",
       " 'owner_id',\n",
       " 'page_ptr',\n",
       " 'page_ptr_id',\n",
       " 'password_required_template',\n",
       " 'path',\n",
       " 'permissions_for_user',\n",
       " 'pk',\n",
       " 'post',\n",
       " 'prepare_database_save',\n",
       " 'preview_modes',\n",
       " 'promote_panels',\n",
       " 'published_posts',\n",
       " 'redirect_set',\n",
       " 'refresh_from_db',\n",
       " 'relative_url',\n",
       " 'revisions',\n",
       " 'route',\n",
       " 'save',\n",
       " 'save_base',\n",
       " 'save_revision',\n",
       " 'search_description',\n",
       " 'search_fields',\n",
       " 'seo_title',\n",
       " 'serializable_data',\n",
       " 'serializable_value',\n",
       " 'serve',\n",
       " 'serve_password_required_response',\n",
       " 'serve_preview',\n",
       " 'set_filter_context',\n",
       " 'set_url_path',\n",
       " 'settings_panels',\n",
       " 'show_in_menus',\n",
       " 'show_in_menus_default',\n",
       " 'sites_rooted_here',\n",
       " 'slug',\n",
       " 'specific',\n",
       " 'specific_class',\n",
       " 'specific_deferred',\n",
       " 'status_string',\n",
       " 'steplen',\n",
       " 'subpage_types',\n",
       " 'subscribers',\n",
       " 'template',\n",
       " 'title',\n",
       " 'to_json',\n",
       " 'translation_key',\n",
       " 'unique_error_message',\n",
       " 'unpublish',\n",
       " 'update_aliases',\n",
       " 'url',\n",
       " 'url_path',\n",
       " 'uuid',\n",
       " 'validate_unique',\n",
       " 'view_restrictions',\n",
       " 'with_content_json',\n",
       " 'workflow_in_progress',\n",
       " 'workflow_states',\n",
       " 'workflowpage']"
      ]
     },
     "execution_count": 22,
     "metadata": {},
     "output_type": "execute_result"
    },
    {
     "data": {
      "application/javascript": [
       "\n",
       "            setTimeout(function() {\n",
       "                var nbb_cell_id = 22;\n",
       "                var nbb_unformatted_code = \"dir(blog)\";\n",
       "                var nbb_formatted_code = \"dir(blog)\";\n",
       "                var nbb_cells = Jupyter.notebook.get_cells();\n",
       "                for (var i = 0; i < nbb_cells.length; ++i) {\n",
       "                    if (nbb_cells[i].input_prompt_number == nbb_cell_id) {\n",
       "                        if (nbb_cells[i].get_text() == nbb_unformatted_code) {\n",
       "                             nbb_cells[i].set_text(nbb_formatted_code);\n",
       "                        }\n",
       "                        break;\n",
       "                    }\n",
       "                }\n",
       "            }, 500);\n",
       "            "
      ],
      "text/plain": [
       "<IPython.core.display.Javascript object>"
      ]
     },
     "metadata": {},
     "output_type": "display_data"
    }
   ],
   "source": [
    "dir(blog)"
   ]
  },
  {
   "cell_type": "code",
   "execution_count": 24,
   "id": "6b239f74",
   "metadata": {},
   "outputs": [
    {
     "data": {
      "text/plain": [
       "datetime.datetime(2021, 8, 4, 9, 39, 11, 420244, tzinfo=<UTC>)"
      ]
     },
     "execution_count": 24,
     "metadata": {},
     "output_type": "execute_result"
    },
    {
     "data": {
      "application/javascript": [
       "\n",
       "            setTimeout(function() {\n",
       "                var nbb_cell_id = 24;\n",
       "                var nbb_unformatted_code = \"blog.first_published_at\";\n",
       "                var nbb_formatted_code = \"blog.first_published_at\";\n",
       "                var nbb_cells = Jupyter.notebook.get_cells();\n",
       "                for (var i = 0; i < nbb_cells.length; ++i) {\n",
       "                    if (nbb_cells[i].input_prompt_number == nbb_cell_id) {\n",
       "                        if (nbb_cells[i].get_text() == nbb_unformatted_code) {\n",
       "                             nbb_cells[i].set_text(nbb_formatted_code);\n",
       "                        }\n",
       "                        break;\n",
       "                    }\n",
       "                }\n",
       "            }, 500);\n",
       "            "
      ],
      "text/plain": [
       "<IPython.core.display.Javascript object>"
      ]
     },
     "metadata": {},
     "output_type": "display_data"
    }
   ],
   "source": [
    "blog.first_published_at"
   ]
  },
  {
   "cell_type": "code",
   "execution_count": 25,
   "id": "0cca1d2f",
   "metadata": {},
   "outputs": [
    {
     "data": {
      "application/javascript": [
       "\n",
       "            setTimeout(function() {\n",
       "                var nbb_cell_id = 25;\n",
       "                var nbb_unformatted_code = \"from django.http import QueryDict\";\n",
       "                var nbb_formatted_code = \"from django.http import QueryDict\";\n",
       "                var nbb_cells = Jupyter.notebook.get_cells();\n",
       "                for (var i = 0; i < nbb_cells.length; ++i) {\n",
       "                    if (nbb_cells[i].input_prompt_number == nbb_cell_id) {\n",
       "                        if (nbb_cells[i].get_text() == nbb_unformatted_code) {\n",
       "                             nbb_cells[i].set_text(nbb_formatted_code);\n",
       "                        }\n",
       "                        break;\n",
       "                    }\n",
       "                }\n",
       "            }, 500);\n",
       "            "
      ],
      "text/plain": [
       "<IPython.core.display.Javascript object>"
      ]
     },
     "metadata": {},
     "output_type": "display_data"
    }
   ],
   "source": [
    "from django.http import QueryDict"
   ]
  },
  {
   "cell_type": "code",
   "execution_count": 28,
   "id": "73d2c844",
   "metadata": {},
   "outputs": [
    {
     "name": "stdout",
     "output_type": "stream",
     "text": [
      "None\n"
     ]
    },
    {
     "data": {
      "application/javascript": [
       "\n",
       "            setTimeout(function() {\n",
       "                var nbb_cell_id = 28;\n",
       "                var nbb_unformatted_code = \"print(QueryDict(\\\"\\\").get(\\\"facet_counts\\\"))\";\n",
       "                var nbb_formatted_code = \"print(QueryDict(\\\"\\\").get(\\\"facet_counts\\\"))\";\n",
       "                var nbb_cells = Jupyter.notebook.get_cells();\n",
       "                for (var i = 0; i < nbb_cells.length; ++i) {\n",
       "                    if (nbb_cells[i].input_prompt_number == nbb_cell_id) {\n",
       "                        if (nbb_cells[i].get_text() == nbb_unformatted_code) {\n",
       "                             nbb_cells[i].set_text(nbb_formatted_code);\n",
       "                        }\n",
       "                        break;\n",
       "                    }\n",
       "                }\n",
       "            }, 500);\n",
       "            "
      ],
      "text/plain": [
       "<IPython.core.display.Javascript object>"
      ]
     },
     "metadata": {},
     "output_type": "display_data"
    }
   ],
   "source": [
    "print(QueryDict(\"\").get(\"facet_counts\"))"
   ]
  },
  {
   "cell_type": "code",
   "execution_count": 27,
   "id": "798f40dd",
   "metadata": {},
   "outputs": [
    {
     "data": {
      "application/javascript": [
       "\n",
       "            setTimeout(function() {\n",
       "                var nbb_cell_id = 27;\n",
       "                var nbb_unformatted_code = \"filterset = PostFilter(blog=blog, queryset=qs)\";\n",
       "                var nbb_formatted_code = \"filterset = PostFilter(blog=blog, queryset=qs)\";\n",
       "                var nbb_cells = Jupyter.notebook.get_cells();\n",
       "                for (var i = 0; i < nbb_cells.length; ++i) {\n",
       "                    if (nbb_cells[i].input_prompt_number == nbb_cell_id) {\n",
       "                        if (nbb_cells[i].get_text() == nbb_unformatted_code) {\n",
       "                             nbb_cells[i].set_text(nbb_formatted_code);\n",
       "                        }\n",
       "                        break;\n",
       "                    }\n",
       "                }\n",
       "            }, 500);\n",
       "            "
      ],
      "text/plain": [
       "<IPython.core.display.Javascript object>"
      ]
     },
     "metadata": {},
     "output_type": "display_data"
    }
   ],
   "source": [
    "filterset = PostFilter(blog=blog, queryset=qs)"
   ]
  },
  {
   "cell_type": "code",
   "execution_count": 29,
   "id": "f38f760a",
   "metadata": {},
   "outputs": [
    {
     "data": {
      "text/plain": [
       "5"
      ]
     },
     "execution_count": 29,
     "metadata": {},
     "output_type": "execute_result"
    },
    {
     "data": {
      "application/javascript": [
       "\n",
       "            setTimeout(function() {\n",
       "                var nbb_cell_id = 29;\n",
       "                var nbb_unformatted_code = \"filterset.qs.count()\";\n",
       "                var nbb_formatted_code = \"filterset.qs.count()\";\n",
       "                var nbb_cells = Jupyter.notebook.get_cells();\n",
       "                for (var i = 0; i < nbb_cells.length; ++i) {\n",
       "                    if (nbb_cells[i].input_prompt_number == nbb_cell_id) {\n",
       "                        if (nbb_cells[i].get_text() == nbb_unformatted_code) {\n",
       "                             nbb_cells[i].set_text(nbb_formatted_code);\n",
       "                        }\n",
       "                        break;\n",
       "                    }\n",
       "                }\n",
       "            }, 500);\n",
       "            "
      ],
      "text/plain": [
       "<IPython.core.display.Javascript object>"
      ]
     },
     "metadata": {},
     "output_type": "display_data"
    }
   ],
   "source": [
    "filterset.qs.count()"
   ]
  },
  {
   "cell_type": "code",
   "execution_count": 30,
   "id": "622f45a0",
   "metadata": {},
   "outputs": [
    {
     "data": {
      "text/plain": [
       "False"
      ]
     },
     "execution_count": 30,
     "metadata": {},
     "output_type": "execute_result"
    },
    {
     "data": {
      "application/javascript": [
       "\n",
       "            setTimeout(function() {\n",
       "                var nbb_cell_id = 30;\n",
       "                var nbb_unformatted_code = \"filterset.is_valid()\";\n",
       "                var nbb_formatted_code = \"filterset.is_valid()\";\n",
       "                var nbb_cells = Jupyter.notebook.get_cells();\n",
       "                for (var i = 0; i < nbb_cells.length; ++i) {\n",
       "                    if (nbb_cells[i].input_prompt_number == nbb_cell_id) {\n",
       "                        if (nbb_cells[i].get_text() == nbb_unformatted_code) {\n",
       "                             nbb_cells[i].set_text(nbb_formatted_code);\n",
       "                        }\n",
       "                        break;\n",
       "                    }\n",
       "                }\n",
       "            }, 500);\n",
       "            "
      ],
      "text/plain": [
       "<IPython.core.display.Javascript object>"
      ]
     },
     "metadata": {},
     "output_type": "display_data"
    }
   ],
   "source": [
    "filterset.is_valid()"
   ]
  },
  {
   "cell_type": "code",
   "execution_count": 35,
   "id": "489e0b39",
   "metadata": {},
   "outputs": [
    {
     "data": {
      "text/plain": [
       "False"
      ]
     },
     "execution_count": 35,
     "metadata": {},
     "output_type": "execute_result"
    },
    {
     "data": {
      "application/javascript": [
       "\n",
       "            setTimeout(function() {\n",
       "                var nbb_cell_id = 35;\n",
       "                var nbb_unformatted_code = \"filterset.is_bound\";\n",
       "                var nbb_formatted_code = \"filterset.is_bound\";\n",
       "                var nbb_cells = Jupyter.notebook.get_cells();\n",
       "                for (var i = 0; i < nbb_cells.length; ++i) {\n",
       "                    if (nbb_cells[i].input_prompt_number == nbb_cell_id) {\n",
       "                        if (nbb_cells[i].get_text() == nbb_unformatted_code) {\n",
       "                             nbb_cells[i].set_text(nbb_formatted_code);\n",
       "                        }\n",
       "                        break;\n",
       "                    }\n",
       "                }\n",
       "            }, 500);\n",
       "            "
      ],
      "text/plain": [
       "<IPython.core.display.Javascript object>"
      ]
     },
     "metadata": {},
     "output_type": "display_data"
    }
   ],
   "source": [
    "filterset.is_bound"
   ]
  },
  {
   "cell_type": "code",
   "execution_count": 12,
   "id": "2c590a1e",
   "metadata": {},
   "outputs": [
    {
     "data": {
      "application/javascript": [
       "\n",
       "            setTimeout(function() {\n",
       "                var nbb_cell_id = 12;\n",
       "                var nbb_unformatted_code = \"result = qs.search(\\\"foo\\\")\";\n",
       "                var nbb_formatted_code = \"result = qs.search(\\\"foo\\\")\";\n",
       "                var nbb_cells = Jupyter.notebook.get_cells();\n",
       "                for (var i = 0; i < nbb_cells.length; ++i) {\n",
       "                    if (nbb_cells[i].input_prompt_number == nbb_cell_id) {\n",
       "                        if (nbb_cells[i].get_text() == nbb_unformatted_code) {\n",
       "                             nbb_cells[i].set_text(nbb_formatted_code);\n",
       "                        }\n",
       "                        break;\n",
       "                    }\n",
       "                }\n",
       "            }, 500);\n",
       "            "
      ],
      "text/plain": [
       "<IPython.core.display.Javascript object>"
      ]
     },
     "metadata": {},
     "output_type": "display_data"
    }
   ],
   "source": [
    "result = qs.search(\"foo\")"
   ]
  },
  {
   "cell_type": "code",
   "execution_count": 13,
   "id": "f0d2fd8b",
   "metadata": {},
   "outputs": [
    {
     "data": {
      "text/plain": [
       "['__class__',\n",
       " '__delattr__',\n",
       " '__dict__',\n",
       " '__dir__',\n",
       " '__doc__',\n",
       " '__eq__',\n",
       " '__format__',\n",
       " '__ge__',\n",
       " '__getattribute__',\n",
       " '__getitem__',\n",
       " '__gt__',\n",
       " '__hash__',\n",
       " '__init__',\n",
       " '__init_subclass__',\n",
       " '__iter__',\n",
       " '__le__',\n",
       " '__len__',\n",
       " '__lt__',\n",
       " '__module__',\n",
       " '__ne__',\n",
       " '__new__',\n",
       " '__reduce__',\n",
       " '__reduce_ex__',\n",
       " '__repr__',\n",
       " '__setattr__',\n",
       " '__sizeof__',\n",
       " '__str__',\n",
       " '__subclasshook__',\n",
       " '__weakref__',\n",
       " '_clone',\n",
       " '_count_cache',\n",
       " '_do_count',\n",
       " '_do_search',\n",
       " '_results_cache',\n",
       " '_score_field',\n",
       " '_set_limits',\n",
       " 'annotate_score',\n",
       " 'backend',\n",
       " 'count',\n",
       " 'facet',\n",
       " 'get_queryset',\n",
       " 'prefetch_related',\n",
       " 'query_compiler',\n",
       " 'results',\n",
       " 'start',\n",
       " 'stop',\n",
       " 'supports_facet']"
      ]
     },
     "execution_count": 13,
     "metadata": {},
     "output_type": "execute_result"
    },
    {
     "data": {
      "application/javascript": [
       "\n",
       "            setTimeout(function() {\n",
       "                var nbb_cell_id = 13;\n",
       "                var nbb_unformatted_code = \"dir(result)\";\n",
       "                var nbb_formatted_code = \"dir(result)\";\n",
       "                var nbb_cells = Jupyter.notebook.get_cells();\n",
       "                for (var i = 0; i < nbb_cells.length; ++i) {\n",
       "                    if (nbb_cells[i].input_prompt_number == nbb_cell_id) {\n",
       "                        if (nbb_cells[i].get_text() == nbb_unformatted_code) {\n",
       "                             nbb_cells[i].set_text(nbb_formatted_code);\n",
       "                        }\n",
       "                        break;\n",
       "                    }\n",
       "                }\n",
       "            }, 500);\n",
       "            "
      ],
      "text/plain": [
       "<IPython.core.display.Javascript object>"
      ]
     },
     "metadata": {},
     "output_type": "display_data"
    }
   ],
   "source": [
    "dir(result)"
   ]
  },
  {
   "cell_type": "code",
   "execution_count": 14,
   "id": "aa6bee3a",
   "metadata": {},
   "outputs": [
    {
     "data": {
      "text/plain": [
       "<bound method BaseSearchResults.results of <SearchResults [<Post: new post>]>>"
      ]
     },
     "execution_count": 14,
     "metadata": {},
     "output_type": "execute_result"
    },
    {
     "data": {
      "application/javascript": [
       "\n",
       "            setTimeout(function() {\n",
       "                var nbb_cell_id = 14;\n",
       "                var nbb_unformatted_code = \"result.results\";\n",
       "                var nbb_formatted_code = \"result.results\";\n",
       "                var nbb_cells = Jupyter.notebook.get_cells();\n",
       "                for (var i = 0; i < nbb_cells.length; ++i) {\n",
       "                    if (nbb_cells[i].input_prompt_number == nbb_cell_id) {\n",
       "                        if (nbb_cells[i].get_text() == nbb_unformatted_code) {\n",
       "                             nbb_cells[i].set_text(nbb_formatted_code);\n",
       "                        }\n",
       "                        break;\n",
       "                    }\n",
       "                }\n",
       "            }, 500);\n",
       "            "
      ],
      "text/plain": [
       "<IPython.core.display.Javascript object>"
      ]
     },
     "metadata": {},
     "output_type": "display_data"
    }
   ],
   "source": [
    "result.results"
   ]
  },
  {
   "cell_type": "code",
   "execution_count": 15,
   "id": "e1614d89",
   "metadata": {},
   "outputs": [
    {
     "data": {
      "text/plain": [
       "<PageQuerySet [<Post: new post>]>"
      ]
     },
     "execution_count": 15,
     "metadata": {},
     "output_type": "execute_result"
    },
    {
     "data": {
      "application/javascript": [
       "\n",
       "            setTimeout(function() {\n",
       "                var nbb_cell_id = 15;\n",
       "                var nbb_unformatted_code = \"result.get_queryset()\";\n",
       "                var nbb_formatted_code = \"result.get_queryset()\";\n",
       "                var nbb_cells = Jupyter.notebook.get_cells();\n",
       "                for (var i = 0; i < nbb_cells.length; ++i) {\n",
       "                    if (nbb_cells[i].input_prompt_number == nbb_cell_id) {\n",
       "                        if (nbb_cells[i].get_text() == nbb_unformatted_code) {\n",
       "                             nbb_cells[i].set_text(nbb_formatted_code);\n",
       "                        }\n",
       "                        break;\n",
       "                    }\n",
       "                }\n",
       "            }, 500);\n",
       "            "
      ],
      "text/plain": [
       "<IPython.core.display.Javascript object>"
      ]
     },
     "metadata": {},
     "output_type": "display_data"
    }
   ],
   "source": [
    "result.get_queryset()"
   ]
  },
  {
   "cell_type": "code",
   "execution_count": 16,
   "id": "e263b984",
   "metadata": {},
   "outputs": [
    {
     "data": {
      "text/plain": [
       "'/mein-kleines-blog/'"
      ]
     },
     "execution_count": 16,
     "metadata": {},
     "output_type": "execute_result"
    },
    {
     "data": {
      "application/javascript": [
       "\n",
       "            setTimeout(function() {\n",
       "                var nbb_cell_id = 16;\n",
       "                var nbb_unformatted_code = \"blog.get_url()\";\n",
       "                var nbb_formatted_code = \"blog.get_url()\";\n",
       "                var nbb_cells = Jupyter.notebook.get_cells();\n",
       "                for (var i = 0; i < nbb_cells.length; ++i) {\n",
       "                    if (nbb_cells[i].input_prompt_number == nbb_cell_id) {\n",
       "                        if (nbb_cells[i].get_text() == nbb_unformatted_code) {\n",
       "                             nbb_cells[i].set_text(nbb_formatted_code);\n",
       "                        }\n",
       "                        break;\n",
       "                    }\n",
       "                }\n",
       "            }, 500);\n",
       "            "
      ],
      "text/plain": [
       "<IPython.core.display.Javascript object>"
      ]
     },
     "metadata": {},
     "output_type": "display_data"
    }
   ],
   "source": [
    "blog.get_url()"
   ]
  },
  {
   "cell_type": "code",
   "execution_count": 10,
   "id": "ac79bc01",
   "metadata": {},
   "outputs": [
    {
     "data": {
      "text/plain": [
       "<SearchResults []>"
      ]
     },
     "execution_count": 10,
     "metadata": {},
     "output_type": "execute_result"
    },
    {
     "data": {
      "application/javascript": [
       "\n",
       "            setTimeout(function() {\n",
       "                var nbb_cell_id = 10;\n",
       "                var nbb_unformatted_code = \"qs.search(\\\"blub\\\")\";\n",
       "                var nbb_formatted_code = \"qs.search(\\\"blub\\\")\";\n",
       "                var nbb_cells = Jupyter.notebook.get_cells();\n",
       "                for (var i = 0; i < nbb_cells.length; ++i) {\n",
       "                    if (nbb_cells[i].input_prompt_number == nbb_cell_id) {\n",
       "                        if (nbb_cells[i].get_text() == nbb_unformatted_code) {\n",
       "                             nbb_cells[i].set_text(nbb_formatted_code);\n",
       "                        }\n",
       "                        break;\n",
       "                    }\n",
       "                }\n",
       "            }, 500);\n",
       "            "
      ],
      "text/plain": [
       "<IPython.core.display.Javascript object>"
      ]
     },
     "metadata": {},
     "output_type": "display_data"
    }
   ],
   "source": [
    "qs.search(\"blub\")"
   ]
  },
  {
   "cell_type": "code",
   "execution_count": null,
   "id": "85374de1",
   "metadata": {},
   "outputs": [],
   "source": []
  }
 ],
 "metadata": {
  "kernelspec": {
   "display_name": "Django Shell-Plus",
   "language": "python",
   "name": "django_extensions"
  },
  "language_info": {
   "codemirror_mode": {
    "name": "ipython",
    "version": 3
   },
   "file_extension": ".py",
   "mimetype": "text/x-python",
   "name": "python",
   "nbconvert_exporter": "python",
   "pygments_lexer": "ipython3",
   "version": "3.9.7"
  }
 },
 "nbformat": 4,
 "nbformat_minor": 5
}
