{
 "cells": [
  {
   "cell_type": "code",
   "execution_count": 1,
   "id": "97b60ba5",
   "metadata": {},
   "outputs": [
    {
     "data": {
      "application/javascript": [
       "\n",
       "            setTimeout(function() {\n",
       "                var nbb_cell_id = 1;\n",
       "                var nbb_unformatted_code = \"%load_ext nb_black\";\n",
       "                var nbb_formatted_code = \"%load_ext nb_black\";\n",
       "                var nbb_cells = Jupyter.notebook.get_cells();\n",
       "                for (var i = 0; i < nbb_cells.length; ++i) {\n",
       "                    if (nbb_cells[i].input_prompt_number == nbb_cell_id) {\n",
       "                        if (nbb_cells[i].get_text() == nbb_unformatted_code) {\n",
       "                             nbb_cells[i].set_text(nbb_formatted_code);\n",
       "                        }\n",
       "                        break;\n",
       "                    }\n",
       "                }\n",
       "            }, 500);\n",
       "            "
      ],
      "text/plain": [
       "<IPython.core.display.Javascript object>"
      ]
     },
     "metadata": {},
     "output_type": "display_data"
    }
   ],
   "source": [
    "%load_ext nb_black"
   ]
  },
  {
   "cell_type": "code",
   "execution_count": 26,
   "id": "969c4e91",
   "metadata": {},
   "outputs": [
    {
     "data": {
      "application/javascript": [
       "\n",
       "            setTimeout(function() {\n",
       "                var nbb_cell_id = 26;\n",
       "                var nbb_unformatted_code = \"from cast.filters import PostFilter\\nfrom cast.filters import parse_date_facets\";\n",
       "                var nbb_formatted_code = \"from cast.filters import PostFilter\\nfrom cast.filters import parse_date_facets\";\n",
       "                var nbb_cells = Jupyter.notebook.get_cells();\n",
       "                for (var i = 0; i < nbb_cells.length; ++i) {\n",
       "                    if (nbb_cells[i].input_prompt_number == nbb_cell_id) {\n",
       "                        if (nbb_cells[i].get_text() == nbb_unformatted_code) {\n",
       "                             nbb_cells[i].set_text(nbb_formatted_code);\n",
       "                        }\n",
       "                        break;\n",
       "                    }\n",
       "                }\n",
       "            }, 500);\n",
       "            "
      ],
      "text/plain": [
       "<IPython.core.display.Javascript object>"
      ]
     },
     "metadata": {},
     "output_type": "display_data"
    }
   ],
   "source": [
    "from cast.filters import PostFilter\n",
    "from cast.filters import parse_date_facets"
   ]
  },
  {
   "cell_type": "code",
   "execution_count": 2,
   "id": "3f162d25",
   "metadata": {},
   "outputs": [
    {
     "data": {
      "application/javascript": [
       "\n",
       "            setTimeout(function() {\n",
       "                var nbb_cell_id = 2;\n",
       "                var nbb_unformatted_code = \"def get_facet_counts(self, filterset_class, kwargs):\\n    \\\"\\\"\\\"This does a second pass over the queryset, yes. But facet counts\\n    are really nice to have, so it's worth it :).\\\"\\\"\\\"\\n    kwargs = {k: v for k, v in kwargs.items()}  # copy kwargs to avoid overwriting\\n\\n    # get selected facet if set and build the facet counting queryset\\n    facet_counts = {}\\n    selected_facet = self.get_selected_facet()\\n    if selected_facet is not None:\\n        facet_counts = {\\\"year_month\\\": {selected_facet: 1}}\\n    kwargs[\\\"facet_counts\\\"] = facet_counts\\n    post_filter = filterset_class(**kwargs)\\n    facet_queryset = (\\n        post_filter.qs.order_by()\\n        .annotate(month=TruncMonth(\\\"visible_date\\\"))\\n        .values(\\\"month\\\")\\n        .annotate(n=models.Count(\\\"pk\\\"))\\n    )\\n\\n    # build up the date facet counts for final filter pass\\n    year_month_counts = {}\\n    for row in facet_queryset:\\n        year_month_counts[row[\\\"month\\\"]] = row[\\\"n\\\"]\\n    return {\\\"year_month\\\": year_month_counts}\";\n",
       "                var nbb_formatted_code = \"def get_facet_counts(self, filterset_class, kwargs):\\n    \\\"\\\"\\\"This does a second pass over the queryset, yes. But facet counts\\n    are really nice to have, so it's worth it :).\\\"\\\"\\\"\\n    kwargs = {k: v for k, v in kwargs.items()}  # copy kwargs to avoid overwriting\\n\\n    # get selected facet if set and build the facet counting queryset\\n    facet_counts = {}\\n    selected_facet = self.get_selected_facet()\\n    if selected_facet is not None:\\n        facet_counts = {\\\"year_month\\\": {selected_facet: 1}}\\n    kwargs[\\\"facet_counts\\\"] = facet_counts\\n    post_filter = filterset_class(**kwargs)\\n    facet_queryset = (\\n        post_filter.qs.order_by()\\n        .annotate(month=TruncMonth(\\\"visible_date\\\"))\\n        .values(\\\"month\\\")\\n        .annotate(n=models.Count(\\\"pk\\\"))\\n    )\\n\\n    # build up the date facet counts for final filter pass\\n    year_month_counts = {}\\n    for row in facet_queryset:\\n        year_month_counts[row[\\\"month\\\"]] = row[\\\"n\\\"]\\n    return {\\\"year_month\\\": year_month_counts}\";\n",
       "                var nbb_cells = Jupyter.notebook.get_cells();\n",
       "                for (var i = 0; i < nbb_cells.length; ++i) {\n",
       "                    if (nbb_cells[i].input_prompt_number == nbb_cell_id) {\n",
       "                        if (nbb_cells[i].get_text() == nbb_unformatted_code) {\n",
       "                             nbb_cells[i].set_text(nbb_formatted_code);\n",
       "                        }\n",
       "                        break;\n",
       "                    }\n",
       "                }\n",
       "            }, 500);\n",
       "            "
      ],
      "text/plain": [
       "<IPython.core.display.Javascript object>"
      ]
     },
     "metadata": {},
     "output_type": "display_data"
    }
   ],
   "source": [
    "def get_facet_counts(self, filterset_class, kwargs):\n",
    "    kwargs = {k: v for k, v in kwargs.items()}  # copy kwargs to avoid overwriting\n",
    "\n",
    "    # get selected facet if set and build the facet counting queryset\n",
    "    facet_counts = {}\n",
    "    selected_facet = self.get_selected_facet()\n",
    "    if selected_facet is not None:\n",
    "        facet_counts = {\"year_month\": {selected_facet: 1}}\n",
    "    kwargs[\"facet_counts\"] = facet_counts\n",
    "    post_filter = filterset_class(**kwargs)\n",
    "    facet_queryset = (\n",
    "        post_filter.qs.order_by()\n",
    "        .annotate(month=TruncMonth(\"visible_date\"))\n",
    "        .values(\"month\")\n",
    "        .annotate(n=models.Count(\"pk\"))\n",
    "    )\n",
    "\n",
    "    # build up the date facet counts for final filter pass\n",
    "    year_month_counts = {}\n",
    "    for row in facet_queryset:\n",
    "        year_month_counts[row[\"month\"]] = row[\"n\"]\n",
    "    return {\"year_month\": year_month_counts}"
   ]
  },
  {
   "cell_type": "code",
   "execution_count": 16,
   "id": "be5ceb06",
   "metadata": {},
   "outputs": [
    {
     "data": {
      "application/javascript": [
       "\n",
       "            setTimeout(function() {\n",
       "                var nbb_cell_id = 16;\n",
       "                var nbb_unformatted_code = \"def get_selected_facet(self):\\n    \\\"\\\"\\\"Return the currently selected facet. Otherwise we would see\\n    all date facets that are choosable if no date facet was selected\\n    because in the final pass over the queryset facet_counts would be\\n    empty and the selected facet would not be accepted because it's\\n    not in the fields choices.\\\"\\\"\\\"\\n    data = self.request.GET or None\\n    if data is None:\\n        return None\\n    date_facet = data.get(\\\"date_facets\\\")\\n    if date_facet is None or len(date_facet) == 0:\\n        return None\\n    return parse_date_facets(date_facet)\";\n",
       "                var nbb_formatted_code = \"def get_selected_facet(self):\\n    \\\"\\\"\\\"Return the currently selected facet. Otherwise we would see\\n    all date facets that are choosable if no date facet was selected\\n    because in the final pass over the queryset facet_counts would be\\n    empty and the selected facet would not be accepted because it's\\n    not in the fields choices.\\\"\\\"\\\"\\n    data = self.request.GET or None\\n    if data is None:\\n        return None\\n    date_facet = data.get(\\\"date_facets\\\")\\n    if date_facet is None or len(date_facet) == 0:\\n        return None\\n    return parse_date_facets(date_facet)\";\n",
       "                var nbb_cells = Jupyter.notebook.get_cells();\n",
       "                for (var i = 0; i < nbb_cells.length; ++i) {\n",
       "                    if (nbb_cells[i].input_prompt_number == nbb_cell_id) {\n",
       "                        if (nbb_cells[i].get_text() == nbb_unformatted_code) {\n",
       "                             nbb_cells[i].set_text(nbb_formatted_code);\n",
       "                        }\n",
       "                        break;\n",
       "                    }\n",
       "                }\n",
       "            }, 500);\n",
       "            "
      ],
      "text/plain": [
       "<IPython.core.display.Javascript object>"
      ]
     },
     "metadata": {},
     "output_type": "display_data"
    }
   ],
   "source": [
    "def get_selected_facet(self):\n",
    "    \"\"\"Return the currently selected facet. Otherwise we would see\n",
    "    all date facets that are choosable if no date facet was selected\n",
    "    because in the final pass over the queryset facet_counts would be\n",
    "    empty and the selected facet would not be accepted because it's\n",
    "    not in the fields choices.\"\"\"\n",
    "    data = self.request.GET or None\n",
    "    if data is None:\n",
    "        return None\n",
    "    date_facet = data.get(\"date_facets\")\n",
    "    if date_facet is None or len(date_facet) == 0:\n",
    "        return None\n",
    "    return parse_date_facets(date_facet)"
   ]
  },
  {
   "cell_type": "code",
   "execution_count": 17,
   "id": "a58d0293",
   "metadata": {},
   "outputs": [
    {
     "data": {
      "application/javascript": [
       "\n",
       "            setTimeout(function() {\n",
       "                var nbb_cell_id = 17;\n",
       "                var nbb_unformatted_code = \"blog = Blog.objects.first()\";\n",
       "                var nbb_formatted_code = \"blog = Blog.objects.first()\";\n",
       "                var nbb_cells = Jupyter.notebook.get_cells();\n",
       "                for (var i = 0; i < nbb_cells.length; ++i) {\n",
       "                    if (nbb_cells[i].input_prompt_number == nbb_cell_id) {\n",
       "                        if (nbb_cells[i].get_text() == nbb_unformatted_code) {\n",
       "                             nbb_cells[i].set_text(nbb_formatted_code);\n",
       "                        }\n",
       "                        break;\n",
       "                    }\n",
       "                }\n",
       "            }, 500);\n",
       "            "
      ],
      "text/plain": [
       "<IPython.core.display.Javascript object>"
      ]
     },
     "metadata": {},
     "output_type": "display_data"
    }
   ],
   "source": [
    "blog = Blog.objects.first()"
   ]
  },
  {
   "cell_type": "code",
   "execution_count": 18,
   "id": "d8a551d1",
   "metadata": {},
   "outputs": [
    {
     "data": {
      "application/javascript": [
       "\n",
       "            setTimeout(function() {\n",
       "                var nbb_cell_id = 18;\n",
       "                var nbb_unformatted_code = \"class StubRequest:\\n    GET = {\\\"date_facets\\\": \\\"2021-07\\\"}\\n\\n\\nblog.request = StubRequest()\";\n",
       "                var nbb_formatted_code = \"class StubRequest:\\n    GET = {\\\"date_facets\\\": \\\"2021-07\\\"}\\n\\n\\nblog.request = StubRequest()\";\n",
       "                var nbb_cells = Jupyter.notebook.get_cells();\n",
       "                for (var i = 0; i < nbb_cells.length; ++i) {\n",
       "                    if (nbb_cells[i].input_prompt_number == nbb_cell_id) {\n",
       "                        if (nbb_cells[i].get_text() == nbb_unformatted_code) {\n",
       "                             nbb_cells[i].set_text(nbb_formatted_code);\n",
       "                        }\n",
       "                        break;\n",
       "                    }\n",
       "                }\n",
       "            }, 500);\n",
       "            "
      ],
      "text/plain": [
       "<IPython.core.display.Javascript object>"
      ]
     },
     "metadata": {},
     "output_type": "display_data"
    }
   ],
   "source": [
    "class StubRequest:\n",
    "    GET = {\"date_facets\": \"2021-07\"}\n",
    "\n",
    "\n",
    "blog.request = StubRequest()"
   ]
  },
  {
   "cell_type": "code",
   "execution_count": 19,
   "id": "caa12694",
   "metadata": {},
   "outputs": [
    {
     "name": "stdout",
     "output_type": "stream",
     "text": [
      "2021-07-01 00:00:00\n"
     ]
    },
    {
     "data": {
      "application/javascript": [
       "\n",
       "            setTimeout(function() {\n",
       "                var nbb_cell_id = 19;\n",
       "                var nbb_unformatted_code = \"print(get_selected_facet(blog))\";\n",
       "                var nbb_formatted_code = \"print(get_selected_facet(blog))\";\n",
       "                var nbb_cells = Jupyter.notebook.get_cells();\n",
       "                for (var i = 0; i < nbb_cells.length; ++i) {\n",
       "                    if (nbb_cells[i].input_prompt_number == nbb_cell_id) {\n",
       "                        if (nbb_cells[i].get_text() == nbb_unformatted_code) {\n",
       "                             nbb_cells[i].set_text(nbb_formatted_code);\n",
       "                        }\n",
       "                        break;\n",
       "                    }\n",
       "                }\n",
       "            }, 500);\n",
       "            "
      ],
      "text/plain": [
       "<IPython.core.display.Javascript object>"
      ]
     },
     "metadata": {},
     "output_type": "display_data"
    }
   ],
   "source": [
    "print(get_selected_facet(blog))"
   ]
  },
  {
   "cell_type": "code",
   "execution_count": 22,
   "id": "79957a4c",
   "metadata": {},
   "outputs": [
    {
     "data": {
      "application/javascript": [
       "\n",
       "            setTimeout(function() {\n",
       "                var nbb_cell_id = 22;\n",
       "                var nbb_unformatted_code = \"qs = Post.objects.live().descendant_of(blog).order_by(\\\"-visible_date\\\")\";\n",
       "                var nbb_formatted_code = \"qs = Post.objects.live().descendant_of(blog).order_by(\\\"-visible_date\\\")\";\n",
       "                var nbb_cells = Jupyter.notebook.get_cells();\n",
       "                for (var i = 0; i < nbb_cells.length; ++i) {\n",
       "                    if (nbb_cells[i].input_prompt_number == nbb_cell_id) {\n",
       "                        if (nbb_cells[i].get_text() == nbb_unformatted_code) {\n",
       "                             nbb_cells[i].set_text(nbb_formatted_code);\n",
       "                        }\n",
       "                        break;\n",
       "                    }\n",
       "                }\n",
       "            }, 500);\n",
       "            "
      ],
      "text/plain": [
       "<IPython.core.display.Javascript object>"
      ]
     },
     "metadata": {},
     "output_type": "display_data"
    }
   ],
   "source": [
    "qs = Post.objects.live().descendant_of(blog).order_by(\"-visible_date\")"
   ]
  },
  {
   "cell_type": "code",
   "execution_count": 23,
   "id": "1aaec620",
   "metadata": {},
   "outputs": [
    {
     "data": {
      "text/plain": [
       "5"
      ]
     },
     "execution_count": 23,
     "metadata": {},
     "output_type": "execute_result"
    },
    {
     "data": {
      "application/javascript": [
       "\n",
       "            setTimeout(function() {\n",
       "                var nbb_cell_id = 23;\n",
       "                var nbb_unformatted_code = \"qs.count()\";\n",
       "                var nbb_formatted_code = \"qs.count()\";\n",
       "                var nbb_cells = Jupyter.notebook.get_cells();\n",
       "                for (var i = 0; i < nbb_cells.length; ++i) {\n",
       "                    if (nbb_cells[i].input_prompt_number == nbb_cell_id) {\n",
       "                        if (nbb_cells[i].get_text() == nbb_unformatted_code) {\n",
       "                             nbb_cells[i].set_text(nbb_formatted_code);\n",
       "                        }\n",
       "                        break;\n",
       "                    }\n",
       "                }\n",
       "            }, 500);\n",
       "            "
      ],
      "text/plain": [
       "<IPython.core.display.Javascript object>"
      ]
     },
     "metadata": {},
     "output_type": "display_data"
    }
   ],
   "source": [
    "qs.count()"
   ]
  },
  {
   "cell_type": "code",
   "execution_count": 27,
   "id": "798f40dd",
   "metadata": {},
   "outputs": [
    {
     "data": {
      "application/javascript": [
       "\n",
       "            setTimeout(function() {\n",
       "                var nbb_cell_id = 27;\n",
       "                var nbb_unformatted_code = \"filterset = PostFilter(blog=blog, queryset=qs)\";\n",
       "                var nbb_formatted_code = \"filterset = PostFilter(blog=blog, queryset=qs)\";\n",
       "                var nbb_cells = Jupyter.notebook.get_cells();\n",
       "                for (var i = 0; i < nbb_cells.length; ++i) {\n",
       "                    if (nbb_cells[i].input_prompt_number == nbb_cell_id) {\n",
       "                        if (nbb_cells[i].get_text() == nbb_unformatted_code) {\n",
       "                             nbb_cells[i].set_text(nbb_formatted_code);\n",
       "                        }\n",
       "                        break;\n",
       "                    }\n",
       "                }\n",
       "            }, 500);\n",
       "            "
      ],
      "text/plain": [
       "<IPython.core.display.Javascript object>"
      ]
     },
     "metadata": {},
     "output_type": "display_data"
    }
   ],
   "source": [
    "filterset = PostFilter(blog=blog, queryset=qs)"
   ]
  },
  {
   "cell_type": "code",
   "execution_count": 29,
   "id": "f38f760a",
   "metadata": {},
   "outputs": [
    {
     "data": {
      "text/plain": [
       "5"
      ]
     },
     "execution_count": 29,
     "metadata": {},
     "output_type": "execute_result"
    },
    {
     "data": {
      "application/javascript": [
       "\n",
       "            setTimeout(function() {\n",
       "                var nbb_cell_id = 29;\n",
       "                var nbb_unformatted_code = \"filterset.qs.count()\";\n",
       "                var nbb_formatted_code = \"filterset.qs.count()\";\n",
       "                var nbb_cells = Jupyter.notebook.get_cells();\n",
       "                for (var i = 0; i < nbb_cells.length; ++i) {\n",
       "                    if (nbb_cells[i].input_prompt_number == nbb_cell_id) {\n",
       "                        if (nbb_cells[i].get_text() == nbb_unformatted_code) {\n",
       "                             nbb_cells[i].set_text(nbb_formatted_code);\n",
       "                        }\n",
       "                        break;\n",
       "                    }\n",
       "                }\n",
       "            }, 500);\n",
       "            "
      ],
      "text/plain": [
       "<IPython.core.display.Javascript object>"
      ]
     },
     "metadata": {},
     "output_type": "display_data"
    }
   ],
   "source": [
    "filterset.qs.count()"
   ]
  },
  {
   "cell_type": "code",
   "execution_count": 30,
   "id": "622f45a0",
   "metadata": {},
   "outputs": [
    {
     "data": {
      "text/plain": [
       "False"
      ]
     },
     "execution_count": 30,
     "metadata": {},
     "output_type": "execute_result"
    },
    {
     "data": {
      "application/javascript": [
       "\n",
       "            setTimeout(function() {\n",
       "                var nbb_cell_id = 30;\n",
       "                var nbb_unformatted_code = \"filterset.is_valid()\";\n",
       "                var nbb_formatted_code = \"filterset.is_valid()\";\n",
       "                var nbb_cells = Jupyter.notebook.get_cells();\n",
       "                for (var i = 0; i < nbb_cells.length; ++i) {\n",
       "                    if (nbb_cells[i].input_prompt_number == nbb_cell_id) {\n",
       "                        if (nbb_cells[i].get_text() == nbb_unformatted_code) {\n",
       "                             nbb_cells[i].set_text(nbb_formatted_code);\n",
       "                        }\n",
       "                        break;\n",
       "                    }\n",
       "                }\n",
       "            }, 500);\n",
       "            "
      ],
      "text/plain": [
       "<IPython.core.display.Javascript object>"
      ]
     },
     "metadata": {},
     "output_type": "display_data"
    }
   ],
   "source": [
    "filterset.is_valid()"
   ]
  },
  {
   "cell_type": "code",
   "execution_count": 35,
   "id": "489e0b39",
   "metadata": {},
   "outputs": [
    {
     "data": {
      "text/plain": [
       "False"
      ]
     },
     "execution_count": 35,
     "metadata": {},
     "output_type": "execute_result"
    },
    {
     "data": {
      "application/javascript": [
       "\n",
       "            setTimeout(function() {\n",
       "                var nbb_cell_id = 35;\n",
       "                var nbb_unformatted_code = \"filterset.is_bound\";\n",
       "                var nbb_formatted_code = \"filterset.is_bound\";\n",
       "                var nbb_cells = Jupyter.notebook.get_cells();\n",
       "                for (var i = 0; i < nbb_cells.length; ++i) {\n",
       "                    if (nbb_cells[i].input_prompt_number == nbb_cell_id) {\n",
       "                        if (nbb_cells[i].get_text() == nbb_unformatted_code) {\n",
       "                             nbb_cells[i].set_text(nbb_formatted_code);\n",
       "                        }\n",
       "                        break;\n",
       "                    }\n",
       "                }\n",
       "            }, 500);\n",
       "            "
      ],
      "text/plain": [
       "<IPython.core.display.Javascript object>"
      ]
     },
     "metadata": {},
     "output_type": "display_data"
    }
   ],
   "source": [
    "filterset.is_bound"
   ]
  },
  {
   "cell_type": "code",
   "execution_count": 38,
   "id": "2c590a1e",
   "metadata": {},
   "outputs": [
    {
     "data": {
      "text/plain": [
       "<SearchResults [<Post: post with audio>]>"
      ]
     },
     "execution_count": 38,
     "metadata": {},
     "output_type": "execute_result"
    },
    {
     "data": {
      "application/javascript": [
       "\n",
       "            setTimeout(function() {\n",
       "                var nbb_cell_id = 38;\n",
       "                var nbb_unformatted_code = \"qs.search(\\\"eindeutiges\\\")\";\n",
       "                var nbb_formatted_code = \"qs.search(\\\"eindeutiges\\\")\";\n",
       "                var nbb_cells = Jupyter.notebook.get_cells();\n",
       "                for (var i = 0; i < nbb_cells.length; ++i) {\n",
       "                    if (nbb_cells[i].input_prompt_number == nbb_cell_id) {\n",
       "                        if (nbb_cells[i].get_text() == nbb_unformatted_code) {\n",
       "                             nbb_cells[i].set_text(nbb_formatted_code);\n",
       "                        }\n",
       "                        break;\n",
       "                    }\n",
       "                }\n",
       "            }, 500);\n",
       "            "
      ],
      "text/plain": [
       "<IPython.core.display.Javascript object>"
      ]
     },
     "metadata": {},
     "output_type": "display_data"
    }
   ],
   "source": [
    "qs.search(\"eindeutiges\")"
   ]
  },
  {
   "cell_type": "code",
   "execution_count": null,
   "id": "f0d2fd8b",
   "metadata": {},
   "outputs": [],
   "source": []
  }
 ],
 "metadata": {
  "kernelspec": {
   "display_name": "Django Shell-Plus",
   "language": "python",
   "name": "django_extensions"
  },
  "language_info": {
   "codemirror_mode": {
    "name": "ipython",
    "version": 3
   },
   "file_extension": ".py",
   "mimetype": "text/x-python",
   "name": "python",
   "nbconvert_exporter": "python",
   "pygments_lexer": "ipython3",
   "version": "3.9.7"
  }
 },
 "nbformat": 4,
 "nbformat_minor": 5
}
