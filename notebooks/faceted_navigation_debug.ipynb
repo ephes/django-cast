{
 "cells": [
  {
   "cell_type": "code",
   "execution_count": 1,
   "id": "97b60ba5",
   "metadata": {},
   "outputs": [
    {
     "data": {
      "application/javascript": [
       "\n",
       "            setTimeout(function() {\n",
       "                var nbb_cell_id = 1;\n",
       "                var nbb_unformatted_code = \"%load_ext nb_black\";\n",
       "                var nbb_formatted_code = \"%load_ext nb_black\";\n",
       "                var nbb_cells = Jupyter.notebook.get_cells();\n",
       "                for (var i = 0; i < nbb_cells.length; ++i) {\n",
       "                    if (nbb_cells[i].input_prompt_number == nbb_cell_id) {\n",
       "                        if (nbb_cells[i].get_text() == nbb_unformatted_code) {\n",
       "                             nbb_cells[i].set_text(nbb_formatted_code);\n",
       "                        }\n",
       "                        break;\n",
       "                    }\n",
       "                }\n",
       "            }, 500);\n",
       "            "
      ],
      "text/plain": [
       "<IPython.core.display.Javascript object>"
      ]
     },
     "metadata": {},
     "output_type": "display_data"
    }
   ],
   "source": [
    "%load_ext nb_black"
   ]
  },
  {
   "cell_type": "code",
   "execution_count": 2,
   "id": "969c4e91",
   "metadata": {},
   "outputs": [
    {
     "data": {
      "application/javascript": [
       "\n",
       "            setTimeout(function() {\n",
       "                var nbb_cell_id = 2;\n",
       "                var nbb_unformatted_code = \"from cast.filters import PostFilter\\nfrom cast.filters import parse_date_facets\";\n",
       "                var nbb_formatted_code = \"from cast.filters import PostFilter\\nfrom cast.filters import parse_date_facets\";\n",
       "                var nbb_cells = Jupyter.notebook.get_cells();\n",
       "                for (var i = 0; i < nbb_cells.length; ++i) {\n",
       "                    if (nbb_cells[i].input_prompt_number == nbb_cell_id) {\n",
       "                        if (nbb_cells[i].get_text() == nbb_unformatted_code) {\n",
       "                             nbb_cells[i].set_text(nbb_formatted_code);\n",
       "                        }\n",
       "                        break;\n",
       "                    }\n",
       "                }\n",
       "            }, 500);\n",
       "            "
      ],
      "text/plain": [
       "<IPython.core.display.Javascript object>"
      ]
     },
     "metadata": {},
     "output_type": "display_data"
    }
   ],
   "source": [
    "from cast.filters import PostFilter\n",
    "from cast.filters import parse_date_facets"
   ]
  },
  {
   "cell_type": "code",
   "execution_count": 3,
   "id": "3f162d25",
   "metadata": {},
   "outputs": [
    {
     "data": {
      "application/javascript": [
       "\n",
       "            setTimeout(function() {\n",
       "                var nbb_cell_id = 3;\n",
       "                var nbb_unformatted_code = \"def get_facet_counts(self, filterset_class, kwargs):\\n    kwargs = {k: v for k, v in kwargs.items()}  # copy kwargs to avoid overwriting\\n\\n    # get selected facet if set and build the facet counting queryset\\n    facet_counts = {}\\n    selected_facet = self.get_selected_facet()\\n    if selected_facet is not None:\\n        facet_counts = {\\\"year_month\\\": {selected_facet: 1}}\\n    kwargs[\\\"facet_counts\\\"] = facet_counts\\n    post_filter = filterset_class(**kwargs)\\n    facet_queryset = (\\n        post_filter.qs.order_by()\\n        .annotate(month=TruncMonth(\\\"visible_date\\\"))\\n        .values(\\\"month\\\")\\n        .annotate(n=models.Count(\\\"pk\\\"))\\n    )\\n\\n    # build up the date facet counts for final filter pass\\n    year_month_counts = {}\\n    for row in facet_queryset:\\n        year_month_counts[row[\\\"month\\\"]] = row[\\\"n\\\"]\\n    return {\\\"year_month\\\": year_month_counts}\";\n",
       "                var nbb_formatted_code = \"def get_facet_counts(self, filterset_class, kwargs):\\n    kwargs = {k: v for k, v in kwargs.items()}  # copy kwargs to avoid overwriting\\n\\n    # get selected facet if set and build the facet counting queryset\\n    facet_counts = {}\\n    selected_facet = self.get_selected_facet()\\n    if selected_facet is not None:\\n        facet_counts = {\\\"year_month\\\": {selected_facet: 1}}\\n    kwargs[\\\"facet_counts\\\"] = facet_counts\\n    post_filter = filterset_class(**kwargs)\\n    facet_queryset = (\\n        post_filter.qs.order_by()\\n        .annotate(month=TruncMonth(\\\"visible_date\\\"))\\n        .values(\\\"month\\\")\\n        .annotate(n=models.Count(\\\"pk\\\"))\\n    )\\n\\n    # build up the date facet counts for final filter pass\\n    year_month_counts = {}\\n    for row in facet_queryset:\\n        year_month_counts[row[\\\"month\\\"]] = row[\\\"n\\\"]\\n    return {\\\"year_month\\\": year_month_counts}\";\n",
       "                var nbb_cells = Jupyter.notebook.get_cells();\n",
       "                for (var i = 0; i < nbb_cells.length; ++i) {\n",
       "                    if (nbb_cells[i].input_prompt_number == nbb_cell_id) {\n",
       "                        if (nbb_cells[i].get_text() == nbb_unformatted_code) {\n",
       "                             nbb_cells[i].set_text(nbb_formatted_code);\n",
       "                        }\n",
       "                        break;\n",
       "                    }\n",
       "                }\n",
       "            }, 500);\n",
       "            "
      ],
      "text/plain": [
       "<IPython.core.display.Javascript object>"
      ]
     },
     "metadata": {},
     "output_type": "display_data"
    }
   ],
   "source": [
    "def get_facet_counts(self, filterset_class, kwargs):\n",
    "    kwargs = {k: v for k, v in kwargs.items()}  # copy kwargs to avoid overwriting\n",
    "\n",
    "    # get selected facet if set and build the facet counting queryset\n",
    "    facet_counts = {}\n",
    "    selected_facet = self.get_selected_facet()\n",
    "    if selected_facet is not None:\n",
    "        facet_counts = {\"year_month\": {selected_facet: 1}}\n",
    "    kwargs[\"facet_counts\"] = facet_counts\n",
    "    post_filter = filterset_class(**kwargs)\n",
    "    facet_queryset = (\n",
    "        post_filter.qs.order_by()\n",
    "        .annotate(month=TruncMonth(\"visible_date\"))\n",
    "        .values(\"month\")\n",
    "        .annotate(n=models.Count(\"pk\"))\n",
    "    )\n",
    "\n",
    "    # build up the date facet counts for final filter pass\n",
    "    year_month_counts = {}\n",
    "    for row in facet_queryset:\n",
    "        year_month_counts[row[\"month\"]] = row[\"n\"]\n",
    "    return {\"year_month\": year_month_counts}"
   ]
  },
  {
   "cell_type": "code",
   "execution_count": 4,
   "id": "be5ceb06",
   "metadata": {},
   "outputs": [
    {
     "data": {
      "application/javascript": [
       "\n",
       "            setTimeout(function() {\n",
       "                var nbb_cell_id = 4;\n",
       "                var nbb_unformatted_code = \"def get_selected_facet(self):\\n    \\\"\\\"\\\"Return the currently selected facet. Otherwise we would see\\n    all date facets that are choosable if no date facet was selected\\n    because in the final pass over the queryset facet_counts would be\\n    empty and the selected facet would not be accepted because it's\\n    not in the fields choices.\\\"\\\"\\\"\\n    data = self.request.GET or None\\n    if data is None:\\n        return None\\n    date_facet = data.get(\\\"date_facets\\\")\\n    if date_facet is None or len(date_facet) == 0:\\n        return None\\n    return parse_date_facets(date_facet)\";\n",
       "                var nbb_formatted_code = \"def get_selected_facet(self):\\n    \\\"\\\"\\\"Return the currently selected facet. Otherwise we would see\\n    all date facets that are choosable if no date facet was selected\\n    because in the final pass over the queryset facet_counts would be\\n    empty and the selected facet would not be accepted because it's\\n    not in the fields choices.\\\"\\\"\\\"\\n    data = self.request.GET or None\\n    if data is None:\\n        return None\\n    date_facet = data.get(\\\"date_facets\\\")\\n    if date_facet is None or len(date_facet) == 0:\\n        return None\\n    return parse_date_facets(date_facet)\";\n",
       "                var nbb_cells = Jupyter.notebook.get_cells();\n",
       "                for (var i = 0; i < nbb_cells.length; ++i) {\n",
       "                    if (nbb_cells[i].input_prompt_number == nbb_cell_id) {\n",
       "                        if (nbb_cells[i].get_text() == nbb_unformatted_code) {\n",
       "                             nbb_cells[i].set_text(nbb_formatted_code);\n",
       "                        }\n",
       "                        break;\n",
       "                    }\n",
       "                }\n",
       "            }, 500);\n",
       "            "
      ],
      "text/plain": [
       "<IPython.core.display.Javascript object>"
      ]
     },
     "metadata": {},
     "output_type": "display_data"
    }
   ],
   "source": [
    "def get_selected_facet(self):\n",
    "    \"\"\"Return the currently selected facet. Otherwise we would see\n",
    "    all date facets that are choosable if no date facet was selected\n",
    "    because in the final pass over the queryset facet_counts would be\n",
    "    empty and the selected facet would not be accepted because it's\n",
    "    not in the fields choices.\"\"\"\n",
    "    data = self.request.GET or None\n",
    "    if data is None:\n",
    "        return None\n",
    "    date_facet = data.get(\"date_facets\")\n",
    "    if date_facet is None or len(date_facet) == 0:\n",
    "        return None\n",
    "    return parse_date_facets(date_facet)"
   ]
  },
  {
   "cell_type": "code",
   "execution_count": 5,
   "id": "a58d0293",
   "metadata": {},
   "outputs": [
    {
     "data": {
      "application/javascript": [
       "\n",
       "            setTimeout(function() {\n",
       "                var nbb_cell_id = 5;\n",
       "                var nbb_unformatted_code = \"blog = Blog.objects.first()\";\n",
       "                var nbb_formatted_code = \"blog = Blog.objects.first()\";\n",
       "                var nbb_cells = Jupyter.notebook.get_cells();\n",
       "                for (var i = 0; i < nbb_cells.length; ++i) {\n",
       "                    if (nbb_cells[i].input_prompt_number == nbb_cell_id) {\n",
       "                        if (nbb_cells[i].get_text() == nbb_unformatted_code) {\n",
       "                             nbb_cells[i].set_text(nbb_formatted_code);\n",
       "                        }\n",
       "                        break;\n",
       "                    }\n",
       "                }\n",
       "            }, 500);\n",
       "            "
      ],
      "text/plain": [
       "<IPython.core.display.Javascript object>"
      ]
     },
     "metadata": {},
     "output_type": "display_data"
    }
   ],
   "source": [
    "blog = Blog.objects.first()"
   ]
  },
  {
   "cell_type": "code",
   "execution_count": 6,
   "id": "d8a551d1",
   "metadata": {},
   "outputs": [
    {
     "data": {
      "application/javascript": [
       "\n",
       "            setTimeout(function() {\n",
       "                var nbb_cell_id = 6;\n",
       "                var nbb_unformatted_code = \"class StubRequest:\\n    GET = {\\\"date_facets\\\": \\\"2021-07\\\"}\\n\\n\\nblog.request = StubRequest()\";\n",
       "                var nbb_formatted_code = \"class StubRequest:\\n    GET = {\\\"date_facets\\\": \\\"2021-07\\\"}\\n\\n\\nblog.request = StubRequest()\";\n",
       "                var nbb_cells = Jupyter.notebook.get_cells();\n",
       "                for (var i = 0; i < nbb_cells.length; ++i) {\n",
       "                    if (nbb_cells[i].input_prompt_number == nbb_cell_id) {\n",
       "                        if (nbb_cells[i].get_text() == nbb_unformatted_code) {\n",
       "                             nbb_cells[i].set_text(nbb_formatted_code);\n",
       "                        }\n",
       "                        break;\n",
       "                    }\n",
       "                }\n",
       "            }, 500);\n",
       "            "
      ],
      "text/plain": [
       "<IPython.core.display.Javascript object>"
      ]
     },
     "metadata": {},
     "output_type": "display_data"
    }
   ],
   "source": [
    "class StubRequest:\n",
    "    GET = {\"date_facets\": \"2021-07\"}\n",
    "\n",
    "\n",
    "blog.request = StubRequest()"
   ]
  },
  {
   "cell_type": "code",
   "execution_count": 7,
   "id": "caa12694",
   "metadata": {},
   "outputs": [
    {
     "name": "stdout",
     "output_type": "stream",
     "text": [
      "2021-07-01 00:00:00\n"
     ]
    },
    {
     "data": {
      "application/javascript": [
       "\n",
       "            setTimeout(function() {\n",
       "                var nbb_cell_id = 7;\n",
       "                var nbb_unformatted_code = \"print(get_selected_facet(blog))\";\n",
       "                var nbb_formatted_code = \"print(get_selected_facet(blog))\";\n",
       "                var nbb_cells = Jupyter.notebook.get_cells();\n",
       "                for (var i = 0; i < nbb_cells.length; ++i) {\n",
       "                    if (nbb_cells[i].input_prompt_number == nbb_cell_id) {\n",
       "                        if (nbb_cells[i].get_text() == nbb_unformatted_code) {\n",
       "                             nbb_cells[i].set_text(nbb_formatted_code);\n",
       "                        }\n",
       "                        break;\n",
       "                    }\n",
       "                }\n",
       "            }, 500);\n",
       "            "
      ],
      "text/plain": [
       "<IPython.core.display.Javascript object>"
      ]
     },
     "metadata": {},
     "output_type": "display_data"
    }
   ],
   "source": [
    "print(get_selected_facet(blog))"
   ]
  },
  {
   "cell_type": "code",
   "execution_count": 8,
   "id": "79957a4c",
   "metadata": {},
   "outputs": [
    {
     "data": {
      "application/javascript": [
       "\n",
       "            setTimeout(function() {\n",
       "                var nbb_cell_id = 8;\n",
       "                var nbb_unformatted_code = \"qs = Post.objects.live().descendant_of(blog).order_by(\\\"-visible_date\\\")\";\n",
       "                var nbb_formatted_code = \"qs = Post.objects.live().descendant_of(blog).order_by(\\\"-visible_date\\\")\";\n",
       "                var nbb_cells = Jupyter.notebook.get_cells();\n",
       "                for (var i = 0; i < nbb_cells.length; ++i) {\n",
       "                    if (nbb_cells[i].input_prompt_number == nbb_cell_id) {\n",
       "                        if (nbb_cells[i].get_text() == nbb_unformatted_code) {\n",
       "                             nbb_cells[i].set_text(nbb_formatted_code);\n",
       "                        }\n",
       "                        break;\n",
       "                    }\n",
       "                }\n",
       "            }, 500);\n",
       "            "
      ],
      "text/plain": [
       "<IPython.core.display.Javascript object>"
      ]
     },
     "metadata": {},
     "output_type": "display_data"
    }
   ],
   "source": [
    "qs = Post.objects.live().descendant_of(blog).order_by(\"-visible_date\")"
   ]
  },
  {
   "cell_type": "code",
   "execution_count": 9,
   "id": "1aaec620",
   "metadata": {},
   "outputs": [
    {
     "data": {
      "text/plain": [
       "2"
      ]
     },
     "execution_count": 9,
     "metadata": {},
     "output_type": "execute_result"
    },
    {
     "data": {
      "application/javascript": [
       "\n",
       "            setTimeout(function() {\n",
       "                var nbb_cell_id = 9;\n",
       "                var nbb_unformatted_code = \"qs.count()\";\n",
       "                var nbb_formatted_code = \"qs.count()\";\n",
       "                var nbb_cells = Jupyter.notebook.get_cells();\n",
       "                for (var i = 0; i < nbb_cells.length; ++i) {\n",
       "                    if (nbb_cells[i].input_prompt_number == nbb_cell_id) {\n",
       "                        if (nbb_cells[i].get_text() == nbb_unformatted_code) {\n",
       "                             nbb_cells[i].set_text(nbb_formatted_code);\n",
       "                        }\n",
       "                        break;\n",
       "                    }\n",
       "                }\n",
       "            }, 500);\n",
       "            "
      ],
      "text/plain": [
       "<IPython.core.display.Javascript object>"
      ]
     },
     "metadata": {},
     "output_type": "display_data"
    }
   ],
   "source": [
    "qs.count()"
   ]
  },
  {
   "cell_type": "code",
   "execution_count": 27,
   "id": "798f40dd",
   "metadata": {},
   "outputs": [
    {
     "data": {
      "application/javascript": [
       "\n",
       "            setTimeout(function() {\n",
       "                var nbb_cell_id = 27;\n",
       "                var nbb_unformatted_code = \"filterset = PostFilter(blog=blog, queryset=qs)\";\n",
       "                var nbb_formatted_code = \"filterset = PostFilter(blog=blog, queryset=qs)\";\n",
       "                var nbb_cells = Jupyter.notebook.get_cells();\n",
       "                for (var i = 0; i < nbb_cells.length; ++i) {\n",
       "                    if (nbb_cells[i].input_prompt_number == nbb_cell_id) {\n",
       "                        if (nbb_cells[i].get_text() == nbb_unformatted_code) {\n",
       "                             nbb_cells[i].set_text(nbb_formatted_code);\n",
       "                        }\n",
       "                        break;\n",
       "                    }\n",
       "                }\n",
       "            }, 500);\n",
       "            "
      ],
      "text/plain": [
       "<IPython.core.display.Javascript object>"
      ]
     },
     "metadata": {},
     "output_type": "display_data"
    }
   ],
   "source": [
    "filterset = PostFilter(blog=blog, queryset=qs)"
   ]
  },
  {
   "cell_type": "code",
   "execution_count": 29,
   "id": "f38f760a",
   "metadata": {},
   "outputs": [
    {
     "data": {
      "text/plain": [
       "5"
      ]
     },
     "execution_count": 29,
     "metadata": {},
     "output_type": "execute_result"
    },
    {
     "data": {
      "application/javascript": [
       "\n",
       "            setTimeout(function() {\n",
       "                var nbb_cell_id = 29;\n",
       "                var nbb_unformatted_code = \"filterset.qs.count()\";\n",
       "                var nbb_formatted_code = \"filterset.qs.count()\";\n",
       "                var nbb_cells = Jupyter.notebook.get_cells();\n",
       "                for (var i = 0; i < nbb_cells.length; ++i) {\n",
       "                    if (nbb_cells[i].input_prompt_number == nbb_cell_id) {\n",
       "                        if (nbb_cells[i].get_text() == nbb_unformatted_code) {\n",
       "                             nbb_cells[i].set_text(nbb_formatted_code);\n",
       "                        }\n",
       "                        break;\n",
       "                    }\n",
       "                }\n",
       "            }, 500);\n",
       "            "
      ],
      "text/plain": [
       "<IPython.core.display.Javascript object>"
      ]
     },
     "metadata": {},
     "output_type": "display_data"
    }
   ],
   "source": [
    "filterset.qs.count()"
   ]
  },
  {
   "cell_type": "code",
   "execution_count": 30,
   "id": "622f45a0",
   "metadata": {},
   "outputs": [
    {
     "data": {
      "text/plain": [
       "False"
      ]
     },
     "execution_count": 30,
     "metadata": {},
     "output_type": "execute_result"
    },
    {
     "data": {
      "application/javascript": [
       "\n",
       "            setTimeout(function() {\n",
       "                var nbb_cell_id = 30;\n",
       "                var nbb_unformatted_code = \"filterset.is_valid()\";\n",
       "                var nbb_formatted_code = \"filterset.is_valid()\";\n",
       "                var nbb_cells = Jupyter.notebook.get_cells();\n",
       "                for (var i = 0; i < nbb_cells.length; ++i) {\n",
       "                    if (nbb_cells[i].input_prompt_number == nbb_cell_id) {\n",
       "                        if (nbb_cells[i].get_text() == nbb_unformatted_code) {\n",
       "                             nbb_cells[i].set_text(nbb_formatted_code);\n",
       "                        }\n",
       "                        break;\n",
       "                    }\n",
       "                }\n",
       "            }, 500);\n",
       "            "
      ],
      "text/plain": [
       "<IPython.core.display.Javascript object>"
      ]
     },
     "metadata": {},
     "output_type": "display_data"
    }
   ],
   "source": [
    "filterset.is_valid()"
   ]
  },
  {
   "cell_type": "code",
   "execution_count": 35,
   "id": "489e0b39",
   "metadata": {},
   "outputs": [
    {
     "data": {
      "text/plain": [
       "False"
      ]
     },
     "execution_count": 35,
     "metadata": {},
     "output_type": "execute_result"
    },
    {
     "data": {
      "application/javascript": [
       "\n",
       "            setTimeout(function() {\n",
       "                var nbb_cell_id = 35;\n",
       "                var nbb_unformatted_code = \"filterset.is_bound\";\n",
       "                var nbb_formatted_code = \"filterset.is_bound\";\n",
       "                var nbb_cells = Jupyter.notebook.get_cells();\n",
       "                for (var i = 0; i < nbb_cells.length; ++i) {\n",
       "                    if (nbb_cells[i].input_prompt_number == nbb_cell_id) {\n",
       "                        if (nbb_cells[i].get_text() == nbb_unformatted_code) {\n",
       "                             nbb_cells[i].set_text(nbb_formatted_code);\n",
       "                        }\n",
       "                        break;\n",
       "                    }\n",
       "                }\n",
       "            }, 500);\n",
       "            "
      ],
      "text/plain": [
       "<IPython.core.display.Javascript object>"
      ]
     },
     "metadata": {},
     "output_type": "display_data"
    }
   ],
   "source": [
    "filterset.is_bound"
   ]
  },
  {
   "cell_type": "code",
   "execution_count": 12,
   "id": "2c590a1e",
   "metadata": {},
   "outputs": [
    {
     "data": {
      "application/javascript": [
       "\n",
       "            setTimeout(function() {\n",
       "                var nbb_cell_id = 12;\n",
       "                var nbb_unformatted_code = \"result = qs.search(\\\"foo\\\")\";\n",
       "                var nbb_formatted_code = \"result = qs.search(\\\"foo\\\")\";\n",
       "                var nbb_cells = Jupyter.notebook.get_cells();\n",
       "                for (var i = 0; i < nbb_cells.length; ++i) {\n",
       "                    if (nbb_cells[i].input_prompt_number == nbb_cell_id) {\n",
       "                        if (nbb_cells[i].get_text() == nbb_unformatted_code) {\n",
       "                             nbb_cells[i].set_text(nbb_formatted_code);\n",
       "                        }\n",
       "                        break;\n",
       "                    }\n",
       "                }\n",
       "            }, 500);\n",
       "            "
      ],
      "text/plain": [
       "<IPython.core.display.Javascript object>"
      ]
     },
     "metadata": {},
     "output_type": "display_data"
    }
   ],
   "source": [
    "result = qs.search(\"foo\")"
   ]
  },
  {
   "cell_type": "code",
   "execution_count": 13,
   "id": "f0d2fd8b",
   "metadata": {},
   "outputs": [
    {
     "data": {
      "text/plain": [
       "['__class__',\n",
       " '__delattr__',\n",
       " '__dict__',\n",
       " '__dir__',\n",
       " '__doc__',\n",
       " '__eq__',\n",
       " '__format__',\n",
       " '__ge__',\n",
       " '__getattribute__',\n",
       " '__getitem__',\n",
       " '__gt__',\n",
       " '__hash__',\n",
       " '__init__',\n",
       " '__init_subclass__',\n",
       " '__iter__',\n",
       " '__le__',\n",
       " '__len__',\n",
       " '__lt__',\n",
       " '__module__',\n",
       " '__ne__',\n",
       " '__new__',\n",
       " '__reduce__',\n",
       " '__reduce_ex__',\n",
       " '__repr__',\n",
       " '__setattr__',\n",
       " '__sizeof__',\n",
       " '__str__',\n",
       " '__subclasshook__',\n",
       " '__weakref__',\n",
       " '_clone',\n",
       " '_count_cache',\n",
       " '_do_count',\n",
       " '_do_search',\n",
       " '_results_cache',\n",
       " '_score_field',\n",
       " '_set_limits',\n",
       " 'annotate_score',\n",
       " 'backend',\n",
       " 'count',\n",
       " 'facet',\n",
       " 'get_queryset',\n",
       " 'prefetch_related',\n",
       " 'query_compiler',\n",
       " 'results',\n",
       " 'start',\n",
       " 'stop',\n",
       " 'supports_facet']"
      ]
     },
     "execution_count": 13,
     "metadata": {},
     "output_type": "execute_result"
    },
    {
     "data": {
      "application/javascript": [
       "\n",
       "            setTimeout(function() {\n",
       "                var nbb_cell_id = 13;\n",
       "                var nbb_unformatted_code = \"dir(result)\";\n",
       "                var nbb_formatted_code = \"dir(result)\";\n",
       "                var nbb_cells = Jupyter.notebook.get_cells();\n",
       "                for (var i = 0; i < nbb_cells.length; ++i) {\n",
       "                    if (nbb_cells[i].input_prompt_number == nbb_cell_id) {\n",
       "                        if (nbb_cells[i].get_text() == nbb_unformatted_code) {\n",
       "                             nbb_cells[i].set_text(nbb_formatted_code);\n",
       "                        }\n",
       "                        break;\n",
       "                    }\n",
       "                }\n",
       "            }, 500);\n",
       "            "
      ],
      "text/plain": [
       "<IPython.core.display.Javascript object>"
      ]
     },
     "metadata": {},
     "output_type": "display_data"
    }
   ],
   "source": [
    "dir(result)"
   ]
  },
  {
   "cell_type": "code",
   "execution_count": 14,
   "id": "aa6bee3a",
   "metadata": {},
   "outputs": [
    {
     "data": {
      "text/plain": [
       "<bound method BaseSearchResults.results of <SearchResults [<Post: new post>]>>"
      ]
     },
     "execution_count": 14,
     "metadata": {},
     "output_type": "execute_result"
    },
    {
     "data": {
      "application/javascript": [
       "\n",
       "            setTimeout(function() {\n",
       "                var nbb_cell_id = 14;\n",
       "                var nbb_unformatted_code = \"result.results\";\n",
       "                var nbb_formatted_code = \"result.results\";\n",
       "                var nbb_cells = Jupyter.notebook.get_cells();\n",
       "                for (var i = 0; i < nbb_cells.length; ++i) {\n",
       "                    if (nbb_cells[i].input_prompt_number == nbb_cell_id) {\n",
       "                        if (nbb_cells[i].get_text() == nbb_unformatted_code) {\n",
       "                             nbb_cells[i].set_text(nbb_formatted_code);\n",
       "                        }\n",
       "                        break;\n",
       "                    }\n",
       "                }\n",
       "            }, 500);\n",
       "            "
      ],
      "text/plain": [
       "<IPython.core.display.Javascript object>"
      ]
     },
     "metadata": {},
     "output_type": "display_data"
    }
   ],
   "source": [
    "result.results"
   ]
  },
  {
   "cell_type": "code",
   "execution_count": 15,
   "id": "e1614d89",
   "metadata": {},
   "outputs": [
    {
     "data": {
      "text/plain": [
       "<PageQuerySet [<Post: new post>]>"
      ]
     },
     "execution_count": 15,
     "metadata": {},
     "output_type": "execute_result"
    },
    {
     "data": {
      "application/javascript": [
       "\n",
       "            setTimeout(function() {\n",
       "                var nbb_cell_id = 15;\n",
       "                var nbb_unformatted_code = \"result.get_queryset()\";\n",
       "                var nbb_formatted_code = \"result.get_queryset()\";\n",
       "                var nbb_cells = Jupyter.notebook.get_cells();\n",
       "                for (var i = 0; i < nbb_cells.length; ++i) {\n",
       "                    if (nbb_cells[i].input_prompt_number == nbb_cell_id) {\n",
       "                        if (nbb_cells[i].get_text() == nbb_unformatted_code) {\n",
       "                             nbb_cells[i].set_text(nbb_formatted_code);\n",
       "                        }\n",
       "                        break;\n",
       "                    }\n",
       "                }\n",
       "            }, 500);\n",
       "            "
      ],
      "text/plain": [
       "<IPython.core.display.Javascript object>"
      ]
     },
     "metadata": {},
     "output_type": "display_data"
    }
   ],
   "source": [
    "result.get_queryset()"
   ]
  },
  {
   "cell_type": "code",
   "execution_count": 16,
   "id": "e263b984",
   "metadata": {},
   "outputs": [
    {
     "data": {
      "text/plain": [
       "'/mein-kleines-blog/'"
      ]
     },
     "execution_count": 16,
     "metadata": {},
     "output_type": "execute_result"
    },
    {
     "data": {
      "application/javascript": [
       "\n",
       "            setTimeout(function() {\n",
       "                var nbb_cell_id = 16;\n",
       "                var nbb_unformatted_code = \"blog.get_url()\";\n",
       "                var nbb_formatted_code = \"blog.get_url()\";\n",
       "                var nbb_cells = Jupyter.notebook.get_cells();\n",
       "                for (var i = 0; i < nbb_cells.length; ++i) {\n",
       "                    if (nbb_cells[i].input_prompt_number == nbb_cell_id) {\n",
       "                        if (nbb_cells[i].get_text() == nbb_unformatted_code) {\n",
       "                             nbb_cells[i].set_text(nbb_formatted_code);\n",
       "                        }\n",
       "                        break;\n",
       "                    }\n",
       "                }\n",
       "            }, 500);\n",
       "            "
      ],
      "text/plain": [
       "<IPython.core.display.Javascript object>"
      ]
     },
     "metadata": {},
     "output_type": "display_data"
    }
   ],
   "source": [
    "blog.get_url()"
   ]
  },
  {
   "cell_type": "code",
   "execution_count": null,
   "id": "ac79bc01",
   "metadata": {},
   "outputs": [],
   "source": []
  }
 ],
 "metadata": {
  "kernelspec": {
   "display_name": "Django Shell-Plus",
   "language": "python",
   "name": "django_extensions"
  },
  "language_info": {
   "codemirror_mode": {
    "name": "ipython",
    "version": 3
   },
   "file_extension": ".py",
   "mimetype": "text/x-python",
   "name": "python",
   "nbconvert_exporter": "python",
   "pygments_lexer": "ipython3",
   "version": "3.9.7"
  }
 },
 "nbformat": 4,
 "nbformat_minor": 5
}
