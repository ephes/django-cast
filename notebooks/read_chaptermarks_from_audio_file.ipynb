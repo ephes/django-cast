{
 "cells": [
  {
   "cell_type": "code",
   "execution_count": 1,
   "id": "e9ac70a1",
   "metadata": {},
   "outputs": [
    {
     "data": {
      "application/javascript": [
       "\n",
       "            setTimeout(function() {\n",
       "                var nbb_cell_id = 1;\n",
       "                var nbb_unformatted_code = \"%load_ext nb_black\";\n",
       "                var nbb_formatted_code = \"%load_ext nb_black\";\n",
       "                var nbb_cells = Jupyter.notebook.get_cells();\n",
       "                for (var i = 0; i < nbb_cells.length; ++i) {\n",
       "                    if (nbb_cells[i].input_prompt_number == nbb_cell_id) {\n",
       "                        if (nbb_cells[i].get_text() == nbb_unformatted_code) {\n",
       "                             nbb_cells[i].set_text(nbb_formatted_code);\n",
       "                        }\n",
       "                        break;\n",
       "                    }\n",
       "                }\n",
       "            }, 500);\n",
       "            "
      ],
      "text/plain": [
       "<IPython.core.display.Javascript object>"
      ]
     },
     "metadata": {},
     "output_type": "display_data"
    }
   ],
   "source": [
    "%load_ext nb_black"
   ]
  },
  {
   "cell_type": "code",
   "execution_count": 2,
   "id": "7e1f6f3e",
   "metadata": {},
   "outputs": [
    {
     "data": {
      "application/javascript": [
       "\n",
       "            setTimeout(function() {\n",
       "                var nbb_cell_id = 2;\n",
       "                var nbb_unformatted_code = \"import json\\nimport subprocess\\n\\nfrom pathlib import Path\";\n",
       "                var nbb_formatted_code = \"import json\\nimport subprocess\\n\\nfrom pathlib import Path\";\n",
       "                var nbb_cells = Jupyter.notebook.get_cells();\n",
       "                for (var i = 0; i < nbb_cells.length; ++i) {\n",
       "                    if (nbb_cells[i].input_prompt_number == nbb_cell_id) {\n",
       "                        if (nbb_cells[i].get_text() == nbb_unformatted_code) {\n",
       "                             nbb_cells[i].set_text(nbb_formatted_code);\n",
       "                        }\n",
       "                        break;\n",
       "                    }\n",
       "                }\n",
       "            }, 500);\n",
       "            "
      ],
      "text/plain": [
       "<IPython.core.display.Javascript object>"
      ]
     },
     "metadata": {},
     "output_type": "display_data"
    }
   ],
   "source": [
    "import json\n",
    "import subprocess\n",
    "\n",
    "from pathlib import Path"
   ]
  },
  {
   "cell_type": "code",
   "execution_count": 18,
   "id": "da779e19",
   "metadata": {},
   "outputs": [
    {
     "data": {
      "application/javascript": [
       "\n",
       "            setTimeout(function() {\n",
       "                var nbb_cell_id = 18;\n",
       "                var nbb_unformatted_code = \"audio_path = Path(\\\"../example/media/cast_audio/pp_23_yfU6mVw.m4a\\\")\\nassert audio_path.exists()\\ncommand = [\\n    \\\"ffprobe\\\",\\n    \\\"-i\\\",\\n    str(audio_path),\\n    \\\"-print_format\\\",\\n    \\\"json\\\",\\n    \\\"-show_chapters\\\",\\n    \\\"-loglevel\\\",\\n    \\\"error\\\",\\n]\\njson_chapters = json.loads(\\n    subprocess.run(command, check=True, stdout=subprocess.PIPE).stdout\\n)\";\n",
       "                var nbb_formatted_code = \"audio_path = Path(\\\"../example/media/cast_audio/pp_23_yfU6mVw.m4a\\\")\\nassert audio_path.exists()\\ncommand = [\\n    \\\"ffprobe\\\",\\n    \\\"-i\\\",\\n    str(audio_path),\\n    \\\"-print_format\\\",\\n    \\\"json\\\",\\n    \\\"-show_chapters\\\",\\n    \\\"-loglevel\\\",\\n    \\\"error\\\",\\n]\\njson_chapters = json.loads(\\n    subprocess.run(command, check=True, stdout=subprocess.PIPE).stdout\\n)\";\n",
       "                var nbb_cells = Jupyter.notebook.get_cells();\n",
       "                for (var i = 0; i < nbb_cells.length; ++i) {\n",
       "                    if (nbb_cells[i].input_prompt_number == nbb_cell_id) {\n",
       "                        if (nbb_cells[i].get_text() == nbb_unformatted_code) {\n",
       "                             nbb_cells[i].set_text(nbb_formatted_code);\n",
       "                        }\n",
       "                        break;\n",
       "                    }\n",
       "                }\n",
       "            }, 500);\n",
       "            "
      ],
      "text/plain": [
       "<IPython.core.display.Javascript object>"
      ]
     },
     "metadata": {},
     "output_type": "display_data"
    }
   ],
   "source": [
    "audio_path = Path(\"../example/media/cast_audio/pp_23_yfU6mVw.m4a\")\n",
    "assert audio_path.exists()\n",
    "command = [\n",
    "    \"ffprobe\",\n",
    "    \"-i\",\n",
    "    str(audio_path),\n",
    "    \"-print_format\",\n",
    "    \"json\",\n",
    "    \"-show_chapters\",\n",
    "    \"-loglevel\",\n",
    "    \"error\",\n",
    "]\n",
    "json_chapters = json.loads(\n",
    "    subprocess.run(command, check=True, stdout=subprocess.PIPE).stdout\n",
    ")"
   ]
  },
  {
   "cell_type": "code",
   "execution_count": 19,
   "id": "3247d9ac",
   "metadata": {},
   "outputs": [
    {
     "data": {
      "text/plain": [
       "{'chapters': [{'id': 0,\n",
       "   'time_base': '1/1000',\n",
       "   'start': 0,\n",
       "   'start_time': '0.000000',\n",
       "   'end': 155343,\n",
       "   'end_time': '155.343000',\n",
       "   'tags': {'title': ''}},\n",
       "  {'id': 1,\n",
       "   'time_base': '1/1000',\n",
       "   'start': 155343,\n",
       "   'start_time': '155.343000',\n",
       "   'end': 617117,\n",
       "   'end_time': '617.117000',\n",
       "   'tags': {'title': 'News aus der Szene'}},\n",
       "  {'id': 2,\n",
       "   'time_base': '1/1000',\n",
       "   'start': 617117,\n",
       "   'start_time': '617.117000',\n",
       "   'end': 1266062,\n",
       "   'end_time': '1266.062000',\n",
       "   'tags': {'title': 'Django Async'}},\n",
       "  {'id': 3,\n",
       "   'time_base': '1/1000',\n",
       "   'start': 1266062,\n",
       "   'start_time': '1266.062000',\n",
       "   'end': 2313956,\n",
       "   'end_time': '2313.956000',\n",
       "   'tags': {'title': 'Parallelität vs Concurrency'}},\n",
       "  {'id': 4,\n",
       "   'time_base': '1/1000',\n",
       "   'start': 2313956,\n",
       "   'start_time': '2313.956000',\n",
       "   'end': 2623703,\n",
       "   'end_time': '2623.703000',\n",
       "   'tags': {'title': 'Concurrency'}},\n",
       "  {'id': 5,\n",
       "   'time_base': '1/1000',\n",
       "   'start': 2623703,\n",
       "   'start_time': '2623.703000',\n",
       "   'end': 3557820,\n",
       "   'end_time': '3557.820000',\n",
       "   'tags': {'title': 'Trio'}},\n",
       "  {'id': 6,\n",
       "   'time_base': '1/1000',\n",
       "   'start': 3557820,\n",
       "   'start_time': '3557.820000',\n",
       "   'end': 4255370,\n",
       "   'end_time': '4255.370000',\n",
       "   'tags': {'title': 'Django Async'}},\n",
       "  {'id': 7,\n",
       "   'time_base': '1/1000',\n",
       "   'start': 4255370,\n",
       "   'start_time': '4255.370000',\n",
       "   'end': 4528812,\n",
       "   'end_time': '4528.812000',\n",
       "   'tags': {'title': 'Elixir Phoenix'}},\n",
       "  {'id': 8,\n",
       "   'time_base': '1/1000',\n",
       "   'start': 4528812,\n",
       "   'start_time': '4528.812000',\n",
       "   'end': 4979409,\n",
       "   'end_time': '4979.409000',\n",
       "   'tags': {'title': 'Geschichte Async Python'}},\n",
       "  {'id': 9,\n",
       "   'time_base': '1/1000',\n",
       "   'start': 4979409,\n",
       "   'start_time': '4979.409000',\n",
       "   'end': 6020191,\n",
       "   'end_time': '6020.191000',\n",
       "   'tags': {'title': 'Cooperative vs Preemtive'}}]}"
      ]
     },
     "execution_count": 19,
     "metadata": {},
     "output_type": "execute_result"
    },
    {
     "data": {
      "application/javascript": [
       "\n",
       "            setTimeout(function() {\n",
       "                var nbb_cell_id = 19;\n",
       "                var nbb_unformatted_code = \"json_chapters\";\n",
       "                var nbb_formatted_code = \"json_chapters\";\n",
       "                var nbb_cells = Jupyter.notebook.get_cells();\n",
       "                for (var i = 0; i < nbb_cells.length; ++i) {\n",
       "                    if (nbb_cells[i].input_prompt_number == nbb_cell_id) {\n",
       "                        if (nbb_cells[i].get_text() == nbb_unformatted_code) {\n",
       "                             nbb_cells[i].set_text(nbb_formatted_code);\n",
       "                        }\n",
       "                        break;\n",
       "                    }\n",
       "                }\n",
       "            }, 500);\n",
       "            "
      ],
      "text/plain": [
       "<IPython.core.display.Javascript object>"
      ]
     },
     "metadata": {},
     "output_type": "display_data"
    }
   ],
   "source": [
    "json_chapters"
   ]
  },
  {
   "cell_type": "code",
   "execution_count": 24,
   "id": "70fb006b",
   "metadata": {},
   "outputs": [
    {
     "data": {
      "application/javascript": [
       "\n",
       "            setTimeout(function() {\n",
       "                var nbb_cell_id = 24;\n",
       "                var nbb_unformatted_code = \"cm = ChapterMark.objects.first()\";\n",
       "                var nbb_formatted_code = \"cm = ChapterMark.objects.first()\";\n",
       "                var nbb_cells = Jupyter.notebook.get_cells();\n",
       "                for (var i = 0; i < nbb_cells.length; ++i) {\n",
       "                    if (nbb_cells[i].input_prompt_number == nbb_cell_id) {\n",
       "                        if (nbb_cells[i].get_text() == nbb_unformatted_code) {\n",
       "                             nbb_cells[i].set_text(nbb_formatted_code);\n",
       "                        }\n",
       "                        break;\n",
       "                    }\n",
       "                }\n",
       "            }, 500);\n",
       "            "
      ],
      "text/plain": [
       "<IPython.core.display.Javascript object>"
      ]
     },
     "metadata": {},
     "output_type": "display_data"
    }
   ],
   "source": [
    "cm = ChapterMark.objects.first()"
   ]
  },
  {
   "cell_type": "code",
   "execution_count": 25,
   "id": "e0c665d1",
   "metadata": {},
   "outputs": [
    {
     "data": {
      "text/plain": [
       "datetime.time(0, 0, 28, 433000)"
      ]
     },
     "execution_count": 25,
     "metadata": {},
     "output_type": "execute_result"
    },
    {
     "data": {
      "application/javascript": [
       "\n",
       "            setTimeout(function() {\n",
       "                var nbb_cell_id = 25;\n",
       "                var nbb_unformatted_code = \"cm.start\";\n",
       "                var nbb_formatted_code = \"cm.start\";\n",
       "                var nbb_cells = Jupyter.notebook.get_cells();\n",
       "                for (var i = 0; i < nbb_cells.length; ++i) {\n",
       "                    if (nbb_cells[i].input_prompt_number == nbb_cell_id) {\n",
       "                        if (nbb_cells[i].get_text() == nbb_unformatted_code) {\n",
       "                             nbb_cells[i].set_text(nbb_formatted_code);\n",
       "                        }\n",
       "                        break;\n",
       "                    }\n",
       "                }\n",
       "            }, 500);\n",
       "            "
      ],
      "text/plain": [
       "<IPython.core.display.Javascript object>"
      ]
     },
     "metadata": {},
     "output_type": "display_data"
    }
   ],
   "source": [
    "cm.start"
   ]
  },
  {
   "cell_type": "code",
   "execution_count": 26,
   "id": "fb0c27ee",
   "metadata": {},
   "outputs": [
    {
     "data": {
      "application/javascript": [
       "\n",
       "            setTimeout(function() {\n",
       "                var nbb_cell_id = 26;\n",
       "                var nbb_unformatted_code = \"cmn = ChapterMark(start=\\\"28.433000\\\", title=\\\"foobar baz\\\")\";\n",
       "                var nbb_formatted_code = \"cmn = ChapterMark(start=\\\"28.433000\\\", title=\\\"foobar baz\\\")\";\n",
       "                var nbb_cells = Jupyter.notebook.get_cells();\n",
       "                for (var i = 0; i < nbb_cells.length; ++i) {\n",
       "                    if (nbb_cells[i].input_prompt_number == nbb_cell_id) {\n",
       "                        if (nbb_cells[i].get_text() == nbb_unformatted_code) {\n",
       "                             nbb_cells[i].set_text(nbb_formatted_code);\n",
       "                        }\n",
       "                        break;\n",
       "                    }\n",
       "                }\n",
       "            }, 500);\n",
       "            "
      ],
      "text/plain": [
       "<IPython.core.display.Javascript object>"
      ]
     },
     "metadata": {},
     "output_type": "display_data"
    }
   ],
   "source": [
    "cmn = ChapterMark(start=\"28.433000\", title=\"foobar baz\")"
   ]
  },
  {
   "cell_type": "code",
   "execution_count": 27,
   "id": "9d0bc2c5",
   "metadata": {},
   "outputs": [
    {
     "data": {
      "text/plain": [
       "'28.433000'"
      ]
     },
     "execution_count": 27,
     "metadata": {},
     "output_type": "execute_result"
    },
    {
     "data": {
      "application/javascript": [
       "\n",
       "            setTimeout(function() {\n",
       "                var nbb_cell_id = 27;\n",
       "                var nbb_unformatted_code = \"cmn.start\";\n",
       "                var nbb_formatted_code = \"cmn.start\";\n",
       "                var nbb_cells = Jupyter.notebook.get_cells();\n",
       "                for (var i = 0; i < nbb_cells.length; ++i) {\n",
       "                    if (nbb_cells[i].input_prompt_number == nbb_cell_id) {\n",
       "                        if (nbb_cells[i].get_text() == nbb_unformatted_code) {\n",
       "                             nbb_cells[i].set_text(nbb_formatted_code);\n",
       "                        }\n",
       "                        break;\n",
       "                    }\n",
       "                }\n",
       "            }, 500);\n",
       "            "
      ],
      "text/plain": [
       "<IPython.core.display.Javascript object>"
      ]
     },
     "metadata": {},
     "output_type": "display_data"
    }
   ],
   "source": [
    "cmn.start"
   ]
  },
  {
   "cell_type": "markdown",
   "id": "c41a888a",
   "metadata": {},
   "source": [
    "# parse chaptermarks from file"
   ]
  },
  {
   "cell_type": "code",
   "execution_count": 9,
   "id": "ea0bd1ee",
   "metadata": {},
   "outputs": [
    {
     "data": {
      "application/javascript": [
       "\n",
       "            setTimeout(function() {\n",
       "                var nbb_cell_id = 9;\n",
       "                var nbb_unformatted_code = \"audio = Audio.objects.first()\";\n",
       "                var nbb_formatted_code = \"audio = Audio.objects.first()\";\n",
       "                var nbb_cells = Jupyter.notebook.get_cells();\n",
       "                for (var i = 0; i < nbb_cells.length; ++i) {\n",
       "                    if (nbb_cells[i].input_prompt_number == nbb_cell_id) {\n",
       "                        if (nbb_cells[i].get_text() == nbb_unformatted_code) {\n",
       "                             nbb_cells[i].set_text(nbb_formatted_code);\n",
       "                        }\n",
       "                        break;\n",
       "                    }\n",
       "                }\n",
       "            }, 500);\n",
       "            "
      ],
      "text/plain": [
       "<IPython.core.display.Javascript object>"
      ]
     },
     "metadata": {},
     "output_type": "display_data"
    }
   ],
   "source": [
    "audio = Audio.objects.first()"
   ]
  },
  {
   "cell_type": "code",
   "execution_count": 11,
   "id": "f8a49d6e",
   "metadata": {},
   "outputs": [
    {
     "data": {
      "text/plain": [
       "'/media/cast_audio/pp_23_yfU6mVw.m4a'"
      ]
     },
     "execution_count": 11,
     "metadata": {},
     "output_type": "execute_result"
    },
    {
     "data": {
      "application/javascript": [
       "\n",
       "            setTimeout(function() {\n",
       "                var nbb_cell_id = 11;\n",
       "                var nbb_unformatted_code = \"audio.m4a.url\";\n",
       "                var nbb_formatted_code = \"audio.m4a.url\";\n",
       "                var nbb_cells = Jupyter.notebook.get_cells();\n",
       "                for (var i = 0; i < nbb_cells.length; ++i) {\n",
       "                    if (nbb_cells[i].input_prompt_number == nbb_cell_id) {\n",
       "                        if (nbb_cells[i].get_text() == nbb_unformatted_code) {\n",
       "                             nbb_cells[i].set_text(nbb_formatted_code);\n",
       "                        }\n",
       "                        break;\n",
       "                    }\n",
       "                }\n",
       "            }, 500);\n",
       "            "
      ],
      "text/plain": [
       "<IPython.core.display.Javascript object>"
      ]
     },
     "metadata": {},
     "output_type": "display_data"
    }
   ],
   "source": [
    "audio.m4a.url"
   ]
  },
  {
   "cell_type": "code",
   "execution_count": 16,
   "id": "94a24e39",
   "metadata": {},
   "outputs": [
    {
     "data": {
      "application/javascript": [
       "\n",
       "            setTimeout(function() {\n",
       "                var nbb_cell_id = 16;\n",
       "                var nbb_unformatted_code = \"command = [\\n    \\\"ffprobe\\\",\\n    \\\"-i\\\",\\n    f\\\"http://localhost:8000{audio.m4a.url}\\\",\\n    \\\"-print_format\\\",\\n    \\\"json\\\",\\n    \\\"-show_chapters\\\",\\n    \\\"-loglevel\\\",\\n    \\\"error\\\",\\n]\\njson_chapters = json.loads(\\n    subprocess.run(command, check=True, stdout=subprocess.PIPE).stdout\\n)\";\n",
       "                var nbb_formatted_code = \"command = [\\n    \\\"ffprobe\\\",\\n    \\\"-i\\\",\\n    f\\\"http://localhost:8000{audio.m4a.url}\\\",\\n    \\\"-print_format\\\",\\n    \\\"json\\\",\\n    \\\"-show_chapters\\\",\\n    \\\"-loglevel\\\",\\n    \\\"error\\\",\\n]\\njson_chapters = json.loads(\\n    subprocess.run(command, check=True, stdout=subprocess.PIPE).stdout\\n)\";\n",
       "                var nbb_cells = Jupyter.notebook.get_cells();\n",
       "                for (var i = 0; i < nbb_cells.length; ++i) {\n",
       "                    if (nbb_cells[i].input_prompt_number == nbb_cell_id) {\n",
       "                        if (nbb_cells[i].get_text() == nbb_unformatted_code) {\n",
       "                             nbb_cells[i].set_text(nbb_formatted_code);\n",
       "                        }\n",
       "                        break;\n",
       "                    }\n",
       "                }\n",
       "            }, 500);\n",
       "            "
      ],
      "text/plain": [
       "<IPython.core.display.Javascript object>"
      ]
     },
     "metadata": {},
     "output_type": "display_data"
    }
   ],
   "source": [
    "command = [\n",
    "    \"ffprobe\",\n",
    "    \"-i\",\n",
    "    f\"http://localhost:8000{audio.m4a.url}\",\n",
    "    \"-print_format\",\n",
    "    \"json\",\n",
    "    \"-show_chapters\",\n",
    "    \"-loglevel\",\n",
    "    \"error\",\n",
    "]\n",
    "json_chapters = json.loads(\n",
    "    subprocess.run(command, check=True, stdout=subprocess.PIPE).stdout\n",
    ")"
   ]
  },
  {
   "cell_type": "code",
   "execution_count": 17,
   "id": "63add6c3",
   "metadata": {},
   "outputs": [
    {
     "data": {
      "text/plain": [
       "{'chapters': []}"
      ]
     },
     "execution_count": 17,
     "metadata": {},
     "output_type": "execute_result"
    },
    {
     "data": {
      "application/javascript": [
       "\n",
       "            setTimeout(function() {\n",
       "                var nbb_cell_id = 17;\n",
       "                var nbb_unformatted_code = \"json_chapters\";\n",
       "                var nbb_formatted_code = \"json_chapters\";\n",
       "                var nbb_cells = Jupyter.notebook.get_cells();\n",
       "                for (var i = 0; i < nbb_cells.length; ++i) {\n",
       "                    if (nbb_cells[i].input_prompt_number == nbb_cell_id) {\n",
       "                        if (nbb_cells[i].get_text() == nbb_unformatted_code) {\n",
       "                             nbb_cells[i].set_text(nbb_formatted_code);\n",
       "                        }\n",
       "                        break;\n",
       "                    }\n",
       "                }\n",
       "            }, 500);\n",
       "            "
      ],
      "text/plain": [
       "<IPython.core.display.Javascript object>"
      ]
     },
     "metadata": {},
     "output_type": "display_data"
    }
   ],
   "source": [
    "json_chapters"
   ]
  },
  {
   "cell_type": "code",
   "execution_count": 20,
   "id": "be1964a9",
   "metadata": {},
   "outputs": [
    {
     "name": "stdout",
     "output_type": "stream",
     "text": [
      "http://localhost:8000/media/cast_audio/pp_23_yfU6mVw.m4a\n"
     ]
    },
    {
     "data": {
      "application/javascript": [
       "\n",
       "            setTimeout(function() {\n",
       "                var nbb_cell_id = 20;\n",
       "                var nbb_unformatted_code = \"print(f\\\"http://localhost:8000{audio.m4a.url}\\\")\";\n",
       "                var nbb_formatted_code = \"print(f\\\"http://localhost:8000{audio.m4a.url}\\\")\";\n",
       "                var nbb_cells = Jupyter.notebook.get_cells();\n",
       "                for (var i = 0; i < nbb_cells.length; ++i) {\n",
       "                    if (nbb_cells[i].input_prompt_number == nbb_cell_id) {\n",
       "                        if (nbb_cells[i].get_text() == nbb_unformatted_code) {\n",
       "                             nbb_cells[i].set_text(nbb_formatted_code);\n",
       "                        }\n",
       "                        break;\n",
       "                    }\n",
       "                }\n",
       "            }, 500);\n",
       "            "
      ],
      "text/plain": [
       "<IPython.core.display.Javascript object>"
      ]
     },
     "metadata": {},
     "output_type": "display_data"
    }
   ],
   "source": [
    "print(f\"http://localhost:8000{audio.m4a.url}\")"
   ]
  },
  {
   "cell_type": "code",
   "execution_count": 23,
   "id": "404d575d",
   "metadata": {},
   "outputs": [
    {
     "name": "stdout",
     "output_type": "stream",
     "text": [
      "mp3 cast_audio/pp_23_lWGM6z2.mp3\n",
      "m4a cast_audio/pp_23_yfU6mVw.m4a\n",
      "oga cast_audio/pp_23.ogg\n",
      "opus cast_audio/pp_23.opus\n"
     ]
    },
    {
     "data": {
      "application/javascript": [
       "\n",
       "            setTimeout(function() {\n",
       "                var nbb_cell_id = 23;\n",
       "                var nbb_unformatted_code = \"for name, field in audio.uploaded_audio_files:\\n    print(name, field)\";\n",
       "                var nbb_formatted_code = \"for name, field in audio.uploaded_audio_files:\\n    print(name, field)\";\n",
       "                var nbb_cells = Jupyter.notebook.get_cells();\n",
       "                for (var i = 0; i < nbb_cells.length; ++i) {\n",
       "                    if (nbb_cells[i].input_prompt_number == nbb_cell_id) {\n",
       "                        if (nbb_cells[i].get_text() == nbb_unformatted_code) {\n",
       "                             nbb_cells[i].set_text(nbb_formatted_code);\n",
       "                        }\n",
       "                        break;\n",
       "                    }\n",
       "                }\n",
       "            }, 500);\n",
       "            "
      ],
      "text/plain": [
       "<IPython.core.display.Javascript object>"
      ]
     },
     "metadata": {},
     "output_type": "display_data"
    }
   ],
   "source": [
    "for name, field in audio.uploaded_audio_files:\n",
    "    print(name, field)"
   ]
  },
  {
   "cell_type": "code",
   "execution_count": 34,
   "id": "4426cdf6",
   "metadata": {},
   "outputs": [
    {
     "data": {
      "application/javascript": [
       "\n",
       "            setTimeout(function() {\n",
       "                var nbb_cell_id = 34;\n",
       "                var nbb_unformatted_code = \"audio = Audio.objects.first()\";\n",
       "                var nbb_formatted_code = \"audio = Audio.objects.first()\";\n",
       "                var nbb_cells = Jupyter.notebook.get_cells();\n",
       "                for (var i = 0; i < nbb_cells.length; ++i) {\n",
       "                    if (nbb_cells[i].input_prompt_number == nbb_cell_id) {\n",
       "                        if (nbb_cells[i].get_text() == nbb_unformatted_code) {\n",
       "                             nbb_cells[i].set_text(nbb_formatted_code);\n",
       "                        }\n",
       "                        break;\n",
       "                    }\n",
       "                }\n",
       "            }, 500);\n",
       "            "
      ],
      "text/plain": [
       "<IPython.core.display.Javascript object>"
      ]
     },
     "metadata": {},
     "output_type": "display_data"
    }
   ],
   "source": [
    "audio = Audio.objects.first()"
   ]
  },
  {
   "cell_type": "code",
   "execution_count": 35,
   "id": "c4a4838e",
   "metadata": {},
   "outputs": [
    {
     "data": {
      "text/plain": [
       "['mp3', 'm4a', 'oga', 'opus']"
      ]
     },
     "execution_count": 35,
     "metadata": {},
     "output_type": "execute_result"
    },
    {
     "data": {
      "application/javascript": [
       "\n",
       "            setTimeout(function() {\n",
       "                var nbb_cell_id = 35;\n",
       "                var nbb_unformatted_code = \"audio.audio_formats\";\n",
       "                var nbb_formatted_code = \"audio.audio_formats\";\n",
       "                var nbb_cells = Jupyter.notebook.get_cells();\n",
       "                for (var i = 0; i < nbb_cells.length; ++i) {\n",
       "                    if (nbb_cells[i].input_prompt_number == nbb_cell_id) {\n",
       "                        if (nbb_cells[i].get_text() == nbb_unformatted_code) {\n",
       "                             nbb_cells[i].set_text(nbb_formatted_code);\n",
       "                        }\n",
       "                        break;\n",
       "                    }\n",
       "                }\n",
       "            }, 500);\n",
       "            "
      ],
      "text/plain": [
       "<IPython.core.display.Javascript object>"
      ]
     },
     "metadata": {},
     "output_type": "display_data"
    }
   ],
   "source": [
    "audio.audio_formats"
   ]
  },
  {
   "cell_type": "code",
   "execution_count": 86,
   "id": "05d6edbb",
   "metadata": {},
   "outputs": [
    {
     "data": {
      "application/javascript": [
       "\n",
       "            setTimeout(function() {\n",
       "                var nbb_cell_id = 86;\n",
       "                var nbb_unformatted_code = \"for cm in ChapterMark.objects.filter(title__contains=\\\"News\\\"):\\n    print(cm)\";\n",
       "                var nbb_formatted_code = \"for cm in ChapterMark.objects.filter(title__contains=\\\"News\\\"):\\n    print(cm)\";\n",
       "                var nbb_cells = Jupyter.notebook.get_cells();\n",
       "                for (var i = 0; i < nbb_cells.length; ++i) {\n",
       "                    if (nbb_cells[i].input_prompt_number == nbb_cell_id) {\n",
       "                        if (nbb_cells[i].get_text() == nbb_unformatted_code) {\n",
       "                             nbb_cells[i].set_text(nbb_formatted_code);\n",
       "                        }\n",
       "                        break;\n",
       "                    }\n",
       "                }\n",
       "            }, 500);\n",
       "            "
      ],
      "text/plain": [
       "<IPython.core.display.Javascript object>"
      ]
     },
     "metadata": {},
     "output_type": "display_data"
    }
   ],
   "source": [
    "for cm in ChapterMark.objects.filter(title__contains=\"News\"):\n",
    "    print(cm)"
   ]
  },
  {
   "cell_type": "code",
   "execution_count": 88,
   "id": "c2110528",
   "metadata": {},
   "outputs": [
    {
     "name": "stdout",
     "output_type": "stream",
     "text": [
      "1 00:00:44.387000 asdf\n",
      "2 00:08:55.883000 Gear Acquisition Syndrom\n",
      "3 00:20:03.130000 Impfstoff Codeanalyse\n",
      "4 00:31:47.231000 Wins and Fails\n",
      "5 02:00:01.358000 Picks\n"
     ]
    },
    {
     "data": {
      "application/javascript": [
       "\n",
       "            setTimeout(function() {\n",
       "                var nbb_cell_id = 88;\n",
       "                var nbb_unformatted_code = \"for cm in ChapterMark.objects.all():\\n    print(cm)\";\n",
       "                var nbb_formatted_code = \"for cm in ChapterMark.objects.all():\\n    print(cm)\";\n",
       "                var nbb_cells = Jupyter.notebook.get_cells();\n",
       "                for (var i = 0; i < nbb_cells.length; ++i) {\n",
       "                    if (nbb_cells[i].input_prompt_number == nbb_cell_id) {\n",
       "                        if (nbb_cells[i].get_text() == nbb_unformatted_code) {\n",
       "                             nbb_cells[i].set_text(nbb_formatted_code);\n",
       "                        }\n",
       "                        break;\n",
       "                    }\n",
       "                }\n",
       "            }, 500);\n",
       "            "
      ],
      "text/plain": [
       "<IPython.core.display.Javascript object>"
      ]
     },
     "metadata": {},
     "output_type": "display_data"
    }
   ],
   "source": [
    "for cm in ChapterMark.objects.all():\n",
    "    print(cm)"
   ]
  },
  {
   "cell_type": "code",
   "execution_count": 104,
   "id": "c8d0ebc0",
   "metadata": {},
   "outputs": [
    {
     "data": {
      "application/javascript": [
       "\n",
       "            setTimeout(function() {\n",
       "                var nbb_cell_id = 104;\n",
       "                var nbb_unformatted_code = \"form = ChapterMarkForm(dict(start=\\\"0:2:34.343\\\", title=\\\"News aus der Szene\\\"))\";\n",
       "                var nbb_formatted_code = \"form = ChapterMarkForm(dict(start=\\\"0:2:34.343\\\", title=\\\"News aus der Szene\\\"))\";\n",
       "                var nbb_cells = Jupyter.notebook.get_cells();\n",
       "                for (var i = 0; i < nbb_cells.length; ++i) {\n",
       "                    if (nbb_cells[i].input_prompt_number == nbb_cell_id) {\n",
       "                        if (nbb_cells[i].get_text() == nbb_unformatted_code) {\n",
       "                             nbb_cells[i].set_text(nbb_formatted_code);\n",
       "                        }\n",
       "                        break;\n",
       "                    }\n",
       "                }\n",
       "            }, 500);\n",
       "            "
      ],
      "text/plain": [
       "<IPython.core.display.Javascript object>"
      ]
     },
     "metadata": {},
     "output_type": "display_data"
    }
   ],
   "source": [
    "form = ChapterMarkForm(dict(start=\"0:2:34.343\", title=\"News aus der Szene\"))"
   ]
  },
  {
   "cell_type": "code",
   "execution_count": 105,
   "id": "636f89d2",
   "metadata": {},
   "outputs": [
    {
     "data": {
      "text/plain": [
       "True"
      ]
     },
     "execution_count": 105,
     "metadata": {},
     "output_type": "execute_result"
    },
    {
     "data": {
      "application/javascript": [
       "\n",
       "            setTimeout(function() {\n",
       "                var nbb_cell_id = 105;\n",
       "                var nbb_unformatted_code = \"form.is_valid()\";\n",
       "                var nbb_formatted_code = \"form.is_valid()\";\n",
       "                var nbb_cells = Jupyter.notebook.get_cells();\n",
       "                for (var i = 0; i < nbb_cells.length; ++i) {\n",
       "                    if (nbb_cells[i].input_prompt_number == nbb_cell_id) {\n",
       "                        if (nbb_cells[i].get_text() == nbb_unformatted_code) {\n",
       "                             nbb_cells[i].set_text(nbb_formatted_code);\n",
       "                        }\n",
       "                        break;\n",
       "                    }\n",
       "                }\n",
       "            }, 500);\n",
       "            "
      ],
      "text/plain": [
       "<IPython.core.display.Javascript object>"
      ]
     },
     "metadata": {},
     "output_type": "display_data"
    }
   ],
   "source": [
    "form.is_valid()"
   ]
  },
  {
   "cell_type": "code",
   "execution_count": 106,
   "id": "df08ca0d",
   "metadata": {},
   "outputs": [
    {
     "data": {
      "text/plain": [
       "{}"
      ]
     },
     "execution_count": 106,
     "metadata": {},
     "output_type": "execute_result"
    },
    {
     "data": {
      "application/javascript": [
       "\n",
       "            setTimeout(function() {\n",
       "                var nbb_cell_id = 106;\n",
       "                var nbb_unformatted_code = \"form.errors\";\n",
       "                var nbb_formatted_code = \"form.errors\";\n",
       "                var nbb_cells = Jupyter.notebook.get_cells();\n",
       "                for (var i = 0; i < nbb_cells.length; ++i) {\n",
       "                    if (nbb_cells[i].input_prompt_number == nbb_cell_id) {\n",
       "                        if (nbb_cells[i].get_text() == nbb_unformatted_code) {\n",
       "                             nbb_cells[i].set_text(nbb_formatted_code);\n",
       "                        }\n",
       "                        break;\n",
       "                    }\n",
       "                }\n",
       "            }, 500);\n",
       "            "
      ],
      "text/plain": [
       "<IPython.core.display.Javascript object>"
      ]
     },
     "metadata": {},
     "output_type": "display_data"
    }
   ],
   "source": [
    "form.errors"
   ]
  },
  {
   "cell_type": "code",
   "execution_count": 107,
   "id": "550a1336",
   "metadata": {},
   "outputs": [
    {
     "data": {
      "application/javascript": [
       "\n",
       "            setTimeout(function() {\n",
       "                var nbb_cell_id = 107;\n",
       "                var nbb_unformatted_code = \"audio = Audio.objects.first()\";\n",
       "                var nbb_formatted_code = \"audio = Audio.objects.first()\";\n",
       "                var nbb_cells = Jupyter.notebook.get_cells();\n",
       "                for (var i = 0; i < nbb_cells.length; ++i) {\n",
       "                    if (nbb_cells[i].input_prompt_number == nbb_cell_id) {\n",
       "                        if (nbb_cells[i].get_text() == nbb_unformatted_code) {\n",
       "                             nbb_cells[i].set_text(nbb_formatted_code);\n",
       "                        }\n",
       "                        break;\n",
       "                    }\n",
       "                }\n",
       "            }, 500);\n",
       "            "
      ],
      "text/plain": [
       "<IPython.core.display.Javascript object>"
      ]
     },
     "metadata": {},
     "output_type": "display_data"
    }
   ],
   "source": [
    "audio = Audio.objects.first()"
   ]
  },
  {
   "cell_type": "code",
   "execution_count": 108,
   "id": "606259de",
   "metadata": {},
   "outputs": [
    {
     "data": {
      "application/javascript": [
       "\n",
       "            setTimeout(function() {\n",
       "                var nbb_cell_id = 108;\n",
       "                var nbb_unformatted_code = \"cm = ChapterMark(audio=audio, start=\\\"0:0:155.343000\\\", title=\\\"News aus der Szene\\\")\";\n",
       "                var nbb_formatted_code = \"cm = ChapterMark(audio=audio, start=\\\"0:0:155.343000\\\", title=\\\"News aus der Szene\\\")\";\n",
       "                var nbb_cells = Jupyter.notebook.get_cells();\n",
       "                for (var i = 0; i < nbb_cells.length; ++i) {\n",
       "                    if (nbb_cells[i].input_prompt_number == nbb_cell_id) {\n",
       "                        if (nbb_cells[i].get_text() == nbb_unformatted_code) {\n",
       "                             nbb_cells[i].set_text(nbb_formatted_code);\n",
       "                        }\n",
       "                        break;\n",
       "                    }\n",
       "                }\n",
       "            }, 500);\n",
       "            "
      ],
      "text/plain": [
       "<IPython.core.display.Javascript object>"
      ]
     },
     "metadata": {},
     "output_type": "display_data"
    }
   ],
   "source": [
    "cm = ChapterMark(audio=audio, start=\"0:0:155.343000\", title=\"News aus der Szene\")"
   ]
  },
  {
   "cell_type": "code",
   "execution_count": 109,
   "id": "e9805bf6",
   "metadata": {},
   "outputs": [
    {
     "data": {
      "application/javascript": [
       "\n",
       "            setTimeout(function() {\n",
       "                var nbb_cell_id = 109;\n",
       "                var nbb_unformatted_code = \"cm.full_clean()\";\n",
       "                var nbb_formatted_code = \"cm.full_clean()\";\n",
       "                var nbb_cells = Jupyter.notebook.get_cells();\n",
       "                for (var i = 0; i < nbb_cells.length; ++i) {\n",
       "                    if (nbb_cells[i].input_prompt_number == nbb_cell_id) {\n",
       "                        if (nbb_cells[i].get_text() == nbb_unformatted_code) {\n",
       "                             nbb_cells[i].set_text(nbb_formatted_code);\n",
       "                        }\n",
       "                        break;\n",
       "                    }\n",
       "                }\n",
       "            }, 500);\n",
       "            "
      ],
      "text/plain": [
       "<IPython.core.display.Javascript object>"
      ]
     },
     "metadata": {},
     "output_type": "display_data"
    }
   ],
   "source": [
    "cm.full_clean()"
   ]
  },
  {
   "cell_type": "code",
   "execution_count": 110,
   "id": "078e9150",
   "metadata": {},
   "outputs": [
    {
     "data": {
      "text/plain": [
       "datetime.time(0, 0, 15)"
      ]
     },
     "execution_count": 110,
     "metadata": {},
     "output_type": "execute_result"
    },
    {
     "data": {
      "application/javascript": [
       "\n",
       "            setTimeout(function() {\n",
       "                var nbb_cell_id = 110;\n",
       "                var nbb_unformatted_code = \"cm.start\";\n",
       "                var nbb_formatted_code = \"cm.start\";\n",
       "                var nbb_cells = Jupyter.notebook.get_cells();\n",
       "                for (var i = 0; i < nbb_cells.length; ++i) {\n",
       "                    if (nbb_cells[i].input_prompt_number == nbb_cell_id) {\n",
       "                        if (nbb_cells[i].get_text() == nbb_unformatted_code) {\n",
       "                             nbb_cells[i].set_text(nbb_formatted_code);\n",
       "                        }\n",
       "                        break;\n",
       "                    }\n",
       "                }\n",
       "            }, 500);\n",
       "            "
      ],
      "text/plain": [
       "<IPython.core.display.Javascript object>"
      ]
     },
     "metadata": {},
     "output_type": "display_data"
    }
   ],
   "source": [
    "cm.start"
   ]
  },
  {
   "cell_type": "markdown",
   "id": "ac29b652",
   "metadata": {},
   "source": [
    "## convert start time to python"
   ]
  },
  {
   "cell_type": "code",
   "execution_count": 15,
   "id": "427384eb",
   "metadata": {},
   "outputs": [],
   "source": [
    "import time\n",
    "\n",
    "from datetime import timedelta, datetime"
   ]
  },
  {
   "cell_type": "code",
   "execution_count": 19,
   "id": "43f163b2",
   "metadata": {},
   "outputs": [
    {
     "data": {
      "text/plain": [
       "1632393922.067383"
      ]
     },
     "execution_count": 19,
     "metadata": {},
     "output_type": "execute_result"
    }
   ],
   "source": [
    "time.time()"
   ]
  },
  {
   "cell_type": "code",
   "execution_count": 14,
   "id": "5f7c7f13",
   "metadata": {},
   "outputs": [
    {
     "name": "stdout",
     "output_type": "stream",
     "text": [
      "Help on built-in function fromtimestamp:\n",
      "\n",
      "fromtimestamp(...) method of builtins.type instance\n",
      "    timestamp[, tz] -> tz's local time from POSIX timestamp.\n",
      "\n"
     ]
    }
   ],
   "source": [
    "help(datetime.fromtimestamp)"
   ]
  },
  {
   "cell_type": "code",
   "execution_count": 142,
   "id": "cb78ff6f",
   "metadata": {},
   "outputs": [
    {
     "data": {
      "text/plain": [
       "155.343"
      ]
     },
     "execution_count": 142,
     "metadata": {},
     "output_type": "execute_result"
    },
    {
     "data": {
      "application/javascript": [
       "\n",
       "            setTimeout(function() {\n",
       "                var nbb_cell_id = 142;\n",
       "                var nbb_unformatted_code = \"float(\\\"155.343\\\")\";\n",
       "                var nbb_formatted_code = \"float(\\\"155.343\\\")\";\n",
       "                var nbb_cells = Jupyter.notebook.get_cells();\n",
       "                for (var i = 0; i < nbb_cells.length; ++i) {\n",
       "                    if (nbb_cells[i].input_prompt_number == nbb_cell_id) {\n",
       "                        if (nbb_cells[i].get_text() == nbb_unformatted_code) {\n",
       "                             nbb_cells[i].set_text(nbb_formatted_code);\n",
       "                        }\n",
       "                        break;\n",
       "                    }\n",
       "                }\n",
       "            }, 500);\n",
       "            "
      ],
      "text/plain": [
       "<IPython.core.display.Javascript object>"
      ]
     },
     "metadata": {},
     "output_type": "display_data"
    }
   ],
   "source": [
    "float(\"155.343\")"
   ]
  },
  {
   "cell_type": "code",
   "execution_count": 144,
   "id": "f7503bba",
   "metadata": {},
   "outputs": [
    {
     "data": {
      "application/javascript": [
       "\n",
       "            setTimeout(function() {\n",
       "                var nbb_cell_id = 144;\n",
       "                var nbb_unformatted_code = \"start = datetime.datetime.fromtimestamp(float(\\\"155.343\\\")).time()\";\n",
       "                var nbb_formatted_code = \"start = datetime.datetime.fromtimestamp(float(\\\"155.343\\\")).time()\";\n",
       "                var nbb_cells = Jupyter.notebook.get_cells();\n",
       "                for (var i = 0; i < nbb_cells.length; ++i) {\n",
       "                    if (nbb_cells[i].input_prompt_number == nbb_cell_id) {\n",
       "                        if (nbb_cells[i].get_text() == nbb_unformatted_code) {\n",
       "                             nbb_cells[i].set_text(nbb_formatted_code);\n",
       "                        }\n",
       "                        break;\n",
       "                    }\n",
       "                }\n",
       "            }, 500);\n",
       "            "
      ],
      "text/plain": [
       "<IPython.core.display.Javascript object>"
      ]
     },
     "metadata": {},
     "output_type": "display_data"
    }
   ],
   "source": [
    "start = datetime.datetime.fromtimestamp(float(\"155.343\")).time()"
   ]
  },
  {
   "cell_type": "code",
   "execution_count": 148,
   "id": "8694aaed",
   "metadata": {},
   "outputs": [
    {
     "data": {
      "application/javascript": [
       "\n",
       "            setTimeout(function() {\n",
       "                var nbb_cell_id = 148;\n",
       "                var nbb_unformatted_code = \"form = ChapterMarkForm({\\\"start\\\": start.strftime(\\\"%H:%M:%S.%f\\\"), \\\"title\\\": \\\"News aus der Szene\\\"})\";\n",
       "                var nbb_formatted_code = \"form = ChapterMarkForm(\\n    {\\\"start\\\": start.strftime(\\\"%H:%M:%S.%f\\\"), \\\"title\\\": \\\"News aus der Szene\\\"}\\n)\";\n",
       "                var nbb_cells = Jupyter.notebook.get_cells();\n",
       "                for (var i = 0; i < nbb_cells.length; ++i) {\n",
       "                    if (nbb_cells[i].input_prompt_number == nbb_cell_id) {\n",
       "                        if (nbb_cells[i].get_text() == nbb_unformatted_code) {\n",
       "                             nbb_cells[i].set_text(nbb_formatted_code);\n",
       "                        }\n",
       "                        break;\n",
       "                    }\n",
       "                }\n",
       "            }, 500);\n",
       "            "
      ],
      "text/plain": [
       "<IPython.core.display.Javascript object>"
      ]
     },
     "metadata": {},
     "output_type": "display_data"
    }
   ],
   "source": [
    "form = ChapterMarkForm(\n",
    "    {\"start\": start.strftime(\"%H:%M:%S.%f\"), \"title\": \"News aus der Szene\"}\n",
    ")"
   ]
  },
  {
   "cell_type": "code",
   "execution_count": 149,
   "id": "48c16bae",
   "metadata": {},
   "outputs": [
    {
     "data": {
      "text/plain": [
       "True"
      ]
     },
     "execution_count": 149,
     "metadata": {},
     "output_type": "execute_result"
    },
    {
     "data": {
      "application/javascript": [
       "\n",
       "            setTimeout(function() {\n",
       "                var nbb_cell_id = 149;\n",
       "                var nbb_unformatted_code = \"form.is_valid()\";\n",
       "                var nbb_formatted_code = \"form.is_valid()\";\n",
       "                var nbb_cells = Jupyter.notebook.get_cells();\n",
       "                for (var i = 0; i < nbb_cells.length; ++i) {\n",
       "                    if (nbb_cells[i].input_prompt_number == nbb_cell_id) {\n",
       "                        if (nbb_cells[i].get_text() == nbb_unformatted_code) {\n",
       "                             nbb_cells[i].set_text(nbb_formatted_code);\n",
       "                        }\n",
       "                        break;\n",
       "                    }\n",
       "                }\n",
       "            }, 500);\n",
       "            "
      ],
      "text/plain": [
       "<IPython.core.display.Javascript object>"
      ]
     },
     "metadata": {},
     "output_type": "display_data"
    }
   ],
   "source": [
    "form.is_valid()"
   ]
  },
  {
   "cell_type": "code",
   "execution_count": 1,
   "id": "cc6ce9f2",
   "metadata": {},
   "outputs": [],
   "source": [
    "from cast.wagtail_forms import FFProbeChapterMarkForm"
   ]
  },
  {
   "cell_type": "code",
   "execution_count": 2,
   "id": "c15960ab",
   "metadata": {},
   "outputs": [],
   "source": [
    "form = FFProbeChapterMarkForm({\"start\": \"155.343000\", \"title\": \"News aus der Szene\"})"
   ]
  },
  {
   "cell_type": "code",
   "execution_count": 3,
   "id": "fc13b966",
   "metadata": {},
   "outputs": [
    {
     "name": "stdout",
     "output_type": "stream",
     "text": [
      "value:  155.343000\n",
      "to time:  00:02:35.343000\n"
     ]
    },
    {
     "data": {
      "text/plain": [
       "True"
      ]
     },
     "execution_count": 3,
     "metadata": {},
     "output_type": "execute_result"
    }
   ],
   "source": [
    "form.is_valid()"
   ]
  },
  {
   "cell_type": "code",
   "execution_count": 8,
   "id": "c34db6d3",
   "metadata": {},
   "outputs": [
    {
     "data": {
      "text/plain": [
       "{'start': datetime.time(0, 2, 35, 343000), 'title': 'News aus der Szene'}"
      ]
     },
     "execution_count": 8,
     "metadata": {},
     "output_type": "execute_result"
    }
   ],
   "source": [
    "form.cleaned_data"
   ]
  },
  {
   "cell_type": "code",
   "execution_count": 9,
   "id": "05555f7a",
   "metadata": {},
   "outputs": [],
   "source": [
    "cm = form.save(commit=False)"
   ]
  },
  {
   "cell_type": "code",
   "execution_count": 10,
   "id": "81185514",
   "metadata": {},
   "outputs": [
    {
     "data": {
      "text/plain": [
       "datetime.time(0, 2, 35, 343000)"
      ]
     },
     "execution_count": 10,
     "metadata": {},
     "output_type": "execute_result"
    }
   ],
   "source": [
    "cm.start"
   ]
  },
  {
   "cell_type": "code",
   "execution_count": 5,
   "id": "d04f0562",
   "metadata": {},
   "outputs": [],
   "source": [
    "from django.utils.dateparse import parse_time"
   ]
  },
  {
   "cell_type": "code",
   "execution_count": 9,
   "id": "d42db46e",
   "metadata": {},
   "outputs": [
    {
     "name": "stdout",
     "output_type": "stream",
     "text": [
      "None\n"
     ]
    }
   ],
   "source": [
    "print(parse_time(\"155343000\"))"
   ]
  },
  {
   "cell_type": "code",
   "execution_count": 8,
   "id": "003f1ef0",
   "metadata": {},
   "outputs": [
    {
     "name": "stdout",
     "output_type": "stream",
     "text": [
      "Help on function parse_time in module django.utils.dateparse:\n",
      "\n",
      "parse_time(value)\n",
      "    Parse a string and return a datetime.time.\n",
      "    \n",
      "    This function doesn't support time zone offsets.\n",
      "    \n",
      "    Raise ValueError if the input is well formatted but not a valid time.\n",
      "    Return None if the input isn't well formatted, in particular if it\n",
      "    contains an offset.\n",
      "\n"
     ]
    }
   ],
   "source": [
    "help(parse_time)"
   ]
  },
  {
   "cell_type": "code",
   "execution_count": 23,
   "id": "70d70503",
   "metadata": {},
   "outputs": [
    {
     "data": {
      "text/plain": [
       "['__class__',\n",
       " '__delattr__',\n",
       " '__dir__',\n",
       " '__doc__',\n",
       " '__eq__',\n",
       " '__format__',\n",
       " '__ge__',\n",
       " '__getattribute__',\n",
       " '__gt__',\n",
       " '__hash__',\n",
       " '__init__',\n",
       " '__init_subclass__',\n",
       " '__le__',\n",
       " '__lt__',\n",
       " '__ne__',\n",
       " '__new__',\n",
       " '__reduce__',\n",
       " '__reduce_ex__',\n",
       " '__repr__',\n",
       " '__setattr__',\n",
       " '__sizeof__',\n",
       " '__str__',\n",
       " '__subclasshook__',\n",
       " 'dst',\n",
       " 'fromutc',\n",
       " 'tzname',\n",
       " 'utcoffset']"
      ]
     },
     "execution_count": 23,
     "metadata": {},
     "output_type": "execute_result"
    }
   ],
   "source": [
    "dir(datetime.tzinfo())"
   ]
  },
  {
   "cell_type": "code",
   "execution_count": 21,
   "id": "215ac7f3",
   "metadata": {},
   "outputs": [],
   "source": [
    "import datetime"
   ]
  },
  {
   "cell_type": "code",
   "execution_count": 26,
   "id": "43d0c201",
   "metadata": {},
   "outputs": [
    {
     "ename": "TypeError",
     "evalue": "tzinfo.utcoffset() takes exactly one argument (0 given)",
     "output_type": "error",
     "traceback": [
      "\u001b[0;31m---------------------------------------------------------------------------\u001b[0m",
      "\u001b[0;31mTypeError\u001b[0m                                 Traceback (most recent call last)",
      "\u001b[0;32m/var/folders/dg/20nm141d3hj2hv67hjl6zmkc0000gn/T/ipykernel_30993/1842665538.py\u001b[0m in \u001b[0;36m<module>\u001b[0;34m\u001b[0m\n\u001b[0;32m----> 1\u001b[0;31m \u001b[0mdatetime\u001b[0m\u001b[0;34m.\u001b[0m\u001b[0mtzinfo\u001b[0m\u001b[0;34m(\u001b[0m\u001b[0;34m)\u001b[0m\u001b[0;34m.\u001b[0m\u001b[0mutcoffset\u001b[0m\u001b[0;34m(\u001b[0m\u001b[0;34m)\u001b[0m\u001b[0;34m\u001b[0m\u001b[0;34m\u001b[0m\u001b[0m\n\u001b[0m",
      "\u001b[0;31mTypeError\u001b[0m: tzinfo.utcoffset() takes exactly one argument (0 given)"
     ]
    }
   ],
   "source": [
    "datetime.tzinfo().utcoffset()"
   ]
  },
  {
   "cell_type": "code",
   "execution_count": 27,
   "id": "fae918db",
   "metadata": {},
   "outputs": [],
   "source": [
    "now = datetime.datetime.now()"
   ]
  },
  {
   "cell_type": "code",
   "execution_count": 29,
   "id": "644a9cd5",
   "metadata": {},
   "outputs": [
    {
     "data": {
      "text/plain": [
       "['__add__',\n",
       " '__class__',\n",
       " '__delattr__',\n",
       " '__dir__',\n",
       " '__doc__',\n",
       " '__eq__',\n",
       " '__format__',\n",
       " '__ge__',\n",
       " '__getattribute__',\n",
       " '__gt__',\n",
       " '__hash__',\n",
       " '__init__',\n",
       " '__init_subclass__',\n",
       " '__le__',\n",
       " '__lt__',\n",
       " '__ne__',\n",
       " '__new__',\n",
       " '__radd__',\n",
       " '__reduce__',\n",
       " '__reduce_ex__',\n",
       " '__repr__',\n",
       " '__rsub__',\n",
       " '__setattr__',\n",
       " '__sizeof__',\n",
       " '__str__',\n",
       " '__sub__',\n",
       " '__subclasshook__',\n",
       " 'astimezone',\n",
       " 'combine',\n",
       " 'ctime',\n",
       " 'date',\n",
       " 'day',\n",
       " 'dst',\n",
       " 'fold',\n",
       " 'fromisocalendar',\n",
       " 'fromisoformat',\n",
       " 'fromordinal',\n",
       " 'fromtimestamp',\n",
       " 'hour',\n",
       " 'isocalendar',\n",
       " 'isoformat',\n",
       " 'isoweekday',\n",
       " 'max',\n",
       " 'microsecond',\n",
       " 'min',\n",
       " 'minute',\n",
       " 'month',\n",
       " 'now',\n",
       " 'replace',\n",
       " 'resolution',\n",
       " 'second',\n",
       " 'strftime',\n",
       " 'strptime',\n",
       " 'time',\n",
       " 'timestamp',\n",
       " 'timetuple',\n",
       " 'timetz',\n",
       " 'today',\n",
       " 'toordinal',\n",
       " 'tzinfo',\n",
       " 'tzname',\n",
       " 'utcfromtimestamp',\n",
       " 'utcnow',\n",
       " 'utcoffset',\n",
       " 'utctimetuple',\n",
       " 'weekday',\n",
       " 'year']"
      ]
     },
     "execution_count": 29,
     "metadata": {},
     "output_type": "execute_result"
    }
   ],
   "source": [
    "dir(now)"
   ]
  },
  {
   "cell_type": "code",
   "execution_count": 31,
   "id": "c3820b47",
   "metadata": {},
   "outputs": [
    {
     "name": "stdout",
     "output_type": "stream",
     "text": [
      "None\n"
     ]
    }
   ],
   "source": [
    "print(now.tzinfo)"
   ]
  },
  {
   "cell_type": "code",
   "execution_count": 2,
   "id": "aba0fea3",
   "metadata": {},
   "outputs": [],
   "source": [
    "from pathlib import Path"
   ]
  },
  {
   "cell_type": "code",
   "execution_count": 4,
   "id": "c28778ae",
   "metadata": {},
   "outputs": [
    {
     "data": {
      "text/plain": [
       "PosixPath('/asdf')"
      ]
     },
     "execution_count": 4,
     "metadata": {},
     "output_type": "execute_result"
    }
   ],
   "source": [
    "Path(\"foo\") / \"/asdf\""
   ]
  },
  {
   "cell_type": "code",
   "execution_count": 5,
   "id": "d301170e",
   "metadata": {},
   "outputs": [
    {
     "data": {
      "text/plain": [
       "'asdf'"
      ]
     },
     "execution_count": 5,
     "metadata": {},
     "output_type": "execute_result"
    }
   ],
   "source": [
    "\"/asdf\".lstrip(\"/\")"
   ]
  },
  {
   "cell_type": "code",
   "execution_count": 6,
   "id": "18e91583",
   "metadata": {},
   "outputs": [],
   "source": [
    "audio = Audio.objects.first()"
   ]
  },
  {
   "cell_type": "code",
   "execution_count": 8,
   "id": "ba8c6c3b",
   "metadata": {},
   "outputs": [
    {
     "data": {
      "text/plain": [
       "'/media/cast_audio/pp_34.m4a'"
      ]
     },
     "execution_count": 8,
     "metadata": {},
     "output_type": "execute_result"
    }
   ],
   "source": [
    "audio.m4a.url"
   ]
  },
  {
   "cell_type": "code",
   "execution_count": 9,
   "id": "fcbbe2f9",
   "metadata": {},
   "outputs": [
    {
     "data": {
      "text/plain": [
       "'/Users/jochen/projects/django-cast/example/media/cast_audio/pp_34.m4a'"
      ]
     },
     "execution_count": 9,
     "metadata": {},
     "output_type": "execute_result"
    }
   ],
   "source": [
    "audio.m4a.path"
   ]
  },
  {
   "cell_type": "code",
   "execution_count": 2,
   "id": "93ff9df6",
   "metadata": {},
   "outputs": [
    {
     "data": {
      "text/plain": [
       "'/cms/audio/audio/edit/1/'"
      ]
     },
     "execution_count": 2,
     "metadata": {},
     "output_type": "execute_result"
    }
   ],
   "source": [
    "reverse(\"castaudio:edit\", args=(1,))"
   ]
  },
  {
   "cell_type": "code",
   "execution_count": null,
   "id": "0392d1f0",
   "metadata": {},
   "outputs": [],
   "source": []
  }
 ],
 "metadata": {
  "kernelspec": {
   "display_name": "Django Shell-Plus",
   "language": "python",
   "name": "django_extensions"
  },
  "language_info": {
   "codemirror_mode": {
    "name": "ipython",
    "version": 3
   },
   "file_extension": ".py",
   "mimetype": "text/x-python",
   "name": "python",
   "nbconvert_exporter": "python",
   "pygments_lexer": "ipython3",
   "version": "3.9.7"
  }
 },
 "nbformat": 4,
 "nbformat_minor": 5
}
