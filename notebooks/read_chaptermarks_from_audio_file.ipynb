{
 "cells": [
  {
   "cell_type": "code",
   "execution_count": 1,
   "id": "e9ac70a1",
   "metadata": {},
   "outputs": [
    {
     "data": {
      "application/javascript": [
       "\n",
       "            setTimeout(function() {\n",
       "                var nbb_cell_id = 1;\n",
       "                var nbb_unformatted_code = \"%load_ext nb_black\";\n",
       "                var nbb_formatted_code = \"%load_ext nb_black\";\n",
       "                var nbb_cells = Jupyter.notebook.get_cells();\n",
       "                for (var i = 0; i < nbb_cells.length; ++i) {\n",
       "                    if (nbb_cells[i].input_prompt_number == nbb_cell_id) {\n",
       "                        if (nbb_cells[i].get_text() == nbb_unformatted_code) {\n",
       "                             nbb_cells[i].set_text(nbb_formatted_code);\n",
       "                        }\n",
       "                        break;\n",
       "                    }\n",
       "                }\n",
       "            }, 500);\n",
       "            "
      ],
      "text/plain": [
       "<IPython.core.display.Javascript object>"
      ]
     },
     "metadata": {},
     "output_type": "display_data"
    }
   ],
   "source": [
    "%load_ext nb_black"
   ]
  },
  {
   "cell_type": "code",
   "execution_count": 20,
   "id": "7e1f6f3e",
   "metadata": {},
   "outputs": [
    {
     "data": {
      "application/javascript": [
       "\n",
       "            setTimeout(function() {\n",
       "                var nbb_cell_id = 20;\n",
       "                var nbb_unformatted_code = \"import json\\nimport subprocess\\n\\nfrom pathlib import Path\";\n",
       "                var nbb_formatted_code = \"import json\\nimport subprocess\\n\\nfrom pathlib import Path\";\n",
       "                var nbb_cells = Jupyter.notebook.get_cells();\n",
       "                for (var i = 0; i < nbb_cells.length; ++i) {\n",
       "                    if (nbb_cells[i].input_prompt_number == nbb_cell_id) {\n",
       "                        if (nbb_cells[i].get_text() == nbb_unformatted_code) {\n",
       "                             nbb_cells[i].set_text(nbb_formatted_code);\n",
       "                        }\n",
       "                        break;\n",
       "                    }\n",
       "                }\n",
       "            }, 500);\n",
       "            "
      ],
      "text/plain": [
       "<IPython.core.display.Javascript object>"
      ]
     },
     "metadata": {},
     "output_type": "display_data"
    }
   ],
   "source": [
    "import json\n",
    "import subprocess\n",
    "\n",
    "from pathlib import Path"
   ]
  },
  {
   "cell_type": "code",
   "execution_count": 22,
   "id": "da779e19",
   "metadata": {},
   "outputs": [
    {
     "data": {
      "application/javascript": [
       "\n",
       "            setTimeout(function() {\n",
       "                var nbb_cell_id = 22;\n",
       "                var nbb_unformatted_code = \"audio_path = Path(\\\"../example/media/cast_audio/pp_34.m4a\\\")\\nassert audio_path.exists()\\ncommand = [\\n    \\\"ffprobe\\\",\\n    \\\"-i\\\",\\n    str(audio_path),\\n    \\\"-print_format\\\",\\n    \\\"json\\\",\\n    \\\"-show_chapters\\\",\\n    \\\"-loglevel\\\",\\n    \\\"error\\\",\\n]\\njson_chapters = json.loads(subprocess.run(command, check=True, stdout=subprocess.PIPE).stdout)\";\n",
       "                var nbb_formatted_code = \"audio_path = Path(\\\"../example/media/cast_audio/pp_34.m4a\\\")\\nassert audio_path.exists()\\ncommand = [\\n    \\\"ffprobe\\\",\\n    \\\"-i\\\",\\n    str(audio_path),\\n    \\\"-print_format\\\",\\n    \\\"json\\\",\\n    \\\"-show_chapters\\\",\\n    \\\"-loglevel\\\",\\n    \\\"error\\\",\\n]\\njson_chapters = json.loads(\\n    subprocess.run(command, check=True, stdout=subprocess.PIPE).stdout\\n)\";\n",
       "                var nbb_cells = Jupyter.notebook.get_cells();\n",
       "                for (var i = 0; i < nbb_cells.length; ++i) {\n",
       "                    if (nbb_cells[i].input_prompt_number == nbb_cell_id) {\n",
       "                        if (nbb_cells[i].get_text() == nbb_unformatted_code) {\n",
       "                             nbb_cells[i].set_text(nbb_formatted_code);\n",
       "                        }\n",
       "                        break;\n",
       "                    }\n",
       "                }\n",
       "            }, 500);\n",
       "            "
      ],
      "text/plain": [
       "<IPython.core.display.Javascript object>"
      ]
     },
     "metadata": {},
     "output_type": "display_data"
    }
   ],
   "source": [
    "audio_path = Path(\"../example/media/cast_audio/pp_34.m4a\")\n",
    "assert audio_path.exists()\n",
    "command = [\n",
    "    \"ffprobe\",\n",
    "    \"-i\",\n",
    "    str(audio_path),\n",
    "    \"-print_format\",\n",
    "    \"json\",\n",
    "    \"-show_chapters\",\n",
    "    \"-loglevel\",\n",
    "    \"error\",\n",
    "]\n",
    "json_chapters = json.loads(\n",
    "    subprocess.run(command, check=True, stdout=subprocess.PIPE).stdout\n",
    ")"
   ]
  },
  {
   "cell_type": "code",
   "execution_count": 23,
   "id": "3247d9ac",
   "metadata": {},
   "outputs": [
    {
     "data": {
      "text/plain": [
       "{'chapters': [{'id': 0,\n",
       "   'time_base': '1/1000',\n",
       "   'start': 0,\n",
       "   'start_time': '0.000000',\n",
       "   'end': 28433,\n",
       "   'end_time': '28.433000',\n",
       "   'tags': {'title': ''}},\n",
       "  {'id': 1,\n",
       "   'time_base': '1/1000',\n",
       "   'start': 28433,\n",
       "   'start_time': '28.433000',\n",
       "   'end': 160964,\n",
       "   'end_time': '160.964000',\n",
       "   'tags': {'title': 'News aus der Szene'}},\n",
       "  {'id': 2,\n",
       "   'time_base': '1/1000',\n",
       "   'start': 160964,\n",
       "   'start_time': '160.964000',\n",
       "   'end': 744409,\n",
       "   'end_time': '744.409000',\n",
       "   'tags': {'title': 'Packaging'}},\n",
       "  {'id': 3,\n",
       "   'time_base': '1/1000',\n",
       "   'start': 744409,\n",
       "   'start_time': '744.409000',\n",
       "   'end': 899535,\n",
       "   'end_time': '899.535000',\n",
       "   'tags': {'title': 'Dokumentation'}},\n",
       "  {'id': 4,\n",
       "   'time_base': '1/1000',\n",
       "   'start': 899535,\n",
       "   'start_time': '899.535000',\n",
       "   'end': 1546126,\n",
       "   'end_time': '1546.126000',\n",
       "   'tags': {'title': 'Tools'}},\n",
       "  {'id': 5,\n",
       "   'time_base': '1/1000',\n",
       "   'start': 1546126,\n",
       "   'start_time': '1546.126000',\n",
       "   'end': 2275575,\n",
       "   'end_time': '2275.575000',\n",
       "   'tags': {'title': 'Semantic Versioning'}},\n",
       "  {'id': 6,\n",
       "   'time_base': '1/1000',\n",
       "   'start': 2275575,\n",
       "   'start_time': '2275.575000',\n",
       "   'end': 2377118,\n",
       "   'end_time': '2377.118000',\n",
       "   'tags': {'title': 'Voll gut: extras_require'}},\n",
       "  {'id': 7,\n",
       "   'time_base': '1/1000',\n",
       "   'start': 2377118,\n",
       "   'start_time': '2377.118000',\n",
       "   'end': 2670400,\n",
       "   'end_time': '2670.400000',\n",
       "   'tags': {'title': 'Streaming'}},\n",
       "  {'id': 8,\n",
       "   'time_base': '1/1000',\n",
       "   'start': 2670400,\n",
       "   'start_time': '2670.400000',\n",
       "   'end': 2948681,\n",
       "   'end_time': '2948.681000',\n",
       "   'tags': {'title': 'nbdev'}},\n",
       "  {'id': 9,\n",
       "   'time_base': '1/1000',\n",
       "   'start': 2948681,\n",
       "   'start_time': '2948.681000',\n",
       "   'end': 3314270,\n",
       "   'end_time': '3314.270000',\n",
       "   'tags': {'title': 'Maintainance'}},\n",
       "  {'id': 10,\n",
       "   'time_base': '1/1000',\n",
       "   'start': 3314270,\n",
       "   'start_time': '3314.270000',\n",
       "   'end': 3911574,\n",
       "   'end_time': '3911.574000',\n",
       "   'tags': {'title': 'Nochmal Tools'}},\n",
       "  {'id': 11,\n",
       "   'time_base': '1/1000',\n",
       "   'start': 3911574,\n",
       "   'start_time': '3911.574000',\n",
       "   'end': 4479172,\n",
       "   'end_time': '4479.172000',\n",
       "   'tags': {'title': 'Nochmal Dokumentation'}},\n",
       "  {'id': 12,\n",
       "   'time_base': '1/1000',\n",
       "   'start': 4479172,\n",
       "   'start_time': '4479.172000',\n",
       "   'end': 5008286,\n",
       "   'end_time': '5008.286000',\n",
       "   'tags': {'title': 'Typehinting'}},\n",
       "  {'id': 13,\n",
       "   'time_base': '1/1000',\n",
       "   'start': 5008286,\n",
       "   'start_time': '5008.286000',\n",
       "   'end': 5128684,\n",
       "   'end_time': '5128.684000',\n",
       "   'tags': {'title': 'conda'}},\n",
       "  {'id': 14,\n",
       "   'time_base': '1/1000',\n",
       "   'start': 5128684,\n",
       "   'start_time': '5128.684000',\n",
       "   'end': 5806288,\n",
       "   'end_time': '5806.288000',\n",
       "   'tags': {'title': 'Picks'}}]}"
      ]
     },
     "execution_count": 23,
     "metadata": {},
     "output_type": "execute_result"
    },
    {
     "data": {
      "application/javascript": [
       "\n",
       "            setTimeout(function() {\n",
       "                var nbb_cell_id = 23;\n",
       "                var nbb_unformatted_code = \"json_chapters\";\n",
       "                var nbb_formatted_code = \"json_chapters\";\n",
       "                var nbb_cells = Jupyter.notebook.get_cells();\n",
       "                for (var i = 0; i < nbb_cells.length; ++i) {\n",
       "                    if (nbb_cells[i].input_prompt_number == nbb_cell_id) {\n",
       "                        if (nbb_cells[i].get_text() == nbb_unformatted_code) {\n",
       "                             nbb_cells[i].set_text(nbb_formatted_code);\n",
       "                        }\n",
       "                        break;\n",
       "                    }\n",
       "                }\n",
       "            }, 500);\n",
       "            "
      ],
      "text/plain": [
       "<IPython.core.display.Javascript object>"
      ]
     },
     "metadata": {},
     "output_type": "display_data"
    }
   ],
   "source": [
    "json_chapters"
   ]
  },
  {
   "cell_type": "code",
   "execution_count": 24,
   "id": "70fb006b",
   "metadata": {},
   "outputs": [
    {
     "data": {
      "application/javascript": [
       "\n",
       "            setTimeout(function() {\n",
       "                var nbb_cell_id = 24;\n",
       "                var nbb_unformatted_code = \"cm = ChapterMark.objects.first()\";\n",
       "                var nbb_formatted_code = \"cm = ChapterMark.objects.first()\";\n",
       "                var nbb_cells = Jupyter.notebook.get_cells();\n",
       "                for (var i = 0; i < nbb_cells.length; ++i) {\n",
       "                    if (nbb_cells[i].input_prompt_number == nbb_cell_id) {\n",
       "                        if (nbb_cells[i].get_text() == nbb_unformatted_code) {\n",
       "                             nbb_cells[i].set_text(nbb_formatted_code);\n",
       "                        }\n",
       "                        break;\n",
       "                    }\n",
       "                }\n",
       "            }, 500);\n",
       "            "
      ],
      "text/plain": [
       "<IPython.core.display.Javascript object>"
      ]
     },
     "metadata": {},
     "output_type": "display_data"
    }
   ],
   "source": [
    "cm = ChapterMark.objects.first()"
   ]
  },
  {
   "cell_type": "code",
   "execution_count": 25,
   "id": "e0c665d1",
   "metadata": {},
   "outputs": [
    {
     "data": {
      "text/plain": [
       "datetime.time(0, 0, 28, 433000)"
      ]
     },
     "execution_count": 25,
     "metadata": {},
     "output_type": "execute_result"
    },
    {
     "data": {
      "application/javascript": [
       "\n",
       "            setTimeout(function() {\n",
       "                var nbb_cell_id = 25;\n",
       "                var nbb_unformatted_code = \"cm.start\";\n",
       "                var nbb_formatted_code = \"cm.start\";\n",
       "                var nbb_cells = Jupyter.notebook.get_cells();\n",
       "                for (var i = 0; i < nbb_cells.length; ++i) {\n",
       "                    if (nbb_cells[i].input_prompt_number == nbb_cell_id) {\n",
       "                        if (nbb_cells[i].get_text() == nbb_unformatted_code) {\n",
       "                             nbb_cells[i].set_text(nbb_formatted_code);\n",
       "                        }\n",
       "                        break;\n",
       "                    }\n",
       "                }\n",
       "            }, 500);\n",
       "            "
      ],
      "text/plain": [
       "<IPython.core.display.Javascript object>"
      ]
     },
     "metadata": {},
     "output_type": "display_data"
    }
   ],
   "source": [
    "cm.start"
   ]
  },
  {
   "cell_type": "code",
   "execution_count": 26,
   "id": "fb0c27ee",
   "metadata": {},
   "outputs": [
    {
     "data": {
      "application/javascript": [
       "\n",
       "            setTimeout(function() {\n",
       "                var nbb_cell_id = 26;\n",
       "                var nbb_unformatted_code = \"cmn = ChapterMark(start=\\\"28.433000\\\", title=\\\"foobar baz\\\")\";\n",
       "                var nbb_formatted_code = \"cmn = ChapterMark(start=\\\"28.433000\\\", title=\\\"foobar baz\\\")\";\n",
       "                var nbb_cells = Jupyter.notebook.get_cells();\n",
       "                for (var i = 0; i < nbb_cells.length; ++i) {\n",
       "                    if (nbb_cells[i].input_prompt_number == nbb_cell_id) {\n",
       "                        if (nbb_cells[i].get_text() == nbb_unformatted_code) {\n",
       "                             nbb_cells[i].set_text(nbb_formatted_code);\n",
       "                        }\n",
       "                        break;\n",
       "                    }\n",
       "                }\n",
       "            }, 500);\n",
       "            "
      ],
      "text/plain": [
       "<IPython.core.display.Javascript object>"
      ]
     },
     "metadata": {},
     "output_type": "display_data"
    }
   ],
   "source": [
    "cmn = ChapterMark(start=\"28.433000\", title=\"foobar baz\")"
   ]
  },
  {
   "cell_type": "code",
   "execution_count": 27,
   "id": "9d0bc2c5",
   "metadata": {},
   "outputs": [
    {
     "data": {
      "text/plain": [
       "'28.433000'"
      ]
     },
     "execution_count": 27,
     "metadata": {},
     "output_type": "execute_result"
    },
    {
     "data": {
      "application/javascript": [
       "\n",
       "            setTimeout(function() {\n",
       "                var nbb_cell_id = 27;\n",
       "                var nbb_unformatted_code = \"cmn.start\";\n",
       "                var nbb_formatted_code = \"cmn.start\";\n",
       "                var nbb_cells = Jupyter.notebook.get_cells();\n",
       "                for (var i = 0; i < nbb_cells.length; ++i) {\n",
       "                    if (nbb_cells[i].input_prompt_number == nbb_cell_id) {\n",
       "                        if (nbb_cells[i].get_text() == nbb_unformatted_code) {\n",
       "                             nbb_cells[i].set_text(nbb_formatted_code);\n",
       "                        }\n",
       "                        break;\n",
       "                    }\n",
       "                }\n",
       "            }, 500);\n",
       "            "
      ],
      "text/plain": [
       "<IPython.core.display.Javascript object>"
      ]
     },
     "metadata": {},
     "output_type": "display_data"
    }
   ],
   "source": [
    "cmn.start"
   ]
  },
  {
   "cell_type": "code",
   "execution_count": null,
   "id": "ea0bd1ee",
   "metadata": {},
   "outputs": [],
   "source": []
  }
 ],
 "metadata": {
  "kernelspec": {
   "display_name": "Django Shell-Plus",
   "language": "python",
   "name": "django_extensions"
  },
  "language_info": {
   "codemirror_mode": {
    "name": "ipython",
    "version": 3
   },
   "file_extension": ".py",
   "mimetype": "text/x-python",
   "name": "python",
   "nbconvert_exporter": "python",
   "pygments_lexer": "ipython3",
   "version": "3.9.7"
  }
 },
 "nbformat": 4,
 "nbformat_minor": 5
}
