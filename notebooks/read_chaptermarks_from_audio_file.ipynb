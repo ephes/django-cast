{
 "cells": [
  {
   "cell_type": "code",
   "execution_count": 1,
   "id": "e9ac70a1",
   "metadata": {},
   "outputs": [
    {
     "data": {
      "application/javascript": [
       "\n",
       "            setTimeout(function() {\n",
       "                var nbb_cell_id = 1;\n",
       "                var nbb_unformatted_code = \"%load_ext nb_black\";\n",
       "                var nbb_formatted_code = \"%load_ext nb_black\";\n",
       "                var nbb_cells = Jupyter.notebook.get_cells();\n",
       "                for (var i = 0; i < nbb_cells.length; ++i) {\n",
       "                    if (nbb_cells[i].input_prompt_number == nbb_cell_id) {\n",
       "                        if (nbb_cells[i].get_text() == nbb_unformatted_code) {\n",
       "                             nbb_cells[i].set_text(nbb_formatted_code);\n",
       "                        }\n",
       "                        break;\n",
       "                    }\n",
       "                }\n",
       "            }, 500);\n",
       "            "
      ],
      "text/plain": [
       "<IPython.core.display.Javascript object>"
      ]
     },
     "metadata": {},
     "output_type": "display_data"
    }
   ],
   "source": [
    "%load_ext nb_black"
   ]
  },
  {
   "cell_type": "code",
   "execution_count": 2,
   "id": "7e1f6f3e",
   "metadata": {},
   "outputs": [
    {
     "data": {
      "application/javascript": [
       "\n",
       "            setTimeout(function() {\n",
       "                var nbb_cell_id = 2;\n",
       "                var nbb_unformatted_code = \"import json\\nimport subprocess\\n\\nfrom pathlib import Path\";\n",
       "                var nbb_formatted_code = \"import json\\nimport subprocess\\n\\nfrom pathlib import Path\";\n",
       "                var nbb_cells = Jupyter.notebook.get_cells();\n",
       "                for (var i = 0; i < nbb_cells.length; ++i) {\n",
       "                    if (nbb_cells[i].input_prompt_number == nbb_cell_id) {\n",
       "                        if (nbb_cells[i].get_text() == nbb_unformatted_code) {\n",
       "                             nbb_cells[i].set_text(nbb_formatted_code);\n",
       "                        }\n",
       "                        break;\n",
       "                    }\n",
       "                }\n",
       "            }, 500);\n",
       "            "
      ],
      "text/plain": [
       "<IPython.core.display.Javascript object>"
      ]
     },
     "metadata": {},
     "output_type": "display_data"
    }
   ],
   "source": [
    "import json\n",
    "import subprocess\n",
    "\n",
    "from pathlib import Path"
   ]
  },
  {
   "cell_type": "code",
   "execution_count": 18,
   "id": "da779e19",
   "metadata": {},
   "outputs": [
    {
     "data": {
      "application/javascript": [
       "\n",
       "            setTimeout(function() {\n",
       "                var nbb_cell_id = 18;\n",
       "                var nbb_unformatted_code = \"audio_path = Path(\\\"../example/media/cast_audio/pp_23_yfU6mVw.m4a\\\")\\nassert audio_path.exists()\\ncommand = [\\n    \\\"ffprobe\\\",\\n    \\\"-i\\\",\\n    str(audio_path),\\n    \\\"-print_format\\\",\\n    \\\"json\\\",\\n    \\\"-show_chapters\\\",\\n    \\\"-loglevel\\\",\\n    \\\"error\\\",\\n]\\njson_chapters = json.loads(\\n    subprocess.run(command, check=True, stdout=subprocess.PIPE).stdout\\n)\";\n",
       "                var nbb_formatted_code = \"audio_path = Path(\\\"../example/media/cast_audio/pp_23_yfU6mVw.m4a\\\")\\nassert audio_path.exists()\\ncommand = [\\n    \\\"ffprobe\\\",\\n    \\\"-i\\\",\\n    str(audio_path),\\n    \\\"-print_format\\\",\\n    \\\"json\\\",\\n    \\\"-show_chapters\\\",\\n    \\\"-loglevel\\\",\\n    \\\"error\\\",\\n]\\njson_chapters = json.loads(\\n    subprocess.run(command, check=True, stdout=subprocess.PIPE).stdout\\n)\";\n",
       "                var nbb_cells = Jupyter.notebook.get_cells();\n",
       "                for (var i = 0; i < nbb_cells.length; ++i) {\n",
       "                    if (nbb_cells[i].input_prompt_number == nbb_cell_id) {\n",
       "                        if (nbb_cells[i].get_text() == nbb_unformatted_code) {\n",
       "                             nbb_cells[i].set_text(nbb_formatted_code);\n",
       "                        }\n",
       "                        break;\n",
       "                    }\n",
       "                }\n",
       "            }, 500);\n",
       "            "
      ],
      "text/plain": [
       "<IPython.core.display.Javascript object>"
      ]
     },
     "metadata": {},
     "output_type": "display_data"
    }
   ],
   "source": [
    "audio_path = Path(\"../example/media/cast_audio/pp_23_yfU6mVw.m4a\")\n",
    "assert audio_path.exists()\n",
    "command = [\n",
    "    \"ffprobe\",\n",
    "    \"-i\",\n",
    "    str(audio_path),\n",
    "    \"-print_format\",\n",
    "    \"json\",\n",
    "    \"-show_chapters\",\n",
    "    \"-loglevel\",\n",
    "    \"error\",\n",
    "]\n",
    "json_chapters = json.loads(\n",
    "    subprocess.run(command, check=True, stdout=subprocess.PIPE).stdout\n",
    ")"
   ]
  },
  {
   "cell_type": "code",
   "execution_count": 19,
   "id": "3247d9ac",
   "metadata": {},
   "outputs": [
    {
     "data": {
      "text/plain": [
       "{'chapters': [{'id': 0,\n",
       "   'time_base': '1/1000',\n",
       "   'start': 0,\n",
       "   'start_time': '0.000000',\n",
       "   'end': 155343,\n",
       "   'end_time': '155.343000',\n",
       "   'tags': {'title': ''}},\n",
       "  {'id': 1,\n",
       "   'time_base': '1/1000',\n",
       "   'start': 155343,\n",
       "   'start_time': '155.343000',\n",
       "   'end': 617117,\n",
       "   'end_time': '617.117000',\n",
       "   'tags': {'title': 'News aus der Szene'}},\n",
       "  {'id': 2,\n",
       "   'time_base': '1/1000',\n",
       "   'start': 617117,\n",
       "   'start_time': '617.117000',\n",
       "   'end': 1266062,\n",
       "   'end_time': '1266.062000',\n",
       "   'tags': {'title': 'Django Async'}},\n",
       "  {'id': 3,\n",
       "   'time_base': '1/1000',\n",
       "   'start': 1266062,\n",
       "   'start_time': '1266.062000',\n",
       "   'end': 2313956,\n",
       "   'end_time': '2313.956000',\n",
       "   'tags': {'title': 'Parallelität vs Concurrency'}},\n",
       "  {'id': 4,\n",
       "   'time_base': '1/1000',\n",
       "   'start': 2313956,\n",
       "   'start_time': '2313.956000',\n",
       "   'end': 2623703,\n",
       "   'end_time': '2623.703000',\n",
       "   'tags': {'title': 'Concurrency'}},\n",
       "  {'id': 5,\n",
       "   'time_base': '1/1000',\n",
       "   'start': 2623703,\n",
       "   'start_time': '2623.703000',\n",
       "   'end': 3557820,\n",
       "   'end_time': '3557.820000',\n",
       "   'tags': {'title': 'Trio'}},\n",
       "  {'id': 6,\n",
       "   'time_base': '1/1000',\n",
       "   'start': 3557820,\n",
       "   'start_time': '3557.820000',\n",
       "   'end': 4255370,\n",
       "   'end_time': '4255.370000',\n",
       "   'tags': {'title': 'Django Async'}},\n",
       "  {'id': 7,\n",
       "   'time_base': '1/1000',\n",
       "   'start': 4255370,\n",
       "   'start_time': '4255.370000',\n",
       "   'end': 4528812,\n",
       "   'end_time': '4528.812000',\n",
       "   'tags': {'title': 'Elixir Phoenix'}},\n",
       "  {'id': 8,\n",
       "   'time_base': '1/1000',\n",
       "   'start': 4528812,\n",
       "   'start_time': '4528.812000',\n",
       "   'end': 4979409,\n",
       "   'end_time': '4979.409000',\n",
       "   'tags': {'title': 'Geschichte Async Python'}},\n",
       "  {'id': 9,\n",
       "   'time_base': '1/1000',\n",
       "   'start': 4979409,\n",
       "   'start_time': '4979.409000',\n",
       "   'end': 6020191,\n",
       "   'end_time': '6020.191000',\n",
       "   'tags': {'title': 'Cooperative vs Preemtive'}}]}"
      ]
     },
     "execution_count": 19,
     "metadata": {},
     "output_type": "execute_result"
    },
    {
     "data": {
      "application/javascript": [
       "\n",
       "            setTimeout(function() {\n",
       "                var nbb_cell_id = 19;\n",
       "                var nbb_unformatted_code = \"json_chapters\";\n",
       "                var nbb_formatted_code = \"json_chapters\";\n",
       "                var nbb_cells = Jupyter.notebook.get_cells();\n",
       "                for (var i = 0; i < nbb_cells.length; ++i) {\n",
       "                    if (nbb_cells[i].input_prompt_number == nbb_cell_id) {\n",
       "                        if (nbb_cells[i].get_text() == nbb_unformatted_code) {\n",
       "                             nbb_cells[i].set_text(nbb_formatted_code);\n",
       "                        }\n",
       "                        break;\n",
       "                    }\n",
       "                }\n",
       "            }, 500);\n",
       "            "
      ],
      "text/plain": [
       "<IPython.core.display.Javascript object>"
      ]
     },
     "metadata": {},
     "output_type": "display_data"
    }
   ],
   "source": [
    "json_chapters"
   ]
  },
  {
   "cell_type": "code",
   "execution_count": 24,
   "id": "70fb006b",
   "metadata": {},
   "outputs": [
    {
     "data": {
      "application/javascript": [
       "\n",
       "            setTimeout(function() {\n",
       "                var nbb_cell_id = 24;\n",
       "                var nbb_unformatted_code = \"cm = ChapterMark.objects.first()\";\n",
       "                var nbb_formatted_code = \"cm = ChapterMark.objects.first()\";\n",
       "                var nbb_cells = Jupyter.notebook.get_cells();\n",
       "                for (var i = 0; i < nbb_cells.length; ++i) {\n",
       "                    if (nbb_cells[i].input_prompt_number == nbb_cell_id) {\n",
       "                        if (nbb_cells[i].get_text() == nbb_unformatted_code) {\n",
       "                             nbb_cells[i].set_text(nbb_formatted_code);\n",
       "                        }\n",
       "                        break;\n",
       "                    }\n",
       "                }\n",
       "            }, 500);\n",
       "            "
      ],
      "text/plain": [
       "<IPython.core.display.Javascript object>"
      ]
     },
     "metadata": {},
     "output_type": "display_data"
    }
   ],
   "source": [
    "cm = ChapterMark.objects.first()"
   ]
  },
  {
   "cell_type": "code",
   "execution_count": 25,
   "id": "e0c665d1",
   "metadata": {},
   "outputs": [
    {
     "data": {
      "text/plain": [
       "datetime.time(0, 0, 28, 433000)"
      ]
     },
     "execution_count": 25,
     "metadata": {},
     "output_type": "execute_result"
    },
    {
     "data": {
      "application/javascript": [
       "\n",
       "            setTimeout(function() {\n",
       "                var nbb_cell_id = 25;\n",
       "                var nbb_unformatted_code = \"cm.start\";\n",
       "                var nbb_formatted_code = \"cm.start\";\n",
       "                var nbb_cells = Jupyter.notebook.get_cells();\n",
       "                for (var i = 0; i < nbb_cells.length; ++i) {\n",
       "                    if (nbb_cells[i].input_prompt_number == nbb_cell_id) {\n",
       "                        if (nbb_cells[i].get_text() == nbb_unformatted_code) {\n",
       "                             nbb_cells[i].set_text(nbb_formatted_code);\n",
       "                        }\n",
       "                        break;\n",
       "                    }\n",
       "                }\n",
       "            }, 500);\n",
       "            "
      ],
      "text/plain": [
       "<IPython.core.display.Javascript object>"
      ]
     },
     "metadata": {},
     "output_type": "display_data"
    }
   ],
   "source": [
    "cm.start"
   ]
  },
  {
   "cell_type": "code",
   "execution_count": 26,
   "id": "fb0c27ee",
   "metadata": {},
   "outputs": [
    {
     "data": {
      "application/javascript": [
       "\n",
       "            setTimeout(function() {\n",
       "                var nbb_cell_id = 26;\n",
       "                var nbb_unformatted_code = \"cmn = ChapterMark(start=\\\"28.433000\\\", title=\\\"foobar baz\\\")\";\n",
       "                var nbb_formatted_code = \"cmn = ChapterMark(start=\\\"28.433000\\\", title=\\\"foobar baz\\\")\";\n",
       "                var nbb_cells = Jupyter.notebook.get_cells();\n",
       "                for (var i = 0; i < nbb_cells.length; ++i) {\n",
       "                    if (nbb_cells[i].input_prompt_number == nbb_cell_id) {\n",
       "                        if (nbb_cells[i].get_text() == nbb_unformatted_code) {\n",
       "                             nbb_cells[i].set_text(nbb_formatted_code);\n",
       "                        }\n",
       "                        break;\n",
       "                    }\n",
       "                }\n",
       "            }, 500);\n",
       "            "
      ],
      "text/plain": [
       "<IPython.core.display.Javascript object>"
      ]
     },
     "metadata": {},
     "output_type": "display_data"
    }
   ],
   "source": [
    "cmn = ChapterMark(start=\"28.433000\", title=\"foobar baz\")"
   ]
  },
  {
   "cell_type": "code",
   "execution_count": 27,
   "id": "9d0bc2c5",
   "metadata": {},
   "outputs": [
    {
     "data": {
      "text/plain": [
       "'28.433000'"
      ]
     },
     "execution_count": 27,
     "metadata": {},
     "output_type": "execute_result"
    },
    {
     "data": {
      "application/javascript": [
       "\n",
       "            setTimeout(function() {\n",
       "                var nbb_cell_id = 27;\n",
       "                var nbb_unformatted_code = \"cmn.start\";\n",
       "                var nbb_formatted_code = \"cmn.start\";\n",
       "                var nbb_cells = Jupyter.notebook.get_cells();\n",
       "                for (var i = 0; i < nbb_cells.length; ++i) {\n",
       "                    if (nbb_cells[i].input_prompt_number == nbb_cell_id) {\n",
       "                        if (nbb_cells[i].get_text() == nbb_unformatted_code) {\n",
       "                             nbb_cells[i].set_text(nbb_formatted_code);\n",
       "                        }\n",
       "                        break;\n",
       "                    }\n",
       "                }\n",
       "            }, 500);\n",
       "            "
      ],
      "text/plain": [
       "<IPython.core.display.Javascript object>"
      ]
     },
     "metadata": {},
     "output_type": "display_data"
    }
   ],
   "source": [
    "cmn.start"
   ]
  },
  {
   "cell_type": "markdown",
   "id": "c41a888a",
   "metadata": {},
   "source": [
    "# parse chaptermarks from file"
   ]
  },
  {
   "cell_type": "code",
   "execution_count": 9,
   "id": "ea0bd1ee",
   "metadata": {},
   "outputs": [
    {
     "data": {
      "application/javascript": [
       "\n",
       "            setTimeout(function() {\n",
       "                var nbb_cell_id = 9;\n",
       "                var nbb_unformatted_code = \"audio = Audio.objects.first()\";\n",
       "                var nbb_formatted_code = \"audio = Audio.objects.first()\";\n",
       "                var nbb_cells = Jupyter.notebook.get_cells();\n",
       "                for (var i = 0; i < nbb_cells.length; ++i) {\n",
       "                    if (nbb_cells[i].input_prompt_number == nbb_cell_id) {\n",
       "                        if (nbb_cells[i].get_text() == nbb_unformatted_code) {\n",
       "                             nbb_cells[i].set_text(nbb_formatted_code);\n",
       "                        }\n",
       "                        break;\n",
       "                    }\n",
       "                }\n",
       "            }, 500);\n",
       "            "
      ],
      "text/plain": [
       "<IPython.core.display.Javascript object>"
      ]
     },
     "metadata": {},
     "output_type": "display_data"
    }
   ],
   "source": [
    "audio = Audio.objects.first()"
   ]
  },
  {
   "cell_type": "code",
   "execution_count": 11,
   "id": "f8a49d6e",
   "metadata": {},
   "outputs": [
    {
     "data": {
      "text/plain": [
       "'/media/cast_audio/pp_23_yfU6mVw.m4a'"
      ]
     },
     "execution_count": 11,
     "metadata": {},
     "output_type": "execute_result"
    },
    {
     "data": {
      "application/javascript": [
       "\n",
       "            setTimeout(function() {\n",
       "                var nbb_cell_id = 11;\n",
       "                var nbb_unformatted_code = \"audio.m4a.url\";\n",
       "                var nbb_formatted_code = \"audio.m4a.url\";\n",
       "                var nbb_cells = Jupyter.notebook.get_cells();\n",
       "                for (var i = 0; i < nbb_cells.length; ++i) {\n",
       "                    if (nbb_cells[i].input_prompt_number == nbb_cell_id) {\n",
       "                        if (nbb_cells[i].get_text() == nbb_unformatted_code) {\n",
       "                             nbb_cells[i].set_text(nbb_formatted_code);\n",
       "                        }\n",
       "                        break;\n",
       "                    }\n",
       "                }\n",
       "            }, 500);\n",
       "            "
      ],
      "text/plain": [
       "<IPython.core.display.Javascript object>"
      ]
     },
     "metadata": {},
     "output_type": "display_data"
    }
   ],
   "source": [
    "audio.m4a.url"
   ]
  },
  {
   "cell_type": "code",
   "execution_count": 16,
   "id": "94a24e39",
   "metadata": {},
   "outputs": [
    {
     "data": {
      "application/javascript": [
       "\n",
       "            setTimeout(function() {\n",
       "                var nbb_cell_id = 16;\n",
       "                var nbb_unformatted_code = \"command = [\\n    \\\"ffprobe\\\",\\n    \\\"-i\\\",\\n    f\\\"http://localhost:8000{audio.m4a.url}\\\",\\n    \\\"-print_format\\\",\\n    \\\"json\\\",\\n    \\\"-show_chapters\\\",\\n    \\\"-loglevel\\\",\\n    \\\"error\\\",\\n]\\njson_chapters = json.loads(\\n    subprocess.run(command, check=True, stdout=subprocess.PIPE).stdout\\n)\";\n",
       "                var nbb_formatted_code = \"command = [\\n    \\\"ffprobe\\\",\\n    \\\"-i\\\",\\n    f\\\"http://localhost:8000{audio.m4a.url}\\\",\\n    \\\"-print_format\\\",\\n    \\\"json\\\",\\n    \\\"-show_chapters\\\",\\n    \\\"-loglevel\\\",\\n    \\\"error\\\",\\n]\\njson_chapters = json.loads(\\n    subprocess.run(command, check=True, stdout=subprocess.PIPE).stdout\\n)\";\n",
       "                var nbb_cells = Jupyter.notebook.get_cells();\n",
       "                for (var i = 0; i < nbb_cells.length; ++i) {\n",
       "                    if (nbb_cells[i].input_prompt_number == nbb_cell_id) {\n",
       "                        if (nbb_cells[i].get_text() == nbb_unformatted_code) {\n",
       "                             nbb_cells[i].set_text(nbb_formatted_code);\n",
       "                        }\n",
       "                        break;\n",
       "                    }\n",
       "                }\n",
       "            }, 500);\n",
       "            "
      ],
      "text/plain": [
       "<IPython.core.display.Javascript object>"
      ]
     },
     "metadata": {},
     "output_type": "display_data"
    }
   ],
   "source": [
    "command = [\n",
    "    \"ffprobe\",\n",
    "    \"-i\",\n",
    "    f\"http://localhost:8000{audio.m4a.url}\",\n",
    "    \"-print_format\",\n",
    "    \"json\",\n",
    "    \"-show_chapters\",\n",
    "    \"-loglevel\",\n",
    "    \"error\",\n",
    "]\n",
    "json_chapters = json.loads(\n",
    "    subprocess.run(command, check=True, stdout=subprocess.PIPE).stdout\n",
    ")"
   ]
  },
  {
   "cell_type": "code",
   "execution_count": 17,
   "id": "63add6c3",
   "metadata": {},
   "outputs": [
    {
     "data": {
      "text/plain": [
       "{'chapters': []}"
      ]
     },
     "execution_count": 17,
     "metadata": {},
     "output_type": "execute_result"
    },
    {
     "data": {
      "application/javascript": [
       "\n",
       "            setTimeout(function() {\n",
       "                var nbb_cell_id = 17;\n",
       "                var nbb_unformatted_code = \"json_chapters\";\n",
       "                var nbb_formatted_code = \"json_chapters\";\n",
       "                var nbb_cells = Jupyter.notebook.get_cells();\n",
       "                for (var i = 0; i < nbb_cells.length; ++i) {\n",
       "                    if (nbb_cells[i].input_prompt_number == nbb_cell_id) {\n",
       "                        if (nbb_cells[i].get_text() == nbb_unformatted_code) {\n",
       "                             nbb_cells[i].set_text(nbb_formatted_code);\n",
       "                        }\n",
       "                        break;\n",
       "                    }\n",
       "                }\n",
       "            }, 500);\n",
       "            "
      ],
      "text/plain": [
       "<IPython.core.display.Javascript object>"
      ]
     },
     "metadata": {},
     "output_type": "display_data"
    }
   ],
   "source": [
    "json_chapters"
   ]
  },
  {
   "cell_type": "code",
   "execution_count": 20,
   "id": "be1964a9",
   "metadata": {},
   "outputs": [
    {
     "name": "stdout",
     "output_type": "stream",
     "text": [
      "http://localhost:8000/media/cast_audio/pp_23_yfU6mVw.m4a\n"
     ]
    },
    {
     "data": {
      "application/javascript": [
       "\n",
       "            setTimeout(function() {\n",
       "                var nbb_cell_id = 20;\n",
       "                var nbb_unformatted_code = \"print(f\\\"http://localhost:8000{audio.m4a.url}\\\")\";\n",
       "                var nbb_formatted_code = \"print(f\\\"http://localhost:8000{audio.m4a.url}\\\")\";\n",
       "                var nbb_cells = Jupyter.notebook.get_cells();\n",
       "                for (var i = 0; i < nbb_cells.length; ++i) {\n",
       "                    if (nbb_cells[i].input_prompt_number == nbb_cell_id) {\n",
       "                        if (nbb_cells[i].get_text() == nbb_unformatted_code) {\n",
       "                             nbb_cells[i].set_text(nbb_formatted_code);\n",
       "                        }\n",
       "                        break;\n",
       "                    }\n",
       "                }\n",
       "            }, 500);\n",
       "            "
      ],
      "text/plain": [
       "<IPython.core.display.Javascript object>"
      ]
     },
     "metadata": {},
     "output_type": "display_data"
    }
   ],
   "source": [
    "print(f\"http://localhost:8000{audio.m4a.url}\")"
   ]
  },
  {
   "cell_type": "code",
   "execution_count": 23,
   "id": "404d575d",
   "metadata": {},
   "outputs": [
    {
     "name": "stdout",
     "output_type": "stream",
     "text": [
      "mp3 cast_audio/pp_23_lWGM6z2.mp3\n",
      "m4a cast_audio/pp_23_yfU6mVw.m4a\n",
      "oga cast_audio/pp_23.ogg\n",
      "opus cast_audio/pp_23.opus\n"
     ]
    },
    {
     "data": {
      "application/javascript": [
       "\n",
       "            setTimeout(function() {\n",
       "                var nbb_cell_id = 23;\n",
       "                var nbb_unformatted_code = \"for name, field in audio.uploaded_audio_files:\\n    print(name, field)\";\n",
       "                var nbb_formatted_code = \"for name, field in audio.uploaded_audio_files:\\n    print(name, field)\";\n",
       "                var nbb_cells = Jupyter.notebook.get_cells();\n",
       "                for (var i = 0; i < nbb_cells.length; ++i) {\n",
       "                    if (nbb_cells[i].input_prompt_number == nbb_cell_id) {\n",
       "                        if (nbb_cells[i].get_text() == nbb_unformatted_code) {\n",
       "                             nbb_cells[i].set_text(nbb_formatted_code);\n",
       "                        }\n",
       "                        break;\n",
       "                    }\n",
       "                }\n",
       "            }, 500);\n",
       "            "
      ],
      "text/plain": [
       "<IPython.core.display.Javascript object>"
      ]
     },
     "metadata": {},
     "output_type": "display_data"
    }
   ],
   "source": [
    "for name, field in audio.uploaded_audio_files:\n",
    "    print(name, field)"
   ]
  },
  {
   "cell_type": "code",
   "execution_count": 34,
   "id": "4426cdf6",
   "metadata": {},
   "outputs": [
    {
     "data": {
      "application/javascript": [
       "\n",
       "            setTimeout(function() {\n",
       "                var nbb_cell_id = 34;\n",
       "                var nbb_unformatted_code = \"audio = Audio.objects.first()\";\n",
       "                var nbb_formatted_code = \"audio = Audio.objects.first()\";\n",
       "                var nbb_cells = Jupyter.notebook.get_cells();\n",
       "                for (var i = 0; i < nbb_cells.length; ++i) {\n",
       "                    if (nbb_cells[i].input_prompt_number == nbb_cell_id) {\n",
       "                        if (nbb_cells[i].get_text() == nbb_unformatted_code) {\n",
       "                             nbb_cells[i].set_text(nbb_formatted_code);\n",
       "                        }\n",
       "                        break;\n",
       "                    }\n",
       "                }\n",
       "            }, 500);\n",
       "            "
      ],
      "text/plain": [
       "<IPython.core.display.Javascript object>"
      ]
     },
     "metadata": {},
     "output_type": "display_data"
    }
   ],
   "source": [
    "audio = Audio.objects.first()"
   ]
  },
  {
   "cell_type": "code",
   "execution_count": 35,
   "id": "c4a4838e",
   "metadata": {},
   "outputs": [
    {
     "data": {
      "text/plain": [
       "['mp3', 'm4a', 'oga', 'opus']"
      ]
     },
     "execution_count": 35,
     "metadata": {},
     "output_type": "execute_result"
    },
    {
     "data": {
      "application/javascript": [
       "\n",
       "            setTimeout(function() {\n",
       "                var nbb_cell_id = 35;\n",
       "                var nbb_unformatted_code = \"audio.audio_formats\";\n",
       "                var nbb_formatted_code = \"audio.audio_formats\";\n",
       "                var nbb_cells = Jupyter.notebook.get_cells();\n",
       "                for (var i = 0; i < nbb_cells.length; ++i) {\n",
       "                    if (nbb_cells[i].input_prompt_number == nbb_cell_id) {\n",
       "                        if (nbb_cells[i].get_text() == nbb_unformatted_code) {\n",
       "                             nbb_cells[i].set_text(nbb_formatted_code);\n",
       "                        }\n",
       "                        break;\n",
       "                    }\n",
       "                }\n",
       "            }, 500);\n",
       "            "
      ],
      "text/plain": [
       "<IPython.core.display.Javascript object>"
      ]
     },
     "metadata": {},
     "output_type": "display_data"
    }
   ],
   "source": [
    "audio.audio_formats"
   ]
  },
  {
   "cell_type": "code",
   "execution_count": null,
   "id": "05d6edbb",
   "metadata": {},
   "outputs": [],
   "source": []
  }
 ],
 "metadata": {
  "kernelspec": {
   "display_name": "Django Shell-Plus",
   "language": "python",
   "name": "django_extensions"
  },
  "language_info": {
   "codemirror_mode": {
    "name": "ipython",
    "version": 3
   },
   "file_extension": ".py",
   "mimetype": "text/x-python",
   "name": "python",
   "nbconvert_exporter": "python",
   "pygments_lexer": "ipython3",
   "version": "3.9.7"
  }
 },
 "nbformat": 4,
 "nbformat_minor": 5
}
