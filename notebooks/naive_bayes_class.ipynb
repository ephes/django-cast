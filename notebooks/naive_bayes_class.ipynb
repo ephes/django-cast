{
 "cells": [
  {
   "cell_type": "code",
   "execution_count": 144,
   "id": "3e178f92",
   "metadata": {},
   "outputs": [
    {
     "name": "stdout",
     "output_type": "stream",
     "text": [
      "The nb_black extension is already loaded. To reload it, use:\n",
      "  %reload_ext nb_black\n"
     ]
    },
    {
     "data": {
      "application/javascript": [
       "\n",
       "            setTimeout(function() {\n",
       "                var nbb_cell_id = 144;\n",
       "                var nbb_unformatted_code = \"%load_ext nb_black\";\n",
       "                var nbb_formatted_code = \"%load_ext nb_black\";\n",
       "                var nbb_cells = Jupyter.notebook.get_cells();\n",
       "                for (var i = 0; i < nbb_cells.length; ++i) {\n",
       "                    if (nbb_cells[i].input_prompt_number == nbb_cell_id) {\n",
       "                        if (nbb_cells[i].get_text() == nbb_unformatted_code) {\n",
       "                             nbb_cells[i].set_text(nbb_formatted_code);\n",
       "                        }\n",
       "                        break;\n",
       "                    }\n",
       "                }\n",
       "            }, 500);\n",
       "            "
      ],
      "text/plain": [
       "<IPython.core.display.Javascript object>"
      ]
     },
     "metadata": {},
     "output_type": "display_data"
    }
   ],
   "source": [
    "%load_ext nb_black"
   ]
  },
  {
   "cell_type": "code",
   "execution_count": 147,
   "id": "4abbe6b3",
   "metadata": {},
   "outputs": [
    {
     "data": {
      "application/javascript": [
       "\n",
       "            setTimeout(function() {\n",
       "                var nbb_cell_id = 147;\n",
       "                var nbb_unformatted_code = \"from django_comments import get_model as get_comments_model\\n\\nComment = get_comments_model()\\n\\n\\ndef get_messages_from_comments():\\n    messages = []\\n    for comment in Comment.objects.all():\\n        label = \\\"spam\\\" if comment.is_removed else \\\"ham\\\"\\n        message = f\\\"{comment.name} {comment.title} {comment.comment}\\\"\\n        messages.append((label, message))\\n    return messages\\n\\n\\nmessages = get_messages_from_comments()\";\n",
       "                var nbb_formatted_code = \"from django_comments import get_model as get_comments_model\\n\\nComment = get_comments_model()\\n\\n\\ndef get_messages_from_comments():\\n    messages = []\\n    for comment in Comment.objects.all():\\n        label = \\\"spam\\\" if comment.is_removed else \\\"ham\\\"\\n        message = f\\\"{comment.name} {comment.title} {comment.comment}\\\"\\n        messages.append((label, message))\\n    return messages\\n\\n\\nmessages = get_messages_from_comments()\";\n",
       "                var nbb_cells = Jupyter.notebook.get_cells();\n",
       "                for (var i = 0; i < nbb_cells.length; ++i) {\n",
       "                    if (nbb_cells[i].input_prompt_number == nbb_cell_id) {\n",
       "                        if (nbb_cells[i].get_text() == nbb_unformatted_code) {\n",
       "                             nbb_cells[i].set_text(nbb_formatted_code);\n",
       "                        }\n",
       "                        break;\n",
       "                    }\n",
       "                }\n",
       "            }, 500);\n",
       "            "
      ],
      "text/plain": [
       "<IPython.core.display.Javascript object>"
      ]
     },
     "metadata": {},
     "output_type": "display_data"
    }
   ],
   "source": [
    "from django_comments import get_model as get_comments_model\n",
    "\n",
    "Comment = get_comments_model()\n",
    "\n",
    "\n",
    "def get_messages_from_comments():\n",
    "    messages = []\n",
    "    for comment in Comment.objects.all():\n",
    "        label = \"spam\" if comment.is_removed else \"ham\"\n",
    "        message = f\"{comment.name} {comment.title} {comment.comment}\"\n",
    "        messages.append((label, message))\n",
    "    return messages\n",
    "\n",
    "\n",
    "messages = get_messages_from_comments()"
   ]
  },
  {
   "cell_type": "code",
   "execution_count": 146,
   "id": "467c728e",
   "metadata": {},
   "outputs": [
    {
     "data": {
      "application/javascript": [
       "\n",
       "            setTimeout(function() {\n",
       "                var nbb_cell_id = 146;\n",
       "                var nbb_unformatted_code = \"import io\\nimport zipfile\\nimport requests\\n\\n\\ndef get_sms_messages():\\n    # download zip archive\\n    training_data_url = (\\n        \\\"https://d2b7dn9rofvhjd.cloudfront.net/sms-spam-collection-dataset.zip\\\"\\n    )\\n    response = requests.get(training_data_url)\\n    z = zipfile.ZipFile(io.BytesIO(response.content))\\n\\n    # parse messages\\n    spam_text = z.read(\\\"spam.csv\\\").decode(\\\"latin1\\\")\\n    lines = iter(spam_text.split(\\\"\\\\r\\\\n\\\"))\\n    skipped = next(lines)  # skip first line\\n\\n    messages = []\\n    for line in lines:\\n        line = line.rstrip(\\\",\\\")\\n        label, *message = line.split(\\\",\\\")\\n        messages.append((label, \\\" \\\".join(message)))\\n    return messages\\n\\n\\nmessages = get_sms_messages()\";\n",
       "                var nbb_formatted_code = \"import io\\nimport zipfile\\nimport requests\\n\\n\\ndef get_sms_messages():\\n    # download zip archive\\n    training_data_url = (\\n        \\\"https://d2b7dn9rofvhjd.cloudfront.net/sms-spam-collection-dataset.zip\\\"\\n    )\\n    response = requests.get(training_data_url)\\n    z = zipfile.ZipFile(io.BytesIO(response.content))\\n\\n    # parse messages\\n    spam_text = z.read(\\\"spam.csv\\\").decode(\\\"latin1\\\")\\n    lines = iter(spam_text.split(\\\"\\\\r\\\\n\\\"))\\n    skipped = next(lines)  # skip first line\\n\\n    messages = []\\n    for line in lines:\\n        line = line.rstrip(\\\",\\\")\\n        label, *message = line.split(\\\",\\\")\\n        messages.append((label, \\\" \\\".join(message)))\\n    return messages\\n\\n\\nmessages = get_sms_messages()\";\n",
       "                var nbb_cells = Jupyter.notebook.get_cells();\n",
       "                for (var i = 0; i < nbb_cells.length; ++i) {\n",
       "                    if (nbb_cells[i].input_prompt_number == nbb_cell_id) {\n",
       "                        if (nbb_cells[i].get_text() == nbb_unformatted_code) {\n",
       "                             nbb_cells[i].set_text(nbb_formatted_code);\n",
       "                        }\n",
       "                        break;\n",
       "                    }\n",
       "                }\n",
       "            }, 500);\n",
       "            "
      ],
      "text/plain": [
       "<IPython.core.display.Javascript object>"
      ]
     },
     "metadata": {},
     "output_type": "display_data"
    }
   ],
   "source": [
    "import io\n",
    "import zipfile\n",
    "import requests\n",
    "\n",
    "\n",
    "def get_sms_messages():\n",
    "    # download zip archive\n",
    "    training_data_url = (\n",
    "        \"https://d2b7dn9rofvhjd.cloudfront.net/sms-spam-collection-dataset.zip\"\n",
    "    )\n",
    "    response = requests.get(training_data_url)\n",
    "    z = zipfile.ZipFile(io.BytesIO(response.content))\n",
    "\n",
    "    # parse messages\n",
    "    spam_text = z.read(\"spam.csv\").decode(\"latin1\")\n",
    "    lines = iter(spam_text.split(\"\\r\\n\"))\n",
    "    skipped = next(lines)  # skip first line\n",
    "\n",
    "    messages = []\n",
    "    for line in lines:\n",
    "        line = line.rstrip(\",\")\n",
    "        label, *message = line.split(\",\")\n",
    "        messages.append((label, \" \".join(message)))\n",
    "    return messages\n",
    "\n",
    "\n",
    "messages = get_sms_messages()"
   ]
  },
  {
   "cell_type": "markdown",
   "id": "225e5e2c",
   "metadata": {},
   "source": [
    "## Tokenizer"
   ]
  },
  {
   "cell_type": "code",
   "execution_count": 148,
   "id": "ac184189",
   "metadata": {},
   "outputs": [
    {
     "data": {
      "application/javascript": [
       "\n",
       "            setTimeout(function() {\n",
       "                var nbb_cell_id = 148;\n",
       "                var nbb_unformatted_code = \"import re\\n\\ntoken_pattern = re.compile(r\\\"(?u)\\\\b\\\\w\\\\w+\\\\b\\\")\\nstandard_tokenizer = token_pattern.findall\\n\\n\\ndef tokenize(message):\\n    return standard_tokenizer(message.lower())\";\n",
       "                var nbb_formatted_code = \"import re\\n\\ntoken_pattern = re.compile(r\\\"(?u)\\\\b\\\\w\\\\w+\\\\b\\\")\\nstandard_tokenizer = token_pattern.findall\\n\\n\\ndef tokenize(message):\\n    return standard_tokenizer(message.lower())\";\n",
       "                var nbb_cells = Jupyter.notebook.get_cells();\n",
       "                for (var i = 0; i < nbb_cells.length; ++i) {\n",
       "                    if (nbb_cells[i].input_prompt_number == nbb_cell_id) {\n",
       "                        if (nbb_cells[i].get_text() == nbb_unformatted_code) {\n",
       "                             nbb_cells[i].set_text(nbb_formatted_code);\n",
       "                        }\n",
       "                        break;\n",
       "                    }\n",
       "                }\n",
       "            }, 500);\n",
       "            "
      ],
      "text/plain": [
       "<IPython.core.display.Javascript object>"
      ]
     },
     "metadata": {},
     "output_type": "display_data"
    }
   ],
   "source": [
    "import re\n",
    "\n",
    "token_pattern = re.compile(r\"(?u)\\b\\w\\w+\\b\")\n",
    "standard_tokenizer = token_pattern.findall\n",
    "\n",
    "\n",
    "def tokenize(message):\n",
    "    return standard_tokenizer(message.lower())"
   ]
  },
  {
   "cell_type": "markdown",
   "id": "3ec41993",
   "metadata": {},
   "source": [
    "## Model"
   ]
  },
  {
   "cell_type": "code",
   "execution_count": 149,
   "id": "7ba99849",
   "metadata": {},
   "outputs": [
    {
     "data": {
      "application/javascript": [
       "\n",
       "            setTimeout(function() {\n",
       "                var nbb_cell_id = 149;\n",
       "                var nbb_unformatted_code = \"from collections import defaultdict\\n\\n\\ndef get_initial_probabilities(total):\\n    initial_probabilities = {}\\n    all_observations = sum(total.values())\\n    for label, observations_per_label in total.items():\\n        initial_probabilities[label] = observations_per_label / all_observations\\n    return initial_probabilities\\n\\n\\ndef get_words_per_label(counts):\\n    words_per_label = defaultdict(int)\\n    for word, label_counts in counts.items():\\n        for label, count in label_counts.items():\\n            words_per_label[label] += 1\\n    return words_per_label\\n\\n\\ndef get_counts(messages):\\n    total = defaultdict(int)\\n    counts = defaultdict(lambda: defaultdict(int))\\n    for label, message in messages:\\n        total[label] += 1\\n        for word in tokenize(message):\\n            counts[word][label] += 1\\n    return {\\\"examples_by_label\\\": total, \\\"counts\\\": counts}\\n\\n\\ndef normalize(label_results):\\n    try:\\n        scale_factor = 1.0 / sum(label_results.values())\\n    except ZeroDivisionError:\\n        scale_factor = 1\\n    for label, probability in label_results.items():\\n        label_results[label] = probability * scale_factor\\n    return label_results\\n\\n\\nclass NaiveBayes:\\n    def __init__(self, tokenize=tokenize):\\n        self.tokenize = tokenize\\n\\n    def build_model(self, counts={}, examples_by_label={}):\\n        self.counts, self.example_by_label = counts, examples_by_label\\n        self.labels = list(examples_by_label.keys())\\n        self.words_per_label = get_words_per_label(counts)\\n        self.minimal_probability = 1.0 / sum(self.words_per_label.values())\\n        self.initial_probabilities = get_initial_probabilities(examples_by_label)\\n        return self\\n\\n    def dict(self):\\n        return {\\n            \\\"counts\\\": self.counts,\\n            \\\"examples_by_label\\\": self.examples_by_label,\\n        }\\n\\n    def from_dict(self, serialized):\\n        return self.build_model(**serialized)\\n\\n    def fit(self, messages):\\n        return self.build_model(**get_counts(messages))\\n\\n    def predict(self, message):\\n        label_results = {}\\n        for word in self.tokenize(message):\\n            for label in self.labels:\\n                counts_per_label = self.counts.get(word, {})\\n                if label in counts_per_label:\\n                    label_frequency = (\\n                        counts_per_label[label] / self.words_per_label[label]\\n                    )\\n                else:\\n                    label_frequency = self.minimal_probability\\n                previous_result = label_results.get(\\n                    label, self.initial_probabilities[label]\\n                )\\n                label_results[label] = previous_result * label_frequency\\n        if label_results == {}:\\n            label_results = dict(self.initial_probabilities)\\n        return normalize(label_results)\\n\\n    def predict_label(self, message):\\n        predicted = self.predict(message)\\n        return sorted([(v, k) for k, v in predicted.items()], reverse=True)[0][1]\";\n",
       "                var nbb_formatted_code = \"from collections import defaultdict\\n\\n\\ndef get_initial_probabilities(total):\\n    initial_probabilities = {}\\n    all_observations = sum(total.values())\\n    for label, observations_per_label in total.items():\\n        initial_probabilities[label] = observations_per_label / all_observations\\n    return initial_probabilities\\n\\n\\ndef get_words_per_label(counts):\\n    words_per_label = defaultdict(int)\\n    for word, label_counts in counts.items():\\n        for label, count in label_counts.items():\\n            words_per_label[label] += 1\\n    return words_per_label\\n\\n\\ndef get_counts(messages):\\n    total = defaultdict(int)\\n    counts = defaultdict(lambda: defaultdict(int))\\n    for label, message in messages:\\n        total[label] += 1\\n        for word in tokenize(message):\\n            counts[word][label] += 1\\n    return {\\\"examples_by_label\\\": total, \\\"counts\\\": counts}\\n\\n\\ndef normalize(label_results):\\n    try:\\n        scale_factor = 1.0 / sum(label_results.values())\\n    except ZeroDivisionError:\\n        scale_factor = 1\\n    for label, probability in label_results.items():\\n        label_results[label] = probability * scale_factor\\n    return label_results\\n\\n\\nclass NaiveBayes:\\n    def __init__(self, tokenize=tokenize):\\n        self.tokenize = tokenize\\n\\n    def build_model(self, counts={}, examples_by_label={}):\\n        self.counts, self.example_by_label = counts, examples_by_label\\n        self.labels = list(examples_by_label.keys())\\n        self.words_per_label = get_words_per_label(counts)\\n        self.minimal_probability = 1.0 / sum(self.words_per_label.values())\\n        self.initial_probabilities = get_initial_probabilities(examples_by_label)\\n        return self\\n\\n    def dict(self):\\n        return {\\n            \\\"counts\\\": self.counts,\\n            \\\"examples_by_label\\\": self.examples_by_label,\\n        }\\n\\n    def from_dict(self, serialized):\\n        return self.build_model(**serialized)\\n\\n    def fit(self, messages):\\n        return self.build_model(**get_counts(messages))\\n\\n    def predict(self, message):\\n        label_results = {}\\n        for word in self.tokenize(message):\\n            for label in self.labels:\\n                counts_per_label = self.counts.get(word, {})\\n                if label in counts_per_label:\\n                    label_frequency = (\\n                        counts_per_label[label] / self.words_per_label[label]\\n                    )\\n                else:\\n                    label_frequency = self.minimal_probability\\n                previous_result = label_results.get(\\n                    label, self.initial_probabilities[label]\\n                )\\n                label_results[label] = previous_result * label_frequency\\n        if label_results == {}:\\n            label_results = dict(self.initial_probabilities)\\n        return normalize(label_results)\\n\\n    def predict_label(self, message):\\n        predicted = self.predict(message)\\n        return sorted([(v, k) for k, v in predicted.items()], reverse=True)[0][1]\";\n",
       "                var nbb_cells = Jupyter.notebook.get_cells();\n",
       "                for (var i = 0; i < nbb_cells.length; ++i) {\n",
       "                    if (nbb_cells[i].input_prompt_number == nbb_cell_id) {\n",
       "                        if (nbb_cells[i].get_text() == nbb_unformatted_code) {\n",
       "                             nbb_cells[i].set_text(nbb_formatted_code);\n",
       "                        }\n",
       "                        break;\n",
       "                    }\n",
       "                }\n",
       "            }, 500);\n",
       "            "
      ],
      "text/plain": [
       "<IPython.core.display.Javascript object>"
      ]
     },
     "metadata": {},
     "output_type": "display_data"
    }
   ],
   "source": [
    "from collections import defaultdict\n",
    "\n",
    "\n",
    "def get_initial_probabilities(total):\n",
    "    initial_probabilities = {}\n",
    "    all_observations = sum(total.values())\n",
    "    for label, observations_per_label in total.items():\n",
    "        initial_probabilities[label] = observations_per_label / all_observations\n",
    "    return initial_probabilities\n",
    "\n",
    "\n",
    "def get_words_per_label(counts):\n",
    "    words_per_label = defaultdict(int)\n",
    "    for word, label_counts in counts.items():\n",
    "        for label, count in label_counts.items():\n",
    "            words_per_label[label] += 1\n",
    "    return words_per_label\n",
    "\n",
    "\n",
    "def get_counts(messages):\n",
    "    total = defaultdict(int)\n",
    "    counts = defaultdict(lambda: defaultdict(int))\n",
    "    for label, message in messages:\n",
    "        total[label] += 1\n",
    "        for word in tokenize(message):\n",
    "            counts[word][label] += 1\n",
    "    return {\"examples_by_label\": total, \"counts\": counts}\n",
    "\n",
    "\n",
    "def normalize(label_results):\n",
    "    try:\n",
    "        scale_factor = 1.0 / sum(label_results.values())\n",
    "    except ZeroDivisionError:\n",
    "        scale_factor = 1\n",
    "    for label, probability in label_results.items():\n",
    "        label_results[label] = probability * scale_factor\n",
    "    return label_results\n",
    "\n",
    "\n",
    "class NaiveBayes:\n",
    "    def __init__(self, tokenize=tokenize):\n",
    "        self.tokenize = tokenize\n",
    "\n",
    "    def build_model(self, counts={}, examples_by_label={}):\n",
    "        self.counts, self.example_by_label = counts, examples_by_label\n",
    "        self.labels = list(examples_by_label.keys())\n",
    "        self.words_per_label = get_words_per_label(counts)\n",
    "        self.minimal_probability = 1.0 / sum(self.words_per_label.values())\n",
    "        self.initial_probabilities = get_initial_probabilities(examples_by_label)\n",
    "        return self\n",
    "\n",
    "    def dict(self):\n",
    "        return {\n",
    "            \"counts\": self.counts,\n",
    "            \"examples_by_label\": self.examples_by_label,\n",
    "        }\n",
    "\n",
    "    def from_dict(self, serialized):\n",
    "        return self.build_model(**serialized)\n",
    "\n",
    "    def fit(self, messages):\n",
    "        return self.build_model(**get_counts(messages))\n",
    "\n",
    "    def predict(self, message):\n",
    "        label_results = {}\n",
    "        for word in self.tokenize(message):\n",
    "            for label in self.labels:\n",
    "                counts_per_label = self.counts.get(word, {})\n",
    "                if label in counts_per_label:\n",
    "                    label_frequency = (\n",
    "                        counts_per_label[label] / self.words_per_label[label]\n",
    "                    )\n",
    "                else:\n",
    "                    label_frequency = self.minimal_probability\n",
    "                previous_result = label_results.get(\n",
    "                    label, self.initial_probabilities[label]\n",
    "                )\n",
    "                label_results[label] = previous_result * label_frequency\n",
    "        if label_results == {}:\n",
    "            label_results = dict(self.initial_probabilities)\n",
    "        return normalize(label_results)\n",
    "\n",
    "    def predict_label(self, message):\n",
    "        predicted = self.predict(message)\n",
    "        return sorted([(v, k) for k, v in predicted.items()], reverse=True)[0][1]"
   ]
  },
  {
   "cell_type": "code",
   "execution_count": 150,
   "id": "7770f527",
   "metadata": {},
   "outputs": [
    {
     "data": {
      "application/javascript": [
       "\n",
       "            setTimeout(function() {\n",
       "                var nbb_cell_id = 150;\n",
       "                var nbb_unformatted_code = \"model = NaiveBayes().fit(messages)\";\n",
       "                var nbb_formatted_code = \"model = NaiveBayes().fit(messages)\";\n",
       "                var nbb_cells = Jupyter.notebook.get_cells();\n",
       "                for (var i = 0; i < nbb_cells.length; ++i) {\n",
       "                    if (nbb_cells[i].input_prompt_number == nbb_cell_id) {\n",
       "                        if (nbb_cells[i].get_text() == nbb_unformatted_code) {\n",
       "                             nbb_cells[i].set_text(nbb_formatted_code);\n",
       "                        }\n",
       "                        break;\n",
       "                    }\n",
       "                }\n",
       "            }, 500);\n",
       "            "
      ],
      "text/plain": [
       "<IPython.core.display.Javascript object>"
      ]
     },
     "metadata": {},
     "output_type": "display_data"
    }
   ],
   "source": [
    "model = NaiveBayes().fit(messages)"
   ]
  },
  {
   "cell_type": "code",
   "execution_count": 151,
   "id": "44021fea",
   "metadata": {},
   "outputs": [
    {
     "data": {
      "text/plain": [
       "defaultdict(int, {'ham': 1568, 'spam': 2715})"
      ]
     },
     "execution_count": 151,
     "metadata": {},
     "output_type": "execute_result"
    },
    {
     "data": {
      "application/javascript": [
       "\n",
       "            setTimeout(function() {\n",
       "                var nbb_cell_id = 151;\n",
       "                var nbb_unformatted_code = \"model.words_per_label\";\n",
       "                var nbb_formatted_code = \"model.words_per_label\";\n",
       "                var nbb_cells = Jupyter.notebook.get_cells();\n",
       "                for (var i = 0; i < nbb_cells.length; ++i) {\n",
       "                    if (nbb_cells[i].input_prompt_number == nbb_cell_id) {\n",
       "                        if (nbb_cells[i].get_text() == nbb_unformatted_code) {\n",
       "                             nbb_cells[i].set_text(nbb_formatted_code);\n",
       "                        }\n",
       "                        break;\n",
       "                    }\n",
       "                }\n",
       "            }, 500);\n",
       "            "
      ],
      "text/plain": [
       "<IPython.core.display.Javascript object>"
      ]
     },
     "metadata": {},
     "output_type": "display_data"
    }
   ],
   "source": [
    "model.words_per_label"
   ]
  },
  {
   "cell_type": "code",
   "execution_count": 152,
   "id": "0e4d689f",
   "metadata": {},
   "outputs": [
    {
     "data": {
      "application/javascript": [
       "\n",
       "            setTimeout(function() {\n",
       "                var nbb_cell_id = 152;\n",
       "                var nbb_unformatted_code = \"my_spam_message = \\\"eric jones website opportunity\\\"\\nmy_ham_message = \\\"das war aber eine sch\\u00f6ne episode\\\"\";\n",
       "                var nbb_formatted_code = \"my_spam_message = \\\"eric jones website opportunity\\\"\\nmy_ham_message = \\\"das war aber eine sch\\u00f6ne episode\\\"\";\n",
       "                var nbb_cells = Jupyter.notebook.get_cells();\n",
       "                for (var i = 0; i < nbb_cells.length; ++i) {\n",
       "                    if (nbb_cells[i].input_prompt_number == nbb_cell_id) {\n",
       "                        if (nbb_cells[i].get_text() == nbb_unformatted_code) {\n",
       "                             nbb_cells[i].set_text(nbb_formatted_code);\n",
       "                        }\n",
       "                        break;\n",
       "                    }\n",
       "                }\n",
       "            }, 500);\n",
       "            "
      ],
      "text/plain": [
       "<IPython.core.display.Javascript object>"
      ]
     },
     "metadata": {},
     "output_type": "display_data"
    }
   ],
   "source": [
    "my_spam_message = \"eric jones website opportunity\"\n",
    "my_ham_message = \"das war aber eine schöne episode\""
   ]
  },
  {
   "cell_type": "code",
   "execution_count": 153,
   "id": "fc2dfa27",
   "metadata": {},
   "outputs": [
    {
     "name": "stdout",
     "output_type": "stream",
     "text": [
      " ham: 1.00000000\n",
      "spam: 0.00000000\n",
      "CPU times: user 2.92 ms, sys: 1.95 ms, total: 4.88 ms\n",
      "Wall time: 3.41 ms\n"
     ]
    },
    {
     "data": {
      "application/javascript": [
       "\n",
       "            setTimeout(function() {\n",
       "                var nbb_cell_id = 153;\n",
       "                var nbb_unformatted_code = \"%%time\\nresult = model.predict(my_ham_message)\\nfor label, probability in result.items():\\n    print(f\\\"{label:>4}: {probability:.8f}\\\")\";\n",
       "                var nbb_formatted_code = \"%%time\\nresult = model.predict(my_ham_message)\\nfor label, probability in result.items():\\n    print(f\\\"{label:>4}: {probability:.8f}\\\")\";\n",
       "                var nbb_cells = Jupyter.notebook.get_cells();\n",
       "                for (var i = 0; i < nbb_cells.length; ++i) {\n",
       "                    if (nbb_cells[i].input_prompt_number == nbb_cell_id) {\n",
       "                        if (nbb_cells[i].get_text() == nbb_unformatted_code) {\n",
       "                             nbb_cells[i].set_text(nbb_formatted_code);\n",
       "                        }\n",
       "                        break;\n",
       "                    }\n",
       "                }\n",
       "            }, 500);\n",
       "            "
      ],
      "text/plain": [
       "<IPython.core.display.Javascript object>"
      ]
     },
     "metadata": {},
     "output_type": "display_data"
    }
   ],
   "source": [
    "%%time\n",
    "result = model.predict(my_ham_message)\n",
    "for label, probability in result.items():\n",
    "    print(f\"{label:>4}: {probability:.8f}\")"
   ]
  },
  {
   "cell_type": "markdown",
   "id": "e515c4f0",
   "metadata": {},
   "source": [
    "# Split Train/Test"
   ]
  },
  {
   "cell_type": "code",
   "execution_count": 154,
   "id": "9222a881",
   "metadata": {},
   "outputs": [
    {
     "data": {
      "application/javascript": [
       "\n",
       "            setTimeout(function() {\n",
       "                var nbb_cell_id = 154;\n",
       "                var nbb_unformatted_code = \"import random\\n\\nrandom.seed(2021)  # make sure the same messages are choosen between restarts\\n\\n\\ndef split_train_test(messages, test_quote=0.1):\\n    messages_by_label = defaultdict(list)\\n    for label, text in messages:\\n        messages_by_label[label].append((label, text))\\n\\n    # stratified sampling\\n    test, train = [], []\\n    for label, label_messages in messages_by_label.items():\\n        indices = list(range(len(label_messages)))\\n        test_len = int(len(indices) * test_quote)\\n        test_indices = set(random.sample(indices, test_len))\\n        for index, message in enumerate(label_messages):\\n            if index in test_indices:\\n                test.append(message)\\n            else:\\n                train.append(message)\\n    return train, test\";\n",
       "                var nbb_formatted_code = \"import random\\n\\nrandom.seed(2021)  # make sure the same messages are choosen between restarts\\n\\n\\ndef split_train_test(messages, test_quote=0.1):\\n    messages_by_label = defaultdict(list)\\n    for label, text in messages:\\n        messages_by_label[label].append((label, text))\\n\\n    # stratified sampling\\n    test, train = [], []\\n    for label, label_messages in messages_by_label.items():\\n        indices = list(range(len(label_messages)))\\n        test_len = int(len(indices) * test_quote)\\n        test_indices = set(random.sample(indices, test_len))\\n        for index, message in enumerate(label_messages):\\n            if index in test_indices:\\n                test.append(message)\\n            else:\\n                train.append(message)\\n    return train, test\";\n",
       "                var nbb_cells = Jupyter.notebook.get_cells();\n",
       "                for (var i = 0; i < nbb_cells.length; ++i) {\n",
       "                    if (nbb_cells[i].input_prompt_number == nbb_cell_id) {\n",
       "                        if (nbb_cells[i].get_text() == nbb_unformatted_code) {\n",
       "                             nbb_cells[i].set_text(nbb_formatted_code);\n",
       "                        }\n",
       "                        break;\n",
       "                    }\n",
       "                }\n",
       "            }, 500);\n",
       "            "
      ],
      "text/plain": [
       "<IPython.core.display.Javascript object>"
      ]
     },
     "metadata": {},
     "output_type": "display_data"
    }
   ],
   "source": [
    "import random\n",
    "\n",
    "random.seed(2021)  # make sure the same messages are choosen between restarts\n",
    "\n",
    "\n",
    "def split_train_test(messages, test_quote=0.1):\n",
    "    messages_by_label = defaultdict(list)\n",
    "    for label, text in messages:\n",
    "        messages_by_label[label].append((label, text))\n",
    "\n",
    "    # stratified sampling\n",
    "    test, train = [], []\n",
    "    for label, label_messages in messages_by_label.items():\n",
    "        indices = list(range(len(label_messages)))\n",
    "        test_len = int(len(indices) * test_quote)\n",
    "        test_indices = set(random.sample(indices, test_len))\n",
    "        for index, message in enumerate(label_messages):\n",
    "            if index in test_indices:\n",
    "                test.append(message)\n",
    "            else:\n",
    "                train.append(message)\n",
    "    return train, test"
   ]
  },
  {
   "cell_type": "code",
   "execution_count": 155,
   "id": "f4a0c5c2",
   "metadata": {},
   "outputs": [
    {
     "data": {
      "text/plain": [
       "(310, 34)"
      ]
     },
     "execution_count": 155,
     "metadata": {},
     "output_type": "execute_result"
    },
    {
     "data": {
      "application/javascript": [
       "\n",
       "            setTimeout(function() {\n",
       "                var nbb_cell_id = 155;\n",
       "                var nbb_unformatted_code = \"train_messages, test_messages = split_train_test(messages)\\nlen(train_messages), len(test_messages)\";\n",
       "                var nbb_formatted_code = \"train_messages, test_messages = split_train_test(messages)\\nlen(train_messages), len(test_messages)\";\n",
       "                var nbb_cells = Jupyter.notebook.get_cells();\n",
       "                for (var i = 0; i < nbb_cells.length; ++i) {\n",
       "                    if (nbb_cells[i].input_prompt_number == nbb_cell_id) {\n",
       "                        if (nbb_cells[i].get_text() == nbb_unformatted_code) {\n",
       "                             nbb_cells[i].set_text(nbb_formatted_code);\n",
       "                        }\n",
       "                        break;\n",
       "                    }\n",
       "                }\n",
       "            }, 500);\n",
       "            "
      ],
      "text/plain": [
       "<IPython.core.display.Javascript object>"
      ]
     },
     "metadata": {},
     "output_type": "display_data"
    }
   ],
   "source": [
    "train_messages, test_messages = split_train_test(messages)\n",
    "len(train_messages), len(test_messages)"
   ]
  },
  {
   "cell_type": "markdown",
   "id": "cd28c561",
   "metadata": {},
   "source": [
    "# Train Model"
   ]
  },
  {
   "cell_type": "code",
   "execution_count": 156,
   "id": "86e2d4af",
   "metadata": {},
   "outputs": [
    {
     "name": "stdout",
     "output_type": "stream",
     "text": [
      "258 86\n",
      "CPU times: user 24.9 ms, sys: 2.03 ms, total: 27 ms\n",
      "Wall time: 25.5 ms\n"
     ]
    },
    {
     "data": {
      "application/javascript": [
       "\n",
       "            setTimeout(function() {\n",
       "                var nbb_cell_id = 156;\n",
       "                var nbb_unformatted_code = \"%%time\\ntrain_messages, test_messages = split_train_test(messages, test_quote=0.25)\\nprint(len(train_messages), len(test_messages))\\nmodel = NaiveBayes().fit(train_messages)\";\n",
       "                var nbb_formatted_code = \"%%time\\ntrain_messages, test_messages = split_train_test(messages, test_quote=0.25)\\nprint(len(train_messages), len(test_messages))\\nmodel = NaiveBayes().fit(train_messages)\";\n",
       "                var nbb_cells = Jupyter.notebook.get_cells();\n",
       "                for (var i = 0; i < nbb_cells.length; ++i) {\n",
       "                    if (nbb_cells[i].input_prompt_number == nbb_cell_id) {\n",
       "                        if (nbb_cells[i].get_text() == nbb_unformatted_code) {\n",
       "                             nbb_cells[i].set_text(nbb_formatted_code);\n",
       "                        }\n",
       "                        break;\n",
       "                    }\n",
       "                }\n",
       "            }, 500);\n",
       "            "
      ],
      "text/plain": [
       "<IPython.core.display.Javascript object>"
      ]
     },
     "metadata": {},
     "output_type": "display_data"
    }
   ],
   "source": [
    "%%time\n",
    "train_messages, test_messages = split_train_test(messages, test_quote=0.25)\n",
    "print(len(train_messages), len(test_messages))\n",
    "model = NaiveBayes().fit(train_messages)"
   ]
  },
  {
   "cell_type": "markdown",
   "id": "5eb44690",
   "metadata": {},
   "source": [
    "# Evaluate"
   ]
  },
  {
   "cell_type": "code",
   "execution_count": 157,
   "id": "6d389943",
   "metadata": {},
   "outputs": [
    {
     "name": "stdout",
     "output_type": "stream",
     "text": [
      "Accuracy: 0.965\n",
      "CPU times: user 19.5 ms, sys: 1.58 ms, total: 21 ms\n",
      "Wall time: 19.7 ms\n"
     ]
    },
    {
     "data": {
      "application/javascript": [
       "\n",
       "            setTimeout(function() {\n",
       "                var nbb_cell_id = 157;\n",
       "                var nbb_unformatted_code = \"%%time\\n\\ntrue_positives = 0\\nall_observations = len(test_messages)\\n\\nfor label, message in test_messages:\\n    if model.predict_label(message) == label:\\n        true_positives += 1\\n\\naccuracy = true_positives / all_observations\\nprint(f\\\"Accuracy: {accuracy:.3f}\\\")\";\n",
       "                var nbb_formatted_code = \"%%time\\n\\ntrue_positives = 0\\nall_observations = len(test_messages)\\n\\nfor label, message in test_messages:\\n    if model.predict_label(message) == label:\\n        true_positives += 1\\n\\naccuracy = true_positives / all_observations\\nprint(f\\\"Accuracy: {accuracy:.3f}\\\")\";\n",
       "                var nbb_cells = Jupyter.notebook.get_cells();\n",
       "                for (var i = 0; i < nbb_cells.length; ++i) {\n",
       "                    if (nbb_cells[i].input_prompt_number == nbb_cell_id) {\n",
       "                        if (nbb_cells[i].get_text() == nbb_unformatted_code) {\n",
       "                             nbb_cells[i].set_text(nbb_formatted_code);\n",
       "                        }\n",
       "                        break;\n",
       "                    }\n",
       "                }\n",
       "            }, 500);\n",
       "            "
      ],
      "text/plain": [
       "<IPython.core.display.Javascript object>"
      ]
     },
     "metadata": {},
     "output_type": "display_data"
    }
   ],
   "source": [
    "%%time\n",
    "\n",
    "true_positives = 0\n",
    "all_observations = len(test_messages)\n",
    "\n",
    "for label, message in test_messages:\n",
    "    if model.predict_label(message) == label:\n",
    "        true_positives += 1\n",
    "\n",
    "accuracy = true_positives / all_observations\n",
    "print(f\"Accuracy: {accuracy:.3f}\")"
   ]
  },
  {
   "cell_type": "code",
   "execution_count": 158,
   "id": "e9fd62b0",
   "metadata": {},
   "outputs": [
    {
     "data": {
      "application/javascript": [
       "\n",
       "            setTimeout(function() {\n",
       "                var nbb_cell_id = 158;\n",
       "                var nbb_unformatted_code = \"outcomes = ((\\\"true\\\", \\\"false\\\"), (\\\"positive\\\", \\\"negative\\\"))\\npossible_results = [f\\\"{a}_{b}\\\" for b in outcomes[1] for a in outcomes[0]]\\nresult_template = dict.fromkeys(possible_results, 0)\\n\\nlabels = set(model.labels)\\nlabel_results = {label: dict(result_template) for label in labels}\\nall_observations = len(test_messages)\\n\\nfor label, message in test_messages:\\n    predicted = model.predict_label(message)\\n    if label == predicted:\\n        label_results[label][\\\"true_positive\\\"] += 1\\n    else:\\n        label_results[label][\\\"false_negative\\\"] += 1\\n        label_results[predicted][\\\"false_positive\\\"] += 1\";\n",
       "                var nbb_formatted_code = \"outcomes = ((\\\"true\\\", \\\"false\\\"), (\\\"positive\\\", \\\"negative\\\"))\\npossible_results = [f\\\"{a}_{b}\\\" for b in outcomes[1] for a in outcomes[0]]\\nresult_template = dict.fromkeys(possible_results, 0)\\n\\nlabels = set(model.labels)\\nlabel_results = {label: dict(result_template) for label in labels}\\nall_observations = len(test_messages)\\n\\nfor label, message in test_messages:\\n    predicted = model.predict_label(message)\\n    if label == predicted:\\n        label_results[label][\\\"true_positive\\\"] += 1\\n    else:\\n        label_results[label][\\\"false_negative\\\"] += 1\\n        label_results[predicted][\\\"false_positive\\\"] += 1\";\n",
       "                var nbb_cells = Jupyter.notebook.get_cells();\n",
       "                for (var i = 0; i < nbb_cells.length; ++i) {\n",
       "                    if (nbb_cells[i].input_prompt_number == nbb_cell_id) {\n",
       "                        if (nbb_cells[i].get_text() == nbb_unformatted_code) {\n",
       "                             nbb_cells[i].set_text(nbb_formatted_code);\n",
       "                        }\n",
       "                        break;\n",
       "                    }\n",
       "                }\n",
       "            }, 500);\n",
       "            "
      ],
      "text/plain": [
       "<IPython.core.display.Javascript object>"
      ]
     },
     "metadata": {},
     "output_type": "display_data"
    }
   ],
   "source": [
    "outcomes = ((\"true\", \"false\"), (\"positive\", \"negative\"))\n",
    "possible_results = [f\"{a}_{b}\" for b in outcomes[1] for a in outcomes[0]]\n",
    "result_template = dict.fromkeys(possible_results, 0)\n",
    "\n",
    "labels = set(model.labels)\n",
    "label_results = {label: dict(result_template) for label in labels}\n",
    "all_observations = len(test_messages)\n",
    "\n",
    "for label, message in test_messages:\n",
    "    predicted = model.predict_label(message)\n",
    "    if label == predicted:\n",
    "        label_results[label][\"true_positive\"] += 1\n",
    "    else:\n",
    "        label_results[label][\"false_negative\"] += 1\n",
    "        label_results[predicted][\"false_positive\"] += 1"
   ]
  },
  {
   "cell_type": "code",
   "execution_count": 159,
   "id": "7a4933fc",
   "metadata": {},
   "outputs": [
    {
     "data": {
      "application/javascript": [
       "\n",
       "            setTimeout(function() {\n",
       "                var nbb_cell_id = 159;\n",
       "                var nbb_unformatted_code = \"def precision_recall_f1(result):\\n    all_observations = sum(result.values())\\n    tp = result[\\\"true_positive\\\"]\\n    fp = result[\\\"false_positive\\\"]\\n    fn = result[\\\"false_negative\\\"]\\n    precision = tp / (tp + fp)\\n    recall = tp / (tp + fn)\\n    f1 = 2 * (precision * recall) / (precision + recall)\\n    return precision, recall, f1\\n\\n\\ndef show_result(label_results):\\n    for label, result in label_results.items():\\n        precision, recall, f1 = precision_recall_f1(result)\\n        print(\\n            f\\\"{label: >4} f1: {f1:.3f} precision: {precision:.3f} recall: {recall:.3f}\\\"\\n        )\";\n",
       "                var nbb_formatted_code = \"def precision_recall_f1(result):\\n    all_observations = sum(result.values())\\n    tp = result[\\\"true_positive\\\"]\\n    fp = result[\\\"false_positive\\\"]\\n    fn = result[\\\"false_negative\\\"]\\n    precision = tp / (tp + fp)\\n    recall = tp / (tp + fn)\\n    f1 = 2 * (precision * recall) / (precision + recall)\\n    return precision, recall, f1\\n\\n\\ndef show_result(label_results):\\n    for label, result in label_results.items():\\n        precision, recall, f1 = precision_recall_f1(result)\\n        print(\\n            f\\\"{label: >4} f1: {f1:.3f} precision: {precision:.3f} recall: {recall:.3f}\\\"\\n        )\";\n",
       "                var nbb_cells = Jupyter.notebook.get_cells();\n",
       "                for (var i = 0; i < nbb_cells.length; ++i) {\n",
       "                    if (nbb_cells[i].input_prompt_number == nbb_cell_id) {\n",
       "                        if (nbb_cells[i].get_text() == nbb_unformatted_code) {\n",
       "                             nbb_cells[i].set_text(nbb_formatted_code);\n",
       "                        }\n",
       "                        break;\n",
       "                    }\n",
       "                }\n",
       "            }, 500);\n",
       "            "
      ],
      "text/plain": [
       "<IPython.core.display.Javascript object>"
      ]
     },
     "metadata": {},
     "output_type": "display_data"
    }
   ],
   "source": [
    "def precision_recall_f1(result):\n",
    "    all_observations = sum(result.values())\n",
    "    tp = result[\"true_positive\"]\n",
    "    fp = result[\"false_positive\"]\n",
    "    fn = result[\"false_negative\"]\n",
    "    precision = tp / (tp + fp)\n",
    "    recall = tp / (tp + fn)\n",
    "    f1 = 2 * (precision * recall) / (precision + recall)\n",
    "    return precision, recall, f1\n",
    "\n",
    "\n",
    "def show_result(label_results):\n",
    "    for label, result in label_results.items():\n",
    "        precision, recall, f1 = precision_recall_f1(result)\n",
    "        print(\n",
    "            f\"{label: >4} f1: {f1:.3f} precision: {precision:.3f} recall: {recall:.3f}\"\n",
    "        )"
   ]
  },
  {
   "cell_type": "code",
   "execution_count": 128,
   "id": "e93b8f80",
   "metadata": {},
   "outputs": [
    {
     "name": "stdout",
     "output_type": "stream",
     "text": [
      "spam f1: 0.977 precision: 0.955 recall: 1.000\n",
      " ham f1: 0.930 precision: 1.000 recall: 0.870\n"
     ]
    },
    {
     "data": {
      "application/javascript": [
       "\n",
       "            setTimeout(function() {\n",
       "                var nbb_cell_id = 128;\n",
       "                var nbb_unformatted_code = \"show_result(label_results)\";\n",
       "                var nbb_formatted_code = \"show_result(label_results)\";\n",
       "                var nbb_cells = Jupyter.notebook.get_cells();\n",
       "                for (var i = 0; i < nbb_cells.length; ++i) {\n",
       "                    if (nbb_cells[i].input_prompt_number == nbb_cell_id) {\n",
       "                        if (nbb_cells[i].get_text() == nbb_unformatted_code) {\n",
       "                             nbb_cells[i].set_text(nbb_formatted_code);\n",
       "                        }\n",
       "                        break;\n",
       "                    }\n",
       "                }\n",
       "            }, 500);\n",
       "            "
      ],
      "text/plain": [
       "<IPython.core.display.Javascript object>"
      ]
     },
     "metadata": {},
     "output_type": "display_data"
    }
   ],
   "source": [
    "show_result(label_results)"
   ]
  },
  {
   "cell_type": "code",
   "execution_count": 129,
   "id": "17640492",
   "metadata": {},
   "outputs": [
    {
     "data": {
      "text/plain": [
       "defaultdict(int, {'ham': 69, 'spam': 189})"
      ]
     },
     "execution_count": 129,
     "metadata": {},
     "output_type": "execute_result"
    },
    {
     "data": {
      "application/javascript": [
       "\n",
       "            setTimeout(function() {\n",
       "                var nbb_cell_id = 129;\n",
       "                var nbb_unformatted_code = \"model.example_by_label\";\n",
       "                var nbb_formatted_code = \"model.example_by_label\";\n",
       "                var nbb_cells = Jupyter.notebook.get_cells();\n",
       "                for (var i = 0; i < nbb_cells.length; ++i) {\n",
       "                    if (nbb_cells[i].input_prompt_number == nbb_cell_id) {\n",
       "                        if (nbb_cells[i].get_text() == nbb_unformatted_code) {\n",
       "                             nbb_cells[i].set_text(nbb_formatted_code);\n",
       "                        }\n",
       "                        break;\n",
       "                    }\n",
       "                }\n",
       "            }, 500);\n",
       "            "
      ],
      "text/plain": [
       "<IPython.core.display.Javascript object>"
      ]
     },
     "metadata": {},
     "output_type": "display_data"
    }
   ],
   "source": [
    "model.example_by_label"
   ]
  },
  {
   "cell_type": "code",
   "execution_count": 143,
   "id": "56638692",
   "metadata": {},
   "outputs": [
    {
     "name": "stdout",
     "output_type": "stream",
     "text": [
      "spam f1: 0.944 precision: 0.994 recall: 0.898\n",
      " ham f1: 0.992 precision: 0.984 recall: 0.999\n"
     ]
    },
    {
     "data": {
      "application/javascript": [
       "\n",
       "            setTimeout(function() {\n",
       "                var nbb_cell_id = 143;\n",
       "                var nbb_unformatted_code = \"show_result(label_results)\";\n",
       "                var nbb_formatted_code = \"show_result(label_results)\";\n",
       "                var nbb_cells = Jupyter.notebook.get_cells();\n",
       "                for (var i = 0; i < nbb_cells.length; ++i) {\n",
       "                    if (nbb_cells[i].input_prompt_number == nbb_cell_id) {\n",
       "                        if (nbb_cells[i].get_text() == nbb_unformatted_code) {\n",
       "                             nbb_cells[i].set_text(nbb_formatted_code);\n",
       "                        }\n",
       "                        break;\n",
       "                    }\n",
       "                }\n",
       "            }, 500);\n",
       "            "
      ],
      "text/plain": [
       "<IPython.core.display.Javascript object>"
      ]
     },
     "metadata": {},
     "output_type": "display_data"
    }
   ],
   "source": [
    "show_result(label_results)"
   ]
  },
  {
   "cell_type": "code",
   "execution_count": 160,
   "id": "66eca43b",
   "metadata": {},
   "outputs": [
    {
     "name": "stdout",
     "output_type": "stream",
     "text": [
      "spam f1: 0.977 precision: 0.955 recall: 1.000\n",
      " ham f1: 0.930 precision: 1.000 recall: 0.870\n"
     ]
    },
    {
     "data": {
      "application/javascript": [
       "\n",
       "            setTimeout(function() {\n",
       "                var nbb_cell_id = 160;\n",
       "                var nbb_unformatted_code = \"show_result(label_results)\";\n",
       "                var nbb_formatted_code = \"show_result(label_results)\";\n",
       "                var nbb_cells = Jupyter.notebook.get_cells();\n",
       "                for (var i = 0; i < nbb_cells.length; ++i) {\n",
       "                    if (nbb_cells[i].input_prompt_number == nbb_cell_id) {\n",
       "                        if (nbb_cells[i].get_text() == nbb_unformatted_code) {\n",
       "                             nbb_cells[i].set_text(nbb_formatted_code);\n",
       "                        }\n",
       "                        break;\n",
       "                    }\n",
       "                }\n",
       "            }, 500);\n",
       "            "
      ],
      "text/plain": [
       "<IPython.core.display.Javascript object>"
      ]
     },
     "metadata": {},
     "output_type": "display_data"
    }
   ],
   "source": [
    "show_result(label_results)"
   ]
  },
  {
   "cell_type": "code",
   "execution_count": null,
   "id": "daf8839e",
   "metadata": {},
   "outputs": [],
   "source": []
  }
 ],
 "metadata": {
  "kernelspec": {
   "display_name": "Django Shell-Plus",
   "language": "python",
   "name": "django_extensions"
  },
  "language_info": {
   "codemirror_mode": {
    "name": "ipython",
    "version": 3
   },
   "file_extension": ".py",
   "mimetype": "text/x-python",
   "name": "python",
   "nbconvert_exporter": "python",
   "pygments_lexer": "ipython3",
   "version": "3.9.7"
  }
 },
 "nbformat": 4,
 "nbformat_minor": 5
}
