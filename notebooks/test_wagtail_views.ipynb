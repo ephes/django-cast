{
 "cells": [
  {
   "cell_type": "code",
   "execution_count": 1,
   "id": "0767c291",
   "metadata": {},
   "outputs": [
    {
     "data": {
      "application/javascript": [
       "\n",
       "            setTimeout(function() {\n",
       "                var nbb_cell_id = 1;\n",
       "                var nbb_unformatted_code = \"%load_ext nb_black\";\n",
       "                var nbb_formatted_code = \"%load_ext nb_black\";\n",
       "                var nbb_cells = Jupyter.notebook.get_cells();\n",
       "                for (var i = 0; i < nbb_cells.length; ++i) {\n",
       "                    if (nbb_cells[i].input_prompt_number == nbb_cell_id) {\n",
       "                        if (nbb_cells[i].get_text() == nbb_unformatted_code) {\n",
       "                             nbb_cells[i].set_text(nbb_formatted_code);\n",
       "                        }\n",
       "                        break;\n",
       "                    }\n",
       "                }\n",
       "            }, 500);\n",
       "            "
      ],
      "text/plain": [
       "<IPython.core.display.Javascript object>"
      ]
     },
     "metadata": {},
     "output_type": "display_data"
    }
   ],
   "source": [
    "%load_ext nb_black"
   ]
  },
  {
   "cell_type": "markdown",
   "id": "634769b7",
   "metadata": {},
   "source": [
    "## only adds video not page"
   ]
  },
  {
   "cell_type": "code",
   "execution_count": 3,
   "id": "400ea7b5",
   "metadata": {},
   "outputs": [
    {
     "data": {
      "application/javascript": [
       "\n",
       "            setTimeout(function() {\n",
       "                var nbb_cell_id = 3;\n",
       "                var nbb_unformatted_code = \"add_url = reverse(\\\"castmedia:video_add\\\")\";\n",
       "                var nbb_formatted_code = \"add_url = reverse(\\\"castmedia:video_add\\\")\";\n",
       "                var nbb_cells = Jupyter.notebook.get_cells();\n",
       "                for (var i = 0; i < nbb_cells.length; ++i) {\n",
       "                    if (nbb_cells[i].input_prompt_number == nbb_cell_id) {\n",
       "                        if (nbb_cells[i].get_text() == nbb_unformatted_code) {\n",
       "                             nbb_cells[i].set_text(nbb_formatted_code);\n",
       "                        }\n",
       "                        break;\n",
       "                    }\n",
       "                }\n",
       "            }, 500);\n",
       "            "
      ],
      "text/plain": [
       "<IPython.core.display.Javascript object>"
      ]
     },
     "metadata": {},
     "output_type": "display_data"
    }
   ],
   "source": [
    "add_url = reverse(\"castmedia:video_add\")"
   ]
  },
  {
   "cell_type": "code",
   "execution_count": 4,
   "id": "a2d4b27e",
   "metadata": {},
   "outputs": [
    {
     "data": {
      "text/plain": [
       "'/cms/video/video/add/'"
      ]
     },
     "execution_count": 4,
     "metadata": {},
     "output_type": "execute_result"
    },
    {
     "data": {
      "application/javascript": [
       "\n",
       "            setTimeout(function() {\n",
       "                var nbb_cell_id = 4;\n",
       "                var nbb_unformatted_code = \"add_url\";\n",
       "                var nbb_formatted_code = \"add_url\";\n",
       "                var nbb_cells = Jupyter.notebook.get_cells();\n",
       "                for (var i = 0; i < nbb_cells.length; ++i) {\n",
       "                    if (nbb_cells[i].input_prompt_number == nbb_cell_id) {\n",
       "                        if (nbb_cells[i].get_text() == nbb_unformatted_code) {\n",
       "                             nbb_cells[i].set_text(nbb_formatted_code);\n",
       "                        }\n",
       "                        break;\n",
       "                    }\n",
       "                }\n",
       "            }, 500);\n",
       "            "
      ],
      "text/plain": [
       "<IPython.core.display.Javascript object>"
      ]
     },
     "metadata": {},
     "output_type": "display_data"
    }
   ],
   "source": [
    "add_url"
   ]
  },
  {
   "cell_type": "markdown",
   "id": "60c7a918",
   "metadata": {},
   "source": [
    "## wagtailadmin add sub_page"
   ]
  },
  {
   "cell_type": "code",
   "execution_count": 8,
   "id": "49fd3880",
   "metadata": {},
   "outputs": [
    {
     "data": {
      "text/plain": [
       "'/cms/pages/1/add_subpage/'"
      ]
     },
     "execution_count": 8,
     "metadata": {},
     "output_type": "execute_result"
    },
    {
     "data": {
      "application/javascript": [
       "\n",
       "            setTimeout(function() {\n",
       "                var nbb_cell_id = 8;\n",
       "                var nbb_unformatted_code = \"reverse(\\\"wagtailadmin_pages:add_subpage\\\", kwargs={\\\"parent_page_id\\\": 1})\";\n",
       "                var nbb_formatted_code = \"reverse(\\\"wagtailadmin_pages:add_subpage\\\", kwargs={\\\"parent_page_id\\\": 1})\";\n",
       "                var nbb_cells = Jupyter.notebook.get_cells();\n",
       "                for (var i = 0; i < nbb_cells.length; ++i) {\n",
       "                    if (nbb_cells[i].input_prompt_number == nbb_cell_id) {\n",
       "                        if (nbb_cells[i].get_text() == nbb_unformatted_code) {\n",
       "                             nbb_cells[i].set_text(nbb_formatted_code);\n",
       "                        }\n",
       "                        break;\n",
       "                    }\n",
       "                }\n",
       "            }, 500);\n",
       "            "
      ],
      "text/plain": [
       "<IPython.core.display.Javascript object>"
      ]
     },
     "metadata": {},
     "output_type": "display_data"
    }
   ],
   "source": [
    "reverse(\"wagtailadmin_pages:add_subpage\", kwargs={\"parent_page_id\": 1})"
   ]
  },
  {
   "cell_type": "code",
   "execution_count": 9,
   "id": "198df128",
   "metadata": {},
   "outputs": [
    {
     "data": {
      "application/javascript": [
       "\n",
       "            setTimeout(function() {\n",
       "                var nbb_cell_id = 9;\n",
       "                var nbb_unformatted_code = \"blog = Blog.objects.first()\";\n",
       "                var nbb_formatted_code = \"blog = Blog.objects.first()\";\n",
       "                var nbb_cells = Jupyter.notebook.get_cells();\n",
       "                for (var i = 0; i < nbb_cells.length; ++i) {\n",
       "                    if (nbb_cells[i].input_prompt_number == nbb_cell_id) {\n",
       "                        if (nbb_cells[i].get_text() == nbb_unformatted_code) {\n",
       "                             nbb_cells[i].set_text(nbb_formatted_code);\n",
       "                        }\n",
       "                        break;\n",
       "                    }\n",
       "                }\n",
       "            }, 500);\n",
       "            "
      ],
      "text/plain": [
       "<IPython.core.display.Javascript object>"
      ]
     },
     "metadata": {},
     "output_type": "display_data"
    }
   ],
   "source": [
    "blog = Blog.objects.first()"
   ]
  },
  {
   "cell_type": "code",
   "execution_count": 10,
   "id": "87c61bdd",
   "metadata": {},
   "outputs": [
    {
     "data": {
      "text/plain": [
       "3"
      ]
     },
     "execution_count": 10,
     "metadata": {},
     "output_type": "execute_result"
    },
    {
     "data": {
      "application/javascript": [
       "\n",
       "            setTimeout(function() {\n",
       "                var nbb_cell_id = 10;\n",
       "                var nbb_unformatted_code = \"blog.pk\";\n",
       "                var nbb_formatted_code = \"blog.pk\";\n",
       "                var nbb_cells = Jupyter.notebook.get_cells();\n",
       "                for (var i = 0; i < nbb_cells.length; ++i) {\n",
       "                    if (nbb_cells[i].input_prompt_number == nbb_cell_id) {\n",
       "                        if (nbb_cells[i].get_text() == nbb_unformatted_code) {\n",
       "                             nbb_cells[i].set_text(nbb_formatted_code);\n",
       "                        }\n",
       "                        break;\n",
       "                    }\n",
       "                }\n",
       "            }, 500);\n",
       "            "
      ],
      "text/plain": [
       "<IPython.core.display.Javascript object>"
      ]
     },
     "metadata": {},
     "output_type": "display_data"
    }
   ],
   "source": [
    "blog.pk"
   ]
  },
  {
   "cell_type": "code",
   "execution_count": 12,
   "id": "610da7b7",
   "metadata": {},
   "outputs": [
    {
     "data": {
      "application/javascript": [
       "\n",
       "            setTimeout(function() {\n",
       "                var nbb_cell_id = 12;\n",
       "                var nbb_unformatted_code = \"user = User.objects.create(username=\\\"foobar\\\", password=\\\"blubber\\\")\";\n",
       "                var nbb_formatted_code = \"user = User.objects.create(username=\\\"foobar\\\", password=\\\"blubber\\\")\";\n",
       "                var nbb_cells = Jupyter.notebook.get_cells();\n",
       "                for (var i = 0; i < nbb_cells.length; ++i) {\n",
       "                    if (nbb_cells[i].input_prompt_number == nbb_cell_id) {\n",
       "                        if (nbb_cells[i].get_text() == nbb_unformatted_code) {\n",
       "                             nbb_cells[i].set_text(nbb_formatted_code);\n",
       "                        }\n",
       "                        break;\n",
       "                    }\n",
       "                }\n",
       "            }, 500);\n",
       "            "
      ],
      "text/plain": [
       "<IPython.core.display.Javascript object>"
      ]
     },
     "metadata": {},
     "output_type": "display_data"
    }
   ],
   "source": [
    "user = User.objects.create(username=\"foobar\", password=\"blubber\")"
   ]
  },
  {
   "cell_type": "code",
   "execution_count": 15,
   "id": "3675575c",
   "metadata": {},
   "outputs": [
    {
     "data": {
      "application/javascript": [
       "\n",
       "            setTimeout(function() {\n",
       "                var nbb_cell_id = 15;\n",
       "                var nbb_unformatted_code = \"user.is_staff = True\";\n",
       "                var nbb_formatted_code = \"user.is_staff = True\";\n",
       "                var nbb_cells = Jupyter.notebook.get_cells();\n",
       "                for (var i = 0; i < nbb_cells.length; ++i) {\n",
       "                    if (nbb_cells[i].input_prompt_number == nbb_cell_id) {\n",
       "                        if (nbb_cells[i].get_text() == nbb_unformatted_code) {\n",
       "                             nbb_cells[i].set_text(nbb_formatted_code);\n",
       "                        }\n",
       "                        break;\n",
       "                    }\n",
       "                }\n",
       "            }, 500);\n",
       "            "
      ],
      "text/plain": [
       "<IPython.core.display.Javascript object>"
      ]
     },
     "metadata": {},
     "output_type": "display_data"
    }
   ],
   "source": [
    "user.is_staff = True"
   ]
  },
  {
   "cell_type": "code",
   "execution_count": 16,
   "id": "4acf8ff1",
   "metadata": {},
   "outputs": [
    {
     "data": {
      "application/javascript": [
       "\n",
       "            setTimeout(function() {\n",
       "                var nbb_cell_id = 16;\n",
       "                var nbb_unformatted_code = \"user.save()\";\n",
       "                var nbb_formatted_code = \"user.save()\";\n",
       "                var nbb_cells = Jupyter.notebook.get_cells();\n",
       "                for (var i = 0; i < nbb_cells.length; ++i) {\n",
       "                    if (nbb_cells[i].input_prompt_number == nbb_cell_id) {\n",
       "                        if (nbb_cells[i].get_text() == nbb_unformatted_code) {\n",
       "                             nbb_cells[i].set_text(nbb_formatted_code);\n",
       "                        }\n",
       "                        break;\n",
       "                    }\n",
       "                }\n",
       "            }, 500);\n",
       "            "
      ],
      "text/plain": [
       "<IPython.core.display.Javascript object>"
      ]
     },
     "metadata": {},
     "output_type": "display_data"
    }
   ],
   "source": [
    "user.save()"
   ]
  },
  {
   "cell_type": "code",
   "execution_count": 17,
   "id": "5be2ccbb",
   "metadata": {},
   "outputs": [
    {
     "data": {
      "application/javascript": [
       "\n",
       "            setTimeout(function() {\n",
       "                var nbb_cell_id = 17;\n",
       "                var nbb_unformatted_code = \"user.set_password(\\\"blubber\\\")\";\n",
       "                var nbb_formatted_code = \"user.set_password(\\\"blubber\\\")\";\n",
       "                var nbb_cells = Jupyter.notebook.get_cells();\n",
       "                for (var i = 0; i < nbb_cells.length; ++i) {\n",
       "                    if (nbb_cells[i].input_prompt_number == nbb_cell_id) {\n",
       "                        if (nbb_cells[i].get_text() == nbb_unformatted_code) {\n",
       "                             nbb_cells[i].set_text(nbb_formatted_code);\n",
       "                        }\n",
       "                        break;\n",
       "                    }\n",
       "                }\n",
       "            }, 500);\n",
       "            "
      ],
      "text/plain": [
       "<IPython.core.display.Javascript object>"
      ]
     },
     "metadata": {},
     "output_type": "display_data"
    }
   ],
   "source": [
    "user.set_password(\"blubber\")"
   ]
  },
  {
   "cell_type": "code",
   "execution_count": 18,
   "id": "c1c8376c",
   "metadata": {},
   "outputs": [
    {
     "data": {
      "application/javascript": [
       "\n",
       "            setTimeout(function() {\n",
       "                var nbb_cell_id = 18;\n",
       "                var nbb_unformatted_code = \"user.save()\";\n",
       "                var nbb_formatted_code = \"user.save()\";\n",
       "                var nbb_cells = Jupyter.notebook.get_cells();\n",
       "                for (var i = 0; i < nbb_cells.length; ++i) {\n",
       "                    if (nbb_cells[i].input_prompt_number == nbb_cell_id) {\n",
       "                        if (nbb_cells[i].get_text() == nbb_unformatted_code) {\n",
       "                             nbb_cells[i].set_text(nbb_formatted_code);\n",
       "                        }\n",
       "                        break;\n",
       "                    }\n",
       "                }\n",
       "            }, 500);\n",
       "            "
      ],
      "text/plain": [
       "<IPython.core.display.Javascript object>"
      ]
     },
     "metadata": {},
     "output_type": "display_data"
    }
   ],
   "source": [
    "user.save()"
   ]
  },
  {
   "cell_type": "code",
   "execution_count": 19,
   "id": "9cab47c5",
   "metadata": {},
   "outputs": [
    {
     "data": {
      "application/javascript": [
       "\n",
       "            setTimeout(function() {\n",
       "                var nbb_cell_id = 19;\n",
       "                var nbb_unformatted_code = \"user.is_superuser = True\";\n",
       "                var nbb_formatted_code = \"user.is_superuser = True\";\n",
       "                var nbb_cells = Jupyter.notebook.get_cells();\n",
       "                for (var i = 0; i < nbb_cells.length; ++i) {\n",
       "                    if (nbb_cells[i].input_prompt_number == nbb_cell_id) {\n",
       "                        if (nbb_cells[i].get_text() == nbb_unformatted_code) {\n",
       "                             nbb_cells[i].set_text(nbb_formatted_code);\n",
       "                        }\n",
       "                        break;\n",
       "                    }\n",
       "                }\n",
       "            }, 500);\n",
       "            "
      ],
      "text/plain": [
       "<IPython.core.display.Javascript object>"
      ]
     },
     "metadata": {},
     "output_type": "display_data"
    }
   ],
   "source": [
    "user.is_superuser = True"
   ]
  },
  {
   "cell_type": "code",
   "execution_count": 20,
   "id": "4830ee0b",
   "metadata": {},
   "outputs": [
    {
     "data": {
      "application/javascript": [
       "\n",
       "            setTimeout(function() {\n",
       "                var nbb_cell_id = 20;\n",
       "                var nbb_unformatted_code = \"user.save()\";\n",
       "                var nbb_formatted_code = \"user.save()\";\n",
       "                var nbb_cells = Jupyter.notebook.get_cells();\n",
       "                for (var i = 0; i < nbb_cells.length; ++i) {\n",
       "                    if (nbb_cells[i].input_prompt_number == nbb_cell_id) {\n",
       "                        if (nbb_cells[i].get_text() == nbb_unformatted_code) {\n",
       "                             nbb_cells[i].set_text(nbb_formatted_code);\n",
       "                        }\n",
       "                        break;\n",
       "                    }\n",
       "                }\n",
       "            }, 500);\n",
       "            "
      ],
      "text/plain": [
       "<IPython.core.display.Javascript object>"
      ]
     },
     "metadata": {},
     "output_type": "display_data"
    }
   ],
   "source": [
    "user.save()"
   ]
  },
  {
   "cell_type": "code",
   "execution_count": 22,
   "id": "030d01fc",
   "metadata": {},
   "outputs": [
    {
     "data": {
      "text/plain": [
       "'/cms/pages/add/cast/post/5/'"
      ]
     },
     "execution_count": 22,
     "metadata": {},
     "output_type": "execute_result"
    },
    {
     "data": {
      "application/javascript": [
       "\n",
       "            setTimeout(function() {\n",
       "                var nbb_cell_id = 22;\n",
       "                var nbb_unformatted_code = \"reverse(\\\"wagtailadmin_pages:add\\\", args=(\\\"cast\\\", \\\"post\\\", 5))\";\n",
       "                var nbb_formatted_code = \"reverse(\\\"wagtailadmin_pages:add\\\", args=(\\\"cast\\\", \\\"post\\\", 5))\";\n",
       "                var nbb_cells = Jupyter.notebook.get_cells();\n",
       "                for (var i = 0; i < nbb_cells.length; ++i) {\n",
       "                    if (nbb_cells[i].input_prompt_number == nbb_cell_id) {\n",
       "                        if (nbb_cells[i].get_text() == nbb_unformatted_code) {\n",
       "                             nbb_cells[i].set_text(nbb_formatted_code);\n",
       "                        }\n",
       "                        break;\n",
       "                    }\n",
       "                }\n",
       "            }, 500);\n",
       "            "
      ],
      "text/plain": [
       "<IPython.core.display.Javascript object>"
      ]
     },
     "metadata": {},
     "output_type": "display_data"
    }
   ],
   "source": [
    "reverse(\"wagtailadmin_pages:add\", args=(\"cast\", \"post\", 5))"
   ]
  },
  {
   "cell_type": "code",
   "execution_count": null,
   "id": "e69f6d59",
   "metadata": {},
   "outputs": [],
   "source": [
    "/cms/pages/add/cast/post/3/"
   ]
  },
  {
   "cell_type": "markdown",
   "id": "a540df3e",
   "metadata": {},
   "source": [
    "## parse post data"
   ]
  },
  {
   "cell_type": "code",
   "execution_count": 32,
   "id": "6aa90424",
   "metadata": {},
   "outputs": [
    {
     "data": {
      "application/javascript": [
       "\n",
       "            setTimeout(function() {\n",
       "                var nbb_cell_id = 32;\n",
       "                var nbb_unformatted_code = \"from pprint import pprint\\n\\nfrom urllib.parse import parse_qs\";\n",
       "                var nbb_formatted_code = \"from pprint import pprint\\n\\nfrom urllib.parse import parse_qs\";\n",
       "                var nbb_cells = Jupyter.notebook.get_cells();\n",
       "                for (var i = 0; i < nbb_cells.length; ++i) {\n",
       "                    if (nbb_cells[i].input_prompt_number == nbb_cell_id) {\n",
       "                        if (nbb_cells[i].get_text() == nbb_unformatted_code) {\n",
       "                             nbb_cells[i].set_text(nbb_formatted_code);\n",
       "                        }\n",
       "                        break;\n",
       "                    }\n",
       "                }\n",
       "            }, 500);\n",
       "            "
      ],
      "text/plain": [
       "<IPython.core.display.Javascript object>"
      ]
     },
     "metadata": {},
     "output_type": "display_data"
    }
   ],
   "source": [
    "from pprint import pprint\n",
    "\n",
    "from urllib.parse import parse_qs"
   ]
  },
  {
   "cell_type": "code",
   "execution_count": 30,
   "id": "300f4d18",
   "metadata": {},
   "outputs": [
    {
     "data": {
      "application/javascript": [
       "\n",
       "            setTimeout(function() {\n",
       "                var nbb_cell_id = 30;\n",
       "                var nbb_unformatted_code = \"urlencoded_post_data = \\\"\\\"\\\"\\ncsrfmiddlewaretoken=6frSbfWvu2CWPsTEXbCHRJXq6gISSDpRh0P4yQp0vYhnFYOwN4vCZBQLBnwY6ySZ&next=&comment_notifications=on&title=new+post&visible_date=2021-08-17+08%3A13&body-count=1&body-0-deleted=&body-0-order=0&body-0-type=overview&body-0-id=0ad2efc3-e742-4c0b-8e12-d11f5bd3164a&body-0-value-count=1&body-0-value-0-deleted=&body-0-value-0-order=0&body-0-value-0-type=heading&body-0-value-0-id=220f8d2c-bc04-4b91-925a-64444f459919&body-0-value-0-value=overview+heading&slug=new-post&seo_title=&search_description=&go_live_at=&expire_at=&comments-TOTAL_FORMS=0&comments-INITIAL_FORMS=0&comments-MIN_NUM_FORMS=0&comments-MAX_NUM_FORMS=&action-publish=action-publish\\n\\\"\\\"\\\".lstrip().rstrip()\";\n",
       "                var nbb_formatted_code = \"urlencoded_post_data = \\\"\\\"\\\"\\ncsrfmiddlewaretoken=6frSbfWvu2CWPsTEXbCHRJXq6gISSDpRh0P4yQp0vYhnFYOwN4vCZBQLBnwY6ySZ&next=&comment_notifications=on&title=new+post&visible_date=2021-08-17+08%3A13&body-count=1&body-0-deleted=&body-0-order=0&body-0-type=overview&body-0-id=0ad2efc3-e742-4c0b-8e12-d11f5bd3164a&body-0-value-count=1&body-0-value-0-deleted=&body-0-value-0-order=0&body-0-value-0-type=heading&body-0-value-0-id=220f8d2c-bc04-4b91-925a-64444f459919&body-0-value-0-value=overview+heading&slug=new-post&seo_title=&search_description=&go_live_at=&expire_at=&comments-TOTAL_FORMS=0&comments-INITIAL_FORMS=0&comments-MIN_NUM_FORMS=0&comments-MAX_NUM_FORMS=&action-publish=action-publish\\n\\\"\\\"\\\".lstrip().rstrip()\";\n",
       "                var nbb_cells = Jupyter.notebook.get_cells();\n",
       "                for (var i = 0; i < nbb_cells.length; ++i) {\n",
       "                    if (nbb_cells[i].input_prompt_number == nbb_cell_id) {\n",
       "                        if (nbb_cells[i].get_text() == nbb_unformatted_code) {\n",
       "                             nbb_cells[i].set_text(nbb_formatted_code);\n",
       "                        }\n",
       "                        break;\n",
       "                    }\n",
       "                }\n",
       "            }, 500);\n",
       "            "
      ],
      "text/plain": [
       "<IPython.core.display.Javascript object>"
      ]
     },
     "metadata": {},
     "output_type": "display_data"
    }
   ],
   "source": [
    "urlencoded_post_data = \"\"\"\n",
    "csrfmiddlewaretoken=6frSbfWvu2CWPsTEXbCHRJXq6gISSDpRh0P4yQp0vYhnFYOwN4vCZBQLBnwY6ySZ&next=&comment_notifications=on&title=new+post&visible_date=2021-08-17+08%3A13&body-count=1&body-0-deleted=&body-0-order=0&body-0-type=overview&body-0-id=0ad2efc3-e742-4c0b-8e12-d11f5bd3164a&body-0-value-count=1&body-0-value-0-deleted=&body-0-value-0-order=0&body-0-value-0-type=heading&body-0-value-0-id=220f8d2c-bc04-4b91-925a-64444f459919&body-0-value-0-value=overview+heading&slug=new-post&seo_title=&search_description=&go_live_at=&expire_at=&comments-TOTAL_FORMS=0&comments-INITIAL_FORMS=0&comments-MIN_NUM_FORMS=0&comments-MAX_NUM_FORMS=&action-publish=action-publish\n",
    "\"\"\".lstrip().rstrip()"
   ]
  },
  {
   "cell_type": "code",
   "execution_count": 33,
   "id": "7feb5a40",
   "metadata": {},
   "outputs": [
    {
     "name": "stdout",
     "output_type": "stream",
     "text": [
      "{'action-publish': ['action-publish'],\n",
      " 'body-0-id': ['0ad2efc3-e742-4c0b-8e12-d11f5bd3164a'],\n",
      " 'body-0-order': ['0'],\n",
      " 'body-0-type': ['overview'],\n",
      " 'body-0-value-0-id': ['220f8d2c-bc04-4b91-925a-64444f459919'],\n",
      " 'body-0-value-0-order': ['0'],\n",
      " 'body-0-value-0-type': ['heading'],\n",
      " 'body-0-value-0-value': ['overview heading'],\n",
      " 'body-0-value-count': ['1'],\n",
      " 'body-count': ['1'],\n",
      " 'comment_notifications': ['on'],\n",
      " 'comments-INITIAL_FORMS': ['0'],\n",
      " 'comments-MIN_NUM_FORMS': ['0'],\n",
      " 'comments-TOTAL_FORMS': ['0'],\n",
      " 'csrfmiddlewaretoken': ['6frSbfWvu2CWPsTEXbCHRJXq6gISSDpRh0P4yQp0vYhnFYOwN4vCZBQLBnwY6ySZ'],\n",
      " 'slug': ['new-post'],\n",
      " 'title': ['new post'],\n",
      " 'visible_date': ['2021-08-17 08:13']}\n"
     ]
    },
    {
     "data": {
      "application/javascript": [
       "\n",
       "            setTimeout(function() {\n",
       "                var nbb_cell_id = 33;\n",
       "                var nbb_unformatted_code = \"pprint(parse_qs(urlencoded_post_data))\";\n",
       "                var nbb_formatted_code = \"pprint(parse_qs(urlencoded_post_data))\";\n",
       "                var nbb_cells = Jupyter.notebook.get_cells();\n",
       "                for (var i = 0; i < nbb_cells.length; ++i) {\n",
       "                    if (nbb_cells[i].input_prompt_number == nbb_cell_id) {\n",
       "                        if (nbb_cells[i].get_text() == nbb_unformatted_code) {\n",
       "                             nbb_cells[i].set_text(nbb_formatted_code);\n",
       "                        }\n",
       "                        break;\n",
       "                    }\n",
       "                }\n",
       "            }, 500);\n",
       "            "
      ],
      "text/plain": [
       "<IPython.core.display.Javascript object>"
      ]
     },
     "metadata": {},
     "output_type": "display_data"
    }
   ],
   "source": [
    "pprint(parse_qs(urlencoded_post_data))"
   ]
  },
  {
   "cell_type": "code",
   "execution_count": 41,
   "id": "a66f27fb",
   "metadata": {},
   "outputs": [
    {
     "data": {
      "text/plain": [
       "{'csrfmiddlewaretoken': ['6frSbfWvu2CWPsTEXbCHRJXq6gISSDpRh0P4yQp0vYhnFYOwN4vCZBQLBnwY6ySZ'],\n",
       " 'comment_notifications': ['on'],\n",
       " 'title': ['new post'],\n",
       " 'visible_date': ['2021-08-17 08:13'],\n",
       " 'body-count': ['1'],\n",
       " 'body-0-order': ['0'],\n",
       " 'body-0-type': ['overview'],\n",
       " 'body-0-id': ['0ad2efc3-e742-4c0b-8e12-d11f5bd3164a'],\n",
       " 'body-0-value-count': ['1'],\n",
       " 'body-0-value-0-order': ['0'],\n",
       " 'body-0-value-0-type': ['heading'],\n",
       " 'body-0-value-0-id': ['220f8d2c-bc04-4b91-925a-64444f459919'],\n",
       " 'body-0-value-0-value': ['overview heading'],\n",
       " 'slug': ['new-post'],\n",
       " 'comments-TOTAL_FORMS': ['0'],\n",
       " 'comments-INITIAL_FORMS': ['0'],\n",
       " 'comments-MIN_NUM_FORMS': ['0'],\n",
       " 'action-publish': ['action-publish']}"
      ]
     },
     "execution_count": 41,
     "metadata": {},
     "output_type": "execute_result"
    },
    {
     "data": {
      "application/javascript": [
       "\n",
       "            setTimeout(function() {\n",
       "                var nbb_cell_id = 41;\n",
       "                var nbb_unformatted_code = \"parse_qs(urlencoded_post_data)\";\n",
       "                var nbb_formatted_code = \"parse_qs(urlencoded_post_data)\";\n",
       "                var nbb_cells = Jupyter.notebook.get_cells();\n",
       "                for (var i = 0; i < nbb_cells.length; ++i) {\n",
       "                    if (nbb_cells[i].input_prompt_number == nbb_cell_id) {\n",
       "                        if (nbb_cells[i].get_text() == nbb_unformatted_code) {\n",
       "                             nbb_cells[i].set_text(nbb_formatted_code);\n",
       "                        }\n",
       "                        break;\n",
       "                    }\n",
       "                }\n",
       "            }, 500);\n",
       "            "
      ],
      "text/plain": [
       "<IPython.core.display.Javascript object>"
      ]
     },
     "metadata": {},
     "output_type": "display_data"
    }
   ],
   "source": [
    "parse_qs(urlencoded_post_data)"
   ]
  },
  {
   "cell_type": "code",
   "execution_count": 43,
   "id": "dfa4b4b4",
   "metadata": {},
   "outputs": [
    {
     "name": "stdout",
     "output_type": "stream",
     "text": [
      "{'action-publish': 'action-publish',\n",
      " 'body-0-deleted': '',\n",
      " 'body-0-id': '0ad2efc3-e742-4c0b-8e12-d11f5bd3164a',\n",
      " 'body-0-order': '0',\n",
      " 'body-0-type': 'overview',\n",
      " 'body-0-value-0-deleted': '',\n",
      " 'body-0-value-0-id': '220f8d2c-bc04-4b91-925a-64444f459919',\n",
      " 'body-0-value-0-order': '0',\n",
      " 'body-0-value-0-type': 'heading',\n",
      " 'body-0-value-0-value': 'overview heading',\n",
      " 'body-0-value-count': '1',\n",
      " 'body-count': '1',\n",
      " 'comment_notifications': 'on',\n",
      " 'comments-INITIAL_FORMS': '0',\n",
      " 'comments-MAX_NUM_FORMS': '',\n",
      " 'comments-MIN_NUM_FORMS': '0',\n",
      " 'comments-TOTAL_FORMS': '0',\n",
      " 'csrfmiddlewaretoken': '6frSbfWvu2CWPsTEXbCHRJXq6gISSDpRh0P4yQp0vYhnFYOwN4vCZBQLBnwY6ySZ',\n",
      " 'expire_at': '',\n",
      " 'go_live_at': '',\n",
      " 'next': '',\n",
      " 'search_description': '',\n",
      " 'seo_title': '',\n",
      " 'slug': 'new-post',\n",
      " 'title': 'new post',\n",
      " 'visible_date': '2021-08-17 08:13'}\n"
     ]
    },
    {
     "data": {
      "application/javascript": [
       "\n",
       "            setTimeout(function() {\n",
       "                var nbb_cell_id = 43;\n",
       "                var nbb_unformatted_code = \"dict_post_data = {k: v[0] for k, v in parse_qs(urlencoded_post_data, keep_blank_values=True).items()}\\npprint(dict_post_data)\";\n",
       "                var nbb_formatted_code = \"dict_post_data = {\\n    k: v[0] for k, v in parse_qs(urlencoded_post_data, keep_blank_values=True).items()\\n}\\npprint(dict_post_data)\";\n",
       "                var nbb_cells = Jupyter.notebook.get_cells();\n",
       "                for (var i = 0; i < nbb_cells.length; ++i) {\n",
       "                    if (nbb_cells[i].input_prompt_number == nbb_cell_id) {\n",
       "                        if (nbb_cells[i].get_text() == nbb_unformatted_code) {\n",
       "                             nbb_cells[i].set_text(nbb_formatted_code);\n",
       "                        }\n",
       "                        break;\n",
       "                    }\n",
       "                }\n",
       "            }, 500);\n",
       "            "
      ],
      "text/plain": [
       "<IPython.core.display.Javascript object>"
      ]
     },
     "metadata": {},
     "output_type": "display_data"
    }
   ],
   "source": [
    "dict_post_data = {\n",
    "    k: v[0] for k, v in parse_qs(urlencoded_post_data, keep_blank_values=True).items()\n",
    "}\n",
    "pprint(dict_post_data)"
   ]
  },
  {
   "cell_type": "code",
   "execution_count": 44,
   "id": "5e42e950",
   "metadata": {},
   "outputs": [
    {
     "data": {
      "text/plain": [
       "{'action-publish': 'action-publish',\n",
       " 'body-0-deleted': '',\n",
       " 'body-0-id': '0ad2efc3-e742-4c0b-8e12-d11f5bd3164a',\n",
       " 'body-0-order': '0',\n",
       " 'body-0-type': 'overview',\n",
       " 'body-0-value-0-deleted': '',\n",
       " 'body-0-value-0-id': '220f8d2c-bc04-4b91-925a-64444f459919',\n",
       " 'body-0-value-0-order': '0',\n",
       " 'body-0-value-0-type': 'heading',\n",
       " 'body-0-value-0-value': 'overview heading',\n",
       " 'body-0-value-count': '1',\n",
       " 'body-count': '1',\n",
       " 'comment_notifications': 'on',\n",
       " 'comments-INITIAL_FORMS': '0',\n",
       " 'comments-MAX_NUM_FORMS': '',\n",
       " 'comments-MIN_NUM_FORMS': '0',\n",
       " 'comments-TOTAL_FORMS': '0',\n",
       " 'csrfmiddlewaretoken': '6frSbfWvu2CWPsTEXbCHRJXq6gISSDpRh0P4yQp0vYhnFYOwN4vCZBQLBnwY6ySZ',\n",
       " 'expire_at': '',\n",
       " 'go_live_at': '',\n",
       " 'next': '',\n",
       " 'search_description': '',\n",
       " 'seo_title': '',\n",
       " 'slug': 'new-post',\n",
       " 'title': 'new post',\n",
       " 'visible_date': '2021-08-17 08:13'}"
      ]
     },
     "execution_count": 44,
     "metadata": {},
     "output_type": "execute_result"
    },
    {
     "data": {
      "application/javascript": [
       "\n",
       "            setTimeout(function() {\n",
       "                var nbb_cell_id = 44;\n",
       "                var nbb_unformatted_code = \"{'action-publish': 'action-publish',\\n 'body-0-deleted': '',\\n 'body-0-id': '0ad2efc3-e742-4c0b-8e12-d11f5bd3164a',\\n 'body-0-order': '0',\\n 'body-0-type': 'overview',\\n 'body-0-value-0-deleted': '',\\n 'body-0-value-0-id': '220f8d2c-bc04-4b91-925a-64444f459919',\\n 'body-0-value-0-order': '0',\\n 'body-0-value-0-type': 'heading',\\n 'body-0-value-0-value': 'overview heading',\\n 'body-0-value-count': '1',\\n 'body-count': '1',\\n 'comment_notifications': 'on',\\n 'comments-INITIAL_FORMS': '0',\\n 'comments-MAX_NUM_FORMS': '',\\n 'comments-MIN_NUM_FORMS': '0',\\n 'comments-TOTAL_FORMS': '0',\\n 'csrfmiddlewaretoken': '6frSbfWvu2CWPsTEXbCHRJXq6gISSDpRh0P4yQp0vYhnFYOwN4vCZBQLBnwY6ySZ',\\n 'expire_at': '',\\n 'go_live_at': '',\\n 'next': '',\\n 'search_description': '',\\n 'seo_title': '',\\n 'slug': 'new-post',\\n 'title': 'new post',\\n 'visible_date': '2021-08-17 08:13'}\";\n",
       "                var nbb_formatted_code = \"{\\n    \\\"action-publish\\\": \\\"action-publish\\\",\\n    \\\"body-0-deleted\\\": \\\"\\\",\\n    \\\"body-0-id\\\": \\\"0ad2efc3-e742-4c0b-8e12-d11f5bd3164a\\\",\\n    \\\"body-0-order\\\": \\\"0\\\",\\n    \\\"body-0-type\\\": \\\"overview\\\",\\n    \\\"body-0-value-0-deleted\\\": \\\"\\\",\\n    \\\"body-0-value-0-id\\\": \\\"220f8d2c-bc04-4b91-925a-64444f459919\\\",\\n    \\\"body-0-value-0-order\\\": \\\"0\\\",\\n    \\\"body-0-value-0-type\\\": \\\"heading\\\",\\n    \\\"body-0-value-0-value\\\": \\\"overview heading\\\",\\n    \\\"body-0-value-count\\\": \\\"1\\\",\\n    \\\"body-count\\\": \\\"1\\\",\\n    \\\"comment_notifications\\\": \\\"on\\\",\\n    \\\"comments-INITIAL_FORMS\\\": \\\"0\\\",\\n    \\\"comments-MAX_NUM_FORMS\\\": \\\"\\\",\\n    \\\"comments-MIN_NUM_FORMS\\\": \\\"0\\\",\\n    \\\"comments-TOTAL_FORMS\\\": \\\"0\\\",\\n    \\\"csrfmiddlewaretoken\\\": \\\"6frSbfWvu2CWPsTEXbCHRJXq6gISSDpRh0P4yQp0vYhnFYOwN4vCZBQLBnwY6ySZ\\\",\\n    \\\"expire_at\\\": \\\"\\\",\\n    \\\"go_live_at\\\": \\\"\\\",\\n    \\\"next\\\": \\\"\\\",\\n    \\\"search_description\\\": \\\"\\\",\\n    \\\"seo_title\\\": \\\"\\\",\\n    \\\"slug\\\": \\\"new-post\\\",\\n    \\\"title\\\": \\\"new post\\\",\\n    \\\"visible_date\\\": \\\"2021-08-17 08:13\\\",\\n}\";\n",
       "                var nbb_cells = Jupyter.notebook.get_cells();\n",
       "                for (var i = 0; i < nbb_cells.length; ++i) {\n",
       "                    if (nbb_cells[i].input_prompt_number == nbb_cell_id) {\n",
       "                        if (nbb_cells[i].get_text() == nbb_unformatted_code) {\n",
       "                             nbb_cells[i].set_text(nbb_formatted_code);\n",
       "                        }\n",
       "                        break;\n",
       "                    }\n",
       "                }\n",
       "            }, 500);\n",
       "            "
      ],
      "text/plain": [
       "<IPython.core.display.Javascript object>"
      ]
     },
     "metadata": {},
     "output_type": "display_data"
    }
   ],
   "source": [
    "{\n",
    "    \"action-publish\": \"action-publish\",\n",
    "    \"body-0-deleted\": \"\",\n",
    "    \"body-0-id\": \"0ad2efc3-e742-4c0b-8e12-d11f5bd3164a\",\n",
    "    \"body-0-order\": \"0\",\n",
    "    \"body-0-type\": \"overview\",\n",
    "    \"body-0-value-0-deleted\": \"\",\n",
    "    \"body-0-value-0-id\": \"220f8d2c-bc04-4b91-925a-64444f459919\",\n",
    "    \"body-0-value-0-order\": \"0\",\n",
    "    \"body-0-value-0-type\": \"heading\",\n",
    "    \"body-0-value-0-value\": \"overview heading\",\n",
    "    \"body-0-value-count\": \"1\",\n",
    "    \"body-count\": \"1\",\n",
    "    \"comment_notifications\": \"on\",\n",
    "    \"comments-INITIAL_FORMS\": \"0\",\n",
    "    \"comments-MAX_NUM_FORMS\": \"\",\n",
    "    \"comments-MIN_NUM_FORMS\": \"0\",\n",
    "    \"comments-TOTAL_FORMS\": \"0\",\n",
    "    \"csrfmiddlewaretoken\": \"6frSbfWvu2CWPsTEXbCHRJXq6gISSDpRh0P4yQp0vYhnFYOwN4vCZBQLBnwY6ySZ\",\n",
    "    \"expire_at\": \"\",\n",
    "    \"go_live_at\": \"\",\n",
    "    \"next\": \"\",\n",
    "    \"search_description\": \"\",\n",
    "    \"seo_title\": \"\",\n",
    "    \"slug\": \"new-post\",\n",
    "    \"title\": \"new post\",\n",
    "    \"visible_date\": \"2021-08-17 08:13\",\n",
    "}"
   ]
  },
  {
   "cell_type": "code",
   "execution_count": 42,
   "id": "c07c89cd",
   "metadata": {},
   "outputs": [
    {
     "name": "stdout",
     "output_type": "stream",
     "text": [
      "Help on function parse_qs in module urllib.parse:\n",
      "\n",
      "parse_qs(qs, keep_blank_values=False, strict_parsing=False, encoding='utf-8', errors='replace', max_num_fields=None, separator='&')\n",
      "    Parse a query given as a string argument.\n",
      "    \n",
      "    Arguments:\n",
      "    \n",
      "    qs: percent-encoded query string to be parsed\n",
      "    \n",
      "    keep_blank_values: flag indicating whether blank values in\n",
      "        percent-encoded queries should be treated as blank strings.\n",
      "        A true value indicates that blanks should be retained as\n",
      "        blank strings.  The default false value indicates that\n",
      "        blank values are to be ignored and treated as if they were\n",
      "        not included.\n",
      "    \n",
      "    strict_parsing: flag indicating what to do with parsing errors.\n",
      "        If false (the default), errors are silently ignored.\n",
      "        If true, errors raise a ValueError exception.\n",
      "    \n",
      "    encoding and errors: specify how to decode percent-encoded sequences\n",
      "        into Unicode characters, as accepted by the bytes.decode() method.\n",
      "    \n",
      "    max_num_fields: int. If set, then throws a ValueError if there\n",
      "        are more than n fields read by parse_qsl().\n",
      "    \n",
      "    separator: str. The symbol to use for separating the query arguments.\n",
      "        Defaults to &.\n",
      "    \n",
      "    Returns a dictionary.\n",
      "\n"
     ]
    },
    {
     "data": {
      "application/javascript": [
       "\n",
       "            setTimeout(function() {\n",
       "                var nbb_cell_id = 42;\n",
       "                var nbb_unformatted_code = \"help(parse_qs)\";\n",
       "                var nbb_formatted_code = \"help(parse_qs)\";\n",
       "                var nbb_cells = Jupyter.notebook.get_cells();\n",
       "                for (var i = 0; i < nbb_cells.length; ++i) {\n",
       "                    if (nbb_cells[i].input_prompt_number == nbb_cell_id) {\n",
       "                        if (nbb_cells[i].get_text() == nbb_unformatted_code) {\n",
       "                             nbb_cells[i].set_text(nbb_formatted_code);\n",
       "                        }\n",
       "                        break;\n",
       "                    }\n",
       "                }\n",
       "            }, 500);\n",
       "            "
      ],
      "text/plain": [
       "<IPython.core.display.Javascript object>"
      ]
     },
     "metadata": {},
     "output_type": "display_data"
    }
   ],
   "source": [
    "help(parse_qs)"
   ]
  },
  {
   "cell_type": "code",
   "execution_count": 46,
   "id": "bff418e0",
   "metadata": {},
   "outputs": [
    {
     "data": {
      "text/plain": [
       "'/cms/pages/3/'"
      ]
     },
     "execution_count": 46,
     "metadata": {},
     "output_type": "execute_result"
    },
    {
     "data": {
      "application/javascript": [
       "\n",
       "            setTimeout(function() {\n",
       "                var nbb_cell_id = 46;\n",
       "                var nbb_unformatted_code = \"reverse(\\\"wagtailadmin_explore\\\", args=(3,))\";\n",
       "                var nbb_formatted_code = \"reverse(\\\"wagtailadmin_explore\\\", args=(3,))\";\n",
       "                var nbb_cells = Jupyter.notebook.get_cells();\n",
       "                for (var i = 0; i < nbb_cells.length; ++i) {\n",
       "                    if (nbb_cells[i].input_prompt_number == nbb_cell_id) {\n",
       "                        if (nbb_cells[i].get_text() == nbb_unformatted_code) {\n",
       "                             nbb_cells[i].set_text(nbb_formatted_code);\n",
       "                        }\n",
       "                        break;\n",
       "                    }\n",
       "                }\n",
       "            }, 500);\n",
       "            "
      ],
      "text/plain": [
       "<IPython.core.display.Javascript object>"
      ]
     },
     "metadata": {},
     "output_type": "display_data"
    }
   ],
   "source": [
    "reverse(\"wagtailadmin_explore\", args=(3,))"
   ]
  },
  {
   "cell_type": "code",
   "execution_count": 47,
   "id": "cfb4324f",
   "metadata": {},
   "outputs": [
    {
     "data": {
      "text/plain": [
       "'/cms/login/'"
      ]
     },
     "execution_count": 47,
     "metadata": {},
     "output_type": "execute_result"
    },
    {
     "data": {
      "application/javascript": [
       "\n",
       "            setTimeout(function() {\n",
       "                var nbb_cell_id = 47;\n",
       "                var nbb_unformatted_code = \"reverse(\\\"wagtailadmin_login\\\")\";\n",
       "                var nbb_formatted_code = \"reverse(\\\"wagtailadmin_login\\\")\";\n",
       "                var nbb_cells = Jupyter.notebook.get_cells();\n",
       "                for (var i = 0; i < nbb_cells.length; ++i) {\n",
       "                    if (nbb_cells[i].input_prompt_number == nbb_cell_id) {\n",
       "                        if (nbb_cells[i].get_text() == nbb_unformatted_code) {\n",
       "                             nbb_cells[i].set_text(nbb_formatted_code);\n",
       "                        }\n",
       "                        break;\n",
       "                    }\n",
       "                }\n",
       "            }, 500);\n",
       "            "
      ],
      "text/plain": [
       "<IPython.core.display.Javascript object>"
      ]
     },
     "metadata": {},
     "output_type": "display_data"
    }
   ],
   "source": [
    "reverse(\"wagtailadmin_login\")"
   ]
  },
  {
   "cell_type": "code",
   "execution_count": 49,
   "id": "ed2024d8",
   "metadata": {},
   "outputs": [
    {
     "data": {
      "application/javascript": [
       "\n",
       "            setTimeout(function() {\n",
       "                var nbb_cell_id = 49;\n",
       "                var nbb_unformatted_code = \"post = Post.objects.get(pk=9)\";\n",
       "                var nbb_formatted_code = \"post = Post.objects.get(pk=9)\";\n",
       "                var nbb_cells = Jupyter.notebook.get_cells();\n",
       "                for (var i = 0; i < nbb_cells.length; ++i) {\n",
       "                    if (nbb_cells[i].input_prompt_number == nbb_cell_id) {\n",
       "                        if (nbb_cells[i].get_text() == nbb_unformatted_code) {\n",
       "                             nbb_cells[i].set_text(nbb_formatted_code);\n",
       "                        }\n",
       "                        break;\n",
       "                    }\n",
       "                }\n",
       "            }, 500);\n",
       "            "
      ],
      "text/plain": [
       "<IPython.core.display.Javascript object>"
      ]
     },
     "metadata": {},
     "output_type": "display_data"
    }
   ],
   "source": [
    "post = Post.objects.get(pk=9)"
   ]
  },
  {
   "cell_type": "code",
   "execution_count": 50,
   "id": "ef2f6047",
   "metadata": {},
   "outputs": [
    {
     "data": {
      "text/plain": [
       "<QuerySet []>"
      ]
     },
     "execution_count": 50,
     "metadata": {},
     "output_type": "execute_result"
    },
    {
     "data": {
      "application/javascript": [
       "\n",
       "            setTimeout(function() {\n",
       "                var nbb_cell_id = 50;\n",
       "                var nbb_unformatted_code = \"post.images.all()\";\n",
       "                var nbb_formatted_code = \"post.images.all()\";\n",
       "                var nbb_cells = Jupyter.notebook.get_cells();\n",
       "                for (var i = 0; i < nbb_cells.length; ++i) {\n",
       "                    if (nbb_cells[i].input_prompt_number == nbb_cell_id) {\n",
       "                        if (nbb_cells[i].get_text() == nbb_unformatted_code) {\n",
       "                             nbb_cells[i].set_text(nbb_formatted_code);\n",
       "                        }\n",
       "                        break;\n",
       "                    }\n",
       "                }\n",
       "            }, 500);\n",
       "            "
      ],
      "text/plain": [
       "<IPython.core.display.Javascript object>"
      ]
     },
     "metadata": {},
     "output_type": "display_data"
    }
   ],
   "source": [
    "post.images.all()"
   ]
  },
  {
   "cell_type": "code",
   "execution_count": 53,
   "id": "ff15c626",
   "metadata": {},
   "outputs": [
    {
     "data": {
      "text/plain": [
       "[{'type': 'overview', 'value': [{'type': 'heading', 'value': 'overview heading', 'id': '220f8d2c-bc04-4b91-925a-64444f459919'}], 'id': '0ad2efc3-e742-4c0b-8e12-d11f5bd3164a'}, {'type': 'detail', 'value': [{'type': 'image', 'value': 1, 'id': '8e9d6d0d-b02c-4d1e-81c2-832d93e20a4a'}], 'id': 'bc4eb2c6-d08d-40c4-84c0-39c9f67b732e'}]"
      ]
     },
     "execution_count": 53,
     "metadata": {},
     "output_type": "execute_result"
    },
    {
     "data": {
      "application/javascript": [
       "\n",
       "            setTimeout(function() {\n",
       "                var nbb_cell_id = 53;\n",
       "                var nbb_unformatted_code = \"post.body.raw_data\";\n",
       "                var nbb_formatted_code = \"post.body.raw_data\";\n",
       "                var nbb_cells = Jupyter.notebook.get_cells();\n",
       "                for (var i = 0; i < nbb_cells.length; ++i) {\n",
       "                    if (nbb_cells[i].input_prompt_number == nbb_cell_id) {\n",
       "                        if (nbb_cells[i].get_text() == nbb_unformatted_code) {\n",
       "                             nbb_cells[i].set_text(nbb_formatted_code);\n",
       "                        }\n",
       "                        break;\n",
       "                    }\n",
       "                }\n",
       "            }, 500);\n",
       "            "
      ],
      "text/plain": [
       "<IPython.core.display.Javascript object>"
      ]
     },
     "metadata": {},
     "output_type": "display_data"
    }
   ],
   "source": [
    "post.body.raw_data"
   ]
  },
  {
   "cell_type": "code",
   "execution_count": 54,
   "id": "0c8ca628",
   "metadata": {},
   "outputs": [
    {
     "data": {
      "text/plain": [
       "[{'type': 'overview',\n",
       "  'value': [{'type': 'heading',\n",
       "    'value': 'overview heading',\n",
       "    'id': '220f8d2c-bc04-4b91-925a-64444f459919'}],\n",
       "  'id': '0ad2efc3-e742-4c0b-8e12-d11f5bd3164a'},\n",
       " {'type': 'detail',\n",
       "  'value': [{'type': 'image',\n",
       "    'value': 1,\n",
       "    'id': '8e9d6d0d-b02c-4d1e-81c2-832d93e20a4a'}],\n",
       "  'id': 'bc4eb2c6-d08d-40c4-84c0-39c9f67b732e'}]"
      ]
     },
     "execution_count": 54,
     "metadata": {},
     "output_type": "execute_result"
    },
    {
     "data": {
      "application/javascript": [
       "\n",
       "            setTimeout(function() {\n",
       "                var nbb_cell_id = 54;\n",
       "                var nbb_unformatted_code = \"[{'type': 'overview', 'value': [{'type': 'heading', 'value': 'overview heading', 'id': '220f8d2c-bc04-4b91-925a-64444f459919'}], 'id': '0ad2efc3-e742-4c0b-8e12-d11f5bd3164a'}, {'type': 'detail', 'value': [{'type': 'image', 'value': 1, 'id': '8e9d6d0d-b02c-4d1e-81c2-832d93e20a4a'}], 'id': 'bc4eb2c6-d08d-40c4-84c0-39c9f67b732e'}]\";\n",
       "                var nbb_formatted_code = \"[\\n    {\\n        \\\"type\\\": \\\"overview\\\",\\n        \\\"value\\\": [\\n            {\\n                \\\"type\\\": \\\"heading\\\",\\n                \\\"value\\\": \\\"overview heading\\\",\\n                \\\"id\\\": \\\"220f8d2c-bc04-4b91-925a-64444f459919\\\",\\n            }\\n        ],\\n        \\\"id\\\": \\\"0ad2efc3-e742-4c0b-8e12-d11f5bd3164a\\\",\\n    },\\n    {\\n        \\\"type\\\": \\\"detail\\\",\\n        \\\"value\\\": [\\n            {\\\"type\\\": \\\"image\\\", \\\"value\\\": 1, \\\"id\\\": \\\"8e9d6d0d-b02c-4d1e-81c2-832d93e20a4a\\\"}\\n        ],\\n        \\\"id\\\": \\\"bc4eb2c6-d08d-40c4-84c0-39c9f67b732e\\\",\\n    },\\n]\";\n",
       "                var nbb_cells = Jupyter.notebook.get_cells();\n",
       "                for (var i = 0; i < nbb_cells.length; ++i) {\n",
       "                    if (nbb_cells[i].input_prompt_number == nbb_cell_id) {\n",
       "                        if (nbb_cells[i].get_text() == nbb_unformatted_code) {\n",
       "                             nbb_cells[i].set_text(nbb_formatted_code);\n",
       "                        }\n",
       "                        break;\n",
       "                    }\n",
       "                }\n",
       "            }, 500);\n",
       "            "
      ],
      "text/plain": [
       "<IPython.core.display.Javascript object>"
      ]
     },
     "metadata": {},
     "output_type": "display_data"
    }
   ],
   "source": [
    "[\n",
    "    {\n",
    "        \"type\": \"overview\",\n",
    "        \"value\": [\n",
    "            {\n",
    "                \"type\": \"heading\",\n",
    "                \"value\": \"overview heading\",\n",
    "                \"id\": \"220f8d2c-bc04-4b91-925a-64444f459919\",\n",
    "            }\n",
    "        ],\n",
    "        \"id\": \"0ad2efc3-e742-4c0b-8e12-d11f5bd3164a\",\n",
    "    },\n",
    "    {\n",
    "        \"type\": \"detail\",\n",
    "        \"value\": [\n",
    "            {\"type\": \"image\", \"value\": 1, \"id\": \"8e9d6d0d-b02c-4d1e-81c2-832d93e20a4a\"}\n",
    "        ],\n",
    "        \"id\": \"bc4eb2c6-d08d-40c4-84c0-39c9f67b732e\",\n",
    "    },\n",
    "]"
   ]
  },
  {
   "cell_type": "code",
   "execution_count": 64,
   "id": "14eab4df",
   "metadata": {},
   "outputs": [
    {
     "data": {
      "text/plain": [
       "(4,\n",
       " {'taggit.TaggedItem': 1,\n",
       "  'wagtailimages.Rendition': 1,\n",
       "  'wagtailimages.Image': 2})"
      ]
     },
     "execution_count": 64,
     "metadata": {},
     "output_type": "execute_result"
    },
    {
     "data": {
      "application/javascript": [
       "\n",
       "            setTimeout(function() {\n",
       "                var nbb_cell_id = 64;\n",
       "                var nbb_unformatted_code = \"Image.objects.all().delete()\";\n",
       "                var nbb_formatted_code = \"Image.objects.all().delete()\";\n",
       "                var nbb_cells = Jupyter.notebook.get_cells();\n",
       "                for (var i = 0; i < nbb_cells.length; ++i) {\n",
       "                    if (nbb_cells[i].input_prompt_number == nbb_cell_id) {\n",
       "                        if (nbb_cells[i].get_text() == nbb_unformatted_code) {\n",
       "                             nbb_cells[i].set_text(nbb_formatted_code);\n",
       "                        }\n",
       "                        break;\n",
       "                    }\n",
       "                }\n",
       "            }, 500);\n",
       "            "
      ],
      "text/plain": [
       "<IPython.core.display.Javascript object>"
      ]
     },
     "metadata": {},
     "output_type": "display_data"
    }
   ],
   "source": [
    "Image.objects.all().delete()"
   ]
  },
  {
   "cell_type": "code",
   "execution_count": 61,
   "id": "d2291497",
   "metadata": {},
   "outputs": [
    {
     "data": {
      "application/javascript": [
       "\n",
       "            setTimeout(function() {\n",
       "                var nbb_cell_id = 61;\n",
       "                var nbb_unformatted_code = \"image = Image(width=0, height=0)\";\n",
       "                var nbb_formatted_code = \"image = Image(width=0, height=0)\";\n",
       "                var nbb_cells = Jupyter.notebook.get_cells();\n",
       "                for (var i = 0; i < nbb_cells.length; ++i) {\n",
       "                    if (nbb_cells[i].input_prompt_number == nbb_cell_id) {\n",
       "                        if (nbb_cells[i].get_text() == nbb_unformatted_code) {\n",
       "                             nbb_cells[i].set_text(nbb_formatted_code);\n",
       "                        }\n",
       "                        break;\n",
       "                    }\n",
       "                }\n",
       "            }, 500);\n",
       "            "
      ],
      "text/plain": [
       "<IPython.core.display.Javascript object>"
      ]
     },
     "metadata": {},
     "output_type": "display_data"
    }
   ],
   "source": [
    "image = Image(width=0, height=0)"
   ]
  },
  {
   "cell_type": "code",
   "execution_count": 62,
   "id": "a9818b83",
   "metadata": {},
   "outputs": [
    {
     "data": {
      "application/javascript": [
       "\n",
       "            setTimeout(function() {\n",
       "                var nbb_cell_id = 62;\n",
       "                var nbb_unformatted_code = \"image.save()\";\n",
       "                var nbb_formatted_code = \"image.save()\";\n",
       "                var nbb_cells = Jupyter.notebook.get_cells();\n",
       "                for (var i = 0; i < nbb_cells.length; ++i) {\n",
       "                    if (nbb_cells[i].input_prompt_number == nbb_cell_id) {\n",
       "                        if (nbb_cells[i].get_text() == nbb_unformatted_code) {\n",
       "                             nbb_cells[i].set_text(nbb_formatted_code);\n",
       "                        }\n",
       "                        break;\n",
       "                    }\n",
       "                }\n",
       "            }, 500);\n",
       "            "
      ],
      "text/plain": [
       "<IPython.core.display.Javascript object>"
      ]
     },
     "metadata": {},
     "output_type": "display_data"
    }
   ],
   "source": [
    "image.save()"
   ]
  },
  {
   "cell_type": "code",
   "execution_count": 63,
   "id": "70651e11",
   "metadata": {},
   "outputs": [
    {
     "data": {
      "text/plain": [
       "2"
      ]
     },
     "execution_count": 63,
     "metadata": {},
     "output_type": "execute_result"
    },
    {
     "data": {
      "application/javascript": [
       "\n",
       "            setTimeout(function() {\n",
       "                var nbb_cell_id = 63;\n",
       "                var nbb_unformatted_code = \"Image.objects.count()\";\n",
       "                var nbb_formatted_code = \"Image.objects.count()\";\n",
       "                var nbb_cells = Jupyter.notebook.get_cells();\n",
       "                for (var i = 0; i < nbb_cells.length; ++i) {\n",
       "                    if (nbb_cells[i].input_prompt_number == nbb_cell_id) {\n",
       "                        if (nbb_cells[i].get_text() == nbb_unformatted_code) {\n",
       "                             nbb_cells[i].set_text(nbb_formatted_code);\n",
       "                        }\n",
       "                        break;\n",
       "                    }\n",
       "                }\n",
       "            }, 500);\n",
       "            "
      ],
      "text/plain": [
       "<IPython.core.display.Javascript object>"
      ]
     },
     "metadata": {},
     "output_type": "display_data"
    }
   ],
   "source": [
    "Image.objects.count()"
   ]
  },
  {
   "cell_type": "code",
   "execution_count": 65,
   "id": "004f6dab",
   "metadata": {},
   "outputs": [
    {
     "data": {
      "application/javascript": [
       "\n",
       "            setTimeout(function() {\n",
       "                var nbb_cell_id = 65;\n",
       "                var nbb_unformatted_code = \"urlencoded_post_data = \\\"\\\"\\\"\\ncsrfmiddlewaretoken=FpoVqUz8XgqapQpERjzx3DHXOpz5EC3UQaM7Nv2DYc5BfmkwHcssbvAijwnbSxw2&next=&comment_notifications=on&title=post+with+image&visible_date=2021-08-18+08%3A45&body-count=1&body-0-deleted=&body-0-order=0&body-0-type=overview&body-0-id=2a3a7170-c3c5-43ea-8ef7-04dbb0f1b5b0&body-0-value-count=1&body-0-value-0-deleted=&body-0-value-0-order=0&body-0-value-0-type=image&body-0-value-0-id=a8f60f89-d510-4d0a-acc8-8c654ec5545e&body-0-value-0-value=3&slug=post-with-image&seo_title=&search_description=&go_live_at=&expire_at=&comments-TOTAL_FORMS=0&comments-INITIAL_FORMS=0&comments-MIN_NUM_FORMS=0&comments-MAX_NUM_FORMS=&action-publish=action-publish\\n\\\"\\\"\\\".lstrip().rstrip()\";\n",
       "                var nbb_formatted_code = \"urlencoded_post_data = \\\"\\\"\\\"\\ncsrfmiddlewaretoken=FpoVqUz8XgqapQpERjzx3DHXOpz5EC3UQaM7Nv2DYc5BfmkwHcssbvAijwnbSxw2&next=&comment_notifications=on&title=post+with+image&visible_date=2021-08-18+08%3A45&body-count=1&body-0-deleted=&body-0-order=0&body-0-type=overview&body-0-id=2a3a7170-c3c5-43ea-8ef7-04dbb0f1b5b0&body-0-value-count=1&body-0-value-0-deleted=&body-0-value-0-order=0&body-0-value-0-type=image&body-0-value-0-id=a8f60f89-d510-4d0a-acc8-8c654ec5545e&body-0-value-0-value=3&slug=post-with-image&seo_title=&search_description=&go_live_at=&expire_at=&comments-TOTAL_FORMS=0&comments-INITIAL_FORMS=0&comments-MIN_NUM_FORMS=0&comments-MAX_NUM_FORMS=&action-publish=action-publish\\n\\\"\\\"\\\".lstrip().rstrip()\";\n",
       "                var nbb_cells = Jupyter.notebook.get_cells();\n",
       "                for (var i = 0; i < nbb_cells.length; ++i) {\n",
       "                    if (nbb_cells[i].input_prompt_number == nbb_cell_id) {\n",
       "                        if (nbb_cells[i].get_text() == nbb_unformatted_code) {\n",
       "                             nbb_cells[i].set_text(nbb_formatted_code);\n",
       "                        }\n",
       "                        break;\n",
       "                    }\n",
       "                }\n",
       "            }, 500);\n",
       "            "
      ],
      "text/plain": [
       "<IPython.core.display.Javascript object>"
      ]
     },
     "metadata": {},
     "output_type": "display_data"
    }
   ],
   "source": [
    "urlencoded_post_data = \"\"\"\n",
    "csrfmiddlewaretoken=FpoVqUz8XgqapQpERjzx3DHXOpz5EC3UQaM7Nv2DYc5BfmkwHcssbvAijwnbSxw2&next=&comment_notifications=on&title=post+with+image&visible_date=2021-08-18+08%3A45&body-count=1&body-0-deleted=&body-0-order=0&body-0-type=overview&body-0-id=2a3a7170-c3c5-43ea-8ef7-04dbb0f1b5b0&body-0-value-count=1&body-0-value-0-deleted=&body-0-value-0-order=0&body-0-value-0-type=image&body-0-value-0-id=a8f60f89-d510-4d0a-acc8-8c654ec5545e&body-0-value-0-value=3&slug=post-with-image&seo_title=&search_description=&go_live_at=&expire_at=&comments-TOTAL_FORMS=0&comments-INITIAL_FORMS=0&comments-MIN_NUM_FORMS=0&comments-MAX_NUM_FORMS=&action-publish=action-publish\n",
    "\"\"\".lstrip().rstrip()"
   ]
  },
  {
   "cell_type": "code",
   "execution_count": 66,
   "id": "72eac3cb",
   "metadata": {},
   "outputs": [
    {
     "name": "stdout",
     "output_type": "stream",
     "text": [
      "{'action-publish': 'action-publish',\n",
      " 'body-0-deleted': '',\n",
      " 'body-0-id': '2a3a7170-c3c5-43ea-8ef7-04dbb0f1b5b0',\n",
      " 'body-0-order': '0',\n",
      " 'body-0-type': 'overview',\n",
      " 'body-0-value-0-deleted': '',\n",
      " 'body-0-value-0-id': 'a8f60f89-d510-4d0a-acc8-8c654ec5545e',\n",
      " 'body-0-value-0-order': '0',\n",
      " 'body-0-value-0-type': 'image',\n",
      " 'body-0-value-0-value': '3',\n",
      " 'body-0-value-count': '1',\n",
      " 'body-count': '1',\n",
      " 'comment_notifications': 'on',\n",
      " 'comments-INITIAL_FORMS': '0',\n",
      " 'comments-MAX_NUM_FORMS': '',\n",
      " 'comments-MIN_NUM_FORMS': '0',\n",
      " 'comments-TOTAL_FORMS': '0',\n",
      " 'csrfmiddlewaretoken': 'FpoVqUz8XgqapQpERjzx3DHXOpz5EC3UQaM7Nv2DYc5BfmkwHcssbvAijwnbSxw2',\n",
      " 'expire_at': '',\n",
      " 'go_live_at': '',\n",
      " 'next': '',\n",
      " 'search_description': '',\n",
      " 'seo_title': '',\n",
      " 'slug': 'post-with-image',\n",
      " 'title': 'post with image',\n",
      " 'visible_date': '2021-08-18 08:45'}\n"
     ]
    },
    {
     "data": {
      "application/javascript": [
       "\n",
       "            setTimeout(function() {\n",
       "                var nbb_cell_id = 66;\n",
       "                var nbb_unformatted_code = \"dict_post_data = {\\n    k: v[0] for k, v in parse_qs(urlencoded_post_data, keep_blank_values=True).items()\\n}\\npprint(dict_post_data)\";\n",
       "                var nbb_formatted_code = \"dict_post_data = {\\n    k: v[0] for k, v in parse_qs(urlencoded_post_data, keep_blank_values=True).items()\\n}\\npprint(dict_post_data)\";\n",
       "                var nbb_cells = Jupyter.notebook.get_cells();\n",
       "                for (var i = 0; i < nbb_cells.length; ++i) {\n",
       "                    if (nbb_cells[i].input_prompt_number == nbb_cell_id) {\n",
       "                        if (nbb_cells[i].get_text() == nbb_unformatted_code) {\n",
       "                             nbb_cells[i].set_text(nbb_formatted_code);\n",
       "                        }\n",
       "                        break;\n",
       "                    }\n",
       "                }\n",
       "            }, 500);\n",
       "            "
      ],
      "text/plain": [
       "<IPython.core.display.Javascript object>"
      ]
     },
     "metadata": {},
     "output_type": "display_data"
    }
   ],
   "source": [
    "dict_post_data = {\n",
    "    k: v[0] for k, v in parse_qs(urlencoded_post_data, keep_blank_values=True).items()\n",
    "}\n",
    "pprint(dict_post_data)"
   ]
  },
  {
   "cell_type": "code",
   "execution_count": 67,
   "id": "fe437888",
   "metadata": {},
   "outputs": [
    {
     "data": {
      "text/plain": [
       "{'action-publish': 'action-publish',\n",
       " 'body-0-deleted': '',\n",
       " 'body-0-id': '2a3a7170-c3c5-43ea-8ef7-04dbb0f1b5b0',\n",
       " 'body-0-order': '0',\n",
       " 'body-0-type': 'overview',\n",
       " 'body-0-value-0-deleted': '',\n",
       " 'body-0-value-0-id': 'a8f60f89-d510-4d0a-acc8-8c654ec5545e',\n",
       " 'body-0-value-0-order': '0',\n",
       " 'body-0-value-0-type': 'image',\n",
       " 'body-0-value-0-value': '3',\n",
       " 'body-0-value-count': '1',\n",
       " 'body-count': '1',\n",
       " 'comment_notifications': 'on',\n",
       " 'comments-INITIAL_FORMS': '0',\n",
       " 'comments-MAX_NUM_FORMS': '',\n",
       " 'comments-MIN_NUM_FORMS': '0',\n",
       " 'comments-TOTAL_FORMS': '0',\n",
       " 'csrfmiddlewaretoken': 'FpoVqUz8XgqapQpERjzx3DHXOpz5EC3UQaM7Nv2DYc5BfmkwHcssbvAijwnbSxw2',\n",
       " 'expire_at': '',\n",
       " 'go_live_at': '',\n",
       " 'next': '',\n",
       " 'search_description': '',\n",
       " 'seo_title': '',\n",
       " 'slug': 'post-with-image',\n",
       " 'title': 'post with image',\n",
       " 'visible_date': '2021-08-18 08:45'}"
      ]
     },
     "execution_count": 67,
     "metadata": {},
     "output_type": "execute_result"
    },
    {
     "data": {
      "application/javascript": [
       "\n",
       "            setTimeout(function() {\n",
       "                var nbb_cell_id = 67;\n",
       "                var nbb_unformatted_code = \"{'action-publish': 'action-publish',\\n 'body-0-deleted': '',\\n 'body-0-id': '2a3a7170-c3c5-43ea-8ef7-04dbb0f1b5b0',\\n 'body-0-order': '0',\\n 'body-0-type': 'overview',\\n 'body-0-value-0-deleted': '',\\n 'body-0-value-0-id': 'a8f60f89-d510-4d0a-acc8-8c654ec5545e',\\n 'body-0-value-0-order': '0',\\n 'body-0-value-0-type': 'image',\\n 'body-0-value-0-value': '3',\\n 'body-0-value-count': '1',\\n 'body-count': '1',\\n 'comment_notifications': 'on',\\n 'comments-INITIAL_FORMS': '0',\\n 'comments-MAX_NUM_FORMS': '',\\n 'comments-MIN_NUM_FORMS': '0',\\n 'comments-TOTAL_FORMS': '0',\\n 'csrfmiddlewaretoken': 'FpoVqUz8XgqapQpERjzx3DHXOpz5EC3UQaM7Nv2DYc5BfmkwHcssbvAijwnbSxw2',\\n 'expire_at': '',\\n 'go_live_at': '',\\n 'next': '',\\n 'search_description': '',\\n 'seo_title': '',\\n 'slug': 'post-with-image',\\n 'title': 'post with image',\\n 'visible_date': '2021-08-18 08:45'}\";\n",
       "                var nbb_formatted_code = \"{\\n    \\\"action-publish\\\": \\\"action-publish\\\",\\n    \\\"body-0-deleted\\\": \\\"\\\",\\n    \\\"body-0-id\\\": \\\"2a3a7170-c3c5-43ea-8ef7-04dbb0f1b5b0\\\",\\n    \\\"body-0-order\\\": \\\"0\\\",\\n    \\\"body-0-type\\\": \\\"overview\\\",\\n    \\\"body-0-value-0-deleted\\\": \\\"\\\",\\n    \\\"body-0-value-0-id\\\": \\\"a8f60f89-d510-4d0a-acc8-8c654ec5545e\\\",\\n    \\\"body-0-value-0-order\\\": \\\"0\\\",\\n    \\\"body-0-value-0-type\\\": \\\"image\\\",\\n    \\\"body-0-value-0-value\\\": \\\"3\\\",\\n    \\\"body-0-value-count\\\": \\\"1\\\",\\n    \\\"body-count\\\": \\\"1\\\",\\n    \\\"comment_notifications\\\": \\\"on\\\",\\n    \\\"comments-INITIAL_FORMS\\\": \\\"0\\\",\\n    \\\"comments-MAX_NUM_FORMS\\\": \\\"\\\",\\n    \\\"comments-MIN_NUM_FORMS\\\": \\\"0\\\",\\n    \\\"comments-TOTAL_FORMS\\\": \\\"0\\\",\\n    \\\"csrfmiddlewaretoken\\\": \\\"FpoVqUz8XgqapQpERjzx3DHXOpz5EC3UQaM7Nv2DYc5BfmkwHcssbvAijwnbSxw2\\\",\\n    \\\"expire_at\\\": \\\"\\\",\\n    \\\"go_live_at\\\": \\\"\\\",\\n    \\\"next\\\": \\\"\\\",\\n    \\\"search_description\\\": \\\"\\\",\\n    \\\"seo_title\\\": \\\"\\\",\\n    \\\"slug\\\": \\\"post-with-image\\\",\\n    \\\"title\\\": \\\"post with image\\\",\\n    \\\"visible_date\\\": \\\"2021-08-18 08:45\\\",\\n}\";\n",
       "                var nbb_cells = Jupyter.notebook.get_cells();\n",
       "                for (var i = 0; i < nbb_cells.length; ++i) {\n",
       "                    if (nbb_cells[i].input_prompt_number == nbb_cell_id) {\n",
       "                        if (nbb_cells[i].get_text() == nbb_unformatted_code) {\n",
       "                             nbb_cells[i].set_text(nbb_formatted_code);\n",
       "                        }\n",
       "                        break;\n",
       "                    }\n",
       "                }\n",
       "            }, 500);\n",
       "            "
      ],
      "text/plain": [
       "<IPython.core.display.Javascript object>"
      ]
     },
     "metadata": {},
     "output_type": "display_data"
    }
   ],
   "source": [
    "{\n",
    "    \"action-publish\": \"action-publish\",\n",
    "    \"body-0-deleted\": \"\",\n",
    "    \"body-0-id\": \"2a3a7170-c3c5-43ea-8ef7-04dbb0f1b5b0\",\n",
    "    \"body-0-order\": \"0\",\n",
    "    \"body-0-type\": \"overview\",\n",
    "    \"body-0-value-0-deleted\": \"\",\n",
    "    \"body-0-value-0-id\": \"a8f60f89-d510-4d0a-acc8-8c654ec5545e\",\n",
    "    \"body-0-value-0-order\": \"0\",\n",
    "    \"body-0-value-0-type\": \"image\",\n",
    "    \"body-0-value-0-value\": \"3\",\n",
    "    \"body-0-value-count\": \"1\",\n",
    "    \"body-count\": \"1\",\n",
    "    \"comment_notifications\": \"on\",\n",
    "    \"comments-INITIAL_FORMS\": \"0\",\n",
    "    \"comments-MAX_NUM_FORMS\": \"\",\n",
    "    \"comments-MIN_NUM_FORMS\": \"0\",\n",
    "    \"comments-TOTAL_FORMS\": \"0\",\n",
    "    \"csrfmiddlewaretoken\": \"FpoVqUz8XgqapQpERjzx3DHXOpz5EC3UQaM7Nv2DYc5BfmkwHcssbvAijwnbSxw2\",\n",
    "    \"expire_at\": \"\",\n",
    "    \"go_live_at\": \"\",\n",
    "    \"next\": \"\",\n",
    "    \"search_description\": \"\",\n",
    "    \"seo_title\": \"\",\n",
    "    \"slug\": \"post-with-image\",\n",
    "    \"title\": \"post with image\",\n",
    "    \"visible_date\": \"2021-08-18 08:45\",\n",
    "}"
   ]
  },
  {
   "cell_type": "code",
   "execution_count": 68,
   "id": "6d84184d",
   "metadata": {},
   "outputs": [
    {
     "data": {
      "text/plain": [
       "3"
      ]
     },
     "execution_count": 68,
     "metadata": {},
     "output_type": "execute_result"
    },
    {
     "data": {
      "application/javascript": [
       "\n",
       "            setTimeout(function() {\n",
       "                var nbb_cell_id = 68;\n",
       "                var nbb_unformatted_code = \"Image.objects.last().pk\";\n",
       "                var nbb_formatted_code = \"Image.objects.last().pk\";\n",
       "                var nbb_cells = Jupyter.notebook.get_cells();\n",
       "                for (var i = 0; i < nbb_cells.length; ++i) {\n",
       "                    if (nbb_cells[i].input_prompt_number == nbb_cell_id) {\n",
       "                        if (nbb_cells[i].get_text() == nbb_unformatted_code) {\n",
       "                             nbb_cells[i].set_text(nbb_formatted_code);\n",
       "                        }\n",
       "                        break;\n",
       "                    }\n",
       "                }\n",
       "            }, 500);\n",
       "            "
      ],
      "text/plain": [
       "<IPython.core.display.Javascript object>"
      ]
     },
     "metadata": {},
     "output_type": "display_data"
    }
   ],
   "source": [
    "Image.objects.last().pk"
   ]
  },
  {
   "cell_type": "code",
   "execution_count": 69,
   "id": "94e4f358",
   "metadata": {},
   "outputs": [
    {
     "data": {
      "application/javascript": [
       "\n",
       "            setTimeout(function() {\n",
       "                var nbb_cell_id = 69;\n",
       "                var nbb_unformatted_code = \"post = Post.objects.last()\";\n",
       "                var nbb_formatted_code = \"post = Post.objects.last()\";\n",
       "                var nbb_cells = Jupyter.notebook.get_cells();\n",
       "                for (var i = 0; i < nbb_cells.length; ++i) {\n",
       "                    if (nbb_cells[i].input_prompt_number == nbb_cell_id) {\n",
       "                        if (nbb_cells[i].get_text() == nbb_unformatted_code) {\n",
       "                             nbb_cells[i].set_text(nbb_formatted_code);\n",
       "                        }\n",
       "                        break;\n",
       "                    }\n",
       "                }\n",
       "            }, 500);\n",
       "            "
      ],
      "text/plain": [
       "<IPython.core.display.Javascript object>"
      ]
     },
     "metadata": {},
     "output_type": "display_data"
    }
   ],
   "source": [
    "post = Post.objects.last()"
   ]
  },
  {
   "cell_type": "code",
   "execution_count": 76,
   "id": "5178c84f",
   "metadata": {},
   "outputs": [
    {
     "data": {
      "text/plain": [
       "[{'type': 'overview', 'value': [{'type': 'image', 'value': 3, 'id': 'a8f60f89-d510-4d0a-acc8-8c654ec5545e'}], 'id': '2a3a7170-c3c5-43ea-8ef7-04dbb0f1b5b0'}]"
      ]
     },
     "execution_count": 76,
     "metadata": {},
     "output_type": "execute_result"
    },
    {
     "data": {
      "application/javascript": [
       "\n",
       "            setTimeout(function() {\n",
       "                var nbb_cell_id = 76;\n",
       "                var nbb_unformatted_code = \"post.body.raw_data\";\n",
       "                var nbb_formatted_code = \"post.body.raw_data\";\n",
       "                var nbb_cells = Jupyter.notebook.get_cells();\n",
       "                for (var i = 0; i < nbb_cells.length; ++i) {\n",
       "                    if (nbb_cells[i].input_prompt_number == nbb_cell_id) {\n",
       "                        if (nbb_cells[i].get_text() == nbb_unformatted_code) {\n",
       "                             nbb_cells[i].set_text(nbb_formatted_code);\n",
       "                        }\n",
       "                        break;\n",
       "                    }\n",
       "                }\n",
       "            }, 500);\n",
       "            "
      ],
      "text/plain": [
       "<IPython.core.display.Javascript object>"
      ]
     },
     "metadata": {},
     "output_type": "display_data"
    }
   ],
   "source": [
    "post.body.raw_data"
   ]
  },
  {
   "cell_type": "code",
   "execution_count": 79,
   "id": "807b01a2",
   "metadata": {},
   "outputs": [
    {
     "name": "stdout",
     "output_type": "stream",
     "text": [
      "overview\n"
     ]
    },
    {
     "ename": "AttributeError",
     "evalue": "'StreamValue' object has no attribute 'image'",
     "output_type": "error",
     "traceback": [
      "\u001b[0;31m---------------------------------------------------------------------------\u001b[0m",
      "\u001b[0;31mAttributeError\u001b[0m                            Traceback (most recent call last)",
      "\u001b[0;32m/var/folders/dg/20nm141d3hj2hv67hjl6zmkc0000gn/T/ipykernel_16075/521247893.py\u001b[0m in \u001b[0;36m<module>\u001b[0;34m\u001b[0m\n\u001b[1;32m      1\u001b[0m \u001b[0;32mfor\u001b[0m \u001b[0mblock\u001b[0m \u001b[0;32min\u001b[0m \u001b[0mpost\u001b[0m\u001b[0;34m.\u001b[0m\u001b[0mbody\u001b[0m\u001b[0;34m:\u001b[0m\u001b[0;34m\u001b[0m\u001b[0;34m\u001b[0m\u001b[0m\n\u001b[1;32m      2\u001b[0m     \u001b[0mprint\u001b[0m\u001b[0;34m(\u001b[0m\u001b[0mblock\u001b[0m\u001b[0;34m.\u001b[0m\u001b[0mblock_type\u001b[0m\u001b[0;34m)\u001b[0m\u001b[0;34m\u001b[0m\u001b[0;34m\u001b[0m\u001b[0m\n\u001b[0;32m----> 3\u001b[0;31m     \u001b[0mprint\u001b[0m\u001b[0;34m(\u001b[0m\u001b[0mblock\u001b[0m\u001b[0;34m.\u001b[0m\u001b[0mvalue\u001b[0m\u001b[0;34m.\u001b[0m\u001b[0mimage\u001b[0m\u001b[0;34m)\u001b[0m\u001b[0;34m\u001b[0m\u001b[0;34m\u001b[0m\u001b[0m\n\u001b[0m",
      "\u001b[0;31mAttributeError\u001b[0m: 'StreamValue' object has no attribute 'image'"
     ]
    },
    {
     "data": {
      "application/javascript": [
       "\n",
       "            setTimeout(function() {\n",
       "                var nbb_cell_id = 79;\n",
       "                var nbb_unformatted_code = \"for block in post.body:\\n    print(block.block_type)\\n    print(block.value.image)\";\n",
       "                var nbb_formatted_code = \"for block in post.body:\\n    print(block.block_type)\\n    print(block.value.image)\";\n",
       "                var nbb_cells = Jupyter.notebook.get_cells();\n",
       "                for (var i = 0; i < nbb_cells.length; ++i) {\n",
       "                    if (nbb_cells[i].input_prompt_number == nbb_cell_id) {\n",
       "                        if (nbb_cells[i].get_text() == nbb_unformatted_code) {\n",
       "                             nbb_cells[i].set_text(nbb_formatted_code);\n",
       "                        }\n",
       "                        break;\n",
       "                    }\n",
       "                }\n",
       "            }, 500);\n",
       "            "
      ],
      "text/plain": [
       "<IPython.core.display.Javascript object>"
      ]
     },
     "metadata": {},
     "output_type": "display_data"
    }
   ],
   "source": [
    "for block in post.body:\n",
    "    print(block.block_type)\n",
    "    print(block.value.image)"
   ]
  },
  {
   "cell_type": "code",
   "execution_count": 80,
   "id": "b484fb5c",
   "metadata": {},
   "outputs": [
    {
     "data": {
      "application/javascript": [
       "\n",
       "            setTimeout(function() {\n",
       "                var nbb_cell_id = 80;\n",
       "                var nbb_unformatted_code = \"overview = post.body[0]\";\n",
       "                var nbb_formatted_code = \"overview = post.body[0]\";\n",
       "                var nbb_cells = Jupyter.notebook.get_cells();\n",
       "                for (var i = 0; i < nbb_cells.length; ++i) {\n",
       "                    if (nbb_cells[i].input_prompt_number == nbb_cell_id) {\n",
       "                        if (nbb_cells[i].get_text() == nbb_unformatted_code) {\n",
       "                             nbb_cells[i].set_text(nbb_formatted_code);\n",
       "                        }\n",
       "                        break;\n",
       "                    }\n",
       "                }\n",
       "            }, 500);\n",
       "            "
      ],
      "text/plain": [
       "<IPython.core.display.Javascript object>"
      ]
     },
     "metadata": {},
     "output_type": "display_data"
    }
   ],
   "source": [
    "overview = post.body[0]"
   ]
  },
  {
   "cell_type": "code",
   "execution_count": 81,
   "id": "ff7f71e8",
   "metadata": {},
   "outputs": [
    {
     "data": {
      "text/plain": [
       "<block overview: <StreamValue [<block image: <Image: IMG_0655.jpeg>>]>>"
      ]
     },
     "execution_count": 81,
     "metadata": {},
     "output_type": "execute_result"
    },
    {
     "data": {
      "application/javascript": [
       "\n",
       "            setTimeout(function() {\n",
       "                var nbb_cell_id = 81;\n",
       "                var nbb_unformatted_code = \"overview\";\n",
       "                var nbb_formatted_code = \"overview\";\n",
       "                var nbb_cells = Jupyter.notebook.get_cells();\n",
       "                for (var i = 0; i < nbb_cells.length; ++i) {\n",
       "                    if (nbb_cells[i].input_prompt_number == nbb_cell_id) {\n",
       "                        if (nbb_cells[i].get_text() == nbb_unformatted_code) {\n",
       "                             nbb_cells[i].set_text(nbb_formatted_code);\n",
       "                        }\n",
       "                        break;\n",
       "                    }\n",
       "                }\n",
       "            }, 500);\n",
       "            "
      ],
      "text/plain": [
       "<IPython.core.display.Javascript object>"
      ]
     },
     "metadata": {},
     "output_type": "display_data"
    }
   ],
   "source": [
    "overview"
   ]
  },
  {
   "cell_type": "code",
   "execution_count": 82,
   "id": "e3dea369",
   "metadata": {},
   "outputs": [
    {
     "ename": "TypeError",
     "evalue": "'StreamChild' object is not iterable",
     "output_type": "error",
     "traceback": [
      "\u001b[0;31m---------------------------------------------------------------------------\u001b[0m",
      "\u001b[0;31mTypeError\u001b[0m                                 Traceback (most recent call last)",
      "\u001b[0;32m/var/folders/dg/20nm141d3hj2hv67hjl6zmkc0000gn/T/ipykernel_16075/3906459508.py\u001b[0m in \u001b[0;36m<module>\u001b[0;34m\u001b[0m\n\u001b[0;32m----> 1\u001b[0;31m \u001b[0;32mfor\u001b[0m \u001b[0mblock\u001b[0m \u001b[0;32min\u001b[0m \u001b[0moverview\u001b[0m\u001b[0;34m:\u001b[0m\u001b[0;34m\u001b[0m\u001b[0;34m\u001b[0m\u001b[0m\n\u001b[0m\u001b[1;32m      2\u001b[0m     \u001b[0mprint\u001b[0m\u001b[0;34m(\u001b[0m\u001b[0mblock\u001b[0m\u001b[0;34m.\u001b[0m\u001b[0mblock_type\u001b[0m\u001b[0;34m)\u001b[0m\u001b[0;34m\u001b[0m\u001b[0;34m\u001b[0m\u001b[0m\n",
      "\u001b[0;31mTypeError\u001b[0m: 'StreamChild' object is not iterable"
     ]
    },
    {
     "data": {
      "application/javascript": [
       "\n",
       "            setTimeout(function() {\n",
       "                var nbb_cell_id = 82;\n",
       "                var nbb_unformatted_code = \"for block in overview:\\n    print(block.block_type)\";\n",
       "                var nbb_formatted_code = \"for block in overview:\\n    print(block.block_type)\";\n",
       "                var nbb_cells = Jupyter.notebook.get_cells();\n",
       "                for (var i = 0; i < nbb_cells.length; ++i) {\n",
       "                    if (nbb_cells[i].input_prompt_number == nbb_cell_id) {\n",
       "                        if (nbb_cells[i].get_text() == nbb_unformatted_code) {\n",
       "                             nbb_cells[i].set_text(nbb_formatted_code);\n",
       "                        }\n",
       "                        break;\n",
       "                    }\n",
       "                }\n",
       "            }, 500);\n",
       "            "
      ],
      "text/plain": [
       "<IPython.core.display.Javascript object>"
      ]
     },
     "metadata": {},
     "output_type": "display_data"
    }
   ],
   "source": [
    "for block in overview:\n",
    "    print(block.block_type)"
   ]
  },
  {
   "cell_type": "code",
   "execution_count": 83,
   "id": "be7530a8",
   "metadata": {},
   "outputs": [
    {
     "data": {
      "text/plain": [
       "['__class__',\n",
       " '__delattr__',\n",
       " '__dict__',\n",
       " '__dir__',\n",
       " '__doc__',\n",
       " '__eq__',\n",
       " '__format__',\n",
       " '__ge__',\n",
       " '__getattribute__',\n",
       " '__gt__',\n",
       " '__hash__',\n",
       " '__init__',\n",
       " '__init_subclass__',\n",
       " '__le__',\n",
       " '__lt__',\n",
       " '__module__',\n",
       " '__ne__',\n",
       " '__new__',\n",
       " '__reduce__',\n",
       " '__reduce_ex__',\n",
       " '__repr__',\n",
       " '__setattr__',\n",
       " '__sizeof__',\n",
       " '__str__',\n",
       " '__subclasshook__',\n",
       " '__weakref__',\n",
       " '_as_tuple',\n",
       " 'block',\n",
       " 'block_type',\n",
       " 'errors',\n",
       " 'get_prep_value',\n",
       " 'id',\n",
       " 'id_for_label',\n",
       " 'prefix',\n",
       " 'render',\n",
       " 'render_as_block',\n",
       " 'value']"
      ]
     },
     "execution_count": 83,
     "metadata": {},
     "output_type": "execute_result"
    },
    {
     "data": {
      "application/javascript": [
       "\n",
       "            setTimeout(function() {\n",
       "                var nbb_cell_id = 83;\n",
       "                var nbb_unformatted_code = \"dir(overview)\";\n",
       "                var nbb_formatted_code = \"dir(overview)\";\n",
       "                var nbb_cells = Jupyter.notebook.get_cells();\n",
       "                for (var i = 0; i < nbb_cells.length; ++i) {\n",
       "                    if (nbb_cells[i].input_prompt_number == nbb_cell_id) {\n",
       "                        if (nbb_cells[i].get_text() == nbb_unformatted_code) {\n",
       "                             nbb_cells[i].set_text(nbb_formatted_code);\n",
       "                        }\n",
       "                        break;\n",
       "                    }\n",
       "                }\n",
       "            }, 500);\n",
       "            "
      ],
      "text/plain": [
       "<IPython.core.display.Javascript object>"
      ]
     },
     "metadata": {},
     "output_type": "display_data"
    }
   ],
   "source": [
    "dir(overview)"
   ]
  },
  {
   "cell_type": "code",
   "execution_count": 88,
   "id": "7211a488",
   "metadata": {},
   "outputs": [
    {
     "data": {
      "text/plain": [
       "<cast.models.ContentBlock at 0x10ce01700>"
      ]
     },
     "execution_count": 88,
     "metadata": {},
     "output_type": "execute_result"
    },
    {
     "data": {
      "application/javascript": [
       "\n",
       "            setTimeout(function() {\n",
       "                var nbb_cell_id = 88;\n",
       "                var nbb_unformatted_code = \"overview.block\";\n",
       "                var nbb_formatted_code = \"overview.block\";\n",
       "                var nbb_cells = Jupyter.notebook.get_cells();\n",
       "                for (var i = 0; i < nbb_cells.length; ++i) {\n",
       "                    if (nbb_cells[i].input_prompt_number == nbb_cell_id) {\n",
       "                        if (nbb_cells[i].get_text() == nbb_unformatted_code) {\n",
       "                             nbb_cells[i].set_text(nbb_formatted_code);\n",
       "                        }\n",
       "                        break;\n",
       "                    }\n",
       "                }\n",
       "            }, 500);\n",
       "            "
      ],
      "text/plain": [
       "<IPython.core.display.Javascript object>"
      ]
     },
     "metadata": {},
     "output_type": "display_data"
    }
   ],
   "source": [
    "overview.block"
   ]
  },
  {
   "cell_type": "code",
   "execution_count": 94,
   "id": "aa511670",
   "metadata": {},
   "outputs": [
    {
     "name": "stdout",
     "output_type": "stream",
     "text": [
      "image\n"
     ]
    },
    {
     "data": {
      "application/javascript": [
       "\n",
       "            setTimeout(function() {\n",
       "                var nbb_cell_id = 94;\n",
       "                var nbb_unformatted_code = \"for block in overview.value:\\n    print(block.block_type)\";\n",
       "                var nbb_formatted_code = \"for block in overview.value:\\n    print(block.block_type)\";\n",
       "                var nbb_cells = Jupyter.notebook.get_cells();\n",
       "                for (var i = 0; i < nbb_cells.length; ++i) {\n",
       "                    if (nbb_cells[i].input_prompt_number == nbb_cell_id) {\n",
       "                        if (nbb_cells[i].get_text() == nbb_unformatted_code) {\n",
       "                             nbb_cells[i].set_text(nbb_formatted_code);\n",
       "                        }\n",
       "                        break;\n",
       "                    }\n",
       "                }\n",
       "            }, 500);\n",
       "            "
      ],
      "text/plain": [
       "<IPython.core.display.Javascript object>"
      ]
     },
     "metadata": {},
     "output_type": "display_data"
    }
   ],
   "source": [
    "for block in overview.value:\n",
    "    print(block.block_type)"
   ]
  },
  {
   "cell_type": "code",
   "execution_count": 95,
   "id": "303218a6",
   "metadata": {},
   "outputs": [
    {
     "data": {
      "text/plain": [
       "{'image': cast.models.Image,\n",
       " 'video': cast.models.Video,\n",
       " 'gallery': cast.models.Gallery,\n",
       " 'audio': cast.models.Audio}"
      ]
     },
     "execution_count": 95,
     "metadata": {},
     "output_type": "execute_result"
    },
    {
     "data": {
      "application/javascript": [
       "\n",
       "            setTimeout(function() {\n",
       "                var nbb_cell_id = 95;\n",
       "                var nbb_unformatted_code = \"post.media_model_lookup\";\n",
       "                var nbb_formatted_code = \"post.media_model_lookup\";\n",
       "                var nbb_cells = Jupyter.notebook.get_cells();\n",
       "                for (var i = 0; i < nbb_cells.length; ++i) {\n",
       "                    if (nbb_cells[i].input_prompt_number == nbb_cell_id) {\n",
       "                        if (nbb_cells[i].get_text() == nbb_unformatted_code) {\n",
       "                             nbb_cells[i].set_text(nbb_formatted_code);\n",
       "                        }\n",
       "                        break;\n",
       "                    }\n",
       "                }\n",
       "            }, 500);\n",
       "            "
      ],
      "text/plain": [
       "<IPython.core.display.Javascript object>"
      ]
     },
     "metadata": {},
     "output_type": "display_data"
    }
   ],
   "source": [
    "post.media_model_lookup"
   ]
  },
  {
   "cell_type": "code",
   "execution_count": 99,
   "id": "85583917",
   "metadata": {},
   "outputs": [
    {
     "name": "stdout",
     "output_type": "stream",
     "text": [
      "image IMG_0655.jpeg 3\n"
     ]
    },
    {
     "data": {
      "application/javascript": [
       "\n",
       "            setTimeout(function() {\n",
       "                var nbb_cell_id = 99;\n",
       "                var nbb_unformatted_code = \"for content_block in post.body:\\n    for block in content_block.value:\\n        if block.block_type in post.media_model_lookup:\\n            print(block.block_type, block.value, block.value.id)\";\n",
       "                var nbb_formatted_code = \"for content_block in post.body:\\n    for block in content_block.value:\\n        if block.block_type in post.media_model_lookup:\\n            print(block.block_type, block.value, block.value.id)\";\n",
       "                var nbb_cells = Jupyter.notebook.get_cells();\n",
       "                for (var i = 0; i < nbb_cells.length; ++i) {\n",
       "                    if (nbb_cells[i].input_prompt_number == nbb_cell_id) {\n",
       "                        if (nbb_cells[i].get_text() == nbb_unformatted_code) {\n",
       "                             nbb_cells[i].set_text(nbb_formatted_code);\n",
       "                        }\n",
       "                        break;\n",
       "                    }\n",
       "                }\n",
       "            }, 500);\n",
       "            "
      ],
      "text/plain": [
       "<IPython.core.display.Javascript object>"
      ]
     },
     "metadata": {},
     "output_type": "display_data"
    }
   ],
   "source": [
    "for content_block in post.body:\n",
    "    for block in content_block.value:\n",
    "        if block.block_type in post.media_model_lookup:\n",
    "            print(block.block_type, block.value, block.value.id)"
   ]
  },
  {
   "cell_type": "code",
   "execution_count": 101,
   "id": "02077a8b",
   "metadata": {},
   "outputs": [
    {
     "data": {
      "text/plain": [
       "int"
      ]
     },
     "execution_count": 101,
     "metadata": {},
     "output_type": "execute_result"
    },
    {
     "data": {
      "application/javascript": [
       "\n",
       "            setTimeout(function() {\n",
       "                var nbb_cell_id = 101;\n",
       "                var nbb_unformatted_code = \"type(block.value.id)\";\n",
       "                var nbb_formatted_code = \"type(block.value.id)\";\n",
       "                var nbb_cells = Jupyter.notebook.get_cells();\n",
       "                for (var i = 0; i < nbb_cells.length; ++i) {\n",
       "                    if (nbb_cells[i].input_prompt_number == nbb_cell_id) {\n",
       "                        if (nbb_cells[i].get_text() == nbb_unformatted_code) {\n",
       "                             nbb_cells[i].set_text(nbb_formatted_code);\n",
       "                        }\n",
       "                        break;\n",
       "                    }\n",
       "                }\n",
       "            }, 500);\n",
       "            "
      ],
      "text/plain": [
       "<IPython.core.display.Javascript object>"
      ]
     },
     "metadata": {},
     "output_type": "display_data"
    }
   ],
   "source": [
    "type(block.value.id)"
   ]
  },
  {
   "cell_type": "code",
   "execution_count": null,
   "id": "1813af08",
   "metadata": {},
   "outputs": [],
   "source": []
  }
 ],
 "metadata": {
  "kernelspec": {
   "display_name": "Django Shell-Plus",
   "language": "python",
   "name": "django_extensions"
  },
  "language_info": {
   "codemirror_mode": {
    "name": "ipython",
    "version": 3
   },
   "file_extension": ".py",
   "mimetype": "text/x-python",
   "name": "python",
   "nbconvert_exporter": "python",
   "pygments_lexer": "ipython3",
   "version": "3.9.6"
  }
 },
 "nbformat": 4,
 "nbformat_minor": 5
}
