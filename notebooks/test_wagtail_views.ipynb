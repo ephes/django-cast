{
 "cells": [
  {
   "cell_type": "code",
   "execution_count": 1,
   "id": "86bbea52",
   "metadata": {},
   "outputs": [
    {
     "data": {
      "application/javascript": [
       "\n",
       "            setTimeout(function() {\n",
       "                var nbb_cell_id = 1;\n",
       "                var nbb_unformatted_code = \"%load_ext nb_black\";\n",
       "                var nbb_formatted_code = \"%load_ext nb_black\";\n",
       "                var nbb_cells = Jupyter.notebook.get_cells();\n",
       "                for (var i = 0; i < nbb_cells.length; ++i) {\n",
       "                    if (nbb_cells[i].input_prompt_number == nbb_cell_id) {\n",
       "                        if (nbb_cells[i].get_text() == nbb_unformatted_code) {\n",
       "                             nbb_cells[i].set_text(nbb_formatted_code);\n",
       "                        }\n",
       "                        break;\n",
       "                    }\n",
       "                }\n",
       "            }, 500);\n",
       "            "
      ],
      "text/plain": [
       "<IPython.core.display.Javascript object>"
      ]
     },
     "metadata": {},
     "output_type": "display_data"
    }
   ],
   "source": [
    "%load_ext nb_black"
   ]
  },
  {
   "cell_type": "markdown",
   "id": "57c1cae3",
   "metadata": {},
   "source": [
    "## only adds video not page"
   ]
  },
  {
   "cell_type": "code",
   "execution_count": 3,
   "id": "3a25842e",
   "metadata": {},
   "outputs": [
    {
     "data": {
      "application/javascript": [
       "\n",
       "            setTimeout(function() {\n",
       "                var nbb_cell_id = 3;\n",
       "                var nbb_unformatted_code = \"add_url = reverse(\\\"castmedia:video_add\\\")\";\n",
       "                var nbb_formatted_code = \"add_url = reverse(\\\"castmedia:video_add\\\")\";\n",
       "                var nbb_cells = Jupyter.notebook.get_cells();\n",
       "                for (var i = 0; i < nbb_cells.length; ++i) {\n",
       "                    if (nbb_cells[i].input_prompt_number == nbb_cell_id) {\n",
       "                        if (nbb_cells[i].get_text() == nbb_unformatted_code) {\n",
       "                             nbb_cells[i].set_text(nbb_formatted_code);\n",
       "                        }\n",
       "                        break;\n",
       "                    }\n",
       "                }\n",
       "            }, 500);\n",
       "            "
      ],
      "text/plain": [
       "<IPython.core.display.Javascript object>"
      ]
     },
     "metadata": {},
     "output_type": "display_data"
    }
   ],
   "source": [
    "add_url = reverse(\"castmedia:video_add\")"
   ]
  },
  {
   "cell_type": "code",
   "execution_count": 4,
   "id": "feefd1e5",
   "metadata": {},
   "outputs": [
    {
     "data": {
      "text/plain": [
       "'/cms/video/video/add/'"
      ]
     },
     "execution_count": 4,
     "metadata": {},
     "output_type": "execute_result"
    },
    {
     "data": {
      "application/javascript": [
       "\n",
       "            setTimeout(function() {\n",
       "                var nbb_cell_id = 4;\n",
       "                var nbb_unformatted_code = \"add_url\";\n",
       "                var nbb_formatted_code = \"add_url\";\n",
       "                var nbb_cells = Jupyter.notebook.get_cells();\n",
       "                for (var i = 0; i < nbb_cells.length; ++i) {\n",
       "                    if (nbb_cells[i].input_prompt_number == nbb_cell_id) {\n",
       "                        if (nbb_cells[i].get_text() == nbb_unformatted_code) {\n",
       "                             nbb_cells[i].set_text(nbb_formatted_code);\n",
       "                        }\n",
       "                        break;\n",
       "                    }\n",
       "                }\n",
       "            }, 500);\n",
       "            "
      ],
      "text/plain": [
       "<IPython.core.display.Javascript object>"
      ]
     },
     "metadata": {},
     "output_type": "display_data"
    }
   ],
   "source": [
    "add_url"
   ]
  },
  {
   "cell_type": "markdown",
   "id": "cc01f0c9",
   "metadata": {},
   "source": [
    "## wagtailadmin add sub_page"
   ]
  },
  {
   "cell_type": "code",
   "execution_count": 8,
   "id": "aad1c952",
   "metadata": {},
   "outputs": [
    {
     "data": {
      "text/plain": [
       "'/cms/pages/1/add_subpage/'"
      ]
     },
     "execution_count": 8,
     "metadata": {},
     "output_type": "execute_result"
    },
    {
     "data": {
      "application/javascript": [
       "\n",
       "            setTimeout(function() {\n",
       "                var nbb_cell_id = 8;\n",
       "                var nbb_unformatted_code = \"reverse(\\\"wagtailadmin_pages:add_subpage\\\", kwargs={\\\"parent_page_id\\\": 1})\";\n",
       "                var nbb_formatted_code = \"reverse(\\\"wagtailadmin_pages:add_subpage\\\", kwargs={\\\"parent_page_id\\\": 1})\";\n",
       "                var nbb_cells = Jupyter.notebook.get_cells();\n",
       "                for (var i = 0; i < nbb_cells.length; ++i) {\n",
       "                    if (nbb_cells[i].input_prompt_number == nbb_cell_id) {\n",
       "                        if (nbb_cells[i].get_text() == nbb_unformatted_code) {\n",
       "                             nbb_cells[i].set_text(nbb_formatted_code);\n",
       "                        }\n",
       "                        break;\n",
       "                    }\n",
       "                }\n",
       "            }, 500);\n",
       "            "
      ],
      "text/plain": [
       "<IPython.core.display.Javascript object>"
      ]
     },
     "metadata": {},
     "output_type": "display_data"
    }
   ],
   "source": [
    "reverse(\"wagtailadmin_pages:add_subpage\", kwargs={\"parent_page_id\": 1})"
   ]
  },
  {
   "cell_type": "code",
   "execution_count": 9,
   "id": "aa9bda84",
   "metadata": {},
   "outputs": [
    {
     "data": {
      "application/javascript": [
       "\n",
       "            setTimeout(function() {\n",
       "                var nbb_cell_id = 9;\n",
       "                var nbb_unformatted_code = \"blog = Blog.objects.first()\";\n",
       "                var nbb_formatted_code = \"blog = Blog.objects.first()\";\n",
       "                var nbb_cells = Jupyter.notebook.get_cells();\n",
       "                for (var i = 0; i < nbb_cells.length; ++i) {\n",
       "                    if (nbb_cells[i].input_prompt_number == nbb_cell_id) {\n",
       "                        if (nbb_cells[i].get_text() == nbb_unformatted_code) {\n",
       "                             nbb_cells[i].set_text(nbb_formatted_code);\n",
       "                        }\n",
       "                        break;\n",
       "                    }\n",
       "                }\n",
       "            }, 500);\n",
       "            "
      ],
      "text/plain": [
       "<IPython.core.display.Javascript object>"
      ]
     },
     "metadata": {},
     "output_type": "display_data"
    }
   ],
   "source": [
    "blog = Blog.objects.first()"
   ]
  },
  {
   "cell_type": "code",
   "execution_count": 10,
   "id": "b18667cd",
   "metadata": {},
   "outputs": [
    {
     "data": {
      "text/plain": [
       "3"
      ]
     },
     "execution_count": 10,
     "metadata": {},
     "output_type": "execute_result"
    },
    {
     "data": {
      "application/javascript": [
       "\n",
       "            setTimeout(function() {\n",
       "                var nbb_cell_id = 10;\n",
       "                var nbb_unformatted_code = \"blog.pk\";\n",
       "                var nbb_formatted_code = \"blog.pk\";\n",
       "                var nbb_cells = Jupyter.notebook.get_cells();\n",
       "                for (var i = 0; i < nbb_cells.length; ++i) {\n",
       "                    if (nbb_cells[i].input_prompt_number == nbb_cell_id) {\n",
       "                        if (nbb_cells[i].get_text() == nbb_unformatted_code) {\n",
       "                             nbb_cells[i].set_text(nbb_formatted_code);\n",
       "                        }\n",
       "                        break;\n",
       "                    }\n",
       "                }\n",
       "            }, 500);\n",
       "            "
      ],
      "text/plain": [
       "<IPython.core.display.Javascript object>"
      ]
     },
     "metadata": {},
     "output_type": "display_data"
    }
   ],
   "source": [
    "blog.pk"
   ]
  },
  {
   "cell_type": "code",
   "execution_count": 12,
   "id": "d73df681",
   "metadata": {},
   "outputs": [
    {
     "data": {
      "application/javascript": [
       "\n",
       "            setTimeout(function() {\n",
       "                var nbb_cell_id = 12;\n",
       "                var nbb_unformatted_code = \"user = User.objects.create(username=\\\"foobar\\\", password=\\\"blubber\\\")\";\n",
       "                var nbb_formatted_code = \"user = User.objects.create(username=\\\"foobar\\\", password=\\\"blubber\\\")\";\n",
       "                var nbb_cells = Jupyter.notebook.get_cells();\n",
       "                for (var i = 0; i < nbb_cells.length; ++i) {\n",
       "                    if (nbb_cells[i].input_prompt_number == nbb_cell_id) {\n",
       "                        if (nbb_cells[i].get_text() == nbb_unformatted_code) {\n",
       "                             nbb_cells[i].set_text(nbb_formatted_code);\n",
       "                        }\n",
       "                        break;\n",
       "                    }\n",
       "                }\n",
       "            }, 500);\n",
       "            "
      ],
      "text/plain": [
       "<IPython.core.display.Javascript object>"
      ]
     },
     "metadata": {},
     "output_type": "display_data"
    }
   ],
   "source": [
    "user = User.objects.create(username=\"foobar\", password=\"blubber\")"
   ]
  },
  {
   "cell_type": "code",
   "execution_count": 15,
   "id": "697a3651",
   "metadata": {},
   "outputs": [
    {
     "data": {
      "application/javascript": [
       "\n",
       "            setTimeout(function() {\n",
       "                var nbb_cell_id = 15;\n",
       "                var nbb_unformatted_code = \"user.is_staff = True\";\n",
       "                var nbb_formatted_code = \"user.is_staff = True\";\n",
       "                var nbb_cells = Jupyter.notebook.get_cells();\n",
       "                for (var i = 0; i < nbb_cells.length; ++i) {\n",
       "                    if (nbb_cells[i].input_prompt_number == nbb_cell_id) {\n",
       "                        if (nbb_cells[i].get_text() == nbb_unformatted_code) {\n",
       "                             nbb_cells[i].set_text(nbb_formatted_code);\n",
       "                        }\n",
       "                        break;\n",
       "                    }\n",
       "                }\n",
       "            }, 500);\n",
       "            "
      ],
      "text/plain": [
       "<IPython.core.display.Javascript object>"
      ]
     },
     "metadata": {},
     "output_type": "display_data"
    }
   ],
   "source": [
    "user.is_staff = True"
   ]
  },
  {
   "cell_type": "code",
   "execution_count": 16,
   "id": "29c580df",
   "metadata": {},
   "outputs": [
    {
     "data": {
      "application/javascript": [
       "\n",
       "            setTimeout(function() {\n",
       "                var nbb_cell_id = 16;\n",
       "                var nbb_unformatted_code = \"user.save()\";\n",
       "                var nbb_formatted_code = \"user.save()\";\n",
       "                var nbb_cells = Jupyter.notebook.get_cells();\n",
       "                for (var i = 0; i < nbb_cells.length; ++i) {\n",
       "                    if (nbb_cells[i].input_prompt_number == nbb_cell_id) {\n",
       "                        if (nbb_cells[i].get_text() == nbb_unformatted_code) {\n",
       "                             nbb_cells[i].set_text(nbb_formatted_code);\n",
       "                        }\n",
       "                        break;\n",
       "                    }\n",
       "                }\n",
       "            }, 500);\n",
       "            "
      ],
      "text/plain": [
       "<IPython.core.display.Javascript object>"
      ]
     },
     "metadata": {},
     "output_type": "display_data"
    }
   ],
   "source": [
    "user.save()"
   ]
  },
  {
   "cell_type": "code",
   "execution_count": 17,
   "id": "9354e8e3",
   "metadata": {},
   "outputs": [
    {
     "data": {
      "application/javascript": [
       "\n",
       "            setTimeout(function() {\n",
       "                var nbb_cell_id = 17;\n",
       "                var nbb_unformatted_code = \"user.set_password(\\\"blubber\\\")\";\n",
       "                var nbb_formatted_code = \"user.set_password(\\\"blubber\\\")\";\n",
       "                var nbb_cells = Jupyter.notebook.get_cells();\n",
       "                for (var i = 0; i < nbb_cells.length; ++i) {\n",
       "                    if (nbb_cells[i].input_prompt_number == nbb_cell_id) {\n",
       "                        if (nbb_cells[i].get_text() == nbb_unformatted_code) {\n",
       "                             nbb_cells[i].set_text(nbb_formatted_code);\n",
       "                        }\n",
       "                        break;\n",
       "                    }\n",
       "                }\n",
       "            }, 500);\n",
       "            "
      ],
      "text/plain": [
       "<IPython.core.display.Javascript object>"
      ]
     },
     "metadata": {},
     "output_type": "display_data"
    }
   ],
   "source": [
    "user.set_password(\"blubber\")"
   ]
  },
  {
   "cell_type": "code",
   "execution_count": 18,
   "id": "dab81662",
   "metadata": {},
   "outputs": [
    {
     "data": {
      "application/javascript": [
       "\n",
       "            setTimeout(function() {\n",
       "                var nbb_cell_id = 18;\n",
       "                var nbb_unformatted_code = \"user.save()\";\n",
       "                var nbb_formatted_code = \"user.save()\";\n",
       "                var nbb_cells = Jupyter.notebook.get_cells();\n",
       "                for (var i = 0; i < nbb_cells.length; ++i) {\n",
       "                    if (nbb_cells[i].input_prompt_number == nbb_cell_id) {\n",
       "                        if (nbb_cells[i].get_text() == nbb_unformatted_code) {\n",
       "                             nbb_cells[i].set_text(nbb_formatted_code);\n",
       "                        }\n",
       "                        break;\n",
       "                    }\n",
       "                }\n",
       "            }, 500);\n",
       "            "
      ],
      "text/plain": [
       "<IPython.core.display.Javascript object>"
      ]
     },
     "metadata": {},
     "output_type": "display_data"
    }
   ],
   "source": [
    "user.save()"
   ]
  },
  {
   "cell_type": "code",
   "execution_count": 19,
   "id": "21bb6a1c",
   "metadata": {},
   "outputs": [
    {
     "data": {
      "application/javascript": [
       "\n",
       "            setTimeout(function() {\n",
       "                var nbb_cell_id = 19;\n",
       "                var nbb_unformatted_code = \"user.is_superuser = True\";\n",
       "                var nbb_formatted_code = \"user.is_superuser = True\";\n",
       "                var nbb_cells = Jupyter.notebook.get_cells();\n",
       "                for (var i = 0; i < nbb_cells.length; ++i) {\n",
       "                    if (nbb_cells[i].input_prompt_number == nbb_cell_id) {\n",
       "                        if (nbb_cells[i].get_text() == nbb_unformatted_code) {\n",
       "                             nbb_cells[i].set_text(nbb_formatted_code);\n",
       "                        }\n",
       "                        break;\n",
       "                    }\n",
       "                }\n",
       "            }, 500);\n",
       "            "
      ],
      "text/plain": [
       "<IPython.core.display.Javascript object>"
      ]
     },
     "metadata": {},
     "output_type": "display_data"
    }
   ],
   "source": [
    "user.is_superuser = True"
   ]
  },
  {
   "cell_type": "code",
   "execution_count": 20,
   "id": "c7e854aa",
   "metadata": {},
   "outputs": [
    {
     "data": {
      "application/javascript": [
       "\n",
       "            setTimeout(function() {\n",
       "                var nbb_cell_id = 20;\n",
       "                var nbb_unformatted_code = \"user.save()\";\n",
       "                var nbb_formatted_code = \"user.save()\";\n",
       "                var nbb_cells = Jupyter.notebook.get_cells();\n",
       "                for (var i = 0; i < nbb_cells.length; ++i) {\n",
       "                    if (nbb_cells[i].input_prompt_number == nbb_cell_id) {\n",
       "                        if (nbb_cells[i].get_text() == nbb_unformatted_code) {\n",
       "                             nbb_cells[i].set_text(nbb_formatted_code);\n",
       "                        }\n",
       "                        break;\n",
       "                    }\n",
       "                }\n",
       "            }, 500);\n",
       "            "
      ],
      "text/plain": [
       "<IPython.core.display.Javascript object>"
      ]
     },
     "metadata": {},
     "output_type": "display_data"
    }
   ],
   "source": [
    "user.save()"
   ]
  },
  {
   "cell_type": "code",
   "execution_count": 22,
   "id": "43ffb373",
   "metadata": {},
   "outputs": [
    {
     "data": {
      "text/plain": [
       "'/cms/pages/add/cast/post/5/'"
      ]
     },
     "execution_count": 22,
     "metadata": {},
     "output_type": "execute_result"
    },
    {
     "data": {
      "application/javascript": [
       "\n",
       "            setTimeout(function() {\n",
       "                var nbb_cell_id = 22;\n",
       "                var nbb_unformatted_code = \"reverse(\\\"wagtailadmin_pages:add\\\", args=(\\\"cast\\\", \\\"post\\\", 5))\";\n",
       "                var nbb_formatted_code = \"reverse(\\\"wagtailadmin_pages:add\\\", args=(\\\"cast\\\", \\\"post\\\", 5))\";\n",
       "                var nbb_cells = Jupyter.notebook.get_cells();\n",
       "                for (var i = 0; i < nbb_cells.length; ++i) {\n",
       "                    if (nbb_cells[i].input_prompt_number == nbb_cell_id) {\n",
       "                        if (nbb_cells[i].get_text() == nbb_unformatted_code) {\n",
       "                             nbb_cells[i].set_text(nbb_formatted_code);\n",
       "                        }\n",
       "                        break;\n",
       "                    }\n",
       "                }\n",
       "            }, 500);\n",
       "            "
      ],
      "text/plain": [
       "<IPython.core.display.Javascript object>"
      ]
     },
     "metadata": {},
     "output_type": "display_data"
    }
   ],
   "source": [
    "reverse(\"wagtailadmin_pages:add\", args=(\"cast\", \"post\", 5))"
   ]
  },
  {
   "cell_type": "code",
   "execution_count": null,
   "id": "2b0b8844",
   "metadata": {},
   "outputs": [],
   "source": [
    "/cms/pages/add/cast/post/3/"
   ]
  },
  {
   "cell_type": "markdown",
   "id": "da85dd6c",
   "metadata": {},
   "source": [
    "## parse post data"
   ]
  },
  {
   "cell_type": "code",
   "execution_count": 32,
   "id": "4a9dcac0",
   "metadata": {},
   "outputs": [
    {
     "data": {
      "application/javascript": [
       "\n",
       "            setTimeout(function() {\n",
       "                var nbb_cell_id = 32;\n",
       "                var nbb_unformatted_code = \"from pprint import pprint\\n\\nfrom urllib.parse import parse_qs\";\n",
       "                var nbb_formatted_code = \"from pprint import pprint\\n\\nfrom urllib.parse import parse_qs\";\n",
       "                var nbb_cells = Jupyter.notebook.get_cells();\n",
       "                for (var i = 0; i < nbb_cells.length; ++i) {\n",
       "                    if (nbb_cells[i].input_prompt_number == nbb_cell_id) {\n",
       "                        if (nbb_cells[i].get_text() == nbb_unformatted_code) {\n",
       "                             nbb_cells[i].set_text(nbb_formatted_code);\n",
       "                        }\n",
       "                        break;\n",
       "                    }\n",
       "                }\n",
       "            }, 500);\n",
       "            "
      ],
      "text/plain": [
       "<IPython.core.display.Javascript object>"
      ]
     },
     "metadata": {},
     "output_type": "display_data"
    }
   ],
   "source": [
    "from pprint import pprint\n",
    "\n",
    "from urllib.parse import parse_qs"
   ]
  },
  {
   "cell_type": "code",
   "execution_count": 30,
   "id": "412e78a4",
   "metadata": {},
   "outputs": [
    {
     "data": {
      "application/javascript": [
       "\n",
       "            setTimeout(function() {\n",
       "                var nbb_cell_id = 30;\n",
       "                var nbb_unformatted_code = \"urlencoded_post_data = \\\"\\\"\\\"\\ncsrfmiddlewaretoken=6frSbfWvu2CWPsTEXbCHRJXq6gISSDpRh0P4yQp0vYhnFYOwN4vCZBQLBnwY6ySZ&next=&comment_notifications=on&title=new+post&visible_date=2021-08-17+08%3A13&body-count=1&body-0-deleted=&body-0-order=0&body-0-type=overview&body-0-id=0ad2efc3-e742-4c0b-8e12-d11f5bd3164a&body-0-value-count=1&body-0-value-0-deleted=&body-0-value-0-order=0&body-0-value-0-type=heading&body-0-value-0-id=220f8d2c-bc04-4b91-925a-64444f459919&body-0-value-0-value=overview+heading&slug=new-post&seo_title=&search_description=&go_live_at=&expire_at=&comments-TOTAL_FORMS=0&comments-INITIAL_FORMS=0&comments-MIN_NUM_FORMS=0&comments-MAX_NUM_FORMS=&action-publish=action-publish\\n\\\"\\\"\\\".lstrip().rstrip()\";\n",
       "                var nbb_formatted_code = \"urlencoded_post_data = \\\"\\\"\\\"\\ncsrfmiddlewaretoken=6frSbfWvu2CWPsTEXbCHRJXq6gISSDpRh0P4yQp0vYhnFYOwN4vCZBQLBnwY6ySZ&next=&comment_notifications=on&title=new+post&visible_date=2021-08-17+08%3A13&body-count=1&body-0-deleted=&body-0-order=0&body-0-type=overview&body-0-id=0ad2efc3-e742-4c0b-8e12-d11f5bd3164a&body-0-value-count=1&body-0-value-0-deleted=&body-0-value-0-order=0&body-0-value-0-type=heading&body-0-value-0-id=220f8d2c-bc04-4b91-925a-64444f459919&body-0-value-0-value=overview+heading&slug=new-post&seo_title=&search_description=&go_live_at=&expire_at=&comments-TOTAL_FORMS=0&comments-INITIAL_FORMS=0&comments-MIN_NUM_FORMS=0&comments-MAX_NUM_FORMS=&action-publish=action-publish\\n\\\"\\\"\\\".lstrip().rstrip()\";\n",
       "                var nbb_cells = Jupyter.notebook.get_cells();\n",
       "                for (var i = 0; i < nbb_cells.length; ++i) {\n",
       "                    if (nbb_cells[i].input_prompt_number == nbb_cell_id) {\n",
       "                        if (nbb_cells[i].get_text() == nbb_unformatted_code) {\n",
       "                             nbb_cells[i].set_text(nbb_formatted_code);\n",
       "                        }\n",
       "                        break;\n",
       "                    }\n",
       "                }\n",
       "            }, 500);\n",
       "            "
      ],
      "text/plain": [
       "<IPython.core.display.Javascript object>"
      ]
     },
     "metadata": {},
     "output_type": "display_data"
    }
   ],
   "source": [
    "urlencoded_post_data = \"\"\"\n",
    "csrfmiddlewaretoken=6frSbfWvu2CWPsTEXbCHRJXq6gISSDpRh0P4yQp0vYhnFYOwN4vCZBQLBnwY6ySZ&next=&comment_notifications=on&title=new+post&visible_date=2021-08-17+08%3A13&body-count=1&body-0-deleted=&body-0-order=0&body-0-type=overview&body-0-id=0ad2efc3-e742-4c0b-8e12-d11f5bd3164a&body-0-value-count=1&body-0-value-0-deleted=&body-0-value-0-order=0&body-0-value-0-type=heading&body-0-value-0-id=220f8d2c-bc04-4b91-925a-64444f459919&body-0-value-0-value=overview+heading&slug=new-post&seo_title=&search_description=&go_live_at=&expire_at=&comments-TOTAL_FORMS=0&comments-INITIAL_FORMS=0&comments-MIN_NUM_FORMS=0&comments-MAX_NUM_FORMS=&action-publish=action-publish\n",
    "\"\"\".lstrip().rstrip()"
   ]
  },
  {
   "cell_type": "code",
   "execution_count": 33,
   "id": "056f87bd",
   "metadata": {},
   "outputs": [
    {
     "name": "stdout",
     "output_type": "stream",
     "text": [
      "{'action-publish': ['action-publish'],\n",
      " 'body-0-id': ['0ad2efc3-e742-4c0b-8e12-d11f5bd3164a'],\n",
      " 'body-0-order': ['0'],\n",
      " 'body-0-type': ['overview'],\n",
      " 'body-0-value-0-id': ['220f8d2c-bc04-4b91-925a-64444f459919'],\n",
      " 'body-0-value-0-order': ['0'],\n",
      " 'body-0-value-0-type': ['heading'],\n",
      " 'body-0-value-0-value': ['overview heading'],\n",
      " 'body-0-value-count': ['1'],\n",
      " 'body-count': ['1'],\n",
      " 'comment_notifications': ['on'],\n",
      " 'comments-INITIAL_FORMS': ['0'],\n",
      " 'comments-MIN_NUM_FORMS': ['0'],\n",
      " 'comments-TOTAL_FORMS': ['0'],\n",
      " 'csrfmiddlewaretoken': ['6frSbfWvu2CWPsTEXbCHRJXq6gISSDpRh0P4yQp0vYhnFYOwN4vCZBQLBnwY6ySZ'],\n",
      " 'slug': ['new-post'],\n",
      " 'title': ['new post'],\n",
      " 'visible_date': ['2021-08-17 08:13']}\n"
     ]
    },
    {
     "data": {
      "application/javascript": [
       "\n",
       "            setTimeout(function() {\n",
       "                var nbb_cell_id = 33;\n",
       "                var nbb_unformatted_code = \"pprint(parse_qs(urlencoded_post_data))\";\n",
       "                var nbb_formatted_code = \"pprint(parse_qs(urlencoded_post_data))\";\n",
       "                var nbb_cells = Jupyter.notebook.get_cells();\n",
       "                for (var i = 0; i < nbb_cells.length; ++i) {\n",
       "                    if (nbb_cells[i].input_prompt_number == nbb_cell_id) {\n",
       "                        if (nbb_cells[i].get_text() == nbb_unformatted_code) {\n",
       "                             nbb_cells[i].set_text(nbb_formatted_code);\n",
       "                        }\n",
       "                        break;\n",
       "                    }\n",
       "                }\n",
       "            }, 500);\n",
       "            "
      ],
      "text/plain": [
       "<IPython.core.display.Javascript object>"
      ]
     },
     "metadata": {},
     "output_type": "display_data"
    }
   ],
   "source": [
    "pprint(parse_qs(urlencoded_post_data))"
   ]
  },
  {
   "cell_type": "code",
   "execution_count": 41,
   "id": "7f2e3ed5",
   "metadata": {},
   "outputs": [
    {
     "data": {
      "text/plain": [
       "{'csrfmiddlewaretoken': ['6frSbfWvu2CWPsTEXbCHRJXq6gISSDpRh0P4yQp0vYhnFYOwN4vCZBQLBnwY6ySZ'],\n",
       " 'comment_notifications': ['on'],\n",
       " 'title': ['new post'],\n",
       " 'visible_date': ['2021-08-17 08:13'],\n",
       " 'body-count': ['1'],\n",
       " 'body-0-order': ['0'],\n",
       " 'body-0-type': ['overview'],\n",
       " 'body-0-id': ['0ad2efc3-e742-4c0b-8e12-d11f5bd3164a'],\n",
       " 'body-0-value-count': ['1'],\n",
       " 'body-0-value-0-order': ['0'],\n",
       " 'body-0-value-0-type': ['heading'],\n",
       " 'body-0-value-0-id': ['220f8d2c-bc04-4b91-925a-64444f459919'],\n",
       " 'body-0-value-0-value': ['overview heading'],\n",
       " 'slug': ['new-post'],\n",
       " 'comments-TOTAL_FORMS': ['0'],\n",
       " 'comments-INITIAL_FORMS': ['0'],\n",
       " 'comments-MIN_NUM_FORMS': ['0'],\n",
       " 'action-publish': ['action-publish']}"
      ]
     },
     "execution_count": 41,
     "metadata": {},
     "output_type": "execute_result"
    },
    {
     "data": {
      "application/javascript": [
       "\n",
       "            setTimeout(function() {\n",
       "                var nbb_cell_id = 41;\n",
       "                var nbb_unformatted_code = \"parse_qs(urlencoded_post_data)\";\n",
       "                var nbb_formatted_code = \"parse_qs(urlencoded_post_data)\";\n",
       "                var nbb_cells = Jupyter.notebook.get_cells();\n",
       "                for (var i = 0; i < nbb_cells.length; ++i) {\n",
       "                    if (nbb_cells[i].input_prompt_number == nbb_cell_id) {\n",
       "                        if (nbb_cells[i].get_text() == nbb_unformatted_code) {\n",
       "                             nbb_cells[i].set_text(nbb_formatted_code);\n",
       "                        }\n",
       "                        break;\n",
       "                    }\n",
       "                }\n",
       "            }, 500);\n",
       "            "
      ],
      "text/plain": [
       "<IPython.core.display.Javascript object>"
      ]
     },
     "metadata": {},
     "output_type": "display_data"
    }
   ],
   "source": [
    "parse_qs(urlencoded_post_data)"
   ]
  },
  {
   "cell_type": "code",
   "execution_count": 43,
   "id": "e38df7cc",
   "metadata": {},
   "outputs": [
    {
     "name": "stdout",
     "output_type": "stream",
     "text": [
      "{'action-publish': 'action-publish',\n",
      " 'body-0-deleted': '',\n",
      " 'body-0-id': '0ad2efc3-e742-4c0b-8e12-d11f5bd3164a',\n",
      " 'body-0-order': '0',\n",
      " 'body-0-type': 'overview',\n",
      " 'body-0-value-0-deleted': '',\n",
      " 'body-0-value-0-id': '220f8d2c-bc04-4b91-925a-64444f459919',\n",
      " 'body-0-value-0-order': '0',\n",
      " 'body-0-value-0-type': 'heading',\n",
      " 'body-0-value-0-value': 'overview heading',\n",
      " 'body-0-value-count': '1',\n",
      " 'body-count': '1',\n",
      " 'comment_notifications': 'on',\n",
      " 'comments-INITIAL_FORMS': '0',\n",
      " 'comments-MAX_NUM_FORMS': '',\n",
      " 'comments-MIN_NUM_FORMS': '0',\n",
      " 'comments-TOTAL_FORMS': '0',\n",
      " 'csrfmiddlewaretoken': '6frSbfWvu2CWPsTEXbCHRJXq6gISSDpRh0P4yQp0vYhnFYOwN4vCZBQLBnwY6ySZ',\n",
      " 'expire_at': '',\n",
      " 'go_live_at': '',\n",
      " 'next': '',\n",
      " 'search_description': '',\n",
      " 'seo_title': '',\n",
      " 'slug': 'new-post',\n",
      " 'title': 'new post',\n",
      " 'visible_date': '2021-08-17 08:13'}\n"
     ]
    },
    {
     "data": {
      "application/javascript": [
       "\n",
       "            setTimeout(function() {\n",
       "                var nbb_cell_id = 43;\n",
       "                var nbb_unformatted_code = \"dict_post_data = {k: v[0] for k, v in parse_qs(urlencoded_post_data, keep_blank_values=True).items()}\\npprint(dict_post_data)\";\n",
       "                var nbb_formatted_code = \"dict_post_data = {\\n    k: v[0] for k, v in parse_qs(urlencoded_post_data, keep_blank_values=True).items()\\n}\\npprint(dict_post_data)\";\n",
       "                var nbb_cells = Jupyter.notebook.get_cells();\n",
       "                for (var i = 0; i < nbb_cells.length; ++i) {\n",
       "                    if (nbb_cells[i].input_prompt_number == nbb_cell_id) {\n",
       "                        if (nbb_cells[i].get_text() == nbb_unformatted_code) {\n",
       "                             nbb_cells[i].set_text(nbb_formatted_code);\n",
       "                        }\n",
       "                        break;\n",
       "                    }\n",
       "                }\n",
       "            }, 500);\n",
       "            "
      ],
      "text/plain": [
       "<IPython.core.display.Javascript object>"
      ]
     },
     "metadata": {},
     "output_type": "display_data"
    }
   ],
   "source": [
    "dict_post_data = {\n",
    "    k: v[0] for k, v in parse_qs(urlencoded_post_data, keep_blank_values=True).items()\n",
    "}\n",
    "pprint(dict_post_data)"
   ]
  },
  {
   "cell_type": "code",
   "execution_count": 44,
   "id": "49f27ad7",
   "metadata": {},
   "outputs": [
    {
     "data": {
      "text/plain": [
       "{'action-publish': 'action-publish',\n",
       " 'body-0-deleted': '',\n",
       " 'body-0-id': '0ad2efc3-e742-4c0b-8e12-d11f5bd3164a',\n",
       " 'body-0-order': '0',\n",
       " 'body-0-type': 'overview',\n",
       " 'body-0-value-0-deleted': '',\n",
       " 'body-0-value-0-id': '220f8d2c-bc04-4b91-925a-64444f459919',\n",
       " 'body-0-value-0-order': '0',\n",
       " 'body-0-value-0-type': 'heading',\n",
       " 'body-0-value-0-value': 'overview heading',\n",
       " 'body-0-value-count': '1',\n",
       " 'body-count': '1',\n",
       " 'comment_notifications': 'on',\n",
       " 'comments-INITIAL_FORMS': '0',\n",
       " 'comments-MAX_NUM_FORMS': '',\n",
       " 'comments-MIN_NUM_FORMS': '0',\n",
       " 'comments-TOTAL_FORMS': '0',\n",
       " 'csrfmiddlewaretoken': '6frSbfWvu2CWPsTEXbCHRJXq6gISSDpRh0P4yQp0vYhnFYOwN4vCZBQLBnwY6ySZ',\n",
       " 'expire_at': '',\n",
       " 'go_live_at': '',\n",
       " 'next': '',\n",
       " 'search_description': '',\n",
       " 'seo_title': '',\n",
       " 'slug': 'new-post',\n",
       " 'title': 'new post',\n",
       " 'visible_date': '2021-08-17 08:13'}"
      ]
     },
     "execution_count": 44,
     "metadata": {},
     "output_type": "execute_result"
    },
    {
     "data": {
      "application/javascript": [
       "\n",
       "            setTimeout(function() {\n",
       "                var nbb_cell_id = 44;\n",
       "                var nbb_unformatted_code = \"{'action-publish': 'action-publish',\\n 'body-0-deleted': '',\\n 'body-0-id': '0ad2efc3-e742-4c0b-8e12-d11f5bd3164a',\\n 'body-0-order': '0',\\n 'body-0-type': 'overview',\\n 'body-0-value-0-deleted': '',\\n 'body-0-value-0-id': '220f8d2c-bc04-4b91-925a-64444f459919',\\n 'body-0-value-0-order': '0',\\n 'body-0-value-0-type': 'heading',\\n 'body-0-value-0-value': 'overview heading',\\n 'body-0-value-count': '1',\\n 'body-count': '1',\\n 'comment_notifications': 'on',\\n 'comments-INITIAL_FORMS': '0',\\n 'comments-MAX_NUM_FORMS': '',\\n 'comments-MIN_NUM_FORMS': '0',\\n 'comments-TOTAL_FORMS': '0',\\n 'csrfmiddlewaretoken': '6frSbfWvu2CWPsTEXbCHRJXq6gISSDpRh0P4yQp0vYhnFYOwN4vCZBQLBnwY6ySZ',\\n 'expire_at': '',\\n 'go_live_at': '',\\n 'next': '',\\n 'search_description': '',\\n 'seo_title': '',\\n 'slug': 'new-post',\\n 'title': 'new post',\\n 'visible_date': '2021-08-17 08:13'}\";\n",
       "                var nbb_formatted_code = \"{\\n    \\\"action-publish\\\": \\\"action-publish\\\",\\n    \\\"body-0-deleted\\\": \\\"\\\",\\n    \\\"body-0-id\\\": \\\"0ad2efc3-e742-4c0b-8e12-d11f5bd3164a\\\",\\n    \\\"body-0-order\\\": \\\"0\\\",\\n    \\\"body-0-type\\\": \\\"overview\\\",\\n    \\\"body-0-value-0-deleted\\\": \\\"\\\",\\n    \\\"body-0-value-0-id\\\": \\\"220f8d2c-bc04-4b91-925a-64444f459919\\\",\\n    \\\"body-0-value-0-order\\\": \\\"0\\\",\\n    \\\"body-0-value-0-type\\\": \\\"heading\\\",\\n    \\\"body-0-value-0-value\\\": \\\"overview heading\\\",\\n    \\\"body-0-value-count\\\": \\\"1\\\",\\n    \\\"body-count\\\": \\\"1\\\",\\n    \\\"comment_notifications\\\": \\\"on\\\",\\n    \\\"comments-INITIAL_FORMS\\\": \\\"0\\\",\\n    \\\"comments-MAX_NUM_FORMS\\\": \\\"\\\",\\n    \\\"comments-MIN_NUM_FORMS\\\": \\\"0\\\",\\n    \\\"comments-TOTAL_FORMS\\\": \\\"0\\\",\\n    \\\"csrfmiddlewaretoken\\\": \\\"6frSbfWvu2CWPsTEXbCHRJXq6gISSDpRh0P4yQp0vYhnFYOwN4vCZBQLBnwY6ySZ\\\",\\n    \\\"expire_at\\\": \\\"\\\",\\n    \\\"go_live_at\\\": \\\"\\\",\\n    \\\"next\\\": \\\"\\\",\\n    \\\"search_description\\\": \\\"\\\",\\n    \\\"seo_title\\\": \\\"\\\",\\n    \\\"slug\\\": \\\"new-post\\\",\\n    \\\"title\\\": \\\"new post\\\",\\n    \\\"visible_date\\\": \\\"2021-08-17 08:13\\\",\\n}\";\n",
       "                var nbb_cells = Jupyter.notebook.get_cells();\n",
       "                for (var i = 0; i < nbb_cells.length; ++i) {\n",
       "                    if (nbb_cells[i].input_prompt_number == nbb_cell_id) {\n",
       "                        if (nbb_cells[i].get_text() == nbb_unformatted_code) {\n",
       "                             nbb_cells[i].set_text(nbb_formatted_code);\n",
       "                        }\n",
       "                        break;\n",
       "                    }\n",
       "                }\n",
       "            }, 500);\n",
       "            "
      ],
      "text/plain": [
       "<IPython.core.display.Javascript object>"
      ]
     },
     "metadata": {},
     "output_type": "display_data"
    }
   ],
   "source": [
    "{\n",
    "    \"action-publish\": \"action-publish\",\n",
    "    \"body-0-deleted\": \"\",\n",
    "    \"body-0-id\": \"0ad2efc3-e742-4c0b-8e12-d11f5bd3164a\",\n",
    "    \"body-0-order\": \"0\",\n",
    "    \"body-0-type\": \"overview\",\n",
    "    \"body-0-value-0-deleted\": \"\",\n",
    "    \"body-0-value-0-id\": \"220f8d2c-bc04-4b91-925a-64444f459919\",\n",
    "    \"body-0-value-0-order\": \"0\",\n",
    "    \"body-0-value-0-type\": \"heading\",\n",
    "    \"body-0-value-0-value\": \"overview heading\",\n",
    "    \"body-0-value-count\": \"1\",\n",
    "    \"body-count\": \"1\",\n",
    "    \"comment_notifications\": \"on\",\n",
    "    \"comments-INITIAL_FORMS\": \"0\",\n",
    "    \"comments-MAX_NUM_FORMS\": \"\",\n",
    "    \"comments-MIN_NUM_FORMS\": \"0\",\n",
    "    \"comments-TOTAL_FORMS\": \"0\",\n",
    "    \"csrfmiddlewaretoken\": \"6frSbfWvu2CWPsTEXbCHRJXq6gISSDpRh0P4yQp0vYhnFYOwN4vCZBQLBnwY6ySZ\",\n",
    "    \"expire_at\": \"\",\n",
    "    \"go_live_at\": \"\",\n",
    "    \"next\": \"\",\n",
    "    \"search_description\": \"\",\n",
    "    \"seo_title\": \"\",\n",
    "    \"slug\": \"new-post\",\n",
    "    \"title\": \"new post\",\n",
    "    \"visible_date\": \"2021-08-17 08:13\",\n",
    "}"
   ]
  },
  {
   "cell_type": "code",
   "execution_count": 42,
   "id": "c855c4c1",
   "metadata": {},
   "outputs": [
    {
     "name": "stdout",
     "output_type": "stream",
     "text": [
      "Help on function parse_qs in module urllib.parse:\n",
      "\n",
      "parse_qs(qs, keep_blank_values=False, strict_parsing=False, encoding='utf-8', errors='replace', max_num_fields=None, separator='&')\n",
      "    Parse a query given as a string argument.\n",
      "    \n",
      "    Arguments:\n",
      "    \n",
      "    qs: percent-encoded query string to be parsed\n",
      "    \n",
      "    keep_blank_values: flag indicating whether blank values in\n",
      "        percent-encoded queries should be treated as blank strings.\n",
      "        A true value indicates that blanks should be retained as\n",
      "        blank strings.  The default false value indicates that\n",
      "        blank values are to be ignored and treated as if they were\n",
      "        not included.\n",
      "    \n",
      "    strict_parsing: flag indicating what to do with parsing errors.\n",
      "        If false (the default), errors are silently ignored.\n",
      "        If true, errors raise a ValueError exception.\n",
      "    \n",
      "    encoding and errors: specify how to decode percent-encoded sequences\n",
      "        into Unicode characters, as accepted by the bytes.decode() method.\n",
      "    \n",
      "    max_num_fields: int. If set, then throws a ValueError if there\n",
      "        are more than n fields read by parse_qsl().\n",
      "    \n",
      "    separator: str. The symbol to use for separating the query arguments.\n",
      "        Defaults to &.\n",
      "    \n",
      "    Returns a dictionary.\n",
      "\n"
     ]
    },
    {
     "data": {
      "application/javascript": [
       "\n",
       "            setTimeout(function() {\n",
       "                var nbb_cell_id = 42;\n",
       "                var nbb_unformatted_code = \"help(parse_qs)\";\n",
       "                var nbb_formatted_code = \"help(parse_qs)\";\n",
       "                var nbb_cells = Jupyter.notebook.get_cells();\n",
       "                for (var i = 0; i < nbb_cells.length; ++i) {\n",
       "                    if (nbb_cells[i].input_prompt_number == nbb_cell_id) {\n",
       "                        if (nbb_cells[i].get_text() == nbb_unformatted_code) {\n",
       "                             nbb_cells[i].set_text(nbb_formatted_code);\n",
       "                        }\n",
       "                        break;\n",
       "                    }\n",
       "                }\n",
       "            }, 500);\n",
       "            "
      ],
      "text/plain": [
       "<IPython.core.display.Javascript object>"
      ]
     },
     "metadata": {},
     "output_type": "display_data"
    }
   ],
   "source": [
    "help(parse_qs)"
   ]
  },
  {
   "cell_type": "code",
   "execution_count": 46,
   "id": "79952aae",
   "metadata": {},
   "outputs": [
    {
     "data": {
      "text/plain": [
       "'/cms/pages/3/'"
      ]
     },
     "execution_count": 46,
     "metadata": {},
     "output_type": "execute_result"
    },
    {
     "data": {
      "application/javascript": [
       "\n",
       "            setTimeout(function() {\n",
       "                var nbb_cell_id = 46;\n",
       "                var nbb_unformatted_code = \"reverse(\\\"wagtailadmin_explore\\\", args=(3,))\";\n",
       "                var nbb_formatted_code = \"reverse(\\\"wagtailadmin_explore\\\", args=(3,))\";\n",
       "                var nbb_cells = Jupyter.notebook.get_cells();\n",
       "                for (var i = 0; i < nbb_cells.length; ++i) {\n",
       "                    if (nbb_cells[i].input_prompt_number == nbb_cell_id) {\n",
       "                        if (nbb_cells[i].get_text() == nbb_unformatted_code) {\n",
       "                             nbb_cells[i].set_text(nbb_formatted_code);\n",
       "                        }\n",
       "                        break;\n",
       "                    }\n",
       "                }\n",
       "            }, 500);\n",
       "            "
      ],
      "text/plain": [
       "<IPython.core.display.Javascript object>"
      ]
     },
     "metadata": {},
     "output_type": "display_data"
    }
   ],
   "source": [
    "reverse(\"wagtailadmin_explore\", args=(3,))"
   ]
  },
  {
   "cell_type": "code",
   "execution_count": 47,
   "id": "858093b9",
   "metadata": {},
   "outputs": [
    {
     "data": {
      "text/plain": [
       "'/cms/login/'"
      ]
     },
     "execution_count": 47,
     "metadata": {},
     "output_type": "execute_result"
    },
    {
     "data": {
      "application/javascript": [
       "\n",
       "            setTimeout(function() {\n",
       "                var nbb_cell_id = 47;\n",
       "                var nbb_unformatted_code = \"reverse(\\\"wagtailadmin_login\\\")\";\n",
       "                var nbb_formatted_code = \"reverse(\\\"wagtailadmin_login\\\")\";\n",
       "                var nbb_cells = Jupyter.notebook.get_cells();\n",
       "                for (var i = 0; i < nbb_cells.length; ++i) {\n",
       "                    if (nbb_cells[i].input_prompt_number == nbb_cell_id) {\n",
       "                        if (nbb_cells[i].get_text() == nbb_unformatted_code) {\n",
       "                             nbb_cells[i].set_text(nbb_formatted_code);\n",
       "                        }\n",
       "                        break;\n",
       "                    }\n",
       "                }\n",
       "            }, 500);\n",
       "            "
      ],
      "text/plain": [
       "<IPython.core.display.Javascript object>"
      ]
     },
     "metadata": {},
     "output_type": "display_data"
    }
   ],
   "source": [
    "reverse(\"wagtailadmin_login\")"
   ]
  },
  {
   "cell_type": "code",
   "execution_count": null,
   "id": "b25d9300",
   "metadata": {},
   "outputs": [],
   "source": []
  }
 ],
 "metadata": {
  "kernelspec": {
   "display_name": "Django Shell-Plus",
   "language": "python",
   "name": "django_extensions"
  },
  "language_info": {
   "codemirror_mode": {
    "name": "ipython",
    "version": 3
   },
   "file_extension": ".py",
   "mimetype": "text/x-python",
   "name": "python",
   "nbconvert_exporter": "python",
   "pygments_lexer": "ipython3",
   "version": "3.9.6"
  }
 },
 "nbformat": 4,
 "nbformat_minor": 5
}
