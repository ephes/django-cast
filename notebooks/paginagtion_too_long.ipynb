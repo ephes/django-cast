{
 "cells": [
  {
   "cell_type": "code",
   "execution_count": 8,
   "id": "e5b97e3e",
   "metadata": {},
   "outputs": [],
   "source": [
    "from datetime import timedelta\n",
    "\n",
    "from django.utils import timezone"
   ]
  },
  {
   "cell_type": "code",
   "execution_count": 1,
   "id": "ebe1db96",
   "metadata": {},
   "outputs": [
    {
     "data": {
      "text/plain": [
       "<QuerySet [<Post: Club>]>"
      ]
     },
     "execution_count": 1,
     "metadata": {},
     "output_type": "execute_result"
    }
   ],
   "source": [
    "Post.objects.all()"
   ]
  },
  {
   "cell_type": "code",
   "execution_count": 13,
   "id": "276153e7",
   "metadata": {},
   "outputs": [],
   "source": [
    "blog = Blog.objects.first()\n",
    "author = User.objects.first()"
   ]
  },
  {
   "cell_type": "code",
   "execution_count": 3,
   "id": "ac124ac5",
   "metadata": {},
   "outputs": [],
   "source": [
    "first_post = Post.objects.first()"
   ]
  },
  {
   "cell_type": "code",
   "execution_count": 4,
   "id": "f36a73e6",
   "metadata": {},
   "outputs": [
    {
     "data": {
      "text/plain": [
       "'Club'"
      ]
     },
     "execution_count": 4,
     "metadata": {},
     "output_type": "execute_result"
    }
   ],
   "source": [
    "first_post.title"
   ]
  },
  {
   "cell_type": "code",
   "execution_count": 12,
   "id": "88a78676",
   "metadata": {},
   "outputs": [
    {
     "data": {
      "text/plain": [
       "<User: jochen>"
      ]
     },
     "execution_count": 12,
     "metadata": {},
     "output_type": "execute_result"
    }
   ],
   "source": [
    "first_post.author"
   ]
  },
  {
   "cell_type": "code",
   "execution_count": 17,
   "id": "1acc10c4",
   "metadata": {},
   "outputs": [],
   "source": [
    "second_post = Post(\n",
    "    blog=blog, author=author,\n",
    "    pub_date=timezone.now() - timedelta(days=2),\n",
    "    title=\"title\", content=\"content\", slug=\"title\"\n",
    ")"
   ]
  },
  {
   "cell_type": "code",
   "execution_count": 18,
   "id": "f261e817",
   "metadata": {},
   "outputs": [],
   "source": [
    "second_post.save()"
   ]
  },
  {
   "cell_type": "markdown",
   "id": "2deee362",
   "metadata": {},
   "source": [
    "# Create 100 Posts"
   ]
  },
  {
   "cell_type": "code",
   "execution_count": 21,
   "id": "f3c3762a",
   "metadata": {},
   "outputs": [],
   "source": [
    "for i in range(100):\n",
    "    post = Post(\n",
    "        blog=blog, author=author,\n",
    "        pub_date=timezone.now() - timedelta(days=2),\n",
    "        title=f\"title {i}\", content=f\"content {i}\", slug=f\"title-{i}\"\n",
    "    )\n",
    "    post.save()"
   ]
  },
  {
   "cell_type": "code",
   "execution_count": 22,
   "id": "4a52e9c0",
   "metadata": {},
   "outputs": [],
   "source": [
    "foo = list(range(10))"
   ]
  },
  {
   "cell_type": "code",
   "execution_count": 23,
   "id": "c70f5231",
   "metadata": {},
   "outputs": [
    {
     "data": {
      "text/plain": [
       "[]"
      ]
     },
     "execution_count": 23,
     "metadata": {},
     "output_type": "execute_result"
    }
   ],
   "source": [
    "foo[-3:3]"
   ]
  },
  {
   "cell_type": "code",
   "execution_count": 24,
   "id": "a9b66a6a",
   "metadata": {},
   "outputs": [
    {
     "data": {
      "text/plain": [
       "[0, 1, 2, 3, 4, 5, 6, 7, 8, 9]"
      ]
     },
     "execution_count": 24,
     "metadata": {},
     "output_type": "execute_result"
    }
   ],
   "source": [
    "foo"
   ]
  },
  {
   "cell_type": "code",
   "execution_count": null,
   "id": "bbfbe12a",
   "metadata": {},
   "outputs": [],
   "source": []
  }
 ],
 "metadata": {
  "kernelspec": {
   "display_name": "Django Shell-Plus",
   "language": "python",
   "name": "django_extensions"
  },
  "language_info": {
   "codemirror_mode": {
    "name": "ipython",
    "version": 3
   },
   "file_extension": ".py",
   "mimetype": "text/x-python",
   "name": "python",
   "nbconvert_exporter": "python",
   "pygments_lexer": "ipython3",
   "version": "3.9.4"
  }
 },
 "nbformat": 4,
 "nbformat_minor": 5
}
