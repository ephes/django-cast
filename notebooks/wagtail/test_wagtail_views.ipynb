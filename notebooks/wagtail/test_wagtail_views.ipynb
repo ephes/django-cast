{
 "cells": [
  {
   "cell_type": "code",
   "execution_count": 1,
   "id": "b280c502",
   "metadata": {},
   "outputs": [
    {
     "data": {
      "application/javascript": [
       "\n",
       "            setTimeout(function() {\n",
       "                var nbb_cell_id = 1;\n",
       "                var nbb_unformatted_code = \"%load_ext nb_black\";\n",
       "                var nbb_formatted_code = \"%load_ext nb_black\";\n",
       "                var nbb_cells = Jupyter.notebook.get_cells();\n",
       "                for (var i = 0; i < nbb_cells.length; ++i) {\n",
       "                    if (nbb_cells[i].input_prompt_number == nbb_cell_id) {\n",
       "                        if (nbb_cells[i].get_text() == nbb_unformatted_code) {\n",
       "                             nbb_cells[i].set_text(nbb_formatted_code);\n",
       "                        }\n",
       "                        break;\n",
       "                    }\n",
       "                }\n",
       "            }, 500);\n",
       "            "
      ],
      "text/plain": [
       "<IPython.core.display.Javascript object>"
      ]
     },
     "metadata": {},
     "output_type": "display_data"
    }
   ],
   "source": [
    "%load_ext nb_black"
   ]
  },
  {
   "cell_type": "markdown",
   "id": "537e2c23",
   "metadata": {},
   "source": [
    "## only adds video not page"
   ]
  },
  {
   "cell_type": "code",
   "execution_count": 3,
   "id": "343b508e",
   "metadata": {},
   "outputs": [
    {
     "data": {
      "application/javascript": [
       "\n",
       "            setTimeout(function() {\n",
       "                var nbb_cell_id = 3;\n",
       "                var nbb_unformatted_code = \"add_url = reverse(\\\"castmedia:video_add\\\")\";\n",
       "                var nbb_formatted_code = \"add_url = reverse(\\\"castmedia:video_add\\\")\";\n",
       "                var nbb_cells = Jupyter.notebook.get_cells();\n",
       "                for (var i = 0; i < nbb_cells.length; ++i) {\n",
       "                    if (nbb_cells[i].input_prompt_number == nbb_cell_id) {\n",
       "                        if (nbb_cells[i].get_text() == nbb_unformatted_code) {\n",
       "                             nbb_cells[i].set_text(nbb_formatted_code);\n",
       "                        }\n",
       "                        break;\n",
       "                    }\n",
       "                }\n",
       "            }, 500);\n",
       "            "
      ],
      "text/plain": [
       "<IPython.core.display.Javascript object>"
      ]
     },
     "metadata": {},
     "output_type": "display_data"
    }
   ],
   "source": [
    "add_url = reverse(\"castmedia:video_add\")"
   ]
  },
  {
   "cell_type": "code",
   "execution_count": 4,
   "id": "19d18fe4",
   "metadata": {},
   "outputs": [
    {
     "data": {
      "text/plain": [
       "'/cms/video/video/add/'"
      ]
     },
     "execution_count": 4,
     "metadata": {},
     "output_type": "execute_result"
    },
    {
     "data": {
      "application/javascript": [
       "\n",
       "            setTimeout(function() {\n",
       "                var nbb_cell_id = 4;\n",
       "                var nbb_unformatted_code = \"add_url\";\n",
       "                var nbb_formatted_code = \"add_url\";\n",
       "                var nbb_cells = Jupyter.notebook.get_cells();\n",
       "                for (var i = 0; i < nbb_cells.length; ++i) {\n",
       "                    if (nbb_cells[i].input_prompt_number == nbb_cell_id) {\n",
       "                        if (nbb_cells[i].get_text() == nbb_unformatted_code) {\n",
       "                             nbb_cells[i].set_text(nbb_formatted_code);\n",
       "                        }\n",
       "                        break;\n",
       "                    }\n",
       "                }\n",
       "            }, 500);\n",
       "            "
      ],
      "text/plain": [
       "<IPython.core.display.Javascript object>"
      ]
     },
     "metadata": {},
     "output_type": "display_data"
    }
   ],
   "source": [
    "add_url"
   ]
  },
  {
   "cell_type": "markdown",
   "id": "5492bd07",
   "metadata": {},
   "source": [
    "## wagtailadmin add sub_page"
   ]
  },
  {
   "cell_type": "code",
   "execution_count": 8,
   "id": "3859137c",
   "metadata": {},
   "outputs": [
    {
     "data": {
      "text/plain": [
       "'/cms/pages/1/add_subpage/'"
      ]
     },
     "execution_count": 8,
     "metadata": {},
     "output_type": "execute_result"
    },
    {
     "data": {
      "application/javascript": [
       "\n",
       "            setTimeout(function() {\n",
       "                var nbb_cell_id = 8;\n",
       "                var nbb_unformatted_code = \"reverse(\\\"wagtailadmin_pages:add_subpage\\\", kwargs={\\\"parent_page_id\\\": 1})\";\n",
       "                var nbb_formatted_code = \"reverse(\\\"wagtailadmin_pages:add_subpage\\\", kwargs={\\\"parent_page_id\\\": 1})\";\n",
       "                var nbb_cells = Jupyter.notebook.get_cells();\n",
       "                for (var i = 0; i < nbb_cells.length; ++i) {\n",
       "                    if (nbb_cells[i].input_prompt_number == nbb_cell_id) {\n",
       "                        if (nbb_cells[i].get_text() == nbb_unformatted_code) {\n",
       "                             nbb_cells[i].set_text(nbb_formatted_code);\n",
       "                        }\n",
       "                        break;\n",
       "                    }\n",
       "                }\n",
       "            }, 500);\n",
       "            "
      ],
      "text/plain": [
       "<IPython.core.display.Javascript object>"
      ]
     },
     "metadata": {},
     "output_type": "display_data"
    }
   ],
   "source": [
    "reverse(\"wagtailadmin_pages:add_subpage\", kwargs={\"parent_page_id\": 1})"
   ]
  },
  {
   "cell_type": "code",
   "execution_count": 9,
   "id": "66e127d5",
   "metadata": {},
   "outputs": [
    {
     "data": {
      "application/javascript": [
       "\n",
       "            setTimeout(function() {\n",
       "                var nbb_cell_id = 9;\n",
       "                var nbb_unformatted_code = \"blog = Blog.objects.first()\";\n",
       "                var nbb_formatted_code = \"blog = Blog.objects.first()\";\n",
       "                var nbb_cells = Jupyter.notebook.get_cells();\n",
       "                for (var i = 0; i < nbb_cells.length; ++i) {\n",
       "                    if (nbb_cells[i].input_prompt_number == nbb_cell_id) {\n",
       "                        if (nbb_cells[i].get_text() == nbb_unformatted_code) {\n",
       "                             nbb_cells[i].set_text(nbb_formatted_code);\n",
       "                        }\n",
       "                        break;\n",
       "                    }\n",
       "                }\n",
       "            }, 500);\n",
       "            "
      ],
      "text/plain": [
       "<IPython.core.display.Javascript object>"
      ]
     },
     "metadata": {},
     "output_type": "display_data"
    }
   ],
   "source": [
    "blog = Blog.objects.first()"
   ]
  },
  {
   "cell_type": "code",
   "execution_count": 10,
   "id": "11b9b440",
   "metadata": {},
   "outputs": [
    {
     "data": {
      "text/plain": [
       "3"
      ]
     },
     "execution_count": 10,
     "metadata": {},
     "output_type": "execute_result"
    },
    {
     "data": {
      "application/javascript": [
       "\n",
       "            setTimeout(function() {\n",
       "                var nbb_cell_id = 10;\n",
       "                var nbb_unformatted_code = \"blog.pk\";\n",
       "                var nbb_formatted_code = \"blog.pk\";\n",
       "                var nbb_cells = Jupyter.notebook.get_cells();\n",
       "                for (var i = 0; i < nbb_cells.length; ++i) {\n",
       "                    if (nbb_cells[i].input_prompt_number == nbb_cell_id) {\n",
       "                        if (nbb_cells[i].get_text() == nbb_unformatted_code) {\n",
       "                             nbb_cells[i].set_text(nbb_formatted_code);\n",
       "                        }\n",
       "                        break;\n",
       "                    }\n",
       "                }\n",
       "            }, 500);\n",
       "            "
      ],
      "text/plain": [
       "<IPython.core.display.Javascript object>"
      ]
     },
     "metadata": {},
     "output_type": "display_data"
    }
   ],
   "source": [
    "blog.pk"
   ]
  },
  {
   "cell_type": "code",
   "execution_count": 12,
   "id": "c6f5a83d",
   "metadata": {},
   "outputs": [
    {
     "data": {
      "application/javascript": [
       "\n",
       "            setTimeout(function() {\n",
       "                var nbb_cell_id = 12;\n",
       "                var nbb_unformatted_code = \"user = User.objects.create(username=\\\"foobar\\\", password=\\\"blubber\\\")\";\n",
       "                var nbb_formatted_code = \"user = User.objects.create(username=\\\"foobar\\\", password=\\\"blubber\\\")\";\n",
       "                var nbb_cells = Jupyter.notebook.get_cells();\n",
       "                for (var i = 0; i < nbb_cells.length; ++i) {\n",
       "                    if (nbb_cells[i].input_prompt_number == nbb_cell_id) {\n",
       "                        if (nbb_cells[i].get_text() == nbb_unformatted_code) {\n",
       "                             nbb_cells[i].set_text(nbb_formatted_code);\n",
       "                        }\n",
       "                        break;\n",
       "                    }\n",
       "                }\n",
       "            }, 500);\n",
       "            "
      ],
      "text/plain": [
       "<IPython.core.display.Javascript object>"
      ]
     },
     "metadata": {},
     "output_type": "display_data"
    }
   ],
   "source": [
    "user = User.objects.create(username=\"foobar\", password=\"blubber\")"
   ]
  },
  {
   "cell_type": "code",
   "execution_count": 15,
   "id": "a6e7ac29",
   "metadata": {},
   "outputs": [
    {
     "data": {
      "application/javascript": [
       "\n",
       "            setTimeout(function() {\n",
       "                var nbb_cell_id = 15;\n",
       "                var nbb_unformatted_code = \"user.is_staff = True\";\n",
       "                var nbb_formatted_code = \"user.is_staff = True\";\n",
       "                var nbb_cells = Jupyter.notebook.get_cells();\n",
       "                for (var i = 0; i < nbb_cells.length; ++i) {\n",
       "                    if (nbb_cells[i].input_prompt_number == nbb_cell_id) {\n",
       "                        if (nbb_cells[i].get_text() == nbb_unformatted_code) {\n",
       "                             nbb_cells[i].set_text(nbb_formatted_code);\n",
       "                        }\n",
       "                        break;\n",
       "                    }\n",
       "                }\n",
       "            }, 500);\n",
       "            "
      ],
      "text/plain": [
       "<IPython.core.display.Javascript object>"
      ]
     },
     "metadata": {},
     "output_type": "display_data"
    }
   ],
   "source": [
    "user.is_staff = True"
   ]
  },
  {
   "cell_type": "code",
   "execution_count": 16,
   "id": "3c173bda",
   "metadata": {},
   "outputs": [
    {
     "data": {
      "application/javascript": [
       "\n",
       "            setTimeout(function() {\n",
       "                var nbb_cell_id = 16;\n",
       "                var nbb_unformatted_code = \"user.save()\";\n",
       "                var nbb_formatted_code = \"user.save()\";\n",
       "                var nbb_cells = Jupyter.notebook.get_cells();\n",
       "                for (var i = 0; i < nbb_cells.length; ++i) {\n",
       "                    if (nbb_cells[i].input_prompt_number == nbb_cell_id) {\n",
       "                        if (nbb_cells[i].get_text() == nbb_unformatted_code) {\n",
       "                             nbb_cells[i].set_text(nbb_formatted_code);\n",
       "                        }\n",
       "                        break;\n",
       "                    }\n",
       "                }\n",
       "            }, 500);\n",
       "            "
      ],
      "text/plain": [
       "<IPython.core.display.Javascript object>"
      ]
     },
     "metadata": {},
     "output_type": "display_data"
    }
   ],
   "source": [
    "user.save()"
   ]
  },
  {
   "cell_type": "code",
   "execution_count": 17,
   "id": "26954772",
   "metadata": {},
   "outputs": [
    {
     "data": {
      "application/javascript": [
       "\n",
       "            setTimeout(function() {\n",
       "                var nbb_cell_id = 17;\n",
       "                var nbb_unformatted_code = \"user.set_password(\\\"blubber\\\")\";\n",
       "                var nbb_formatted_code = \"user.set_password(\\\"blubber\\\")\";\n",
       "                var nbb_cells = Jupyter.notebook.get_cells();\n",
       "                for (var i = 0; i < nbb_cells.length; ++i) {\n",
       "                    if (nbb_cells[i].input_prompt_number == nbb_cell_id) {\n",
       "                        if (nbb_cells[i].get_text() == nbb_unformatted_code) {\n",
       "                             nbb_cells[i].set_text(nbb_formatted_code);\n",
       "                        }\n",
       "                        break;\n",
       "                    }\n",
       "                }\n",
       "            }, 500);\n",
       "            "
      ],
      "text/plain": [
       "<IPython.core.display.Javascript object>"
      ]
     },
     "metadata": {},
     "output_type": "display_data"
    }
   ],
   "source": [
    "user.set_password(\"blubber\")"
   ]
  },
  {
   "cell_type": "code",
   "execution_count": 18,
   "id": "23a204c8",
   "metadata": {},
   "outputs": [
    {
     "data": {
      "application/javascript": [
       "\n",
       "            setTimeout(function() {\n",
       "                var nbb_cell_id = 18;\n",
       "                var nbb_unformatted_code = \"user.save()\";\n",
       "                var nbb_formatted_code = \"user.save()\";\n",
       "                var nbb_cells = Jupyter.notebook.get_cells();\n",
       "                for (var i = 0; i < nbb_cells.length; ++i) {\n",
       "                    if (nbb_cells[i].input_prompt_number == nbb_cell_id) {\n",
       "                        if (nbb_cells[i].get_text() == nbb_unformatted_code) {\n",
       "                             nbb_cells[i].set_text(nbb_formatted_code);\n",
       "                        }\n",
       "                        break;\n",
       "                    }\n",
       "                }\n",
       "            }, 500);\n",
       "            "
      ],
      "text/plain": [
       "<IPython.core.display.Javascript object>"
      ]
     },
     "metadata": {},
     "output_type": "display_data"
    }
   ],
   "source": [
    "user.save()"
   ]
  },
  {
   "cell_type": "code",
   "execution_count": 19,
   "id": "566daee8",
   "metadata": {},
   "outputs": [
    {
     "data": {
      "application/javascript": [
       "\n",
       "            setTimeout(function() {\n",
       "                var nbb_cell_id = 19;\n",
       "                var nbb_unformatted_code = \"user.is_superuser = True\";\n",
       "                var nbb_formatted_code = \"user.is_superuser = True\";\n",
       "                var nbb_cells = Jupyter.notebook.get_cells();\n",
       "                for (var i = 0; i < nbb_cells.length; ++i) {\n",
       "                    if (nbb_cells[i].input_prompt_number == nbb_cell_id) {\n",
       "                        if (nbb_cells[i].get_text() == nbb_unformatted_code) {\n",
       "                             nbb_cells[i].set_text(nbb_formatted_code);\n",
       "                        }\n",
       "                        break;\n",
       "                    }\n",
       "                }\n",
       "            }, 500);\n",
       "            "
      ],
      "text/plain": [
       "<IPython.core.display.Javascript object>"
      ]
     },
     "metadata": {},
     "output_type": "display_data"
    }
   ],
   "source": [
    "user.is_superuser = True"
   ]
  },
  {
   "cell_type": "code",
   "execution_count": 20,
   "id": "23c7e768",
   "metadata": {},
   "outputs": [
    {
     "data": {
      "application/javascript": [
       "\n",
       "            setTimeout(function() {\n",
       "                var nbb_cell_id = 20;\n",
       "                var nbb_unformatted_code = \"user.save()\";\n",
       "                var nbb_formatted_code = \"user.save()\";\n",
       "                var nbb_cells = Jupyter.notebook.get_cells();\n",
       "                for (var i = 0; i < nbb_cells.length; ++i) {\n",
       "                    if (nbb_cells[i].input_prompt_number == nbb_cell_id) {\n",
       "                        if (nbb_cells[i].get_text() == nbb_unformatted_code) {\n",
       "                             nbb_cells[i].set_text(nbb_formatted_code);\n",
       "                        }\n",
       "                        break;\n",
       "                    }\n",
       "                }\n",
       "            }, 500);\n",
       "            "
      ],
      "text/plain": [
       "<IPython.core.display.Javascript object>"
      ]
     },
     "metadata": {},
     "output_type": "display_data"
    }
   ],
   "source": [
    "user.save()"
   ]
  },
  {
   "cell_type": "code",
   "execution_count": 22,
   "id": "e3c94991",
   "metadata": {},
   "outputs": [
    {
     "data": {
      "text/plain": [
       "'/cms/pages/add/cast/post/5/'"
      ]
     },
     "execution_count": 22,
     "metadata": {},
     "output_type": "execute_result"
    },
    {
     "data": {
      "application/javascript": [
       "\n",
       "            setTimeout(function() {\n",
       "                var nbb_cell_id = 22;\n",
       "                var nbb_unformatted_code = \"reverse(\\\"wagtailadmin_pages:add\\\", args=(\\\"cast\\\", \\\"post\\\", 5))\";\n",
       "                var nbb_formatted_code = \"reverse(\\\"wagtailadmin_pages:add\\\", args=(\\\"cast\\\", \\\"post\\\", 5))\";\n",
       "                var nbb_cells = Jupyter.notebook.get_cells();\n",
       "                for (var i = 0; i < nbb_cells.length; ++i) {\n",
       "                    if (nbb_cells[i].input_prompt_number == nbb_cell_id) {\n",
       "                        if (nbb_cells[i].get_text() == nbb_unformatted_code) {\n",
       "                             nbb_cells[i].set_text(nbb_formatted_code);\n",
       "                        }\n",
       "                        break;\n",
       "                    }\n",
       "                }\n",
       "            }, 500);\n",
       "            "
      ],
      "text/plain": [
       "<IPython.core.display.Javascript object>"
      ]
     },
     "metadata": {},
     "output_type": "display_data"
    }
   ],
   "source": [
    "reverse(\"wagtailadmin_pages:add\", args=(\"cast\", \"post\", 5))"
   ]
  },
  {
   "cell_type": "code",
   "execution_count": null,
   "id": "3f496374",
   "metadata": {},
   "outputs": [],
   "source": [
    "/cms/pages/add/cast/post/3/"
   ]
  },
  {
   "cell_type": "markdown",
   "id": "92b23895",
   "metadata": {},
   "source": [
    "## parse post data"
   ]
  },
  {
   "cell_type": "code",
   "execution_count": 48,
   "id": "f268bc44",
   "metadata": {},
   "outputs": [],
   "source": [
    "from pprint import pprint\n",
    "\n",
    "from urllib.parse import parse_qs"
   ]
  },
  {
   "cell_type": "code",
   "execution_count": 30,
   "id": "029ef6ec",
   "metadata": {},
   "outputs": [
    {
     "data": {
      "application/javascript": [
       "\n",
       "            setTimeout(function() {\n",
       "                var nbb_cell_id = 30;\n",
       "                var nbb_unformatted_code = \"urlencoded_post_data = \\\"\\\"\\\"\\ncsrfmiddlewaretoken=6frSbfWvu2CWPsTEXbCHRJXq6gISSDpRh0P4yQp0vYhnFYOwN4vCZBQLBnwY6ySZ&next=&comment_notifications=on&title=new+post&visible_date=2021-08-17+08%3A13&body-count=1&body-0-deleted=&body-0-order=0&body-0-type=overview&body-0-id=0ad2efc3-e742-4c0b-8e12-d11f5bd3164a&body-0-value-count=1&body-0-value-0-deleted=&body-0-value-0-order=0&body-0-value-0-type=heading&body-0-value-0-id=220f8d2c-bc04-4b91-925a-64444f459919&body-0-value-0-value=overview+heading&slug=new-post&seo_title=&search_description=&go_live_at=&expire_at=&comments-TOTAL_FORMS=0&comments-INITIAL_FORMS=0&comments-MIN_NUM_FORMS=0&comments-MAX_NUM_FORMS=&action-publish=action-publish\\n\\\"\\\"\\\".lstrip().rstrip()\";\n",
       "                var nbb_formatted_code = \"urlencoded_post_data = \\\"\\\"\\\"\\ncsrfmiddlewaretoken=6frSbfWvu2CWPsTEXbCHRJXq6gISSDpRh0P4yQp0vYhnFYOwN4vCZBQLBnwY6ySZ&next=&comment_notifications=on&title=new+post&visible_date=2021-08-17+08%3A13&body-count=1&body-0-deleted=&body-0-order=0&body-0-type=overview&body-0-id=0ad2efc3-e742-4c0b-8e12-d11f5bd3164a&body-0-value-count=1&body-0-value-0-deleted=&body-0-value-0-order=0&body-0-value-0-type=heading&body-0-value-0-id=220f8d2c-bc04-4b91-925a-64444f459919&body-0-value-0-value=overview+heading&slug=new-post&seo_title=&search_description=&go_live_at=&expire_at=&comments-TOTAL_FORMS=0&comments-INITIAL_FORMS=0&comments-MIN_NUM_FORMS=0&comments-MAX_NUM_FORMS=&action-publish=action-publish\\n\\\"\\\"\\\".lstrip().rstrip()\";\n",
       "                var nbb_cells = Jupyter.notebook.get_cells();\n",
       "                for (var i = 0; i < nbb_cells.length; ++i) {\n",
       "                    if (nbb_cells[i].input_prompt_number == nbb_cell_id) {\n",
       "                        if (nbb_cells[i].get_text() == nbb_unformatted_code) {\n",
       "                             nbb_cells[i].set_text(nbb_formatted_code);\n",
       "                        }\n",
       "                        break;\n",
       "                    }\n",
       "                }\n",
       "            }, 500);\n",
       "            "
      ],
      "text/plain": [
       "<IPython.core.display.Javascript object>"
      ]
     },
     "metadata": {},
     "output_type": "display_data"
    }
   ],
   "source": [
    "urlencoded_post_data = \"\"\"\n",
    "csrfmiddlewaretoken=6frSbfWvu2CWPsTEXbCHRJXq6gISSDpRh0P4yQp0vYhnFYOwN4vCZBQLBnwY6ySZ&next=&comment_notifications=on&title=new+post&visible_date=2021-08-17+08%3A13&body-count=1&body-0-deleted=&body-0-order=0&body-0-type=overview&body-0-id=0ad2efc3-e742-4c0b-8e12-d11f5bd3164a&body-0-value-count=1&body-0-value-0-deleted=&body-0-value-0-order=0&body-0-value-0-type=heading&body-0-value-0-id=220f8d2c-bc04-4b91-925a-64444f459919&body-0-value-0-value=overview+heading&slug=new-post&seo_title=&search_description=&go_live_at=&expire_at=&comments-TOTAL_FORMS=0&comments-INITIAL_FORMS=0&comments-MIN_NUM_FORMS=0&comments-MAX_NUM_FORMS=&action-publish=action-publish\n",
    "\"\"\".lstrip().rstrip()"
   ]
  },
  {
   "cell_type": "code",
   "execution_count": 33,
   "id": "454dc2e4",
   "metadata": {},
   "outputs": [
    {
     "name": "stdout",
     "output_type": "stream",
     "text": [
      "{'action-publish': ['action-publish'],\n",
      " 'body-0-id': ['0ad2efc3-e742-4c0b-8e12-d11f5bd3164a'],\n",
      " 'body-0-order': ['0'],\n",
      " 'body-0-type': ['overview'],\n",
      " 'body-0-value-0-id': ['220f8d2c-bc04-4b91-925a-64444f459919'],\n",
      " 'body-0-value-0-order': ['0'],\n",
      " 'body-0-value-0-type': ['heading'],\n",
      " 'body-0-value-0-value': ['overview heading'],\n",
      " 'body-0-value-count': ['1'],\n",
      " 'body-count': ['1'],\n",
      " 'comment_notifications': ['on'],\n",
      " 'comments-INITIAL_FORMS': ['0'],\n",
      " 'comments-MIN_NUM_FORMS': ['0'],\n",
      " 'comments-TOTAL_FORMS': ['0'],\n",
      " 'csrfmiddlewaretoken': ['6frSbfWvu2CWPsTEXbCHRJXq6gISSDpRh0P4yQp0vYhnFYOwN4vCZBQLBnwY6ySZ'],\n",
      " 'slug': ['new-post'],\n",
      " 'title': ['new post'],\n",
      " 'visible_date': ['2021-08-17 08:13']}\n"
     ]
    },
    {
     "data": {
      "application/javascript": [
       "\n",
       "            setTimeout(function() {\n",
       "                var nbb_cell_id = 33;\n",
       "                var nbb_unformatted_code = \"pprint(parse_qs(urlencoded_post_data))\";\n",
       "                var nbb_formatted_code = \"pprint(parse_qs(urlencoded_post_data))\";\n",
       "                var nbb_cells = Jupyter.notebook.get_cells();\n",
       "                for (var i = 0; i < nbb_cells.length; ++i) {\n",
       "                    if (nbb_cells[i].input_prompt_number == nbb_cell_id) {\n",
       "                        if (nbb_cells[i].get_text() == nbb_unformatted_code) {\n",
       "                             nbb_cells[i].set_text(nbb_formatted_code);\n",
       "                        }\n",
       "                        break;\n",
       "                    }\n",
       "                }\n",
       "            }, 500);\n",
       "            "
      ],
      "text/plain": [
       "<IPython.core.display.Javascript object>"
      ]
     },
     "metadata": {},
     "output_type": "display_data"
    }
   ],
   "source": [
    "pprint(parse_qs(urlencoded_post_data))"
   ]
  },
  {
   "cell_type": "code",
   "execution_count": 41,
   "id": "9a480df9",
   "metadata": {},
   "outputs": [
    {
     "data": {
      "text/plain": [
       "{'csrfmiddlewaretoken': ['6frSbfWvu2CWPsTEXbCHRJXq6gISSDpRh0P4yQp0vYhnFYOwN4vCZBQLBnwY6ySZ'],\n",
       " 'comment_notifications': ['on'],\n",
       " 'title': ['new post'],\n",
       " 'visible_date': ['2021-08-17 08:13'],\n",
       " 'body-count': ['1'],\n",
       " 'body-0-order': ['0'],\n",
       " 'body-0-type': ['overview'],\n",
       " 'body-0-id': ['0ad2efc3-e742-4c0b-8e12-d11f5bd3164a'],\n",
       " 'body-0-value-count': ['1'],\n",
       " 'body-0-value-0-order': ['0'],\n",
       " 'body-0-value-0-type': ['heading'],\n",
       " 'body-0-value-0-id': ['220f8d2c-bc04-4b91-925a-64444f459919'],\n",
       " 'body-0-value-0-value': ['overview heading'],\n",
       " 'slug': ['new-post'],\n",
       " 'comments-TOTAL_FORMS': ['0'],\n",
       " 'comments-INITIAL_FORMS': ['0'],\n",
       " 'comments-MIN_NUM_FORMS': ['0'],\n",
       " 'action-publish': ['action-publish']}"
      ]
     },
     "execution_count": 41,
     "metadata": {},
     "output_type": "execute_result"
    },
    {
     "data": {
      "application/javascript": [
       "\n",
       "            setTimeout(function() {\n",
       "                var nbb_cell_id = 41;\n",
       "                var nbb_unformatted_code = \"parse_qs(urlencoded_post_data)\";\n",
       "                var nbb_formatted_code = \"parse_qs(urlencoded_post_data)\";\n",
       "                var nbb_cells = Jupyter.notebook.get_cells();\n",
       "                for (var i = 0; i < nbb_cells.length; ++i) {\n",
       "                    if (nbb_cells[i].input_prompt_number == nbb_cell_id) {\n",
       "                        if (nbb_cells[i].get_text() == nbb_unformatted_code) {\n",
       "                             nbb_cells[i].set_text(nbb_formatted_code);\n",
       "                        }\n",
       "                        break;\n",
       "                    }\n",
       "                }\n",
       "            }, 500);\n",
       "            "
      ],
      "text/plain": [
       "<IPython.core.display.Javascript object>"
      ]
     },
     "metadata": {},
     "output_type": "display_data"
    }
   ],
   "source": [
    "parse_qs(urlencoded_post_data)"
   ]
  },
  {
   "cell_type": "code",
   "execution_count": 43,
   "id": "15827aca",
   "metadata": {},
   "outputs": [
    {
     "name": "stdout",
     "output_type": "stream",
     "text": [
      "{'action-publish': 'action-publish',\n",
      " 'body-0-deleted': '',\n",
      " 'body-0-id': '0ad2efc3-e742-4c0b-8e12-d11f5bd3164a',\n",
      " 'body-0-order': '0',\n",
      " 'body-0-type': 'overview',\n",
      " 'body-0-value-0-deleted': '',\n",
      " 'body-0-value-0-id': '220f8d2c-bc04-4b91-925a-64444f459919',\n",
      " 'body-0-value-0-order': '0',\n",
      " 'body-0-value-0-type': 'heading',\n",
      " 'body-0-value-0-value': 'overview heading',\n",
      " 'body-0-value-count': '1',\n",
      " 'body-count': '1',\n",
      " 'comment_notifications': 'on',\n",
      " 'comments-INITIAL_FORMS': '0',\n",
      " 'comments-MAX_NUM_FORMS': '',\n",
      " 'comments-MIN_NUM_FORMS': '0',\n",
      " 'comments-TOTAL_FORMS': '0',\n",
      " 'csrfmiddlewaretoken': '6frSbfWvu2CWPsTEXbCHRJXq6gISSDpRh0P4yQp0vYhnFYOwN4vCZBQLBnwY6ySZ',\n",
      " 'expire_at': '',\n",
      " 'go_live_at': '',\n",
      " 'next': '',\n",
      " 'search_description': '',\n",
      " 'seo_title': '',\n",
      " 'slug': 'new-post',\n",
      " 'title': 'new post',\n",
      " 'visible_date': '2021-08-17 08:13'}\n"
     ]
    },
    {
     "data": {
      "application/javascript": [
       "\n",
       "            setTimeout(function() {\n",
       "                var nbb_cell_id = 43;\n",
       "                var nbb_unformatted_code = \"dict_post_data = {k: v[0] for k, v in parse_qs(urlencoded_post_data, keep_blank_values=True).items()}\\npprint(dict_post_data)\";\n",
       "                var nbb_formatted_code = \"dict_post_data = {\\n    k: v[0] for k, v in parse_qs(urlencoded_post_data, keep_blank_values=True).items()\\n}\\npprint(dict_post_data)\";\n",
       "                var nbb_cells = Jupyter.notebook.get_cells();\n",
       "                for (var i = 0; i < nbb_cells.length; ++i) {\n",
       "                    if (nbb_cells[i].input_prompt_number == nbb_cell_id) {\n",
       "                        if (nbb_cells[i].get_text() == nbb_unformatted_code) {\n",
       "                             nbb_cells[i].set_text(nbb_formatted_code);\n",
       "                        }\n",
       "                        break;\n",
       "                    }\n",
       "                }\n",
       "            }, 500);\n",
       "            "
      ],
      "text/plain": [
       "<IPython.core.display.Javascript object>"
      ]
     },
     "metadata": {},
     "output_type": "display_data"
    }
   ],
   "source": [
    "dict_post_data = {\n",
    "    k: v[0] for k, v in parse_qs(urlencoded_post_data, keep_blank_values=True).items()\n",
    "}\n",
    "pprint(dict_post_data)"
   ]
  },
  {
   "cell_type": "code",
   "execution_count": 44,
   "id": "2273eda9",
   "metadata": {},
   "outputs": [
    {
     "data": {
      "text/plain": [
       "{'action-publish': 'action-publish',\n",
       " 'body-0-deleted': '',\n",
       " 'body-0-id': '0ad2efc3-e742-4c0b-8e12-d11f5bd3164a',\n",
       " 'body-0-order': '0',\n",
       " 'body-0-type': 'overview',\n",
       " 'body-0-value-0-deleted': '',\n",
       " 'body-0-value-0-id': '220f8d2c-bc04-4b91-925a-64444f459919',\n",
       " 'body-0-value-0-order': '0',\n",
       " 'body-0-value-0-type': 'heading',\n",
       " 'body-0-value-0-value': 'overview heading',\n",
       " 'body-0-value-count': '1',\n",
       " 'body-count': '1',\n",
       " 'comment_notifications': 'on',\n",
       " 'comments-INITIAL_FORMS': '0',\n",
       " 'comments-MAX_NUM_FORMS': '',\n",
       " 'comments-MIN_NUM_FORMS': '0',\n",
       " 'comments-TOTAL_FORMS': '0',\n",
       " 'csrfmiddlewaretoken': '6frSbfWvu2CWPsTEXbCHRJXq6gISSDpRh0P4yQp0vYhnFYOwN4vCZBQLBnwY6ySZ',\n",
       " 'expire_at': '',\n",
       " 'go_live_at': '',\n",
       " 'next': '',\n",
       " 'search_description': '',\n",
       " 'seo_title': '',\n",
       " 'slug': 'new-post',\n",
       " 'title': 'new post',\n",
       " 'visible_date': '2021-08-17 08:13'}"
      ]
     },
     "execution_count": 44,
     "metadata": {},
     "output_type": "execute_result"
    },
    {
     "data": {
      "application/javascript": [
       "\n",
       "            setTimeout(function() {\n",
       "                var nbb_cell_id = 44;\n",
       "                var nbb_unformatted_code = \"{'action-publish': 'action-publish',\\n 'body-0-deleted': '',\\n 'body-0-id': '0ad2efc3-e742-4c0b-8e12-d11f5bd3164a',\\n 'body-0-order': '0',\\n 'body-0-type': 'overview',\\n 'body-0-value-0-deleted': '',\\n 'body-0-value-0-id': '220f8d2c-bc04-4b91-925a-64444f459919',\\n 'body-0-value-0-order': '0',\\n 'body-0-value-0-type': 'heading',\\n 'body-0-value-0-value': 'overview heading',\\n 'body-0-value-count': '1',\\n 'body-count': '1',\\n 'comment_notifications': 'on',\\n 'comments-INITIAL_FORMS': '0',\\n 'comments-MAX_NUM_FORMS': '',\\n 'comments-MIN_NUM_FORMS': '0',\\n 'comments-TOTAL_FORMS': '0',\\n 'csrfmiddlewaretoken': '6frSbfWvu2CWPsTEXbCHRJXq6gISSDpRh0P4yQp0vYhnFYOwN4vCZBQLBnwY6ySZ',\\n 'expire_at': '',\\n 'go_live_at': '',\\n 'next': '',\\n 'search_description': '',\\n 'seo_title': '',\\n 'slug': 'new-post',\\n 'title': 'new post',\\n 'visible_date': '2021-08-17 08:13'}\";\n",
       "                var nbb_formatted_code = \"{\\n    \\\"action-publish\\\": \\\"action-publish\\\",\\n    \\\"body-0-deleted\\\": \\\"\\\",\\n    \\\"body-0-id\\\": \\\"0ad2efc3-e742-4c0b-8e12-d11f5bd3164a\\\",\\n    \\\"body-0-order\\\": \\\"0\\\",\\n    \\\"body-0-type\\\": \\\"overview\\\",\\n    \\\"body-0-value-0-deleted\\\": \\\"\\\",\\n    \\\"body-0-value-0-id\\\": \\\"220f8d2c-bc04-4b91-925a-64444f459919\\\",\\n    \\\"body-0-value-0-order\\\": \\\"0\\\",\\n    \\\"body-0-value-0-type\\\": \\\"heading\\\",\\n    \\\"body-0-value-0-value\\\": \\\"overview heading\\\",\\n    \\\"body-0-value-count\\\": \\\"1\\\",\\n    \\\"body-count\\\": \\\"1\\\",\\n    \\\"comment_notifications\\\": \\\"on\\\",\\n    \\\"comments-INITIAL_FORMS\\\": \\\"0\\\",\\n    \\\"comments-MAX_NUM_FORMS\\\": \\\"\\\",\\n    \\\"comments-MIN_NUM_FORMS\\\": \\\"0\\\",\\n    \\\"comments-TOTAL_FORMS\\\": \\\"0\\\",\\n    \\\"csrfmiddlewaretoken\\\": \\\"6frSbfWvu2CWPsTEXbCHRJXq6gISSDpRh0P4yQp0vYhnFYOwN4vCZBQLBnwY6ySZ\\\",\\n    \\\"expire_at\\\": \\\"\\\",\\n    \\\"go_live_at\\\": \\\"\\\",\\n    \\\"next\\\": \\\"\\\",\\n    \\\"search_description\\\": \\\"\\\",\\n    \\\"seo_title\\\": \\\"\\\",\\n    \\\"slug\\\": \\\"new-post\\\",\\n    \\\"title\\\": \\\"new post\\\",\\n    \\\"visible_date\\\": \\\"2021-08-17 08:13\\\",\\n}\";\n",
       "                var nbb_cells = Jupyter.notebook.get_cells();\n",
       "                for (var i = 0; i < nbb_cells.length; ++i) {\n",
       "                    if (nbb_cells[i].input_prompt_number == nbb_cell_id) {\n",
       "                        if (nbb_cells[i].get_text() == nbb_unformatted_code) {\n",
       "                             nbb_cells[i].set_text(nbb_formatted_code);\n",
       "                        }\n",
       "                        break;\n",
       "                    }\n",
       "                }\n",
       "            }, 500);\n",
       "            "
      ],
      "text/plain": [
       "<IPython.core.display.Javascript object>"
      ]
     },
     "metadata": {},
     "output_type": "display_data"
    }
   ],
   "source": [
    "{\n",
    "    \"action-publish\": \"action-publish\",\n",
    "    \"body-0-deleted\": \"\",\n",
    "    \"body-0-id\": \"0ad2efc3-e742-4c0b-8e12-d11f5bd3164a\",\n",
    "    \"body-0-order\": \"0\",\n",
    "    \"body-0-type\": \"overview\",\n",
    "    \"body-0-value-0-deleted\": \"\",\n",
    "    \"body-0-value-0-id\": \"220f8d2c-bc04-4b91-925a-64444f459919\",\n",
    "    \"body-0-value-0-order\": \"0\",\n",
    "    \"body-0-value-0-type\": \"heading\",\n",
    "    \"body-0-value-0-value\": \"overview heading\",\n",
    "    \"body-0-value-count\": \"1\",\n",
    "    \"body-count\": \"1\",\n",
    "    \"comment_notifications\": \"on\",\n",
    "    \"comments-INITIAL_FORMS\": \"0\",\n",
    "    \"comments-MAX_NUM_FORMS\": \"\",\n",
    "    \"comments-MIN_NUM_FORMS\": \"0\",\n",
    "    \"comments-TOTAL_FORMS\": \"0\",\n",
    "    \"csrfmiddlewaretoken\": \"6frSbfWvu2CWPsTEXbCHRJXq6gISSDpRh0P4yQp0vYhnFYOwN4vCZBQLBnwY6ySZ\",\n",
    "    \"expire_at\": \"\",\n",
    "    \"go_live_at\": \"\",\n",
    "    \"next\": \"\",\n",
    "    \"search_description\": \"\",\n",
    "    \"seo_title\": \"\",\n",
    "    \"slug\": \"new-post\",\n",
    "    \"title\": \"new post\",\n",
    "    \"visible_date\": \"2021-08-17 08:13\",\n",
    "}"
   ]
  },
  {
   "cell_type": "code",
   "execution_count": 42,
   "id": "347d9bfc",
   "metadata": {},
   "outputs": [
    {
     "name": "stdout",
     "output_type": "stream",
     "text": [
      "Help on function parse_qs in module urllib.parse:\n",
      "\n",
      "parse_qs(qs, keep_blank_values=False, strict_parsing=False, encoding='utf-8', errors='replace', max_num_fields=None, separator='&')\n",
      "    Parse a query given as a string argument.\n",
      "    \n",
      "    Arguments:\n",
      "    \n",
      "    qs: percent-encoded query string to be parsed\n",
      "    \n",
      "    keep_blank_values: flag indicating whether blank values in\n",
      "        percent-encoded queries should be treated as blank strings.\n",
      "        A true value indicates that blanks should be retained as\n",
      "        blank strings.  The default false value indicates that\n",
      "        blank values are to be ignored and treated as if they were\n",
      "        not included.\n",
      "    \n",
      "    strict_parsing: flag indicating what to do with parsing errors.\n",
      "        If false (the default), errors are silently ignored.\n",
      "        If true, errors raise a ValueError exception.\n",
      "    \n",
      "    encoding and errors: specify how to decode percent-encoded sequences\n",
      "        into Unicode characters, as accepted by the bytes.decode() method.\n",
      "    \n",
      "    max_num_fields: int. If set, then throws a ValueError if there\n",
      "        are more than n fields read by parse_qsl().\n",
      "    \n",
      "    separator: str. The symbol to use for separating the query arguments.\n",
      "        Defaults to &.\n",
      "    \n",
      "    Returns a dictionary.\n",
      "\n"
     ]
    },
    {
     "data": {
      "application/javascript": [
       "\n",
       "            setTimeout(function() {\n",
       "                var nbb_cell_id = 42;\n",
       "                var nbb_unformatted_code = \"help(parse_qs)\";\n",
       "                var nbb_formatted_code = \"help(parse_qs)\";\n",
       "                var nbb_cells = Jupyter.notebook.get_cells();\n",
       "                for (var i = 0; i < nbb_cells.length; ++i) {\n",
       "                    if (nbb_cells[i].input_prompt_number == nbb_cell_id) {\n",
       "                        if (nbb_cells[i].get_text() == nbb_unformatted_code) {\n",
       "                             nbb_cells[i].set_text(nbb_formatted_code);\n",
       "                        }\n",
       "                        break;\n",
       "                    }\n",
       "                }\n",
       "            }, 500);\n",
       "            "
      ],
      "text/plain": [
       "<IPython.core.display.Javascript object>"
      ]
     },
     "metadata": {},
     "output_type": "display_data"
    }
   ],
   "source": [
    "help(parse_qs)"
   ]
  },
  {
   "cell_type": "code",
   "execution_count": 46,
   "id": "657e6977",
   "metadata": {},
   "outputs": [
    {
     "data": {
      "text/plain": [
       "'/cms/pages/3/'"
      ]
     },
     "execution_count": 46,
     "metadata": {},
     "output_type": "execute_result"
    },
    {
     "data": {
      "application/javascript": [
       "\n",
       "            setTimeout(function() {\n",
       "                var nbb_cell_id = 46;\n",
       "                var nbb_unformatted_code = \"reverse(\\\"wagtailadmin_explore\\\", args=(3,))\";\n",
       "                var nbb_formatted_code = \"reverse(\\\"wagtailadmin_explore\\\", args=(3,))\";\n",
       "                var nbb_cells = Jupyter.notebook.get_cells();\n",
       "                for (var i = 0; i < nbb_cells.length; ++i) {\n",
       "                    if (nbb_cells[i].input_prompt_number == nbb_cell_id) {\n",
       "                        if (nbb_cells[i].get_text() == nbb_unformatted_code) {\n",
       "                             nbb_cells[i].set_text(nbb_formatted_code);\n",
       "                        }\n",
       "                        break;\n",
       "                    }\n",
       "                }\n",
       "            }, 500);\n",
       "            "
      ],
      "text/plain": [
       "<IPython.core.display.Javascript object>"
      ]
     },
     "metadata": {},
     "output_type": "display_data"
    }
   ],
   "source": [
    "reverse(\"wagtailadmin_explore\", args=(3,))"
   ]
  },
  {
   "cell_type": "code",
   "execution_count": 47,
   "id": "8dfc76d1",
   "metadata": {},
   "outputs": [
    {
     "data": {
      "text/plain": [
       "'/cms/login/'"
      ]
     },
     "execution_count": 47,
     "metadata": {},
     "output_type": "execute_result"
    },
    {
     "data": {
      "application/javascript": [
       "\n",
       "            setTimeout(function() {\n",
       "                var nbb_cell_id = 47;\n",
       "                var nbb_unformatted_code = \"reverse(\\\"wagtailadmin_login\\\")\";\n",
       "                var nbb_formatted_code = \"reverse(\\\"wagtailadmin_login\\\")\";\n",
       "                var nbb_cells = Jupyter.notebook.get_cells();\n",
       "                for (var i = 0; i < nbb_cells.length; ++i) {\n",
       "                    if (nbb_cells[i].input_prompt_number == nbb_cell_id) {\n",
       "                        if (nbb_cells[i].get_text() == nbb_unformatted_code) {\n",
       "                             nbb_cells[i].set_text(nbb_formatted_code);\n",
       "                        }\n",
       "                        break;\n",
       "                    }\n",
       "                }\n",
       "            }, 500);\n",
       "            "
      ],
      "text/plain": [
       "<IPython.core.display.Javascript object>"
      ]
     },
     "metadata": {},
     "output_type": "display_data"
    }
   ],
   "source": [
    "reverse(\"wagtailadmin_login\")"
   ]
  },
  {
   "cell_type": "code",
   "execution_count": 49,
   "id": "de5cb061",
   "metadata": {},
   "outputs": [
    {
     "data": {
      "application/javascript": [
       "\n",
       "            setTimeout(function() {\n",
       "                var nbb_cell_id = 49;\n",
       "                var nbb_unformatted_code = \"post = Post.objects.get(pk=9)\";\n",
       "                var nbb_formatted_code = \"post = Post.objects.get(pk=9)\";\n",
       "                var nbb_cells = Jupyter.notebook.get_cells();\n",
       "                for (var i = 0; i < nbb_cells.length; ++i) {\n",
       "                    if (nbb_cells[i].input_prompt_number == nbb_cell_id) {\n",
       "                        if (nbb_cells[i].get_text() == nbb_unformatted_code) {\n",
       "                             nbb_cells[i].set_text(nbb_formatted_code);\n",
       "                        }\n",
       "                        break;\n",
       "                    }\n",
       "                }\n",
       "            }, 500);\n",
       "            "
      ],
      "text/plain": [
       "<IPython.core.display.Javascript object>"
      ]
     },
     "metadata": {},
     "output_type": "display_data"
    }
   ],
   "source": [
    "post = Post.objects.get(pk=9)"
   ]
  },
  {
   "cell_type": "code",
   "execution_count": 50,
   "id": "e30b5194",
   "metadata": {},
   "outputs": [
    {
     "data": {
      "text/plain": [
       "<QuerySet []>"
      ]
     },
     "execution_count": 50,
     "metadata": {},
     "output_type": "execute_result"
    },
    {
     "data": {
      "application/javascript": [
       "\n",
       "            setTimeout(function() {\n",
       "                var nbb_cell_id = 50;\n",
       "                var nbb_unformatted_code = \"post.images.all()\";\n",
       "                var nbb_formatted_code = \"post.images.all()\";\n",
       "                var nbb_cells = Jupyter.notebook.get_cells();\n",
       "                for (var i = 0; i < nbb_cells.length; ++i) {\n",
       "                    if (nbb_cells[i].input_prompt_number == nbb_cell_id) {\n",
       "                        if (nbb_cells[i].get_text() == nbb_unformatted_code) {\n",
       "                             nbb_cells[i].set_text(nbb_formatted_code);\n",
       "                        }\n",
       "                        break;\n",
       "                    }\n",
       "                }\n",
       "            }, 500);\n",
       "            "
      ],
      "text/plain": [
       "<IPython.core.display.Javascript object>"
      ]
     },
     "metadata": {},
     "output_type": "display_data"
    }
   ],
   "source": [
    "post.images.all()"
   ]
  },
  {
   "cell_type": "code",
   "execution_count": 53,
   "id": "d94486cd",
   "metadata": {},
   "outputs": [
    {
     "data": {
      "text/plain": [
       "[{'type': 'overview', 'value': [{'type': 'heading', 'value': 'overview heading', 'id': '220f8d2c-bc04-4b91-925a-64444f459919'}], 'id': '0ad2efc3-e742-4c0b-8e12-d11f5bd3164a'}, {'type': 'detail', 'value': [{'type': 'image', 'value': 1, 'id': '8e9d6d0d-b02c-4d1e-81c2-832d93e20a4a'}], 'id': 'bc4eb2c6-d08d-40c4-84c0-39c9f67b732e'}]"
      ]
     },
     "execution_count": 53,
     "metadata": {},
     "output_type": "execute_result"
    },
    {
     "data": {
      "application/javascript": [
       "\n",
       "            setTimeout(function() {\n",
       "                var nbb_cell_id = 53;\n",
       "                var nbb_unformatted_code = \"post.body.raw_data\";\n",
       "                var nbb_formatted_code = \"post.body.raw_data\";\n",
       "                var nbb_cells = Jupyter.notebook.get_cells();\n",
       "                for (var i = 0; i < nbb_cells.length; ++i) {\n",
       "                    if (nbb_cells[i].input_prompt_number == nbb_cell_id) {\n",
       "                        if (nbb_cells[i].get_text() == nbb_unformatted_code) {\n",
       "                             nbb_cells[i].set_text(nbb_formatted_code);\n",
       "                        }\n",
       "                        break;\n",
       "                    }\n",
       "                }\n",
       "            }, 500);\n",
       "            "
      ],
      "text/plain": [
       "<IPython.core.display.Javascript object>"
      ]
     },
     "metadata": {},
     "output_type": "display_data"
    }
   ],
   "source": [
    "post.body.raw_data"
   ]
  },
  {
   "cell_type": "code",
   "execution_count": 54,
   "id": "ca99f22a",
   "metadata": {},
   "outputs": [
    {
     "data": {
      "text/plain": [
       "[{'type': 'overview',\n",
       "  'value': [{'type': 'heading',\n",
       "    'value': 'overview heading',\n",
       "    'id': '220f8d2c-bc04-4b91-925a-64444f459919'}],\n",
       "  'id': '0ad2efc3-e742-4c0b-8e12-d11f5bd3164a'},\n",
       " {'type': 'detail',\n",
       "  'value': [{'type': 'image',\n",
       "    'value': 1,\n",
       "    'id': '8e9d6d0d-b02c-4d1e-81c2-832d93e20a4a'}],\n",
       "  'id': 'bc4eb2c6-d08d-40c4-84c0-39c9f67b732e'}]"
      ]
     },
     "execution_count": 54,
     "metadata": {},
     "output_type": "execute_result"
    },
    {
     "data": {
      "application/javascript": [
       "\n",
       "            setTimeout(function() {\n",
       "                var nbb_cell_id = 54;\n",
       "                var nbb_unformatted_code = \"[{'type': 'overview', 'value': [{'type': 'heading', 'value': 'overview heading', 'id': '220f8d2c-bc04-4b91-925a-64444f459919'}], 'id': '0ad2efc3-e742-4c0b-8e12-d11f5bd3164a'}, {'type': 'detail', 'value': [{'type': 'image', 'value': 1, 'id': '8e9d6d0d-b02c-4d1e-81c2-832d93e20a4a'}], 'id': 'bc4eb2c6-d08d-40c4-84c0-39c9f67b732e'}]\";\n",
       "                var nbb_formatted_code = \"[\\n    {\\n        \\\"type\\\": \\\"overview\\\",\\n        \\\"value\\\": [\\n            {\\n                \\\"type\\\": \\\"heading\\\",\\n                \\\"value\\\": \\\"overview heading\\\",\\n                \\\"id\\\": \\\"220f8d2c-bc04-4b91-925a-64444f459919\\\",\\n            }\\n        ],\\n        \\\"id\\\": \\\"0ad2efc3-e742-4c0b-8e12-d11f5bd3164a\\\",\\n    },\\n    {\\n        \\\"type\\\": \\\"detail\\\",\\n        \\\"value\\\": [\\n            {\\\"type\\\": \\\"image\\\", \\\"value\\\": 1, \\\"id\\\": \\\"8e9d6d0d-b02c-4d1e-81c2-832d93e20a4a\\\"}\\n        ],\\n        \\\"id\\\": \\\"bc4eb2c6-d08d-40c4-84c0-39c9f67b732e\\\",\\n    },\\n]\";\n",
       "                var nbb_cells = Jupyter.notebook.get_cells();\n",
       "                for (var i = 0; i < nbb_cells.length; ++i) {\n",
       "                    if (nbb_cells[i].input_prompt_number == nbb_cell_id) {\n",
       "                        if (nbb_cells[i].get_text() == nbb_unformatted_code) {\n",
       "                             nbb_cells[i].set_text(nbb_formatted_code);\n",
       "                        }\n",
       "                        break;\n",
       "                    }\n",
       "                }\n",
       "            }, 500);\n",
       "            "
      ],
      "text/plain": [
       "<IPython.core.display.Javascript object>"
      ]
     },
     "metadata": {},
     "output_type": "display_data"
    }
   ],
   "source": [
    "[\n",
    "    {\n",
    "        \"type\": \"overview\",\n",
    "        \"value\": [\n",
    "            {\n",
    "                \"type\": \"heading\",\n",
    "                \"value\": \"overview heading\",\n",
    "                \"id\": \"220f8d2c-bc04-4b91-925a-64444f459919\",\n",
    "            }\n",
    "        ],\n",
    "        \"id\": \"0ad2efc3-e742-4c0b-8e12-d11f5bd3164a\",\n",
    "    },\n",
    "    {\n",
    "        \"type\": \"detail\",\n",
    "        \"value\": [\n",
    "            {\"type\": \"image\", \"value\": 1, \"id\": \"8e9d6d0d-b02c-4d1e-81c2-832d93e20a4a\"}\n",
    "        ],\n",
    "        \"id\": \"bc4eb2c6-d08d-40c4-84c0-39c9f67b732e\",\n",
    "    },\n",
    "]"
   ]
  },
  {
   "cell_type": "code",
   "execution_count": 64,
   "id": "9ee4edc5",
   "metadata": {},
   "outputs": [
    {
     "data": {
      "text/plain": [
       "(4,\n",
       " {'taggit.TaggedItem': 1,\n",
       "  'wagtailimages.Rendition': 1,\n",
       "  'wagtailimages.Image': 2})"
      ]
     },
     "execution_count": 64,
     "metadata": {},
     "output_type": "execute_result"
    },
    {
     "data": {
      "application/javascript": [
       "\n",
       "            setTimeout(function() {\n",
       "                var nbb_cell_id = 64;\n",
       "                var nbb_unformatted_code = \"Image.objects.all().delete()\";\n",
       "                var nbb_formatted_code = \"Image.objects.all().delete()\";\n",
       "                var nbb_cells = Jupyter.notebook.get_cells();\n",
       "                for (var i = 0; i < nbb_cells.length; ++i) {\n",
       "                    if (nbb_cells[i].input_prompt_number == nbb_cell_id) {\n",
       "                        if (nbb_cells[i].get_text() == nbb_unformatted_code) {\n",
       "                             nbb_cells[i].set_text(nbb_formatted_code);\n",
       "                        }\n",
       "                        break;\n",
       "                    }\n",
       "                }\n",
       "            }, 500);\n",
       "            "
      ],
      "text/plain": [
       "<IPython.core.display.Javascript object>"
      ]
     },
     "metadata": {},
     "output_type": "display_data"
    }
   ],
   "source": [
    "Image.objects.all().delete()"
   ]
  },
  {
   "cell_type": "code",
   "execution_count": 61,
   "id": "e9478e9d",
   "metadata": {},
   "outputs": [
    {
     "data": {
      "application/javascript": [
       "\n",
       "            setTimeout(function() {\n",
       "                var nbb_cell_id = 61;\n",
       "                var nbb_unformatted_code = \"image = Image(width=0, height=0)\";\n",
       "                var nbb_formatted_code = \"image = Image(width=0, height=0)\";\n",
       "                var nbb_cells = Jupyter.notebook.get_cells();\n",
       "                for (var i = 0; i < nbb_cells.length; ++i) {\n",
       "                    if (nbb_cells[i].input_prompt_number == nbb_cell_id) {\n",
       "                        if (nbb_cells[i].get_text() == nbb_unformatted_code) {\n",
       "                             nbb_cells[i].set_text(nbb_formatted_code);\n",
       "                        }\n",
       "                        break;\n",
       "                    }\n",
       "                }\n",
       "            }, 500);\n",
       "            "
      ],
      "text/plain": [
       "<IPython.core.display.Javascript object>"
      ]
     },
     "metadata": {},
     "output_type": "display_data"
    }
   ],
   "source": [
    "image = Image(width=0, height=0)"
   ]
  },
  {
   "cell_type": "code",
   "execution_count": 62,
   "id": "ee0770ef",
   "metadata": {},
   "outputs": [
    {
     "data": {
      "application/javascript": [
       "\n",
       "            setTimeout(function() {\n",
       "                var nbb_cell_id = 62;\n",
       "                var nbb_unformatted_code = \"image.save()\";\n",
       "                var nbb_formatted_code = \"image.save()\";\n",
       "                var nbb_cells = Jupyter.notebook.get_cells();\n",
       "                for (var i = 0; i < nbb_cells.length; ++i) {\n",
       "                    if (nbb_cells[i].input_prompt_number == nbb_cell_id) {\n",
       "                        if (nbb_cells[i].get_text() == nbb_unformatted_code) {\n",
       "                             nbb_cells[i].set_text(nbb_formatted_code);\n",
       "                        }\n",
       "                        break;\n",
       "                    }\n",
       "                }\n",
       "            }, 500);\n",
       "            "
      ],
      "text/plain": [
       "<IPython.core.display.Javascript object>"
      ]
     },
     "metadata": {},
     "output_type": "display_data"
    }
   ],
   "source": [
    "image.save()"
   ]
  },
  {
   "cell_type": "code",
   "execution_count": 63,
   "id": "fc9ee3d4",
   "metadata": {},
   "outputs": [
    {
     "data": {
      "text/plain": [
       "2"
      ]
     },
     "execution_count": 63,
     "metadata": {},
     "output_type": "execute_result"
    },
    {
     "data": {
      "application/javascript": [
       "\n",
       "            setTimeout(function() {\n",
       "                var nbb_cell_id = 63;\n",
       "                var nbb_unformatted_code = \"Image.objects.count()\";\n",
       "                var nbb_formatted_code = \"Image.objects.count()\";\n",
       "                var nbb_cells = Jupyter.notebook.get_cells();\n",
       "                for (var i = 0; i < nbb_cells.length; ++i) {\n",
       "                    if (nbb_cells[i].input_prompt_number == nbb_cell_id) {\n",
       "                        if (nbb_cells[i].get_text() == nbb_unformatted_code) {\n",
       "                             nbb_cells[i].set_text(nbb_formatted_code);\n",
       "                        }\n",
       "                        break;\n",
       "                    }\n",
       "                }\n",
       "            }, 500);\n",
       "            "
      ],
      "text/plain": [
       "<IPython.core.display.Javascript object>"
      ]
     },
     "metadata": {},
     "output_type": "display_data"
    }
   ],
   "source": [
    "Image.objects.count()"
   ]
  },
  {
   "cell_type": "code",
   "execution_count": 65,
   "id": "e7010f53",
   "metadata": {},
   "outputs": [
    {
     "data": {
      "application/javascript": [
       "\n",
       "            setTimeout(function() {\n",
       "                var nbb_cell_id = 65;\n",
       "                var nbb_unformatted_code = \"urlencoded_post_data = \\\"\\\"\\\"\\ncsrfmiddlewaretoken=FpoVqUz8XgqapQpERjzx3DHXOpz5EC3UQaM7Nv2DYc5BfmkwHcssbvAijwnbSxw2&next=&comment_notifications=on&title=post+with+image&visible_date=2021-08-18+08%3A45&body-count=1&body-0-deleted=&body-0-order=0&body-0-type=overview&body-0-id=2a3a7170-c3c5-43ea-8ef7-04dbb0f1b5b0&body-0-value-count=1&body-0-value-0-deleted=&body-0-value-0-order=0&body-0-value-0-type=image&body-0-value-0-id=a8f60f89-d510-4d0a-acc8-8c654ec5545e&body-0-value-0-value=3&slug=post-with-image&seo_title=&search_description=&go_live_at=&expire_at=&comments-TOTAL_FORMS=0&comments-INITIAL_FORMS=0&comments-MIN_NUM_FORMS=0&comments-MAX_NUM_FORMS=&action-publish=action-publish\\n\\\"\\\"\\\".lstrip().rstrip()\";\n",
       "                var nbb_formatted_code = \"urlencoded_post_data = \\\"\\\"\\\"\\ncsrfmiddlewaretoken=FpoVqUz8XgqapQpERjzx3DHXOpz5EC3UQaM7Nv2DYc5BfmkwHcssbvAijwnbSxw2&next=&comment_notifications=on&title=post+with+image&visible_date=2021-08-18+08%3A45&body-count=1&body-0-deleted=&body-0-order=0&body-0-type=overview&body-0-id=2a3a7170-c3c5-43ea-8ef7-04dbb0f1b5b0&body-0-value-count=1&body-0-value-0-deleted=&body-0-value-0-order=0&body-0-value-0-type=image&body-0-value-0-id=a8f60f89-d510-4d0a-acc8-8c654ec5545e&body-0-value-0-value=3&slug=post-with-image&seo_title=&search_description=&go_live_at=&expire_at=&comments-TOTAL_FORMS=0&comments-INITIAL_FORMS=0&comments-MIN_NUM_FORMS=0&comments-MAX_NUM_FORMS=&action-publish=action-publish\\n\\\"\\\"\\\".lstrip().rstrip()\";\n",
       "                var nbb_cells = Jupyter.notebook.get_cells();\n",
       "                for (var i = 0; i < nbb_cells.length; ++i) {\n",
       "                    if (nbb_cells[i].input_prompt_number == nbb_cell_id) {\n",
       "                        if (nbb_cells[i].get_text() == nbb_unformatted_code) {\n",
       "                             nbb_cells[i].set_text(nbb_formatted_code);\n",
       "                        }\n",
       "                        break;\n",
       "                    }\n",
       "                }\n",
       "            }, 500);\n",
       "            "
      ],
      "text/plain": [
       "<IPython.core.display.Javascript object>"
      ]
     },
     "metadata": {},
     "output_type": "display_data"
    }
   ],
   "source": [
    "urlencoded_post_data = \"\"\"\n",
    "csrfmiddlewaretoken=FpoVqUz8XgqapQpERjzx3DHXOpz5EC3UQaM7Nv2DYc5BfmkwHcssbvAijwnbSxw2&next=&comment_notifications=on&title=post+with+image&visible_date=2021-08-18+08%3A45&body-count=1&body-0-deleted=&body-0-order=0&body-0-type=overview&body-0-id=2a3a7170-c3c5-43ea-8ef7-04dbb0f1b5b0&body-0-value-count=1&body-0-value-0-deleted=&body-0-value-0-order=0&body-0-value-0-type=image&body-0-value-0-id=a8f60f89-d510-4d0a-acc8-8c654ec5545e&body-0-value-0-value=3&slug=post-with-image&seo_title=&search_description=&go_live_at=&expire_at=&comments-TOTAL_FORMS=0&comments-INITIAL_FORMS=0&comments-MIN_NUM_FORMS=0&comments-MAX_NUM_FORMS=&action-publish=action-publish\n",
    "\"\"\".lstrip().rstrip()"
   ]
  },
  {
   "cell_type": "code",
   "execution_count": 66,
   "id": "d8d19df0",
   "metadata": {},
   "outputs": [
    {
     "name": "stdout",
     "output_type": "stream",
     "text": [
      "{'action-publish': 'action-publish',\n",
      " 'body-0-deleted': '',\n",
      " 'body-0-id': '2a3a7170-c3c5-43ea-8ef7-04dbb0f1b5b0',\n",
      " 'body-0-order': '0',\n",
      " 'body-0-type': 'overview',\n",
      " 'body-0-value-0-deleted': '',\n",
      " 'body-0-value-0-id': 'a8f60f89-d510-4d0a-acc8-8c654ec5545e',\n",
      " 'body-0-value-0-order': '0',\n",
      " 'body-0-value-0-type': 'image',\n",
      " 'body-0-value-0-value': '3',\n",
      " 'body-0-value-count': '1',\n",
      " 'body-count': '1',\n",
      " 'comment_notifications': 'on',\n",
      " 'comments-INITIAL_FORMS': '0',\n",
      " 'comments-MAX_NUM_FORMS': '',\n",
      " 'comments-MIN_NUM_FORMS': '0',\n",
      " 'comments-TOTAL_FORMS': '0',\n",
      " 'csrfmiddlewaretoken': 'FpoVqUz8XgqapQpERjzx3DHXOpz5EC3UQaM7Nv2DYc5BfmkwHcssbvAijwnbSxw2',\n",
      " 'expire_at': '',\n",
      " 'go_live_at': '',\n",
      " 'next': '',\n",
      " 'search_description': '',\n",
      " 'seo_title': '',\n",
      " 'slug': 'post-with-image',\n",
      " 'title': 'post with image',\n",
      " 'visible_date': '2021-08-18 08:45'}\n"
     ]
    },
    {
     "data": {
      "application/javascript": [
       "\n",
       "            setTimeout(function() {\n",
       "                var nbb_cell_id = 66;\n",
       "                var nbb_unformatted_code = \"dict_post_data = {\\n    k: v[0] for k, v in parse_qs(urlencoded_post_data, keep_blank_values=True).items()\\n}\\npprint(dict_post_data)\";\n",
       "                var nbb_formatted_code = \"dict_post_data = {\\n    k: v[0] for k, v in parse_qs(urlencoded_post_data, keep_blank_values=True).items()\\n}\\npprint(dict_post_data)\";\n",
       "                var nbb_cells = Jupyter.notebook.get_cells();\n",
       "                for (var i = 0; i < nbb_cells.length; ++i) {\n",
       "                    if (nbb_cells[i].input_prompt_number == nbb_cell_id) {\n",
       "                        if (nbb_cells[i].get_text() == nbb_unformatted_code) {\n",
       "                             nbb_cells[i].set_text(nbb_formatted_code);\n",
       "                        }\n",
       "                        break;\n",
       "                    }\n",
       "                }\n",
       "            }, 500);\n",
       "            "
      ],
      "text/plain": [
       "<IPython.core.display.Javascript object>"
      ]
     },
     "metadata": {},
     "output_type": "display_data"
    }
   ],
   "source": [
    "dict_post_data = {\n",
    "    k: v[0] for k, v in parse_qs(urlencoded_post_data, keep_blank_values=True).items()\n",
    "}\n",
    "pprint(dict_post_data)"
   ]
  },
  {
   "cell_type": "code",
   "execution_count": 67,
   "id": "94c3a23d",
   "metadata": {},
   "outputs": [
    {
     "data": {
      "text/plain": [
       "{'action-publish': 'action-publish',\n",
       " 'body-0-deleted': '',\n",
       " 'body-0-id': '2a3a7170-c3c5-43ea-8ef7-04dbb0f1b5b0',\n",
       " 'body-0-order': '0',\n",
       " 'body-0-type': 'overview',\n",
       " 'body-0-value-0-deleted': '',\n",
       " 'body-0-value-0-id': 'a8f60f89-d510-4d0a-acc8-8c654ec5545e',\n",
       " 'body-0-value-0-order': '0',\n",
       " 'body-0-value-0-type': 'image',\n",
       " 'body-0-value-0-value': '3',\n",
       " 'body-0-value-count': '1',\n",
       " 'body-count': '1',\n",
       " 'comment_notifications': 'on',\n",
       " 'comments-INITIAL_FORMS': '0',\n",
       " 'comments-MAX_NUM_FORMS': '',\n",
       " 'comments-MIN_NUM_FORMS': '0',\n",
       " 'comments-TOTAL_FORMS': '0',\n",
       " 'csrfmiddlewaretoken': 'FpoVqUz8XgqapQpERjzx3DHXOpz5EC3UQaM7Nv2DYc5BfmkwHcssbvAijwnbSxw2',\n",
       " 'expire_at': '',\n",
       " 'go_live_at': '',\n",
       " 'next': '',\n",
       " 'search_description': '',\n",
       " 'seo_title': '',\n",
       " 'slug': 'post-with-image',\n",
       " 'title': 'post with image',\n",
       " 'visible_date': '2021-08-18 08:45'}"
      ]
     },
     "execution_count": 67,
     "metadata": {},
     "output_type": "execute_result"
    },
    {
     "data": {
      "application/javascript": [
       "\n",
       "            setTimeout(function() {\n",
       "                var nbb_cell_id = 67;\n",
       "                var nbb_unformatted_code = \"{'action-publish': 'action-publish',\\n 'body-0-deleted': '',\\n 'body-0-id': '2a3a7170-c3c5-43ea-8ef7-04dbb0f1b5b0',\\n 'body-0-order': '0',\\n 'body-0-type': 'overview',\\n 'body-0-value-0-deleted': '',\\n 'body-0-value-0-id': 'a8f60f89-d510-4d0a-acc8-8c654ec5545e',\\n 'body-0-value-0-order': '0',\\n 'body-0-value-0-type': 'image',\\n 'body-0-value-0-value': '3',\\n 'body-0-value-count': '1',\\n 'body-count': '1',\\n 'comment_notifications': 'on',\\n 'comments-INITIAL_FORMS': '0',\\n 'comments-MAX_NUM_FORMS': '',\\n 'comments-MIN_NUM_FORMS': '0',\\n 'comments-TOTAL_FORMS': '0',\\n 'csrfmiddlewaretoken': 'FpoVqUz8XgqapQpERjzx3DHXOpz5EC3UQaM7Nv2DYc5BfmkwHcssbvAijwnbSxw2',\\n 'expire_at': '',\\n 'go_live_at': '',\\n 'next': '',\\n 'search_description': '',\\n 'seo_title': '',\\n 'slug': 'post-with-image',\\n 'title': 'post with image',\\n 'visible_date': '2021-08-18 08:45'}\";\n",
       "                var nbb_formatted_code = \"{\\n    \\\"action-publish\\\": \\\"action-publish\\\",\\n    \\\"body-0-deleted\\\": \\\"\\\",\\n    \\\"body-0-id\\\": \\\"2a3a7170-c3c5-43ea-8ef7-04dbb0f1b5b0\\\",\\n    \\\"body-0-order\\\": \\\"0\\\",\\n    \\\"body-0-type\\\": \\\"overview\\\",\\n    \\\"body-0-value-0-deleted\\\": \\\"\\\",\\n    \\\"body-0-value-0-id\\\": \\\"a8f60f89-d510-4d0a-acc8-8c654ec5545e\\\",\\n    \\\"body-0-value-0-order\\\": \\\"0\\\",\\n    \\\"body-0-value-0-type\\\": \\\"image\\\",\\n    \\\"body-0-value-0-value\\\": \\\"3\\\",\\n    \\\"body-0-value-count\\\": \\\"1\\\",\\n    \\\"body-count\\\": \\\"1\\\",\\n    \\\"comment_notifications\\\": \\\"on\\\",\\n    \\\"comments-INITIAL_FORMS\\\": \\\"0\\\",\\n    \\\"comments-MAX_NUM_FORMS\\\": \\\"\\\",\\n    \\\"comments-MIN_NUM_FORMS\\\": \\\"0\\\",\\n    \\\"comments-TOTAL_FORMS\\\": \\\"0\\\",\\n    \\\"csrfmiddlewaretoken\\\": \\\"FpoVqUz8XgqapQpERjzx3DHXOpz5EC3UQaM7Nv2DYc5BfmkwHcssbvAijwnbSxw2\\\",\\n    \\\"expire_at\\\": \\\"\\\",\\n    \\\"go_live_at\\\": \\\"\\\",\\n    \\\"next\\\": \\\"\\\",\\n    \\\"search_description\\\": \\\"\\\",\\n    \\\"seo_title\\\": \\\"\\\",\\n    \\\"slug\\\": \\\"post-with-image\\\",\\n    \\\"title\\\": \\\"post with image\\\",\\n    \\\"visible_date\\\": \\\"2021-08-18 08:45\\\",\\n}\";\n",
       "                var nbb_cells = Jupyter.notebook.get_cells();\n",
       "                for (var i = 0; i < nbb_cells.length; ++i) {\n",
       "                    if (nbb_cells[i].input_prompt_number == nbb_cell_id) {\n",
       "                        if (nbb_cells[i].get_text() == nbb_unformatted_code) {\n",
       "                             nbb_cells[i].set_text(nbb_formatted_code);\n",
       "                        }\n",
       "                        break;\n",
       "                    }\n",
       "                }\n",
       "            }, 500);\n",
       "            "
      ],
      "text/plain": [
       "<IPython.core.display.Javascript object>"
      ]
     },
     "metadata": {},
     "output_type": "display_data"
    }
   ],
   "source": [
    "{\n",
    "    \"action-publish\": \"action-publish\",\n",
    "    \"body-0-deleted\": \"\",\n",
    "    \"body-0-id\": \"2a3a7170-c3c5-43ea-8ef7-04dbb0f1b5b0\",\n",
    "    \"body-0-order\": \"0\",\n",
    "    \"body-0-type\": \"overview\",\n",
    "    \"body-0-value-0-deleted\": \"\",\n",
    "    \"body-0-value-0-id\": \"a8f60f89-d510-4d0a-acc8-8c654ec5545e\",\n",
    "    \"body-0-value-0-order\": \"0\",\n",
    "    \"body-0-value-0-type\": \"image\",\n",
    "    \"body-0-value-0-value\": \"3\",\n",
    "    \"body-0-value-count\": \"1\",\n",
    "    \"body-count\": \"1\",\n",
    "    \"comment_notifications\": \"on\",\n",
    "    \"comments-INITIAL_FORMS\": \"0\",\n",
    "    \"comments-MAX_NUM_FORMS\": \"\",\n",
    "    \"comments-MIN_NUM_FORMS\": \"0\",\n",
    "    \"comments-TOTAL_FORMS\": \"0\",\n",
    "    \"csrfmiddlewaretoken\": \"FpoVqUz8XgqapQpERjzx3DHXOpz5EC3UQaM7Nv2DYc5BfmkwHcssbvAijwnbSxw2\",\n",
    "    \"expire_at\": \"\",\n",
    "    \"go_live_at\": \"\",\n",
    "    \"next\": \"\",\n",
    "    \"search_description\": \"\",\n",
    "    \"seo_title\": \"\",\n",
    "    \"slug\": \"post-with-image\",\n",
    "    \"title\": \"post with image\",\n",
    "    \"visible_date\": \"2021-08-18 08:45\",\n",
    "}"
   ]
  },
  {
   "cell_type": "code",
   "execution_count": 68,
   "id": "599c9b7b",
   "metadata": {},
   "outputs": [
    {
     "data": {
      "text/plain": [
       "3"
      ]
     },
     "execution_count": 68,
     "metadata": {},
     "output_type": "execute_result"
    },
    {
     "data": {
      "application/javascript": [
       "\n",
       "            setTimeout(function() {\n",
       "                var nbb_cell_id = 68;\n",
       "                var nbb_unformatted_code = \"Image.objects.last().pk\";\n",
       "                var nbb_formatted_code = \"Image.objects.last().pk\";\n",
       "                var nbb_cells = Jupyter.notebook.get_cells();\n",
       "                for (var i = 0; i < nbb_cells.length; ++i) {\n",
       "                    if (nbb_cells[i].input_prompt_number == nbb_cell_id) {\n",
       "                        if (nbb_cells[i].get_text() == nbb_unformatted_code) {\n",
       "                             nbb_cells[i].set_text(nbb_formatted_code);\n",
       "                        }\n",
       "                        break;\n",
       "                    }\n",
       "                }\n",
       "            }, 500);\n",
       "            "
      ],
      "text/plain": [
       "<IPython.core.display.Javascript object>"
      ]
     },
     "metadata": {},
     "output_type": "display_data"
    }
   ],
   "source": [
    "Image.objects.last().pk"
   ]
  },
  {
   "cell_type": "code",
   "execution_count": 69,
   "id": "4a8dbe30",
   "metadata": {},
   "outputs": [
    {
     "data": {
      "application/javascript": [
       "\n",
       "            setTimeout(function() {\n",
       "                var nbb_cell_id = 69;\n",
       "                var nbb_unformatted_code = \"post = Post.objects.last()\";\n",
       "                var nbb_formatted_code = \"post = Post.objects.last()\";\n",
       "                var nbb_cells = Jupyter.notebook.get_cells();\n",
       "                for (var i = 0; i < nbb_cells.length; ++i) {\n",
       "                    if (nbb_cells[i].input_prompt_number == nbb_cell_id) {\n",
       "                        if (nbb_cells[i].get_text() == nbb_unformatted_code) {\n",
       "                             nbb_cells[i].set_text(nbb_formatted_code);\n",
       "                        }\n",
       "                        break;\n",
       "                    }\n",
       "                }\n",
       "            }, 500);\n",
       "            "
      ],
      "text/plain": [
       "<IPython.core.display.Javascript object>"
      ]
     },
     "metadata": {},
     "output_type": "display_data"
    }
   ],
   "source": [
    "post = Post.objects.last()"
   ]
  },
  {
   "cell_type": "code",
   "execution_count": 76,
   "id": "079753b8",
   "metadata": {},
   "outputs": [
    {
     "data": {
      "text/plain": [
       "[{'type': 'overview', 'value': [{'type': 'image', 'value': 3, 'id': 'a8f60f89-d510-4d0a-acc8-8c654ec5545e'}], 'id': '2a3a7170-c3c5-43ea-8ef7-04dbb0f1b5b0'}]"
      ]
     },
     "execution_count": 76,
     "metadata": {},
     "output_type": "execute_result"
    },
    {
     "data": {
      "application/javascript": [
       "\n",
       "            setTimeout(function() {\n",
       "                var nbb_cell_id = 76;\n",
       "                var nbb_unformatted_code = \"post.body.raw_data\";\n",
       "                var nbb_formatted_code = \"post.body.raw_data\";\n",
       "                var nbb_cells = Jupyter.notebook.get_cells();\n",
       "                for (var i = 0; i < nbb_cells.length; ++i) {\n",
       "                    if (nbb_cells[i].input_prompt_number == nbb_cell_id) {\n",
       "                        if (nbb_cells[i].get_text() == nbb_unformatted_code) {\n",
       "                             nbb_cells[i].set_text(nbb_formatted_code);\n",
       "                        }\n",
       "                        break;\n",
       "                    }\n",
       "                }\n",
       "            }, 500);\n",
       "            "
      ],
      "text/plain": [
       "<IPython.core.display.Javascript object>"
      ]
     },
     "metadata": {},
     "output_type": "display_data"
    }
   ],
   "source": [
    "post.body.raw_data"
   ]
  },
  {
   "cell_type": "code",
   "execution_count": 79,
   "id": "70987a45",
   "metadata": {},
   "outputs": [
    {
     "name": "stdout",
     "output_type": "stream",
     "text": [
      "overview\n"
     ]
    },
    {
     "ename": "AttributeError",
     "evalue": "'StreamValue' object has no attribute 'image'",
     "output_type": "error",
     "traceback": [
      "\u001b[0;31m---------------------------------------------------------------------------\u001b[0m",
      "\u001b[0;31mAttributeError\u001b[0m                            Traceback (most recent call last)",
      "\u001b[0;32m/var/folders/dg/20nm141d3hj2hv67hjl6zmkc0000gn/T/ipykernel_16075/521247893.py\u001b[0m in \u001b[0;36m<module>\u001b[0;34m\u001b[0m\n\u001b[1;32m      1\u001b[0m \u001b[0;32mfor\u001b[0m \u001b[0mblock\u001b[0m \u001b[0;32min\u001b[0m \u001b[0mpost\u001b[0m\u001b[0;34m.\u001b[0m\u001b[0mbody\u001b[0m\u001b[0;34m:\u001b[0m\u001b[0;34m\u001b[0m\u001b[0;34m\u001b[0m\u001b[0m\n\u001b[1;32m      2\u001b[0m     \u001b[0mprint\u001b[0m\u001b[0;34m(\u001b[0m\u001b[0mblock\u001b[0m\u001b[0;34m.\u001b[0m\u001b[0mblock_type\u001b[0m\u001b[0;34m)\u001b[0m\u001b[0;34m\u001b[0m\u001b[0;34m\u001b[0m\u001b[0m\n\u001b[0;32m----> 3\u001b[0;31m     \u001b[0mprint\u001b[0m\u001b[0;34m(\u001b[0m\u001b[0mblock\u001b[0m\u001b[0;34m.\u001b[0m\u001b[0mvalue\u001b[0m\u001b[0;34m.\u001b[0m\u001b[0mimage\u001b[0m\u001b[0;34m)\u001b[0m\u001b[0;34m\u001b[0m\u001b[0;34m\u001b[0m\u001b[0m\n\u001b[0m",
      "\u001b[0;31mAttributeError\u001b[0m: 'StreamValue' object has no attribute 'image'"
     ]
    },
    {
     "data": {
      "application/javascript": [
       "\n",
       "            setTimeout(function() {\n",
       "                var nbb_cell_id = 79;\n",
       "                var nbb_unformatted_code = \"for block in post.body:\\n    print(block.block_type)\\n    print(block.value.image)\";\n",
       "                var nbb_formatted_code = \"for block in post.body:\\n    print(block.block_type)\\n    print(block.value.image)\";\n",
       "                var nbb_cells = Jupyter.notebook.get_cells();\n",
       "                for (var i = 0; i < nbb_cells.length; ++i) {\n",
       "                    if (nbb_cells[i].input_prompt_number == nbb_cell_id) {\n",
       "                        if (nbb_cells[i].get_text() == nbb_unformatted_code) {\n",
       "                             nbb_cells[i].set_text(nbb_formatted_code);\n",
       "                        }\n",
       "                        break;\n",
       "                    }\n",
       "                }\n",
       "            }, 500);\n",
       "            "
      ],
      "text/plain": [
       "<IPython.core.display.Javascript object>"
      ]
     },
     "metadata": {},
     "output_type": "display_data"
    }
   ],
   "source": [
    "for block in post.body:\n",
    "    print(block.block_type)\n",
    "    print(block.value.image)"
   ]
  },
  {
   "cell_type": "code",
   "execution_count": 80,
   "id": "d940731d",
   "metadata": {},
   "outputs": [
    {
     "data": {
      "application/javascript": [
       "\n",
       "            setTimeout(function() {\n",
       "                var nbb_cell_id = 80;\n",
       "                var nbb_unformatted_code = \"overview = post.body[0]\";\n",
       "                var nbb_formatted_code = \"overview = post.body[0]\";\n",
       "                var nbb_cells = Jupyter.notebook.get_cells();\n",
       "                for (var i = 0; i < nbb_cells.length; ++i) {\n",
       "                    if (nbb_cells[i].input_prompt_number == nbb_cell_id) {\n",
       "                        if (nbb_cells[i].get_text() == nbb_unformatted_code) {\n",
       "                             nbb_cells[i].set_text(nbb_formatted_code);\n",
       "                        }\n",
       "                        break;\n",
       "                    }\n",
       "                }\n",
       "            }, 500);\n",
       "            "
      ],
      "text/plain": [
       "<IPython.core.display.Javascript object>"
      ]
     },
     "metadata": {},
     "output_type": "display_data"
    }
   ],
   "source": [
    "overview = post.body[0]"
   ]
  },
  {
   "cell_type": "code",
   "execution_count": 81,
   "id": "182d087f",
   "metadata": {},
   "outputs": [
    {
     "data": {
      "text/plain": [
       "<block overview: <StreamValue [<block image: <Image: IMG_0655.jpeg>>]>>"
      ]
     },
     "execution_count": 81,
     "metadata": {},
     "output_type": "execute_result"
    },
    {
     "data": {
      "application/javascript": [
       "\n",
       "            setTimeout(function() {\n",
       "                var nbb_cell_id = 81;\n",
       "                var nbb_unformatted_code = \"overview\";\n",
       "                var nbb_formatted_code = \"overview\";\n",
       "                var nbb_cells = Jupyter.notebook.get_cells();\n",
       "                for (var i = 0; i < nbb_cells.length; ++i) {\n",
       "                    if (nbb_cells[i].input_prompt_number == nbb_cell_id) {\n",
       "                        if (nbb_cells[i].get_text() == nbb_unformatted_code) {\n",
       "                             nbb_cells[i].set_text(nbb_formatted_code);\n",
       "                        }\n",
       "                        break;\n",
       "                    }\n",
       "                }\n",
       "            }, 500);\n",
       "            "
      ],
      "text/plain": [
       "<IPython.core.display.Javascript object>"
      ]
     },
     "metadata": {},
     "output_type": "display_data"
    }
   ],
   "source": [
    "overview"
   ]
  },
  {
   "cell_type": "code",
   "execution_count": 82,
   "id": "fe64eb9e",
   "metadata": {},
   "outputs": [
    {
     "ename": "TypeError",
     "evalue": "'StreamChild' object is not iterable",
     "output_type": "error",
     "traceback": [
      "\u001b[0;31m---------------------------------------------------------------------------\u001b[0m",
      "\u001b[0;31mTypeError\u001b[0m                                 Traceback (most recent call last)",
      "\u001b[0;32m/var/folders/dg/20nm141d3hj2hv67hjl6zmkc0000gn/T/ipykernel_16075/3906459508.py\u001b[0m in \u001b[0;36m<module>\u001b[0;34m\u001b[0m\n\u001b[0;32m----> 1\u001b[0;31m \u001b[0;32mfor\u001b[0m \u001b[0mblock\u001b[0m \u001b[0;32min\u001b[0m \u001b[0moverview\u001b[0m\u001b[0;34m:\u001b[0m\u001b[0;34m\u001b[0m\u001b[0;34m\u001b[0m\u001b[0m\n\u001b[0m\u001b[1;32m      2\u001b[0m     \u001b[0mprint\u001b[0m\u001b[0;34m(\u001b[0m\u001b[0mblock\u001b[0m\u001b[0;34m.\u001b[0m\u001b[0mblock_type\u001b[0m\u001b[0;34m)\u001b[0m\u001b[0;34m\u001b[0m\u001b[0;34m\u001b[0m\u001b[0m\n",
      "\u001b[0;31mTypeError\u001b[0m: 'StreamChild' object is not iterable"
     ]
    },
    {
     "data": {
      "application/javascript": [
       "\n",
       "            setTimeout(function() {\n",
       "                var nbb_cell_id = 82;\n",
       "                var nbb_unformatted_code = \"for block in overview:\\n    print(block.block_type)\";\n",
       "                var nbb_formatted_code = \"for block in overview:\\n    print(block.block_type)\";\n",
       "                var nbb_cells = Jupyter.notebook.get_cells();\n",
       "                for (var i = 0; i < nbb_cells.length; ++i) {\n",
       "                    if (nbb_cells[i].input_prompt_number == nbb_cell_id) {\n",
       "                        if (nbb_cells[i].get_text() == nbb_unformatted_code) {\n",
       "                             nbb_cells[i].set_text(nbb_formatted_code);\n",
       "                        }\n",
       "                        break;\n",
       "                    }\n",
       "                }\n",
       "            }, 500);\n",
       "            "
      ],
      "text/plain": [
       "<IPython.core.display.Javascript object>"
      ]
     },
     "metadata": {},
     "output_type": "display_data"
    }
   ],
   "source": [
    "for block in overview:\n",
    "    print(block.block_type)"
   ]
  },
  {
   "cell_type": "code",
   "execution_count": 83,
   "id": "5a58fd89",
   "metadata": {},
   "outputs": [
    {
     "data": {
      "text/plain": [
       "['__class__',\n",
       " '__delattr__',\n",
       " '__dict__',\n",
       " '__dir__',\n",
       " '__doc__',\n",
       " '__eq__',\n",
       " '__format__',\n",
       " '__ge__',\n",
       " '__getattribute__',\n",
       " '__gt__',\n",
       " '__hash__',\n",
       " '__init__',\n",
       " '__init_subclass__',\n",
       " '__le__',\n",
       " '__lt__',\n",
       " '__module__',\n",
       " '__ne__',\n",
       " '__new__',\n",
       " '__reduce__',\n",
       " '__reduce_ex__',\n",
       " '__repr__',\n",
       " '__setattr__',\n",
       " '__sizeof__',\n",
       " '__str__',\n",
       " '__subclasshook__',\n",
       " '__weakref__',\n",
       " '_as_tuple',\n",
       " 'block',\n",
       " 'block_type',\n",
       " 'errors',\n",
       " 'get_prep_value',\n",
       " 'id',\n",
       " 'id_for_label',\n",
       " 'prefix',\n",
       " 'render',\n",
       " 'render_as_block',\n",
       " 'value']"
      ]
     },
     "execution_count": 83,
     "metadata": {},
     "output_type": "execute_result"
    },
    {
     "data": {
      "application/javascript": [
       "\n",
       "            setTimeout(function() {\n",
       "                var nbb_cell_id = 83;\n",
       "                var nbb_unformatted_code = \"dir(overview)\";\n",
       "                var nbb_formatted_code = \"dir(overview)\";\n",
       "                var nbb_cells = Jupyter.notebook.get_cells();\n",
       "                for (var i = 0; i < nbb_cells.length; ++i) {\n",
       "                    if (nbb_cells[i].input_prompt_number == nbb_cell_id) {\n",
       "                        if (nbb_cells[i].get_text() == nbb_unformatted_code) {\n",
       "                             nbb_cells[i].set_text(nbb_formatted_code);\n",
       "                        }\n",
       "                        break;\n",
       "                    }\n",
       "                }\n",
       "            }, 500);\n",
       "            "
      ],
      "text/plain": [
       "<IPython.core.display.Javascript object>"
      ]
     },
     "metadata": {},
     "output_type": "display_data"
    }
   ],
   "source": [
    "dir(overview)"
   ]
  },
  {
   "cell_type": "code",
   "execution_count": 88,
   "id": "5413a68e",
   "metadata": {},
   "outputs": [
    {
     "data": {
      "text/plain": [
       "<cast.models.ContentBlock at 0x10ce01700>"
      ]
     },
     "execution_count": 88,
     "metadata": {},
     "output_type": "execute_result"
    },
    {
     "data": {
      "application/javascript": [
       "\n",
       "            setTimeout(function() {\n",
       "                var nbb_cell_id = 88;\n",
       "                var nbb_unformatted_code = \"overview.block\";\n",
       "                var nbb_formatted_code = \"overview.block\";\n",
       "                var nbb_cells = Jupyter.notebook.get_cells();\n",
       "                for (var i = 0; i < nbb_cells.length; ++i) {\n",
       "                    if (nbb_cells[i].input_prompt_number == nbb_cell_id) {\n",
       "                        if (nbb_cells[i].get_text() == nbb_unformatted_code) {\n",
       "                             nbb_cells[i].set_text(nbb_formatted_code);\n",
       "                        }\n",
       "                        break;\n",
       "                    }\n",
       "                }\n",
       "            }, 500);\n",
       "            "
      ],
      "text/plain": [
       "<IPython.core.display.Javascript object>"
      ]
     },
     "metadata": {},
     "output_type": "display_data"
    }
   ],
   "source": [
    "overview.block"
   ]
  },
  {
   "cell_type": "code",
   "execution_count": 94,
   "id": "f2c7579f",
   "metadata": {},
   "outputs": [
    {
     "name": "stdout",
     "output_type": "stream",
     "text": [
      "image\n"
     ]
    },
    {
     "data": {
      "application/javascript": [
       "\n",
       "            setTimeout(function() {\n",
       "                var nbb_cell_id = 94;\n",
       "                var nbb_unformatted_code = \"for block in overview.value:\\n    print(block.block_type)\";\n",
       "                var nbb_formatted_code = \"for block in overview.value:\\n    print(block.block_type)\";\n",
       "                var nbb_cells = Jupyter.notebook.get_cells();\n",
       "                for (var i = 0; i < nbb_cells.length; ++i) {\n",
       "                    if (nbb_cells[i].input_prompt_number == nbb_cell_id) {\n",
       "                        if (nbb_cells[i].get_text() == nbb_unformatted_code) {\n",
       "                             nbb_cells[i].set_text(nbb_formatted_code);\n",
       "                        }\n",
       "                        break;\n",
       "                    }\n",
       "                }\n",
       "            }, 500);\n",
       "            "
      ],
      "text/plain": [
       "<IPython.core.display.Javascript object>"
      ]
     },
     "metadata": {},
     "output_type": "display_data"
    }
   ],
   "source": [
    "for block in overview.value:\n",
    "    print(block.block_type)"
   ]
  },
  {
   "cell_type": "code",
   "execution_count": 95,
   "id": "675ef607",
   "metadata": {},
   "outputs": [
    {
     "data": {
      "text/plain": [
       "{'image': cast.models.Image,\n",
       " 'video': cast.models.Video,\n",
       " 'gallery': cast.models.Gallery,\n",
       " 'audio': cast.models.Audio}"
      ]
     },
     "execution_count": 95,
     "metadata": {},
     "output_type": "execute_result"
    },
    {
     "data": {
      "application/javascript": [
       "\n",
       "            setTimeout(function() {\n",
       "                var nbb_cell_id = 95;\n",
       "                var nbb_unformatted_code = \"post.media_model_lookup\";\n",
       "                var nbb_formatted_code = \"post.media_model_lookup\";\n",
       "                var nbb_cells = Jupyter.notebook.get_cells();\n",
       "                for (var i = 0; i < nbb_cells.length; ++i) {\n",
       "                    if (nbb_cells[i].input_prompt_number == nbb_cell_id) {\n",
       "                        if (nbb_cells[i].get_text() == nbb_unformatted_code) {\n",
       "                             nbb_cells[i].set_text(nbb_formatted_code);\n",
       "                        }\n",
       "                        break;\n",
       "                    }\n",
       "                }\n",
       "            }, 500);\n",
       "            "
      ],
      "text/plain": [
       "<IPython.core.display.Javascript object>"
      ]
     },
     "metadata": {},
     "output_type": "display_data"
    }
   ],
   "source": [
    "post.media_model_lookup"
   ]
  },
  {
   "cell_type": "code",
   "execution_count": 99,
   "id": "edc6da22",
   "metadata": {},
   "outputs": [
    {
     "name": "stdout",
     "output_type": "stream",
     "text": [
      "image IMG_0655.jpeg 3\n"
     ]
    },
    {
     "data": {
      "application/javascript": [
       "\n",
       "            setTimeout(function() {\n",
       "                var nbb_cell_id = 99;\n",
       "                var nbb_unformatted_code = \"for content_block in post.body:\\n    for block in content_block.value:\\n        if block.block_type in post.media_model_lookup:\\n            print(block.block_type, block.value, block.value.id)\";\n",
       "                var nbb_formatted_code = \"for content_block in post.body:\\n    for block in content_block.value:\\n        if block.block_type in post.media_model_lookup:\\n            print(block.block_type, block.value, block.value.id)\";\n",
       "                var nbb_cells = Jupyter.notebook.get_cells();\n",
       "                for (var i = 0; i < nbb_cells.length; ++i) {\n",
       "                    if (nbb_cells[i].input_prompt_number == nbb_cell_id) {\n",
       "                        if (nbb_cells[i].get_text() == nbb_unformatted_code) {\n",
       "                             nbb_cells[i].set_text(nbb_formatted_code);\n",
       "                        }\n",
       "                        break;\n",
       "                    }\n",
       "                }\n",
       "            }, 500);\n",
       "            "
      ],
      "text/plain": [
       "<IPython.core.display.Javascript object>"
      ]
     },
     "metadata": {},
     "output_type": "display_data"
    }
   ],
   "source": [
    "for content_block in post.body:\n",
    "    for block in content_block.value:\n",
    "        if block.block_type in post.media_model_lookup:\n",
    "            print(block.block_type, block.value, block.value.id)"
   ]
  },
  {
   "cell_type": "code",
   "execution_count": 101,
   "id": "4f8abf56",
   "metadata": {},
   "outputs": [
    {
     "data": {
      "text/plain": [
       "int"
      ]
     },
     "execution_count": 101,
     "metadata": {},
     "output_type": "execute_result"
    },
    {
     "data": {
      "application/javascript": [
       "\n",
       "            setTimeout(function() {\n",
       "                var nbb_cell_id = 101;\n",
       "                var nbb_unformatted_code = \"type(block.value.id)\";\n",
       "                var nbb_formatted_code = \"type(block.value.id)\";\n",
       "                var nbb_cells = Jupyter.notebook.get_cells();\n",
       "                for (var i = 0; i < nbb_cells.length; ++i) {\n",
       "                    if (nbb_cells[i].input_prompt_number == nbb_cell_id) {\n",
       "                        if (nbb_cells[i].get_text() == nbb_unformatted_code) {\n",
       "                             nbb_cells[i].set_text(nbb_formatted_code);\n",
       "                        }\n",
       "                        break;\n",
       "                    }\n",
       "                }\n",
       "            }, 500);\n",
       "            "
      ],
      "text/plain": [
       "<IPython.core.display.Javascript object>"
      ]
     },
     "metadata": {},
     "output_type": "display_data"
    }
   ],
   "source": [
    "type(block.value.id)"
   ]
  },
  {
   "cell_type": "markdown",
   "id": "06f7d5ee",
   "metadata": {},
   "source": [
    "# post with gallery"
   ]
  },
  {
   "cell_type": "code",
   "execution_count": 46,
   "id": "3619a471",
   "metadata": {},
   "outputs": [],
   "source": [
    "urlencoded_post_data = \"\"\"\n",
    "csrfmiddlewaretoken=EgNhqOLJavptFTBCoQiFj7FrDbjxRNxpP1btNpeebr4UvpwueJbArZyM8i7D5I0x&next=&comment_notifications=on&title=post+with+gallery&visible_date=2021-08-19+09%3A00&body-count=1&body-0-deleted=&body-0-order=0&body-0-type=overview&body-0-id=1022bed7-2674-473b-a355-e5e6440afd2f&body-0-value-count=1&body-0-value-0-deleted=&body-0-value-0-order=0&body-0-value-0-type=gallery&body-0-value-0-id=f4c6073d-359b-4bc6-b24a-296cb8ede3cd&body-0-value-0-value-count=1&body-0-value-0-value-0-deleted=&body-0-value-0-value-0-order=0&body-0-value-0-value-0-type=&body-0-value-0-value-0-id=&body-0-value-0-value-0-value=3&slug=post-with-gallery&seo_title=&search_description=&go_live_at=&expire_at=&comments-TOTAL_FORMS=0&comments-INITIAL_FORMS=0&comments-MIN_NUM_FORMS=0&comments-MAX_NUM_FORMS=&action-publish=action-publish\n",
    "\"\"\".lstrip().rstrip()"
   ]
  },
  {
   "cell_type": "code",
   "execution_count": 49,
   "id": "44a27e55",
   "metadata": {},
   "outputs": [
    {
     "data": {
      "text/plain": [
       "{'csrfmiddlewaretoken': ['EgNhqOLJavptFTBCoQiFj7FrDbjxRNxpP1btNpeebr4UvpwueJbArZyM8i7D5I0x'],\n",
       " 'next': [''],\n",
       " 'comment_notifications': ['on'],\n",
       " 'title': ['post with gallery'],\n",
       " 'visible_date': ['2021-08-19 09:00'],\n",
       " 'body-count': ['1'],\n",
       " 'body-0-deleted': [''],\n",
       " 'body-0-order': ['0'],\n",
       " 'body-0-type': ['overview'],\n",
       " 'body-0-id': ['1022bed7-2674-473b-a355-e5e6440afd2f'],\n",
       " 'body-0-value-count': ['1'],\n",
       " 'body-0-value-0-deleted': [''],\n",
       " 'body-0-value-0-order': ['0'],\n",
       " 'body-0-value-0-type': ['gallery'],\n",
       " 'body-0-value-0-id': ['f4c6073d-359b-4bc6-b24a-296cb8ede3cd'],\n",
       " 'body-0-value-0-value-count': ['1'],\n",
       " 'body-0-value-0-value-0-deleted': [''],\n",
       " 'body-0-value-0-value-0-order': ['0'],\n",
       " 'body-0-value-0-value-0-type': [''],\n",
       " 'body-0-value-0-value-0-id': [''],\n",
       " 'body-0-value-0-value-0-value': ['3'],\n",
       " 'slug': ['post-with-gallery'],\n",
       " 'seo_title': [''],\n",
       " 'search_description': [''],\n",
       " 'go_live_at': [''],\n",
       " 'expire_at': [''],\n",
       " 'comments-TOTAL_FORMS': ['0'],\n",
       " 'comments-INITIAL_FORMS': ['0'],\n",
       " 'comments-MIN_NUM_FORMS': ['0'],\n",
       " 'comments-MAX_NUM_FORMS': [''],\n",
       " 'action-publish': ['action-publish']}"
      ]
     },
     "execution_count": 49,
     "metadata": {},
     "output_type": "execute_result"
    }
   ],
   "source": [
    "parse_qs(urlencoded_post_data, keep_blank_values=True)"
   ]
  },
  {
   "cell_type": "code",
   "execution_count": 103,
   "id": "17714fa5",
   "metadata": {},
   "outputs": [
    {
     "name": "stdout",
     "output_type": "stream",
     "text": [
      "{'action-publish': 'action-publish',\n",
      " 'body-0-deleted': '',\n",
      " 'body-0-id': '1022bed7-2674-473b-a355-e5e6440afd2f',\n",
      " 'body-0-order': '0',\n",
      " 'body-0-type': 'overview',\n",
      " 'body-0-value-0-deleted': '',\n",
      " 'body-0-value-0-id': 'f4c6073d-359b-4bc6-b24a-296cb8ede3cd',\n",
      " 'body-0-value-0-order': '0',\n",
      " 'body-0-value-0-type': 'gallery',\n",
      " 'body-0-value-0-value-0-deleted': '',\n",
      " 'body-0-value-0-value-0-id': '',\n",
      " 'body-0-value-0-value-0-order': '0',\n",
      " 'body-0-value-0-value-0-type': '',\n",
      " 'body-0-value-0-value-0-value': '3',\n",
      " 'body-0-value-0-value-count': '1',\n",
      " 'body-0-value-count': '1',\n",
      " 'body-count': '1',\n",
      " 'comment_notifications': 'on',\n",
      " 'comments-INITIAL_FORMS': '0',\n",
      " 'comments-MAX_NUM_FORMS': '',\n",
      " 'comments-MIN_NUM_FORMS': '0',\n",
      " 'comments-TOTAL_FORMS': '0',\n",
      " 'csrfmiddlewaretoken': 'EgNhqOLJavptFTBCoQiFj7FrDbjxRNxpP1btNpeebr4UvpwueJbArZyM8i7D5I0x',\n",
      " 'expire_at': '',\n",
      " 'go_live_at': '',\n",
      " 'next': '',\n",
      " 'search_description': '',\n",
      " 'seo_title': '',\n",
      " 'slug': 'post-with-gallery',\n",
      " 'title': 'post with gallery',\n",
      " 'visible_date': '2021-08-19 09:00'}\n"
     ]
    },
    {
     "data": {
      "application/javascript": [
       "\n",
       "            setTimeout(function() {\n",
       "                var nbb_cell_id = 103;\n",
       "                var nbb_unformatted_code = \"dict_post_data = {\\n    k: v[0] for k, v in parse_qs(urlencoded_post_data, keep_blank_values=True).items()\\n}\\npprint(dict_post_data)\";\n",
       "                var nbb_formatted_code = \"dict_post_data = {\\n    k: v[0] for k, v in parse_qs(urlencoded_post_data, keep_blank_values=True).items()\\n}\\npprint(dict_post_data)\";\n",
       "                var nbb_cells = Jupyter.notebook.get_cells();\n",
       "                for (var i = 0; i < nbb_cells.length; ++i) {\n",
       "                    if (nbb_cells[i].input_prompt_number == nbb_cell_id) {\n",
       "                        if (nbb_cells[i].get_text() == nbb_unformatted_code) {\n",
       "                             nbb_cells[i].set_text(nbb_formatted_code);\n",
       "                        }\n",
       "                        break;\n",
       "                    }\n",
       "                }\n",
       "            }, 500);\n",
       "            "
      ],
      "text/plain": [
       "<IPython.core.display.Javascript object>"
      ]
     },
     "metadata": {},
     "output_type": "display_data"
    }
   ],
   "source": [
    "dict_post_data = {\n",
    "    k: v[0] for k, v in parse_qs(urlencoded_post_data, keep_blank_values=True).items()\n",
    "}\n",
    "pprint(dict_post_data)"
   ]
  },
  {
   "cell_type": "code",
   "execution_count": 104,
   "id": "2e3beb9d",
   "metadata": {},
   "outputs": [
    {
     "data": {
      "text/plain": [
       "{'action-publish': 'action-publish',\n",
       " 'body-0-deleted': '',\n",
       " 'body-0-id': '1022bed7-2674-473b-a355-e5e6440afd2f',\n",
       " 'body-0-order': '0',\n",
       " 'body-0-type': 'overview',\n",
       " 'body-0-value-0-deleted': '',\n",
       " 'body-0-value-0-id': 'f4c6073d-359b-4bc6-b24a-296cb8ede3cd',\n",
       " 'body-0-value-0-order': '0',\n",
       " 'body-0-value-0-type': 'gallery',\n",
       " 'body-0-value-0-value-0-deleted': '',\n",
       " 'body-0-value-0-value-0-id': '',\n",
       " 'body-0-value-0-value-0-order': '0',\n",
       " 'body-0-value-0-value-0-type': '',\n",
       " 'body-0-value-0-value-0-value': '3',\n",
       " 'body-0-value-0-value-count': '1',\n",
       " 'body-0-value-count': '1',\n",
       " 'body-count': '1',\n",
       " 'comment_notifications': 'on',\n",
       " 'comments-INITIAL_FORMS': '0',\n",
       " 'comments-MAX_NUM_FORMS': '',\n",
       " 'comments-MIN_NUM_FORMS': '0',\n",
       " 'comments-TOTAL_FORMS': '0',\n",
       " 'csrfmiddlewaretoken': 'EgNhqOLJavptFTBCoQiFj7FrDbjxRNxpP1btNpeebr4UvpwueJbArZyM8i7D5I0x',\n",
       " 'expire_at': '',\n",
       " 'go_live_at': '',\n",
       " 'next': '',\n",
       " 'search_description': '',\n",
       " 'seo_title': '',\n",
       " 'slug': 'post-with-gallery',\n",
       " 'title': 'post with gallery',\n",
       " 'visible_date': '2021-08-19 09:00'}"
      ]
     },
     "execution_count": 104,
     "metadata": {},
     "output_type": "execute_result"
    },
    {
     "data": {
      "application/javascript": [
       "\n",
       "            setTimeout(function() {\n",
       "                var nbb_cell_id = 104;\n",
       "                var nbb_unformatted_code = \"{'action-publish': 'action-publish',\\n 'body-0-deleted': '',\\n 'body-0-id': '1022bed7-2674-473b-a355-e5e6440afd2f',\\n 'body-0-order': '0',\\n 'body-0-type': 'overview',\\n 'body-0-value-0-deleted': '',\\n 'body-0-value-0-id': 'f4c6073d-359b-4bc6-b24a-296cb8ede3cd',\\n 'body-0-value-0-order': '0',\\n 'body-0-value-0-type': 'gallery',\\n 'body-0-value-0-value-0-deleted': '',\\n 'body-0-value-0-value-0-id': '',\\n 'body-0-value-0-value-0-order': '0',\\n 'body-0-value-0-value-0-type': '',\\n 'body-0-value-0-value-0-value': '3',\\n 'body-0-value-0-value-count': '1',\\n 'body-0-value-count': '1',\\n 'body-count': '1',\\n 'comment_notifications': 'on',\\n 'comments-INITIAL_FORMS': '0',\\n 'comments-MAX_NUM_FORMS': '',\\n 'comments-MIN_NUM_FORMS': '0',\\n 'comments-TOTAL_FORMS': '0',\\n 'csrfmiddlewaretoken': 'EgNhqOLJavptFTBCoQiFj7FrDbjxRNxpP1btNpeebr4UvpwueJbArZyM8i7D5I0x',\\n 'expire_at': '',\\n 'go_live_at': '',\\n 'next': '',\\n 'search_description': '',\\n 'seo_title': '',\\n 'slug': 'post-with-gallery',\\n 'title': 'post with gallery',\\n 'visible_date': '2021-08-19 09:00'}\";\n",
       "                var nbb_formatted_code = \"{\\n    \\\"action-publish\\\": \\\"action-publish\\\",\\n    \\\"body-0-deleted\\\": \\\"\\\",\\n    \\\"body-0-id\\\": \\\"1022bed7-2674-473b-a355-e5e6440afd2f\\\",\\n    \\\"body-0-order\\\": \\\"0\\\",\\n    \\\"body-0-type\\\": \\\"overview\\\",\\n    \\\"body-0-value-0-deleted\\\": \\\"\\\",\\n    \\\"body-0-value-0-id\\\": \\\"f4c6073d-359b-4bc6-b24a-296cb8ede3cd\\\",\\n    \\\"body-0-value-0-order\\\": \\\"0\\\",\\n    \\\"body-0-value-0-type\\\": \\\"gallery\\\",\\n    \\\"body-0-value-0-value-0-deleted\\\": \\\"\\\",\\n    \\\"body-0-value-0-value-0-id\\\": \\\"\\\",\\n    \\\"body-0-value-0-value-0-order\\\": \\\"0\\\",\\n    \\\"body-0-value-0-value-0-type\\\": \\\"\\\",\\n    \\\"body-0-value-0-value-0-value\\\": \\\"3\\\",\\n    \\\"body-0-value-0-value-count\\\": \\\"1\\\",\\n    \\\"body-0-value-count\\\": \\\"1\\\",\\n    \\\"body-count\\\": \\\"1\\\",\\n    \\\"comment_notifications\\\": \\\"on\\\",\\n    \\\"comments-INITIAL_FORMS\\\": \\\"0\\\",\\n    \\\"comments-MAX_NUM_FORMS\\\": \\\"\\\",\\n    \\\"comments-MIN_NUM_FORMS\\\": \\\"0\\\",\\n    \\\"comments-TOTAL_FORMS\\\": \\\"0\\\",\\n    \\\"csrfmiddlewaretoken\\\": \\\"EgNhqOLJavptFTBCoQiFj7FrDbjxRNxpP1btNpeebr4UvpwueJbArZyM8i7D5I0x\\\",\\n    \\\"expire_at\\\": \\\"\\\",\\n    \\\"go_live_at\\\": \\\"\\\",\\n    \\\"next\\\": \\\"\\\",\\n    \\\"search_description\\\": \\\"\\\",\\n    \\\"seo_title\\\": \\\"\\\",\\n    \\\"slug\\\": \\\"post-with-gallery\\\",\\n    \\\"title\\\": \\\"post with gallery\\\",\\n    \\\"visible_date\\\": \\\"2021-08-19 09:00\\\",\\n}\";\n",
       "                var nbb_cells = Jupyter.notebook.get_cells();\n",
       "                for (var i = 0; i < nbb_cells.length; ++i) {\n",
       "                    if (nbb_cells[i].input_prompt_number == nbb_cell_id) {\n",
       "                        if (nbb_cells[i].get_text() == nbb_unformatted_code) {\n",
       "                             nbb_cells[i].set_text(nbb_formatted_code);\n",
       "                        }\n",
       "                        break;\n",
       "                    }\n",
       "                }\n",
       "            }, 500);\n",
       "            "
      ],
      "text/plain": [
       "<IPython.core.display.Javascript object>"
      ]
     },
     "metadata": {},
     "output_type": "display_data"
    }
   ],
   "source": [
    "{\n",
    "    \"action-publish\": \"action-publish\",\n",
    "    \"body-0-deleted\": \"\",\n",
    "    \"body-0-id\": \"1022bed7-2674-473b-a355-e5e6440afd2f\",\n",
    "    \"body-0-order\": \"0\",\n",
    "    \"body-0-type\": \"overview\",\n",
    "    \"body-0-value-0-deleted\": \"\",\n",
    "    \"body-0-value-0-id\": \"f4c6073d-359b-4bc6-b24a-296cb8ede3cd\",\n",
    "    \"body-0-value-0-order\": \"0\",\n",
    "    \"body-0-value-0-type\": \"gallery\",\n",
    "    \"body-0-value-0-value-0-deleted\": \"\",\n",
    "    \"body-0-value-0-value-0-id\": \"\",\n",
    "    \"body-0-value-0-value-0-order\": \"0\",\n",
    "    \"body-0-value-0-value-0-type\": \"\",\n",
    "    \"body-0-value-0-value-0-value\": \"3\",\n",
    "    \"body-0-value-0-value-count\": \"1\",\n",
    "    \"body-0-value-count\": \"1\",\n",
    "    \"body-count\": \"1\",\n",
    "    \"comment_notifications\": \"on\",\n",
    "    \"comments-INITIAL_FORMS\": \"0\",\n",
    "    \"comments-MAX_NUM_FORMS\": \"\",\n",
    "    \"comments-MIN_NUM_FORMS\": \"0\",\n",
    "    \"comments-TOTAL_FORMS\": \"0\",\n",
    "    \"csrfmiddlewaretoken\": \"EgNhqOLJavptFTBCoQiFj7FrDbjxRNxpP1btNpeebr4UvpwueJbArZyM8i7D5I0x\",\n",
    "    \"expire_at\": \"\",\n",
    "    \"go_live_at\": \"\",\n",
    "    \"next\": \"\",\n",
    "    \"search_description\": \"\",\n",
    "    \"seo_title\": \"\",\n",
    "    \"slug\": \"post-with-gallery\",\n",
    "    \"title\": \"post with gallery\",\n",
    "    \"visible_date\": \"2021-08-19 09:00\",\n",
    "}"
   ]
  },
  {
   "cell_type": "code",
   "execution_count": 105,
   "id": "2903cb43",
   "metadata": {},
   "outputs": [
    {
     "data": {
      "application/javascript": [
       "\n",
       "            setTimeout(function() {\n",
       "                var nbb_cell_id = 105;\n",
       "                var nbb_unformatted_code = \"foo = []\";\n",
       "                var nbb_formatted_code = \"foo = []\";\n",
       "                var nbb_cells = Jupyter.notebook.get_cells();\n",
       "                for (var i = 0; i < nbb_cells.length; ++i) {\n",
       "                    if (nbb_cells[i].input_prompt_number == nbb_cell_id) {\n",
       "                        if (nbb_cells[i].get_text() == nbb_unformatted_code) {\n",
       "                             nbb_cells[i].set_text(nbb_formatted_code);\n",
       "                        }\n",
       "                        break;\n",
       "                    }\n",
       "                }\n",
       "            }, 500);\n",
       "            "
      ],
      "text/plain": [
       "<IPython.core.display.Javascript object>"
      ]
     },
     "metadata": {},
     "output_type": "display_data"
    }
   ],
   "source": [
    "foo = []"
   ]
  },
  {
   "cell_type": "code",
   "execution_count": 106,
   "id": "9a6019d2",
   "metadata": {},
   "outputs": [
    {
     "data": {
      "text/plain": [
       "True"
      ]
     },
     "execution_count": 106,
     "metadata": {},
     "output_type": "execute_result"
    },
    {
     "data": {
      "application/javascript": [
       "\n",
       "            setTimeout(function() {\n",
       "                var nbb_cell_id = 106;\n",
       "                var nbb_unformatted_code = \"isinstance(foo, list)\";\n",
       "                var nbb_formatted_code = \"isinstance(foo, list)\";\n",
       "                var nbb_cells = Jupyter.notebook.get_cells();\n",
       "                for (var i = 0; i < nbb_cells.length; ++i) {\n",
       "                    if (nbb_cells[i].input_prompt_number == nbb_cell_id) {\n",
       "                        if (nbb_cells[i].get_text() == nbb_unformatted_code) {\n",
       "                             nbb_cells[i].set_text(nbb_formatted_code);\n",
       "                        }\n",
       "                        break;\n",
       "                    }\n",
       "                }\n",
       "            }, 500);\n",
       "            "
      ],
      "text/plain": [
       "<IPython.core.display.Javascript object>"
      ]
     },
     "metadata": {},
     "output_type": "display_data"
    }
   ],
   "source": [
    "isinstance(foo, list)"
   ]
  },
  {
   "cell_type": "code",
   "execution_count": 1,
   "id": "161ee2b5",
   "metadata": {},
   "outputs": [],
   "source": [
    "post = Post.objects.last()"
   ]
  },
  {
   "cell_type": "code",
   "execution_count": 2,
   "id": "e25250e0",
   "metadata": {},
   "outputs": [
    {
     "data": {
      "text/plain": [
       "<ImageQuerySet [<Image: IMG_0655.jpeg>]>"
      ]
     },
     "execution_count": 2,
     "metadata": {},
     "output_type": "execute_result"
    }
   ],
   "source": [
    "post.images.all()"
   ]
  },
  {
   "cell_type": "code",
   "execution_count": 3,
   "id": "8c9dad99",
   "metadata": {},
   "outputs": [
    {
     "data": {
      "text/plain": [
       "<QuerySet []>"
      ]
     },
     "execution_count": 3,
     "metadata": {},
     "output_type": "execute_result"
    }
   ],
   "source": [
    "post.galleries.all()"
   ]
  },
  {
   "cell_type": "code",
   "execution_count": 4,
   "id": "f941792f",
   "metadata": {},
   "outputs": [
    {
     "data": {
      "text/plain": [
       "14"
      ]
     },
     "execution_count": 4,
     "metadata": {},
     "output_type": "execute_result"
    }
   ],
   "source": [
    "post.pk"
   ]
  },
  {
   "cell_type": "code",
   "execution_count": 5,
   "id": "a7a4924e",
   "metadata": {},
   "outputs": [
    {
     "data": {
      "text/plain": [
       "<QuerySet []>"
      ]
     },
     "execution_count": 5,
     "metadata": {},
     "output_type": "execute_result"
    }
   ],
   "source": [
    "Gallery.objects.all()"
   ]
  },
  {
   "cell_type": "code",
   "execution_count": 8,
   "id": "72ad7c9b",
   "metadata": {},
   "outputs": [],
   "source": [
    "site = Site.objects.first()"
   ]
  },
  {
   "cell_type": "code",
   "execution_count": 9,
   "id": "5a07324c",
   "metadata": {},
   "outputs": [
    {
     "data": {
      "text/plain": [
       "<Site: localhost [default]>"
      ]
     },
     "execution_count": 9,
     "metadata": {},
     "output_type": "execute_result"
    }
   ],
   "source": [
    "site"
   ]
  },
  {
   "cell_type": "code",
   "execution_count": 10,
   "id": "40cb0ab9",
   "metadata": {},
   "outputs": [
    {
     "data": {
      "text/plain": [
       "'localhost'"
      ]
     },
     "execution_count": 10,
     "metadata": {},
     "output_type": "execute_result"
    }
   ],
   "source": [
    "site.hostname"
   ]
  },
  {
   "cell_type": "code",
   "execution_count": 11,
   "id": "70f0b73f",
   "metadata": {},
   "outputs": [
    {
     "data": {
      "text/plain": [
       "''"
      ]
     },
     "execution_count": 11,
     "metadata": {},
     "output_type": "execute_result"
    }
   ],
   "source": [
    "site.site_name"
   ]
  },
  {
   "cell_type": "code",
   "execution_count": 30,
   "id": "5326098b",
   "metadata": {},
   "outputs": [],
   "source": [
    "root = site.root_page"
   ]
  },
  {
   "cell_type": "code",
   "execution_count": 31,
   "id": "8bc95baa",
   "metadata": {},
   "outputs": [
    {
     "data": {
      "text/plain": [
       "'Welcome to your new Wagtail site!'"
      ]
     },
     "execution_count": 31,
     "metadata": {},
     "output_type": "execute_result"
    }
   ],
   "source": [
    "root.title"
   ]
  },
  {
   "cell_type": "code",
   "execution_count": 15,
   "id": "92045d4e",
   "metadata": {},
   "outputs": [
    {
     "data": {
      "text/plain": [
       "2"
      ]
     },
     "execution_count": 15,
     "metadata": {},
     "output_type": "execute_result"
    }
   ],
   "source": [
    "root.id"
   ]
  },
  {
   "cell_type": "code",
   "execution_count": 16,
   "id": "57085312",
   "metadata": {},
   "outputs": [
    {
     "data": {
      "text/plain": [
       "'home'"
      ]
     },
     "execution_count": 16,
     "metadata": {},
     "output_type": "execute_result"
    }
   ],
   "source": [
    "root.slug"
   ]
  },
  {
   "cell_type": "code",
   "execution_count": 17,
   "id": "2750bd88",
   "metadata": {},
   "outputs": [
    {
     "ename": "AttributeError",
     "evalue": "'Site' object has no attribute 'host_name'",
     "output_type": "error",
     "traceback": [
      "\u001b[0;31m---------------------------------------------------------------------------\u001b[0m",
      "\u001b[0;31mAttributeError\u001b[0m                            Traceback (most recent call last)",
      "\u001b[0;32m/var/folders/dg/20nm141d3hj2hv67hjl6zmkc0000gn/T/ipykernel_52739/1886796839.py\u001b[0m in \u001b[0;36m<module>\u001b[0;34m\u001b[0m\n\u001b[0;32m----> 1\u001b[0;31m \u001b[0msite\u001b[0m\u001b[0;34m.\u001b[0m\u001b[0mhost_name\u001b[0m\u001b[0;34m\u001b[0m\u001b[0;34m\u001b[0m\u001b[0m\n\u001b[0m",
      "\u001b[0;31mAttributeError\u001b[0m: 'Site' object has no attribute 'host_name'"
     ]
    }
   ],
   "source": [
    "site.host_name"
   ]
  },
  {
   "cell_type": "code",
   "execution_count": 18,
   "id": "759153d5",
   "metadata": {},
   "outputs": [
    {
     "data": {
      "text/plain": [
       "['DoesNotExist',\n",
       " 'MultipleObjectsReturned',\n",
       " '__class__',\n",
       " '__delattr__',\n",
       " '__dict__',\n",
       " '__dir__',\n",
       " '__doc__',\n",
       " '__eq__',\n",
       " '__format__',\n",
       " '__ge__',\n",
       " '__getattribute__',\n",
       " '__getstate__',\n",
       " '__gt__',\n",
       " '__hash__',\n",
       " '__init__',\n",
       " '__init_subclass__',\n",
       " '__le__',\n",
       " '__lt__',\n",
       " '__module__',\n",
       " '__ne__',\n",
       " '__new__',\n",
       " '__reduce__',\n",
       " '__reduce_ex__',\n",
       " '__repr__',\n",
       " '__setattr__',\n",
       " '__setstate__',\n",
       " '__sizeof__',\n",
       " '__str__',\n",
       " '__subclasshook__',\n",
       " '__weakref__',\n",
       " '_check_column_name_clashes',\n",
       " '_check_constraints',\n",
       " '_check_default_pk',\n",
       " '_check_field_name_clashes',\n",
       " '_check_fields',\n",
       " '_check_id_field',\n",
       " '_check_index_together',\n",
       " '_check_indexes',\n",
       " '_check_local_fields',\n",
       " '_check_long_column_names',\n",
       " '_check_m2m_through_same_relationship',\n",
       " '_check_managers',\n",
       " '_check_model',\n",
       " '_check_model_name_db_lookup_clashes',\n",
       " '_check_ordering',\n",
       " '_check_property_name_related_field_accessor_clashes',\n",
       " '_check_single_primary_key',\n",
       " '_check_swappable',\n",
       " '_check_unique_together',\n",
       " '_do_insert',\n",
       " '_do_update',\n",
       " '_find_for_request',\n",
       " '_get_FIELD_display',\n",
       " '_get_expr_references',\n",
       " '_get_next_or_previous_by_FIELD',\n",
       " '_get_next_or_previous_in_order',\n",
       " '_get_pk_val',\n",
       " '_get_unique_checks',\n",
       " '_meta',\n",
       " '_perform_date_checks',\n",
       " '_perform_unique_checks',\n",
       " '_prepare_related_fields_for_save',\n",
       " '_save_parents',\n",
       " '_save_table',\n",
       " '_set_pk_val',\n",
       " '_state',\n",
       " 'check',\n",
       " 'clean',\n",
       " 'clean_fields',\n",
       " 'date_error_message',\n",
       " 'delete',\n",
       " 'find_for_request',\n",
       " 'from_db',\n",
       " 'full_clean',\n",
       " 'get_deferred_fields',\n",
       " 'get_site_root_paths',\n",
       " 'hostname',\n",
       " 'id',\n",
       " 'is_default_site',\n",
       " 'natural_key',\n",
       " 'objects',\n",
       " 'pk',\n",
       " 'port',\n",
       " 'prepare_database_save',\n",
       " 'redirects',\n",
       " 'refresh_from_db',\n",
       " 'root_page',\n",
       " 'root_page_id',\n",
       " 'root_url',\n",
       " 'save',\n",
       " 'save_base',\n",
       " 'serializable_value',\n",
       " 'site_name',\n",
       " 'unique_error_message',\n",
       " 'validate_unique']"
      ]
     },
     "execution_count": 18,
     "metadata": {},
     "output_type": "execute_result"
    }
   ],
   "source": [
    "dir(site)"
   ]
  },
  {
   "cell_type": "code",
   "execution_count": 20,
   "id": "f016a5cb",
   "metadata": {},
   "outputs": [
    {
     "data": {
      "text/plain": [
       "['DEFAULT_PREVIEW_MODES',\n",
       " 'DoesNotExist',\n",
       " 'Meta',\n",
       " 'MultipleObjectsReturned',\n",
       " '__class__',\n",
       " '__delattr__',\n",
       " '__dict__',\n",
       " '__dir__',\n",
       " '__doc__',\n",
       " '__eq__',\n",
       " '__format__',\n",
       " '__ge__',\n",
       " '__getattribute__',\n",
       " '__getstate__',\n",
       " '__gt__',\n",
       " '__hash__',\n",
       " '__init__',\n",
       " '__init_subclass__',\n",
       " '__le__',\n",
       " '__lt__',\n",
       " '__module__',\n",
       " '__ne__',\n",
       " '__new__',\n",
       " '__reduce__',\n",
       " '__reduce_ex__',\n",
       " '__repr__',\n",
       " '__setattr__',\n",
       " '__setstate__',\n",
       " '__sizeof__',\n",
       " '__str__',\n",
       " '__subclasshook__',\n",
       " '__weakref__',\n",
       " '_check_column_name_clashes',\n",
       " '_check_constraints',\n",
       " '_check_default_pk',\n",
       " '_check_field_name_clashes',\n",
       " '_check_fields',\n",
       " '_check_id_field',\n",
       " '_check_index_together',\n",
       " '_check_indexes',\n",
       " '_check_local_fields',\n",
       " '_check_long_column_names',\n",
       " '_check_m2m_through_same_relationship',\n",
       " '_check_managers',\n",
       " '_check_model',\n",
       " '_check_model_name_db_lookup_clashes',\n",
       " '_check_ordering',\n",
       " '_check_property_name_related_field_accessor_clashes',\n",
       " '_check_search_fields',\n",
       " '_check_single_primary_key',\n",
       " '_check_swappable',\n",
       " '_check_unique_together',\n",
       " '_clean_parent_page_models',\n",
       " '_clean_subpage_models',\n",
       " '_db_connection',\n",
       " '_do_insert',\n",
       " '_do_update',\n",
       " '_get_FIELD_display',\n",
       " '_get_autogenerated_slug',\n",
       " '_get_basepath',\n",
       " '_get_children_path_interval',\n",
       " '_get_database_connection',\n",
       " '_get_database_cursor',\n",
       " '_get_dummy_header_url',\n",
       " '_get_dummy_headers',\n",
       " '_get_expr_references',\n",
       " '_get_lastpos_in_path',\n",
       " '_get_next_or_previous_by_FIELD',\n",
       " '_get_next_or_previous_in_order',\n",
       " '_get_parent_path_from_path',\n",
       " '_get_path',\n",
       " '_get_pk_val',\n",
       " '_get_serializable_model',\n",
       " '_get_site_root_paths',\n",
       " '_get_unique_checks',\n",
       " '_has_field',\n",
       " '_inc_path',\n",
       " '_int2str',\n",
       " '_meta',\n",
       " '_perform_date_checks',\n",
       " '_perform_unique_checks',\n",
       " '_prepare_pos_var',\n",
       " '_prepare_pos_var_for_add_sibling',\n",
       " '_prepare_pos_var_for_move',\n",
       " '_prepare_related_fields_for_save',\n",
       " '_process_foreign_keys',\n",
       " '_rewrite_node_path',\n",
       " '_save_parents',\n",
       " '_save_table',\n",
       " '_set_pk_val',\n",
       " '_slug_is_available',\n",
       " '_state',\n",
       " '_str2int',\n",
       " '_update_descendant_url_paths',\n",
       " '_valid_pos_for_add_sibling',\n",
       " '_valid_pos_for_move',\n",
       " '_valid_pos_for_sorted_add_sibling',\n",
       " '_valid_pos_for_sorted_move',\n",
       " 'add_child',\n",
       " 'add_root',\n",
       " 'add_sibling',\n",
       " 'ajax_template',\n",
       " 'alias_of',\n",
       " 'alias_of_id',\n",
       " 'aliases',\n",
       " 'aliases_homepage',\n",
       " 'allowed_parent_page_models',\n",
       " 'allowed_subpage_models',\n",
       " 'alphabet',\n",
       " 'approved_schedule',\n",
       " 'base_form_class',\n",
       " 'blog',\n",
       " 'blogindexpage',\n",
       " 'cached_content_type',\n",
       " 'can_create_at',\n",
       " 'can_exist_under',\n",
       " 'can_move_to',\n",
       " 'check',\n",
       " 'clean',\n",
       " 'clean_fields',\n",
       " 'clean_parent_page_models',\n",
       " 'clean_subpage_models',\n",
       " 'comments',\n",
       " 'content_panels',\n",
       " 'content_type',\n",
       " 'content_type_id',\n",
       " 'context_object_name',\n",
       " 'copy',\n",
       " 'copy_all_child_relations',\n",
       " 'copy_child_relation',\n",
       " 'copy_for_translation',\n",
       " 'creatable_subpage_models',\n",
       " 'create_alias',\n",
       " 'current_workflow_state',\n",
       " 'current_workflow_task',\n",
       " 'current_workflow_task_state',\n",
       " 'date_error_message',\n",
       " 'default_exclude_fields_in_copy',\n",
       " 'default_preview_mode',\n",
       " 'delete',\n",
       " 'depth',\n",
       " 'draft_title',\n",
       " 'dump_bulk',\n",
       " 'exclude_fields_in_copy',\n",
       " 'expire_at',\n",
       " 'expired',\n",
       " 'find_problems',\n",
       " 'first_published_at',\n",
       " 'fix_tree',\n",
       " 'formsubmission_set',\n",
       " 'from_db',\n",
       " 'from_json',\n",
       " 'from_serializable_data',\n",
       " 'full_clean',\n",
       " 'full_url',\n",
       " 'gap',\n",
       " 'get_admin_display_title',\n",
       " 'get_ancestors',\n",
       " 'get_annotated_list',\n",
       " 'get_annotated_list_qs',\n",
       " 'get_autocomplete_search_fields',\n",
       " 'get_cached_paths',\n",
       " 'get_children',\n",
       " 'get_children_count',\n",
       " 'get_context',\n",
       " 'get_database_vendor',\n",
       " 'get_default_locale',\n",
       " 'get_deferred_fields',\n",
       " 'get_depth',\n",
       " 'get_descendant_count',\n",
       " 'get_descendants',\n",
       " 'get_descendants_group_count',\n",
       " 'get_edit_handler',\n",
       " 'get_filterable_search_fields',\n",
       " 'get_first_child',\n",
       " 'get_first_root_node',\n",
       " 'get_first_sibling',\n",
       " 'get_foreign_keys',\n",
       " 'get_full_url',\n",
       " 'get_indexed_instance',\n",
       " 'get_indexed_objects',\n",
       " 'get_last_child',\n",
       " 'get_last_root_node',\n",
       " 'get_last_sibling',\n",
       " 'get_latest_revision',\n",
       " 'get_latest_revision_as_page',\n",
       " 'get_next_sibling',\n",
       " 'get_next_siblings',\n",
       " 'get_parent',\n",
       " 'get_prev_sibling',\n",
       " 'get_prev_siblings',\n",
       " 'get_root',\n",
       " 'get_root_nodes',\n",
       " 'get_search_fields',\n",
       " 'get_searchable_search_fields',\n",
       " 'get_siblings',\n",
       " 'get_site',\n",
       " 'get_sitemap_urls',\n",
       " 'get_sorted_pos_queryset',\n",
       " 'get_specific',\n",
       " 'get_static_site_paths',\n",
       " 'get_streamfield_names',\n",
       " 'get_template',\n",
       " 'get_translation',\n",
       " 'get_translation_model',\n",
       " 'get_translation_or_none',\n",
       " 'get_translations',\n",
       " 'get_tree',\n",
       " 'get_url',\n",
       " 'get_url_parts',\n",
       " 'get_verbose_name',\n",
       " 'get_view_restrictions',\n",
       " 'get_workflow',\n",
       " 'go_live_at',\n",
       " 'group_permissions',\n",
       " 'has_translation',\n",
       " 'has_unpublished_changes',\n",
       " 'has_unpublished_subtree',\n",
       " 'has_workflow',\n",
       " 'homepage',\n",
       " 'id',\n",
       " 'indexed_get_content_type',\n",
       " 'indexed_get_parent',\n",
       " 'indexed_get_toplevel_content_type',\n",
       " 'is_child_of',\n",
       " 'is_creatable',\n",
       " 'is_descendant_of',\n",
       " 'is_leaf',\n",
       " 'is_navigable',\n",
       " 'is_previewable',\n",
       " 'is_root',\n",
       " 'is_sibling_of',\n",
       " 'is_site_root',\n",
       " 'last_published_at',\n",
       " 'latest_revision_created_at',\n",
       " 'live',\n",
       " 'live_revision',\n",
       " 'live_revision_id',\n",
       " 'load_bulk',\n",
       " 'locale',\n",
       " 'locale_id',\n",
       " 'localized',\n",
       " 'localized_draft',\n",
       " 'locked',\n",
       " 'locked_at',\n",
       " 'locked_by',\n",
       " 'locked_by_id',\n",
       " 'make_preview_request',\n",
       " 'max_count',\n",
       " 'max_count_per_parent',\n",
       " 'move',\n",
       " 'node_order_by',\n",
       " 'numchild',\n",
       " 'numconv_obj',\n",
       " 'numconv_obj_',\n",
       " 'objects',\n",
       " 'owner',\n",
       " 'owner_id',\n",
       " 'password_required_template',\n",
       " 'path',\n",
       " 'permissions_for_user',\n",
       " 'pk',\n",
       " 'post',\n",
       " 'prepare_database_save',\n",
       " 'preview_modes',\n",
       " 'promote_panels',\n",
       " 'redirect_set',\n",
       " 'refresh_from_db',\n",
       " 'relative_url',\n",
       " 'revisions',\n",
       " 'route',\n",
       " 'save',\n",
       " 'save_base',\n",
       " 'save_revision',\n",
       " 'search_description',\n",
       " 'search_fields',\n",
       " 'seo_title',\n",
       " 'serializable_data',\n",
       " 'serializable_value',\n",
       " 'serve',\n",
       " 'serve_password_required_response',\n",
       " 'serve_preview',\n",
       " 'set_url_path',\n",
       " 'settings_panels',\n",
       " 'show_in_menus',\n",
       " 'show_in_menus_default',\n",
       " 'sites_rooted_here',\n",
       " 'slug',\n",
       " 'specific',\n",
       " 'specific_class',\n",
       " 'specific_deferred',\n",
       " 'status_string',\n",
       " 'steplen',\n",
       " 'subscribers',\n",
       " 'template',\n",
       " 'title',\n",
       " 'to_json',\n",
       " 'translation_key',\n",
       " 'unique_error_message',\n",
       " 'unpublish',\n",
       " 'update_aliases',\n",
       " 'url',\n",
       " 'url_path',\n",
       " 'validate_unique',\n",
       " 'view_restrictions',\n",
       " 'with_content_json',\n",
       " 'workflow_in_progress',\n",
       " 'workflow_states',\n",
       " 'workflowpage']"
      ]
     },
     "execution_count": 20,
     "metadata": {},
     "output_type": "execute_result"
    }
   ],
   "source": [
    "dir(root)"
   ]
  },
  {
   "cell_type": "code",
   "execution_count": 21,
   "id": "33990c70",
   "metadata": {},
   "outputs": [
    {
     "ename": "ValidationError",
     "evalue": "{'path': ['This field cannot be blank.'], 'depth': ['This field cannot be null.']}",
     "output_type": "error",
     "traceback": [
      "\u001b[0;31m---------------------------------------------------------------------------\u001b[0m",
      "\u001b[0;31mValidationError\u001b[0m                           Traceback (most recent call last)",
      "\u001b[0;32m/var/folders/dg/20nm141d3hj2hv67hjl6zmkc0000gn/T/ipykernel_52739/1512242116.py\u001b[0m in \u001b[0;36m<module>\u001b[0;34m\u001b[0m\n\u001b[0;32m----> 1\u001b[0;31m \u001b[0mPage\u001b[0m\u001b[0;34m.\u001b[0m\u001b[0mobjects\u001b[0m\u001b[0;34m.\u001b[0m\u001b[0mcreate\u001b[0m\u001b[0;34m(\u001b[0m\u001b[0mtitle\u001b[0m\u001b[0;34m=\u001b[0m\u001b[0;34m\"foobar\"\u001b[0m\u001b[0;34m)\u001b[0m\u001b[0;34m\u001b[0m\u001b[0;34m\u001b[0m\u001b[0m\n\u001b[0m",
      "\u001b[0;32m~/.virtualenvs/cast/lib/python3.9/site-packages/django/db/models/manager.py\u001b[0m in \u001b[0;36mmanager_method\u001b[0;34m(self, *args, **kwargs)\u001b[0m\n\u001b[1;32m     83\u001b[0m         \u001b[0;32mdef\u001b[0m \u001b[0mcreate_method\u001b[0m\u001b[0;34m(\u001b[0m\u001b[0mname\u001b[0m\u001b[0;34m,\u001b[0m \u001b[0mmethod\u001b[0m\u001b[0;34m)\u001b[0m\u001b[0;34m:\u001b[0m\u001b[0;34m\u001b[0m\u001b[0;34m\u001b[0m\u001b[0m\n\u001b[1;32m     84\u001b[0m             \u001b[0;32mdef\u001b[0m \u001b[0mmanager_method\u001b[0m\u001b[0;34m(\u001b[0m\u001b[0mself\u001b[0m\u001b[0;34m,\u001b[0m \u001b[0;34m*\u001b[0m\u001b[0margs\u001b[0m\u001b[0;34m,\u001b[0m \u001b[0;34m**\u001b[0m\u001b[0mkwargs\u001b[0m\u001b[0;34m)\u001b[0m\u001b[0;34m:\u001b[0m\u001b[0;34m\u001b[0m\u001b[0;34m\u001b[0m\u001b[0m\n\u001b[0;32m---> 85\u001b[0;31m                 \u001b[0;32mreturn\u001b[0m \u001b[0mgetattr\u001b[0m\u001b[0;34m(\u001b[0m\u001b[0mself\u001b[0m\u001b[0;34m.\u001b[0m\u001b[0mget_queryset\u001b[0m\u001b[0;34m(\u001b[0m\u001b[0;34m)\u001b[0m\u001b[0;34m,\u001b[0m \u001b[0mname\u001b[0m\u001b[0;34m)\u001b[0m\u001b[0;34m(\u001b[0m\u001b[0;34m*\u001b[0m\u001b[0margs\u001b[0m\u001b[0;34m,\u001b[0m \u001b[0;34m**\u001b[0m\u001b[0mkwargs\u001b[0m\u001b[0;34m)\u001b[0m\u001b[0;34m\u001b[0m\u001b[0;34m\u001b[0m\u001b[0m\n\u001b[0m\u001b[1;32m     86\u001b[0m             \u001b[0mmanager_method\u001b[0m\u001b[0;34m.\u001b[0m\u001b[0m__name__\u001b[0m \u001b[0;34m=\u001b[0m \u001b[0mmethod\u001b[0m\u001b[0;34m.\u001b[0m\u001b[0m__name__\u001b[0m\u001b[0;34m\u001b[0m\u001b[0;34m\u001b[0m\u001b[0m\n\u001b[1;32m     87\u001b[0m             \u001b[0mmanager_method\u001b[0m\u001b[0;34m.\u001b[0m\u001b[0m__doc__\u001b[0m \u001b[0;34m=\u001b[0m \u001b[0mmethod\u001b[0m\u001b[0;34m.\u001b[0m\u001b[0m__doc__\u001b[0m\u001b[0;34m\u001b[0m\u001b[0;34m\u001b[0m\u001b[0m\n",
      "\u001b[0;32m~/.virtualenvs/cast/lib/python3.9/site-packages/django/db/models/query.py\u001b[0m in \u001b[0;36mcreate\u001b[0;34m(self, **kwargs)\u001b[0m\n\u001b[1;32m    451\u001b[0m         \u001b[0mobj\u001b[0m \u001b[0;34m=\u001b[0m \u001b[0mself\u001b[0m\u001b[0;34m.\u001b[0m\u001b[0mmodel\u001b[0m\u001b[0;34m(\u001b[0m\u001b[0;34m**\u001b[0m\u001b[0mkwargs\u001b[0m\u001b[0;34m)\u001b[0m\u001b[0;34m\u001b[0m\u001b[0;34m\u001b[0m\u001b[0m\n\u001b[1;32m    452\u001b[0m         \u001b[0mself\u001b[0m\u001b[0;34m.\u001b[0m\u001b[0m_for_write\u001b[0m \u001b[0;34m=\u001b[0m \u001b[0;32mTrue\u001b[0m\u001b[0;34m\u001b[0m\u001b[0;34m\u001b[0m\u001b[0m\n\u001b[0;32m--> 453\u001b[0;31m         \u001b[0mobj\u001b[0m\u001b[0;34m.\u001b[0m\u001b[0msave\u001b[0m\u001b[0;34m(\u001b[0m\u001b[0mforce_insert\u001b[0m\u001b[0;34m=\u001b[0m\u001b[0;32mTrue\u001b[0m\u001b[0;34m,\u001b[0m \u001b[0musing\u001b[0m\u001b[0;34m=\u001b[0m\u001b[0mself\u001b[0m\u001b[0;34m.\u001b[0m\u001b[0mdb\u001b[0m\u001b[0;34m)\u001b[0m\u001b[0;34m\u001b[0m\u001b[0;34m\u001b[0m\u001b[0m\n\u001b[0m\u001b[1;32m    454\u001b[0m         \u001b[0;32mreturn\u001b[0m \u001b[0mobj\u001b[0m\u001b[0;34m\u001b[0m\u001b[0;34m\u001b[0m\u001b[0m\n\u001b[1;32m    455\u001b[0m \u001b[0;34m\u001b[0m\u001b[0m\n",
      "\u001b[0;32m~/.pyenv/versions/3.9.6/Library/Frameworks/Python.framework/Versions/3.9/lib/python3.9/contextlib.py\u001b[0m in \u001b[0;36minner\u001b[0;34m(*args, **kwds)\u001b[0m\n\u001b[1;32m     77\u001b[0m         \u001b[0;32mdef\u001b[0m \u001b[0minner\u001b[0m\u001b[0;34m(\u001b[0m\u001b[0;34m*\u001b[0m\u001b[0margs\u001b[0m\u001b[0;34m,\u001b[0m \u001b[0;34m**\u001b[0m\u001b[0mkwds\u001b[0m\u001b[0;34m)\u001b[0m\u001b[0;34m:\u001b[0m\u001b[0;34m\u001b[0m\u001b[0;34m\u001b[0m\u001b[0m\n\u001b[1;32m     78\u001b[0m             \u001b[0;32mwith\u001b[0m \u001b[0mself\u001b[0m\u001b[0;34m.\u001b[0m\u001b[0m_recreate_cm\u001b[0m\u001b[0;34m(\u001b[0m\u001b[0;34m)\u001b[0m\u001b[0;34m:\u001b[0m\u001b[0;34m\u001b[0m\u001b[0;34m\u001b[0m\u001b[0m\n\u001b[0;32m---> 79\u001b[0;31m                 \u001b[0;32mreturn\u001b[0m \u001b[0mfunc\u001b[0m\u001b[0;34m(\u001b[0m\u001b[0;34m*\u001b[0m\u001b[0margs\u001b[0m\u001b[0;34m,\u001b[0m \u001b[0;34m**\u001b[0m\u001b[0mkwds\u001b[0m\u001b[0;34m)\u001b[0m\u001b[0;34m\u001b[0m\u001b[0;34m\u001b[0m\u001b[0m\n\u001b[0m\u001b[1;32m     80\u001b[0m         \u001b[0;32mreturn\u001b[0m \u001b[0minner\u001b[0m\u001b[0;34m\u001b[0m\u001b[0;34m\u001b[0m\u001b[0m\n\u001b[1;32m     81\u001b[0m \u001b[0;34m\u001b[0m\u001b[0m\n",
      "\u001b[0;32m~/.virtualenvs/cast/lib/python3.9/site-packages/wagtail/core/models/__init__.py\u001b[0m in \u001b[0;36msave\u001b[0;34m(self, clean, user, log_action, **kwargs)\u001b[0m\n\u001b[1;32m    479\u001b[0m         \"\"\"\n\u001b[1;32m    480\u001b[0m         \u001b[0;32mif\u001b[0m \u001b[0mclean\u001b[0m\u001b[0;34m:\u001b[0m\u001b[0;34m\u001b[0m\u001b[0;34m\u001b[0m\u001b[0m\n\u001b[0;32m--> 481\u001b[0;31m             \u001b[0mself\u001b[0m\u001b[0;34m.\u001b[0m\u001b[0mfull_clean\u001b[0m\u001b[0;34m(\u001b[0m\u001b[0;34m)\u001b[0m\u001b[0;34m\u001b[0m\u001b[0;34m\u001b[0m\u001b[0m\n\u001b[0m\u001b[1;32m    482\u001b[0m \u001b[0;34m\u001b[0m\u001b[0m\n\u001b[1;32m    483\u001b[0m         \u001b[0mupdate_descendant_url_paths\u001b[0m \u001b[0;34m=\u001b[0m \u001b[0;32mFalse\u001b[0m\u001b[0;34m\u001b[0m\u001b[0;34m\u001b[0m\u001b[0m\n",
      "\u001b[0;32m~/.virtualenvs/cast/lib/python3.9/site-packages/wagtail/core/models/__init__.py\u001b[0m in \u001b[0;36mfull_clean\u001b[0;34m(self, *args, **kwargs)\u001b[0m\n\u001b[1;32m    438\u001b[0m             \u001b[0mself\u001b[0m\u001b[0;34m.\u001b[0m\u001b[0mlocale\u001b[0m \u001b[0;34m=\u001b[0m \u001b[0mself\u001b[0m\u001b[0;34m.\u001b[0m\u001b[0mget_default_locale\u001b[0m\u001b[0;34m(\u001b[0m\u001b[0;34m)\u001b[0m\u001b[0;34m\u001b[0m\u001b[0;34m\u001b[0m\u001b[0m\n\u001b[1;32m    439\u001b[0m \u001b[0;34m\u001b[0m\u001b[0m\n\u001b[0;32m--> 440\u001b[0;31m         \u001b[0msuper\u001b[0m\u001b[0;34m(\u001b[0m\u001b[0;34m)\u001b[0m\u001b[0;34m.\u001b[0m\u001b[0mfull_clean\u001b[0m\u001b[0;34m(\u001b[0m\u001b[0;34m*\u001b[0m\u001b[0margs\u001b[0m\u001b[0;34m,\u001b[0m \u001b[0;34m**\u001b[0m\u001b[0mkwargs\u001b[0m\u001b[0;34m)\u001b[0m\u001b[0;34m\u001b[0m\u001b[0;34m\u001b[0m\u001b[0m\n\u001b[0m\u001b[1;32m    441\u001b[0m \u001b[0;34m\u001b[0m\u001b[0m\n\u001b[1;32m    442\u001b[0m     \u001b[0;32mdef\u001b[0m \u001b[0mclean\u001b[0m\u001b[0;34m(\u001b[0m\u001b[0mself\u001b[0m\u001b[0;34m)\u001b[0m\u001b[0;34m:\u001b[0m\u001b[0;34m\u001b[0m\u001b[0;34m\u001b[0m\u001b[0m\n",
      "\u001b[0;32m~/.virtualenvs/cast/lib/python3.9/site-packages/django/db/models/base.py\u001b[0m in \u001b[0;36mfull_clean\u001b[0;34m(self, exclude, validate_unique)\u001b[0m\n\u001b[1;32m   1236\u001b[0m \u001b[0;34m\u001b[0m\u001b[0m\n\u001b[1;32m   1237\u001b[0m         \u001b[0;32mif\u001b[0m \u001b[0merrors\u001b[0m\u001b[0;34m:\u001b[0m\u001b[0;34m\u001b[0m\u001b[0;34m\u001b[0m\u001b[0m\n\u001b[0;32m-> 1238\u001b[0;31m             \u001b[0;32mraise\u001b[0m \u001b[0mValidationError\u001b[0m\u001b[0;34m(\u001b[0m\u001b[0merrors\u001b[0m\u001b[0;34m)\u001b[0m\u001b[0;34m\u001b[0m\u001b[0;34m\u001b[0m\u001b[0m\n\u001b[0m\u001b[1;32m   1239\u001b[0m \u001b[0;34m\u001b[0m\u001b[0m\n\u001b[1;32m   1240\u001b[0m     \u001b[0;32mdef\u001b[0m \u001b[0mclean_fields\u001b[0m\u001b[0;34m(\u001b[0m\u001b[0mself\u001b[0m\u001b[0;34m,\u001b[0m \u001b[0mexclude\u001b[0m\u001b[0;34m=\u001b[0m\u001b[0;32mNone\u001b[0m\u001b[0;34m)\u001b[0m\u001b[0;34m:\u001b[0m\u001b[0;34m\u001b[0m\u001b[0;34m\u001b[0m\u001b[0m\n",
      "\u001b[0;31mValidationError\u001b[0m: {'path': ['This field cannot be blank.'], 'depth': ['This field cannot be null.']}"
     ]
    }
   ],
   "source": [
    "Page.objects.create(title=\"foobar\")"
   ]
  },
  {
   "cell_type": "code",
   "execution_count": 22,
   "id": "e0db7779",
   "metadata": {},
   "outputs": [
    {
     "data": {
      "text/plain": [
       "<Page: Root>"
      ]
     },
     "execution_count": 22,
     "metadata": {},
     "output_type": "execute_result"
    }
   ],
   "source": [
    "Page.get_first_root_node()"
   ]
  },
  {
   "cell_type": "code",
   "execution_count": 23,
   "id": "9d91d8f2",
   "metadata": {},
   "outputs": [
    {
     "name": "stdout",
     "output_type": "stream",
     "text": [
      "Help on method get_first_root_node in module treebeard.models:\n",
      "\n",
      "get_first_root_node() method of wagtail.core.models.PageBase instance\n",
      "    :returns:\n",
      "    \n",
      "        The first root node in the tree or ``None`` if it is empty.\n",
      "\n"
     ]
    }
   ],
   "source": [
    "help(Page.get_first_root_node)"
   ]
  },
  {
   "cell_type": "code",
   "execution_count": 25,
   "id": "d556726d",
   "metadata": {},
   "outputs": [
    {
     "data": {
      "text/plain": [
       "'Root'"
      ]
     },
     "execution_count": 25,
     "metadata": {},
     "output_type": "execute_result"
    }
   ],
   "source": [
    "Page.objects.filter(depth=1).first().title"
   ]
  },
  {
   "cell_type": "code",
   "execution_count": 29,
   "id": "f7a2d0ba",
   "metadata": {},
   "outputs": [
    {
     "data": {
      "text/plain": [
       "<Page: Root>"
      ]
     },
     "execution_count": 29,
     "metadata": {},
     "output_type": "execute_result"
    }
   ],
   "source": [
    "Page.get_first_root_node()"
   ]
  },
  {
   "cell_type": "code",
   "execution_count": 33,
   "id": "e2e623ff",
   "metadata": {},
   "outputs": [
    {
     "data": {
      "text/plain": [
       "1"
      ]
     },
     "execution_count": 33,
     "metadata": {},
     "output_type": "execute_result"
    }
   ],
   "source": [
    "root.locale_id"
   ]
  },
  {
   "cell_type": "code",
   "execution_count": 34,
   "id": "cf8bde8c",
   "metadata": {},
   "outputs": [
    {
     "data": {
      "text/plain": [
       "<Locale: English>"
      ]
     },
     "execution_count": 34,
     "metadata": {},
     "output_type": "execute_result"
    }
   ],
   "source": [
    "root.get_default_locale()"
   ]
  },
  {
   "cell_type": "code",
   "execution_count": 35,
   "id": "b245e302",
   "metadata": {},
   "outputs": [
    {
     "data": {
      "text/plain": [
       "<Locale: English>"
      ]
     },
     "execution_count": 35,
     "metadata": {},
     "output_type": "execute_result"
    }
   ],
   "source": [
    "root.locale"
   ]
  },
  {
   "cell_type": "code",
   "execution_count": 36,
   "id": "814f190e",
   "metadata": {},
   "outputs": [],
   "source": [
    "import wagtail.core"
   ]
  },
  {
   "cell_type": "code",
   "execution_count": 37,
   "id": "c87cbddc",
   "metadata": {},
   "outputs": [
    {
     "ename": "NameError",
     "evalue": "name 'core' is not defined",
     "output_type": "error",
     "traceback": [
      "\u001b[0;31m---------------------------------------------------------------------------\u001b[0m",
      "\u001b[0;31mNameError\u001b[0m                                 Traceback (most recent call last)",
      "\u001b[0;32m/var/folders/dg/20nm141d3hj2hv67hjl6zmkc0000gn/T/ipykernel_52739/1907368950.py\u001b[0m in \u001b[0;36m<module>\u001b[0;34m\u001b[0m\n\u001b[0;32m----> 1\u001b[0;31m \u001b[0mdir\u001b[0m\u001b[0;34m(\u001b[0m\u001b[0mcore\u001b[0m\u001b[0;34m)\u001b[0m\u001b[0;34m\u001b[0m\u001b[0;34m\u001b[0m\u001b[0m\n\u001b[0m",
      "\u001b[0;31mNameError\u001b[0m: name 'core' is not defined"
     ]
    }
   ],
   "source": [
    "dir(core)"
   ]
  },
  {
   "cell_type": "code",
   "execution_count": 38,
   "id": "772d2f57",
   "metadata": {},
   "outputs": [
    {
     "data": {
      "text/plain": [
       "['__builtins__',\n",
       " '__cached__',\n",
       " '__doc__',\n",
       " '__file__',\n",
       " '__loader__',\n",
       " '__name__',\n",
       " '__package__',\n",
       " '__path__',\n",
       " '__semver__',\n",
       " '__spec__',\n",
       " '__version__',\n",
       " 'apps',\n",
       " 'blocks',\n",
       " 'compat',\n",
       " 'default_app_config',\n",
       " 'fields',\n",
       " 'forms',\n",
       " 'hooks',\n",
       " 'log_actions',\n",
       " 'models',\n",
       " 'query',\n",
       " 'rich_text',\n",
       " 'setup',\n",
       " 'signal_handlers',\n",
       " 'signals',\n",
       " 'sites',\n",
       " 'telepath',\n",
       " 'treebeard',\n",
       " 'url_routing',\n",
       " 'utils',\n",
       " 'widget_adapters',\n",
       " 'workflows']"
      ]
     },
     "execution_count": 38,
     "metadata": {},
     "output_type": "execute_result"
    }
   ],
   "source": [
    "dir(wagtail.core)"
   ]
  },
  {
   "cell_type": "code",
   "execution_count": 40,
   "id": "ac358154",
   "metadata": {},
   "outputs": [],
   "source": [
    "from wagtail.core.models.i18n import Locale"
   ]
  },
  {
   "cell_type": "code",
   "execution_count": 43,
   "id": "dfa26f70",
   "metadata": {},
   "outputs": [],
   "source": [
    "locale = Locale.objects.first()"
   ]
  },
  {
   "cell_type": "code",
   "execution_count": 44,
   "id": "0f40a4d2",
   "metadata": {},
   "outputs": [
    {
     "data": {
      "text/plain": [
       "['DoesNotExist',\n",
       " 'MultipleObjectsReturned',\n",
       " '__class__',\n",
       " '__delattr__',\n",
       " '__dict__',\n",
       " '__dir__',\n",
       " '__doc__',\n",
       " '__eq__',\n",
       " '__format__',\n",
       " '__ge__',\n",
       " '__getattribute__',\n",
       " '__getstate__',\n",
       " '__gt__',\n",
       " '__hash__',\n",
       " '__init__',\n",
       " '__init_subclass__',\n",
       " '__le__',\n",
       " '__lt__',\n",
       " '__module__',\n",
       " '__ne__',\n",
       " '__new__',\n",
       " '__reduce__',\n",
       " '__reduce_ex__',\n",
       " '__repr__',\n",
       " '__setattr__',\n",
       " '__setstate__',\n",
       " '__sizeof__',\n",
       " '__str__',\n",
       " '__subclasshook__',\n",
       " '__weakref__',\n",
       " '_check_column_name_clashes',\n",
       " '_check_constraints',\n",
       " '_check_default_pk',\n",
       " '_check_field_name_clashes',\n",
       " '_check_fields',\n",
       " '_check_id_field',\n",
       " '_check_index_together',\n",
       " '_check_indexes',\n",
       " '_check_local_fields',\n",
       " '_check_long_column_names',\n",
       " '_check_m2m_through_same_relationship',\n",
       " '_check_managers',\n",
       " '_check_model',\n",
       " '_check_model_name_db_lookup_clashes',\n",
       " '_check_ordering',\n",
       " '_check_property_name_related_field_accessor_clashes',\n",
       " '_check_single_primary_key',\n",
       " '_check_swappable',\n",
       " '_check_unique_together',\n",
       " '_do_insert',\n",
       " '_do_update',\n",
       " '_get_FIELD_display',\n",
       " '_get_expr_references',\n",
       " '_get_next_or_previous_by_FIELD',\n",
       " '_get_next_or_previous_in_order',\n",
       " '_get_pk_val',\n",
       " '_get_unique_checks',\n",
       " '_meta',\n",
       " '_perform_date_checks',\n",
       " '_perform_unique_checks',\n",
       " '_prepare_related_fields_for_save',\n",
       " '_save_parents',\n",
       " '_save_table',\n",
       " '_set_pk_val',\n",
       " '_state',\n",
       " 'all_objects',\n",
       " 'check',\n",
       " 'clean',\n",
       " 'clean_fields',\n",
       " 'date_error_message',\n",
       " 'delete',\n",
       " 'from_db',\n",
       " 'full_clean',\n",
       " 'get_active',\n",
       " 'get_default',\n",
       " 'get_deferred_fields',\n",
       " 'get_display_name',\n",
       " 'id',\n",
       " 'language_code',\n",
       " 'language_code_is_valid',\n",
       " 'objects',\n",
       " 'pk',\n",
       " 'prepare_database_save',\n",
       " 'refresh_from_db',\n",
       " 'save',\n",
       " 'save_base',\n",
       " 'serializable_value',\n",
       " 'unique_error_message',\n",
       " 'validate_unique']"
      ]
     },
     "execution_count": 44,
     "metadata": {},
     "output_type": "execute_result"
    }
   ],
   "source": [
    "dir(locale)"
   ]
  },
  {
   "cell_type": "code",
   "execution_count": 45,
   "id": "bc0674b2",
   "metadata": {},
   "outputs": [
    {
     "data": {
      "text/plain": [
       "'en'"
      ]
     },
     "execution_count": 45,
     "metadata": {},
     "output_type": "execute_result"
    }
   ],
   "source": [
    "locale.language_code"
   ]
  },
  {
   "cell_type": "code",
   "execution_count": 52,
   "id": "5a33e4de",
   "metadata": {},
   "outputs": [],
   "source": [
    "from wagtail.images.blocks import ImageChooserBlock\n",
    "\n",
    "from cast.blocks import GalleryBlock"
   ]
  },
  {
   "cell_type": "code",
   "execution_count": 54,
   "id": "3092c788",
   "metadata": {},
   "outputs": [],
   "source": [
    "gb = GalleryBlock(ImageChooserBlock())"
   ]
  },
  {
   "cell_type": "code",
   "execution_count": 57,
   "id": "21892fe1",
   "metadata": {},
   "outputs": [
    {
     "ename": "ListBlockValidationError",
     "evalue": "['Validation error in ListBlock']",
     "output_type": "error",
     "traceback": [
      "\u001b[0;31m---------------------------------------------------------------------------\u001b[0m",
      "\u001b[0;31mListBlockValidationError\u001b[0m                  Traceback (most recent call last)",
      "\u001b[0;32m/var/folders/dg/20nm141d3hj2hv67hjl6zmkc0000gn/T/ipykernel_52739/2764240378.py\u001b[0m in \u001b[0;36m<module>\u001b[0;34m\u001b[0m\n\u001b[0;32m----> 1\u001b[0;31m \u001b[0mgb\u001b[0m\u001b[0;34m.\u001b[0m\u001b[0mclean\u001b[0m\u001b[0;34m(\u001b[0m\u001b[0;34m[\u001b[0m\u001b[0;32mNone\u001b[0m\u001b[0;34m]\u001b[0m\u001b[0;34m)\u001b[0m\u001b[0;34m\u001b[0m\u001b[0;34m\u001b[0m\u001b[0m\n\u001b[0m",
      "\u001b[0;32m~/.virtualenvs/cast/lib/python3.9/site-packages/wagtail/core/blocks/list_block.py\u001b[0m in \u001b[0;36mclean\u001b[0;34m(self, value)\u001b[0m\n\u001b[1;32m    100\u001b[0m \u001b[0;34m\u001b[0m\u001b[0m\n\u001b[1;32m    101\u001b[0m         \u001b[0;32mif\u001b[0m \u001b[0many\u001b[0m\u001b[0;34m(\u001b[0m\u001b[0merrors\u001b[0m\u001b[0;34m)\u001b[0m \u001b[0;32mor\u001b[0m \u001b[0mnon_block_errors\u001b[0m\u001b[0;34m:\u001b[0m\u001b[0;34m\u001b[0m\u001b[0;34m\u001b[0m\u001b[0m\n\u001b[0;32m--> 102\u001b[0;31m             \u001b[0;32mraise\u001b[0m \u001b[0mListBlockValidationError\u001b[0m\u001b[0;34m(\u001b[0m\u001b[0mblock_errors\u001b[0m\u001b[0;34m=\u001b[0m\u001b[0merrors\u001b[0m\u001b[0;34m,\u001b[0m \u001b[0mnon_block_errors\u001b[0m\u001b[0;34m=\u001b[0m\u001b[0mnon_block_errors\u001b[0m\u001b[0;34m)\u001b[0m\u001b[0;34m\u001b[0m\u001b[0;34m\u001b[0m\u001b[0m\n\u001b[0m\u001b[1;32m    103\u001b[0m \u001b[0;34m\u001b[0m\u001b[0m\n\u001b[1;32m    104\u001b[0m         \u001b[0;32mreturn\u001b[0m \u001b[0mresult\u001b[0m\u001b[0;34m\u001b[0m\u001b[0;34m\u001b[0m\u001b[0m\n",
      "\u001b[0;31mListBlockValidationError\u001b[0m: ['Validation error in ListBlock']"
     ]
    }
   ],
   "source": [
    "gb.clean([None])"
   ]
  },
  {
   "cell_type": "code",
   "execution_count": 58,
   "id": "3dfaea6d",
   "metadata": {},
   "outputs": [
    {
     "ename": "ListBlockValidationError",
     "evalue": "['Validation error in ListBlock']",
     "output_type": "error",
     "traceback": [
      "\u001b[0;31m---------------------------------------------------------------------------\u001b[0m",
      "\u001b[0;31mListBlockValidationError\u001b[0m                  Traceback (most recent call last)",
      "\u001b[0;32m/var/folders/dg/20nm141d3hj2hv67hjl6zmkc0000gn/T/ipykernel_52739/2597265258.py\u001b[0m in \u001b[0;36m<module>\u001b[0;34m\u001b[0m\n\u001b[0;32m----> 1\u001b[0;31m \u001b[0mgb\u001b[0m\u001b[0;34m.\u001b[0m\u001b[0mclean\u001b[0m\u001b[0;34m(\u001b[0m\u001b[0;34m[\u001b[0m\u001b[0;34m(\u001b[0m\u001b[0;34m\"image\"\u001b[0m\u001b[0;34m,\u001b[0m \u001b[0;34m\"1\"\u001b[0m\u001b[0;34m)\u001b[0m\u001b[0;34m]\u001b[0m\u001b[0;34m)\u001b[0m\u001b[0;34m\u001b[0m\u001b[0;34m\u001b[0m\u001b[0m\n\u001b[0m",
      "\u001b[0;32m~/.virtualenvs/cast/lib/python3.9/site-packages/wagtail/core/blocks/list_block.py\u001b[0m in \u001b[0;36mclean\u001b[0;34m(self, value)\u001b[0m\n\u001b[1;32m    100\u001b[0m \u001b[0;34m\u001b[0m\u001b[0m\n\u001b[1;32m    101\u001b[0m         \u001b[0;32mif\u001b[0m \u001b[0many\u001b[0m\u001b[0;34m(\u001b[0m\u001b[0merrors\u001b[0m\u001b[0;34m)\u001b[0m \u001b[0;32mor\u001b[0m \u001b[0mnon_block_errors\u001b[0m\u001b[0;34m:\u001b[0m\u001b[0;34m\u001b[0m\u001b[0;34m\u001b[0m\u001b[0m\n\u001b[0;32m--> 102\u001b[0;31m             \u001b[0;32mraise\u001b[0m \u001b[0mListBlockValidationError\u001b[0m\u001b[0;34m(\u001b[0m\u001b[0mblock_errors\u001b[0m\u001b[0;34m=\u001b[0m\u001b[0merrors\u001b[0m\u001b[0;34m,\u001b[0m \u001b[0mnon_block_errors\u001b[0m\u001b[0;34m=\u001b[0m\u001b[0mnon_block_errors\u001b[0m\u001b[0;34m)\u001b[0m\u001b[0;34m\u001b[0m\u001b[0;34m\u001b[0m\u001b[0m\n\u001b[0m\u001b[1;32m    103\u001b[0m \u001b[0;34m\u001b[0m\u001b[0m\n\u001b[1;32m    104\u001b[0m         \u001b[0;32mreturn\u001b[0m \u001b[0mresult\u001b[0m\u001b[0;34m\u001b[0m\u001b[0;34m\u001b[0m\u001b[0m\n",
      "\u001b[0;31mListBlockValidationError\u001b[0m: ['Validation error in ListBlock']"
     ]
    }
   ],
   "source": [
    "gb.clean([(\"image\", \"1\")])"
   ]
  },
  {
   "cell_type": "markdown",
   "id": "4b5b9f2e",
   "metadata": {},
   "source": [
    "## compare posted data"
   ]
  },
  {
   "cell_type": "code",
   "execution_count": 13,
   "id": "812ffcc9",
   "metadata": {},
   "outputs": [
    {
     "data": {
      "application/javascript": [
       "\n",
       "            setTimeout(function() {\n",
       "                var nbb_cell_id = 13;\n",
       "                var nbb_unformatted_code = \"from_test = {'action-publish': ['action-publish'], 'body-0-deleted': [''], 'body-0-order': ['0'], 'body-0-type': ['overview'], 'body-0-value-0-deleted': [''], 'body-0-value-0-order': ['0'], 'body-0-value-0-type': ['gallery'], 'body-0-value-0-value-0-deleted': [''], 'body-0-value-0-value-0-id': [''], 'body-0-value-0-value-0-order': ['0'], 'body-0-value-0-value-0-type': [''], 'body-0-value-0-value-0-value': ['1'], 'body-0-value-0-value-count': ['1'], 'body-0-value-count': ['1'], 'body-count': ['1'], 'comment_notifications': ['on'], 'comments-INITIAL_FORMS': ['0'], 'comments-MAX_NUM_FORMS': [''], 'comments-MIN_NUM_FORMS': ['0'], 'comments-TOTAL_FORMS': ['0'], 'expire_at': [''], 'go_live_at': [''], 'next': [''], 'search_description': [''], 'seo_title': [''], 'slug': ['post-with-gallery'], 'title': ['post with gallery'], 'visible_date': ['2021-08-19 09:00']}\";\n",
       "                var nbb_formatted_code = \"from_test = {\\n    \\\"action-publish\\\": [\\\"action-publish\\\"],\\n    \\\"body-0-deleted\\\": [\\\"\\\"],\\n    \\\"body-0-order\\\": [\\\"0\\\"],\\n    \\\"body-0-type\\\": [\\\"overview\\\"],\\n    \\\"body-0-value-0-deleted\\\": [\\\"\\\"],\\n    \\\"body-0-value-0-order\\\": [\\\"0\\\"],\\n    \\\"body-0-value-0-type\\\": [\\\"gallery\\\"],\\n    \\\"body-0-value-0-value-0-deleted\\\": [\\\"\\\"],\\n    \\\"body-0-value-0-value-0-id\\\": [\\\"\\\"],\\n    \\\"body-0-value-0-value-0-order\\\": [\\\"0\\\"],\\n    \\\"body-0-value-0-value-0-type\\\": [\\\"\\\"],\\n    \\\"body-0-value-0-value-0-value\\\": [\\\"1\\\"],\\n    \\\"body-0-value-0-value-count\\\": [\\\"1\\\"],\\n    \\\"body-0-value-count\\\": [\\\"1\\\"],\\n    \\\"body-count\\\": [\\\"1\\\"],\\n    \\\"comment_notifications\\\": [\\\"on\\\"],\\n    \\\"comments-INITIAL_FORMS\\\": [\\\"0\\\"],\\n    \\\"comments-MAX_NUM_FORMS\\\": [\\\"\\\"],\\n    \\\"comments-MIN_NUM_FORMS\\\": [\\\"0\\\"],\\n    \\\"comments-TOTAL_FORMS\\\": [\\\"0\\\"],\\n    \\\"expire_at\\\": [\\\"\\\"],\\n    \\\"go_live_at\\\": [\\\"\\\"],\\n    \\\"next\\\": [\\\"\\\"],\\n    \\\"search_description\\\": [\\\"\\\"],\\n    \\\"seo_title\\\": [\\\"\\\"],\\n    \\\"slug\\\": [\\\"post-with-gallery\\\"],\\n    \\\"title\\\": [\\\"post with gallery\\\"],\\n    \\\"visible_date\\\": [\\\"2021-08-19 09:00\\\"],\\n}\";\n",
       "                var nbb_cells = Jupyter.notebook.get_cells();\n",
       "                for (var i = 0; i < nbb_cells.length; ++i) {\n",
       "                    if (nbb_cells[i].input_prompt_number == nbb_cell_id) {\n",
       "                        if (nbb_cells[i].get_text() == nbb_unformatted_code) {\n",
       "                             nbb_cells[i].set_text(nbb_formatted_code);\n",
       "                        }\n",
       "                        break;\n",
       "                    }\n",
       "                }\n",
       "            }, 500);\n",
       "            "
      ],
      "text/plain": [
       "<IPython.core.display.Javascript object>"
      ]
     },
     "metadata": {},
     "output_type": "display_data"
    }
   ],
   "source": [
    "from_test = {\n",
    "    \"action-publish\": [\"action-publish\"],\n",
    "    \"body-0-deleted\": [\"\"],\n",
    "    \"body-0-order\": [\"0\"],\n",
    "    \"body-0-type\": [\"overview\"],\n",
    "    \"body-0-value-0-deleted\": [\"\"],\n",
    "    \"body-0-value-0-order\": [\"0\"],\n",
    "    \"body-0-value-0-type\": [\"gallery\"],\n",
    "    \"body-0-value-0-value-0-deleted\": [\"\"],\n",
    "    \"body-0-value-0-value-0-id\": [\"\"],\n",
    "    \"body-0-value-0-value-0-order\": [\"0\"],\n",
    "    \"body-0-value-0-value-0-type\": [\"\"],\n",
    "    \"body-0-value-0-value-0-value\": [\"1\"],\n",
    "    \"body-0-value-0-value-count\": [\"1\"],\n",
    "    \"body-0-value-count\": [\"1\"],\n",
    "    \"body-count\": [\"1\"],\n",
    "    \"comment_notifications\": [\"on\"],\n",
    "    \"comments-INITIAL_FORMS\": [\"0\"],\n",
    "    \"comments-MAX_NUM_FORMS\": [\"\"],\n",
    "    \"comments-MIN_NUM_FORMS\": [\"0\"],\n",
    "    \"comments-TOTAL_FORMS\": [\"0\"],\n",
    "    \"expire_at\": [\"\"],\n",
    "    \"go_live_at\": [\"\"],\n",
    "    \"next\": [\"\"],\n",
    "    \"search_description\": [\"\"],\n",
    "    \"seo_title\": [\"\"],\n",
    "    \"slug\": [\"post-with-gallery\"],\n",
    "    \"title\": [\"post with gallery\"],\n",
    "    \"visible_date\": [\"2021-08-19 09:00\"],\n",
    "}"
   ]
  },
  {
   "cell_type": "code",
   "execution_count": 14,
   "id": "4297a6b8",
   "metadata": {},
   "outputs": [
    {
     "data": {
      "text/plain": [
       "{'action-publish': ['action-publish'],\n",
       " 'body-0-deleted': [''],\n",
       " 'body-0-order': ['0'],\n",
       " 'body-0-type': ['overview'],\n",
       " 'body-0-value-0-deleted': [''],\n",
       " 'body-0-value-0-order': ['0'],\n",
       " 'body-0-value-0-type': ['gallery'],\n",
       " 'body-0-value-0-value-0-deleted': [''],\n",
       " 'body-0-value-0-value-0-id': [''],\n",
       " 'body-0-value-0-value-0-order': ['0'],\n",
       " 'body-0-value-0-value-0-type': [''],\n",
       " 'body-0-value-0-value-0-value': ['1'],\n",
       " 'body-0-value-0-value-count': ['1'],\n",
       " 'body-0-value-count': ['1'],\n",
       " 'body-count': ['1'],\n",
       " 'comment_notifications': ['on'],\n",
       " 'comments-INITIAL_FORMS': ['0'],\n",
       " 'comments-MAX_NUM_FORMS': [''],\n",
       " 'comments-MIN_NUM_FORMS': ['0'],\n",
       " 'comments-TOTAL_FORMS': ['0'],\n",
       " 'expire_at': [''],\n",
       " 'go_live_at': [''],\n",
       " 'next': [''],\n",
       " 'search_description': [''],\n",
       " 'seo_title': [''],\n",
       " 'slug': ['post-with-gallery'],\n",
       " 'title': ['post with gallery'],\n",
       " 'visible_date': ['2021-08-19 09:00']}"
      ]
     },
     "execution_count": 14,
     "metadata": {},
     "output_type": "execute_result"
    },
    {
     "data": {
      "application/javascript": [
       "\n",
       "            setTimeout(function() {\n",
       "                var nbb_cell_id = 14;\n",
       "                var nbb_unformatted_code = \"from_test\";\n",
       "                var nbb_formatted_code = \"from_test\";\n",
       "                var nbb_cells = Jupyter.notebook.get_cells();\n",
       "                for (var i = 0; i < nbb_cells.length; ++i) {\n",
       "                    if (nbb_cells[i].input_prompt_number == nbb_cell_id) {\n",
       "                        if (nbb_cells[i].get_text() == nbb_unformatted_code) {\n",
       "                             nbb_cells[i].set_text(nbb_formatted_code);\n",
       "                        }\n",
       "                        break;\n",
       "                    }\n",
       "                }\n",
       "            }, 500);\n",
       "            "
      ],
      "text/plain": [
       "<IPython.core.display.Javascript object>"
      ]
     },
     "metadata": {},
     "output_type": "display_data"
    }
   ],
   "source": [
    "from_test"
   ]
  },
  {
   "cell_type": "code",
   "execution_count": 15,
   "id": "c31fe488",
   "metadata": {},
   "outputs": [
    {
     "data": {
      "application/javascript": [
       "\n",
       "            setTimeout(function() {\n",
       "                var nbb_cell_id = 15;\n",
       "                var nbb_unformatted_code = \"from_cms = {'csrfmiddlewaretoken': ['eCIvVutqUqrdRLnUetU7PpGVY9kdfndjpn6Hi5WVVm6EHhiM4mN2Xhzgtg8jtiGr'], 'next': [''], 'comment_notifications': ['on'], 'title': ['post with gallery'], 'visible_date': ['2021-08-20 09:40'], 'body-count': ['1'], 'body-0-deleted': [''], 'body-0-order': ['0'], 'body-0-type': ['overview'], 'body-0-id': ['6cca240e-6177-4c41-8c2a-436325606570'], 'body-0-value-count': ['1'], 'body-0-value-0-deleted': [''], 'body-0-value-0-order': ['0'], 'body-0-value-0-type': ['gallery'], 'body-0-value-0-id': ['ad4f022b-3c55-4a03-935d-71121fdaec08'], 'body-0-value-0-value-count': ['1'], 'body-0-value-0-value-0-deleted': [''], 'body-0-value-0-value-0-order': ['0'], 'body-0-value-0-value-0-type': [''], 'body-0-value-0-value-0-id': [''], 'body-0-value-0-value-0-value': ['3'], 'slug': ['post-with-gallery'], 'seo_title': [''], 'search_description': [''], 'go_live_at': [''], 'expire_at': [''], 'comments-TOTAL_FORMS': ['0'], 'comments-INITIAL_FORMS': ['0'], 'comments-MIN_NUM_FORMS': ['0'], 'comments-MAX_NUM_FORMS': [''], 'action-publish': ['action-publish']}\";\n",
       "                var nbb_formatted_code = \"from_cms = {\\n    \\\"csrfmiddlewaretoken\\\": [\\n        \\\"eCIvVutqUqrdRLnUetU7PpGVY9kdfndjpn6Hi5WVVm6EHhiM4mN2Xhzgtg8jtiGr\\\"\\n    ],\\n    \\\"next\\\": [\\\"\\\"],\\n    \\\"comment_notifications\\\": [\\\"on\\\"],\\n    \\\"title\\\": [\\\"post with gallery\\\"],\\n    \\\"visible_date\\\": [\\\"2021-08-20 09:40\\\"],\\n    \\\"body-count\\\": [\\\"1\\\"],\\n    \\\"body-0-deleted\\\": [\\\"\\\"],\\n    \\\"body-0-order\\\": [\\\"0\\\"],\\n    \\\"body-0-type\\\": [\\\"overview\\\"],\\n    \\\"body-0-id\\\": [\\\"6cca240e-6177-4c41-8c2a-436325606570\\\"],\\n    \\\"body-0-value-count\\\": [\\\"1\\\"],\\n    \\\"body-0-value-0-deleted\\\": [\\\"\\\"],\\n    \\\"body-0-value-0-order\\\": [\\\"0\\\"],\\n    \\\"body-0-value-0-type\\\": [\\\"gallery\\\"],\\n    \\\"body-0-value-0-id\\\": [\\\"ad4f022b-3c55-4a03-935d-71121fdaec08\\\"],\\n    \\\"body-0-value-0-value-count\\\": [\\\"1\\\"],\\n    \\\"body-0-value-0-value-0-deleted\\\": [\\\"\\\"],\\n    \\\"body-0-value-0-value-0-order\\\": [\\\"0\\\"],\\n    \\\"body-0-value-0-value-0-type\\\": [\\\"\\\"],\\n    \\\"body-0-value-0-value-0-id\\\": [\\\"\\\"],\\n    \\\"body-0-value-0-value-0-value\\\": [\\\"3\\\"],\\n    \\\"slug\\\": [\\\"post-with-gallery\\\"],\\n    \\\"seo_title\\\": [\\\"\\\"],\\n    \\\"search_description\\\": [\\\"\\\"],\\n    \\\"go_live_at\\\": [\\\"\\\"],\\n    \\\"expire_at\\\": [\\\"\\\"],\\n    \\\"comments-TOTAL_FORMS\\\": [\\\"0\\\"],\\n    \\\"comments-INITIAL_FORMS\\\": [\\\"0\\\"],\\n    \\\"comments-MIN_NUM_FORMS\\\": [\\\"0\\\"],\\n    \\\"comments-MAX_NUM_FORMS\\\": [\\\"\\\"],\\n    \\\"action-publish\\\": [\\\"action-publish\\\"],\\n}\";\n",
       "                var nbb_cells = Jupyter.notebook.get_cells();\n",
       "                for (var i = 0; i < nbb_cells.length; ++i) {\n",
       "                    if (nbb_cells[i].input_prompt_number == nbb_cell_id) {\n",
       "                        if (nbb_cells[i].get_text() == nbb_unformatted_code) {\n",
       "                             nbb_cells[i].set_text(nbb_formatted_code);\n",
       "                        }\n",
       "                        break;\n",
       "                    }\n",
       "                }\n",
       "            }, 500);\n",
       "            "
      ],
      "text/plain": [
       "<IPython.core.display.Javascript object>"
      ]
     },
     "metadata": {},
     "output_type": "display_data"
    }
   ],
   "source": [
    "from_cms = {'csrfmiddlewaretoken': ['eCIvVutqUqrdRLnUetU7PpGVY9kdfndjpn6Hi5WVVm6EHhiM4mN2Xhzgtg8jtiGr'], 'next': [''], 'comment_notifications': ['on'], 'title': ['post with gallery'], 'visible_date': ['2021-08-20 09:40'], 'body-count': ['1'], 'body-0-deleted': [''], 'body-0-order': ['0'], 'body-0-type': ['overview'], 'body-0-id': ['6cca240e-6177-4c41-8c2a-436325606570'], 'body-0-value-count': ['1'], 'body-0-value-0-deleted': [''], 'body-0-value-0-order': ['0'], 'body-0-value-0-type': ['gallery'], 'body-0-value-0-id': ['ad4f022b-3c55-4a03-935d-71121fdaec08'], 'body-0-value-0-value-count': ['1'], 'body-0-value-0-value-0-deleted': [''], 'body-0-value-0-value-0-order': ['0'], 'body-0-value-0-value-0-type': [''], 'body-0-value-0-value-0-id': [''], 'body-0-value-0-value-0-value': ['3'], 'slug': ['post-with-gallery'], 'seo_title': [''], 'search_description': [''], 'go_live_at': [''], 'expire_at': [''], 'comments-TOTAL_FORMS': ['0'], 'comments-INITIAL_FORMS': ['0'], 'comments-MIN_NUM_FORMS': ['0'], 'comments-MAX_NUM_FORMS': [''], 'action-publish': ['action-publish']}"
   ]
  },
  {
   "cell_type": "code",
   "execution_count": 16,
   "id": "9d2dac12",
   "metadata": {},
   "outputs": [
    {
     "name": "stdout",
     "output_type": "stream",
     "text": [
      "action-publish ['action-publish']\n",
      "body-0-deleted ['']\n",
      "body-0-id ['6cca240e-6177-4c41-8c2a-436325606570']\n",
      "body-0-order ['0']\n",
      "body-0-type ['overview']\n",
      "body-0-value-0-deleted ['']\n",
      "body-0-value-0-id ['ad4f022b-3c55-4a03-935d-71121fdaec08']\n",
      "body-0-value-0-order ['0']\n",
      "body-0-value-0-type ['gallery']\n",
      "body-0-value-0-value-0-deleted ['']\n",
      "body-0-value-0-value-0-id ['']\n",
      "body-0-value-0-value-0-order ['0']\n",
      "body-0-value-0-value-0-type ['']\n",
      "body-0-value-0-value-0-value ['3']\n",
      "body-0-value-0-value-count ['1']\n",
      "body-0-value-count ['1']\n",
      "body-count ['1']\n",
      "comment_notifications ['on']\n",
      "comments-INITIAL_FORMS ['0']\n",
      "comments-MAX_NUM_FORMS ['']\n",
      "comments-MIN_NUM_FORMS ['0']\n",
      "comments-TOTAL_FORMS ['0']\n",
      "csrfmiddlewaretoken ['eCIvVutqUqrdRLnUetU7PpGVY9kdfndjpn6Hi5WVVm6EHhiM4mN2Xhzgtg8jtiGr']\n",
      "expire_at ['']\n",
      "go_live_at ['']\n",
      "next ['']\n",
      "search_description ['']\n",
      "seo_title ['']\n",
      "slug ['post-with-gallery']\n",
      "title ['post with gallery']\n",
      "visible_date ['2021-08-20 09:40']\n"
     ]
    },
    {
     "data": {
      "application/javascript": [
       "\n",
       "            setTimeout(function() {\n",
       "                var nbb_cell_id = 16;\n",
       "                var nbb_unformatted_code = \"for k, v in sorted(from_cms.items()):\\n    print(k, v)\";\n",
       "                var nbb_formatted_code = \"for k, v in sorted(from_cms.items()):\\n    print(k, v)\";\n",
       "                var nbb_cells = Jupyter.notebook.get_cells();\n",
       "                for (var i = 0; i < nbb_cells.length; ++i) {\n",
       "                    if (nbb_cells[i].input_prompt_number == nbb_cell_id) {\n",
       "                        if (nbb_cells[i].get_text() == nbb_unformatted_code) {\n",
       "                             nbb_cells[i].set_text(nbb_formatted_code);\n",
       "                        }\n",
       "                        break;\n",
       "                    }\n",
       "                }\n",
       "            }, 500);\n",
       "            "
      ],
      "text/plain": [
       "<IPython.core.display.Javascript object>"
      ]
     },
     "metadata": {},
     "output_type": "display_data"
    }
   ],
   "source": [
    "for k, v in sorted(from_cms.items()):\n",
    "    print(k, v)"
   ]
  },
  {
   "cell_type": "code",
   "execution_count": 17,
   "id": "901773cd",
   "metadata": {},
   "outputs": [
    {
     "name": "stdout",
     "output_type": "stream",
     "text": [
      "action-publish ['action-publish']\n",
      "body-0-deleted ['']\n",
      "body-0-order ['0']\n",
      "body-0-type ['overview']\n",
      "body-0-value-0-deleted ['']\n",
      "body-0-value-0-order ['0']\n",
      "body-0-value-0-type ['gallery']\n",
      "body-0-value-0-value-0-deleted ['']\n",
      "body-0-value-0-value-0-id ['']\n",
      "body-0-value-0-value-0-order ['0']\n",
      "body-0-value-0-value-0-type ['']\n",
      "body-0-value-0-value-0-value ['1']\n",
      "body-0-value-0-value-count ['1']\n",
      "body-0-value-count ['1']\n",
      "body-count ['1']\n",
      "comment_notifications ['on']\n",
      "comments-INITIAL_FORMS ['0']\n",
      "comments-MAX_NUM_FORMS ['']\n",
      "comments-MIN_NUM_FORMS ['0']\n",
      "comments-TOTAL_FORMS ['0']\n",
      "expire_at ['']\n",
      "go_live_at ['']\n",
      "next ['']\n",
      "search_description ['']\n",
      "seo_title ['']\n",
      "slug ['post-with-gallery']\n",
      "title ['post with gallery']\n",
      "visible_date ['2021-08-19 09:00']\n"
     ]
    },
    {
     "data": {
      "application/javascript": [
       "\n",
       "            setTimeout(function() {\n",
       "                var nbb_cell_id = 17;\n",
       "                var nbb_unformatted_code = \"for k, v in sorted(from_test.items()):\\n    print(k, v)\";\n",
       "                var nbb_formatted_code = \"for k, v in sorted(from_test.items()):\\n    print(k, v)\";\n",
       "                var nbb_cells = Jupyter.notebook.get_cells();\n",
       "                for (var i = 0; i < nbb_cells.length; ++i) {\n",
       "                    if (nbb_cells[i].input_prompt_number == nbb_cell_id) {\n",
       "                        if (nbb_cells[i].get_text() == nbb_unformatted_code) {\n",
       "                             nbb_cells[i].set_text(nbb_formatted_code);\n",
       "                        }\n",
       "                        break;\n",
       "                    }\n",
       "                }\n",
       "            }, 500);\n",
       "            "
      ],
      "text/plain": [
       "<IPython.core.display.Javascript object>"
      ]
     },
     "metadata": {},
     "output_type": "display_data"
    }
   ],
   "source": [
    "for k, v in sorted(from_test.items()):\n",
    "    print(k, v)"
   ]
  }
 ],
 "metadata": {
  "kernelspec": {
   "display_name": "Django Shell-Plus",
   "language": "python",
   "name": "django_extensions"
  },
  "language_info": {
   "codemirror_mode": {
    "name": "ipython",
    "version": 3
   },
   "file_extension": ".py",
   "mimetype": "text/x-python",
   "name": "python",
   "nbconvert_exporter": "python",
   "pygments_lexer": "ipython3",
   "version": "3.9.6"
  }
 },
 "nbformat": 4,
 "nbformat_minor": 5
}
