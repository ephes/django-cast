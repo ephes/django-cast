{
 "cells": [
  {
   "cell_type": "code",
   "execution_count": 5,
   "id": "65d3ca0b",
   "metadata": {},
   "outputs": [
    {
     "data": {
      "application/javascript": [
       "\n",
       "            setTimeout(function() {\n",
       "                var nbb_cell_id = 5;\n",
       "                var nbb_unformatted_code = \"%load_ext nb_black\";\n",
       "                var nbb_formatted_code = \"%load_ext nb_black\";\n",
       "                var nbb_cells = Jupyter.notebook.get_cells();\n",
       "                for (var i = 0; i < nbb_cells.length; ++i) {\n",
       "                    if (nbb_cells[i].input_prompt_number == nbb_cell_id) {\n",
       "                        if (nbb_cells[i].get_text() == nbb_unformatted_code) {\n",
       "                             nbb_cells[i].set_text(nbb_formatted_code);\n",
       "                        }\n",
       "                        break;\n",
       "                    }\n",
       "                }\n",
       "            }, 500);\n",
       "            "
      ],
      "text/plain": [
       "<IPython.core.display.Javascript object>"
      ]
     },
     "metadata": {},
     "output_type": "display_data"
    }
   ],
   "source": [
    "%load_ext nb_black"
   ]
  },
  {
   "cell_type": "code",
   "execution_count": 1,
   "id": "a4392e76",
   "metadata": {},
   "outputs": [],
   "source": [
    "import json\n",
    "\n",
    "from django.test.client import RequestFactory\n",
    "\n",
    "from wagtail.core import blocks\n",
    "from wagtail.core.fields import StreamField\n",
    "\n",
    "from cast.models import ContentBlock"
   ]
  },
  {
   "cell_type": "code",
   "execution_count": 2,
   "id": "40bf5ffe",
   "metadata": {},
   "outputs": [
    {
     "name": "stdout",
     "output_type": "stream",
     "text": [
      "test entry\n"
     ]
    }
   ],
   "source": [
    "post = Post.objects.first()\n",
    "print(post.title)"
   ]
  },
  {
   "cell_type": "code",
   "execution_count": 3,
   "id": "57d85112",
   "metadata": {},
   "outputs": [],
   "source": [
    "data = post.body.raw_data"
   ]
  },
  {
   "cell_type": "code",
   "execution_count": 6,
   "id": "e98d73b1",
   "metadata": {},
   "outputs": [
    {
     "data": {
      "text/plain": [
       "[{'type': 'overview', 'value': [{'type': 'heading', 'value': 'overview heading 1', 'id': '99eb484e-6e61-4fb0-8e89-0d7c8177c160'}], 'id': 'c1fecaec-dc9d-4c84-88f3-e88f97cb07e1'}]"
      ]
     },
     "execution_count": 6,
     "metadata": {},
     "output_type": "execute_result"
    },
    {
     "data": {
      "application/javascript": [
       "\n",
       "            setTimeout(function() {\n",
       "                var nbb_cell_id = 6;\n",
       "                var nbb_unformatted_code = \"data\";\n",
       "                var nbb_formatted_code = \"data\";\n",
       "                var nbb_cells = Jupyter.notebook.get_cells();\n",
       "                for (var i = 0; i < nbb_cells.length; ++i) {\n",
       "                    if (nbb_cells[i].input_prompt_number == nbb_cell_id) {\n",
       "                        if (nbb_cells[i].get_text() == nbb_unformatted_code) {\n",
       "                             nbb_cells[i].set_text(nbb_formatted_code);\n",
       "                        }\n",
       "                        break;\n",
       "                    }\n",
       "                }\n",
       "            }, 500);\n",
       "            "
      ],
      "text/plain": [
       "<IPython.core.display.Javascript object>"
      ]
     },
     "metadata": {},
     "output_type": "display_data"
    }
   ],
   "source": [
    "data"
   ]
  },
  {
   "cell_type": "code",
   "execution_count": 29,
   "id": "38badd9a",
   "metadata": {},
   "outputs": [
    {
     "data": {
      "application/javascript": [
       "\n",
       "            setTimeout(function() {\n",
       "                var nbb_cell_id = 29;\n",
       "                var nbb_unformatted_code = \"body_data = [\\n    {\\n        \\\"type\\\": \\\"overview\\\",\\n        \\\"value\\\": [\\n            {\\n                \\\"type\\\": \\\"heading\\\",\\n                \\\"value\\\": \\\"in_all heading\\\",\\n            }\\n        ],\\n    },\\n    {\\n        \\\"type\\\": \\\"detail\\\",\\n        \\\"value\\\": [\\n            {\\n                \\\"type\\\": \\\"heading\\\",\\n                \\\"value\\\": \\\"only_in_detail heading\\\",\\n            }\\n        ],\\n    },\\n]\";\n",
       "                var nbb_formatted_code = \"body_data = [\\n    {\\n        \\\"type\\\": \\\"overview\\\",\\n        \\\"value\\\": [\\n            {\\n                \\\"type\\\": \\\"heading\\\",\\n                \\\"value\\\": \\\"in_all heading\\\",\\n            }\\n        ],\\n    },\\n    {\\n        \\\"type\\\": \\\"detail\\\",\\n        \\\"value\\\": [\\n            {\\n                \\\"type\\\": \\\"heading\\\",\\n                \\\"value\\\": \\\"only_in_detail heading\\\",\\n            }\\n        ],\\n    },\\n]\";\n",
       "                var nbb_cells = Jupyter.notebook.get_cells();\n",
       "                for (var i = 0; i < nbb_cells.length; ++i) {\n",
       "                    if (nbb_cells[i].input_prompt_number == nbb_cell_id) {\n",
       "                        if (nbb_cells[i].get_text() == nbb_unformatted_code) {\n",
       "                             nbb_cells[i].set_text(nbb_formatted_code);\n",
       "                        }\n",
       "                        break;\n",
       "                    }\n",
       "                }\n",
       "            }, 500);\n",
       "            "
      ],
      "text/plain": [
       "<IPython.core.display.Javascript object>"
      ]
     },
     "metadata": {},
     "output_type": "display_data"
    }
   ],
   "source": [
    "body_data = [\n",
    "    {\n",
    "        \"type\": \"overview\",\n",
    "        \"value\": [\n",
    "            {\n",
    "                \"type\": \"heading\",\n",
    "                \"value\": \"in_all heading\",\n",
    "            }\n",
    "        ],\n",
    "    },\n",
    "    {\n",
    "        \"type\": \"detail\",\n",
    "        \"value\": [\n",
    "            {\n",
    "                \"type\": \"heading\",\n",
    "                \"value\": \"only_in_detail heading\",\n",
    "            }\n",
    "        ],\n",
    "    },\n",
    "]"
   ]
  },
  {
   "cell_type": "code",
   "execution_count": 25,
   "id": "f2c1f927",
   "metadata": {},
   "outputs": [
    {
     "data": {
      "application/javascript": [
       "\n",
       "            setTimeout(function() {\n",
       "                var nbb_cell_id = 25;\n",
       "                var nbb_unformatted_code = \"post.body = json.dumps(body_data)\";\n",
       "                var nbb_formatted_code = \"post.body = json.dumps(body_data)\";\n",
       "                var nbb_cells = Jupyter.notebook.get_cells();\n",
       "                for (var i = 0; i < nbb_cells.length; ++i) {\n",
       "                    if (nbb_cells[i].input_prompt_number == nbb_cell_id) {\n",
       "                        if (nbb_cells[i].get_text() == nbb_unformatted_code) {\n",
       "                             nbb_cells[i].set_text(nbb_formatted_code);\n",
       "                        }\n",
       "                        break;\n",
       "                    }\n",
       "                }\n",
       "            }, 500);\n",
       "            "
      ],
      "text/plain": [
       "<IPython.core.display.Javascript object>"
      ]
     },
     "metadata": {},
     "output_type": "display_data"
    }
   ],
   "source": [
    "post.body = json.dumps(body_data)"
   ]
  },
  {
   "cell_type": "code",
   "execution_count": 26,
   "id": "2a8ec3e3",
   "metadata": {},
   "outputs": [
    {
     "data": {
      "application/javascript": [
       "\n",
       "            setTimeout(function() {\n",
       "                var nbb_cell_id = 26;\n",
       "                var nbb_unformatted_code = \"post.save()\";\n",
       "                var nbb_formatted_code = \"post.save()\";\n",
       "                var nbb_cells = Jupyter.notebook.get_cells();\n",
       "                for (var i = 0; i < nbb_cells.length; ++i) {\n",
       "                    if (nbb_cells[i].input_prompt_number == nbb_cell_id) {\n",
       "                        if (nbb_cells[i].get_text() == nbb_unformatted_code) {\n",
       "                             nbb_cells[i].set_text(nbb_formatted_code);\n",
       "                        }\n",
       "                        break;\n",
       "                    }\n",
       "                }\n",
       "            }, 500);\n",
       "            "
      ],
      "text/plain": [
       "<IPython.core.display.Javascript object>"
      ]
     },
     "metadata": {},
     "output_type": "display_data"
    }
   ],
   "source": [
    "post.save()"
   ]
  },
  {
   "cell_type": "code",
   "execution_count": 27,
   "id": "6b3bf3cd",
   "metadata": {},
   "outputs": [
    {
     "data": {
      "application/javascript": [
       "\n",
       "            setTimeout(function() {\n",
       "                var nbb_cell_id = 27;\n",
       "                var nbb_unformatted_code = \"factory = RequestFactory()\\npost_list_path = reverse(\\\"cast:post_list\\\", kwargs={\\\"slug\\\": post.blog.slug})\\nrequest = factory.get(post_list_path)\";\n",
       "                var nbb_formatted_code = \"factory = RequestFactory()\\npost_list_path = reverse(\\\"cast:post_list\\\", kwargs={\\\"slug\\\": post.blog.slug})\\nrequest = factory.get(post_list_path)\";\n",
       "                var nbb_cells = Jupyter.notebook.get_cells();\n",
       "                for (var i = 0; i < nbb_cells.length; ++i) {\n",
       "                    if (nbb_cells[i].input_prompt_number == nbb_cell_id) {\n",
       "                        if (nbb_cells[i].get_text() == nbb_unformatted_code) {\n",
       "                             nbb_cells[i].set_text(nbb_formatted_code);\n",
       "                        }\n",
       "                        break;\n",
       "                    }\n",
       "                }\n",
       "            }, 500);\n",
       "            "
      ],
      "text/plain": [
       "<IPython.core.display.Javascript object>"
      ]
     },
     "metadata": {},
     "output_type": "display_data"
    }
   ],
   "source": [
    "factory = RequestFactory()\n",
    "post_list_path = reverse(\"cast:post_list\", kwargs={\"slug\": post.blog.slug})\n",
    "request = factory.get(post_list_path)"
   ]
  },
  {
   "cell_type": "code",
   "execution_count": 28,
   "id": "602d54b7",
   "metadata": {},
   "outputs": [
    {
     "data": {
      "text/plain": [
       "<TemplateResponse status_code=200, \"text/html; charset=utf-8\">"
      ]
     },
     "execution_count": 28,
     "metadata": {},
     "output_type": "execute_result"
    },
    {
     "data": {
      "application/javascript": [
       "\n",
       "            setTimeout(function() {\n",
       "                var nbb_cell_id = 28;\n",
       "                var nbb_unformatted_code = \"post.serve(request)\";\n",
       "                var nbb_formatted_code = \"post.serve(request)\";\n",
       "                var nbb_cells = Jupyter.notebook.get_cells();\n",
       "                for (var i = 0; i < nbb_cells.length; ++i) {\n",
       "                    if (nbb_cells[i].input_prompt_number == nbb_cell_id) {\n",
       "                        if (nbb_cells[i].get_text() == nbb_unformatted_code) {\n",
       "                             nbb_cells[i].set_text(nbb_formatted_code);\n",
       "                        }\n",
       "                        break;\n",
       "                    }\n",
       "                }\n",
       "            }, 500);\n",
       "            "
      ],
      "text/plain": [
       "<IPython.core.display.Javascript object>"
      ]
     },
     "metadata": {},
     "output_type": "display_data"
    }
   ],
   "source": [
    "post.serve(request)"
   ]
  }
 ],
 "metadata": {
  "kernelspec": {
   "display_name": "Django Shell-Plus",
   "language": "python",
   "name": "django_extensions"
  },
  "language_info": {
   "codemirror_mode": {
    "name": "ipython",
    "version": 3
   },
   "file_extension": ".py",
   "mimetype": "text/x-python",
   "name": "python",
   "nbconvert_exporter": "python",
   "pygments_lexer": "ipython3",
   "version": "3.9.6"
  }
 },
 "nbformat": 4,
 "nbformat_minor": 5
}
