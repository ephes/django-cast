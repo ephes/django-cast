{
 "cells": [
  {
   "cell_type": "code",
   "execution_count": 2,
   "id": "868ecec6",
   "metadata": {},
   "outputs": [],
   "source": [
    "blog = Blog.objects.first()"
   ]
  },
  {
   "cell_type": "markdown",
   "id": "7d7e74a8",
   "metadata": {},
   "source": [
    "# How Many Queries?"
   ]
  },
  {
   "cell_type": "code",
   "execution_count": 16,
   "id": "238d0d82",
   "metadata": {},
   "outputs": [],
   "source": [
    "import sqlparse\n",
    "\n",
    "from django.db import connection, reset_queries\n",
    "\n",
    "from cast.models.pages import AbstractPost"
   ]
  },
  {
   "cell_type": "code",
   "execution_count": 27,
   "id": "f08e02ce",
   "metadata": {},
   "outputs": [],
   "source": [
    "reset_queries()\n",
    "# pages = list(Page.objects.live().descendant_of(blog).type(AbstractPost).specific())# .order_by(\"-visible_date\"))\n",
    "pages = list(Page.objects.live().child_of(blog).specific())"
   ]
  },
  {
   "cell_type": "code",
   "execution_count": 28,
   "id": "c0d911f2",
   "metadata": {},
   "outputs": [
    {
     "name": "stdout",
     "output_type": "stream",
     "text": [
      "3\n",
      "SELECT \"wagtailcore_page\".\"id\",\n",
      "       \"wagtailcore_page\".\"content_type_id\"\n",
      "FROM \"wagtailcore_page\"\n",
      "WHERE (\"wagtailcore_page\".\"live\"\n",
      "       AND \"wagtailcore_page\".\"path\" LIKE '000100010001%' ESCAPE '\\'\n",
      "       AND \"wagtailcore_page\".\"depth\" >= 3\n",
      "       AND NOT (\"wagtailcore_page\".\"id\" = 3)\n",
      "       AND \"wagtailcore_page\".\"depth\" = 4)\n",
      "ORDER BY \"wagtailcore_page\".\"path\" ASC\n",
      "-----------------------\n",
      "SELECT \"wagtailcore_page\".\"id\",\n",
      "       \"wagtailcore_page\".\"path\",\n",
      "       \"wagtailcore_page\".\"depth\",\n",
      "       \"wagtailcore_page\".\"numchild\",\n",
      "       \"wagtailcore_page\".\"translation_key\",\n",
      "       \"wagtailcore_page\".\"locale_id\",\n",
      "       \"wagtailcore_page\".\"latest_revision_id\",\n",
      "       \"wagtailcore_page\".\"live\",\n",
      "       \"wagtailcore_page\".\"has_unpublished_changes\",\n",
      "       \"wagtailcore_page\".\"first_published_at\",\n",
      "       \"wagtailcore_page\".\"last_published_at\",\n",
      "       \"wagtailcore_page\".\"live_revision_id\",\n",
      "       \"wagtailcore_page\".\"go_live_at\",\n",
      "       \"wagtailcore_page\".\"expire_at\",\n",
      "       \"wagtailcore_page\".\"expired\",\n",
      "       \"wagtailcore_page\".\"locked\",\n",
      "       \"wagtailcore_page\".\"locked_at\",\n",
      "       \"wagtailcore_page\".\"locked_by_id\",\n",
      "       \"wagtailcore_page\".\"title\",\n",
      "       \"wagtailcore_page\".\"draft_title\",\n",
      "       \"wagtailcore_page\".\"slug\",\n",
      "       \"wagtailcore_page\".\"content_type_id\",\n",
      "       \"wagtailcore_page\".\"url_path\",\n",
      "       \"wagtailcore_page\".\"owner_id\",\n",
      "       \"wagtailcore_page\".\"seo_title\",\n",
      "       \"wagtailcore_page\".\"show_in_menus\",\n",
      "       \"wagtailcore_page\".\"search_description\",\n",
      "       \"wagtailcore_page\".\"latest_revision_created_at\",\n",
      "       \"wagtailcore_page\".\"alias_of_id\",\n",
      "       \"cast_post\".\"page_ptr_id\",\n",
      "       \"cast_post\".\"created\",\n",
      "       \"cast_post\".\"modified\",\n",
      "       \"cast_post\".\"uuid\",\n",
      "       \"cast_post\".\"pub_date\",\n",
      "       \"cast_post\".\"visible_date\",\n",
      "       \"cast_post\".\"podcast_audio_id\",\n",
      "       \"cast_post\".\"keywords\",\n",
      "       \"cast_post\".\"explicit\",\n",
      "       \"cast_post\".\"block\",\n",
      "       \"cast_post\".\"comments_enabled\",\n",
      "       \"cast_post\".\"body\"\n",
      "FROM \"cast_post\"\n",
      "INNER JOIN \"wagtailcore_page\" ON (\"cast_post\".\"page_ptr_id\" = \"wagtailcore_page\".\"id\")\n",
      "WHERE \"cast_post\".\"page_ptr_id\" IN (5,\n",
      "                                    6,\n",
      "                                    7,\n",
      "                                    10,\n",
      "                                    11)\n",
      "ORDER BY \"wagtailcore_page\".\"path\" ASC\n",
      "-----------------------\n",
      "SELECT \"wagtailcore_page\".\"id\",\n",
      "       \"wagtailcore_page\".\"path\",\n",
      "       \"wagtailcore_page\".\"depth\",\n",
      "       \"wagtailcore_page\".\"numchild\",\n",
      "       \"wagtailcore_page\".\"translation_key\",\n",
      "       \"wagtailcore_page\".\"locale_id\",\n",
      "       \"wagtailcore_page\".\"latest_revision_id\",\n",
      "       \"wagtailcore_page\".\"live\",\n",
      "       \"wagtailcore_page\".\"has_unpublished_changes\",\n",
      "       \"wagtailcore_page\".\"first_published_at\",\n",
      "       \"wagtailcore_page\".\"last_published_at\",\n",
      "       \"wagtailcore_page\".\"live_revision_id\",\n",
      "       \"wagtailcore_page\".\"go_live_at\",\n",
      "       \"wagtailcore_page\".\"expire_at\",\n",
      "       \"wagtailcore_page\".\"expired\",\n",
      "       \"wagtailcore_page\".\"locked\",\n",
      "       \"wagtailcore_page\".\"locked_at\",\n",
      "       \"wagtailcore_page\".\"locked_by_id\",\n",
      "       \"wagtailcore_page\".\"title\",\n",
      "       \"wagtailcore_page\".\"draft_title\",\n",
      "       \"wagtailcore_page\".\"slug\",\n",
      "       \"wagtailcore_page\".\"content_type_id\",\n",
      "       \"wagtailcore_page\".\"url_path\",\n",
      "       \"wagtailcore_page\".\"owner_id\",\n",
      "       \"wagtailcore_page\".\"seo_title\",\n",
      "       \"wagtailcore_page\".\"show_in_menus\",\n",
      "       \"wagtailcore_page\".\"search_description\",\n",
      "       \"wagtailcore_page\".\"latest_revision_created_at\",\n",
      "       \"wagtailcore_page\".\"alias_of_id\",\n",
      "       \"cast_episode\".\"page_ptr_id\",\n",
      "       \"cast_episode\".\"created\",\n",
      "       \"cast_episode\".\"modified\",\n",
      "       \"cast_episode\".\"uuid\",\n",
      "       \"cast_episode\".\"pub_date\",\n",
      "       \"cast_episode\".\"visible_date\",\n",
      "       \"cast_episode\".\"keywords\",\n",
      "       \"cast_episode\".\"explicit\",\n",
      "       \"cast_episode\".\"block\",\n",
      "       \"cast_episode\".\"comments_enabled\",\n",
      "       \"cast_episode\".\"body\",\n",
      "       \"cast_episode\".\"podcast_audio_id\"\n",
      "FROM \"cast_episode\"\n",
      "INNER JOIN \"wagtailcore_page\" ON (\"cast_episode\".\"page_ptr_id\" = \"wagtailcore_page\".\"id\")\n",
      "WHERE \"cast_episode\".\"page_ptr_id\" IN (20)\n",
      "ORDER BY \"wagtailcore_page\".\"path\" ASC\n",
      "-----------------------\n"
     ]
    }
   ],
   "source": [
    "print(len(connection.queries))\n",
    "for query in connection.queries:\n",
    "    stmt = sqlparse.format(query[\"sql\"], reindent=True)\n",
    "    print(stmt)\n",
    "    print(\"-----------------------\")"
   ]
  },
  {
   "cell_type": "code",
   "execution_count": 14,
   "id": "64ec9030",
   "metadata": {},
   "outputs": [
    {
     "data": {
      "text/plain": [
       "datetime.datetime(2021, 9, 26, 7, 17, tzinfo=datetime.timezone.utc)"
      ]
     },
     "execution_count": 14,
     "metadata": {},
     "output_type": "execute_result"
    }
   ],
   "source": [
    "pages[0].visible_date"
   ]
  },
  {
   "cell_type": "code",
   "execution_count": 29,
   "id": "c89d3609",
   "metadata": {},
   "outputs": [
    {
     "data": {
      "text/plain": [
       "6"
      ]
     },
     "execution_count": 29,
     "metadata": {},
     "output_type": "execute_result"
    }
   ],
   "source": [
    "len(pages)"
   ]
  },
  {
   "cell_type": "code",
   "execution_count": 22,
   "id": "264776d3",
   "metadata": {},
   "outputs": [
    {
     "data": {
      "text/plain": [
       "1"
      ]
     },
     "execution_count": 22,
     "metadata": {},
     "output_type": "execute_result"
    }
   ],
   "source": [
    "Episode.objects.count()"
   ]
  },
  {
   "cell_type": "code",
   "execution_count": 23,
   "id": "944e8c78",
   "metadata": {},
   "outputs": [
    {
     "data": {
      "text/plain": [
       "7"
      ]
     },
     "execution_count": 23,
     "metadata": {},
     "output_type": "execute_result"
    }
   ],
   "source": [
    "Post.objects.count()"
   ]
  },
  {
   "cell_type": "code",
   "execution_count": null,
   "id": "4c0a8609",
   "metadata": {},
   "outputs": [],
   "source": []
  }
 ],
 "metadata": {
  "kernelspec": {
   "display_name": "Django Shell-Plus",
   "language": "python",
   "name": "django_extensions"
  },
  "language_info": {
   "codemirror_mode": {
    "name": "ipython",
    "version": 3
   },
   "file_extension": ".py",
   "mimetype": "text/x-python",
   "name": "python",
   "nbconvert_exporter": "python",
   "pygments_lexer": "ipython3",
   "version": "3.11.1"
  }
 },
 "nbformat": 4,
 "nbformat_minor": 5
}
