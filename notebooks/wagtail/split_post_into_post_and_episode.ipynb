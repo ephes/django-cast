{
 "cells": [
  {
   "cell_type": "code",
   "execution_count": 4,
   "id": "0fcb5a42",
   "metadata": {},
   "outputs": [
    {
     "data": {
      "text/plain": [
       "8"
      ]
     },
     "execution_count": 4,
     "metadata": {},
     "output_type": "execute_result"
    }
   ],
   "source": [
    "Post.objects.count()"
   ]
  },
  {
   "cell_type": "code",
   "execution_count": 5,
   "id": "a491ae7d",
   "metadata": {},
   "outputs": [],
   "source": [
    "post = Post.objects.first()"
   ]
  },
  {
   "cell_type": "code",
   "execution_count": 6,
   "id": "7d04c6c0",
   "metadata": {},
   "outputs": [
    {
     "data": {
      "text/plain": [
       "<Post: Ein kleiner Audiopost>"
      ]
     },
     "execution_count": 6,
     "metadata": {},
     "output_type": "execute_result"
    }
   ],
   "source": [
    "post"
   ]
  },
  {
   "cell_type": "code",
   "execution_count": 8,
   "id": "4daf048a",
   "metadata": {},
   "outputs": [
    {
     "data": {
      "text/plain": [
       "<Audio: 3 - Python 3.10>"
      ]
     },
     "execution_count": 8,
     "metadata": {},
     "output_type": "execute_result"
    }
   ],
   "source": [
    "Audio.objects.last()"
   ]
  },
  {
   "cell_type": "code",
   "execution_count": 9,
   "id": "53887f41",
   "metadata": {},
   "outputs": [],
   "source": [
    "post.podcast_audio = Audio.objects.last()"
   ]
  },
  {
   "cell_type": "code",
   "execution_count": 10,
   "id": "9583dcee",
   "metadata": {},
   "outputs": [],
   "source": [
    "post.save()"
   ]
  },
  {
   "cell_type": "code",
   "execution_count": 13,
   "id": "2eca5674",
   "metadata": {},
   "outputs": [
    {
     "data": {
      "text/plain": [
       "<Page: Mein kleines Blog>"
      ]
     },
     "execution_count": 13,
     "metadata": {},
     "output_type": "execute_result"
    }
   ],
   "source": [
    "Page.objects.get(path=\"0001000100010001\").get_parent()"
   ]
  },
  {
   "cell_type": "code",
   "execution_count": 20,
   "id": "d6cfae9e",
   "metadata": {},
   "outputs": [
    {
     "name": "stdout",
     "output_type": "stream",
     "text": [
      "4\n",
      "Mein kleines Blog\n"
     ]
    }
   ],
   "source": [
    "steplen = 4\n",
    "path = post.path\n",
    "depth = int(len(path) / steplen)\n",
    "print(depth)\n",
    "parent_path = path[0:(depth - 1) * steplen]\n",
    "print(Page.objects.get(path=parent_path))"
   ]
  },
  {
   "cell_type": "code",
   "execution_count": 21,
   "id": "f4ba1177",
   "metadata": {},
   "outputs": [
    {
     "data": {
      "text/plain": [
       "3"
      ]
     },
     "execution_count": 21,
     "metadata": {},
     "output_type": "execute_result"
    }
   ],
   "source": [
    "Blog.objects.first().pk"
   ]
  },
  {
   "cell_type": "markdown",
   "id": "796277cc",
   "metadata": {},
   "source": [
    "# Copy Podcast-Episodes to new Episode Model"
   ]
  },
  {
   "cell_type": "code",
   "execution_count": 22,
   "id": "f5999e12",
   "metadata": {},
   "outputs": [],
   "source": [
    "exclude = {\"path\", \"translation_key\", \"id\"}\n",
    "episode_field_names = set([f.name for f in Episode._meta.fields if f.name not in exclude])\n",
    "for post in Post.objects.filter(podcast_audio__isnull=False):\n",
    "    blog = post.blog\n",
    "    kwargs = {k: v for k, v in post.__dict__.items() if k in episode_field_names}\n",
    "    kwargs[\"content_type\"] = ContentType.objects.get(app_label=\"cast\", model=\"episode\")\n",
    "    episode = Episode(**kwargs)\n",
    "    post.delete()\n",
    "    episode = blog.add_child(instance=episode)"
   ]
  },
  {
   "cell_type": "code",
   "execution_count": 24,
   "id": "c2e1372c",
   "metadata": {},
   "outputs": [
    {
     "data": {
      "text/plain": [
       "1"
      ]
     },
     "execution_count": 24,
     "metadata": {},
     "output_type": "execute_result"
    }
   ],
   "source": [
    "Episode.objects.count()"
   ]
  },
  {
   "cell_type": "code",
   "execution_count": 25,
   "id": "186e3f1d",
   "metadata": {},
   "outputs": [
    {
     "data": {
      "text/plain": [
       "7"
      ]
     },
     "execution_count": 25,
     "metadata": {},
     "output_type": "execute_result"
    }
   ],
   "source": [
    "Post.objects.count()"
   ]
  },
  {
   "cell_type": "code",
   "execution_count": 26,
   "id": "f8da16f3",
   "metadata": {},
   "outputs": [
    {
     "data": {
      "text/plain": [
       "0"
      ]
     },
     "execution_count": 26,
     "metadata": {},
     "output_type": "execute_result"
    }
   ],
   "source": [
    "Post.published.count()"
   ]
  },
  {
   "cell_type": "code",
   "execution_count": 27,
   "id": "d8fc769c",
   "metadata": {},
   "outputs": [
    {
     "data": {
      "text/plain": [
       "<Episode: Ein kleiner Audiopost>"
      ]
     },
     "execution_count": 27,
     "metadata": {},
     "output_type": "execute_result"
    }
   ],
   "source": [
    "Episode.objects.first()"
   ]
  },
  {
   "cell_type": "markdown",
   "id": "bbade266",
   "metadata": {},
   "source": [
    "# Undo"
   ]
  },
  {
   "cell_type": "code",
   "execution_count": 3,
   "id": "f339dbf7",
   "metadata": {},
   "outputs": [
    {
     "data": {
      "text/plain": [
       "['foo']"
      ]
     },
     "execution_count": 3,
     "metadata": {},
     "output_type": "execute_result"
    }
   ],
   "source": [
    "\"foo\".split(\"_\")"
   ]
  },
  {
   "cell_type": "code",
   "execution_count": 2,
   "id": "2ce199a8",
   "metadata": {},
   "outputs": [
    {
     "name": "stdout",
     "output_type": "stream",
     "text": [
      "ein-kleiner-audiopost ein-kleiner-audiopost\n",
      "ein-post-mit-bild ein-post-mit-bild\n",
      "ein-post-mit-video ein-post-mit-video\n",
      "ein-post-mit-gallerie ein-post-mit-gallerie\n",
      "noch-ein-audiopost noch-ein-audiopost\n",
      "beispielpost beispielpost\n",
      "nach-dem-update nach-dem-update\n",
      "audio-test audio-test\n"
     ]
    }
   ],
   "source": [
    "Episode.objects.all().delete()\n",
    "for post in Post.objects.all():\n",
    "    print(post.slug, post.slug.split(\"_\")[0])\n",
    "    post.slug = post.slug.split(\"_\")[0]\n",
    "    post.save()"
   ]
  },
  {
   "cell_type": "code",
   "execution_count": 9,
   "id": "28d55e75",
   "metadata": {},
   "outputs": [
    {
     "ename": "NameError",
     "evalue": "name 'datetime' is not defined",
     "output_type": "error",
     "traceback": [
      "\u001B[0;31m---------------------------------------------------------------------------\u001B[0m",
      "\u001B[0;31mNameError\u001B[0m                                 Traceback (most recent call last)",
      "Cell \u001B[0;32mIn[9], line 1\u001B[0m\n\u001B[0;32m----> 1\u001B[0m {\u001B[38;5;124m'\u001B[39m\u001B[38;5;124mdepth\u001B[39m\u001B[38;5;124m'\u001B[39m: \u001B[38;5;241m4\u001B[39m, \u001B[38;5;124m'\u001B[39m\u001B[38;5;124mnumchild\u001B[39m\u001B[38;5;124m'\u001B[39m: \u001B[38;5;241m0\u001B[39m, \u001B[38;5;124m'\u001B[39m\u001B[38;5;124mtitle\u001B[39m\u001B[38;5;124m'\u001B[39m: \u001B[38;5;124m'\u001B[39m\u001B[38;5;124mEin kleiner Audiopost\u001B[39m\u001B[38;5;124m'\u001B[39m, \u001B[38;5;124m'\u001B[39m\u001B[38;5;124mslug\u001B[39m\u001B[38;5;124m'\u001B[39m: \u001B[38;5;124m'\u001B[39m\u001B[38;5;124mein-kleiner-audiopost\u001B[39m\u001B[38;5;124m'\u001B[39m, \u001B[38;5;124m'\u001B[39m\u001B[38;5;124mlive\u001B[39m\u001B[38;5;124m'\u001B[39m: \u001B[38;5;28;01mTrue\u001B[39;00m, \u001B[38;5;124m'\u001B[39m\u001B[38;5;124mhas_unpublished_changes\u001B[39m\u001B[38;5;124m'\u001B[39m: \u001B[38;5;28;01mFalse\u001B[39;00m, \u001B[38;5;124m'\u001B[39m\u001B[38;5;124murl_path\u001B[39m\u001B[38;5;124m'\u001B[39m: \u001B[38;5;124m'\u001B[39m\u001B[38;5;124m/home/mein-kleines-blog/ein-kleiner-audiopost/\u001B[39m\u001B[38;5;124m'\u001B[39m, \u001B[38;5;124m'\u001B[39m\u001B[38;5;124mseo_title\u001B[39m\u001B[38;5;124m'\u001B[39m: \u001B[38;5;124m'\u001B[39m\u001B[38;5;124m'\u001B[39m, \u001B[38;5;124m'\u001B[39m\u001B[38;5;124mshow_in_menus\u001B[39m\u001B[38;5;124m'\u001B[39m: \u001B[38;5;28;01mFalse\u001B[39;00m, \u001B[38;5;124m'\u001B[39m\u001B[38;5;124msearch_description\u001B[39m\u001B[38;5;124m'\u001B[39m: \u001B[38;5;124m'\u001B[39m\u001B[38;5;124m'\u001B[39m, \u001B[38;5;124m'\u001B[39m\u001B[38;5;124mgo_live_at\u001B[39m\u001B[38;5;124m'\u001B[39m: \u001B[38;5;28;01mNone\u001B[39;00m, \u001B[38;5;124m'\u001B[39m\u001B[38;5;124mexpire_at\u001B[39m\u001B[38;5;124m'\u001B[39m: \u001B[38;5;28;01mNone\u001B[39;00m, \u001B[38;5;124m'\u001B[39m\u001B[38;5;124mexpired\u001B[39m\u001B[38;5;124m'\u001B[39m: \u001B[38;5;28;01mFalse\u001B[39;00m, \u001B[38;5;124m'\u001B[39m\u001B[38;5;124mlocked\u001B[39m\u001B[38;5;124m'\u001B[39m: \u001B[38;5;28;01mFalse\u001B[39;00m, \u001B[38;5;124m'\u001B[39m\u001B[38;5;124mlatest_revision_created_at\u001B[39m\u001B[38;5;124m'\u001B[39m: \u001B[43mdatetime\u001B[49m\u001B[38;5;241m.\u001B[39mdatetime(\u001B[38;5;241m2021\u001B[39m, \u001B[38;5;241m9\u001B[39m, \u001B[38;5;241m26\u001B[39m, \u001B[38;5;241m5\u001B[39m, \u001B[38;5;241m18\u001B[39m, \u001B[38;5;241m50\u001B[39m, \u001B[38;5;241m418984\u001B[39m, tzinfo\u001B[38;5;241m=\u001B[39mdatetime\u001B[38;5;241m.\u001B[39mtimezone\u001B[38;5;241m.\u001B[39mutc), \u001B[38;5;124m'\u001B[39m\u001B[38;5;124mfirst_published_at\u001B[39m\u001B[38;5;124m'\u001B[39m: datetime\u001B[38;5;241m.\u001B[39mdatetime(\u001B[38;5;241m2021\u001B[39m, \u001B[38;5;241m9\u001B[39m, \u001B[38;5;241m26\u001B[39m, \u001B[38;5;241m5\u001B[39m, \u001B[38;5;241m18\u001B[39m, \u001B[38;5;241m50\u001B[39m, \u001B[38;5;241m439874\u001B[39m, tzinfo\u001B[38;5;241m=\u001B[39mdatetime\u001B[38;5;241m.\u001B[39mtimezone\u001B[38;5;241m.\u001B[39mutc), \u001B[38;5;124m'\u001B[39m\u001B[38;5;124mlast_published_at\u001B[39m\u001B[38;5;124m'\u001B[39m: datetime\u001B[38;5;241m.\u001B[39mdatetime(\u001B[38;5;241m2021\u001B[39m, \u001B[38;5;241m9\u001B[39m, \u001B[38;5;241m26\u001B[39m, \u001B[38;5;241m5\u001B[39m, \u001B[38;5;241m18\u001B[39m, \u001B[38;5;241m50\u001B[39m, \u001B[38;5;241m439874\u001B[39m, tzinfo\u001B[38;5;241m=\u001B[39mdatetime\u001B[38;5;241m.\u001B[39mtimezone\u001B[38;5;241m.\u001B[39mutc), \u001B[38;5;124m'\u001B[39m\u001B[38;5;124mdraft_title\u001B[39m\u001B[38;5;124m'\u001B[39m: \u001B[38;5;124m'\u001B[39m\u001B[38;5;124mEin kleiner Audiopost\u001B[39m\u001B[38;5;124m'\u001B[39m, \u001B[38;5;124m'\u001B[39m\u001B[38;5;124mlocked_at\u001B[39m\u001B[38;5;124m'\u001B[39m: \u001B[38;5;28;01mNone\u001B[39;00m, \u001B[38;5;124m'\u001B[39m\u001B[38;5;124mcreated\u001B[39m\u001B[38;5;124m'\u001B[39m: datetime\u001B[38;5;241m.\u001B[39mdatetime(\u001B[38;5;241m2021\u001B[39m, \u001B[38;5;241m9\u001B[39m, \u001B[38;5;241m23\u001B[39m, \u001B[38;5;241m13\u001B[39m, \u001B[38;5;241m45\u001B[39m, \u001B[38;5;241m56\u001B[39m, \u001B[38;5;241m451000\u001B[39m, tzinfo\u001B[38;5;241m=\u001B[39mdatetime\u001B[38;5;241m.\u001B[39mtimezone\u001B[38;5;241m.\u001B[39mutc), \u001B[38;5;124m'\u001B[39m\u001B[38;5;124mmodified\u001B[39m\u001B[38;5;124m'\u001B[39m: datetime\u001B[38;5;241m.\u001B[39mdatetime(\u001B[38;5;241m2023\u001B[39m, \u001B[38;5;241m1\u001B[39m, \u001B[38;5;241m7\u001B[39m, \u001B[38;5;241m23\u001B[39m, \u001B[38;5;241m6\u001B[39m, \u001B[38;5;241m1\u001B[39m, \u001B[38;5;241m497672\u001B[39m, tzinfo\u001B[38;5;241m=\u001B[39mdatetime\u001B[38;5;241m.\u001B[39mtimezone\u001B[38;5;241m.\u001B[39mutc), \u001B[38;5;124m'\u001B[39m\u001B[38;5;124muuid\u001B[39m\u001B[38;5;124m'\u001B[39m: UUID(\u001B[38;5;124m'\u001B[39m\u001B[38;5;124ma348570a-9a1f-418d-a3ef-87baa41ee8d5\u001B[39m\u001B[38;5;124m'\u001B[39m), \u001B[38;5;124m'\u001B[39m\u001B[38;5;124mpub_date\u001B[39m\u001B[38;5;124m'\u001B[39m: \u001B[38;5;28;01mNone\u001B[39;00m, \u001B[38;5;124m'\u001B[39m\u001B[38;5;124mvisible_date\u001B[39m\u001B[38;5;124m'\u001B[39m: datetime\u001B[38;5;241m.\u001B[39mdatetime(\u001B[38;5;241m2021\u001B[39m, \u001B[38;5;241m9\u001B[39m, \u001B[38;5;241m23\u001B[39m, \u001B[38;5;241m13\u001B[39m, \u001B[38;5;241m45\u001B[39m, tzinfo\u001B[38;5;241m=\u001B[39mdatetime\u001B[38;5;241m.\u001B[39mtimezone\u001B[38;5;241m.\u001B[39mutc), \u001B[38;5;124m'\u001B[39m\u001B[38;5;124mblock\u001B[39m\u001B[38;5;124m'\u001B[39m: \u001B[38;5;28;01mFalse\u001B[39;00m, \u001B[38;5;124m'\u001B[39m\u001B[38;5;124mcomments_enabled\u001B[39m\u001B[38;5;124m'\u001B[39m: \u001B[38;5;28;01mTrue\u001B[39;00m}\n",
      "\u001B[0;31mNameError\u001B[0m: name 'datetime' is not defined"
     ]
    }
   ],
   "source": [
    "{'depth': 4, 'numchild': 0, 'title': 'Ein kleiner Audiopost', 'slug': 'ein-kleiner-audiopost', 'live': True, 'has_unpublished_changes': False, 'url_path': '/home/mein-kleines-blog/ein-kleiner-audiopost/', 'seo_title': '', 'show_in_menus': False, 'search_description': '', 'go_live_at': None, 'expire_at': None, 'expired': False, 'locked': False, 'latest_revision_created_at': datetime.datetime(2021, 9, 26, 5, 18, 50, 418984, tzinfo=datetime.timezone.utc), 'first_published_at': datetime.datetime(2021, 9, 26, 5, 18, 50, 439874, tzinfo=datetime.timezone.utc), 'last_published_at': datetime.datetime(2021, 9, 26, 5, 18, 50, 439874, tzinfo=datetime.timezone.utc), 'draft_title': 'Ein kleiner Audiopost', 'locked_at': None, 'created': datetime.datetime(2021, 9, 23, 13, 45, 56, 451000, tzinfo=datetime.timezone.utc), 'modified': datetime.datetime(2023, 1, 7, 23, 6, 1, 497672, tzinfo=datetime.timezone.utc), 'uuid': UUID('a348570a-9a1f-418d-a3ef-87baa41ee8d5'), 'pub_date': None, 'visible_date': datetime.datetime(2021, 9, 23, 13, 45, tzinfo=datetime.timezone.utc), 'block': False, 'comments_enabled': True}"
   ]
  },
  {
   "cell_type": "markdown",
   "id": "8124d790",
   "metadata": {},
   "source": [
    "{'depth': 4, 'numchild': 0, 'title': 'Ein kleiner Audiopost', 'slug': 'ein-kleiner-audiopost', 'live': True, 'has_unpublished_changes': False, 'url_path': '/home/mein-kleines-blog/ein-kleiner-audiopost/', 'seo_title': '', 'show_in_menus': False, 'search_description': '', 'go_live_at': None, 'expire_at': None, 'expired': False, 'locked': False, 'latest_revision_created_at': datetime.datetime(2021, 9, 26, 5, 18, 50, 418984, tzinfo=datetime.timezone.utc), 'first_published_at': datetime.datetime(2021, 9, 26, 5, 18, 50, 439874, tzinfo=datetime.timezone.utc), 'last_published_at': datetime.datetime(2021, 9, 26, 5, 18, 50, 439874, tzinfo=datetime.timezone.utc), 'draft_title': 'Ein kleiner Audiopost', 'locked_at': None, 'created': datetime.datetime(2021, 9, 23, 13, 45, 56, 451000, tzinfo=datetime.timezone.utc), 'modified': datetime.datetime(2023, 1, 7, 23, 6, 1, 497672, tzinfo=datetime.timezone.utc), 'uuid': UUID('a348570a-9a1f-418d-a3ef-87baa41ee8d5'), 'pub_date': None, 'visible_date': datetime.datetime(2021, 9, 23, 13, 45, tzinfo=datetime.timezone.utc), 'block': False, 'comments_enabled': True, 'body': <StreamValue [<block overview: <StreamValue [<block audio: <Audio: 1 - asdf>>]>>]>}"
   ]
  },
  {
   "cell_type": "markdown",
   "id": "db1ff0b1",
   "metadata": {},
   "source": [
    "# Debug"
   ]
  },
  {
   "cell_type": "code",
   "execution_count": 29,
   "id": "5e746de5",
   "metadata": {},
   "outputs": [],
   "source": [
    "blog = Blog.objects.first()"
   ]
  },
  {
   "cell_type": "code",
   "execution_count": 35,
   "id": "83d09c4d",
   "metadata": {},
   "outputs": [
    {
     "data": {
      "text/plain": [
       "5"
      ]
     },
     "execution_count": 35,
     "metadata": {},
     "output_type": "execute_result"
    }
   ],
   "source": [
    "Post.objects.live().descendant_of(blog).order_by(\"-visible_date\").count()"
   ]
  },
  {
   "cell_type": "code",
   "execution_count": 32,
   "id": "678e806f",
   "metadata": {},
   "outputs": [
    {
     "data": {
      "text/plain": [
       "<PageQuerySet [<Episode: Ein kleiner Audiopost>]>"
      ]
     },
     "execution_count": 32,
     "metadata": {},
     "output_type": "execute_result"
    }
   ],
   "source": [
    "Episode.objects.live()"
   ]
  },
  {
   "cell_type": "code",
   "execution_count": 40,
   "id": "3c9dedf7",
   "metadata": {},
   "outputs": [
    {
     "data": {
      "text/plain": [
       "6"
      ]
     },
     "execution_count": 40,
     "metadata": {},
     "output_type": "execute_result"
    }
   ],
   "source": [
    "Page.objects.live().descendant_of(blog).specific().order_by(\"-first_published_at\").count()"
   ]
  },
  {
   "cell_type": "code",
   "execution_count": null,
   "id": "5213f01a",
   "metadata": {},
   "outputs": [],
   "source": []
  }
 ],
 "metadata": {
  "kernelspec": {
   "display_name": "Django Shell-Plus",
   "language": "python",
   "name": "django_extensions"
  },
  "language_info": {
   "codemirror_mode": {
    "name": "ipython",
    "version": 3
   },
   "file_extension": ".py",
   "mimetype": "text/x-python",
   "name": "python",
   "nbconvert_exporter": "python",
   "pygments_lexer": "ipython3",
   "version": "3.11.2"
  }
 },
 "nbformat": 4,
 "nbformat_minor": 5
}
