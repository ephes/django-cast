{
 "cells": [
  {
   "cell_type": "code",
   "execution_count": 1,
   "id": "ef347143",
   "metadata": {},
   "outputs": [
    {
     "data": {
      "application/javascript": [
       "\n",
       "            setTimeout(function() {\n",
       "                var nbb_cell_id = 1;\n",
       "                var nbb_unformatted_code = \"%load_ext nb_black\";\n",
       "                var nbb_formatted_code = \"%load_ext nb_black\";\n",
       "                var nbb_cells = Jupyter.notebook.get_cells();\n",
       "                for (var i = 0; i < nbb_cells.length; ++i) {\n",
       "                    if (nbb_cells[i].input_prompt_number == nbb_cell_id) {\n",
       "                        if (nbb_cells[i].get_text() == nbb_unformatted_code) {\n",
       "                             nbb_cells[i].set_text(nbb_formatted_code);\n",
       "                        }\n",
       "                        break;\n",
       "                    }\n",
       "                }\n",
       "            }, 500);\n",
       "            "
      ],
      "text/plain": [
       "<IPython.core.display.Javascript object>"
      ]
     },
     "metadata": {},
     "output_type": "display_data"
    }
   ],
   "source": [
    "%load_ext nb_black"
   ]
  },
  {
   "cell_type": "code",
   "execution_count": 2,
   "id": "7305bd43",
   "metadata": {},
   "outputs": [
    {
     "data": {
      "application/javascript": [
       "\n",
       "            setTimeout(function() {\n",
       "                var nbb_cell_id = 2;\n",
       "                var nbb_unformatted_code = \"data = {'csrfmiddlewaretoken': '1G71jGRh2rmnDkCHxO7du5L2o6G4BSAp7xEC8oWqXYLxzFHW5dzPzjLq8B19okFp', 'next': '', 'comment_notifications': 'on', 'title': 'audio test', 'visible_date': '2022-11-19 13:27', 'body-count': '1', 'body-0-deleted': '', 'body-0-order': '0', 'body-0-type': 'overview', 'body-0-id': '79de484e-df4f-49c0-a662-10d49fa05c79', 'body-0-value-count': '2', 'body-0-value-0-deleted': '', 'body-0-value-0-order': '0', 'body-0-value-0-type': 'heading', 'body-0-value-0-id': 'c75f42f0-bee5-4985-aeab-4912e3fb4c25', 'body-0-value-0-value': 'Foo bar baz', 'body-0-value-1-deleted': '', 'body-0-value-1-order': '1', 'body-0-value-1-type': 'video', 'body-0-value-1-id': 'aed3e3a5-5d92-48d7-aad1-073698ed7c86', 'body-0-value-1-value': '1', 'body-0-value-2-deleted': '', 'body-0-value-2-order': '2', 'body-0-value-2-type': 'audio', 'body-0-value-2-id': 'ddddc7b9-2112-49c7-a55c-f16c00ea5db8', 'body-0-value-2-value': '2', 'slug': 'audio-test', 'seo_title': '', 'search_description': '', 'comments-TOTAL_FORMS': '0', 'comments-INITIAL_FORMS': '0', 'comments-MIN_NUM_FORMS': '0', 'comments-MAX_NUM_FORMS': '', 'go_live_at': '', 'expire_at': ''}\";\n",
       "                var nbb_formatted_code = \"data = {\\n    \\\"csrfmiddlewaretoken\\\": \\\"1G71jGRh2rmnDkCHxO7du5L2o6G4BSAp7xEC8oWqXYLxzFHW5dzPzjLq8B19okFp\\\",\\n    \\\"next\\\": \\\"\\\",\\n    \\\"comment_notifications\\\": \\\"on\\\",\\n    \\\"title\\\": \\\"audio test\\\",\\n    \\\"visible_date\\\": \\\"2022-11-19 13:27\\\",\\n    \\\"body-count\\\": \\\"1\\\",\\n    \\\"body-0-deleted\\\": \\\"\\\",\\n    \\\"body-0-order\\\": \\\"0\\\",\\n    \\\"body-0-type\\\": \\\"overview\\\",\\n    \\\"body-0-id\\\": \\\"79de484e-df4f-49c0-a662-10d49fa05c79\\\",\\n    \\\"body-0-value-count\\\": \\\"2\\\",\\n    \\\"body-0-value-0-deleted\\\": \\\"\\\",\\n    \\\"body-0-value-0-order\\\": \\\"0\\\",\\n    \\\"body-0-value-0-type\\\": \\\"heading\\\",\\n    \\\"body-0-value-0-id\\\": \\\"c75f42f0-bee5-4985-aeab-4912e3fb4c25\\\",\\n    \\\"body-0-value-0-value\\\": \\\"Foo bar baz\\\",\\n    \\\"body-0-value-1-deleted\\\": \\\"\\\",\\n    \\\"body-0-value-1-order\\\": \\\"1\\\",\\n    \\\"body-0-value-1-type\\\": \\\"video\\\",\\n    \\\"body-0-value-1-id\\\": \\\"aed3e3a5-5d92-48d7-aad1-073698ed7c86\\\",\\n    \\\"body-0-value-1-value\\\": \\\"1\\\",\\n    \\\"body-0-value-2-deleted\\\": \\\"\\\",\\n    \\\"body-0-value-2-order\\\": \\\"2\\\",\\n    \\\"body-0-value-2-type\\\": \\\"audio\\\",\\n    \\\"body-0-value-2-id\\\": \\\"ddddc7b9-2112-49c7-a55c-f16c00ea5db8\\\",\\n    \\\"body-0-value-2-value\\\": \\\"2\\\",\\n    \\\"slug\\\": \\\"audio-test\\\",\\n    \\\"seo_title\\\": \\\"\\\",\\n    \\\"search_description\\\": \\\"\\\",\\n    \\\"comments-TOTAL_FORMS\\\": \\\"0\\\",\\n    \\\"comments-INITIAL_FORMS\\\": \\\"0\\\",\\n    \\\"comments-MIN_NUM_FORMS\\\": \\\"0\\\",\\n    \\\"comments-MAX_NUM_FORMS\\\": \\\"\\\",\\n    \\\"go_live_at\\\": \\\"\\\",\\n    \\\"expire_at\\\": \\\"\\\",\\n}\";\n",
       "                var nbb_cells = Jupyter.notebook.get_cells();\n",
       "                for (var i = 0; i < nbb_cells.length; ++i) {\n",
       "                    if (nbb_cells[i].input_prompt_number == nbb_cell_id) {\n",
       "                        if (nbb_cells[i].get_text() == nbb_unformatted_code) {\n",
       "                             nbb_cells[i].set_text(nbb_formatted_code);\n",
       "                        }\n",
       "                        break;\n",
       "                    }\n",
       "                }\n",
       "            }, 500);\n",
       "            "
      ],
      "text/plain": [
       "<IPython.core.display.Javascript object>"
      ]
     },
     "metadata": {},
     "output_type": "display_data"
    }
   ],
   "source": [
    "data = {\n",
    "    \"csrfmiddlewaretoken\": \"1G71jGRh2rmnDkCHxO7du5L2o6G4BSAp7xEC8oWqXYLxzFHW5dzPzjLq8B19okFp\",\n",
    "    \"next\": \"\",\n",
    "    \"comment_notifications\": \"on\",\n",
    "    \"title\": \"audio test\",\n",
    "    \"visible_date\": \"2022-11-19 13:27\",\n",
    "    \"body-count\": \"1\",\n",
    "    \"body-0-deleted\": \"\",\n",
    "    \"body-0-order\": \"0\",\n",
    "    \"body-0-type\": \"overview\",\n",
    "    \"body-0-id\": \"79de484e-df4f-49c0-a662-10d49fa05c79\",\n",
    "    \"body-0-value-count\": \"2\",\n",
    "    \"body-0-value-0-deleted\": \"\",\n",
    "    \"body-0-value-0-order\": \"0\",\n",
    "    \"body-0-value-0-type\": \"heading\",\n",
    "    \"body-0-value-0-id\": \"c75f42f0-bee5-4985-aeab-4912e3fb4c25\",\n",
    "    \"body-0-value-0-value\": \"Foo bar baz\",\n",
    "    \"body-0-value-1-deleted\": \"\",\n",
    "    \"body-0-value-1-order\": \"1\",\n",
    "    \"body-0-value-1-type\": \"video\",\n",
    "    \"body-0-value-1-id\": \"aed3e3a5-5d92-48d7-aad1-073698ed7c86\",\n",
    "    \"body-0-value-1-value\": \"1\",\n",
    "    \"body-0-value-2-deleted\": \"\",\n",
    "    \"body-0-value-2-order\": \"2\",\n",
    "    \"body-0-value-2-type\": \"audio\",\n",
    "    \"body-0-value-2-id\": \"ddddc7b9-2112-49c7-a55c-f16c00ea5db8\",\n",
    "    \"body-0-value-2-value\": \"2\",\n",
    "    \"slug\": \"audio-test\",\n",
    "    \"seo_title\": \"\",\n",
    "    \"search_description\": \"\",\n",
    "    \"comments-TOTAL_FORMS\": \"0\",\n",
    "    \"comments-INITIAL_FORMS\": \"0\",\n",
    "    \"comments-MIN_NUM_FORMS\": \"0\",\n",
    "    \"comments-MAX_NUM_FORMS\": \"\",\n",
    "    \"go_live_at\": \"\",\n",
    "    \"expire_at\": \"\",\n",
    "}"
   ]
  },
  {
   "cell_type": "code",
   "execution_count": 13,
   "id": "1b67d0d5",
   "metadata": {},
   "outputs": [
    {
     "data": {
      "application/javascript": [
       "\n",
       "            setTimeout(function() {\n",
       "                var nbb_cell_id = 13;\n",
       "                var nbb_unformatted_code = \"data = {\\n    \\\"csrfmiddlewaretoken\\\": \\\"1G71jGRh2rmnDkCHxO7du5L2o6G4BSAp7xEC8oWqXYLxzFHW5dzPzjLq8B19okFp\\\",\\n    \\\"next\\\": \\\"\\\",\\n    \\\"comment_notifications\\\": \\\"on\\\",\\n    \\\"title\\\": \\\"audio test\\\",\\n    \\\"visible_date\\\": \\\"2022-11-19 13:27\\\",\\n    \\\"body-count\\\": \\\"1\\\",\\n    \\\"body-0-deleted\\\": \\\"\\\",\\n    \\\"body-0-order\\\": \\\"0\\\",\\n    \\\"body-0-type\\\": \\\"overview\\\",\\n    \\\"body-0-id\\\": \\\"79de484e-df4f-49c0-a662-10d49fa05c79\\\",\\n    \\\"body-0-value-count\\\": \\\"3\\\",\\n    \\\"body-0-value-0-deleted\\\": \\\"\\\",\\n    \\\"body-0-value-0-order\\\": \\\"0\\\",\\n    \\\"body-0-value-0-type\\\": \\\"heading\\\",\\n    \\\"body-0-value-0-id\\\": \\\"c75f42f0-bee5-4985-aeab-4912e3fb4c25\\\",\\n    \\\"body-0-value-0-value\\\": \\\"Foo bar baz\\\",\\n    \\\"body-0-value-1-deleted\\\": \\\"\\\",\\n    \\\"body-0-value-1-order\\\": \\\"1\\\",\\n    \\\"body-0-value-1-type\\\": \\\"video\\\",\\n    \\\"body-0-value-1-id\\\": \\\"aed3e3a5-5d92-48d7-aad1-073698ed7c86\\\",\\n    \\\"body-0-value-1-value\\\": \\\"1\\\",\\n    \\\"body-0-value-2-deleted\\\": \\\"\\\",\\n    \\\"body-0-value-2-order\\\": \\\"2\\\",\\n    \\\"body-0-value-2-type\\\": \\\"audio\\\",\\n    \\\"body-0-value-2-id\\\": \\\"ddddc7b9-2112-49c7-a55c-f16c00ea5db8\\\",\\n    \\\"body-0-value-2-value\\\": \\\"2\\\",\\n    \\\"slug\\\": \\\"audio-test\\\",\\n    \\\"seo_title\\\": \\\"\\\",\\n    \\\"search_description\\\": \\\"\\\",\\n    \\\"comments-TOTAL_FORMS\\\": \\\"0\\\",\\n    \\\"comments-INITIAL_FORMS\\\": \\\"0\\\",\\n    \\\"comments-MIN_NUM_FORMS\\\": \\\"0\\\",\\n    \\\"comments-MAX_NUM_FORMS\\\": \\\"\\\",\\n    \\\"go_live_at\\\": \\\"\\\",\\n    \\\"expire_at\\\": \\\"\\\",\\n}\";\n",
       "                var nbb_formatted_code = \"data = {\\n    \\\"csrfmiddlewaretoken\\\": \\\"1G71jGRh2rmnDkCHxO7du5L2o6G4BSAp7xEC8oWqXYLxzFHW5dzPzjLq8B19okFp\\\",\\n    \\\"next\\\": \\\"\\\",\\n    \\\"comment_notifications\\\": \\\"on\\\",\\n    \\\"title\\\": \\\"audio test\\\",\\n    \\\"visible_date\\\": \\\"2022-11-19 13:27\\\",\\n    \\\"body-count\\\": \\\"1\\\",\\n    \\\"body-0-deleted\\\": \\\"\\\",\\n    \\\"body-0-order\\\": \\\"0\\\",\\n    \\\"body-0-type\\\": \\\"overview\\\",\\n    \\\"body-0-id\\\": \\\"79de484e-df4f-49c0-a662-10d49fa05c79\\\",\\n    \\\"body-0-value-count\\\": \\\"3\\\",\\n    \\\"body-0-value-0-deleted\\\": \\\"\\\",\\n    \\\"body-0-value-0-order\\\": \\\"0\\\",\\n    \\\"body-0-value-0-type\\\": \\\"heading\\\",\\n    \\\"body-0-value-0-id\\\": \\\"c75f42f0-bee5-4985-aeab-4912e3fb4c25\\\",\\n    \\\"body-0-value-0-value\\\": \\\"Foo bar baz\\\",\\n    \\\"body-0-value-1-deleted\\\": \\\"\\\",\\n    \\\"body-0-value-1-order\\\": \\\"1\\\",\\n    \\\"body-0-value-1-type\\\": \\\"video\\\",\\n    \\\"body-0-value-1-id\\\": \\\"aed3e3a5-5d92-48d7-aad1-073698ed7c86\\\",\\n    \\\"body-0-value-1-value\\\": \\\"1\\\",\\n    \\\"body-0-value-2-deleted\\\": \\\"\\\",\\n    \\\"body-0-value-2-order\\\": \\\"2\\\",\\n    \\\"body-0-value-2-type\\\": \\\"audio\\\",\\n    \\\"body-0-value-2-id\\\": \\\"ddddc7b9-2112-49c7-a55c-f16c00ea5db8\\\",\\n    \\\"body-0-value-2-value\\\": \\\"2\\\",\\n    \\\"slug\\\": \\\"audio-test\\\",\\n    \\\"seo_title\\\": \\\"\\\",\\n    \\\"search_description\\\": \\\"\\\",\\n    \\\"comments-TOTAL_FORMS\\\": \\\"0\\\",\\n    \\\"comments-INITIAL_FORMS\\\": \\\"0\\\",\\n    \\\"comments-MIN_NUM_FORMS\\\": \\\"0\\\",\\n    \\\"comments-MAX_NUM_FORMS\\\": \\\"\\\",\\n    \\\"go_live_at\\\": \\\"\\\",\\n    \\\"expire_at\\\": \\\"\\\",\\n}\";\n",
       "                var nbb_cells = Jupyter.notebook.get_cells();\n",
       "                for (var i = 0; i < nbb_cells.length; ++i) {\n",
       "                    if (nbb_cells[i].input_prompt_number == nbb_cell_id) {\n",
       "                        if (nbb_cells[i].get_text() == nbb_unformatted_code) {\n",
       "                             nbb_cells[i].set_text(nbb_formatted_code);\n",
       "                        }\n",
       "                        break;\n",
       "                    }\n",
       "                }\n",
       "            }, 500);\n",
       "            "
      ],
      "text/plain": [
       "<IPython.core.display.Javascript object>"
      ]
     },
     "metadata": {},
     "output_type": "display_data"
    }
   ],
   "source": [
    "data = {\n",
    "    \"csrfmiddlewaretoken\": \"1G71jGRh2rmnDkCHxO7du5L2o6G4BSAp7xEC8oWqXYLxzFHW5dzPzjLq8B19okFp\",\n",
    "    \"next\": \"\",\n",
    "    \"comment_notifications\": \"on\",\n",
    "    \"title\": \"audio test\",\n",
    "    \"visible_date\": \"2022-11-19 13:27\",\n",
    "    \"body-count\": \"1\",\n",
    "    \"body-0-deleted\": \"\",\n",
    "    \"body-0-order\": \"0\",\n",
    "    \"body-0-type\": \"overview\",\n",
    "    \"body-0-id\": \"79de484e-df4f-49c0-a662-10d49fa05c79\",\n",
    "    \"body-0-value-count\": \"3\",\n",
    "    \"body-0-value-0-deleted\": \"\",\n",
    "    \"body-0-value-0-order\": \"0\",\n",
    "    \"body-0-value-0-type\": \"heading\",\n",
    "    \"body-0-value-0-id\": \"c75f42f0-bee5-4985-aeab-4912e3fb4c25\",\n",
    "    \"body-0-value-0-value\": \"Foo bar baz\",\n",
    "    \"body-0-value-1-deleted\": \"\",\n",
    "    \"body-0-value-1-order\": \"1\",\n",
    "    \"body-0-value-1-type\": \"video\",\n",
    "    \"body-0-value-1-id\": \"aed3e3a5-5d92-48d7-aad1-073698ed7c86\",\n",
    "    \"body-0-value-1-value\": \"1\",\n",
    "    \"body-0-value-2-deleted\": \"\",\n",
    "    \"body-0-value-2-order\": \"2\",\n",
    "    \"body-0-value-2-type\": \"audio\",\n",
    "    \"body-0-value-2-id\": \"ddddc7b9-2112-49c7-a55c-f16c00ea5db8\",\n",
    "    \"body-0-value-2-value\": \"2\",\n",
    "    \"slug\": \"audio-test\",\n",
    "    \"seo_title\": \"\",\n",
    "    \"search_description\": \"\",\n",
    "    \"comments-TOTAL_FORMS\": \"0\",\n",
    "    \"comments-INITIAL_FORMS\": \"0\",\n",
    "    \"comments-MIN_NUM_FORMS\": \"0\",\n",
    "    \"comments-MAX_NUM_FORMS\": \"\",\n",
    "    \"go_live_at\": \"\",\n",
    "    \"expire_at\": \"\",\n",
    "}"
   ]
  },
  {
   "cell_type": "code",
   "execution_count": 14,
   "id": "e1ff45b8",
   "metadata": {},
   "outputs": [
    {
     "name": "stdout",
     "output_type": "stream",
     "text": [
      "True\n"
     ]
    },
    {
     "name": "stderr",
     "output_type": "stream",
     "text": [
      "/Users/jochen/.virtualenvs/cast/lib/python3.11/site-packages/wagtail/admin/widgets/chooser.py:37: RemovedInWagtail50Warning: wagtail.admin.widgets.chooser.AdminChooser is deprecated. Custom chooser subclasses should inherit from wagtail.admin.widgets.chooser.BaseChooser instead\n",
      "  warnings.warn(\n"
     ]
    },
    {
     "data": {
      "application/javascript": [
       "\n",
       "            setTimeout(function() {\n",
       "                var nbb_cell_id = 14;\n",
       "                var nbb_unformatted_code = \"form_class = (\\n    Page.objects.get(slug=\\\"audio-test\\\").post.get_edit_handler().get_form_class()\\n)\\nform = form_class(data=data)\\nprint(form.is_valid())\";\n",
       "                var nbb_formatted_code = \"form_class = (\\n    Page.objects.get(slug=\\\"audio-test\\\").post.get_edit_handler().get_form_class()\\n)\\nform = form_class(data=data)\\nprint(form.is_valid())\";\n",
       "                var nbb_cells = Jupyter.notebook.get_cells();\n",
       "                for (var i = 0; i < nbb_cells.length; ++i) {\n",
       "                    if (nbb_cells[i].input_prompt_number == nbb_cell_id) {\n",
       "                        if (nbb_cells[i].get_text() == nbb_unformatted_code) {\n",
       "                             nbb_cells[i].set_text(nbb_formatted_code);\n",
       "                        }\n",
       "                        break;\n",
       "                    }\n",
       "                }\n",
       "            }, 500);\n",
       "            "
      ],
      "text/plain": [
       "<IPython.core.display.Javascript object>"
      ]
     },
     "metadata": {},
     "output_type": "display_data"
    }
   ],
   "source": [
    "form_class = (\n",
    "    Page.objects.get(slug=\"audio-test\").post.get_edit_handler().get_form_class()\n",
    ")\n",
    "form = form_class(data=data)\n",
    "print(form.is_valid())"
   ]
  },
  {
   "cell_type": "code",
   "execution_count": 15,
   "id": "1c753688",
   "metadata": {},
   "outputs": [
    {
     "data": {
      "text/plain": [
       "{'title': 'audio test',\n",
       " 'visible_date': datetime.datetime(2022, 11, 19, 13, 27, tzinfo=zoneinfo.ZoneInfo(key='UTC')),\n",
       " 'body': <StreamValue [<block overview: <StreamValue [<block heading: 'Foo bar baz'>, <block video: <Video: Video object (1)>>, <block audio: <Audio: 2 - pp 23 foobar>>]>>]>,\n",
       " 'slug': 'audio-test',\n",
       " 'seo_title': '',\n",
       " 'search_description': '',\n",
       " 'show_in_menus': False,\n",
       " 'go_live_at': None,\n",
       " 'expire_at': None,\n",
       " 'comment_notifications': True}"
      ]
     },
     "execution_count": 15,
     "metadata": {},
     "output_type": "execute_result"
    },
    {
     "data": {
      "application/javascript": [
       "\n",
       "            setTimeout(function() {\n",
       "                var nbb_cell_id = 15;\n",
       "                var nbb_unformatted_code = \"form.cleaned_data\";\n",
       "                var nbb_formatted_code = \"form.cleaned_data\";\n",
       "                var nbb_cells = Jupyter.notebook.get_cells();\n",
       "                for (var i = 0; i < nbb_cells.length; ++i) {\n",
       "                    if (nbb_cells[i].input_prompt_number == nbb_cell_id) {\n",
       "                        if (nbb_cells[i].get_text() == nbb_unformatted_code) {\n",
       "                             nbb_cells[i].set_text(nbb_formatted_code);\n",
       "                        }\n",
       "                        break;\n",
       "                    }\n",
       "                }\n",
       "            }, 500);\n",
       "            "
      ],
      "text/plain": [
       "<IPython.core.display.Javascript object>"
      ]
     },
     "metadata": {},
     "output_type": "display_data"
    }
   ],
   "source": [
    "form.cleaned_data"
   ]
  },
  {
   "cell_type": "code",
   "execution_count": 17,
   "id": "fa9cae42",
   "metadata": {},
   "outputs": [
    {
     "data": {
      "application/javascript": [
       "\n",
       "            setTimeout(function() {\n",
       "                var nbb_cell_id = 17;\n",
       "                var nbb_unformatted_code = \"data = {\\n    \\\"csrfmiddlewaretoken\\\": \\\"oQVIYbHlUJSNBy5IpIoGn6mdJDitgWmeuHsjNTMuPghXxTaXX7QiskmBt8Dy3ore\\\",\\n    \\\"next\\\": \\\"\\\",\\n    \\\"comment_notifications\\\": \\\"on\\\",\\n    \\\"title\\\": \\\"audio test\\\",\\n    \\\"visible_date\\\": \\\"2022-11-19 13:27\\\",\\n    \\\"body-count\\\": \\\"0\\\",\\n    \\\"body-0-deleted\\\": \\\"\\\",\\n    \\\"body-0-order\\\": \\\"0\\\",\\n    \\\"body-0-type\\\": \\\"overview\\\",\\n    \\\"body-0-id\\\": \\\"79de484e-df4f-49c0-a662-10d49fa05c79\\\",\\n    \\\"body-0-value-count\\\": \\\"2\\\",\\n    \\\"body-0-value-0-deleted\\\": \\\"\\\",\\n    \\\"body-0-value-0-order\\\": \\\"0\\\",\\n    \\\"body-0-value-0-type\\\": \\\"heading\\\",\\n    \\\"body-0-value-0-id\\\": \\\"c75f42f0-bee5-4985-aeab-4912e3fb4c25\\\",\\n    \\\"body-0-value-0-value\\\": \\\"Foo bar baz\\\",\\n    \\\"body-0-value-1-deleted\\\": \\\"\\\",\\n    \\\"body-0-value-1-order\\\": \\\"1\\\",\\n    \\\"body-0-value-1-type\\\": \\\"video\\\",\\n    \\\"body-0-value-1-id\\\": \\\"aed3e3a5-5d92-48d7-aad1-073698ed7c86\\\",\\n    \\\"body-0-value-1-value\\\": \\\"1\\\",\\n    \\\"body-0-value-2-deleted\\\": \\\"\\\",\\n    \\\"body-0-value-2-order\\\": \\\"2\\\",\\n    \\\"body-0-value-2-type\\\": \\\"audio\\\",\\n    \\\"body-0-value-2-id\\\": \\\"d96162a1-f375-4bc5-a64d-e52fe414075d\\\",\\n    \\\"body-0-value-2-value\\\": \\\"2\\\",\\n    \\\"slug\\\": \\\"audio-test\\\",\\n    \\\"seo_title\\\": \\\"\\\",\\n    \\\"search_description\\\": \\\"\\\",\\n    \\\"comments-TOTAL_FORMS\\\": \\\"0\\\",\\n    \\\"comments-INITIAL_FORMS\\\": \\\"0\\\",\\n    \\\"comments-MIN_NUM_FORMS\\\": \\\"0\\\",\\n    \\\"comments-MAX_NUM_FORMS\\\": \\\"\\\",\\n    \\\"go_live_at\\\": \\\"\\\",\\n    \\\"expire_at\\\": \\\"\\\",\\n}\";\n",
       "                var nbb_formatted_code = \"data = {\\n    \\\"csrfmiddlewaretoken\\\": \\\"oQVIYbHlUJSNBy5IpIoGn6mdJDitgWmeuHsjNTMuPghXxTaXX7QiskmBt8Dy3ore\\\",\\n    \\\"next\\\": \\\"\\\",\\n    \\\"comment_notifications\\\": \\\"on\\\",\\n    \\\"title\\\": \\\"audio test\\\",\\n    \\\"visible_date\\\": \\\"2022-11-19 13:27\\\",\\n    \\\"body-count\\\": \\\"0\\\",\\n    \\\"body-0-deleted\\\": \\\"\\\",\\n    \\\"body-0-order\\\": \\\"0\\\",\\n    \\\"body-0-type\\\": \\\"overview\\\",\\n    \\\"body-0-id\\\": \\\"79de484e-df4f-49c0-a662-10d49fa05c79\\\",\\n    \\\"body-0-value-count\\\": \\\"2\\\",\\n    \\\"body-0-value-0-deleted\\\": \\\"\\\",\\n    \\\"body-0-value-0-order\\\": \\\"0\\\",\\n    \\\"body-0-value-0-type\\\": \\\"heading\\\",\\n    \\\"body-0-value-0-id\\\": \\\"c75f42f0-bee5-4985-aeab-4912e3fb4c25\\\",\\n    \\\"body-0-value-0-value\\\": \\\"Foo bar baz\\\",\\n    \\\"body-0-value-1-deleted\\\": \\\"\\\",\\n    \\\"body-0-value-1-order\\\": \\\"1\\\",\\n    \\\"body-0-value-1-type\\\": \\\"video\\\",\\n    \\\"body-0-value-1-id\\\": \\\"aed3e3a5-5d92-48d7-aad1-073698ed7c86\\\",\\n    \\\"body-0-value-1-value\\\": \\\"1\\\",\\n    \\\"body-0-value-2-deleted\\\": \\\"\\\",\\n    \\\"body-0-value-2-order\\\": \\\"2\\\",\\n    \\\"body-0-value-2-type\\\": \\\"audio\\\",\\n    \\\"body-0-value-2-id\\\": \\\"d96162a1-f375-4bc5-a64d-e52fe414075d\\\",\\n    \\\"body-0-value-2-value\\\": \\\"2\\\",\\n    \\\"slug\\\": \\\"audio-test\\\",\\n    \\\"seo_title\\\": \\\"\\\",\\n    \\\"search_description\\\": \\\"\\\",\\n    \\\"comments-TOTAL_FORMS\\\": \\\"0\\\",\\n    \\\"comments-INITIAL_FORMS\\\": \\\"0\\\",\\n    \\\"comments-MIN_NUM_FORMS\\\": \\\"0\\\",\\n    \\\"comments-MAX_NUM_FORMS\\\": \\\"\\\",\\n    \\\"go_live_at\\\": \\\"\\\",\\n    \\\"expire_at\\\": \\\"\\\",\\n}\";\n",
       "                var nbb_cells = Jupyter.notebook.get_cells();\n",
       "                for (var i = 0; i < nbb_cells.length; ++i) {\n",
       "                    if (nbb_cells[i].input_prompt_number == nbb_cell_id) {\n",
       "                        if (nbb_cells[i].get_text() == nbb_unformatted_code) {\n",
       "                             nbb_cells[i].set_text(nbb_formatted_code);\n",
       "                        }\n",
       "                        break;\n",
       "                    }\n",
       "                }\n",
       "            }, 500);\n",
       "            "
      ],
      "text/plain": [
       "<IPython.core.display.Javascript object>"
      ]
     },
     "metadata": {},
     "output_type": "display_data"
    }
   ],
   "source": [
    "data = {\n",
    "    \"csrfmiddlewaretoken\": \"oQVIYbHlUJSNBy5IpIoGn6mdJDitgWmeuHsjNTMuPghXxTaXX7QiskmBt8Dy3ore\",\n",
    "    \"next\": \"\",\n",
    "    \"comment_notifications\": \"on\",\n",
    "    \"title\": \"audio test\",\n",
    "    \"visible_date\": \"2022-11-19 13:27\",\n",
    "    \"body-count\": \"0\",\n",
    "    \"body-0-deleted\": \"\",\n",
    "    \"body-0-order\": \"0\",\n",
    "    \"body-0-type\": \"overview\",\n",
    "    \"body-0-id\": \"79de484e-df4f-49c0-a662-10d49fa05c79\",\n",
    "    \"body-0-value-count\": \"2\",\n",
    "    \"body-0-value-0-deleted\": \"\",\n",
    "    \"body-0-value-0-order\": \"0\",\n",
    "    \"body-0-value-0-type\": \"heading\",\n",
    "    \"body-0-value-0-id\": \"c75f42f0-bee5-4985-aeab-4912e3fb4c25\",\n",
    "    \"body-0-value-0-value\": \"Foo bar baz\",\n",
    "    \"body-0-value-1-deleted\": \"\",\n",
    "    \"body-0-value-1-order\": \"1\",\n",
    "    \"body-0-value-1-type\": \"video\",\n",
    "    \"body-0-value-1-id\": \"aed3e3a5-5d92-48d7-aad1-073698ed7c86\",\n",
    "    \"body-0-value-1-value\": \"1\",\n",
    "    \"body-0-value-2-deleted\": \"\",\n",
    "    \"body-0-value-2-order\": \"2\",\n",
    "    \"body-0-value-2-type\": \"audio\",\n",
    "    \"body-0-value-2-id\": \"d96162a1-f375-4bc5-a64d-e52fe414075d\",\n",
    "    \"body-0-value-2-value\": \"2\",\n",
    "    \"slug\": \"audio-test\",\n",
    "    \"seo_title\": \"\",\n",
    "    \"search_description\": \"\",\n",
    "    \"comments-TOTAL_FORMS\": \"0\",\n",
    "    \"comments-INITIAL_FORMS\": \"0\",\n",
    "    \"comments-MIN_NUM_FORMS\": \"0\",\n",
    "    \"comments-MAX_NUM_FORMS\": \"\",\n",
    "    \"go_live_at\": \"\",\n",
    "    \"expire_at\": \"\",\n",
    "}"
   ]
  },
  {
   "cell_type": "code",
   "execution_count": null,
   "id": "18bdaef9",
   "metadata": {},
   "outputs": [],
   "source": []
  }
 ],
 "metadata": {
  "kernelspec": {
   "display_name": "Django Shell-Plus",
   "language": "python",
   "name": "django_extensions"
  },
  "language_info": {
   "codemirror_mode": {
    "name": "ipython",
    "version": 3
   },
   "file_extension": ".py",
   "mimetype": "text/x-python",
   "name": "python",
   "nbconvert_exporter": "python",
   "pygments_lexer": "ipython3",
   "version": "3.11.0"
  }
 },
 "nbformat": 4,
 "nbformat_minor": 5
}
