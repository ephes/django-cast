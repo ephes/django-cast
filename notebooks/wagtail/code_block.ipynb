{
 "cells": [
  {
   "cell_type": "code",
   "execution_count": 5,
   "id": "c4be38ec",
   "metadata": {},
   "outputs": [],
   "source": [
    "from pygments import highlight\n",
    "from pygments.lexers import PythonLexer\n",
    "from pygments.formatters import HtmlFormatter"
   ]
  },
  {
   "cell_type": "code",
   "execution_count": 15,
   "id": "d3d8e37d",
   "metadata": {},
   "outputs": [],
   "source": [
    "page = Page.objects.get(pk=21)\n",
    "post = page.specific"
   ]
  },
  {
   "cell_type": "code",
   "execution_count": 16,
   "id": "24fa853a",
   "metadata": {},
   "outputs": [
    {
     "data": {
      "text/plain": [
       "<Post: Code Block Test>"
      ]
     },
     "execution_count": 16,
     "metadata": {},
     "output_type": "execute_result"
    }
   ],
   "source": [
    "post"
   ]
  },
  {
   "cell_type": "code",
   "execution_count": 17,
   "id": "ba497601",
   "metadata": {},
   "outputs": [
    {
     "name": "stdout",
     "output_type": "stream",
     "text": [
      "<div class=\"block-overview\"><div class=\"block-code\">{&#x27;language&#x27;: &#x27;python&#x27;, &#x27;source&#x27;: &#x27;def hello_world():\\r\\n    print(&quot;hello world!&quot;)&#x27;}</div></div>\n"
     ]
    }
   ],
   "source": [
    "print(post.body)"
   ]
  },
  {
   "cell_type": "code",
   "execution_count": 18,
   "id": "a9294df5",
   "metadata": {},
   "outputs": [
    {
     "name": "stdout",
     "output_type": "stream",
     "text": [
      "{'type': 'overview', 'value': [{'type': 'code', 'value': {'language': 'python', 'source': 'def hello_world():\\r\\n    print(\"hello world!\")'}, 'id': '3d330bcc-0d75-4da3-8737-2791f91e1024'}], 'id': 'a73f27e5-6da2-49eb-94a9-071b6538e42f'}\n"
     ]
    }
   ],
   "source": [
    "print(post.body.raw_data[0])"
   ]
  },
  {
   "cell_type": "code",
   "execution_count": 19,
   "id": "844ea89a",
   "metadata": {},
   "outputs": [
    {
     "name": "stdout",
     "output_type": "stream",
     "text": [
      "{'language': 'python', 'source': 'def hello_world():\\r\\n    print(\"hello world!\")'}\n"
     ]
    }
   ],
   "source": [
    "code = post.body.raw_data[0][\"value\"][0][\"value\"]\n",
    "print(code)"
   ]
  },
  {
   "cell_type": "code",
   "execution_count": 10,
   "id": "905d8196",
   "metadata": {},
   "outputs": [
    {
     "name": "stdout",
     "output_type": "stream",
     "text": [
      "<div class=\"highlight\"><pre><span></span><span class=\"k\">def</span> <span class=\"nf\">hello_world</span><span class=\"p\">():</span>\n",
      "    <span class=\"nb\">print</span><span class=\"p\">(</span><span class=\"s2\">&quot;hello world!&quot;</span><span class=\"p\">)</span>\n",
      "</pre></div>\n",
      "\n"
     ]
    }
   ],
   "source": [
    "print(highlight(code, PythonLexer(), HtmlFormatter()))"
   ]
  },
  {
   "cell_type": "code",
   "execution_count": null,
   "id": "d7e03653",
   "metadata": {},
   "outputs": [],
   "source": []
  }
 ],
 "metadata": {
  "kernelspec": {
   "display_name": "Django Shell-Plus",
   "language": "python",
   "name": "django_extensions"
  },
  "language_info": {
   "codemirror_mode": {
    "name": "ipython",
    "version": 3
   },
   "file_extension": ".py",
   "mimetype": "text/x-python",
   "name": "python",
   "nbconvert_exporter": "python",
   "pygments_lexer": "ipython3",
   "version": "3.11.1"
  }
 },
 "nbformat": 4,
 "nbformat_minor": 5
}
