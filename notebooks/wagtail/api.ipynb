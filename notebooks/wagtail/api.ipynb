{
 "cells": [
  {
   "cell_type": "code",
   "execution_count": 6,
   "id": "57cc60b5",
   "metadata": {},
   "outputs": [],
   "source": [
    "from cast.api.wagtail_api import wagtail_api_router"
   ]
  },
  {
   "cell_type": "code",
   "execution_count": 2,
   "id": "30928074",
   "metadata": {},
   "outputs": [
    {
     "data": {
      "text/plain": [
       "'/cast/api/audios/'"
      ]
     },
     "execution_count": 2,
     "metadata": {},
     "output_type": "execute_result"
    }
   ],
   "source": [
    "reverse(\"cast:api:audio_list\")"
   ]
  },
  {
   "cell_type": "code",
   "execution_count": 7,
   "id": "001d4078",
   "metadata": {},
   "outputs": [
    {
     "data": {
      "text/plain": [
       "([<URLResolver <URLPattern list> (pages:pages) '^pages/'>],\n",
       " 'cast:api:wagtail',\n",
       " 'cast:api:wagtail')"
      ]
     },
     "execution_count": 7,
     "metadata": {},
     "output_type": "execute_result"
    }
   ],
   "source": [
    "wagtail_api_router.urls"
   ]
  },
  {
   "cell_type": "code",
   "execution_count": 11,
   "id": "446e8c21",
   "metadata": {},
   "outputs": [
    {
     "data": {
      "text/plain": [
       "'/cast/api/wagtail/pages/'"
      ]
     },
     "execution_count": 11,
     "metadata": {},
     "output_type": "execute_result"
    }
   ],
   "source": [
    "reverse(\"cast:api:wagtail:pages:listing\")"
   ]
  },
  {
   "cell_type": "code",
   "execution_count": null,
   "id": "192248f9",
   "metadata": {},
   "outputs": [],
   "source": []
  }
 ],
 "metadata": {
  "kernelspec": {
   "display_name": "Django Shell-Plus",
   "language": "python",
   "name": "django_extensions"
  },
  "language_info": {
   "codemirror_mode": {
    "name": "ipython",
    "version": 3
   },
   "file_extension": ".py",
   "mimetype": "text/x-python",
   "name": "python",
   "nbconvert_exporter": "python",
   "pygments_lexer": "ipython3",
   "version": "3.11.2"
  }
 },
 "nbformat": 4,
 "nbformat_minor": 5
}
