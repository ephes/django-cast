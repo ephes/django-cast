{
 "cells": [
  {
   "cell_type": "code",
   "execution_count": 1,
   "id": "745875d3",
   "metadata": {},
   "outputs": [],
   "source": [
    "from django.test.client import RequestFactory"
   ]
  },
  {
   "cell_type": "code",
   "execution_count": 2,
   "id": "b994167c",
   "metadata": {},
   "outputs": [
    {
     "data": {
      "text/plain": [
       "2"
      ]
     },
     "execution_count": 2,
     "metadata": {},
     "output_type": "execute_result"
    }
   ],
   "source": [
    "Post.objects.count()"
   ]
  },
  {
   "cell_type": "code",
   "execution_count": 3,
   "id": "5aff3bf8",
   "metadata": {},
   "outputs": [],
   "source": [
    "post = Post.objects.first()"
   ]
  },
  {
   "cell_type": "code",
   "execution_count": 5,
   "id": "80b5ef65",
   "metadata": {},
   "outputs": [],
   "source": [
    "factory = RequestFactory()\n",
    "post_list_path = reverse(\"cast:post_list\", kwargs={\"slug\": post.blog.slug})\n",
    "request = factory.get(post_list_path)"
   ]
  },
  {
   "cell_type": "code",
   "execution_count": 7,
   "id": "23bfe011",
   "metadata": {},
   "outputs": [],
   "source": [
    "r = post.serve(request)"
   ]
  },
  {
   "cell_type": "code",
   "execution_count": 8,
   "id": "e4d041b3",
   "metadata": {},
   "outputs": [
    {
     "data": {
      "text/plain": [
       "<TemplateResponse status_code=200, \"text/html; charset=utf-8\">"
      ]
     },
     "execution_count": 8,
     "metadata": {},
     "output_type": "execute_result"
    }
   ],
   "source": [
    "r"
   ]
  },
  {
   "cell_type": "code",
   "execution_count": 9,
   "id": "ed7de775",
   "metadata": {},
   "outputs": [
    {
     "data": {
      "text/plain": [
       "['__bytes__',\n",
       " '__class__',\n",
       " '__contains__',\n",
       " '__delattr__',\n",
       " '__delitem__',\n",
       " '__dict__',\n",
       " '__dir__',\n",
       " '__doc__',\n",
       " '__eq__',\n",
       " '__format__',\n",
       " '__ge__',\n",
       " '__getattribute__',\n",
       " '__getitem__',\n",
       " '__getstate__',\n",
       " '__gt__',\n",
       " '__hash__',\n",
       " '__init__',\n",
       " '__init_subclass__',\n",
       " '__iter__',\n",
       " '__le__',\n",
       " '__lt__',\n",
       " '__module__',\n",
       " '__ne__',\n",
       " '__new__',\n",
       " '__reduce__',\n",
       " '__reduce_ex__',\n",
       " '__repr__',\n",
       " '__setattr__',\n",
       " '__setitem__',\n",
       " '__sizeof__',\n",
       " '__str__',\n",
       " '__subclasshook__',\n",
       " '__weakref__',\n",
       " '_charset',\n",
       " '_container',\n",
       " '_content_type_for_repr',\n",
       " '_handler_class',\n",
       " '_is_rendered',\n",
       " '_post_render_callbacks',\n",
       " '_reason_phrase',\n",
       " '_request',\n",
       " '_resource_closers',\n",
       " 'add_post_render_callback',\n",
       " 'charset',\n",
       " 'close',\n",
       " 'closed',\n",
       " 'content',\n",
       " 'context_data',\n",
       " 'cookies',\n",
       " 'delete_cookie',\n",
       " 'flush',\n",
       " 'get',\n",
       " 'getvalue',\n",
       " 'has_header',\n",
       " 'headers',\n",
       " 'is_rendered',\n",
       " 'items',\n",
       " 'make_bytes',\n",
       " 'readable',\n",
       " 'reason_phrase',\n",
       " 'render',\n",
       " 'rendered_content',\n",
       " 'rendering_attrs',\n",
       " 'resolve_context',\n",
       " 'resolve_template',\n",
       " 'seekable',\n",
       " 'serialize',\n",
       " 'serialize_headers',\n",
       " 'set_cookie',\n",
       " 'set_signed_cookie',\n",
       " 'setdefault',\n",
       " 'status_code',\n",
       " 'streaming',\n",
       " 'tell',\n",
       " 'template_name',\n",
       " 'using',\n",
       " 'writable',\n",
       " 'write',\n",
       " 'writelines']"
      ]
     },
     "execution_count": 9,
     "metadata": {},
     "output_type": "execute_result"
    }
   ],
   "source": [
    "dir(r)"
   ]
  },
  {
   "cell_type": "code",
   "execution_count": 10,
   "id": "08191ab5",
   "metadata": {},
   "outputs": [
    {
     "ename": "ContentNotRenderedError",
     "evalue": "The response content must be rendered before it can be accessed.",
     "output_type": "error",
     "traceback": [
      "\u001b[0;31m---------------------------------------------------------------------------\u001b[0m",
      "\u001b[0;31mContentNotRenderedError\u001b[0m                   Traceback (most recent call last)",
      "\u001b[0;32m/var/folders/35/mhty_0hd42ddfvyk3_09f1hc0000gn/T/ipykernel_19079/1564565600.py\u001b[0m in \u001b[0;36m<module>\u001b[0;34m\u001b[0m\n\u001b[0;32m----> 1\u001b[0;31m \u001b[0mr\u001b[0m\u001b[0;34m.\u001b[0m\u001b[0mcontent\u001b[0m\u001b[0;34m\u001b[0m\u001b[0;34m\u001b[0m\u001b[0m\n\u001b[0m",
      "\u001b[0;32m~/.virtualenvs/cast/lib/python3.9/site-packages/django/template/response.py\u001b[0m in \u001b[0;36mcontent\u001b[0;34m(self)\u001b[0m\n\u001b[1;32m    124\u001b[0m     \u001b[0;32mdef\u001b[0m \u001b[0mcontent\u001b[0m\u001b[0;34m(\u001b[0m\u001b[0mself\u001b[0m\u001b[0;34m)\u001b[0m\u001b[0;34m:\u001b[0m\u001b[0;34m\u001b[0m\u001b[0;34m\u001b[0m\u001b[0m\n\u001b[1;32m    125\u001b[0m         \u001b[0;32mif\u001b[0m \u001b[0;32mnot\u001b[0m \u001b[0mself\u001b[0m\u001b[0;34m.\u001b[0m\u001b[0m_is_rendered\u001b[0m\u001b[0;34m:\u001b[0m\u001b[0;34m\u001b[0m\u001b[0;34m\u001b[0m\u001b[0m\n\u001b[0;32m--> 126\u001b[0;31m             raise ContentNotRenderedError(\n\u001b[0m\u001b[1;32m    127\u001b[0m                 \u001b[0;34m'The response content must be rendered before it can be accessed.'\u001b[0m\u001b[0;34m\u001b[0m\u001b[0;34m\u001b[0m\u001b[0m\n\u001b[1;32m    128\u001b[0m             )\n",
      "\u001b[0;31mContentNotRenderedError\u001b[0m: The response content must be rendered before it can be accessed."
     ]
    }
   ],
   "source": [
    "r.content"
   ]
  },
  {
   "cell_type": "code",
   "execution_count": 11,
   "id": "7a5b99fc",
   "metadata": {},
   "outputs": [
    {
     "data": {
      "text/plain": [
       "<TemplateResponse status_code=200, \"text/html; charset=utf-8\">"
      ]
     },
     "execution_count": 11,
     "metadata": {},
     "output_type": "execute_result"
    }
   ],
   "source": [
    "r.render()"
   ]
  },
  {
   "cell_type": "code",
   "execution_count": 14,
   "id": "600596f6",
   "metadata": {},
   "outputs": [
    {
     "data": {
      "text/plain": [
       "b'\\n\\n<!DOCTYPE html>\\n<html lang=\"en\">\\n  <head>\\n    <meta charset=\"utf-8\">\\n    <meta http-equiv=\"x-ua-compatible\" content=\"ie=edge\">\\n    <title>Wagtail/Django-Cast Example</title>\\n    <meta name=\"viewport\" content=\"width=device-width, initial-scale=1.0\">\\n    <meta name=\"description\" content=\"\">\\n    <meta name=\"author\" content=\"\">\\n\\n    <!-- HTML5 shim, for IE6-8 support of HTML5 elements -->\\n    <!--[if lt IE 9]>\\n      <script src=\"https://cdnjs.cloudflare.com/ajax/libs/html5shiv/3.7.3/html5shiv.min.js\"></script>\\n    <![endif]-->\\n\\n    <link rel=\"icon\" href=\"/static/images/favicons/favicon.ico\">\\n\\n    \\n  \\n\\n\\n    <!-- Latest compiled and minified Bootstrap 4.1.1 CSS -->\\n    <link rel=\"stylesheet\" href=\"https://stackpath.bootstrapcdn.com/bootstrap/4.1.1/css/bootstrap.min.css\" integrity=\"sha384-WskhaSGFgHYWDcbwN70/dfYBj47jz9qbsMId/iRN3ewGhXQFZCSftd1LZCfmhktB\" crossorigin=\"anonymous\">\\n\\n\\n    <!-- Your stuff: Third-party CSS libraries go here -->\\n\\n    <!-- This file stores project-specific CSS -->\\n\\n    <link href=\"/static/css/project.css\" rel=\"stylesheet\">\\n\\n\\n    \\n  <link href=\"/static/css/cast.css\" rel=\"stylesheet\">\\n\\n    <link rel=\"stylesheet\" type=\"text/css\" href=\"/static/fluent_comments/css/ajaxcomments.css\" />\\n\\n\\n  </head>\\n  <body>\\n\\n    <div class=\"m-b-1\">\\n      <nav class=\"navbar navbar-expand-md navbar-light bg-light\">\\n        <button class=\"navbar-toggler navbar-toggler-right\" type=\"button\" data-toggle=\"collapse\" data-target=\"#navbarSupportedContent\" aria-controls=\"navbarSupportedContent\" aria-expanded=\"false\" aria-label=\"Toggle navigation\">\\n          <span class=\"navbar-toggler-icon\"></span>\\n        </button>\\n        <a class=\"navbar-brand\" href=\"/\">Wagtail/Django-Cast Example</a>\\n\\n        <div class=\"collapse navbar-collapse\" id=\"navbarSupportedContent\">\\n          <ul class=\"navbar-nav mr-auto\">\\n            <li class=\"nav-item active\">\\n              <a class=\"nav-link\" href=\"/\">Home <span class=\"sr-only\">(current)</span></a>\\n            </li>\\n            <li class=\"nav-item\">\\n              <a class=\"nav-link\" href=\"/about/\">About</a>\\n            </li>\\n          </ul>\\n        </div>\\n      </nav>\\n\\n    </div>\\n    <div class=\"container\">\\n\\n      \\n\\n      \\n  \\n\\n<article>\\n  <h2><a href=\"/testblog/test-entry/\">test entry</a></h2>\\n  \\n    \\n      <section class=\"block-overview\">\\n        <div class=\"block-heading\">overview heading</div>\\n      </section>\\n    \\n  \\n    \\n      <section class=\"block-detail\">\\n        <div class=\"block-heading\">detail heading</div>\\n      </section>\\n    \\n  \\n</article>\\n\\n\\n  \\n\\n\\n<div id=\"comments-None\" data-object-id=\"None\" class=\"comments  empty\">\\n    \\n</div>\\n\\n\\n  \\n\\n\\n  \\n    <form id=\"comment-form-46\" data-object-id=\"46\" action=\"/show/comments/post/\" method=\"post\" class=\"js-comments-form comments-form form-horizontal\"\\n          data-ajax-action=\"/show/comments/post/ajax/\">\\n      \\n  \\n\\n      \\n        \\n          \\n\\n<input type=\"hidden\" name=\"csrfmiddlewaretoken\" value=\"QVcumV7scd1Tu7RNC9VP5gSg7FA0VJHQM3FFQXIwPcQ5KKv3QXD9xoNswmo5oQXE\"> <input type=\"hidden\" name=\"content_type\" value=\"cast.post\" id=\"id_content_type\"> <input type=\"hidden\" name=\"object_pk\" value=\"46\" id=\"id_object_pk\"> <input type=\"hidden\" name=\"timestamp\" value=\"1628959914\" id=\"id_timestamp\"> <input type=\"hidden\" name=\"security_hash\" value=\"50b27c3998ede68477fb5c819f3c63f75a631c53\" id=\"id_security_hash\"> <div id=\"div_id_name\" class=\"form-group row\"> <label for=\"id_name\" class=\"col-form-label col-sm-2 requiredField\">\\n                Name<span class=\"asteriskField\">*</span> </label> <div class=\"col-sm-10\"> <input type=\"text\" name=\"name\" maxlength=\"50\" class=\"textinput textInput form-control\" required id=\"id_name\"> </div> </div> <div id=\"div_id_comment\" class=\"form-group row\"> <label for=\"id_comment\" class=\"col-form-label col-sm-2 requiredField\">\\n                Comment<span class=\"asteriskField\">*</span> </label> <div class=\"col-sm-10\"> <textarea name=\"comment\" cols=\"40\" rows=\"10\" maxlength=\"3000\" class=\"textarea form-control\" required id=\"id_comment\">\\n</textarea> </div> </div> <div id=\"div_id_honeypot\" class=\"form-group row\"> <label for=\"id_honeypot\" class=\"col-form-label col-sm-2\">\\n                If you enter anything in this field your comment will be treated as spam\\n            </label> <div class=\"col-sm-10\"> <input type=\"text\" name=\"honeypot\" class=\"textinput textInput form-control\" id=\"id_honeypot\"> </div> </div> <input type=\"hidden\" name=\"parent\" id=\"id_parent\">\\n\\n        \\n\\n        \\n          \\n            <div class=\"form-group\">\\n              <div class=\"col-sm-offset-2 col-sm-10\">\\n                <input type=\"submit\" name=\"post\" class=\"btn btn-primary\" value=\"Post Comment\" />\\n                <input type=\"submit\" name=\"preview\" class=\"btn btn-default\" value=\"Preview\" />\\n                \\n<a href=\"#c0\" class=\"comment-cancel-reply-link\">cancel reply</a>\\n<span class=\"comment-waiting\" id=\"comment-waiting-46\" style=\"display: none;\">\\n  <img src=\"/static/fluent_comments/img/ajax-wait.gif\" alt=\"\" class=\"ajax-loader\" />Please wait . . .\\n</span>\\n<span class=\"comment-added-message\" id=\"comment-added-message-46\" style=\"display: none;\">Your comment has been posted!</span>\\n<div class=\"comment-moderated-message\" id=\"comment-moderated-message-46\" style=\"display: none;\">Your comment has been posted, it will be visible for other users after approval.</div>\\n\\n              </div>\\n            </div>\\n          \\n        \\n      \\n\\n  \\n    </form>\\n  \\n\\n\\n\\n  <p><a href=\"/testblog/\">Return to blog</a></p>\\n\\n\\n\\n    </div> <!-- /container -->\\n\\n    \\n\\n    <!-- Le javascript\\n    ================================================== -->\\n    <!-- Placed at the end of the document so the pages load faster -->\\n    \\n  <!-- recent jquery is needed for fluent-comments -->\\n  <script src=\"https://code.jquery.com/jquery-3.4.1.min.js\" integrity=\"sha256-CSXorXvZcTkaix6Yvo6HppcZGetbYMGWSFlBw8HfCJo=\" crossorigin=\"anonymous\"></script>\\n  <script type=\"text/javascript\" src=\"/static/fluent_comments/js/ajaxcomments.js\"></script>\\n\\n  <!-- block.super needs to be below full jquery because otherwise jquery-slim would overwrite calls necessary for comments -->\\n  \\n\\n      <!-- Required by Bootstrap v4.1.1 -->\\n      <script src=\"https://code.jquery.com/jquery-3.4.1.min.js\" integrity=\"sha256-CSXorXvZcTkaix6Yvo6HppcZGetbYMGWSFlBw8HfCJo=\" crossorigin=\"anonymous\"></script>\\n      <script src=\"https://cdnjs.cloudflare.com/ajax/libs/popper.js/1.14.3/umd/popper.min.js\" integrity=\"sha384-ZMP7rVo3mIykV+2+9J3UJ46jBk0WLaUAdn689aCwoqbBJiSnjAK/l8WvCWPIPm49\" crossorigin=\"anonymous\"></script>\\n      <script src=\"https://stackpath.bootstrapcdn.com/bootstrap/4.1.1/js/bootstrap.min.js\" integrity=\"sha384-smHYKdLADwkXOn1EmN1qk/HfnUcbVRZyYmZ4qpPea6sjB/pTJ0euyQp0Mk8ck+5T\" crossorigin=\"anonymous\"></script>\\n\\n      <!-- Your stuff: Third-party javascript libraries go here -->\\n\\n\\n      <!-- place project specific Javascript in this file -->\\n\\n      <script src=\"/static/js/project.js\"></script>\\n\\n\\n    \\n  <script src=\"/static/js/cast/gallery.js\"></script>\\n  <script type=\"text/javascript\" src=\"/static/fluent_comments/js/ajaxcomments.js\"></script>\\n\\n\\n  </body>\\n</html>\\n'"
      ]
     },
     "execution_count": 14,
     "metadata": {},
     "output_type": "execute_result"
    }
   ],
   "source": [
    "r.content"
   ]
  },
  {
   "cell_type": "code",
   "execution_count": 15,
   "id": "313ac1a5",
   "metadata": {},
   "outputs": [
    {
     "data": {
      "text/plain": [
       "['__bytes__',\n",
       " '__class__',\n",
       " '__contains__',\n",
       " '__delattr__',\n",
       " '__delitem__',\n",
       " '__dict__',\n",
       " '__dir__',\n",
       " '__doc__',\n",
       " '__eq__',\n",
       " '__format__',\n",
       " '__ge__',\n",
       " '__getattribute__',\n",
       " '__getitem__',\n",
       " '__getstate__',\n",
       " '__gt__',\n",
       " '__hash__',\n",
       " '__init__',\n",
       " '__init_subclass__',\n",
       " '__iter__',\n",
       " '__le__',\n",
       " '__lt__',\n",
       " '__module__',\n",
       " '__ne__',\n",
       " '__new__',\n",
       " '__reduce__',\n",
       " '__reduce_ex__',\n",
       " '__repr__',\n",
       " '__setattr__',\n",
       " '__setitem__',\n",
       " '__sizeof__',\n",
       " '__str__',\n",
       " '__subclasshook__',\n",
       " '__weakref__',\n",
       " '_charset',\n",
       " '_container',\n",
       " '_content_type_for_repr',\n",
       " '_handler_class',\n",
       " '_is_rendered',\n",
       " '_post_render_callbacks',\n",
       " '_reason_phrase',\n",
       " '_request',\n",
       " '_resource_closers',\n",
       " 'add_post_render_callback',\n",
       " 'charset',\n",
       " 'close',\n",
       " 'closed',\n",
       " 'content',\n",
       " 'context_data',\n",
       " 'cookies',\n",
       " 'delete_cookie',\n",
       " 'flush',\n",
       " 'get',\n",
       " 'getvalue',\n",
       " 'has_header',\n",
       " 'headers',\n",
       " 'is_rendered',\n",
       " 'items',\n",
       " 'make_bytes',\n",
       " 'readable',\n",
       " 'reason_phrase',\n",
       " 'render',\n",
       " 'rendered_content',\n",
       " 'rendering_attrs',\n",
       " 'resolve_context',\n",
       " 'resolve_template',\n",
       " 'seekable',\n",
       " 'serialize',\n",
       " 'serialize_headers',\n",
       " 'set_cookie',\n",
       " 'set_signed_cookie',\n",
       " 'setdefault',\n",
       " 'status_code',\n",
       " 'streaming',\n",
       " 'tell',\n",
       " 'template_name',\n",
       " 'using',\n",
       " 'writable',\n",
       " 'write',\n",
       " 'writelines']"
      ]
     },
     "execution_count": 15,
     "metadata": {},
     "output_type": "execute_result"
    }
   ],
   "source": [
    "dir(r)"
   ]
  },
  {
   "cell_type": "code",
   "execution_count": 16,
   "id": "b507037c",
   "metadata": {},
   "outputs": [
    {
     "data": {
      "text/plain": [
       "'\\n\\n<!DOCTYPE html>\\n<html lang=\"en\">\\n  <head>\\n    <meta charset=\"utf-8\">\\n    <meta http-equiv=\"x-ua-compatible\" content=\"ie=edge\">\\n    <title>Wagtail/Django-Cast Example</title>\\n    <meta name=\"viewport\" content=\"width=device-width, initial-scale=1.0\">\\n    <meta name=\"description\" content=\"\">\\n    <meta name=\"author\" content=\"\">\\n\\n    <!-- HTML5 shim, for IE6-8 support of HTML5 elements -->\\n    <!--[if lt IE 9]>\\n      <script src=\"https://cdnjs.cloudflare.com/ajax/libs/html5shiv/3.7.3/html5shiv.min.js\"></script>\\n    <![endif]-->\\n\\n    <link rel=\"icon\" href=\"/static/images/favicons/favicon.ico\">\\n\\n    \\n  \\n\\n\\n    <!-- Latest compiled and minified Bootstrap 4.1.1 CSS -->\\n    <link rel=\"stylesheet\" href=\"https://stackpath.bootstrapcdn.com/bootstrap/4.1.1/css/bootstrap.min.css\" integrity=\"sha384-WskhaSGFgHYWDcbwN70/dfYBj47jz9qbsMId/iRN3ewGhXQFZCSftd1LZCfmhktB\" crossorigin=\"anonymous\">\\n\\n\\n    <!-- Your stuff: Third-party CSS libraries go here -->\\n\\n    <!-- This file stores project-specific CSS -->\\n\\n    <link href=\"/static/css/project.css\" rel=\"stylesheet\">\\n\\n\\n    \\n  <link href=\"/static/css/cast.css\" rel=\"stylesheet\">\\n\\n    <link rel=\"stylesheet\" type=\"text/css\" href=\"/static/fluent_comments/css/ajaxcomments.css\" />\\n\\n\\n  </head>\\n  <body>\\n\\n    <div class=\"m-b-1\">\\n      <nav class=\"navbar navbar-expand-md navbar-light bg-light\">\\n        <button class=\"navbar-toggler navbar-toggler-right\" type=\"button\" data-toggle=\"collapse\" data-target=\"#navbarSupportedContent\" aria-controls=\"navbarSupportedContent\" aria-expanded=\"false\" aria-label=\"Toggle navigation\">\\n          <span class=\"navbar-toggler-icon\"></span>\\n        </button>\\n        <a class=\"navbar-brand\" href=\"/\">Wagtail/Django-Cast Example</a>\\n\\n        <div class=\"collapse navbar-collapse\" id=\"navbarSupportedContent\">\\n          <ul class=\"navbar-nav mr-auto\">\\n            <li class=\"nav-item active\">\\n              <a class=\"nav-link\" href=\"/\">Home <span class=\"sr-only\">(current)</span></a>\\n            </li>\\n            <li class=\"nav-item\">\\n              <a class=\"nav-link\" href=\"/about/\">About</a>\\n            </li>\\n          </ul>\\n        </div>\\n      </nav>\\n\\n    </div>\\n    <div class=\"container\">\\n\\n      \\n\\n      \\n  \\n\\n<article>\\n  <h2><a href=\"/testblog/test-entry/\">test entry</a></h2>\\n  \\n    \\n      <section class=\"block-overview\">\\n        <div class=\"block-heading\">overview heading</div>\\n      </section>\\n    \\n  \\n    \\n      <section class=\"block-detail\">\\n        <div class=\"block-heading\">detail heading</div>\\n      </section>\\n    \\n  \\n</article>\\n\\n\\n  \\n\\n\\n<div id=\"comments-None\" data-object-id=\"None\" class=\"comments  empty\">\\n    \\n</div>\\n\\n\\n  \\n\\n\\n  \\n    <form id=\"comment-form-46\" data-object-id=\"46\" action=\"/show/comments/post/\" method=\"post\" class=\"js-comments-form comments-form form-horizontal\"\\n          data-ajax-action=\"/show/comments/post/ajax/\">\\n      \\n  \\n\\n      \\n        \\n          \\n\\n<input type=\"hidden\" name=\"csrfmiddlewaretoken\" value=\"wyu1tfjo4zLOnJ1waZNduto0cq2VouZBsGXcXhUsHyA0DmFMoNvxWBjcB7Q0RBfp\"> <input type=\"hidden\" name=\"content_type\" value=\"cast.post\" id=\"id_content_type\"> <input type=\"hidden\" name=\"object_pk\" value=\"46\" id=\"id_object_pk\"> <input type=\"hidden\" name=\"timestamp\" value=\"1628970340\" id=\"id_timestamp\"> <input type=\"hidden\" name=\"security_hash\" value=\"7da1948ee9f02c3ee6ded89912101a1e2429e1dc\" id=\"id_security_hash\"> <div id=\"div_id_name\" class=\"form-group row\"> <label for=\"id_name\" class=\"col-form-label col-sm-2 requiredField\">\\n                Name<span class=\"asteriskField\">*</span> </label> <div class=\"col-sm-10\"> <input type=\"text\" name=\"name\" maxlength=\"50\" class=\"textinput textInput form-control\" required id=\"id_name\"> </div> </div> <div id=\"div_id_comment\" class=\"form-group row\"> <label for=\"id_comment\" class=\"col-form-label col-sm-2 requiredField\">\\n                Comment<span class=\"asteriskField\">*</span> </label> <div class=\"col-sm-10\"> <textarea name=\"comment\" cols=\"40\" rows=\"10\" maxlength=\"3000\" class=\"textarea form-control\" required id=\"id_comment\">\\n</textarea> </div> </div> <div id=\"div_id_honeypot\" class=\"form-group row\"> <label for=\"id_honeypot\" class=\"col-form-label col-sm-2\">\\n                If you enter anything in this field your comment will be treated as spam\\n            </label> <div class=\"col-sm-10\"> <input type=\"text\" name=\"honeypot\" class=\"textinput textInput form-control\" id=\"id_honeypot\"> </div> </div> <input type=\"hidden\" name=\"parent\" id=\"id_parent\">\\n\\n        \\n\\n        \\n          \\n            <div class=\"form-group\">\\n              <div class=\"col-sm-offset-2 col-sm-10\">\\n                <input type=\"submit\" name=\"post\" class=\"btn btn-primary\" value=\"Post Comment\" />\\n                <input type=\"submit\" name=\"preview\" class=\"btn btn-default\" value=\"Preview\" />\\n                \\n<a href=\"#c0\" class=\"comment-cancel-reply-link\">cancel reply</a>\\n<span class=\"comment-waiting\" id=\"comment-waiting-46\" style=\"display: none;\">\\n  <img src=\"/static/fluent_comments/img/ajax-wait.gif\" alt=\"\" class=\"ajax-loader\" />Please wait . . .\\n</span>\\n<span class=\"comment-added-message\" id=\"comment-added-message-46\" style=\"display: none;\">Your comment has been posted!</span>\\n<div class=\"comment-moderated-message\" id=\"comment-moderated-message-46\" style=\"display: none;\">Your comment has been posted, it will be visible for other users after approval.</div>\\n\\n              </div>\\n            </div>\\n          \\n        \\n      \\n\\n  \\n    </form>\\n  \\n\\n\\n\\n  <p><a href=\"/testblog/\">Return to blog</a></p>\\n\\n\\n\\n    </div> <!-- /container -->\\n\\n    \\n\\n    <!-- Le javascript\\n    ================================================== -->\\n    <!-- Placed at the end of the document so the pages load faster -->\\n    \\n  <!-- recent jquery is needed for fluent-comments -->\\n  <script src=\"https://code.jquery.com/jquery-3.4.1.min.js\" integrity=\"sha256-CSXorXvZcTkaix6Yvo6HppcZGetbYMGWSFlBw8HfCJo=\" crossorigin=\"anonymous\"></script>\\n  <script type=\"text/javascript\" src=\"/static/fluent_comments/js/ajaxcomments.js\"></script>\\n\\n  <!-- block.super needs to be below full jquery because otherwise jquery-slim would overwrite calls necessary for comments -->\\n  \\n\\n      <!-- Required by Bootstrap v4.1.1 -->\\n      <script src=\"https://code.jquery.com/jquery-3.4.1.min.js\" integrity=\"sha256-CSXorXvZcTkaix6Yvo6HppcZGetbYMGWSFlBw8HfCJo=\" crossorigin=\"anonymous\"></script>\\n      <script src=\"https://cdnjs.cloudflare.com/ajax/libs/popper.js/1.14.3/umd/popper.min.js\" integrity=\"sha384-ZMP7rVo3mIykV+2+9J3UJ46jBk0WLaUAdn689aCwoqbBJiSnjAK/l8WvCWPIPm49\" crossorigin=\"anonymous\"></script>\\n      <script src=\"https://stackpath.bootstrapcdn.com/bootstrap/4.1.1/js/bootstrap.min.js\" integrity=\"sha384-smHYKdLADwkXOn1EmN1qk/HfnUcbVRZyYmZ4qpPea6sjB/pTJ0euyQp0Mk8ck+5T\" crossorigin=\"anonymous\"></script>\\n\\n      <!-- Your stuff: Third-party javascript libraries go here -->\\n\\n\\n      <!-- place project specific Javascript in this file -->\\n\\n      <script src=\"/static/js/project.js\"></script>\\n\\n\\n    \\n  <script src=\"/static/js/cast/gallery.js\"></script>\\n  <script type=\"text/javascript\" src=\"/static/fluent_comments/js/ajaxcomments.js\"></script>\\n\\n\\n  </body>\\n</html>\\n'"
      ]
     },
     "execution_count": 16,
     "metadata": {},
     "output_type": "execute_result"
    }
   ],
   "source": [
    "r.rendered_content"
   ]
  },
  {
   "cell_type": "code",
   "execution_count": null,
   "id": "6c87419b",
   "metadata": {},
   "outputs": [],
   "source": []
  }
 ],
 "metadata": {
  "kernelspec": {
   "display_name": "Django Shell-Plus",
   "language": "python",
   "name": "django_extensions"
  },
  "language_info": {
   "codemirror_mode": {
    "name": "ipython",
    "version": 3
   },
   "file_extension": ".py",
   "mimetype": "text/x-python",
   "name": "python",
   "nbconvert_exporter": "python",
   "pygments_lexer": "ipython3",
   "version": "3.11.1"
  }
 },
 "nbformat": 4,
 "nbformat_minor": 5
}
