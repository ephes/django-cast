{
 "cells": [
  {
   "cell_type": "code",
   "execution_count": 1,
   "id": "9939262c",
   "metadata": {},
   "outputs": [
    {
     "data": {
      "application/javascript": [
       "\n",
       "            setTimeout(function() {\n",
       "                var nbb_cell_id = 1;\n",
       "                var nbb_unformatted_code = \"%load_ext nb_black\";\n",
       "                var nbb_formatted_code = \"%load_ext nb_black\";\n",
       "                var nbb_cells = Jupyter.notebook.get_cells();\n",
       "                for (var i = 0; i < nbb_cells.length; ++i) {\n",
       "                    if (nbb_cells[i].input_prompt_number == nbb_cell_id) {\n",
       "                        if (nbb_cells[i].get_text() == nbb_unformatted_code) {\n",
       "                             nbb_cells[i].set_text(nbb_formatted_code);\n",
       "                        }\n",
       "                        break;\n",
       "                    }\n",
       "                }\n",
       "            }, 500);\n",
       "            "
      ],
      "text/plain": [
       "<IPython.core.display.Javascript object>"
      ]
     },
     "metadata": {},
     "output_type": "display_data"
    }
   ],
   "source": [
    "%load_ext nb_black"
   ]
  },
  {
   "cell_type": "code",
   "execution_count": 2,
   "id": "072dc76d",
   "metadata": {},
   "outputs": [
    {
     "name": "stdout",
     "output_type": "stream",
     "text": [
      "1 - foo audio\n",
      "1 - foo audio\n",
      "1 - foo audio\n",
      "1 - foo audio\n",
      "1 - foo audio\n",
      "1 - foo audio\n",
      "1 - foo audio\n",
      "1 - foo audio\n",
      "1 - foo audio\n",
      "1 - foo audio\n",
      "1 - foo audio\n",
      "1 - foo audio\n",
      "1 - foo audio\n",
      "1 - foo audio\n",
      "2 - asdf\n",
      "2 - asdf\n",
      "2 - asdf\n"
     ]
    },
    {
     "data": {
      "application/javascript": [
       "\n",
       "            setTimeout(function() {\n",
       "                var nbb_cell_id = 2;\n",
       "                var nbb_unformatted_code = \"for cm in ChapterMark.objects.all():\\n    print(cm.audio)\";\n",
       "                var nbb_formatted_code = \"for cm in ChapterMark.objects.all():\\n    print(cm.audio)\";\n",
       "                var nbb_cells = Jupyter.notebook.get_cells();\n",
       "                for (var i = 0; i < nbb_cells.length; ++i) {\n",
       "                    if (nbb_cells[i].input_prompt_number == nbb_cell_id) {\n",
       "                        if (nbb_cells[i].get_text() == nbb_unformatted_code) {\n",
       "                             nbb_cells[i].set_text(nbb_formatted_code);\n",
       "                        }\n",
       "                        break;\n",
       "                    }\n",
       "                }\n",
       "            }, 500);\n",
       "            "
      ],
      "text/plain": [
       "<IPython.core.display.Javascript object>"
      ]
     },
     "metadata": {},
     "output_type": "display_data"
    }
   ],
   "source": [
    "for cm in ChapterMark.objects.all():\n",
    "    print(cm.audio)"
   ]
  },
  {
   "cell_type": "code",
   "execution_count": 56,
   "id": "a1179504",
   "metadata": {},
   "outputs": [
    {
     "name": "stdout",
     "output_type": "stream",
     "text": [
      "1 1 - foo audio\n",
      "2 2 - asdf\n",
      "3 3 - next audio\n",
      "4 4 - foobar\n",
      "14 14 - audio form test\n"
     ]
    },
    {
     "data": {
      "application/javascript": [
       "\n",
       "            setTimeout(function() {\n",
       "                var nbb_cell_id = 56;\n",
       "                var nbb_unformatted_code = \"for audio in Audio.objects.all():\\n    print(audio.pk, audio)\";\n",
       "                var nbb_formatted_code = \"for audio in Audio.objects.all():\\n    print(audio.pk, audio)\";\n",
       "                var nbb_cells = Jupyter.notebook.get_cells();\n",
       "                for (var i = 0; i < nbb_cells.length; ++i) {\n",
       "                    if (nbb_cells[i].input_prompt_number == nbb_cell_id) {\n",
       "                        if (nbb_cells[i].get_text() == nbb_unformatted_code) {\n",
       "                             nbb_cells[i].set_text(nbb_formatted_code);\n",
       "                        }\n",
       "                        break;\n",
       "                    }\n",
       "                }\n",
       "            }, 500);\n",
       "            "
      ],
      "text/plain": [
       "<IPython.core.display.Javascript object>"
      ]
     },
     "metadata": {},
     "output_type": "display_data"
    }
   ],
   "source": [
    "for audio in Audio.objects.all():\n",
    "    print(audio.pk, audio)"
   ]
  },
  {
   "cell_type": "code",
   "execution_count": 57,
   "id": "347c66c4",
   "metadata": {},
   "outputs": [
    {
     "data": {
      "text/plain": [
       "(4, {'cast.ChapterMark': 3, 'cast.Audio': 1})"
      ]
     },
     "execution_count": 57,
     "metadata": {},
     "output_type": "execute_result"
    },
    {
     "data": {
      "application/javascript": [
       "\n",
       "            setTimeout(function() {\n",
       "                var nbb_cell_id = 57;\n",
       "                var nbb_unformatted_code = \"Audio.objects.get(pk=14).delete()\";\n",
       "                var nbb_formatted_code = \"Audio.objects.get(pk=14).delete()\";\n",
       "                var nbb_cells = Jupyter.notebook.get_cells();\n",
       "                for (var i = 0; i < nbb_cells.length; ++i) {\n",
       "                    if (nbb_cells[i].input_prompt_number == nbb_cell_id) {\n",
       "                        if (nbb_cells[i].get_text() == nbb_unformatted_code) {\n",
       "                             nbb_cells[i].set_text(nbb_formatted_code);\n",
       "                        }\n",
       "                        break;\n",
       "                    }\n",
       "                }\n",
       "            }, 500);\n",
       "            "
      ],
      "text/plain": [
       "<IPython.core.display.Javascript object>"
      ]
     },
     "metadata": {},
     "output_type": "display_data"
    }
   ],
   "source": [
    "Audio.objects.get(pk=14).delete()"
   ]
  },
  {
   "cell_type": "markdown",
   "id": "f0da7b17",
   "metadata": {},
   "source": [
    "# Trying to make the audio form work"
   ]
  },
  {
   "cell_type": "code",
   "execution_count": 58,
   "id": "5f88f373",
   "metadata": {},
   "outputs": [
    {
     "data": {
      "application/javascript": [
       "\n",
       "            setTimeout(function() {\n",
       "                var nbb_cell_id = 58;\n",
       "                var nbb_unformatted_code = \"from django import forms\\n\\nfrom wagtail.admin.forms.collections import BaseCollectionMemberForm\\n\\nfrom cast.wagtail_forms import FakePermissionPolicy\";\n",
       "                var nbb_formatted_code = \"from django import forms\\n\\nfrom wagtail.admin.forms.collections import BaseCollectionMemberForm\\n\\nfrom cast.wagtail_forms import FakePermissionPolicy\";\n",
       "                var nbb_cells = Jupyter.notebook.get_cells();\n",
       "                for (var i = 0; i < nbb_cells.length; ++i) {\n",
       "                    if (nbb_cells[i].input_prompt_number == nbb_cell_id) {\n",
       "                        if (nbb_cells[i].get_text() == nbb_unformatted_code) {\n",
       "                             nbb_cells[i].set_text(nbb_formatted_code);\n",
       "                        }\n",
       "                        break;\n",
       "                    }\n",
       "                }\n",
       "            }, 500);\n",
       "            "
      ],
      "text/plain": [
       "<IPython.core.display.Javascript object>"
      ]
     },
     "metadata": {},
     "output_type": "display_data"
    }
   ],
   "source": [
    "from django import forms\n",
    "\n",
    "from wagtail.admin.forms.collections import BaseCollectionMemberForm\n",
    "\n",
    "from cast.wagtail_forms import FakePermissionPolicy"
   ]
  },
  {
   "cell_type": "code",
   "execution_count": 59,
   "id": "39348bf3",
   "metadata": {},
   "outputs": [
    {
     "data": {
      "application/javascript": [
       "\n",
       "            setTimeout(function() {\n",
       "                var nbb_cell_id = 59;\n",
       "                var nbb_unformatted_code = \"class ChapterMarkForm(forms.ModelForm):\\n    class Meta:\\n        model = ChapterMark\\n        fields = (\\\"start\\\", \\\"title\\\", \\\"link\\\", \\\"image\\\")\\n\\n\\nclass ChapterMarksField(forms.CharField):\\n    def to_python(self, value):\\n        chaptermarks = []\\n        for line in value.split(\\\"\\\\n\\\"):\\n            splitted = line.split()\\n            if len(splitted) < 2:\\n                continue\\n            start, *parts = splitted\\n            title = \\\" \\\".join(parts)\\n            form = ChapterMarkForm({\\\"start\\\": start, \\\"title\\\": title})\\n            if form.is_valid():\\n                chaptermarks.append(form.save(commit=False))\\n        print(\\\"chaptermarks: \\\", chaptermarks)\\n        return chaptermarks\\n\\n\\nclass AudioForm(BaseCollectionMemberForm):\\n    chaptermarks = ChapterMarksField(widget=forms.Textarea, required=False)\\n    permission_policy = FakePermissionPolicy()\\n\\n    class Meta:\\n        model = Audio\\n        fields = [\\n            \\\"title\\\",\\n            \\\"subtitle\\\",\\n            \\\"m4a\\\",\\n            \\\"mp3\\\",\\n            \\\"oga\\\",\\n            \\\"opus\\\",\\n            \\\"tags\\\",\\n            \\\"collection\\\",\\n        ]\\n\\n    def save_chaptermarks(self, audio):\\n        chaptermarks = self.cleaned_data.get(\\\"chaptermarks\\\", [])\\n        for cm in chaptermarks:\\n            cm.audio = audio\\n            cm.save()\\n\\n    def save(self, commit=True):\\n        audio = super().save(commit=commit)\\n        if commit:\\n            self.save_chaptermarks(audio)\\n        return audio\";\n",
       "                var nbb_formatted_code = \"class ChapterMarkForm(forms.ModelForm):\\n    class Meta:\\n        model = ChapterMark\\n        fields = (\\\"start\\\", \\\"title\\\", \\\"link\\\", \\\"image\\\")\\n\\n\\nclass ChapterMarksField(forms.CharField):\\n    def to_python(self, value):\\n        chaptermarks = []\\n        for line in value.split(\\\"\\\\n\\\"):\\n            splitted = line.split()\\n            if len(splitted) < 2:\\n                continue\\n            start, *parts = splitted\\n            title = \\\" \\\".join(parts)\\n            form = ChapterMarkForm({\\\"start\\\": start, \\\"title\\\": title})\\n            if form.is_valid():\\n                chaptermarks.append(form.save(commit=False))\\n        print(\\\"chaptermarks: \\\", chaptermarks)\\n        return chaptermarks\\n\\n\\nclass AudioForm(BaseCollectionMemberForm):\\n    chaptermarks = ChapterMarksField(widget=forms.Textarea, required=False)\\n    permission_policy = FakePermissionPolicy()\\n\\n    class Meta:\\n        model = Audio\\n        fields = [\\n            \\\"title\\\",\\n            \\\"subtitle\\\",\\n            \\\"m4a\\\",\\n            \\\"mp3\\\",\\n            \\\"oga\\\",\\n            \\\"opus\\\",\\n            \\\"tags\\\",\\n            \\\"collection\\\",\\n        ]\\n\\n    def save_chaptermarks(self, audio):\\n        chaptermarks = self.cleaned_data.get(\\\"chaptermarks\\\", [])\\n        for cm in chaptermarks:\\n            cm.audio = audio\\n            cm.save()\\n\\n    def save(self, commit=True):\\n        audio = super().save(commit=commit)\\n        if commit:\\n            self.save_chaptermarks(audio)\\n        return audio\";\n",
       "                var nbb_cells = Jupyter.notebook.get_cells();\n",
       "                for (var i = 0; i < nbb_cells.length; ++i) {\n",
       "                    if (nbb_cells[i].input_prompt_number == nbb_cell_id) {\n",
       "                        if (nbb_cells[i].get_text() == nbb_unformatted_code) {\n",
       "                             nbb_cells[i].set_text(nbb_formatted_code);\n",
       "                        }\n",
       "                        break;\n",
       "                    }\n",
       "                }\n",
       "            }, 500);\n",
       "            "
      ],
      "text/plain": [
       "<IPython.core.display.Javascript object>"
      ]
     },
     "metadata": {},
     "output_type": "display_data"
    }
   ],
   "source": [
    "class ChapterMarkForm(forms.ModelForm):\n",
    "    class Meta:\n",
    "        model = ChapterMark\n",
    "        fields = (\"start\", \"title\", \"link\", \"image\")\n",
    "\n",
    "\n",
    "class ChapterMarksField(forms.CharField):\n",
    "    def to_python(self, value):\n",
    "        chaptermarks = []\n",
    "        for line in value.split(\"\\n\"):\n",
    "            splitted = line.split()\n",
    "            if len(splitted) < 2:\n",
    "                continue\n",
    "            start, *parts = splitted\n",
    "            title = \" \".join(parts)\n",
    "            form = ChapterMarkForm({\"start\": start, \"title\": title})\n",
    "            if form.is_valid():\n",
    "                chaptermarks.append(form.save(commit=False))\n",
    "        print(\"chaptermarks: \", chaptermarks)\n",
    "        return chaptermarks\n",
    "\n",
    "\n",
    "class AudioForm(BaseCollectionMemberForm):\n",
    "    chaptermarks = ChapterMarksField(widget=forms.Textarea, required=False)\n",
    "    permission_policy = FakePermissionPolicy()\n",
    "\n",
    "    class Meta:\n",
    "        model = Audio\n",
    "        fields = [\n",
    "            \"title\",\n",
    "            \"subtitle\",\n",
    "            \"m4a\",\n",
    "            \"mp3\",\n",
    "            \"oga\",\n",
    "            \"opus\",\n",
    "            \"tags\",\n",
    "            \"collection\",\n",
    "        ]\n",
    "\n",
    "    def save_chaptermarks(self, audio):\n",
    "        chaptermarks = self.cleaned_data.get(\"chaptermarks\", [])\n",
    "        for cm in chaptermarks:\n",
    "            cm.audio = audio\n",
    "            cm.save()\n",
    "\n",
    "    def save(self, commit=True):\n",
    "        audio = super().save(commit=commit)\n",
    "        if commit:\n",
    "            self.save_chaptermarks(audio)\n",
    "        return audio"
   ]
  },
  {
   "cell_type": "code",
   "execution_count": 60,
   "id": "ef181c7a",
   "metadata": {},
   "outputs": [
    {
     "data": {
      "application/javascript": [
       "\n",
       "            setTimeout(function() {\n",
       "                var nbb_cell_id = 60;\n",
       "                var nbb_unformatted_code = \"user = User.objects.first()\\nchaptermarks_text = \\\"\\\"\\\"\\n00:00:28.433 News aus der Szene\\n00:02:40.964 Packaging\\n00:12:24.409 Dokumentation\\n\\\"\\\"\\\"\\n# chaptermarks = chaptermarks_text_to_rows(chaptermarks_text)\\ndata = {\\n    \\\"title\\\": \\\"audio form test\\\",\\n    \\\"subtitle\\\": \\\"subtitle for audio test\\\",\\n    \\\"chaptermarks\\\": chaptermarks_text,\\n}\\naudio = Audio(user=user)\\nform = AudioForm(data, instance=audio)\";\n",
       "                var nbb_formatted_code = \"user = User.objects.first()\\nchaptermarks_text = \\\"\\\"\\\"\\n00:00:28.433 News aus der Szene\\n00:02:40.964 Packaging\\n00:12:24.409 Dokumentation\\n\\\"\\\"\\\"\\n# chaptermarks = chaptermarks_text_to_rows(chaptermarks_text)\\ndata = {\\n    \\\"title\\\": \\\"audio form test\\\",\\n    \\\"subtitle\\\": \\\"subtitle for audio test\\\",\\n    \\\"chaptermarks\\\": chaptermarks_text,\\n}\\naudio = Audio(user=user)\\nform = AudioForm(data, instance=audio)\";\n",
       "                var nbb_cells = Jupyter.notebook.get_cells();\n",
       "                for (var i = 0; i < nbb_cells.length; ++i) {\n",
       "                    if (nbb_cells[i].input_prompt_number == nbb_cell_id) {\n",
       "                        if (nbb_cells[i].get_text() == nbb_unformatted_code) {\n",
       "                             nbb_cells[i].set_text(nbb_formatted_code);\n",
       "                        }\n",
       "                        break;\n",
       "                    }\n",
       "                }\n",
       "            }, 500);\n",
       "            "
      ],
      "text/plain": [
       "<IPython.core.display.Javascript object>"
      ]
     },
     "metadata": {},
     "output_type": "display_data"
    }
   ],
   "source": [
    "user = User.objects.first()\n",
    "chaptermarks_text = \"\"\"\n",
    "00:00:28.433 News aus der Szene\n",
    "00:02:40.964 Packaging\n",
    "00:12:24.409 Dokumentation\n",
    "\"\"\"\n",
    "# chaptermarks = chaptermarks_text_to_rows(chaptermarks_text)\n",
    "data = {\n",
    "    \"title\": \"audio form test\",\n",
    "    \"subtitle\": \"subtitle for audio test\",\n",
    "    \"chaptermarks\": chaptermarks_text,\n",
    "}\n",
    "audio = Audio(user=user)\n",
    "form = AudioForm(data, instance=audio)"
   ]
  },
  {
   "cell_type": "code",
   "execution_count": 61,
   "id": "faf91b2d",
   "metadata": {},
   "outputs": [
    {
     "name": "stdout",
     "output_type": "stream",
     "text": [
      "chaptermarks:  [<ChapterMark: None 00:00:28.433000 News aus der Szene>, <ChapterMark: None 00:02:40.964000 Packaging>, <ChapterMark: None 00:12:24.409000 Dokumentation>]\n"
     ]
    },
    {
     "data": {
      "text/plain": [
       "True"
      ]
     },
     "execution_count": 61,
     "metadata": {},
     "output_type": "execute_result"
    },
    {
     "data": {
      "application/javascript": [
       "\n",
       "            setTimeout(function() {\n",
       "                var nbb_cell_id = 61;\n",
       "                var nbb_unformatted_code = \"form.is_valid()\";\n",
       "                var nbb_formatted_code = \"form.is_valid()\";\n",
       "                var nbb_cells = Jupyter.notebook.get_cells();\n",
       "                for (var i = 0; i < nbb_cells.length; ++i) {\n",
       "                    if (nbb_cells[i].input_prompt_number == nbb_cell_id) {\n",
       "                        if (nbb_cells[i].get_text() == nbb_unformatted_code) {\n",
       "                             nbb_cells[i].set_text(nbb_formatted_code);\n",
       "                        }\n",
       "                        break;\n",
       "                    }\n",
       "                }\n",
       "            }, 500);\n",
       "            "
      ],
      "text/plain": [
       "<IPython.core.display.Javascript object>"
      ]
     },
     "metadata": {},
     "output_type": "display_data"
    }
   ],
   "source": [
    "form.is_valid()"
   ]
  },
  {
   "cell_type": "code",
   "execution_count": 62,
   "id": "a7175f30",
   "metadata": {},
   "outputs": [
    {
     "data": {
      "text/plain": [
       "{'title': 'audio form test',\n",
       " 'subtitle': 'subtitle for audio test',\n",
       " 'm4a': None,\n",
       " 'mp3': None,\n",
       " 'oga': None,\n",
       " 'opus': None,\n",
       " 'tags': [],\n",
       " 'chaptermarks': [<ChapterMark: None 00:00:28.433000 News aus der Szene>,\n",
       "  <ChapterMark: None 00:02:40.964000 Packaging>,\n",
       "  <ChapterMark: None 00:12:24.409000 Dokumentation>]}"
      ]
     },
     "execution_count": 62,
     "metadata": {},
     "output_type": "execute_result"
    },
    {
     "data": {
      "application/javascript": [
       "\n",
       "            setTimeout(function() {\n",
       "                var nbb_cell_id = 62;\n",
       "                var nbb_unformatted_code = \"form.cleaned_data\";\n",
       "                var nbb_formatted_code = \"form.cleaned_data\";\n",
       "                var nbb_cells = Jupyter.notebook.get_cells();\n",
       "                for (var i = 0; i < nbb_cells.length; ++i) {\n",
       "                    if (nbb_cells[i].input_prompt_number == nbb_cell_id) {\n",
       "                        if (nbb_cells[i].get_text() == nbb_unformatted_code) {\n",
       "                             nbb_cells[i].set_text(nbb_formatted_code);\n",
       "                        }\n",
       "                        break;\n",
       "                    }\n",
       "                }\n",
       "            }, 500);\n",
       "            "
      ],
      "text/plain": [
       "<IPython.core.display.Javascript object>"
      ]
     },
     "metadata": {},
     "output_type": "display_data"
    }
   ],
   "source": [
    "form.cleaned_data"
   ]
  },
  {
   "cell_type": "code",
   "execution_count": 63,
   "id": "66e8f1d3",
   "metadata": {},
   "outputs": [
    {
     "data": {
      "application/javascript": [
       "\n",
       "            setTimeout(function() {\n",
       "                var nbb_cell_id = 63;\n",
       "                var nbb_unformatted_code = \"audio = form.save()\";\n",
       "                var nbb_formatted_code = \"audio = form.save()\";\n",
       "                var nbb_cells = Jupyter.notebook.get_cells();\n",
       "                for (var i = 0; i < nbb_cells.length; ++i) {\n",
       "                    if (nbb_cells[i].input_prompt_number == nbb_cell_id) {\n",
       "                        if (nbb_cells[i].get_text() == nbb_unformatted_code) {\n",
       "                             nbb_cells[i].set_text(nbb_formatted_code);\n",
       "                        }\n",
       "                        break;\n",
       "                    }\n",
       "                }\n",
       "            }, 500);\n",
       "            "
      ],
      "text/plain": [
       "<IPython.core.display.Javascript object>"
      ]
     },
     "metadata": {},
     "output_type": "display_data"
    }
   ],
   "source": [
    "audio = form.save()"
   ]
  },
  {
   "cell_type": "code",
   "execution_count": 64,
   "id": "3e9b5201",
   "metadata": {},
   "outputs": [
    {
     "data": {
      "text/plain": [
       "<Audio: 15 - audio form test>"
      ]
     },
     "execution_count": 64,
     "metadata": {},
     "output_type": "execute_result"
    },
    {
     "data": {
      "application/javascript": [
       "\n",
       "            setTimeout(function() {\n",
       "                var nbb_cell_id = 64;\n",
       "                var nbb_unformatted_code = \"audio\";\n",
       "                var nbb_formatted_code = \"audio\";\n",
       "                var nbb_cells = Jupyter.notebook.get_cells();\n",
       "                for (var i = 0; i < nbb_cells.length; ++i) {\n",
       "                    if (nbb_cells[i].input_prompt_number == nbb_cell_id) {\n",
       "                        if (nbb_cells[i].get_text() == nbb_unformatted_code) {\n",
       "                             nbb_cells[i].set_text(nbb_formatted_code);\n",
       "                        }\n",
       "                        break;\n",
       "                    }\n",
       "                }\n",
       "            }, 500);\n",
       "            "
      ],
      "text/plain": [
       "<IPython.core.display.Javascript object>"
      ]
     },
     "metadata": {},
     "output_type": "display_data"
    }
   ],
   "source": [
    "audio"
   ]
  },
  {
   "cell_type": "code",
   "execution_count": 65,
   "id": "d873324d",
   "metadata": {},
   "outputs": [
    {
     "name": "stdout",
     "output_type": "stream",
     "text": [
      "25 00:00:28.433000 News aus der Szene\n",
      "26 00:02:40.964000 Packaging\n",
      "27 00:12:24.409000 Dokumentation\n"
     ]
    },
    {
     "data": {
      "application/javascript": [
       "\n",
       "            setTimeout(function() {\n",
       "                var nbb_cell_id = 65;\n",
       "                var nbb_unformatted_code = \"for cm in audio.chaptermarks.all():\\n    print(cm)\";\n",
       "                var nbb_formatted_code = \"for cm in audio.chaptermarks.all():\\n    print(cm)\";\n",
       "                var nbb_cells = Jupyter.notebook.get_cells();\n",
       "                for (var i = 0; i < nbb_cells.length; ++i) {\n",
       "                    if (nbb_cells[i].input_prompt_number == nbb_cell_id) {\n",
       "                        if (nbb_cells[i].get_text() == nbb_unformatted_code) {\n",
       "                             nbb_cells[i].set_text(nbb_formatted_code);\n",
       "                        }\n",
       "                        break;\n",
       "                    }\n",
       "                }\n",
       "            }, 500);\n",
       "            "
      ],
      "text/plain": [
       "<IPython.core.display.Javascript object>"
      ]
     },
     "metadata": {},
     "output_type": "display_data"
    }
   ],
   "source": [
    "for cm in audio.chaptermarks.all():\n",
    "    print(cm)"
   ]
  },
  {
   "cell_type": "code",
   "execution_count": null,
   "id": "76d971da",
   "metadata": {},
   "outputs": [],
   "source": []
  }
 ],
 "metadata": {
  "kernelspec": {
   "display_name": "Django Shell-Plus",
   "language": "python",
   "name": "django_extensions"
  },
  "language_info": {
   "codemirror_mode": {
    "name": "ipython",
    "version": 3
   },
   "file_extension": ".py",
   "mimetype": "text/x-python",
   "name": "python",
   "nbconvert_exporter": "python",
   "pygments_lexer": "ipython3",
   "version": "3.9.7"
  }
 },
 "nbformat": 4,
 "nbformat_minor": 5
}
