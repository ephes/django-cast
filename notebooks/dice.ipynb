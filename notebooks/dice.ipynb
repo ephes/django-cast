{
 "cells": [
  {
   "cell_type": "code",
   "execution_count": 1,
   "id": "a7b5250f",
   "metadata": {},
   "outputs": [
    {
     "data": {
      "application/javascript": [
       "\n",
       "            setTimeout(function() {\n",
       "                var nbb_cell_id = 1;\n",
       "                var nbb_unformatted_code = \"%load_ext nb_black\";\n",
       "                var nbb_formatted_code = \"%load_ext nb_black\";\n",
       "                var nbb_cells = Jupyter.notebook.get_cells();\n",
       "                for (var i = 0; i < nbb_cells.length; ++i) {\n",
       "                    if (nbb_cells[i].input_prompt_number == nbb_cell_id) {\n",
       "                        if (nbb_cells[i].get_text() == nbb_unformatted_code) {\n",
       "                             nbb_cells[i].set_text(nbb_formatted_code);\n",
       "                        }\n",
       "                        break;\n",
       "                    }\n",
       "                }\n",
       "            }, 500);\n",
       "            "
      ],
      "text/plain": [
       "<IPython.core.display.Javascript object>"
      ]
     },
     "metadata": {},
     "output_type": "display_data"
    }
   ],
   "source": [
    "%load_ext nb_black"
   ]
  },
  {
   "cell_type": "code",
   "execution_count": 3,
   "id": "94dd0aeb",
   "metadata": {},
   "outputs": [
    {
     "data": {
      "application/javascript": [
       "\n",
       "            setTimeout(function() {\n",
       "                var nbb_cell_id = 3;\n",
       "                var nbb_unformatted_code = \"def dice(h\\u00f6he):\\n    breite = h\\u00f6he\\n    print(breite)\\n    tiefe = h\\u00f6he // 2\\n    print(tiefe)\\n    if h\\u00f6he % 2 == 0:\\n        y = 2\\n    else:\\n        y = 1\\n\\n    for i in range(h\\u00f6he + tiefe + 1):\\n        if i == 0:\\n            print(\\\"  \\\" * tiefe, end=\\\"\\\")\\n            print(\\\"* \\\" * breite)\\n        elif i == h\\u00f6he:\\n            print(\\\"* \\\", end=\\\"\\\")\\n            print(\\\"  \\\" * (tiefe - 1), end=\\\"\\\")\\n            print(\\\"* \\\" * breite)\\n        elif i == tiefe:\\n            print(\\\"* \\\" * breite, end=\\\"\\\")\\n            print(\\\"  \\\" * (tiefe - 1), end=\\\"\\\")\\n            print(\\\"* \\\")\\n        elif i == (h\\u00f6he + tiefe):\\n            print(\\\"* \\\" * breite, end=\\\"\\\")\\n            print(\\\"  \\\" * tiefe)\\n        elif i > 0 and i < tiefe:\\n            print(\\\"  \\\" * (tiefe - i), end=\\\"\\\")\\n            print(\\\"* \\\", end=\\\"\\\")\\n            print(\\\"  \\\" * (i - 1), end=\\\"\\\")\\n            print(\\\"* \\\", end=\\\"\\\")\\n            print(\\\"  \\\" * (breite - i - 2), end=\\\"\\\")\\n            print(\\\"* \\\", end=\\\"\\\")\\n            print(\\\"  \\\" * (i - 1), end=\\\"\\\")\\n            print(\\\"* \\\")\\n        elif i < (h\\u00f6he + tiefe) and i > h\\u00f6he:\\n            print(\\\"* \\\", end=\\\"\\\")\\n            print(\\\"  \\\" * (h\\u00f6he - 1 + tiefe - i), end=\\\"\\\")\\n            print(\\\"* \\\", end=\\\"\\\")\\n            print(\\\"  \\\" * (tiefe - y + (i % h\\u00f6he)), end=\\\"\\\")\\n            print(\\\"* \\\", end=\\\"\\\")\\n            print(\\\"  \\\" * (h\\u00f6he - 1 + tiefe - i), end=\\\"\\\")\\n            print(\\n                \\\"* \\\",\\n            )\\n\\n        else:\\n            print(\\\"* \\\", end=\\\"\\\")\\n            print(\\\"  \\\" * (tiefe - 1), end=\\\"\\\")\\n            print(\\\"* \\\", end=\\\"\\\")\\n            print(\\\"  \\\" * (breite - tiefe - 2), end=\\\"\\\")\\n            print(\\\"* \\\", end=\\\"\\\")\\n            print(\\\"  \\\" * (tiefe - 1), end=\\\"\\\")\\n            print(\\\"* \\\")\";\n",
       "                var nbb_formatted_code = \"def dice(h\\u00f6he):\\n    breite = h\\u00f6he\\n    print(breite)\\n    tiefe = h\\u00f6he // 2\\n    print(tiefe)\\n    if h\\u00f6he % 2 == 0:\\n        y = 2\\n    else:\\n        y = 1\\n\\n    for i in range(h\\u00f6he + tiefe + 1):\\n        if i == 0:\\n            print(\\\"  \\\" * tiefe, end=\\\"\\\")\\n            print(\\\"* \\\" * breite)\\n        elif i == h\\u00f6he:\\n            print(\\\"* \\\", end=\\\"\\\")\\n            print(\\\"  \\\" * (tiefe - 1), end=\\\"\\\")\\n            print(\\\"* \\\" * breite)\\n        elif i == tiefe:\\n            print(\\\"* \\\" * breite, end=\\\"\\\")\\n            print(\\\"  \\\" * (tiefe - 1), end=\\\"\\\")\\n            print(\\\"* \\\")\\n        elif i == (h\\u00f6he + tiefe):\\n            print(\\\"* \\\" * breite, end=\\\"\\\")\\n            print(\\\"  \\\" * tiefe)\\n        elif i > 0 and i < tiefe:\\n            print(\\\"  \\\" * (tiefe - i), end=\\\"\\\")\\n            print(\\\"* \\\", end=\\\"\\\")\\n            print(\\\"  \\\" * (i - 1), end=\\\"\\\")\\n            print(\\\"* \\\", end=\\\"\\\")\\n            print(\\\"  \\\" * (breite - i - 2), end=\\\"\\\")\\n            print(\\\"* \\\", end=\\\"\\\")\\n            print(\\\"  \\\" * (i - 1), end=\\\"\\\")\\n            print(\\\"* \\\")\\n        elif i < (h\\u00f6he + tiefe) and i > h\\u00f6he:\\n            print(\\\"* \\\", end=\\\"\\\")\\n            print(\\\"  \\\" * (h\\u00f6he - 1 + tiefe - i), end=\\\"\\\")\\n            print(\\\"* \\\", end=\\\"\\\")\\n            print(\\\"  \\\" * (tiefe - y + (i % h\\u00f6he)), end=\\\"\\\")\\n            print(\\\"* \\\", end=\\\"\\\")\\n            print(\\\"  \\\" * (h\\u00f6he - 1 + tiefe - i), end=\\\"\\\")\\n            print(\\n                \\\"* \\\",\\n            )\\n\\n        else:\\n            print(\\\"* \\\", end=\\\"\\\")\\n            print(\\\"  \\\" * (tiefe - 1), end=\\\"\\\")\\n            print(\\\"* \\\", end=\\\"\\\")\\n            print(\\\"  \\\" * (breite - tiefe - 2), end=\\\"\\\")\\n            print(\\\"* \\\", end=\\\"\\\")\\n            print(\\\"  \\\" * (tiefe - 1), end=\\\"\\\")\\n            print(\\\"* \\\")\";\n",
       "                var nbb_cells = Jupyter.notebook.get_cells();\n",
       "                for (var i = 0; i < nbb_cells.length; ++i) {\n",
       "                    if (nbb_cells[i].input_prompt_number == nbb_cell_id) {\n",
       "                        if (nbb_cells[i].get_text() == nbb_unformatted_code) {\n",
       "                             nbb_cells[i].set_text(nbb_formatted_code);\n",
       "                        }\n",
       "                        break;\n",
       "                    }\n",
       "                }\n",
       "            }, 500);\n",
       "            "
      ],
      "text/plain": [
       "<IPython.core.display.Javascript object>"
      ]
     },
     "metadata": {},
     "output_type": "display_data"
    }
   ],
   "source": [
    "def dice(höhe):\n",
    "    breite = höhe\n",
    "    print(breite)\n",
    "    tiefe = höhe // 2\n",
    "    print(tiefe)\n",
    "    if höhe % 2 == 0:\n",
    "        y = 2\n",
    "    else:\n",
    "        y = 1\n",
    "\n",
    "    for i in range(höhe + tiefe + 1):\n",
    "        if i == 0:\n",
    "            print(\"  \" * tiefe, end=\"\")\n",
    "            print(\"* \" * breite)\n",
    "        elif i == höhe:\n",
    "            print(\"* \", end=\"\")\n",
    "            print(\"  \" * (tiefe - 1), end=\"\")\n",
    "            print(\"* \" * breite)\n",
    "        elif i == tiefe:\n",
    "            print(\"* \" * breite, end=\"\")\n",
    "            print(\"  \" * (tiefe - 1), end=\"\")\n",
    "            print(\"* \")\n",
    "        elif i == (höhe + tiefe):\n",
    "            print(\"* \" * breite, end=\"\")\n",
    "            print(\"  \" * tiefe)\n",
    "        elif i > 0 and i < tiefe:\n",
    "            print(\"  \" * (tiefe - i), end=\"\")\n",
    "            print(\"* \", end=\"\")\n",
    "            print(\"  \" * (i - 1), end=\"\")\n",
    "            print(\"* \", end=\"\")\n",
    "            print(\"  \" * (breite - i - 2), end=\"\")\n",
    "            print(\"* \", end=\"\")\n",
    "            print(\"  \" * (i - 1), end=\"\")\n",
    "            print(\"* \")\n",
    "        elif i < (höhe + tiefe) and i > höhe:\n",
    "            print(\"* \", end=\"\")\n",
    "            print(\"  \" * (höhe - 1 + tiefe - i), end=\"\")\n",
    "            print(\"* \", end=\"\")\n",
    "            print(\"  \" * (tiefe - y + (i % höhe)), end=\"\")\n",
    "            print(\"* \", end=\"\")\n",
    "            print(\"  \" * (höhe - 1 + tiefe - i), end=\"\")\n",
    "            print(\n",
    "                \"* \",\n",
    "            )\n",
    "\n",
    "        else:\n",
    "            print(\"* \", end=\"\")\n",
    "            print(\"  \" * (tiefe - 1), end=\"\")\n",
    "            print(\"* \", end=\"\")\n",
    "            print(\"  \" * (breite - tiefe - 2), end=\"\")\n",
    "            print(\"* \", end=\"\")\n",
    "            print(\"  \" * (tiefe - 1), end=\"\")\n",
    "            print(\"* \")"
   ]
  },
  {
   "cell_type": "code",
   "execution_count": 4,
   "id": "108d0201",
   "metadata": {},
   "outputs": [
    {
     "name": "stdout",
     "output_type": "stream",
     "text": [
      "10\n",
      "5\n",
      "          * * * * * * * * * * \n",
      "        * *               * * \n",
      "      *   *             *   * \n",
      "    *     *           *     * \n",
      "  *       *         *       * \n",
      "* * * * * * * * * *         * \n",
      "*         *       *         * \n",
      "*         *       *         * \n",
      "*         *       *         * \n",
      "*         *       *         * \n",
      "*         * * * * * * * * * * \n",
      "*       *         *       * \n",
      "*     *           *     * \n",
      "*   *             *   * \n",
      "* *               * * \n",
      "* * * * * * * * * *           \n"
     ]
    },
    {
     "data": {
      "application/javascript": [
       "\n",
       "            setTimeout(function() {\n",
       "                var nbb_cell_id = 4;\n",
       "                var nbb_unformatted_code = \"dice(10)\";\n",
       "                var nbb_formatted_code = \"dice(10)\";\n",
       "                var nbb_cells = Jupyter.notebook.get_cells();\n",
       "                for (var i = 0; i < nbb_cells.length; ++i) {\n",
       "                    if (nbb_cells[i].input_prompt_number == nbb_cell_id) {\n",
       "                        if (nbb_cells[i].get_text() == nbb_unformatted_code) {\n",
       "                             nbb_cells[i].set_text(nbb_formatted_code);\n",
       "                        }\n",
       "                        break;\n",
       "                    }\n",
       "                }\n",
       "            }, 500);\n",
       "            "
      ],
      "text/plain": [
       "<IPython.core.display.Javascript object>"
      ]
     },
     "metadata": {},
     "output_type": "display_data"
    }
   ],
   "source": [
    "dice(10)"
   ]
  },
  {
   "cell_type": "code",
   "execution_count": 5,
   "id": "685d38e0",
   "metadata": {},
   "outputs": [
    {
     "data": {
      "application/javascript": [
       "\n",
       "            setTimeout(function() {\n",
       "                var nbb_cell_id = 5;\n",
       "                var nbb_unformatted_code = \"def dice(h\\u00f6he):\\n    breite = h\\u00f6he\\n    print(breite)\\n    tiefe = h\\u00f6he // 2\\n    print(tiefe)\\n    if h\\u00f6he % 2 == 0:\\n        y = 2\\n    else:\\n        y = 1\\n\\n    for i in range(h\\u00f6he + tiefe + 1):\\n        if i == 0:\\n            # draw top-back line\\n            print(\\\"  \\\" * tiefe, \\\"* \\\" * breite, sep=\\\"\\\")\\n        elif i == h\\u00f6he:\\n            # draw bottom-back line\\n            print(\\\"* \\\", \\\"  \\\" * (tiefe - 1), \\\"* \\\" * breite, sep=\\\"\\\")\\n        elif i == tiefe:\\n            # draw top-front line\\n            print(\\\"* \\\" * breite, \\\"  \\\" * (tiefe - 1), \\\"* \\\", sep=\\\"\\\")\\n        elif i == (h\\u00f6he + tiefe):\\n            # draw bottom front line\\n            print(\\\"* \\\" * breite, \\\"  \\\" * tiefe, sep=\\\"\\\")\\n        elif i > 0 and i < tiefe:\\n            # draw top area\\n            print(\\n                \\\"  \\\" * (tiefe - i),\\n                \\\"* \\\",\\n                \\\"  \\\" * (i - 1),\\n                \\\"* \\\",\\n                \\\"  \\\" * (breite - i - 2),\\n                \\\"* \\\",\\n                \\\"  \\\" * (i - 1),\\n                \\\"* \\\",\\n                sep=\\\"\\\",\\n            )\\n        elif i < (h\\u00f6he + tiefe) and i > h\\u00f6he:\\n            # draw bottom area\\n            print(\\n                \\\"* \\\",\\n                \\\"  \\\" * (h\\u00f6he - 1 + tiefe - i),\\n                \\\"* \\\",\\n                \\\"  \\\" * (tiefe - y + (i % h\\u00f6he)),\\n                \\\"* \\\",\\n                \\\"  \\\" * (h\\u00f6he - 1 + tiefe - i),\\n                \\\"* \\\",\\n                sep=\\\"\\\",\\n            )\\n        else:\\n            # draw mid area\\n            print(\\n                \\\"* \\\",\\n                \\\"  \\\" * (tiefe - 1),\\n                \\\"* \\\",\\n                \\\"  \\\" * (breite - tiefe - 2),\\n                \\\"* \\\",\\n                \\\"  \\\" * (tiefe - 1),\\n                \\\"* \\\",\\n                sep=\\\"\\\",\\n            )\";\n",
       "                var nbb_formatted_code = \"def dice(h\\u00f6he):\\n    breite = h\\u00f6he\\n    print(breite)\\n    tiefe = h\\u00f6he // 2\\n    print(tiefe)\\n    if h\\u00f6he % 2 == 0:\\n        y = 2\\n    else:\\n        y = 1\\n\\n    for i in range(h\\u00f6he + tiefe + 1):\\n        if i == 0:\\n            # draw top-back line\\n            print(\\\"  \\\" * tiefe, \\\"* \\\" * breite, sep=\\\"\\\")\\n        elif i == h\\u00f6he:\\n            # draw bottom-back line\\n            print(\\\"* \\\", \\\"  \\\" * (tiefe - 1), \\\"* \\\" * breite, sep=\\\"\\\")\\n        elif i == tiefe:\\n            # draw top-front line\\n            print(\\\"* \\\" * breite, \\\"  \\\" * (tiefe - 1), \\\"* \\\", sep=\\\"\\\")\\n        elif i == (h\\u00f6he + tiefe):\\n            # draw bottom front line\\n            print(\\\"* \\\" * breite, \\\"  \\\" * tiefe, sep=\\\"\\\")\\n        elif i > 0 and i < tiefe:\\n            # draw top area\\n            print(\\n                \\\"  \\\" * (tiefe - i),\\n                \\\"* \\\",\\n                \\\"  \\\" * (i - 1),\\n                \\\"* \\\",\\n                \\\"  \\\" * (breite - i - 2),\\n                \\\"* \\\",\\n                \\\"  \\\" * (i - 1),\\n                \\\"* \\\",\\n                sep=\\\"\\\",\\n            )\\n        elif i < (h\\u00f6he + tiefe) and i > h\\u00f6he:\\n            # draw bottom area\\n            print(\\n                \\\"* \\\",\\n                \\\"  \\\" * (h\\u00f6he - 1 + tiefe - i),\\n                \\\"* \\\",\\n                \\\"  \\\" * (tiefe - y + (i % h\\u00f6he)),\\n                \\\"* \\\",\\n                \\\"  \\\" * (h\\u00f6he - 1 + tiefe - i),\\n                \\\"* \\\",\\n                sep=\\\"\\\",\\n            )\\n        else:\\n            # draw mid area\\n            print(\\n                \\\"* \\\",\\n                \\\"  \\\" * (tiefe - 1),\\n                \\\"* \\\",\\n                \\\"  \\\" * (breite - tiefe - 2),\\n                \\\"* \\\",\\n                \\\"  \\\" * (tiefe - 1),\\n                \\\"* \\\",\\n                sep=\\\"\\\",\\n            )\";\n",
       "                var nbb_cells = Jupyter.notebook.get_cells();\n",
       "                for (var i = 0; i < nbb_cells.length; ++i) {\n",
       "                    if (nbb_cells[i].input_prompt_number == nbb_cell_id) {\n",
       "                        if (nbb_cells[i].get_text() == nbb_unformatted_code) {\n",
       "                             nbb_cells[i].set_text(nbb_formatted_code);\n",
       "                        }\n",
       "                        break;\n",
       "                    }\n",
       "                }\n",
       "            }, 500);\n",
       "            "
      ],
      "text/plain": [
       "<IPython.core.display.Javascript object>"
      ]
     },
     "metadata": {},
     "output_type": "display_data"
    }
   ],
   "source": [
    "def dice(höhe):\n",
    "    breite = höhe\n",
    "    print(breite)\n",
    "    tiefe = höhe // 2\n",
    "    print(tiefe)\n",
    "    if höhe % 2 == 0:\n",
    "        y = 2\n",
    "    else:\n",
    "        y = 1\n",
    "\n",
    "    for i in range(höhe + tiefe + 1):\n",
    "        if i == 0:\n",
    "            # draw top-back line\n",
    "            print(\"  \" * tiefe, \"* \" * breite, sep=\"\")\n",
    "        elif i == höhe:\n",
    "            # draw bottom-back line\n",
    "            print(\"* \", \"  \" * (tiefe - 1), \"* \" * breite, sep=\"\")\n",
    "        elif i == tiefe:\n",
    "            # draw top-front line\n",
    "            print(\"* \" * breite, \"  \" * (tiefe - 1), \"* \", sep=\"\")\n",
    "        elif i == (höhe + tiefe):\n",
    "            # draw bottom front line\n",
    "            print(\"* \" * breite, \"  \" * tiefe, sep=\"\")\n",
    "        elif i > 0 and i < tiefe:\n",
    "            # draw top area\n",
    "            print(\n",
    "                \"  \" * (tiefe - i),\n",
    "                \"* \",\n",
    "                \"  \" * (i - 1),\n",
    "                \"* \",\n",
    "                \"  \" * (breite - i - 2),\n",
    "                \"* \",\n",
    "                \"  \" * (i - 1),\n",
    "                \"* \",\n",
    "                sep=\"\",\n",
    "            )\n",
    "        elif i < (höhe + tiefe) and i > höhe:\n",
    "            # draw bottom area\n",
    "            print(\n",
    "                \"* \",\n",
    "                \"  \" * (höhe - 1 + tiefe - i),\n",
    "                \"* \",\n",
    "                \"  \" * (tiefe - y + (i % höhe)),\n",
    "                \"* \",\n",
    "                \"  \" * (höhe - 1 + tiefe - i),\n",
    "                \"* \",\n",
    "                sep=\"\",\n",
    "            )\n",
    "        else:\n",
    "            # draw mid area\n",
    "            print(\n",
    "                \"* \",\n",
    "                \"  \" * (tiefe - 1),\n",
    "                \"* \",\n",
    "                \"  \" * (breite - tiefe - 2),\n",
    "                \"* \",\n",
    "                \"  \" * (tiefe - 1),\n",
    "                \"* \",\n",
    "                sep=\"\",\n",
    "            )"
   ]
  },
  {
   "cell_type": "code",
   "execution_count": 6,
   "id": "1a67e146",
   "metadata": {},
   "outputs": [
    {
     "name": "stdout",
     "output_type": "stream",
     "text": [
      "10\n",
      "5\n",
      "          * * * * * * * * * * \n",
      "        * *               * * \n",
      "      *   *             *   * \n",
      "    *     *           *     * \n",
      "  *       *         *       * \n",
      "* * * * * * * * * *         * \n",
      "*         *       *         * \n",
      "*         *       *         * \n",
      "*         *       *         * \n",
      "*         *       *         * \n",
      "*         * * * * * * * * * * \n",
      "*       *         *       * \n",
      "*     *           *     * \n",
      "*   *             *   * \n",
      "* *               * * \n",
      "* * * * * * * * * *           \n"
     ]
    },
    {
     "data": {
      "application/javascript": [
       "\n",
       "            setTimeout(function() {\n",
       "                var nbb_cell_id = 6;\n",
       "                var nbb_unformatted_code = \"dice(10)\";\n",
       "                var nbb_formatted_code = \"dice(10)\";\n",
       "                var nbb_cells = Jupyter.notebook.get_cells();\n",
       "                for (var i = 0; i < nbb_cells.length; ++i) {\n",
       "                    if (nbb_cells[i].input_prompt_number == nbb_cell_id) {\n",
       "                        if (nbb_cells[i].get_text() == nbb_unformatted_code) {\n",
       "                             nbb_cells[i].set_text(nbb_formatted_code);\n",
       "                        }\n",
       "                        break;\n",
       "                    }\n",
       "                }\n",
       "            }, 500);\n",
       "            "
      ],
      "text/plain": [
       "<IPython.core.display.Javascript object>"
      ]
     },
     "metadata": {},
     "output_type": "display_data"
    }
   ],
   "source": [
    "dice(10)"
   ]
  },
  {
   "cell_type": "code",
   "execution_count": 6,
   "id": "b7861ba8",
   "metadata": {},
   "outputs": [
    {
     "data": {
      "application/javascript": [
       "\n",
       "            setTimeout(function() {\n",
       "                var nbb_cell_id = 6;\n",
       "                var nbb_unformatted_code = \"height = width = 10\\ndepth = height // 2\";\n",
       "                var nbb_formatted_code = \"height = width = 10\\ndepth = height // 2\";\n",
       "                var nbb_cells = Jupyter.notebook.get_cells();\n",
       "                for (var i = 0; i < nbb_cells.length; ++i) {\n",
       "                    if (nbb_cells[i].input_prompt_number == nbb_cell_id) {\n",
       "                        if (nbb_cells[i].get_text() == nbb_unformatted_code) {\n",
       "                             nbb_cells[i].set_text(nbb_formatted_code);\n",
       "                        }\n",
       "                        break;\n",
       "                    }\n",
       "                }\n",
       "            }, 500);\n",
       "            "
      ],
      "text/plain": [
       "<IPython.core.display.Javascript object>"
      ]
     },
     "metadata": {},
     "output_type": "display_data"
    }
   ],
   "source": [
    "height = width = 10\n",
    "depth = height // 2"
   ]
  },
  {
   "cell_type": "code",
   "execution_count": 7,
   "id": "fa786197",
   "metadata": {},
   "outputs": [
    {
     "name": "stdout",
     "output_type": "stream",
     "text": [
      "          * * * * * * * * * * \n",
      "          * * * * * * * * * * \n"
     ]
    },
    {
     "data": {
      "application/javascript": [
       "\n",
       "            setTimeout(function() {\n",
       "                var nbb_cell_id = 7;\n",
       "                var nbb_unformatted_code = \"print(\\\"  \\\" * depth, end=\\\"\\\")\\nprint(\\\"* \\\" * width)\\nprint(\\\"  \\\" * depth, \\\"* \\\" * width, sep=\\\"\\\")\";\n",
       "                var nbb_formatted_code = \"print(\\\"  \\\" * depth, end=\\\"\\\")\\nprint(\\\"* \\\" * width)\\nprint(\\\"  \\\" * depth, \\\"* \\\" * width, sep=\\\"\\\")\";\n",
       "                var nbb_cells = Jupyter.notebook.get_cells();\n",
       "                for (var i = 0; i < nbb_cells.length; ++i) {\n",
       "                    if (nbb_cells[i].input_prompt_number == nbb_cell_id) {\n",
       "                        if (nbb_cells[i].get_text() == nbb_unformatted_code) {\n",
       "                             nbb_cells[i].set_text(nbb_formatted_code);\n",
       "                        }\n",
       "                        break;\n",
       "                    }\n",
       "                }\n",
       "            }, 500);\n",
       "            "
      ],
      "text/plain": [
       "<IPython.core.display.Javascript object>"
      ]
     },
     "metadata": {},
     "output_type": "display_data"
    }
   ],
   "source": [
    "print(\"  \" * depth, end=\"\")\n",
    "print(\"* \" * width)\n",
    "print(\"  \" * depth, \"* \" * width, sep=\"\")"
   ]
  },
  {
   "cell_type": "markdown",
   "id": "2b42d3c7",
   "metadata": {},
   "source": [
    "# Class Based Approach"
   ]
  },
  {
   "cell_type": "code",
   "execution_count": 8,
   "id": "d5cfdd1e",
   "metadata": {},
   "outputs": [
    {
     "data": {
      "application/javascript": [
       "\n",
       "            setTimeout(function() {\n",
       "                var nbb_cell_id = 8;\n",
       "                var nbb_unformatted_code = \"class Cube:\\n    def __init__(self, size=10):\\n        self.size = size\\n        self.depth = size // 2\\n        self.init_board()\\n        self.draw_cube()\\n\\n    def init_board(self):\\n        board_size = self.size + self.depth + 1\\n        self.board = columns = []\\n        for _ in range(board_size):\\n            row = []\\n            for _ in range(board_size):\\n                row.append(\\\" \\\")\\n            columns.append(row)\\n\\n    def display(self):\\n        print(\\\"\\\\n\\\".join([\\\" \\\".join(self.board[i]) for i in range(len(self.board))]))\\n\\n    def draw_horizontal_edge(self, corner):\\n        x, y = corner\\n        for i in range(y, self.size + y):\\n            self.board[x][i] = \\\"*\\\"\\n\\n    def draw_vertical_edge(self, corner):\\n        y, x = corner\\n        for i in range(x, self.size + x):\\n            self.board[i][y] = \\\"*\\\"\\n\\n    def draw_diagonal_edge(self, corner):\\n        x, y = corner\\n        for i in range(self.depth):\\n            self.board[self.depth - i + y][x + i] = \\\"*\\\"\\n\\n    def draw_cube(self):\\n        # draw horizontal edges\\n        height, width, depth = self.size, self.size, self.depth\\n        corners = [(0, depth), (depth, 0), (height, depth), (height + depth, 0)]\\n        for corner in corners:\\n            self.draw_horizontal_edge(corner)\\n            self.draw_vertical_edge(corner)\\n\\n        corners = [(0, 0), (height, 0), (0, height), (width, height)]\\n        for corner in corners:\\n            self.draw_diagonal_edge(corner)\\n\\n        # add mising star :)\\n        self.board[height][height + depth] = \\\"*\\\"\";\n",
       "                var nbb_formatted_code = \"class Cube:\\n    def __init__(self, size=10):\\n        self.size = size\\n        self.depth = size // 2\\n        self.init_board()\\n        self.draw_cube()\\n\\n    def init_board(self):\\n        board_size = self.size + self.depth + 1\\n        self.board = columns = []\\n        for _ in range(board_size):\\n            row = []\\n            for _ in range(board_size):\\n                row.append(\\\" \\\")\\n            columns.append(row)\\n\\n    def display(self):\\n        print(\\\"\\\\n\\\".join([\\\" \\\".join(self.board[i]) for i in range(len(self.board))]))\\n\\n    def draw_horizontal_edge(self, corner):\\n        x, y = corner\\n        for i in range(y, self.size + y):\\n            self.board[x][i] = \\\"*\\\"\\n\\n    def draw_vertical_edge(self, corner):\\n        y, x = corner\\n        for i in range(x, self.size + x):\\n            self.board[i][y] = \\\"*\\\"\\n\\n    def draw_diagonal_edge(self, corner):\\n        x, y = corner\\n        for i in range(self.depth):\\n            self.board[self.depth - i + y][x + i] = \\\"*\\\"\\n\\n    def draw_cube(self):\\n        # draw horizontal edges\\n        height, width, depth = self.size, self.size, self.depth\\n        corners = [(0, depth), (depth, 0), (height, depth), (height + depth, 0)]\\n        for corner in corners:\\n            self.draw_horizontal_edge(corner)\\n            self.draw_vertical_edge(corner)\\n\\n        corners = [(0, 0), (height, 0), (0, height), (width, height)]\\n        for corner in corners:\\n            self.draw_diagonal_edge(corner)\\n\\n        # add mising star :)\\n        self.board[height][height + depth] = \\\"*\\\"\";\n",
       "                var nbb_cells = Jupyter.notebook.get_cells();\n",
       "                for (var i = 0; i < nbb_cells.length; ++i) {\n",
       "                    if (nbb_cells[i].input_prompt_number == nbb_cell_id) {\n",
       "                        if (nbb_cells[i].get_text() == nbb_unformatted_code) {\n",
       "                             nbb_cells[i].set_text(nbb_formatted_code);\n",
       "                        }\n",
       "                        break;\n",
       "                    }\n",
       "                }\n",
       "            }, 500);\n",
       "            "
      ],
      "text/plain": [
       "<IPython.core.display.Javascript object>"
      ]
     },
     "metadata": {},
     "output_type": "display_data"
    }
   ],
   "source": [
    "class Cube:\n",
    "    def __init__(self, size=10):\n",
    "        self.size = size\n",
    "        self.depth = size // 2\n",
    "        self.init_board()\n",
    "        self.draw_cube()\n",
    "\n",
    "    def init_board(self):\n",
    "        board_size = self.size + self.depth + 1\n",
    "        self.board = columns = []\n",
    "        for _ in range(board_size):\n",
    "            row = []\n",
    "            for _ in range(board_size):\n",
    "                row.append(\" \")\n",
    "            columns.append(row)\n",
    "\n",
    "    def display(self):\n",
    "        print(\"\\n\".join([\" \".join(self.board[i]) for i in range(len(self.board))]))\n",
    "\n",
    "    def draw_horizontal_edge(self, corner):\n",
    "        x, y = corner\n",
    "        for i in range(y, self.size + y):\n",
    "            self.board[x][i] = \"*\"\n",
    "\n",
    "    def draw_vertical_edge(self, corner):\n",
    "        y, x = corner\n",
    "        for i in range(x, self.size + x):\n",
    "            self.board[i][y] = \"*\"\n",
    "\n",
    "    def draw_diagonal_edge(self, corner):\n",
    "        x, y = corner\n",
    "        for i in range(self.depth):\n",
    "            self.board[self.depth - i + y][x + i] = \"*\"\n",
    "\n",
    "    def draw_cube(self):\n",
    "        # draw horizontal edges\n",
    "        height, width, depth = self.size, self.size, self.depth\n",
    "        corners = [(0, depth), (depth, 0), (height, depth), (height + depth, 0)]\n",
    "        for corner in corners:\n",
    "            self.draw_horizontal_edge(corner)\n",
    "            self.draw_vertical_edge(corner)\n",
    "\n",
    "        corners = [(0, 0), (height, 0), (0, height), (width, height)]\n",
    "        for corner in corners:\n",
    "            self.draw_diagonal_edge(corner)\n",
    "\n",
    "        # add mising star :)\n",
    "        self.board[height][height + depth] = \"*\""
   ]
  },
  {
   "cell_type": "code",
   "execution_count": 9,
   "id": "5e0f1e07",
   "metadata": {},
   "outputs": [
    {
     "name": "stdout",
     "output_type": "stream",
     "text": [
      "          * * * * * * * * * * *\n",
      "        * *                 * *\n",
      "      *   *               *   *\n",
      "    *     *             *     *\n",
      "  *       *           *       *\n",
      "* * * * * * * * * * *         *\n",
      "*         *         *         *\n",
      "*         *         *         *\n",
      "*         *         *         *\n",
      "*         *         *         *\n",
      "*         * * * * * * * * * * *\n",
      "*       *           *       *  \n",
      "*     *             *     *    \n",
      "*   *               *   *      \n",
      "* *                 * *        \n",
      "* * * * * * * * * * *          \n"
     ]
    },
    {
     "data": {
      "application/javascript": [
       "\n",
       "            setTimeout(function() {\n",
       "                var nbb_cell_id = 9;\n",
       "                var nbb_unformatted_code = \"cube = Cube(size=10)\\ncube.display()\";\n",
       "                var nbb_formatted_code = \"cube = Cube(size=10)\\ncube.display()\";\n",
       "                var nbb_cells = Jupyter.notebook.get_cells();\n",
       "                for (var i = 0; i < nbb_cells.length; ++i) {\n",
       "                    if (nbb_cells[i].input_prompt_number == nbb_cell_id) {\n",
       "                        if (nbb_cells[i].get_text() == nbb_unformatted_code) {\n",
       "                             nbb_cells[i].set_text(nbb_formatted_code);\n",
       "                        }\n",
       "                        break;\n",
       "                    }\n",
       "                }\n",
       "            }, 500);\n",
       "            "
      ],
      "text/plain": [
       "<IPython.core.display.Javascript object>"
      ]
     },
     "metadata": {},
     "output_type": "display_data"
    }
   ],
   "source": [
    "cube = Cube(size=10)\n",
    "cube.display()"
   ]
  },
  {
   "cell_type": "markdown",
   "id": "8ae1bd18",
   "metadata": {},
   "source": [
    "## Class with Projection"
   ]
  },
  {
   "cell_type": "code",
   "execution_count": 10,
   "id": "a3371fd3",
   "metadata": {},
   "outputs": [
    {
     "data": {
      "application/javascript": [
       "\n",
       "            setTimeout(function() {\n",
       "                var nbb_cell_id = 10;\n",
       "                var nbb_unformatted_code = \"from itertools import product\\nfrom collections import UserList\\n\\n\\nclass Cube(UserList):\\n    def __init__(self, size=10):\\n        self.size = size\\n        \\n        # build cube corners\\n        n = self.size\\n        self.corners = corners = list(product(*zip([0, 0, 0], [n, n, n])))\\n        \\n        # build edges between corners\\n        edges = set()\\n        for corner in corners:\\n            for dim, value in enumerate(corner):\\n                aux = list(corner)\\n                aux[dim] = 0 if value > 0 else n\\n                neighbor = tuple(aux)\\n                edges.add(frozenset([corner, neighbor]))\\n        self.data = list(edges)\\n\\n    def edge_to_points(self, edge):\\n        a, b = edge\\n        diffing_dim = None\\n        for dim, (x, y) in enumerate(zip(a, b)):\\n            if x != y:\\n                diffing_dim = dim\\n\\n        points = []\\n        for value in range(self.size + 1):\\n            point = list(a)\\n            point[diffing_dim] = value\\n            points.append(tuple(point))\\n        return points\\n    \\n\\nclass Simple2dProjection:\\n    def __init__(self, size):\\n        self.width = self.height = size * 2\\n\\n    def project(self, point):\\n        x, y, z = point\\n        return x + z, y + z\\n\\n\\nclass Original:\\n    def __init__(self, size):\\n        self.depth = size // 2\\n        self.width = self.height = size + self.depth\\n\\n    def project(self, point):\\n        x, y, z = point\\n        z = z // 2\\n        if z == 0:\\n            return x + self.depth, y\\n        else:\\n            return (x + self.depth - z), y + z\\n\\n\\nclass Board(UserList):\\n    def __init__(self, cube, projection):\\n        self.cube = cube\\n        self.projection = projection\\n        board_size = 2 * self.cube.size\\n\\n        self.data = rows = []\\n        for _ in range(self.projection.height + 1):\\n            row = []\\n            for _ in range(self.projection.width + 1):\\n                row.append(\\\" \\\")\\n            rows.append(row)\\n    \\n    def draw_edge(self, line):\\n        for point in line:\\n            x, y = self.projection.project(point)\\n            self[x][y] = \\\"*\\\"\\n\\n    def draw_edges(self):\\n        for edge in self.cube:\\n            points = self.cube.edge_to_points(edge)\\n            self.draw_edge(points)\\n\\n    def render(self):\\n        rows = [\\\" \\\".join(self[i]) for i in range(len(self))]\\n        return \\\"\\\\n\\\".join(rows)\";\n",
       "                var nbb_formatted_code = \"from itertools import product\\nfrom collections import UserList\\n\\n\\nclass Cube(UserList):\\n    def __init__(self, size=10):\\n        self.size = size\\n\\n        # build cube corners\\n        n = self.size\\n        self.corners = corners = list(product(*zip([0, 0, 0], [n, n, n])))\\n\\n        # build edges between corners\\n        edges = set()\\n        for corner in corners:\\n            for dim, value in enumerate(corner):\\n                aux = list(corner)\\n                aux[dim] = 0 if value > 0 else n\\n                neighbor = tuple(aux)\\n                edges.add(frozenset([corner, neighbor]))\\n        self.data = list(edges)\\n\\n    def edge_to_points(self, edge):\\n        a, b = edge\\n        diffing_dim = None\\n        for dim, (x, y) in enumerate(zip(a, b)):\\n            if x != y:\\n                diffing_dim = dim\\n\\n        points = []\\n        for value in range(self.size + 1):\\n            point = list(a)\\n            point[diffing_dim] = value\\n            points.append(tuple(point))\\n        return points\\n\\n\\nclass Simple2dProjection:\\n    def __init__(self, size):\\n        self.width = self.height = size * 2\\n\\n    def project(self, point):\\n        x, y, z = point\\n        return x + z, y + z\\n\\n\\nclass Original:\\n    def __init__(self, size):\\n        self.depth = size // 2\\n        self.width = self.height = size + self.depth\\n\\n    def project(self, point):\\n        x, y, z = point\\n        z = z // 2\\n        if z == 0:\\n            return x + self.depth, y\\n        else:\\n            return (x + self.depth - z), y + z\\n\\n\\nclass Board(UserList):\\n    def __init__(self, cube, projection):\\n        self.cube = cube\\n        self.projection = projection\\n        board_size = 2 * self.cube.size\\n\\n        self.data = rows = []\\n        for _ in range(self.projection.height + 1):\\n            row = []\\n            for _ in range(self.projection.width + 1):\\n                row.append(\\\" \\\")\\n            rows.append(row)\\n\\n    def draw_edge(self, line):\\n        for point in line:\\n            x, y = self.projection.project(point)\\n            self[x][y] = \\\"*\\\"\\n\\n    def draw_edges(self):\\n        for edge in self.cube:\\n            points = self.cube.edge_to_points(edge)\\n            self.draw_edge(points)\\n\\n    def render(self):\\n        rows = [\\\" \\\".join(self[i]) for i in range(len(self))]\\n        return \\\"\\\\n\\\".join(rows)\";\n",
       "                var nbb_cells = Jupyter.notebook.get_cells();\n",
       "                for (var i = 0; i < nbb_cells.length; ++i) {\n",
       "                    if (nbb_cells[i].input_prompt_number == nbb_cell_id) {\n",
       "                        if (nbb_cells[i].get_text() == nbb_unformatted_code) {\n",
       "                             nbb_cells[i].set_text(nbb_formatted_code);\n",
       "                        }\n",
       "                        break;\n",
       "                    }\n",
       "                }\n",
       "            }, 500);\n",
       "            "
      ],
      "text/plain": [
       "<IPython.core.display.Javascript object>"
      ]
     },
     "metadata": {},
     "output_type": "display_data"
    }
   ],
   "source": [
    "from itertools import product\n",
    "from collections import UserList\n",
    "\n",
    "\n",
    "class Cube(UserList):\n",
    "    def __init__(self, size=10):\n",
    "        self.size = size\n",
    "\n",
    "        # build cube corners\n",
    "        n = self.size\n",
    "        self.corners = corners = list(product(*zip([0, 0, 0], [n, n, n])))\n",
    "\n",
    "        # build edges between corners\n",
    "        edges = set()\n",
    "        for corner in corners:\n",
    "            for dim, value in enumerate(corner):\n",
    "                aux = list(corner)\n",
    "                aux[dim] = 0 if value > 0 else n\n",
    "                neighbor = tuple(aux)\n",
    "                edges.add(frozenset([corner, neighbor]))\n",
    "        self.data = list(edges)\n",
    "\n",
    "    def edge_to_points(self, edge):\n",
    "        a, b = edge\n",
    "        diffing_dim = None\n",
    "        for dim, (x, y) in enumerate(zip(a, b)):\n",
    "            if x != y:\n",
    "                diffing_dim = dim\n",
    "\n",
    "        points = []\n",
    "        for value in range(self.size + 1):\n",
    "            point = list(a)\n",
    "            point[diffing_dim] = value\n",
    "            points.append(tuple(point))\n",
    "        return points\n",
    "\n",
    "\n",
    "class Simple2dProjection:\n",
    "    def __init__(self, size):\n",
    "        self.width = self.height = size * 2\n",
    "\n",
    "    def project(self, point):\n",
    "        x, y, z = point\n",
    "        return x + z, y + z\n",
    "\n",
    "\n",
    "class Original:\n",
    "    def __init__(self, size):\n",
    "        self.depth = size // 2\n",
    "        self.width = self.height = size + self.depth\n",
    "\n",
    "    def project(self, point):\n",
    "        x, y, z = point\n",
    "        z = z // 2\n",
    "        if z == 0:\n",
    "            return x + self.depth, y\n",
    "        else:\n",
    "            return (x + self.depth - z), y + z\n",
    "\n",
    "\n",
    "class Board(UserList):\n",
    "    def __init__(self, cube, projection):\n",
    "        self.cube = cube\n",
    "        self.projection = projection\n",
    "\n",
    "        self.data = rows = []\n",
    "        for _ in range(self.projection.height + 1):\n",
    "            row = []\n",
    "            for _ in range(self.projection.width + 1):\n",
    "                row.append(\" \")\n",
    "            rows.append(row)\n",
    "\n",
    "    def draw_edge(self, line):\n",
    "        for point in line:\n",
    "            x, y = self.projection.project(point)\n",
    "            self[x][y] = \"*\"\n",
    "\n",
    "    def draw_edges(self):\n",
    "        for edge in self.cube:\n",
    "            points = self.cube.edge_to_points(edge)\n",
    "            self.draw_edge(points)\n",
    "\n",
    "    def render(self):\n",
    "        rows = [\" \".join(self[i]) for i in range(len(self))]\n",
    "        return \"\\n\".join(rows)"
   ]
  },
  {
   "cell_type": "code",
   "execution_count": 11,
   "id": "ea88f7f7",
   "metadata": {},
   "outputs": [
    {
     "name": "stdout",
     "output_type": "stream",
     "text": [
      "* * * * * * * * * * *                    \n",
      "* *                 * *                  \n",
      "*   *               *   *                \n",
      "*     *             *     *              \n",
      "*       *           *       *            \n",
      "*         *         *         *          \n",
      "*           *       *           *        \n",
      "*             *     *             *      \n",
      "*               *   *               *    \n",
      "*                 * *                 *  \n",
      "* * * * * * * * * * * * * * * * * * * * *\n",
      "  *                 * *                 *\n",
      "    *               *   *               *\n",
      "      *             *     *             *\n",
      "        *           *       *           *\n",
      "          *         *         *         *\n",
      "            *       *           *       *\n",
      "              *     *             *     *\n",
      "                *   *               *   *\n",
      "                  * *                 * *\n",
      "                    * * * * * * * * * * *\n",
      "\n",
      "          * * * * * * * * * * *\n",
      "        * *                 * *\n",
      "      *   *               *   *\n",
      "    *     *             *     *\n",
      "  *       *           *       *\n",
      "* * * * * * * * * * *         *\n",
      "*         *         *         *\n",
      "*         *         *         *\n",
      "*         *         *         *\n",
      "*         *         *         *\n",
      "*         * * * * * * * * * * *\n",
      "*       *           *       *  \n",
      "*     *             *     *    \n",
      "*   *               *   *      \n",
      "* *                 * *        \n",
      "* * * * * * * * * * *          \n",
      "\n"
     ]
    },
    {
     "data": {
      "application/javascript": [
       "\n",
       "            setTimeout(function() {\n",
       "                var nbb_cell_id = 11;\n",
       "                var nbb_unformatted_code = \"cube = Cube(size=10)\\nfor projection_class in (Simple2dProjection, Original):\\n    board = Board(cube, projection_class(cube.size))\\n    board.draw_edges()\\n    print(board.render())\\n    print(\\\"\\\")\";\n",
       "                var nbb_formatted_code = \"cube = Cube(size=10)\\nfor projection_class in (Simple2dProjection, Original):\\n    board = Board(cube, projection_class(cube.size))\\n    board.draw_edges()\\n    print(board.render())\\n    print(\\\"\\\")\";\n",
       "                var nbb_cells = Jupyter.notebook.get_cells();\n",
       "                for (var i = 0; i < nbb_cells.length; ++i) {\n",
       "                    if (nbb_cells[i].input_prompt_number == nbb_cell_id) {\n",
       "                        if (nbb_cells[i].get_text() == nbb_unformatted_code) {\n",
       "                             nbb_cells[i].set_text(nbb_formatted_code);\n",
       "                        }\n",
       "                        break;\n",
       "                    }\n",
       "                }\n",
       "            }, 500);\n",
       "            "
      ],
      "text/plain": [
       "<IPython.core.display.Javascript object>"
      ]
     },
     "metadata": {},
     "output_type": "display_data"
    }
   ],
   "source": [
    "cube = Cube(size=10)\n",
    "for projection_class in (Simple2dProjection, Original):\n",
    "    board = Board(cube, projection_class(cube.size))\n",
    "    board.draw_edges()\n",
    "    print(board.render())\n",
    "    print(\"\")"
   ]
  },
  {
   "cell_type": "code",
   "execution_count": 241,
   "id": "b9332db1",
   "metadata": {},
   "outputs": [
    {
     "ename": "NameError",
     "evalue": "name 'height' is not defined",
     "output_type": "error",
     "traceback": [
      "\u001b[0;31m---------------------------------------------------------------------------\u001b[0m",
      "\u001b[0;31mNameError\u001b[0m                                 Traceback (most recent call last)",
      "\u001b[0;32m/var/folders/35/mhty_0hd42ddfvyk3_09f1hc0000gn/T/ipykernel_71067/669114500.py\u001b[0m in \u001b[0;36m<module>\u001b[0;34m\u001b[0m\n\u001b[1;32m     20\u001b[0m \u001b[0;34m\u001b[0m\u001b[0m\n\u001b[1;32m     21\u001b[0m \u001b[0;34m\u001b[0m\u001b[0m\n\u001b[0;32m---> 22\u001b[0;31m \u001b[0mboard\u001b[0m \u001b[0;34m=\u001b[0m \u001b[0;34m[\u001b[0m\u001b[0;34m[\u001b[0m\u001b[0;34m\" \"\u001b[0m \u001b[0;32mfor\u001b[0m \u001b[0mx\u001b[0m \u001b[0;32min\u001b[0m \u001b[0mrange\u001b[0m\u001b[0;34m(\u001b[0m\u001b[0mboard_size\u001b[0m\u001b[0;34m)\u001b[0m\u001b[0;34m]\u001b[0m \u001b[0;32mfor\u001b[0m \u001b[0my\u001b[0m \u001b[0;32min\u001b[0m \u001b[0mrange\u001b[0m\u001b[0;34m(\u001b[0m\u001b[0mheight\u001b[0m \u001b[0;34m+\u001b[0m \u001b[0mdepth\u001b[0m \u001b[0;34m+\u001b[0m \u001b[0;36m1\u001b[0m\u001b[0;34m)\u001b[0m\u001b[0;34m]\u001b[0m\u001b[0;34m\u001b[0m\u001b[0;34m\u001b[0m\u001b[0m\n\u001b[0m\u001b[1;32m     23\u001b[0m \u001b[0;34m\u001b[0m\u001b[0m\n\u001b[1;32m     24\u001b[0m \u001b[0;31m# draw horizontal edges\u001b[0m\u001b[0;34m\u001b[0m\u001b[0;34m\u001b[0m\u001b[0m\n",
      "\u001b[0;31mNameError\u001b[0m: name 'height' is not defined"
     ]
    }
   ],
   "source": [
    "def draw_horizontal_edge(board, size, corner):\n",
    "    x, y = corner\n",
    "    for i in range(y, size + y):\n",
    "        board[x][i] = \"*\"\n",
    "    return board\n",
    "\n",
    "\n",
    "def draw_vertical_edge(board, size, corner):\n",
    "    y, x = corner\n",
    "    for i in range(x, size + x):\n",
    "        board[i][y] = \"*\"\n",
    "    return board\n",
    "\n",
    "\n",
    "def draw_diagonal_edge(board, size, corner):\n",
    "    x, y = corner\n",
    "    for i in range(size):\n",
    "        board[size - i + y][x + i] = \"*\"\n",
    "    return board\n",
    "\n",
    "\n",
    "board = [[\" \" for x in range(board_size)] for y in range(height + depth + 1)]\n",
    "\n",
    "# draw horizontal edges\n",
    "corners = [(0, depth), (depth, 0), (height, depth), (height + depth, 0)]\n",
    "for corner in corners:\n",
    "    board = draw_horizontal_edge(board, width, corner)\n",
    "    board = draw_vertical_edge(board, width, corner)\n",
    "\n",
    "corners = [(0, 0), (height, 0), (0, height), (width, height)]\n",
    "for corner in corners:\n",
    "    board = draw_diagonal_edge(board, depth, corner)\n",
    "\n",
    "# add mising star :)\n",
    "board[height][height + depth] = \"*\"\n",
    "\n",
    "print(\"\\n\".join([\" \".join(board[i]) for i in range(len(board))]))"
   ]
  },
  {
   "cell_type": "code",
   "execution_count": 100,
   "id": "f772e502",
   "metadata": {},
   "outputs": [
    {
     "data": {
      "application/javascript": [
       "\n",
       "            setTimeout(function() {\n",
       "                var nbb_cell_id = 100;\n",
       "                var nbb_unformatted_code = \"for i in range(depth):\\n    board[depth - i][i] = \\\"*\\\"\";\n",
       "                var nbb_formatted_code = \"for i in range(depth):\\n    board[depth - i][i] = \\\"*\\\"\";\n",
       "                var nbb_cells = Jupyter.notebook.get_cells();\n",
       "                for (var i = 0; i < nbb_cells.length; ++i) {\n",
       "                    if (nbb_cells[i].input_prompt_number == nbb_cell_id) {\n",
       "                        if (nbb_cells[i].get_text() == nbb_unformatted_code) {\n",
       "                             nbb_cells[i].set_text(nbb_formatted_code);\n",
       "                        }\n",
       "                        break;\n",
       "                    }\n",
       "                }\n",
       "            }, 500);\n",
       "            "
      ],
      "text/plain": [
       "<IPython.core.display.Javascript object>"
      ]
     },
     "metadata": {},
     "output_type": "display_data"
    }
   ],
   "source": [
    "for i in range(depth):\n",
    "    board[depth - i][i] = \"*\""
   ]
  },
  {
   "cell_type": "code",
   "execution_count": 85,
   "id": "5e7df544",
   "metadata": {},
   "outputs": [
    {
     "data": {
      "text/plain": [
       "16"
      ]
     },
     "execution_count": 85,
     "metadata": {},
     "output_type": "execute_result"
    },
    {
     "data": {
      "application/javascript": [
       "\n",
       "            setTimeout(function() {\n",
       "                var nbb_cell_id = 85;\n",
       "                var nbb_unformatted_code = \"len(board)\";\n",
       "                var nbb_formatted_code = \"len(board)\";\n",
       "                var nbb_cells = Jupyter.notebook.get_cells();\n",
       "                for (var i = 0; i < nbb_cells.length; ++i) {\n",
       "                    if (nbb_cells[i].input_prompt_number == nbb_cell_id) {\n",
       "                        if (nbb_cells[i].get_text() == nbb_unformatted_code) {\n",
       "                             nbb_cells[i].set_text(nbb_formatted_code);\n",
       "                        }\n",
       "                        break;\n",
       "                    }\n",
       "                }\n",
       "            }, 500);\n",
       "            "
      ],
      "text/plain": [
       "<IPython.core.display.Javascript object>"
      ]
     },
     "metadata": {},
     "output_type": "display_data"
    }
   ],
   "source": [
    "len(board)"
   ]
  },
  {
   "cell_type": "code",
   "execution_count": 87,
   "id": "05e464ec",
   "metadata": {},
   "outputs": [
    {
     "data": {
      "text/plain": [
       "['*',\n",
       " '*',\n",
       " '*',\n",
       " '*',\n",
       " '*',\n",
       " '*',\n",
       " '*',\n",
       " '*',\n",
       " '*',\n",
       " '*',\n",
       " ' ',\n",
       " ' ',\n",
       " ' ',\n",
       " ' ',\n",
       " ' ',\n",
       " ' ']"
      ]
     },
     "execution_count": 87,
     "metadata": {},
     "output_type": "execute_result"
    },
    {
     "data": {
      "application/javascript": [
       "\n",
       "            setTimeout(function() {\n",
       "                var nbb_cell_id = 87;\n",
       "                var nbb_unformatted_code = \"board[15]\";\n",
       "                var nbb_formatted_code = \"board[15]\";\n",
       "                var nbb_cells = Jupyter.notebook.get_cells();\n",
       "                for (var i = 0; i < nbb_cells.length; ++i) {\n",
       "                    if (nbb_cells[i].input_prompt_number == nbb_cell_id) {\n",
       "                        if (nbb_cells[i].get_text() == nbb_unformatted_code) {\n",
       "                             nbb_cells[i].set_text(nbb_formatted_code);\n",
       "                        }\n",
       "                        break;\n",
       "                    }\n",
       "                }\n",
       "            }, 500);\n",
       "            "
      ],
      "text/plain": [
       "<IPython.core.display.Javascript object>"
      ]
     },
     "metadata": {},
     "output_type": "display_data"
    }
   ],
   "source": [
    "board[15]"
   ]
  },
  {
   "cell_type": "code",
   "execution_count": 105,
   "id": "4c9a6812",
   "metadata": {},
   "outputs": [
    {
     "data": {
      "application/javascript": [
       "\n",
       "            setTimeout(function() {\n",
       "                var nbb_cell_id = 105;\n",
       "                var nbb_unformatted_code = \"board = [[\\\" \\\" for x in range(board_size)] for y in range(board_size)]\";\n",
       "                var nbb_formatted_code = \"board = [[\\\" \\\" for x in range(board_size)] for y in range(board_size)]\";\n",
       "                var nbb_cells = Jupyter.notebook.get_cells();\n",
       "                for (var i = 0; i < nbb_cells.length; ++i) {\n",
       "                    if (nbb_cells[i].input_prompt_number == nbb_cell_id) {\n",
       "                        if (nbb_cells[i].get_text() == nbb_unformatted_code) {\n",
       "                             nbb_cells[i].set_text(nbb_formatted_code);\n",
       "                        }\n",
       "                        break;\n",
       "                    }\n",
       "                }\n",
       "            }, 500);\n",
       "            "
      ],
      "text/plain": [
       "<IPython.core.display.Javascript object>"
      ]
     },
     "metadata": {},
     "output_type": "display_data"
    }
   ],
   "source": [
    "board = [[\" \" for x in range(board_size)] for y in range(board_size)]"
   ]
  },
  {
   "cell_type": "code",
   "execution_count": 109,
   "id": "37cdda92",
   "metadata": {},
   "outputs": [
    {
     "data": {
      "application/javascript": [
       "\n",
       "            setTimeout(function() {\n",
       "                var nbb_cell_id = 109;\n",
       "                var nbb_unformatted_code = \"columns = []\\nfor _ in range(board_size):\\n    row = []\\n    for _ in range(board_size):\\n        row.append(\\\" \\\")\\n    columns.append(row)\";\n",
       "                var nbb_formatted_code = \"columns = []\\nfor _ in range(board_size):\\n    row = []\\n    for _ in range(board_size):\\n        row.append(\\\" \\\")\\n    columns.append(row)\";\n",
       "                var nbb_cells = Jupyter.notebook.get_cells();\n",
       "                for (var i = 0; i < nbb_cells.length; ++i) {\n",
       "                    if (nbb_cells[i].input_prompt_number == nbb_cell_id) {\n",
       "                        if (nbb_cells[i].get_text() == nbb_unformatted_code) {\n",
       "                             nbb_cells[i].set_text(nbb_formatted_code);\n",
       "                        }\n",
       "                        break;\n",
       "                    }\n",
       "                }\n",
       "            }, 500);\n",
       "            "
      ],
      "text/plain": [
       "<IPython.core.display.Javascript object>"
      ]
     },
     "metadata": {},
     "output_type": "display_data"
    }
   ],
   "source": [
    "columns = []\n",
    "for _ in range(board_size):\n",
    "    row = []\n",
    "    for _ in range(board_size):\n",
    "        row.append(\" \")\n",
    "    columns.append(row)"
   ]
  },
  {
   "cell_type": "markdown",
   "id": "65e4fcca",
   "metadata": {},
   "source": [
    "# Turtle Graphics"
   ]
  },
  {
   "cell_type": "code",
   "execution_count": 1,
   "id": "a7e79ae8",
   "metadata": {},
   "outputs": [],
   "source": [
    "# import the turtle modules\n",
    "import turtle\n",
    "\n",
    "# Forming the window screen\n",
    "tut = turtle.Screen()\n",
    "\n",
    "# background color green\n",
    "tut.bgcolor(\"white\")\n",
    "\n",
    "# window title Turtle\n",
    "tut.title(\"Turtle\")\n",
    "my_pen = turtle.Turtle()\n",
    "\n",
    "# object color\n",
    "my_pen.color(\"orange\")\n",
    "my_pen.pensize(5)\n",
    "tut = turtle.Screen()\n",
    "\n",
    "# forming front square face\n",
    "for i in range(4):\n",
    "    my_pen.forward(100)\n",
    "    my_pen.left(90)\n",
    "\n",
    "# bottom left side\n",
    "my_pen.goto(50, 50)\n",
    "\n",
    "# forming back square face\n",
    "for i in range(4):\n",
    "    my_pen.forward(100)\n",
    "    my_pen.left(90)\n",
    "\n",
    "# bottom right side\n",
    "my_pen.goto(150, 50)\n",
    "my_pen.goto(100, 0)\n",
    "\n",
    "# top right side\n",
    "my_pen.goto(100, 100)\n",
    "my_pen.goto(150, 150)\n",
    "\n",
    "# top left side\n",
    "my_pen.goto(50, 150)\n",
    "my_pen.goto(0, 100)\n",
    "\n",
    "turtle.done()"
   ]
  }
 ],
 "metadata": {
  "kernelspec": {
   "display_name": "Django Shell-Plus",
   "language": "python",
   "name": "django_extensions"
  },
  "language_info": {
   "codemirror_mode": {
    "name": "ipython",
    "version": 3
   },
   "file_extension": ".py",
   "mimetype": "text/x-python",
   "name": "python",
   "nbconvert_exporter": "python",
   "pygments_lexer": "ipython3",
   "version": "3.9.7"
  }
 },
 "nbformat": 4,
 "nbformat_minor": 5
}
