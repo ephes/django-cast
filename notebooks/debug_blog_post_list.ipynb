{
 "cells": [
  {
   "cell_type": "code",
   "execution_count": 1,
   "id": "8c70b5b2",
   "metadata": {},
   "outputs": [],
   "source": [
    "blog = Blog.objects.first()"
   ]
  },
  {
   "cell_type": "code",
   "execution_count": 2,
   "id": "ac40b8bc",
   "metadata": {},
   "outputs": [
    {
     "data": {
      "text/plain": [
       "<PageQuerySet [<Post: post with gallery>, <Post: post with image>, <Post: third post!>, <Post: my first post>]>"
      ]
     },
     "execution_count": 2,
     "metadata": {},
     "output_type": "execute_result"
    }
   ],
   "source": [
    "blog.published_posts"
   ]
  },
  {
   "cell_type": "code",
   "execution_count": 5,
   "id": "578fba9b",
   "metadata": {},
   "outputs": [
    {
     "name": "stdout",
     "output_type": "stream",
     "text": [
      "post with gallery\n"
     ]
    },
    {
     "ename": "AttributeError",
     "evalue": "'NoneType' object has no attribute 'prev'",
     "output_type": "error",
     "traceback": [
      "\u001b[0;31m---------------------------------------------------------------------------\u001b[0m",
      "\u001b[0;31mAttributeError\u001b[0m                            Traceback (most recent call last)",
      "\u001b[0;32m/var/folders/dg/20nm141d3hj2hv67hjl6zmkc0000gn/T/ipykernel_56885/864596519.py\u001b[0m in \u001b[0;36m<module>\u001b[0;34m\u001b[0m\n\u001b[1;32m      2\u001b[0m     \u001b[0mprint\u001b[0m\u001b[0;34m(\u001b[0m\u001b[0mpost\u001b[0m\u001b[0;34m)\u001b[0m\u001b[0;34m\u001b[0m\u001b[0;34m\u001b[0m\u001b[0m\n\u001b[1;32m      3\u001b[0m     \u001b[0;32mfor\u001b[0m \u001b[0mblock\u001b[0m \u001b[0;32min\u001b[0m \u001b[0mpost\u001b[0m\u001b[0;34m.\u001b[0m\u001b[0mbody\u001b[0m\u001b[0;34m:\u001b[0m\u001b[0;34m\u001b[0m\u001b[0;34m\u001b[0m\u001b[0m\n\u001b[0;32m----> 4\u001b[0;31m         \u001b[0mprint\u001b[0m\u001b[0;34m(\u001b[0m\u001b[0mblock\u001b[0m\u001b[0;34m)\u001b[0m\u001b[0;34m\u001b[0m\u001b[0;34m\u001b[0m\u001b[0m\n\u001b[0m",
      "\u001b[0;32m~/.virtualenvs/cast/lib/python3.9/site-packages/wagtail/core/blocks/base.py\u001b[0m in \u001b[0;36m__str__\u001b[0;34m(self)\u001b[0m\n\u001b[1;32m    424\u001b[0m     \u001b[0;32mdef\u001b[0m \u001b[0m__str__\u001b[0m\u001b[0;34m(\u001b[0m\u001b[0mself\u001b[0m\u001b[0;34m)\u001b[0m\u001b[0;34m:\u001b[0m\u001b[0;34m\u001b[0m\u001b[0;34m\u001b[0m\u001b[0m\n\u001b[1;32m    425\u001b[0m         \u001b[0;34m\"\"\"Render the value according to the block's native rendering\"\"\"\u001b[0m\u001b[0;34m\u001b[0m\u001b[0;34m\u001b[0m\u001b[0m\n\u001b[0;32m--> 426\u001b[0;31m         \u001b[0;32mreturn\u001b[0m \u001b[0mself\u001b[0m\u001b[0;34m.\u001b[0m\u001b[0mblock\u001b[0m\u001b[0;34m.\u001b[0m\u001b[0mrender\u001b[0m\u001b[0;34m(\u001b[0m\u001b[0mself\u001b[0m\u001b[0;34m.\u001b[0m\u001b[0mvalue\u001b[0m\u001b[0;34m)\u001b[0m\u001b[0;34m\u001b[0m\u001b[0;34m\u001b[0m\u001b[0m\n\u001b[0m\u001b[1;32m    427\u001b[0m \u001b[0;34m\u001b[0m\u001b[0m\n\u001b[1;32m    428\u001b[0m     \u001b[0;32mdef\u001b[0m \u001b[0m__repr__\u001b[0m\u001b[0;34m(\u001b[0m\u001b[0mself\u001b[0m\u001b[0;34m)\u001b[0m\u001b[0;34m:\u001b[0m\u001b[0;34m\u001b[0m\u001b[0;34m\u001b[0m\u001b[0m\n",
      "\u001b[0;32m~/.virtualenvs/cast/lib/python3.9/site-packages/wagtail/core/blocks/base.py\u001b[0m in \u001b[0;36mrender\u001b[0;34m(self, value, context)\u001b[0m\n\u001b[1;32m    212\u001b[0m         \u001b[0mtemplate\u001b[0m \u001b[0;34m=\u001b[0m \u001b[0mself\u001b[0m\u001b[0;34m.\u001b[0m\u001b[0mget_template\u001b[0m\u001b[0;34m(\u001b[0m\u001b[0mcontext\u001b[0m\u001b[0;34m=\u001b[0m\u001b[0mcontext\u001b[0m\u001b[0;34m)\u001b[0m\u001b[0;34m\u001b[0m\u001b[0;34m\u001b[0m\u001b[0m\n\u001b[1;32m    213\u001b[0m         \u001b[0;32mif\u001b[0m \u001b[0;32mnot\u001b[0m \u001b[0mtemplate\u001b[0m\u001b[0;34m:\u001b[0m\u001b[0;34m\u001b[0m\u001b[0;34m\u001b[0m\u001b[0m\n\u001b[0;32m--> 214\u001b[0;31m             \u001b[0;32mreturn\u001b[0m \u001b[0mself\u001b[0m\u001b[0;34m.\u001b[0m\u001b[0mrender_basic\u001b[0m\u001b[0;34m(\u001b[0m\u001b[0mvalue\u001b[0m\u001b[0;34m,\u001b[0m \u001b[0mcontext\u001b[0m\u001b[0;34m=\u001b[0m\u001b[0mcontext\u001b[0m\u001b[0;34m)\u001b[0m\u001b[0;34m\u001b[0m\u001b[0;34m\u001b[0m\u001b[0m\n\u001b[0m\u001b[1;32m    215\u001b[0m \u001b[0;34m\u001b[0m\u001b[0m\n\u001b[1;32m    216\u001b[0m         \u001b[0;32mif\u001b[0m \u001b[0mcontext\u001b[0m \u001b[0;32mis\u001b[0m \u001b[0;32mNone\u001b[0m\u001b[0;34m:\u001b[0m\u001b[0;34m\u001b[0m\u001b[0;34m\u001b[0m\u001b[0m\n",
      "\u001b[0;32m~/.virtualenvs/cast/lib/python3.9/site-packages/wagtail/core/blocks/stream_block.py\u001b[0m in \u001b[0;36mrender_basic\u001b[0;34m(self, value, context)\u001b[0m\n\u001b[1;32m    280\u001b[0m         return format_html_join(\n\u001b[1;32m    281\u001b[0m             \u001b[0;34m'\\n'\u001b[0m\u001b[0;34m,\u001b[0m \u001b[0;34m'<div class=\"block-{1}\">{0}</div>'\u001b[0m\u001b[0;34m,\u001b[0m\u001b[0;34m\u001b[0m\u001b[0;34m\u001b[0m\u001b[0m\n\u001b[0;32m--> 282\u001b[0;31m             [\n\u001b[0m\u001b[1;32m    283\u001b[0m                 \u001b[0;34m(\u001b[0m\u001b[0mchild\u001b[0m\u001b[0;34m.\u001b[0m\u001b[0mrender\u001b[0m\u001b[0;34m(\u001b[0m\u001b[0mcontext\u001b[0m\u001b[0;34m=\u001b[0m\u001b[0mcontext\u001b[0m\u001b[0;34m)\u001b[0m\u001b[0;34m,\u001b[0m \u001b[0mchild\u001b[0m\u001b[0;34m.\u001b[0m\u001b[0mblock_type\u001b[0m\u001b[0;34m)\u001b[0m\u001b[0;34m\u001b[0m\u001b[0;34m\u001b[0m\u001b[0m\n\u001b[1;32m    284\u001b[0m                 \u001b[0;32mfor\u001b[0m \u001b[0mchild\u001b[0m \u001b[0;32min\u001b[0m \u001b[0mvalue\u001b[0m\u001b[0;34m\u001b[0m\u001b[0;34m\u001b[0m\u001b[0m\n",
      "\u001b[0;32m~/.virtualenvs/cast/lib/python3.9/site-packages/wagtail/core/blocks/stream_block.py\u001b[0m in \u001b[0;36m<listcomp>\u001b[0;34m(.0)\u001b[0m\n\u001b[1;32m    281\u001b[0m             \u001b[0;34m'\\n'\u001b[0m\u001b[0;34m,\u001b[0m \u001b[0;34m'<div class=\"block-{1}\">{0}</div>'\u001b[0m\u001b[0;34m,\u001b[0m\u001b[0;34m\u001b[0m\u001b[0;34m\u001b[0m\u001b[0m\n\u001b[1;32m    282\u001b[0m             [\n\u001b[0;32m--> 283\u001b[0;31m                 \u001b[0;34m(\u001b[0m\u001b[0mchild\u001b[0m\u001b[0;34m.\u001b[0m\u001b[0mrender\u001b[0m\u001b[0;34m(\u001b[0m\u001b[0mcontext\u001b[0m\u001b[0;34m=\u001b[0m\u001b[0mcontext\u001b[0m\u001b[0;34m)\u001b[0m\u001b[0;34m,\u001b[0m \u001b[0mchild\u001b[0m\u001b[0;34m.\u001b[0m\u001b[0mblock_type\u001b[0m\u001b[0;34m)\u001b[0m\u001b[0;34m\u001b[0m\u001b[0;34m\u001b[0m\u001b[0m\n\u001b[0m\u001b[1;32m    284\u001b[0m                 \u001b[0;32mfor\u001b[0m \u001b[0mchild\u001b[0m \u001b[0;32min\u001b[0m \u001b[0mvalue\u001b[0m\u001b[0;34m\u001b[0m\u001b[0;34m\u001b[0m\u001b[0m\n\u001b[1;32m    285\u001b[0m             ]\n",
      "\u001b[0;32m~/.virtualenvs/cast/lib/python3.9/site-packages/wagtail/core/blocks/base.py\u001b[0m in \u001b[0;36mrender\u001b[0;34m(self, context)\u001b[0m\n\u001b[1;32m    407\u001b[0m \u001b[0;34m\u001b[0m\u001b[0m\n\u001b[1;32m    408\u001b[0m     \u001b[0;32mdef\u001b[0m \u001b[0mrender\u001b[0m\u001b[0;34m(\u001b[0m\u001b[0mself\u001b[0m\u001b[0;34m,\u001b[0m \u001b[0mcontext\u001b[0m\u001b[0;34m=\u001b[0m\u001b[0;32mNone\u001b[0m\u001b[0;34m)\u001b[0m\u001b[0;34m:\u001b[0m\u001b[0;34m\u001b[0m\u001b[0;34m\u001b[0m\u001b[0m\n\u001b[0;32m--> 409\u001b[0;31m         \u001b[0;32mreturn\u001b[0m \u001b[0mself\u001b[0m\u001b[0;34m.\u001b[0m\u001b[0mblock\u001b[0m\u001b[0;34m.\u001b[0m\u001b[0mrender\u001b[0m\u001b[0;34m(\u001b[0m\u001b[0mself\u001b[0m\u001b[0;34m.\u001b[0m\u001b[0mvalue\u001b[0m\u001b[0;34m,\u001b[0m \u001b[0mcontext\u001b[0m\u001b[0;34m=\u001b[0m\u001b[0mcontext\u001b[0m\u001b[0;34m)\u001b[0m\u001b[0;34m\u001b[0m\u001b[0;34m\u001b[0m\u001b[0m\n\u001b[0m\u001b[1;32m    410\u001b[0m \u001b[0;34m\u001b[0m\u001b[0m\n\u001b[1;32m    411\u001b[0m     \u001b[0;32mdef\u001b[0m \u001b[0mrender_as_block\u001b[0m\u001b[0;34m(\u001b[0m\u001b[0mself\u001b[0m\u001b[0;34m,\u001b[0m \u001b[0mcontext\u001b[0m\u001b[0;34m=\u001b[0m\u001b[0;32mNone\u001b[0m\u001b[0;34m)\u001b[0m\u001b[0;34m:\u001b[0m\u001b[0;34m\u001b[0m\u001b[0;34m\u001b[0m\u001b[0m\n",
      "\u001b[0;32m~/.virtualenvs/cast/lib/python3.9/site-packages/wagtail/core/blocks/base.py\u001b[0m in \u001b[0;36mrender\u001b[0;34m(self, value, context)\u001b[0m\n\u001b[1;32m    215\u001b[0m \u001b[0;34m\u001b[0m\u001b[0m\n\u001b[1;32m    216\u001b[0m         \u001b[0;32mif\u001b[0m \u001b[0mcontext\u001b[0m \u001b[0;32mis\u001b[0m \u001b[0;32mNone\u001b[0m\u001b[0;34m:\u001b[0m\u001b[0;34m\u001b[0m\u001b[0;34m\u001b[0m\u001b[0m\n\u001b[0;32m--> 217\u001b[0;31m             \u001b[0mnew_context\u001b[0m \u001b[0;34m=\u001b[0m \u001b[0mself\u001b[0m\u001b[0;34m.\u001b[0m\u001b[0mget_context\u001b[0m\u001b[0;34m(\u001b[0m\u001b[0mvalue\u001b[0m\u001b[0;34m)\u001b[0m\u001b[0;34m\u001b[0m\u001b[0;34m\u001b[0m\u001b[0m\n\u001b[0m\u001b[1;32m    218\u001b[0m         \u001b[0;32melse\u001b[0m\u001b[0;34m:\u001b[0m\u001b[0;34m\u001b[0m\u001b[0;34m\u001b[0m\u001b[0m\n\u001b[1;32m    219\u001b[0m             \u001b[0mnew_context\u001b[0m \u001b[0;34m=\u001b[0m \u001b[0mself\u001b[0m\u001b[0;34m.\u001b[0m\u001b[0mget_context\u001b[0m\u001b[0;34m(\u001b[0m\u001b[0mvalue\u001b[0m\u001b[0;34m,\u001b[0m \u001b[0mparent_context\u001b[0m\u001b[0;34m=\u001b[0m\u001b[0mdict\u001b[0m\u001b[0;34m(\u001b[0m\u001b[0mcontext\u001b[0m\u001b[0;34m)\u001b[0m\u001b[0;34m)\u001b[0m\u001b[0;34m\u001b[0m\u001b[0;34m\u001b[0m\u001b[0m\n",
      "\u001b[0;32m~/projects/django-cast/notebooks/cast/blocks.py\u001b[0m in \u001b[0;36mget_context\u001b[0;34m(self, gallery, parent_context)\u001b[0m\n\u001b[1;32m     23\u001b[0m \u001b[0;34m\u001b[0m\u001b[0m\n\u001b[1;32m     24\u001b[0m     \u001b[0;32mdef\u001b[0m \u001b[0mget_context\u001b[0m\u001b[0;34m(\u001b[0m\u001b[0mself\u001b[0m\u001b[0;34m,\u001b[0m \u001b[0mgallery\u001b[0m\u001b[0;34m,\u001b[0m \u001b[0mparent_context\u001b[0m\u001b[0;34m=\u001b[0m\u001b[0;32mNone\u001b[0m\u001b[0;34m)\u001b[0m\u001b[0;34m:\u001b[0m\u001b[0;34m\u001b[0m\u001b[0;34m\u001b[0m\u001b[0m\n\u001b[0;32m---> 25\u001b[0;31m         \u001b[0mself\u001b[0m\u001b[0;34m.\u001b[0m\u001b[0madd_prev_next\u001b[0m\u001b[0;34m(\u001b[0m\u001b[0mgallery\u001b[0m\u001b[0;34m)\u001b[0m\u001b[0;34m\u001b[0m\u001b[0;34m\u001b[0m\u001b[0m\n\u001b[0m\u001b[1;32m     26\u001b[0m         \u001b[0;32mreturn\u001b[0m \u001b[0msuper\u001b[0m\u001b[0;34m(\u001b[0m\u001b[0;34m)\u001b[0m\u001b[0;34m.\u001b[0m\u001b[0mget_context\u001b[0m\u001b[0;34m(\u001b[0m\u001b[0mgallery\u001b[0m\u001b[0;34m,\u001b[0m \u001b[0mparent_context\u001b[0m\u001b[0;34m=\u001b[0m\u001b[0mparent_context\u001b[0m\u001b[0;34m)\u001b[0m\u001b[0;34m\u001b[0m\u001b[0;34m\u001b[0m\u001b[0m\n\u001b[1;32m     27\u001b[0m \u001b[0;34m\u001b[0m\u001b[0m\n",
      "\u001b[0;32m~/projects/django-cast/notebooks/cast/blocks.py\u001b[0m in \u001b[0;36madd_prev_next\u001b[0;34m(self, gallery)\u001b[0m\n\u001b[1;32m     19\u001b[0m     \u001b[0;32mdef\u001b[0m \u001b[0madd_prev_next\u001b[0m\u001b[0;34m(\u001b[0m\u001b[0mself\u001b[0m\u001b[0;34m,\u001b[0m \u001b[0mgallery\u001b[0m\u001b[0;34m)\u001b[0m\u001b[0;34m:\u001b[0m\u001b[0;34m\u001b[0m\u001b[0;34m\u001b[0m\u001b[0m\n\u001b[1;32m     20\u001b[0m         \u001b[0;32mfor\u001b[0m \u001b[0mprevious_image\u001b[0m\u001b[0;34m,\u001b[0m \u001b[0mcurrent_image\u001b[0m\u001b[0;34m,\u001b[0m \u001b[0mnext_image\u001b[0m \u001b[0;32min\u001b[0m \u001b[0mprevious_and_next\u001b[0m\u001b[0;34m(\u001b[0m\u001b[0mgallery\u001b[0m\u001b[0;34m)\u001b[0m\u001b[0;34m:\u001b[0m\u001b[0;34m\u001b[0m\u001b[0;34m\u001b[0m\u001b[0m\n\u001b[0;32m---> 21\u001b[0;31m             \u001b[0mcurrent_image\u001b[0m\u001b[0;34m.\u001b[0m\u001b[0mprev\u001b[0m \u001b[0;34m=\u001b[0m \u001b[0;34m\"false\"\u001b[0m \u001b[0;32mif\u001b[0m \u001b[0mprevious_image\u001b[0m \u001b[0;32mis\u001b[0m \u001b[0;32mNone\u001b[0m \u001b[0;32melse\u001b[0m \u001b[0;34mf\"img-{previous_image.pk}\"\u001b[0m\u001b[0;34m\u001b[0m\u001b[0;34m\u001b[0m\u001b[0m\n\u001b[0m\u001b[1;32m     22\u001b[0m             \u001b[0mcurrent_image\u001b[0m\u001b[0;34m.\u001b[0m\u001b[0mnext\u001b[0m \u001b[0;34m=\u001b[0m \u001b[0;34m\"false\"\u001b[0m \u001b[0;32mif\u001b[0m \u001b[0mnext_image\u001b[0m \u001b[0;32mis\u001b[0m \u001b[0;32mNone\u001b[0m \u001b[0;32melse\u001b[0m \u001b[0;34mf\"img-{next_image.pk}\"\u001b[0m\u001b[0;34m\u001b[0m\u001b[0;34m\u001b[0m\u001b[0m\n\u001b[1;32m     23\u001b[0m \u001b[0;34m\u001b[0m\u001b[0m\n",
      "\u001b[0;31mAttributeError\u001b[0m: 'NoneType' object has no attribute 'prev'"
     ]
    }
   ],
   "source": [
    "for post in blog.published_posts:\n",
    "    print(post)\n",
    "    for block in post.body:\n",
    "        print(block)"
   ]
  },
  {
   "cell_type": "code",
   "execution_count": 9,
   "id": "376e6a66",
   "metadata": {},
   "outputs": [],
   "source": [
    "post = blog.published_posts.first()"
   ]
  },
  {
   "cell_type": "code",
   "execution_count": 10,
   "id": "692f7ffa",
   "metadata": {},
   "outputs": [
    {
     "data": {
      "text/plain": [
       "<Post: post with gallery>"
      ]
     },
     "execution_count": 10,
     "metadata": {},
     "output_type": "execute_result"
    }
   ],
   "source": [
    "post"
   ]
  },
  {
   "cell_type": "code",
   "execution_count": 17,
   "id": "9473ac29",
   "metadata": {},
   "outputs": [
    {
     "data": {
      "text/plain": [
       "<block gallery: [None, None]>"
      ]
     },
     "execution_count": 17,
     "metadata": {},
     "output_type": "execute_result"
    }
   ],
   "source": [
    "post.body[0].value[0]"
   ]
  },
  {
   "cell_type": "code",
   "execution_count": 18,
   "id": "b55aa9a0",
   "metadata": {},
   "outputs": [
    {
     "data": {
      "text/plain": [
       "<ImageQuerySet []>"
      ]
     },
     "execution_count": 18,
     "metadata": {},
     "output_type": "execute_result"
    }
   ],
   "source": [
    "post.images.all()"
   ]
  },
  {
   "cell_type": "code",
   "execution_count": 21,
   "id": "1c85a200",
   "metadata": {},
   "outputs": [],
   "source": [
    "gallery_block = post.body[0].value[0]"
   ]
  },
  {
   "cell_type": "code",
   "execution_count": 22,
   "id": "4cc16810",
   "metadata": {},
   "outputs": [
    {
     "data": {
      "text/plain": [
       "['__class__',\n",
       " '__delattr__',\n",
       " '__dict__',\n",
       " '__dir__',\n",
       " '__doc__',\n",
       " '__eq__',\n",
       " '__format__',\n",
       " '__ge__',\n",
       " '__getattribute__',\n",
       " '__gt__',\n",
       " '__hash__',\n",
       " '__init__',\n",
       " '__init_subclass__',\n",
       " '__le__',\n",
       " '__lt__',\n",
       " '__module__',\n",
       " '__ne__',\n",
       " '__new__',\n",
       " '__reduce__',\n",
       " '__reduce_ex__',\n",
       " '__repr__',\n",
       " '__setattr__',\n",
       " '__sizeof__',\n",
       " '__str__',\n",
       " '__subclasshook__',\n",
       " '__weakref__',\n",
       " '_as_tuple',\n",
       " 'block',\n",
       " 'block_type',\n",
       " 'errors',\n",
       " 'get_prep_value',\n",
       " 'id',\n",
       " 'id_for_label',\n",
       " 'prefix',\n",
       " 'render',\n",
       " 'render_as_block',\n",
       " 'value']"
      ]
     },
     "execution_count": 22,
     "metadata": {},
     "output_type": "execute_result"
    }
   ],
   "source": [
    "dir(gallery_block)"
   ]
  },
  {
   "cell_type": "code",
   "execution_count": 23,
   "id": "68285109",
   "metadata": {},
   "outputs": [
    {
     "data": {
      "text/plain": [
       "[{'type': 'overview', 'value': [{'type': 'gallery', 'value': [3, 4], 'id': 'ad4f022b-3c55-4a03-935d-71121fdaec08'}], 'id': '6cca240e-6177-4c41-8c2a-436325606570'}]"
      ]
     },
     "execution_count": 23,
     "metadata": {},
     "output_type": "execute_result"
    }
   ],
   "source": [
    "post.body.raw_data"
   ]
  },
  {
   "cell_type": "code",
   "execution_count": 25,
   "id": "7e26d996",
   "metadata": {},
   "outputs": [
    {
     "ename": "DoesNotExist",
     "evalue": "Image matching query does not exist.",
     "output_type": "error",
     "traceback": [
      "\u001b[0;31m---------------------------------------------------------------------------\u001b[0m",
      "\u001b[0;31mDoesNotExist\u001b[0m                              Traceback (most recent call last)",
      "\u001b[0;32m/var/folders/dg/20nm141d3hj2hv67hjl6zmkc0000gn/T/ipykernel_56885/1853825300.py\u001b[0m in \u001b[0;36m<module>\u001b[0;34m\u001b[0m\n\u001b[0;32m----> 1\u001b[0;31m \u001b[0mImage\u001b[0m\u001b[0;34m.\u001b[0m\u001b[0mobjects\u001b[0m\u001b[0;34m.\u001b[0m\u001b[0mget\u001b[0m\u001b[0;34m(\u001b[0m\u001b[0mpk\u001b[0m\u001b[0;34m=\u001b[0m\u001b[0;36m4\u001b[0m\u001b[0;34m)\u001b[0m\u001b[0;34m\u001b[0m\u001b[0;34m\u001b[0m\u001b[0m\n\u001b[0m",
      "\u001b[0;32m~/.virtualenvs/cast/lib/python3.9/site-packages/django/db/models/manager.py\u001b[0m in \u001b[0;36mmanager_method\u001b[0;34m(self, *args, **kwargs)\u001b[0m\n\u001b[1;32m     83\u001b[0m         \u001b[0;32mdef\u001b[0m \u001b[0mcreate_method\u001b[0m\u001b[0;34m(\u001b[0m\u001b[0mname\u001b[0m\u001b[0;34m,\u001b[0m \u001b[0mmethod\u001b[0m\u001b[0;34m)\u001b[0m\u001b[0;34m:\u001b[0m\u001b[0;34m\u001b[0m\u001b[0;34m\u001b[0m\u001b[0m\n\u001b[1;32m     84\u001b[0m             \u001b[0;32mdef\u001b[0m \u001b[0mmanager_method\u001b[0m\u001b[0;34m(\u001b[0m\u001b[0mself\u001b[0m\u001b[0;34m,\u001b[0m \u001b[0;34m*\u001b[0m\u001b[0margs\u001b[0m\u001b[0;34m,\u001b[0m \u001b[0;34m**\u001b[0m\u001b[0mkwargs\u001b[0m\u001b[0;34m)\u001b[0m\u001b[0;34m:\u001b[0m\u001b[0;34m\u001b[0m\u001b[0;34m\u001b[0m\u001b[0m\n\u001b[0;32m---> 85\u001b[0;31m                 \u001b[0;32mreturn\u001b[0m \u001b[0mgetattr\u001b[0m\u001b[0;34m(\u001b[0m\u001b[0mself\u001b[0m\u001b[0;34m.\u001b[0m\u001b[0mget_queryset\u001b[0m\u001b[0;34m(\u001b[0m\u001b[0;34m)\u001b[0m\u001b[0;34m,\u001b[0m \u001b[0mname\u001b[0m\u001b[0;34m)\u001b[0m\u001b[0;34m(\u001b[0m\u001b[0;34m*\u001b[0m\u001b[0margs\u001b[0m\u001b[0;34m,\u001b[0m \u001b[0;34m**\u001b[0m\u001b[0mkwargs\u001b[0m\u001b[0;34m)\u001b[0m\u001b[0;34m\u001b[0m\u001b[0;34m\u001b[0m\u001b[0m\n\u001b[0m\u001b[1;32m     86\u001b[0m             \u001b[0mmanager_method\u001b[0m\u001b[0;34m.\u001b[0m\u001b[0m__name__\u001b[0m \u001b[0;34m=\u001b[0m \u001b[0mmethod\u001b[0m\u001b[0;34m.\u001b[0m\u001b[0m__name__\u001b[0m\u001b[0;34m\u001b[0m\u001b[0;34m\u001b[0m\u001b[0m\n\u001b[1;32m     87\u001b[0m             \u001b[0mmanager_method\u001b[0m\u001b[0;34m.\u001b[0m\u001b[0m__doc__\u001b[0m \u001b[0;34m=\u001b[0m \u001b[0mmethod\u001b[0m\u001b[0;34m.\u001b[0m\u001b[0m__doc__\u001b[0m\u001b[0;34m\u001b[0m\u001b[0;34m\u001b[0m\u001b[0m\n",
      "\u001b[0;32m~/.virtualenvs/cast/lib/python3.9/site-packages/django/db/models/query.py\u001b[0m in \u001b[0;36mget\u001b[0;34m(self, *args, **kwargs)\u001b[0m\n\u001b[1;32m    433\u001b[0m             \u001b[0;32mreturn\u001b[0m \u001b[0mclone\u001b[0m\u001b[0;34m.\u001b[0m\u001b[0m_result_cache\u001b[0m\u001b[0;34m[\u001b[0m\u001b[0;36m0\u001b[0m\u001b[0;34m]\u001b[0m\u001b[0;34m\u001b[0m\u001b[0;34m\u001b[0m\u001b[0m\n\u001b[1;32m    434\u001b[0m         \u001b[0;32mif\u001b[0m \u001b[0;32mnot\u001b[0m \u001b[0mnum\u001b[0m\u001b[0;34m:\u001b[0m\u001b[0;34m\u001b[0m\u001b[0;34m\u001b[0m\u001b[0m\n\u001b[0;32m--> 435\u001b[0;31m             raise self.model.DoesNotExist(\n\u001b[0m\u001b[1;32m    436\u001b[0m                 \u001b[0;34m\"%s matching query does not exist.\"\u001b[0m \u001b[0;34m%\u001b[0m\u001b[0;34m\u001b[0m\u001b[0;34m\u001b[0m\u001b[0m\n\u001b[1;32m    437\u001b[0m                 \u001b[0mself\u001b[0m\u001b[0;34m.\u001b[0m\u001b[0mmodel\u001b[0m\u001b[0;34m.\u001b[0m\u001b[0m_meta\u001b[0m\u001b[0;34m.\u001b[0m\u001b[0mobject_name\u001b[0m\u001b[0;34m\u001b[0m\u001b[0;34m\u001b[0m\u001b[0m\n",
      "\u001b[0;31mDoesNotExist\u001b[0m: Image matching query does not exist."
     ]
    }
   ],
   "source": [
    "Image.objects.get(pk=4)"
   ]
  },
  {
   "cell_type": "code",
   "execution_count": 27,
   "id": "9a01e567",
   "metadata": {},
   "outputs": [
    {
     "data": {
      "text/plain": [
       "[7, 8, 9, 10, 11, 12, 13, 14, 15, 16, 17, 18, 19, 20]"
      ]
     },
     "execution_count": 27,
     "metadata": {},
     "output_type": "execute_result"
    }
   ],
   "source": [
    "[i.pk for i in Image.objects.all()]"
   ]
  },
  {
   "cell_type": "code",
   "execution_count": 28,
   "id": "003d65c5",
   "metadata": {},
   "outputs": [
    {
     "ename": "AttributeError",
     "evalue": "'Image' object has no attribute 'uuid'",
     "output_type": "error",
     "traceback": [
      "\u001b[0;31m---------------------------------------------------------------------------\u001b[0m",
      "\u001b[0;31mAttributeError\u001b[0m                            Traceback (most recent call last)",
      "\u001b[0;32m/var/folders/dg/20nm141d3hj2hv67hjl6zmkc0000gn/T/ipykernel_56885/410811666.py\u001b[0m in \u001b[0;36m<module>\u001b[0;34m\u001b[0m\n\u001b[0;32m----> 1\u001b[0;31m \u001b[0;34m[\u001b[0m\u001b[0mi\u001b[0m\u001b[0;34m.\u001b[0m\u001b[0muuid\u001b[0m \u001b[0;32mfor\u001b[0m \u001b[0mi\u001b[0m \u001b[0;32min\u001b[0m \u001b[0mImage\u001b[0m\u001b[0;34m.\u001b[0m\u001b[0mobjects\u001b[0m\u001b[0;34m.\u001b[0m\u001b[0mall\u001b[0m\u001b[0;34m(\u001b[0m\u001b[0;34m)\u001b[0m\u001b[0;34m]\u001b[0m\u001b[0;34m\u001b[0m\u001b[0;34m\u001b[0m\u001b[0m\n\u001b[0m",
      "\u001b[0;32m/var/folders/dg/20nm141d3hj2hv67hjl6zmkc0000gn/T/ipykernel_56885/410811666.py\u001b[0m in \u001b[0;36m<listcomp>\u001b[0;34m(.0)\u001b[0m\n\u001b[0;32m----> 1\u001b[0;31m \u001b[0;34m[\u001b[0m\u001b[0mi\u001b[0m\u001b[0;34m.\u001b[0m\u001b[0muuid\u001b[0m \u001b[0;32mfor\u001b[0m \u001b[0mi\u001b[0m \u001b[0;32min\u001b[0m \u001b[0mImage\u001b[0m\u001b[0;34m.\u001b[0m\u001b[0mobjects\u001b[0m\u001b[0;34m.\u001b[0m\u001b[0mall\u001b[0m\u001b[0;34m(\u001b[0m\u001b[0;34m)\u001b[0m\u001b[0;34m]\u001b[0m\u001b[0;34m\u001b[0m\u001b[0;34m\u001b[0m\u001b[0m\n\u001b[0m",
      "\u001b[0;31mAttributeError\u001b[0m: 'Image' object has no attribute 'uuid'"
     ]
    }
   ],
   "source": [
    "[i.uuid for i in Image.objects.all()]"
   ]
  },
  {
   "cell_type": "code",
   "execution_count": 29,
   "id": "775ddfa1",
   "metadata": {},
   "outputs": [],
   "source": [
    "image = Image.objects.first()"
   ]
  },
  {
   "cell_type": "code",
   "execution_count": 31,
   "id": "7bd22c4a",
   "metadata": {},
   "outputs": [
    {
     "data": {
      "text/plain": [
       "['DoesNotExist',\n",
       " 'Meta',\n",
       " 'MultipleObjectsReturned',\n",
       " '__class__',\n",
       " '__delattr__',\n",
       " '__dict__',\n",
       " '__dir__',\n",
       " '__doc__',\n",
       " '__eq__',\n",
       " '__format__',\n",
       " '__ge__',\n",
       " '__getattribute__',\n",
       " '__getstate__',\n",
       " '__gt__',\n",
       " '__hash__',\n",
       " '__init__',\n",
       " '__init_subclass__',\n",
       " '__le__',\n",
       " '__lt__',\n",
       " '__module__',\n",
       " '__ne__',\n",
       " '__new__',\n",
       " '__reduce__',\n",
       " '__reduce_ex__',\n",
       " '__repr__',\n",
       " '__setattr__',\n",
       " '__setstate__',\n",
       " '__sizeof__',\n",
       " '__str__',\n",
       " '__subclasshook__',\n",
       " '__weakref__',\n",
       " '_check_column_name_clashes',\n",
       " '_check_constraints',\n",
       " '_check_default_pk',\n",
       " '_check_field_name_clashes',\n",
       " '_check_fields',\n",
       " '_check_id_field',\n",
       " '_check_index_together',\n",
       " '_check_indexes',\n",
       " '_check_local_fields',\n",
       " '_check_long_column_names',\n",
       " '_check_m2m_through_same_relationship',\n",
       " '_check_managers',\n",
       " '_check_model',\n",
       " '_check_model_name_db_lookup_clashes',\n",
       " '_check_ordering',\n",
       " '_check_property_name_related_field_accessor_clashes',\n",
       " '_check_search_fields',\n",
       " '_check_single_primary_key',\n",
       " '_check_swappable',\n",
       " '_check_unique_together',\n",
       " '_do_insert',\n",
       " '_do_update',\n",
       " '_get_FIELD_display',\n",
       " '_get_expr_references',\n",
       " '_get_next_or_previous_by_FIELD',\n",
       " '_get_next_or_previous_in_order',\n",
       " '_get_pk_val',\n",
       " '_get_unique_checks',\n",
       " '_has_field',\n",
       " '_meta',\n",
       " '_perform_date_checks',\n",
       " '_perform_unique_checks',\n",
       " '_prepare_related_fields_for_save',\n",
       " '_save_parents',\n",
       " '_save_table',\n",
       " '_set_file_hash',\n",
       " '_set_pk_val',\n",
       " '_state',\n",
       " 'admin_form_fields',\n",
       " 'check',\n",
       " 'clean',\n",
       " 'clean_fields',\n",
       " 'collection',\n",
       " 'collection_id',\n",
       " 'created_at',\n",
       " 'date_error_message',\n",
       " 'default_alt_text',\n",
       " 'delete',\n",
       " 'file',\n",
       " 'file_hash',\n",
       " 'file_size',\n",
       " 'filename',\n",
       " 'focal_point_height',\n",
       " 'focal_point_width',\n",
       " 'focal_point_x',\n",
       " 'focal_point_y',\n",
       " 'from_db',\n",
       " 'full_clean',\n",
       " 'gallery_set',\n",
       " 'get_autocomplete_search_fields',\n",
       " 'get_deferred_fields',\n",
       " 'get_file_hash',\n",
       " 'get_file_size',\n",
       " 'get_filterable_search_fields',\n",
       " 'get_focal_point',\n",
       " 'get_indexed_instance',\n",
       " 'get_indexed_objects',\n",
       " 'get_next_by_created_at',\n",
       " 'get_previous_by_created_at',\n",
       " 'get_rect',\n",
       " 'get_rendition',\n",
       " 'get_rendition_model',\n",
       " 'get_search_fields',\n",
       " 'get_searchable_search_fields',\n",
       " 'get_suggested_focal_point',\n",
       " 'get_upload_to',\n",
       " 'get_usage',\n",
       " 'get_willow_image',\n",
       " 'has_focal_point',\n",
       " 'height',\n",
       " 'id',\n",
       " 'indexed_get_content_type',\n",
       " 'indexed_get_parent',\n",
       " 'indexed_get_toplevel_content_type',\n",
       " 'is_editable_by_user',\n",
       " 'is_landscape',\n",
       " 'is_portrait',\n",
       " 'is_stored_locally',\n",
       " 'objects',\n",
       " 'open_file',\n",
       " 'pk',\n",
       " 'post_set',\n",
       " 'prepare_database_save',\n",
       " 'refresh_from_db',\n",
       " 'renditions',\n",
       " 'save',\n",
       " 'save_base',\n",
       " 'search_fields',\n",
       " 'serializable_value',\n",
       " 'set_focal_point',\n",
       " 'tagged_items',\n",
       " 'tags',\n",
       " 'title',\n",
       " 'unique_error_message',\n",
       " 'uploaded_by_user',\n",
       " 'uploaded_by_user_id',\n",
       " 'usage_url',\n",
       " 'validate_unique',\n",
       " 'width']"
      ]
     },
     "execution_count": 31,
     "metadata": {},
     "output_type": "execute_result"
    }
   ],
   "source": [
    "dir(image)"
   ]
  },
  {
   "cell_type": "code",
   "execution_count": 32,
   "id": "1cf23c91",
   "metadata": {},
   "outputs": [
    {
     "data": {
      "text/plain": [
       "7"
      ]
     },
     "execution_count": 32,
     "metadata": {},
     "output_type": "execute_result"
    }
   ],
   "source": [
    "image.pk"
   ]
  },
  {
   "cell_type": "code",
   "execution_count": 33,
   "id": "e84e0ad7",
   "metadata": {},
   "outputs": [
    {
     "data": {
      "text/plain": [
       "7"
      ]
     },
     "execution_count": 33,
     "metadata": {},
     "output_type": "execute_result"
    }
   ],
   "source": [
    "image.id"
   ]
  },
  {
   "cell_type": "code",
   "execution_count": 34,
   "id": "4cc30546",
   "metadata": {},
   "outputs": [
    {
     "data": {
      "text/plain": [
       "'ad4f022b-3c55-4a03-935d-71121fdaec08'"
      ]
     },
     "execution_count": 34,
     "metadata": {},
     "output_type": "execute_result"
    }
   ],
   "source": [
    "gallery_block.id"
   ]
  },
  {
   "cell_type": "code",
   "execution_count": 35,
   "id": "d9f5a8ac",
   "metadata": {},
   "outputs": [
    {
     "ename": "AttributeError",
     "evalue": "'property' object has no attribute 'search'",
     "output_type": "error",
     "traceback": [
      "\u001b[0;31m---------------------------------------------------------------------------\u001b[0m",
      "\u001b[0;31mAttributeError\u001b[0m                            Traceback (most recent call last)",
      "\u001b[0;32m/var/folders/dg/20nm141d3hj2hv67hjl6zmkc0000gn/T/ipykernel_56885/4214383032.py\u001b[0m in \u001b[0;36m<module>\u001b[0;34m\u001b[0m\n\u001b[0;32m----> 1\u001b[0;31m \u001b[0mBlog\u001b[0m\u001b[0;34m.\u001b[0m\u001b[0mpublished_posts\u001b[0m\u001b[0;34m.\u001b[0m\u001b[0msearch\u001b[0m\u001b[0;34m(\u001b[0m\u001b[0;34m\"foo\"\u001b[0m\u001b[0;34m)\u001b[0m\u001b[0;34m\u001b[0m\u001b[0;34m\u001b[0m\u001b[0m\n\u001b[0m",
      "\u001b[0;31mAttributeError\u001b[0m: 'property' object has no attribute 'search'"
     ]
    }
   ],
   "source": [
    "Blog.published_posts.search(\"foo\")"
   ]
  },
  {
   "cell_type": "code",
   "execution_count": 36,
   "id": "25e1d965",
   "metadata": {},
   "outputs": [],
   "source": [
    "from wagtail.search.backends import get_search_backend"
   ]
  },
  {
   "cell_type": "code",
   "execution_count": 37,
   "id": "246d1f06",
   "metadata": {},
   "outputs": [],
   "source": [
    "s = get_search_backend()"
   ]
  },
  {
   "cell_type": "code",
   "execution_count": 44,
   "id": "736a7aba",
   "metadata": {},
   "outputs": [
    {
     "data": {
      "text/plain": [
       "<SearchResults [<Post: post with audio>]>"
      ]
     },
     "execution_count": 44,
     "metadata": {},
     "output_type": "execute_result"
    }
   ],
   "source": [
    "s.search(\"eindeutiges\", Post)"
   ]
  },
  {
   "cell_type": "code",
   "execution_count": 2,
   "id": "af52b647",
   "metadata": {},
   "outputs": [
    {
     "data": {
      "text/plain": [
       "<Blog: Mein kleines Blog>"
      ]
     },
     "execution_count": 2,
     "metadata": {},
     "output_type": "execute_result"
    }
   ],
   "source": [
    "blog"
   ]
  },
  {
   "cell_type": "code",
   "execution_count": 11,
   "id": "0244ead1",
   "metadata": {},
   "outputs": [
    {
     "ename": "FieldError",
     "evalue": "Cannot resolve keyword 'visible_date' into field. Choices are: alias_of, alias_of_id, aliases, aliases_homepage, blog, comments, content_type, content_type_id, depth, draft_title, expire_at, expired, first_published_at, formsubmission, go_live_at, group_permissions, has_unpublished_changes, homepage, id, last_published_at, latest_revision_created_at, live, live_revision, live_revision_id, locale, locale_id, locked, locked_at, locked_by, locked_by_id, numchild, owner, owner_id, path, post, redirect, revisions, search_description, seo_title, show_in_menus, sites_rooted_here, slug, subscribers, title, translation_key, url_path, view_restrictions, workflow_states, workflowpage",
     "output_type": "error",
     "traceback": [
      "\u001b[0;31m---------------------------------------------------------------------------\u001b[0m",
      "\u001b[0;31mFieldError\u001b[0m                                Traceback (most recent call last)",
      "\u001b[0;32m/var/folders/35/mhty_0hd42ddfvyk3_09f1hc0000gn/T/ipykernel_27155/2495439642.py\u001b[0m in \u001b[0;36m<module>\u001b[0;34m\u001b[0m\n\u001b[0;32m----> 1\u001b[0;31m \u001b[0;32mfor\u001b[0m \u001b[0mchild\u001b[0m \u001b[0;32min\u001b[0m \u001b[0mblog\u001b[0m\u001b[0;34m.\u001b[0m\u001b[0mget_children\u001b[0m\u001b[0;34m(\u001b[0m\u001b[0;34m)\u001b[0m\u001b[0;34m.\u001b[0m\u001b[0mlive\u001b[0m\u001b[0;34m(\u001b[0m\u001b[0;34m)\u001b[0m\u001b[0;34m.\u001b[0m\u001b[0morder_by\u001b[0m\u001b[0;34m(\u001b[0m\u001b[0;34m\"-visible_date\"\u001b[0m\u001b[0;34m)\u001b[0m\u001b[0;34m:\u001b[0m\u001b[0;34m\u001b[0m\u001b[0;34m\u001b[0m\u001b[0m\n\u001b[0m\u001b[1;32m      2\u001b[0m     \u001b[0mprint\u001b[0m\u001b[0;34m(\u001b[0m\u001b[0mchild\u001b[0m\u001b[0;34m.\u001b[0m\u001b[0mpk\u001b[0m\u001b[0;34m,\u001b[0m \u001b[0mchild\u001b[0m\u001b[0;34m.\u001b[0m\u001b[0mpost\u001b[0m\u001b[0;34m.\u001b[0m\u001b[0mvisible_date\u001b[0m\u001b[0;34m)\u001b[0m\u001b[0;34m\u001b[0m\u001b[0;34m\u001b[0m\u001b[0m\n",
      "\u001b[0;32m~/.virtualenvs/cast/lib/python3.9/site-packages/django/db/models/query.py\u001b[0m in \u001b[0;36morder_by\u001b[0;34m(self, *field_names)\u001b[0m\n\u001b[1;32m   1147\u001b[0m         \u001b[0mobj\u001b[0m \u001b[0;34m=\u001b[0m \u001b[0mself\u001b[0m\u001b[0;34m.\u001b[0m\u001b[0m_chain\u001b[0m\u001b[0;34m(\u001b[0m\u001b[0;34m)\u001b[0m\u001b[0;34m\u001b[0m\u001b[0;34m\u001b[0m\u001b[0m\n\u001b[1;32m   1148\u001b[0m         \u001b[0mobj\u001b[0m\u001b[0;34m.\u001b[0m\u001b[0mquery\u001b[0m\u001b[0;34m.\u001b[0m\u001b[0mclear_ordering\u001b[0m\u001b[0;34m(\u001b[0m\u001b[0mforce_empty\u001b[0m\u001b[0;34m=\u001b[0m\u001b[0;32mFalse\u001b[0m\u001b[0;34m)\u001b[0m\u001b[0;34m\u001b[0m\u001b[0;34m\u001b[0m\u001b[0m\n\u001b[0;32m-> 1149\u001b[0;31m         \u001b[0mobj\u001b[0m\u001b[0;34m.\u001b[0m\u001b[0mquery\u001b[0m\u001b[0;34m.\u001b[0m\u001b[0madd_ordering\u001b[0m\u001b[0;34m(\u001b[0m\u001b[0;34m*\u001b[0m\u001b[0mfield_names\u001b[0m\u001b[0;34m)\u001b[0m\u001b[0;34m\u001b[0m\u001b[0;34m\u001b[0m\u001b[0m\n\u001b[0m\u001b[1;32m   1150\u001b[0m         \u001b[0;32mreturn\u001b[0m \u001b[0mobj\u001b[0m\u001b[0;34m\u001b[0m\u001b[0;34m\u001b[0m\u001b[0m\n\u001b[1;32m   1151\u001b[0m \u001b[0;34m\u001b[0m\u001b[0m\n",
      "\u001b[0;32m~/.virtualenvs/cast/lib/python3.9/site-packages/django/db/models/sql/query.py\u001b[0m in \u001b[0;36madd_ordering\u001b[0;34m(self, *ordering)\u001b[0m\n\u001b[1;32m   1991\u001b[0m                 \u001b[0;31m# names_to_path() validates the lookup. A descriptive\u001b[0m\u001b[0;34m\u001b[0m\u001b[0;34m\u001b[0m\u001b[0m\n\u001b[1;32m   1992\u001b[0m                 \u001b[0;31m# FieldError will be raise if it's not.\u001b[0m\u001b[0;34m\u001b[0m\u001b[0;34m\u001b[0m\u001b[0m\n\u001b[0;32m-> 1993\u001b[0;31m                 \u001b[0mself\u001b[0m\u001b[0;34m.\u001b[0m\u001b[0mnames_to_path\u001b[0m\u001b[0;34m(\u001b[0m\u001b[0mitem\u001b[0m\u001b[0;34m.\u001b[0m\u001b[0msplit\u001b[0m\u001b[0;34m(\u001b[0m\u001b[0mLOOKUP_SEP\u001b[0m\u001b[0;34m)\u001b[0m\u001b[0;34m,\u001b[0m \u001b[0mself\u001b[0m\u001b[0;34m.\u001b[0m\u001b[0mmodel\u001b[0m\u001b[0;34m.\u001b[0m\u001b[0m_meta\u001b[0m\u001b[0;34m)\u001b[0m\u001b[0;34m\u001b[0m\u001b[0;34m\u001b[0m\u001b[0m\n\u001b[0m\u001b[1;32m   1994\u001b[0m             \u001b[0;32melif\u001b[0m \u001b[0;32mnot\u001b[0m \u001b[0mhasattr\u001b[0m\u001b[0;34m(\u001b[0m\u001b[0mitem\u001b[0m\u001b[0;34m,\u001b[0m \u001b[0;34m'resolve_expression'\u001b[0m\u001b[0;34m)\u001b[0m\u001b[0;34m:\u001b[0m\u001b[0;34m\u001b[0m\u001b[0;34m\u001b[0m\u001b[0m\n\u001b[1;32m   1995\u001b[0m                 \u001b[0merrors\u001b[0m\u001b[0;34m.\u001b[0m\u001b[0mappend\u001b[0m\u001b[0;34m(\u001b[0m\u001b[0mitem\u001b[0m\u001b[0;34m)\u001b[0m\u001b[0;34m\u001b[0m\u001b[0;34m\u001b[0m\u001b[0m\n",
      "\u001b[0;32m~/.virtualenvs/cast/lib/python3.9/site-packages/django/db/models/sql/query.py\u001b[0m in \u001b[0;36mnames_to_path\u001b[0;34m(self, names, opts, allow_many, fail_on_missing)\u001b[0m\n\u001b[1;32m   1537\u001b[0m                         \u001b[0;34m*\u001b[0m\u001b[0mself\u001b[0m\u001b[0;34m.\u001b[0m\u001b[0m_filtered_relations\u001b[0m\u001b[0;34m,\u001b[0m\u001b[0;34m\u001b[0m\u001b[0;34m\u001b[0m\u001b[0m\n\u001b[1;32m   1538\u001b[0m                     ])\n\u001b[0;32m-> 1539\u001b[0;31m                     raise FieldError(\"Cannot resolve keyword '%s' into field. \"\n\u001b[0m\u001b[1;32m   1540\u001b[0m                                      \"Choices are: %s\" % (name, \", \".join(available)))\n\u001b[1;32m   1541\u001b[0m                 \u001b[0;32mbreak\u001b[0m\u001b[0;34m\u001b[0m\u001b[0;34m\u001b[0m\u001b[0m\n",
      "\u001b[0;31mFieldError\u001b[0m: Cannot resolve keyword 'visible_date' into field. Choices are: alias_of, alias_of_id, aliases, aliases_homepage, blog, comments, content_type, content_type_id, depth, draft_title, expire_at, expired, first_published_at, formsubmission, go_live_at, group_permissions, has_unpublished_changes, homepage, id, last_published_at, latest_revision_created_at, live, live_revision, live_revision_id, locale, locale_id, locked, locked_at, locked_by, locked_by_id, numchild, owner, owner_id, path, post, redirect, revisions, search_description, seo_title, show_in_menus, sites_rooted_here, slug, subscribers, title, translation_key, url_path, view_restrictions, workflow_states, workflowpage"
     ]
    }
   ],
   "source": [
    "for child in blog.get_children().live().get_specific().order_by(\"-visible_date\"):\n",
    "    print(child.pk, child.post.visible_date)"
   ]
  },
  {
   "cell_type": "code",
   "execution_count": 5,
   "id": "2a361916",
   "metadata": {},
   "outputs": [
    {
     "data": {
      "text/plain": [
       "['DEFAULT_PREVIEW_MODES',\n",
       " 'DoesNotExist',\n",
       " 'EXPLICIT_CHOICES',\n",
       " 'Meta',\n",
       " 'MultipleObjectsReturned',\n",
       " '__class__',\n",
       " '__delattr__',\n",
       " '__dict__',\n",
       " '__dir__',\n",
       " '__doc__',\n",
       " '__eq__',\n",
       " '__format__',\n",
       " '__ge__',\n",
       " '__getattribute__',\n",
       " '__getstate__',\n",
       " '__gt__',\n",
       " '__hash__',\n",
       " '__init__',\n",
       " '__init_subclass__',\n",
       " '__le__',\n",
       " '__lt__',\n",
       " '__module__',\n",
       " '__ne__',\n",
       " '__new__',\n",
       " '__reduce__',\n",
       " '__reduce_ex__',\n",
       " '__repr__',\n",
       " '__setattr__',\n",
       " '__setstate__',\n",
       " '__sizeof__',\n",
       " '__str__',\n",
       " '__subclasshook__',\n",
       " '__weakref__',\n",
       " '_check_column_name_clashes',\n",
       " '_check_constraints',\n",
       " '_check_default_pk',\n",
       " '_check_field_name_clashes',\n",
       " '_check_fields',\n",
       " '_check_id_field',\n",
       " '_check_index_together',\n",
       " '_check_indexes',\n",
       " '_check_local_fields',\n",
       " '_check_long_column_names',\n",
       " '_check_m2m_through_same_relationship',\n",
       " '_check_managers',\n",
       " '_check_model',\n",
       " '_check_model_name_db_lookup_clashes',\n",
       " '_check_ordering',\n",
       " '_check_property_name_related_field_accessor_clashes',\n",
       " '_check_search_fields',\n",
       " '_check_single_primary_key',\n",
       " '_check_swappable',\n",
       " '_check_unique_together',\n",
       " '_clean_parent_page_models',\n",
       " '_clean_subpage_models',\n",
       " '_db_connection',\n",
       " '_do_insert',\n",
       " '_do_update',\n",
       " '_get_FIELD_display',\n",
       " '_get_autogenerated_slug',\n",
       " '_get_basepath',\n",
       " '_get_children_path_interval',\n",
       " '_get_database_connection',\n",
       " '_get_database_cursor',\n",
       " '_get_dummy_header_url',\n",
       " '_get_dummy_headers',\n",
       " '_get_expr_references',\n",
       " '_get_lastpos_in_path',\n",
       " '_get_next_or_previous_by_FIELD',\n",
       " '_get_next_or_previous_in_order',\n",
       " '_get_parent_path_from_path',\n",
       " '_get_path',\n",
       " '_get_pk_val',\n",
       " '_get_serializable_model',\n",
       " '_get_site_root_paths',\n",
       " '_get_unique_checks',\n",
       " '_has_field',\n",
       " '_inc_path',\n",
       " '_int2str',\n",
       " '_meta',\n",
       " '_perform_date_checks',\n",
       " '_perform_unique_checks',\n",
       " '_prepare_pos_var',\n",
       " '_prepare_pos_var_for_add_sibling',\n",
       " '_prepare_pos_var_for_move',\n",
       " '_prepare_related_fields_for_save',\n",
       " '_process_foreign_keys',\n",
       " '_rewrite_node_path',\n",
       " '_save_parents',\n",
       " '_save_table',\n",
       " '_set_pk_val',\n",
       " '_slug_is_available',\n",
       " '_state',\n",
       " '_str2int',\n",
       " '_update_descendant_url_paths',\n",
       " '_valid_pos_for_add_sibling',\n",
       " '_valid_pos_for_move',\n",
       " '_valid_pos_for_sorted_add_sibling',\n",
       " '_valid_pos_for_sorted_move',\n",
       " 'add_child',\n",
       " 'add_root',\n",
       " 'add_sibling',\n",
       " 'ajax_template',\n",
       " 'alias_of',\n",
       " 'alias_of_id',\n",
       " 'aliases',\n",
       " 'aliases_homepage',\n",
       " 'allowed_parent_page_models',\n",
       " 'allowed_subpage_models',\n",
       " 'alphabet',\n",
       " 'approved_schedule',\n",
       " 'author',\n",
       " 'author_name',\n",
       " 'base_form_class',\n",
       " 'blog',\n",
       " 'cached_content_type',\n",
       " 'can_create_at',\n",
       " 'can_exist_under',\n",
       " 'can_move_to',\n",
       " 'check',\n",
       " 'clean',\n",
       " 'clean_fields',\n",
       " 'clean_parent_page_models',\n",
       " 'clean_subpage_models',\n",
       " 'comments',\n",
       " 'comments_enabled',\n",
       " 'content_panels',\n",
       " 'content_type',\n",
       " 'content_type_id',\n",
       " 'context_object_name',\n",
       " 'copy',\n",
       " 'copy_all_child_relations',\n",
       " 'copy_child_relation',\n",
       " 'copy_for_translation',\n",
       " 'creatable_subpage_models',\n",
       " 'create_alias',\n",
       " 'created',\n",
       " 'current_workflow_state',\n",
       " 'current_workflow_task',\n",
       " 'current_workflow_task_state',\n",
       " 'date_error_message',\n",
       " 'default_exclude_fields_in_copy',\n",
       " 'default_preview_mode',\n",
       " 'delete',\n",
       " 'depth',\n",
       " 'description',\n",
       " 'draft_title',\n",
       " 'dump_bulk',\n",
       " 'email',\n",
       " 'exclude_fields_in_copy',\n",
       " 'expire_at',\n",
       " 'expired',\n",
       " 'explicit',\n",
       " 'filterset',\n",
       " 'filterset_data',\n",
       " 'find_problems',\n",
       " 'first_published_at',\n",
       " 'fix_tree',\n",
       " 'formsubmission_set',\n",
       " 'from_db',\n",
       " 'from_json',\n",
       " 'from_serializable_data',\n",
       " 'full_clean',\n",
       " 'full_url',\n",
       " 'gap',\n",
       " 'get_admin_display_title',\n",
       " 'get_ancestors',\n",
       " 'get_annotated_list',\n",
       " 'get_annotated_list_qs',\n",
       " 'get_autocomplete_search_fields',\n",
       " 'get_cached_paths',\n",
       " 'get_children',\n",
       " 'get_children_count',\n",
       " 'get_context',\n",
       " 'get_database_vendor',\n",
       " 'get_default_locale',\n",
       " 'get_deferred_fields',\n",
       " 'get_depth',\n",
       " 'get_descendant_count',\n",
       " 'get_descendants',\n",
       " 'get_descendants_group_count',\n",
       " 'get_edit_handler',\n",
       " 'get_explicit_display',\n",
       " 'get_filterable_search_fields',\n",
       " 'get_first_child',\n",
       " 'get_first_root_node',\n",
       " 'get_first_sibling',\n",
       " 'get_foreign_keys',\n",
       " 'get_full_url',\n",
       " 'get_indexed_instance',\n",
       " 'get_indexed_objects',\n",
       " 'get_last_child',\n",
       " 'get_last_root_node',\n",
       " 'get_last_sibling',\n",
       " 'get_latest_revision',\n",
       " 'get_latest_revision_as_page',\n",
       " 'get_next_by_created',\n",
       " 'get_next_by_modified',\n",
       " 'get_next_sibling',\n",
       " 'get_next_siblings',\n",
       " 'get_other_get_params',\n",
       " 'get_parent',\n",
       " 'get_prev_sibling',\n",
       " 'get_prev_siblings',\n",
       " 'get_previous_by_created',\n",
       " 'get_previous_by_modified',\n",
       " 'get_root',\n",
       " 'get_root_nodes',\n",
       " 'get_search_fields',\n",
       " 'get_searchable_search_fields',\n",
       " 'get_siblings',\n",
       " 'get_site',\n",
       " 'get_sitemap_urls',\n",
       " 'get_sorted_pos_queryset',\n",
       " 'get_specific',\n",
       " 'get_static_site_paths',\n",
       " 'get_streamfield_names',\n",
       " 'get_template',\n",
       " 'get_translation',\n",
       " 'get_translation_model',\n",
       " 'get_translation_or_none',\n",
       " 'get_translations',\n",
       " 'get_tree',\n",
       " 'get_url',\n",
       " 'get_url_parts',\n",
       " 'get_verbose_name',\n",
       " 'get_view_restrictions',\n",
       " 'get_workflow',\n",
       " 'go_live_at',\n",
       " 'group_permissions',\n",
       " 'has_translation',\n",
       " 'has_unpublished_changes',\n",
       " 'has_unpublished_subtree',\n",
       " 'has_workflow',\n",
       " 'homepage',\n",
       " 'id',\n",
       " 'indexed_get_content_type',\n",
       " 'indexed_get_parent',\n",
       " 'indexed_get_toplevel_content_type',\n",
       " 'is_child_of',\n",
       " 'is_creatable',\n",
       " 'is_descendant_of',\n",
       " 'is_leaf',\n",
       " 'is_navigable',\n",
       " 'is_podcast',\n",
       " 'is_previewable',\n",
       " 'is_root',\n",
       " 'is_sibling_of',\n",
       " 'is_site_root',\n",
       " 'itunes_artwork',\n",
       " 'itunes_artwork_id',\n",
       " 'itunes_categories',\n",
       " 'itunes_categories_parsed',\n",
       " 'keywords',\n",
       " 'last_build_date',\n",
       " 'last_published_at',\n",
       " 'latest_revision_created_at',\n",
       " 'live',\n",
       " 'live_revision',\n",
       " 'live_revision_id',\n",
       " 'load_bulk',\n",
       " 'locale',\n",
       " 'locale_id',\n",
       " 'localized',\n",
       " 'localized_draft',\n",
       " 'locked',\n",
       " 'locked_at',\n",
       " 'locked_by',\n",
       " 'locked_by_id',\n",
       " 'make_preview_request',\n",
       " 'max_count',\n",
       " 'max_count_per_parent',\n",
       " 'modified',\n",
       " 'move',\n",
       " 'node_order_by',\n",
       " 'numchild',\n",
       " 'numconv_obj',\n",
       " 'numconv_obj_',\n",
       " 'objects',\n",
       " 'owner',\n",
       " 'owner_id',\n",
       " 'page_ptr',\n",
       " 'page_ptr_id',\n",
       " 'paginate_queryset',\n",
       " 'password_required_template',\n",
       " 'path',\n",
       " 'permissions_for_user',\n",
       " 'pk',\n",
       " 'post',\n",
       " 'prepare_database_save',\n",
       " 'preview_modes',\n",
       " 'promote_panels',\n",
       " 'published_posts',\n",
       " 'redirect_set',\n",
       " 'refresh_from_db',\n",
       " 'relative_url',\n",
       " 'request',\n",
       " 'revisions',\n",
       " 'route',\n",
       " 'save',\n",
       " 'save_base',\n",
       " 'save_revision',\n",
       " 'search_description',\n",
       " 'search_fields',\n",
       " 'seo_title',\n",
       " 'serializable_data',\n",
       " 'serializable_value',\n",
       " 'serve',\n",
       " 'serve_password_required_response',\n",
       " 'serve_preview',\n",
       " 'set_url_path',\n",
       " 'settings_panels',\n",
       " 'show_in_menus',\n",
       " 'show_in_menus_default',\n",
       " 'sites_rooted_here',\n",
       " 'slug',\n",
       " 'specific',\n",
       " 'specific_class',\n",
       " 'specific_deferred',\n",
       " 'status_string',\n",
       " 'steplen',\n",
       " 'subpage_types',\n",
       " 'subscribers',\n",
       " 'template',\n",
       " 'title',\n",
       " 'to_json',\n",
       " 'translation_key',\n",
       " 'unfiltered_published_posts',\n",
       " 'unique_error_message',\n",
       " 'unpublish',\n",
       " 'update_aliases',\n",
       " 'url',\n",
       " 'url_path',\n",
       " 'uuid',\n",
       " 'validate_unique',\n",
       " 'view_restrictions',\n",
       " 'with_content_json',\n",
       " 'workflow_in_progress',\n",
       " 'workflow_states',\n",
       " 'workflowpage']"
      ]
     },
     "execution_count": 5,
     "metadata": {},
     "output_type": "execute_result"
    }
   ],
   "source": [
    "dir(blog)"
   ]
  },
  {
   "cell_type": "code",
   "execution_count": 12,
   "id": "f4d35a25",
   "metadata": {},
   "outputs": [
    {
     "data": {
      "text/plain": [
       "['cast.Post']"
      ]
     },
     "execution_count": 12,
     "metadata": {},
     "output_type": "execute_result"
    }
   ],
   "source": [
    "blog.subpage_types"
   ]
  },
  {
   "cell_type": "code",
   "execution_count": null,
   "id": "85de87df",
   "metadata": {},
   "outputs": [],
   "source": []
  }
 ],
 "metadata": {
  "kernelspec": {
   "display_name": "Django Shell-Plus",
   "language": "python",
   "name": "django_extensions"
  },
  "language_info": {
   "codemirror_mode": {
    "name": "ipython",
    "version": 3
   },
   "file_extension": ".py",
   "mimetype": "text/x-python",
   "name": "python",
   "nbconvert_exporter": "python",
   "pygments_lexer": "ipython3",
   "version": "3.9.7"
  }
 },
 "nbformat": 4,
 "nbformat_minor": 5
}
