{
 "cells": [
  {
   "cell_type": "code",
   "execution_count": 5,
   "id": "1a4f7562",
   "metadata": {},
   "outputs": [
    {
     "data": {
      "text/plain": [
       "<QuerySet []>"
      ]
     },
     "execution_count": 5,
     "metadata": {},
     "output_type": "execute_result"
    }
   ],
   "source": [
    "Gallery.objects.all()"
   ]
  },
  {
   "cell_type": "code",
   "execution_count": 8,
   "id": "3ff9073f",
   "metadata": {},
   "outputs": [],
   "source": [
    "post = Post.objects.first()"
   ]
  },
  {
   "cell_type": "code",
   "execution_count": 12,
   "id": "c9b7c3af",
   "metadata": {},
   "outputs": [
    {
     "data": {
      "text/plain": [
       "<StreamValue [<block media: <Media: dinos ffmpeg>>, <block gallery: [<Image: serving_files_with_django.jpg>]>]>"
      ]
     },
     "execution_count": 12,
     "metadata": {},
     "output_type": "execute_result"
    }
   ],
   "source": [
    "post.body"
   ]
  },
  {
   "cell_type": "code",
   "execution_count": 13,
   "id": "fa4b2ab4",
   "metadata": {},
   "outputs": [
    {
     "data": {
      "text/plain": [
       "'<div class=\"block-media\">\\n            <div>\\n                <video width=\"320\" height=\"240\" controls>\\n                    <source src=\"/media/media/2021-06-28_dinos_new_PWC7GCh.mp4\" type=\"video/mp4\">\\n                    Your browser does not support the video tag.\\n                </video>\\n            </div>\\n            </div>\\n<div class=\"block-gallery\">\\n\\n<h1>hello world</h1>\\n\\n<div class=\"cast-gallery-container\">\\n\\n<!-- Modal -->\\n<div class=\"modal fade\" id=\"galleryModal-\" tabindex=\"-1\" role=\"dialog\"\\n     aria-labelledby=\"galleryModalLabel\" aria-hidden=\"true\">\\n    <div class=\"modal-dialog modal-lg cast-gallery-lg\" role=\"document\">\\n        <div class=\"modal-content cast-gallery-content\">\\n            <div class=\"modal-header cast-gallery-header\">\\n                <button type=\"button\" class=\"close\" data-dismiss=\"modal\" aria-label=\"Close\">\\n                    <span aria-hidden=\"true\">&times;</span>\\n                    </button>\\n                </div>\\n                <div class=\"modal-body cast-gallery-body\">\\n                <a href=\"\"><img class=\"modal-image cast-image\" src=\"\" srcset=\"\" sizes=\"100vw\"></img></a>\\n            </div>\\n            <div class=\"modal-footer cast-gallery-footer\">\\n                </div>\\n            </div>\\n    </div>\\n</div>\\n</div>'"
      ]
     },
     "execution_count": 13,
     "metadata": {},
     "output_type": "execute_result"
    }
   ],
   "source": [
    "str(post.body)"
   ]
  },
  {
   "cell_type": "code",
   "execution_count": null,
   "id": "c2327621",
   "metadata": {},
   "outputs": [],
   "source": []
  }
 ],
 "metadata": {
  "kernelspec": {
   "display_name": "Django Shell-Plus",
   "language": "python",
   "name": "django_extensions"
  },
  "language_info": {
   "codemirror_mode": {
    "name": "ipython",
    "version": 3
   },
   "file_extension": ".py",
   "mimetype": "text/x-python",
   "name": "python",
   "nbconvert_exporter": "python",
   "pygments_lexer": "ipython3",
   "version": "3.9.6"
  }
 },
 "nbformat": 4,
 "nbformat_minor": 5
}
