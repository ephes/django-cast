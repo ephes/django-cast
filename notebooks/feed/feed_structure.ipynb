{
 "cells": [
  {
   "cell_type": "code",
   "execution_count": 3,
   "id": "aaf33469",
   "metadata": {},
   "outputs": [
    {
     "data": {
      "application/javascript": [
       "\n",
       "            setTimeout(function() {\n",
       "                var nbb_cell_id = 3;\n",
       "                var nbb_unformatted_code = \"%load_ext nb_black\";\n",
       "                var nbb_formatted_code = \"%load_ext nb_black\";\n",
       "                var nbb_cells = Jupyter.notebook.get_cells();\n",
       "                for (var i = 0; i < nbb_cells.length; ++i) {\n",
       "                    if (nbb_cells[i].input_prompt_number == nbb_cell_id) {\n",
       "                        if (nbb_cells[i].get_text() == nbb_unformatted_code) {\n",
       "                             nbb_cells[i].set_text(nbb_formatted_code);\n",
       "                        }\n",
       "                        break;\n",
       "                    }\n",
       "                }\n",
       "            }, 500);\n",
       "            "
      ],
      "text/plain": [
       "<IPython.core.display.Javascript object>"
      ]
     },
     "metadata": {},
     "output_type": "display_data"
    }
   ],
   "source": [
    "%load_ext nb_black"
   ]
  },
  {
   "cell_type": "code",
   "execution_count": 4,
   "id": "06e761a6",
   "metadata": {},
   "outputs": [
    {
     "data": {
      "application/javascript": [
       "\n",
       "            setTimeout(function() {\n",
       "                var nbb_cell_id = 4;\n",
       "                var nbb_unformatted_code = \"import requests\\nimport feedparser\";\n",
       "                var nbb_formatted_code = \"import requests\\nimport feedparser\";\n",
       "                var nbb_cells = Jupyter.notebook.get_cells();\n",
       "                for (var i = 0; i < nbb_cells.length; ++i) {\n",
       "                    if (nbb_cells[i].input_prompt_number == nbb_cell_id) {\n",
       "                        if (nbb_cells[i].get_text() == nbb_unformatted_code) {\n",
       "                             nbb_cells[i].set_text(nbb_formatted_code);\n",
       "                        }\n",
       "                        break;\n",
       "                    }\n",
       "                }\n",
       "            }, 500);\n",
       "            "
      ],
      "text/plain": [
       "<IPython.core.display.Javascript object>"
      ]
     },
     "metadata": {},
     "output_type": "display_data"
    }
   ],
   "source": [
    "import requests\n",
    "import feedparser"
   ]
  },
  {
   "cell_type": "code",
   "execution_count": 1,
   "id": "e2408762",
   "metadata": {},
   "outputs": [],
   "source": [
    "feed_url = \"https://python-podcast.de/show/feed/podcast/m4a/rss.xml\""
   ]
  },
  {
   "cell_type": "code",
   "execution_count": 5,
   "id": "70af963e",
   "metadata": {},
   "outputs": [
    {
     "data": {
      "application/javascript": [
       "\n",
       "            setTimeout(function() {\n",
       "                var nbb_cell_id = 5;\n",
       "                var nbb_unformatted_code = \"r = requests.get(feed_url)\";\n",
       "                var nbb_formatted_code = \"r = requests.get(feed_url)\";\n",
       "                var nbb_cells = Jupyter.notebook.get_cells();\n",
       "                for (var i = 0; i < nbb_cells.length; ++i) {\n",
       "                    if (nbb_cells[i].input_prompt_number == nbb_cell_id) {\n",
       "                        if (nbb_cells[i].get_text() == nbb_unformatted_code) {\n",
       "                             nbb_cells[i].set_text(nbb_formatted_code);\n",
       "                        }\n",
       "                        break;\n",
       "                    }\n",
       "                }\n",
       "            }, 500);\n",
       "            "
      ],
      "text/plain": [
       "<IPython.core.display.Javascript object>"
      ]
     },
     "metadata": {},
     "output_type": "display_data"
    }
   ],
   "source": [
    "r = requests.get(feed_url)"
   ]
  },
  {
   "cell_type": "code",
   "execution_count": 6,
   "id": "9c69a714",
   "metadata": {},
   "outputs": [
    {
     "data": {
      "application/javascript": [
       "\n",
       "            setTimeout(function() {\n",
       "                var nbb_cell_id = 6;\n",
       "                var nbb_unformatted_code = \"d = feedparser.parse(r.content)\";\n",
       "                var nbb_formatted_code = \"d = feedparser.parse(r.content)\";\n",
       "                var nbb_cells = Jupyter.notebook.get_cells();\n",
       "                for (var i = 0; i < nbb_cells.length; ++i) {\n",
       "                    if (nbb_cells[i].input_prompt_number == nbb_cell_id) {\n",
       "                        if (nbb_cells[i].get_text() == nbb_unformatted_code) {\n",
       "                             nbb_cells[i].set_text(nbb_formatted_code);\n",
       "                        }\n",
       "                        break;\n",
       "                    }\n",
       "                }\n",
       "            }, 500);\n",
       "            "
      ],
      "text/plain": [
       "<IPython.core.display.Javascript object>"
      ]
     },
     "metadata": {},
     "output_type": "display_data"
    }
   ],
   "source": [
    "d = feedparser.parse(r.content)"
   ]
  },
  {
   "cell_type": "code",
   "execution_count": 9,
   "id": "de4fdc09",
   "metadata": {},
   "outputs": [
    {
     "data": {
      "text/plain": [
       "[{'type': 'text/html',\n",
       "  'language': None,\n",
       "  'base': '',\n",
       "  'value': 'Diesmal ist das Importsystem von Python Thema.&nbsp;<a href=\"https://twitter.com/shezoidic\">Johannes</a>,&nbsp;<a href=\"https://twitter.com/oryon_dominik\">Dominik</a>&nbsp;und&nbsp;<a href=\"https://twitter.com/ephes\">Jochen</a>&nbsp;sitzen endlich mal wieder zusammen vor Ort im Wintergarten. Im News-Teil ist gleich mal ein bl&ouml;der Fehler, weil Jochen den Artikel &uuml;ber&nbsp;<a href=\"https://labs.quansight.org/blog/2021/07/moving-scipy-to-meson/\">den Umstieg von scipy auf das Meson Buildsystem</a>&nbsp;nicht genau genug gelesen hat (meson ist nur 4 statt 100 mal schneller, sry).<br />\\n<br />\\n<div id=\"audio_52\"></div><br />\\n<br />\\nWer Lust auf ein kleines Audioexperiment hat folge bitte dem&nbsp;<a href=\"https://python-podcast.de/show/import-system/\">Permalink</a>.<br />\\n<br />\\n&nbsp;<br />\\n<br />\\nHier nochmal die aktuelle Episode, allerdings nur von&nbsp;<a href=\"https://ultraschall.fm/\">Ultraschall</a>&nbsp;gerendert und nicht durch&nbsp;<a href=\"https://auphonic.com/\">Auphonic</a>&nbsp;veredelt. Wer Lust hat, kann sich die beiden Audiodateien ja mal im Vergleich anh&ouml;ren. Ich finde, dass das Auphonic-Audio von oben tats&auml;chlich ein bisschen besser anh&ouml;rt (vor allem bei der loudness-Normalisierung). Aber vielleicht habe ich ja auch Ultraschall falsch eingestellt. Ich w&auml;re jedenfalls durchaus daran interessiert herauszufinden, was ich da noch verbessern kann :). Folgende Plugins habe ich bei Ultraschall aktiviert:\\n<ul>\\n\\t<li>Equalizer (ultraschall 5)</li>\\n\\t<li>Ambience (ultraschall Studio)</li>\\n\\t<li>Ultraschall Dynamics</li>\\n\\t<li>LUFS_Loudness auf dem Master</li>\\n</ul>\\n<div id=\"audio_53\"></div>\\n\\n<h2>Shownotes</h2>\\n\\n<p>Unsere E-Mail f&uuml;r Fragen, Anregungen &amp; Kommentare: <a href=\"mailto:hallo@python-podcast.de\">hallo@python-podcast.de</a></p>\\n\\n<h3>News aus der Szene</h3>\\n\\n<ul>\\n\\t<li><a href=\"https://www.schneier.com/blog/archives/2021/08/apple-adds-a-backdoor-to-imesssage-and-icloud-storage.html\">Apple Adds a Backdoor to iMesssage and iCloud Storage</a></li>\\n\\t<li><a href=\"https://lkml.org/lkml/2021/6/10/957\">Linus &uuml;ber Impfungen</a></li>\\n\\t<li><a href=\"https://www.python.org/dev/peps/pep-0632/#id20\">PEP 632 -- Deprecate distutils module</a>&nbsp;|&nbsp;<a href=\"https://labs.quansight.org/blog/2021/07/moving-scipy-to-meson/\">Moving SciPy to the Meson build system</a></li>\\n\\t<li><a href=\"https://www.python.org/downloads/release/python-3100rc1/\">Python 3.10.0rc1</a>&nbsp;- first 3.10 release candidate</li>\\n\\t<li><a href=\"https://copilot.github.com/\">Github Copilot</a></li>\\n\\t<li><a href=\"https://www.nature.com/articles/d41586-021-02134-0\">&lsquo;Tortured phrases&rsquo; give away fabricated research papers</a>&nbsp;- Colossal Data :)</li>\\n\\t<li>Podcast Episode:&nbsp;<a href=\"https://shows.acast.com/the-robot-brains/episodes/yann-lecun-on-how-he-brought-ai-to-facebook\">Yann LeCun &uuml;ber self supervised learning etc..</a>&nbsp;|&nbsp;<a href=\"https://arxiv.org/abs/1706.03762\">Attention Is All You Need</a></li>\\n</ul>\\n\\n<h3>Importsystem</h3>\\n\\n<ul>\\n\\t<li><a href=\"https://tenthousandmeters.com/blog/python-behind-the-scenes-11-how-the-python-import-system-works/\">Python behind the scenes #11: how the Python import system works</a>&nbsp;|&nbsp;<a href=\"https://news.ycombinator.com/item?id=27941208\">Diskussion auf Hacker News</a></li>\\n\\t<li><a href=\"https://docs.python.org/3/reference/import.html\">The import system (Referenzdokumentation)</a></li>\\n\\t<li>Artikel auf Realpython:&nbsp;<a href=\"https://realpython.com/python-import/\">Python import: Advanced Techniques and Tips</a></li>\\n\\t<li>Podcast Episode:&nbsp;<a href=\"https://realpython.com/podcasts/rpp/72/\">Episode 72: Starting With FastAPI and Examining Python\\'s Import System</a></li>\\n\\t<li><a href=\"https://python-patterns.guide/gang-of-four/singleton/\">Singleton</a></li>\\n\\t<li><a href=\"https://docs.python.org/3/library/marshal.html\">marshal &mdash; Internal Python object serialization</a>&nbsp;|&nbsp;<a href=\"https://docs.python.org/3/library/shelve.html\">shelve &mdash; Python object persistence</a>&nbsp;|&nbsp;<a href=\"https://github.com/uqfoundation/dill\">About Dill</a></li>\\n\\t<li>Benutzung von importlib in den Tests:&nbsp;<a href=\"https://github.com/torchbox/wagtailmedia/pull/136\">Make wagtailmedia media chooser compatible with wagtail 2.13 #136</a>&nbsp;|&nbsp;<a href=\"https://youtu.be/9zNPdS4QEnM\">Erster Stream zum wagtailmedia PR</a></li>\\n</ul>\\n\\n<h3>Picks</h3>\\n\\n<ul>\\n\\t<li><a href=\"https://octo.github.com/projects/repo-visualization?ref=webdesignernews.com\">GitHub octo</a></li>\\n\\t<li><a href=\"https://ohmygit.org/\">oh my git: An open source game about learning Git!</a></li>\\n\\t<li><a href=\"https://pre-commit.com/\">pre-commit A framework for managing and maintaining multi-language pre-commit hooks.</a></li>\\n</ul>\\n<br />\\n<a href=\"https://konektom.org/tags/68956/\" style=\"font-size: 13px;\">&Ouml;ffentliches Tag auf konektom</a><br />'}]"
      ]
     },
     "execution_count": 9,
     "metadata": {},
     "output_type": "execute_result"
    },
    {
     "data": {
      "application/javascript": [
       "\n",
       "            setTimeout(function() {\n",
       "                var nbb_cell_id = 9;\n",
       "                var nbb_unformatted_code = \"d.entries[0].content\";\n",
       "                var nbb_formatted_code = \"d.entries[0].content\";\n",
       "                var nbb_cells = Jupyter.notebook.get_cells();\n",
       "                for (var i = 0; i < nbb_cells.length; ++i) {\n",
       "                    if (nbb_cells[i].input_prompt_number == nbb_cell_id) {\n",
       "                        if (nbb_cells[i].get_text() == nbb_unformatted_code) {\n",
       "                             nbb_cells[i].set_text(nbb_formatted_code);\n",
       "                        }\n",
       "                        break;\n",
       "                    }\n",
       "                }\n",
       "            }, 500);\n",
       "            "
      ],
      "text/plain": [
       "<IPython.core.display.Javascript object>"
      ]
     },
     "metadata": {},
     "output_type": "display_data"
    }
   ],
   "source": [
    "d.entries[0].content"
   ]
  },
  {
   "cell_type": "code",
   "execution_count": 11,
   "id": "0a7ba3b3",
   "metadata": {},
   "outputs": [
    {
     "data": {
      "application/javascript": [
       "\n",
       "            setTimeout(function() {\n",
       "                var nbb_cell_id = 11;\n",
       "                var nbb_unformatted_code = \"feed = \\\"\\\"\\\"<?xml version=\\\"1.0\\\" encoding=\\\"utf-8\\\"?>\\\\n<rss version=\\\"2.0\\\" xmlns:atom=\\\"http://www.w3.org/2005/Atom\\\" xmlns:itunes=\\\"http://www.itunes.com/dtds/podcast-1.0.dtd\\\"><channel><title>testblog</title><link>http://example.com/testblog/</link><description></description><atom:link href=\\\"http://example.com/testblog/feed/podcast/m4a/rss.xml\\\" rel=\\\"self\\\"></atom:link><language>en-us</language><category></category><lastBuildDate>Sat, 14 Aug 2021 19:39:44 +0000</lastBuildDate><itunes:subtitle></itunes:subtitle><itunes:author></itunes:author><itunes:owner><itunes:name></itunes:name><itunes:email></itunes:email></itunes:owner><itunes:summary></itunes:summary><itunes:explicit>yes</itunes:explicit><lastBuildDate>Sat, 14 Aug 2021 19:39:44 +0000</lastBuildDate><generator>Django Web Framework / django-cast</generator><docs>http://blogs.law.harvard.edu/tech/rss</docs><item><title>test podcast episode</title><link>http://localhost/testblog/test-podcast-entry/</link><description>b\\\\'\\\\\\\\n\\\\\\\\n&lt;article&gt;\\\\\\\\n  &lt;h2&gt;&lt;a href=\\\"/testblog/test-podcast-entry/\\\"&gt;test podcast episode&lt;/a&gt;&lt;/h2&gt;\\\\\\\\n  \\\\\\\\n    \\\\\\\\n      &lt;section class=\\\"block-overview\\\"&gt;\\\\\\\\n        &lt;div class=\\\"block-heading\\\"&gt;in_all heading&lt;/div&gt;\\\\\\\\n      &lt;/section&gt;\\\\\\\\n    \\\\\\\\n  \\\\\\\\n    \\\\\\\\n  \\\\\\\\n&lt;/article&gt;\\\\\\\\n\\\\'</description><pubDate>Sat, 14 Aug 2021 19:39:44 +0000</pubDate><enclosure length=\\\"6824\\\" type=\\\"audio/mp4\\\" url=\\\"/media/cast_audio/test.m4a\\\"></enclosure><guid isPermaLink=\\\"false\\\">a3884339-9586-427a-85c8-6dd7eb705245</guid><itunes:author></itunes:author><itunes:subtitle></itunes:subtitle><itunes:summary></itunes:summary><itunes:duration>0:00:00</itunes:duration><itunes:keywords></itunes:keywords><itunes:explicit>yes</itunes:explicit></item></channel></rss>\\\"\\\"\\\"\";\n",
       "                var nbb_formatted_code = \"feed = \\\"\\\"\\\"<?xml version=\\\"1.0\\\" encoding=\\\"utf-8\\\"?>\\\\n<rss version=\\\"2.0\\\" xmlns:atom=\\\"http://www.w3.org/2005/Atom\\\" xmlns:itunes=\\\"http://www.itunes.com/dtds/podcast-1.0.dtd\\\"><channel><title>testblog</title><link>http://example.com/testblog/</link><description></description><atom:link href=\\\"http://example.com/testblog/feed/podcast/m4a/rss.xml\\\" rel=\\\"self\\\"></atom:link><language>en-us</language><category></category><lastBuildDate>Sat, 14 Aug 2021 19:39:44 +0000</lastBuildDate><itunes:subtitle></itunes:subtitle><itunes:author></itunes:author><itunes:owner><itunes:name></itunes:name><itunes:email></itunes:email></itunes:owner><itunes:summary></itunes:summary><itunes:explicit>yes</itunes:explicit><lastBuildDate>Sat, 14 Aug 2021 19:39:44 +0000</lastBuildDate><generator>Django Web Framework / django-cast</generator><docs>http://blogs.law.harvard.edu/tech/rss</docs><item><title>test podcast episode</title><link>http://localhost/testblog/test-podcast-entry/</link><description>b\\\\'\\\\\\\\n\\\\\\\\n&lt;article&gt;\\\\\\\\n  &lt;h2&gt;&lt;a href=\\\"/testblog/test-podcast-entry/\\\"&gt;test podcast episode&lt;/a&gt;&lt;/h2&gt;\\\\\\\\n  \\\\\\\\n    \\\\\\\\n      &lt;section class=\\\"block-overview\\\"&gt;\\\\\\\\n        &lt;div class=\\\"block-heading\\\"&gt;in_all heading&lt;/div&gt;\\\\\\\\n      &lt;/section&gt;\\\\\\\\n    \\\\\\\\n  \\\\\\\\n    \\\\\\\\n  \\\\\\\\n&lt;/article&gt;\\\\\\\\n\\\\'</description><pubDate>Sat, 14 Aug 2021 19:39:44 +0000</pubDate><enclosure length=\\\"6824\\\" type=\\\"audio/mp4\\\" url=\\\"/media/cast_audio/test.m4a\\\"></enclosure><guid isPermaLink=\\\"false\\\">a3884339-9586-427a-85c8-6dd7eb705245</guid><itunes:author></itunes:author><itunes:subtitle></itunes:subtitle><itunes:summary></itunes:summary><itunes:duration>0:00:00</itunes:duration><itunes:keywords></itunes:keywords><itunes:explicit>yes</itunes:explicit></item></channel></rss>\\\"\\\"\\\"\";\n",
       "                var nbb_cells = Jupyter.notebook.get_cells();\n",
       "                for (var i = 0; i < nbb_cells.length; ++i) {\n",
       "                    if (nbb_cells[i].input_prompt_number == nbb_cell_id) {\n",
       "                        if (nbb_cells[i].get_text() == nbb_unformatted_code) {\n",
       "                             nbb_cells[i].set_text(nbb_formatted_code);\n",
       "                        }\n",
       "                        break;\n",
       "                    }\n",
       "                }\n",
       "            }, 500);\n",
       "            "
      ],
      "text/plain": [
       "<IPython.core.display.Javascript object>"
      ]
     },
     "metadata": {},
     "output_type": "display_data"
    }
   ],
   "source": [
    "feed = \"\"\"<?xml version=\"1.0\" encoding=\"utf-8\"?>\\n<rss version=\"2.0\" xmlns:atom=\"http://www.w3.org/2005/Atom\" xmlns:itunes=\"http://www.itunes.com/dtds/podcast-1.0.dtd\"><channel><title>testblog</title><link>http://example.com/testblog/</link><description></description><atom:link href=\"http://example.com/testblog/feed/podcast/m4a/rss.xml\" rel=\"self\"></atom:link><language>en-us</language><category></category><lastBuildDate>Sat, 14 Aug 2021 19:39:44 +0000</lastBuildDate><itunes:subtitle></itunes:subtitle><itunes:author></itunes:author><itunes:owner><itunes:name></itunes:name><itunes:email></itunes:email></itunes:owner><itunes:summary></itunes:summary><itunes:explicit>yes</itunes:explicit><lastBuildDate>Sat, 14 Aug 2021 19:39:44 +0000</lastBuildDate><generator>Django Web Framework / django-cast</generator><docs>http://blogs.law.harvard.edu/tech/rss</docs><item><title>test podcast episode</title><link>http://localhost/testblog/test-podcast-entry/</link><description>b\\'\\\\n\\\\n&lt;article&gt;\\\\n  &lt;h2&gt;&lt;a href=\"/testblog/test-podcast-entry/\"&gt;test podcast episode&lt;/a&gt;&lt;/h2&gt;\\\\n  \\\\n    \\\\n      &lt;section class=\"block-overview\"&gt;\\\\n        &lt;div class=\"block-heading\"&gt;in_all heading&lt;/div&gt;\\\\n      &lt;/section&gt;\\\\n    \\\\n  \\\\n    \\\\n  \\\\n&lt;/article&gt;\\\\n\\'</description><pubDate>Sat, 14 Aug 2021 19:39:44 +0000</pubDate><enclosure length=\"6824\" type=\"audio/mp4\" url=\"/media/cast_audio/test.m4a\"></enclosure><guid isPermaLink=\"false\">a3884339-9586-427a-85c8-6dd7eb705245</guid><itunes:author></itunes:author><itunes:subtitle></itunes:subtitle><itunes:summary></itunes:summary><itunes:duration>0:00:00</itunes:duration><itunes:keywords></itunes:keywords><itunes:explicit>yes</itunes:explicit></item></channel></rss>\"\"\""
   ]
  },
  {
   "cell_type": "code",
   "execution_count": 14,
   "id": "714ef421",
   "metadata": {},
   "outputs": [
    {
     "data": {
      "text/plain": [
       "{'title': 'test podcast episode',\n",
       " 'title_detail': {'type': 'text/plain',\n",
       "  'language': None,\n",
       "  'base': '',\n",
       "  'value': 'test podcast episode'},\n",
       " 'links': [{'rel': 'alternate',\n",
       "   'type': 'text/html',\n",
       "   'href': 'http://localhost/testblog/test-podcast-entry/'},\n",
       "  {'length': '6824',\n",
       "   'type': 'audio/mp4',\n",
       "   'href': '/media/cast_audio/test.m4a',\n",
       "   'rel': 'enclosure'}],\n",
       " 'link': 'http://localhost/testblog/test-podcast-entry/',\n",
       " 'summary': 'b\\'\\\\n\\\\n<article>\\\\n  <h2><a href=\"/testblog/test-podcast-entry/\">test podcast episode</a></h2>\\\\n  \\\\n    \\\\n      <section class=\"block-overview\">\\\\n        <div class=\"block-heading\">in_all heading</div>\\\\n      </section>\\\\n    \\\\n  \\\\n    \\\\n  \\\\n</article>\\\\n\\'',\n",
       " 'summary_detail': {'type': 'text/html',\n",
       "  'language': None,\n",
       "  'base': '',\n",
       "  'value': 'b\\'\\\\n\\\\n<article>\\\\n  <h2><a href=\"/testblog/test-podcast-entry/\">test podcast episode</a></h2>\\\\n  \\\\n    \\\\n      <section class=\"block-overview\">\\\\n        <div class=\"block-heading\">in_all heading</div>\\\\n      </section>\\\\n    \\\\n  \\\\n    \\\\n  \\\\n</article>\\\\n\\''},\n",
       " 'published': 'Sat, 14 Aug 2021 19:39:44 +0000',\n",
       " 'published_parsed': time.struct_time(tm_year=2021, tm_mon=8, tm_mday=14, tm_hour=19, tm_min=39, tm_sec=44, tm_wday=5, tm_yday=226, tm_isdst=0),\n",
       " 'id': 'a3884339-9586-427a-85c8-6dd7eb705245',\n",
       " 'guidislink': False,\n",
       " 'authors': [{}],\n",
       " 'author': '',\n",
       " 'subtitle': '',\n",
       " 'subtitle_detail': {'type': 'text/plain',\n",
       "  'language': None,\n",
       "  'base': '',\n",
       "  'value': ''},\n",
       " 'content': [{'type': 'text/plain',\n",
       "   'language': None,\n",
       "   'base': '',\n",
       "   'value': ''}],\n",
       " 'itunes_duration': '0:00:00',\n",
       " 'itunes_explicit': True}"
      ]
     },
     "execution_count": 14,
     "metadata": {},
     "output_type": "execute_result"
    },
    {
     "data": {
      "application/javascript": [
       "\n",
       "            setTimeout(function() {\n",
       "                var nbb_cell_id = 14;\n",
       "                var nbb_unformatted_code = \"feedparser.parse(feed).entries[0]\";\n",
       "                var nbb_formatted_code = \"feedparser.parse(feed).entries[0]\";\n",
       "                var nbb_cells = Jupyter.notebook.get_cells();\n",
       "                for (var i = 0; i < nbb_cells.length; ++i) {\n",
       "                    if (nbb_cells[i].input_prompt_number == nbb_cell_id) {\n",
       "                        if (nbb_cells[i].get_text() == nbb_unformatted_code) {\n",
       "                             nbb_cells[i].set_text(nbb_formatted_code);\n",
       "                        }\n",
       "                        break;\n",
       "                    }\n",
       "                }\n",
       "            }, 500);\n",
       "            "
      ],
      "text/plain": [
       "<IPython.core.display.Javascript object>"
      ]
     },
     "metadata": {},
     "output_type": "display_data"
    }
   ],
   "source": [
    "feedparser.parse(feed).entries[0]"
   ]
  },
  {
   "cell_type": "code",
   "execution_count": null,
   "id": "4b32245d",
   "metadata": {},
   "outputs": [],
   "source": []
  },
  {
   "cell_type": "code",
   "execution_count": null,
   "id": "cd3dd9ec",
   "metadata": {},
   "outputs": [],
   "source": []
  },
  {
   "cell_type": "code",
   "execution_count": null,
   "id": "7c3796e2",
   "metadata": {},
   "outputs": [],
   "source": []
  }
 ],
 "metadata": {
  "kernelspec": {
   "display_name": "Django Shell-Plus",
   "language": "python",
   "name": "django_extensions"
  },
  "language_info": {
   "codemirror_mode": {
    "name": "ipython",
    "version": 3
   },
   "file_extension": ".py",
   "mimetype": "text/x-python",
   "name": "python",
   "nbconvert_exporter": "python",
   "pygments_lexer": "ipython3",
   "version": "3.9.7"
  }
 },
 "nbformat": 4,
 "nbformat_minor": 5
}
