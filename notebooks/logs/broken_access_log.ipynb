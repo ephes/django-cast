{
 "cells": [
  {
   "cell_type": "code",
   "execution_count": 1,
   "id": "e3f02d48",
   "metadata": {},
   "outputs": [
    {
     "data": {
      "application/javascript": [
       "\n",
       "            setTimeout(function() {\n",
       "                var nbb_cell_id = 1;\n",
       "                var nbb_unformatted_code = \"%load_ext nb_black\";\n",
       "                var nbb_formatted_code = \"%load_ext nb_black\";\n",
       "                var nbb_cells = Jupyter.notebook.get_cells();\n",
       "                for (var i = 0; i < nbb_cells.length; ++i) {\n",
       "                    if (nbb_cells[i].input_prompt_number == nbb_cell_id) {\n",
       "                        if (nbb_cells[i].get_text() == nbb_unformatted_code) {\n",
       "                             nbb_cells[i].set_text(nbb_formatted_code);\n",
       "                        }\n",
       "                        break;\n",
       "                    }\n",
       "                }\n",
       "            }, 500);\n",
       "            "
      ],
      "text/plain": [
       "<IPython.core.display.Javascript object>"
      ]
     },
     "metadata": {},
     "output_type": "display_data"
    }
   ],
   "source": [
    "%load_ext nb_black"
   ]
  },
  {
   "cell_type": "code",
   "execution_count": 7,
   "id": "e88557c0",
   "metadata": {},
   "outputs": [
    {
     "data": {
      "application/javascript": [
       "\n",
       "            setTimeout(function() {\n",
       "                var nbb_cell_id = 7;\n",
       "                var nbb_unformatted_code = \"from io import StringIO\\n\\nfrom pathlib import Path\";\n",
       "                var nbb_formatted_code = \"from io import StringIO\\n\\nfrom pathlib import Path\";\n",
       "                var nbb_cells = Jupyter.notebook.get_cells();\n",
       "                for (var i = 0; i < nbb_cells.length; ++i) {\n",
       "                    if (nbb_cells[i].input_prompt_number == nbb_cell_id) {\n",
       "                        if (nbb_cells[i].get_text() == nbb_unformatted_code) {\n",
       "                             nbb_cells[i].set_text(nbb_formatted_code);\n",
       "                        }\n",
       "                        break;\n",
       "                    }\n",
       "                }\n",
       "            }, 500);\n",
       "            "
      ],
      "text/plain": [
       "<IPython.core.display.Javascript object>"
      ]
     },
     "metadata": {},
     "output_type": "display_data"
    }
   ],
   "source": [
    "from io import StringIO\n",
    "\n",
    "from pathlib import Path"
   ]
  },
  {
   "cell_type": "code",
   "execution_count": 34,
   "id": "14582c63",
   "metadata": {},
   "outputs": [
    {
     "data": {
      "application/javascript": [
       "\n",
       "            setTimeout(function() {\n",
       "                var nbb_cell_id = 34;\n",
       "                var nbb_unformatted_code = \"def access_log_to_buffer(access_log_path, start_position=0, chunk_size=None):\\n    \\\"\\\"\\\"\\n    Read all lines from access_log_path starting at start_position and append\\n    them to an empty buffer. Return that buffer.\\n    \\\"\\\"\\\"\\n    log_buffer = StringIO()\\n    weird_log_lines = [\\n        \\\"<script >alert(String.fromCharCode(88,83,83))</script>\\\",\\n    ]\\n    with open(access_log_path, \\\"rb\\\") as f:\\n        line_count = 0\\n        for position, line in enumerate(f):\\n            try:\\n                line = line.decode(\\\"utf8\\\")\\n            except UnicodeDecodeError:\\n                # ignore weird characters (should not happen that often)\\n                continue\\n            should_continue = False\\n            for wll in weird_log_lines:\\n                if wll in line:\\n                    # ignore weird js cracking attempts etc\\n                    should_continue = True\\n            if should_continue:\\n                continue\\n            if position > start_position:\\n                log_buffer.write(line)\\n                line_count += 1\\n                if chunk_size is not None and line_count == chunk_size:\\n                    # read only chunk_size lines if set\\n                    break\\n    log_buffer.seek(0)\\n    return log_buffer\";\n",
       "                var nbb_formatted_code = \"def access_log_to_buffer(access_log_path, start_position=0, chunk_size=None):\\n    \\\"\\\"\\\"\\n    Read all lines from access_log_path starting at start_position and append\\n    them to an empty buffer. Return that buffer.\\n    \\\"\\\"\\\"\\n    log_buffer = StringIO()\\n    weird_log_lines = [\\n        \\\"<script >alert(String.fromCharCode(88,83,83))</script>\\\",\\n    ]\\n    with open(access_log_path, \\\"rb\\\") as f:\\n        line_count = 0\\n        for position, line in enumerate(f):\\n            try:\\n                line = line.decode(\\\"utf8\\\")\\n            except UnicodeDecodeError:\\n                # ignore weird characters (should not happen that often)\\n                continue\\n            should_continue = False\\n            for wll in weird_log_lines:\\n                if wll in line:\\n                    # ignore weird js cracking attempts etc\\n                    should_continue = True\\n            if should_continue:\\n                continue\\n            if position > start_position:\\n                log_buffer.write(line)\\n                line_count += 1\\n                if chunk_size is not None and line_count == chunk_size:\\n                    # read only chunk_size lines if set\\n                    break\\n    log_buffer.seek(0)\\n    return log_buffer\";\n",
       "                var nbb_cells = Jupyter.notebook.get_cells();\n",
       "                for (var i = 0; i < nbb_cells.length; ++i) {\n",
       "                    if (nbb_cells[i].input_prompt_number == nbb_cell_id) {\n",
       "                        if (nbb_cells[i].get_text() == nbb_unformatted_code) {\n",
       "                             nbb_cells[i].set_text(nbb_formatted_code);\n",
       "                        }\n",
       "                        break;\n",
       "                    }\n",
       "                }\n",
       "            }, 500);\n",
       "            "
      ],
      "text/plain": [
       "<IPython.core.display.Javascript object>"
      ]
     },
     "metadata": {},
     "output_type": "display_data"
    }
   ],
   "source": [
    "def access_log_to_buffer(access_log_path, start_position=0, chunk_size=None):\n",
    "    \"\"\"\n",
    "    Read all lines from access_log_path starting at start_position and append\n",
    "    them to an empty buffer. Return that buffer.\n",
    "    \"\"\"\n",
    "    log_buffer = StringIO()\n",
    "    weird_log_lines = [\n",
    "        \"<script >alert(String.fromCharCode(88,83,83))</script>\",\n",
    "    ]\n",
    "    with open(access_log_path, \"rb\") as f:\n",
    "        line_count = 0\n",
    "        for position, line in enumerate(f):\n",
    "            try:\n",
    "                line = line.decode(\"utf8\")\n",
    "            except UnicodeDecodeError:\n",
    "                # ignore weird characters (should not happen that often)\n",
    "                continue\n",
    "            should_continue = False\n",
    "            for wll in weird_log_lines:\n",
    "                if wll in line:\n",
    "                    # ignore weird js cracking attempts etc\n",
    "                    should_continue = True\n",
    "            if should_continue:\n",
    "                continue\n",
    "            if position > start_position:\n",
    "                log_buffer.write(line)\n",
    "                line_count += 1\n",
    "                if chunk_size is not None and line_count == chunk_size:\n",
    "                    # read only chunk_size lines if set\n",
    "                    break\n",
    "    log_buffer.seek(0)\n",
    "    return log_buffer"
   ]
  },
  {
   "cell_type": "code",
   "execution_count": 35,
   "id": "aeb4526a",
   "metadata": {},
   "outputs": [
    {
     "data": {
      "application/javascript": [
       "\n",
       "            setTimeout(function() {\n",
       "                var nbb_cell_id = 35;\n",
       "                var nbb_unformatted_code = \"access_log_path = Path(\\\"../broken_access.log\\\")\";\n",
       "                var nbb_formatted_code = \"access_log_path = Path(\\\"../broken_access.log\\\")\";\n",
       "                var nbb_cells = Jupyter.notebook.get_cells();\n",
       "                for (var i = 0; i < nbb_cells.length; ++i) {\n",
       "                    if (nbb_cells[i].input_prompt_number == nbb_cell_id) {\n",
       "                        if (nbb_cells[i].get_text() == nbb_unformatted_code) {\n",
       "                             nbb_cells[i].set_text(nbb_formatted_code);\n",
       "                        }\n",
       "                        break;\n",
       "                    }\n",
       "                }\n",
       "            }, 500);\n",
       "            "
      ],
      "text/plain": [
       "<IPython.core.display.Javascript object>"
      ]
     },
     "metadata": {},
     "output_type": "display_data"
    }
   ],
   "source": [
    "access_log_path = Path(\"../broken_access.log\")"
   ]
  },
  {
   "cell_type": "code",
   "execution_count": 36,
   "id": "dce84d8d",
   "metadata": {},
   "outputs": [
    {
     "data": {
      "application/javascript": [
       "\n",
       "            setTimeout(function() {\n",
       "                var nbb_cell_id = 36;\n",
       "                var nbb_unformatted_code = \"buffer = access_log_to_buffer(access_log_path)\";\n",
       "                var nbb_formatted_code = \"buffer = access_log_to_buffer(access_log_path)\";\n",
       "                var nbb_cells = Jupyter.notebook.get_cells();\n",
       "                for (var i = 0; i < nbb_cells.length; ++i) {\n",
       "                    if (nbb_cells[i].input_prompt_number == nbb_cell_id) {\n",
       "                        if (nbb_cells[i].get_text() == nbb_unformatted_code) {\n",
       "                             nbb_cells[i].set_text(nbb_formatted_code);\n",
       "                        }\n",
       "                        break;\n",
       "                    }\n",
       "                }\n",
       "            }, 500);\n",
       "            "
      ],
      "text/plain": [
       "<IPython.core.display.Javascript object>"
      ]
     },
     "metadata": {},
     "output_type": "display_data"
    }
   ],
   "source": [
    "buffer = access_log_to_buffer(access_log_path)"
   ]
  },
  {
   "cell_type": "code",
   "execution_count": 23,
   "id": "e4c56bd2",
   "metadata": {},
   "outputs": [
    {
     "data": {
      "text/plain": [
       "0"
      ]
     },
     "execution_count": 23,
     "metadata": {},
     "output_type": "execute_result"
    },
    {
     "data": {
      "application/javascript": [
       "\n",
       "            setTimeout(function() {\n",
       "                var nbb_cell_id = 23;\n",
       "                var nbb_unformatted_code = \"buffer.seek(0)\";\n",
       "                var nbb_formatted_code = \"buffer.seek(0)\";\n",
       "                var nbb_cells = Jupyter.notebook.get_cells();\n",
       "                for (var i = 0; i < nbb_cells.length; ++i) {\n",
       "                    if (nbb_cells[i].input_prompt_number == nbb_cell_id) {\n",
       "                        if (nbb_cells[i].get_text() == nbb_unformatted_code) {\n",
       "                             nbb_cells[i].set_text(nbb_formatted_code);\n",
       "                        }\n",
       "                        break;\n",
       "                    }\n",
       "                }\n",
       "            }, 500);\n",
       "            "
      ],
      "text/plain": [
       "<IPython.core.display.Javascript object>"
      ]
     },
     "metadata": {},
     "output_type": "display_data"
    }
   ],
   "source": [
    "buffer.seek(0)"
   ]
  },
  {
   "cell_type": "code",
   "execution_count": 37,
   "id": "a1bcf0e4",
   "metadata": {},
   "outputs": [
    {
     "data": {
      "text/plain": [
       "27430896"
      ]
     },
     "execution_count": 37,
     "metadata": {},
     "output_type": "execute_result"
    },
    {
     "data": {
      "application/javascript": [
       "\n",
       "            setTimeout(function() {\n",
       "                var nbb_cell_id = 37;\n",
       "                var nbb_unformatted_code = \"len(buffer.read())\";\n",
       "                var nbb_formatted_code = \"len(buffer.read())\";\n",
       "                var nbb_cells = Jupyter.notebook.get_cells();\n",
       "                for (var i = 0; i < nbb_cells.length; ++i) {\n",
       "                    if (nbb_cells[i].input_prompt_number == nbb_cell_id) {\n",
       "                        if (nbb_cells[i].get_text() == nbb_unformatted_code) {\n",
       "                             nbb_cells[i].set_text(nbb_formatted_code);\n",
       "                        }\n",
       "                        break;\n",
       "                    }\n",
       "                }\n",
       "            }, 500);\n",
       "            "
      ],
      "text/plain": [
       "<IPython.core.display.Javascript object>"
      ]
     },
     "metadata": {},
     "output_type": "display_data"
    }
   ],
   "source": [
    "len(buffer.read())"
   ]
  },
  {
   "cell_type": "code",
   "execution_count": 24,
   "id": "9ef0a622",
   "metadata": {},
   "outputs": [
    {
     "data": {
      "text/plain": [
       "27431225"
      ]
     },
     "execution_count": 24,
     "metadata": {},
     "output_type": "execute_result"
    },
    {
     "data": {
      "application/javascript": [
       "\n",
       "            setTimeout(function() {\n",
       "                var nbb_cell_id = 24;\n",
       "                var nbb_unformatted_code = \"len(buffer.read())\";\n",
       "                var nbb_formatted_code = \"len(buffer.read())\";\n",
       "                var nbb_cells = Jupyter.notebook.get_cells();\n",
       "                for (var i = 0; i < nbb_cells.length; ++i) {\n",
       "                    if (nbb_cells[i].input_prompt_number == nbb_cell_id) {\n",
       "                        if (nbb_cells[i].get_text() == nbb_unformatted_code) {\n",
       "                             nbb_cells[i].set_text(nbb_formatted_code);\n",
       "                        }\n",
       "                        break;\n",
       "                    }\n",
       "                }\n",
       "            }, 500);\n",
       "            "
      ],
      "text/plain": [
       "<IPython.core.display.Javascript object>"
      ]
     },
     "metadata": {},
     "output_type": "display_data"
    }
   ],
   "source": [
    "len(buffer.read())"
   ]
  },
  {
   "cell_type": "code",
   "execution_count": 19,
   "id": "83230a35",
   "metadata": {},
   "outputs": [
    {
     "data": {
      "application/javascript": [
       "\n",
       "            setTimeout(function() {\n",
       "                var nbb_cell_id = 19;\n",
       "                var nbb_unformatted_code = \"lines = []\\nfor num, line in enumerate(buffer.read()):\\n    lines.append(line)\\n    if num > 10:\\n        break\";\n",
       "                var nbb_formatted_code = \"lines = []\\nfor num, line in enumerate(buffer.read()):\\n    lines.append(line)\\n    if num > 10:\\n        break\";\n",
       "                var nbb_cells = Jupyter.notebook.get_cells();\n",
       "                for (var i = 0; i < nbb_cells.length; ++i) {\n",
       "                    if (nbb_cells[i].input_prompt_number == nbb_cell_id) {\n",
       "                        if (nbb_cells[i].get_text() == nbb_unformatted_code) {\n",
       "                             nbb_cells[i].set_text(nbb_formatted_code);\n",
       "                        }\n",
       "                        break;\n",
       "                    }\n",
       "                }\n",
       "            }, 500);\n",
       "            "
      ],
      "text/plain": [
       "<IPython.core.display.Javascript object>"
      ]
     },
     "metadata": {},
     "output_type": "display_data"
    }
   ],
   "source": [
    "lines = []\n",
    "for num, line in enumerate(buffer.read()):\n",
    "    lines.append(line)\n",
    "    if num > 10:\n",
    "        break"
   ]
  },
  {
   "cell_type": "code",
   "execution_count": 20,
   "id": "4c3c487e",
   "metadata": {},
   "outputs": [
    {
     "data": {
      "text/plain": [
       "['2', '1', '3', '.', '2', '3', '9', '.', '2', '1', '2', '.']"
      ]
     },
     "execution_count": 20,
     "metadata": {},
     "output_type": "execute_result"
    },
    {
     "data": {
      "application/javascript": [
       "\n",
       "            setTimeout(function() {\n",
       "                var nbb_cell_id = 20;\n",
       "                var nbb_unformatted_code = \"lines\";\n",
       "                var nbb_formatted_code = \"lines\";\n",
       "                var nbb_cells = Jupyter.notebook.get_cells();\n",
       "                for (var i = 0; i < nbb_cells.length; ++i) {\n",
       "                    if (nbb_cells[i].input_prompt_number == nbb_cell_id) {\n",
       "                        if (nbb_cells[i].get_text() == nbb_unformatted_code) {\n",
       "                             nbb_cells[i].set_text(nbb_formatted_code);\n",
       "                        }\n",
       "                        break;\n",
       "                    }\n",
       "                }\n",
       "            }, 500);\n",
       "            "
      ],
      "text/plain": [
       "<IPython.core.display.Javascript object>"
      ]
     },
     "metadata": {},
     "output_type": "display_data"
    }
   ],
   "source": [
    "lines"
   ]
  },
  {
   "cell_type": "code",
   "execution_count": null,
   "id": "d7de2070",
   "metadata": {},
   "outputs": [],
   "source": []
  }
 ],
 "metadata": {
  "kernelspec": {
   "display_name": "Django Shell-Plus",
   "language": "python",
   "name": "django_extensions"
  },
  "language_info": {
   "codemirror_mode": {
    "name": "ipython",
    "version": 3
   },
   "file_extension": ".py",
   "mimetype": "text/x-python",
   "name": "python",
   "nbconvert_exporter": "python",
   "pygments_lexer": "ipython3",
   "version": "3.10.0"
  }
 },
 "nbformat": 4,
 "nbformat_minor": 5
}
