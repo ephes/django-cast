{
 "cells": [
  {
   "cell_type": "code",
   "execution_count": 1,
   "id": "d40f9866",
   "metadata": {},
   "outputs": [],
   "source": [
    "import factory\n",
    "\n",
    "from django.utils import timezone\n",
    "\n",
    "from wagtail.core.models import Page"
   ]
  },
  {
   "cell_type": "code",
   "execution_count": 2,
   "id": "11314677",
   "metadata": {},
   "outputs": [],
   "source": [
    "class UserFactory(factory.django.DjangoModelFactory):\n",
    "    username = factory.Sequence(lambda n: \"user-{0}\".format(n))\n",
    "    email = factory.Sequence(lambda n: \"user-{0}@example.com\".format(n))\n",
    "    password = factory.PostGenerationMethodCall(\"set_password\", \"password\")\n",
    "\n",
    "    class Meta:\n",
    "        model = get_user_model()\n",
    "        django_get_or_create = (\"username\",)\n",
    "\n",
    "\n",
    "\n",
    "class PageFactory(factory.django.DjangoModelFactory):\n",
    "    class Meta:\n",
    "        abstract = True\n",
    "\n",
    "    @classmethod\n",
    "    def _create(cls, model_class, *args, **kwargs):\n",
    "\n",
    "        try:\n",
    "            parent = kwargs.pop(\"parent\")\n",
    "        except KeyError:\n",
    "            # no parent, appending page to root\n",
    "            parent = Page.get_first_root_node()\n",
    "            site = Site.objects.first()\n",
    "            site.root_page = parent\n",
    "            site.save()\n",
    "\n",
    "\n",
    "        page = model_class(*args, **kwargs)\n",
    "        parent.add_child(instance=page)\n",
    "\n",
    "        return page\n",
    "\n",
    "\n",
    "class BlogFactory(PageFactory):\n",
    "    author = None\n",
    "    title = factory.Sequence(lambda n: \"blog-{0}\".format(n))\n",
    "    slug = factory.Sequence(lambda n: \"blog-{0}\".format(n))\n",
    "\n",
    "    class Meta:\n",
    "        model = Blog\n",
    "        django_get_or_create = (\"slug\",)\n",
    "\n",
    "\n",
    "class PostFactory(PageFactory):\n",
    "    class Meta:\n",
    "        model = Post\n",
    "        django_get_or_create = (\"slug\",)"
   ]
  },
  {
   "cell_type": "code",
   "execution_count": 7,
   "id": "2a028cd6",
   "metadata": {},
   "outputs": [],
   "source": [
    "Blog.objects.all().delete()\n",
    "Post.objects.all().delete()"
   ]
  },
  {
   "cell_type": "code",
   "execution_count": 8,
   "id": "e587c530",
   "metadata": {},
   "outputs": [],
   "source": [
    "user = UserFactory()\n",
    "user._password = \"password\"\n",
    "\n",
    "blog = BlogFactory(owner=user, title=\"testblog\", slug=\"testblog\", description=\"foobar baz\")\n",
    "post = PostFactory(\n",
    "    owner=blog.owner,\n",
    "    parent=blog,\n",
    "    title=\"test entry\",\n",
    "    slug=\"test-entry\",\n",
    "    pub_date=timezone.now(),\n",
    ")"
   ]
  },
  {
   "cell_type": "code",
   "execution_count": 12,
   "id": "f570d07c",
   "metadata": {},
   "outputs": [
    {
     "data": {
      "text/plain": [
       "'/testblog/test-entry/'"
      ]
     },
     "execution_count": 12,
     "metadata": {},
     "output_type": "execute_result"
    }
   ],
   "source": [
    "post.get_url(None)"
   ]
  },
  {
   "cell_type": "code",
   "execution_count": 10,
   "id": "97c29fea",
   "metadata": {},
   "outputs": [
    {
     "data": {
      "text/plain": [
       "'foobar baz'"
      ]
     },
     "execution_count": 10,
     "metadata": {},
     "output_type": "execute_result"
    }
   ],
   "source": [
    "post.blog.description"
   ]
  },
  {
   "cell_type": "code",
   "execution_count": 20,
   "id": "258cb9f6",
   "metadata": {},
   "outputs": [],
   "source": [
    "site = (Site.objects.select_related('root_page', 'root_page__locale')\n",
    "             .order_by('-root_page__url_path', '-is_default_site', 'hostname')\n",
    "             .first()) "
   ]
  },
  {
   "cell_type": "code",
   "execution_count": 21,
   "id": "7fdae7bd",
   "metadata": {},
   "outputs": [
    {
     "data": {
      "text/plain": [
       "'/'"
      ]
     },
     "execution_count": 21,
     "metadata": {},
     "output_type": "execute_result"
    }
   ],
   "source": [
    "site.root_page.url_path"
   ]
  },
  {
   "cell_type": "code",
   "execution_count": 22,
   "id": "362edc3f",
   "metadata": {},
   "outputs": [
    {
     "name": "stdout",
     "output_type": "stream",
     "text": [
      "possible sites:  [(1, '/', 'http://localhost', 'en')]\n",
      "/testblog/\n"
     ]
    }
   ],
   "source": [
    "print(blog.url)"
   ]
  },
  {
   "cell_type": "code",
   "execution_count": 23,
   "id": "c7c41ba0",
   "metadata": {},
   "outputs": [
    {
     "name": "stdout",
     "output_type": "stream",
     "text": [
      "possible sites:  [(1, '/', 'http://localhost', 'en')]\n"
     ]
    },
    {
     "data": {
      "text/plain": [
       "'/testblog/'"
      ]
     },
     "execution_count": 23,
     "metadata": {},
     "output_type": "execute_result"
    }
   ],
   "source": [
    "blog.url"
   ]
  },
  {
   "cell_type": "code",
   "execution_count": 24,
   "id": "a9a4fc08",
   "metadata": {},
   "outputs": [
    {
     "data": {
      "text/plain": [
       "[SiteRootPath(site_id=1, root_path='/', root_url='http://localhost', language_code='en')]"
      ]
     },
     "execution_count": 24,
     "metadata": {},
     "output_type": "execute_result"
    }
   ],
   "source": [
    "Site.get_site_root_paths()"
   ]
  },
  {
   "cell_type": "code",
   "execution_count": 25,
   "id": "9519851a",
   "metadata": {},
   "outputs": [
    {
     "data": {
      "text/plain": [
       "<Page: Root>"
      ]
     },
     "execution_count": 25,
     "metadata": {},
     "output_type": "execute_result"
    }
   ],
   "source": [
    "blog.get_parent()"
   ]
  },
  {
   "cell_type": "code",
   "execution_count": 26,
   "id": "06b342d4",
   "metadata": {},
   "outputs": [
    {
     "data": {
      "text/plain": [
       "<Page: Root>"
      ]
     },
     "execution_count": 26,
     "metadata": {},
     "output_type": "execute_result"
    }
   ],
   "source": [
    "site.root_page"
   ]
  },
  {
   "cell_type": "code",
   "execution_count": 27,
   "id": "20fb65a6",
   "metadata": {},
   "outputs": [
    {
     "data": {
      "text/plain": [
       "<django.db.models.fields.related_descriptors.ForwardManyToOneDescriptor at 0x11409ad30>"
      ]
     },
     "execution_count": 27,
     "metadata": {},
     "output_type": "execute_result"
    }
   ],
   "source": [
    "Site.root_page"
   ]
  },
  {
   "cell_type": "code",
   "execution_count": 28,
   "id": "d6aadf20",
   "metadata": {},
   "outputs": [
    {
     "data": {
      "text/plain": [
       "[SiteRootPath(site_id=1, root_path='/', root_url='http://localhost', language_code='en')]"
      ]
     },
     "execution_count": 28,
     "metadata": {},
     "output_type": "execute_result"
    }
   ],
   "source": [
    "blog._get_site_root_paths()"
   ]
  },
  {
   "cell_type": "code",
   "execution_count": 29,
   "id": "fe69cd7f",
   "metadata": {},
   "outputs": [
    {
     "data": {
      "text/plain": [
       "[SiteRootPath(site_id=1, root_path='/', root_url='http://localhost', language_code='en')]"
      ]
     },
     "execution_count": 29,
     "metadata": {},
     "output_type": "execute_result"
    }
   ],
   "source": [
    "blog._wagtail_cached_site_root_paths"
   ]
  },
  {
   "cell_type": "code",
   "execution_count": 30,
   "id": "0b43c1fa",
   "metadata": {},
   "outputs": [
    {
     "data": {
      "text/plain": [
       "'/testblog/'"
      ]
     },
     "execution_count": 30,
     "metadata": {},
     "output_type": "execute_result"
    }
   ],
   "source": [
    "blog.set_url_path(blog.get_parent())"
   ]
  },
  {
   "cell_type": "code",
   "execution_count": 31,
   "id": "03440a94",
   "metadata": {},
   "outputs": [
    {
     "data": {
      "text/plain": [
       "'/'"
      ]
     },
     "execution_count": 31,
     "metadata": {},
     "output_type": "execute_result"
    }
   ],
   "source": [
    "blog.get_parent().url_path"
   ]
  },
  {
   "cell_type": "code",
   "execution_count": 32,
   "id": "99f8d851",
   "metadata": {},
   "outputs": [
    {
     "data": {
      "text/plain": [
       "<PageQuerySet [<Page: Root>, <Page: Welcome to your new Wagtail site!>, <Page: testblog>, <Page: test entry>]>"
      ]
     },
     "execution_count": 32,
     "metadata": {},
     "output_type": "execute_result"
    }
   ],
   "source": [
    "Page.objects.all()"
   ]
  },
  {
   "cell_type": "code",
   "execution_count": 33,
   "id": "bb144212",
   "metadata": {},
   "outputs": [
    {
     "name": "stdout",
     "output_type": "stream",
     "text": [
      "possible sites:  [(1, '/', 'http://localhost', 'en')]\n"
     ]
    },
    {
     "data": {
      "text/plain": [
       "'/testblog/test-entry/'"
      ]
     },
     "execution_count": 33,
     "metadata": {},
     "output_type": "execute_result"
    }
   ],
   "source": [
    "post.url"
   ]
  },
  {
   "cell_type": "code",
   "execution_count": 5,
   "id": "fcf8363c",
   "metadata": {},
   "outputs": [],
   "source": [
    "post.save()"
   ]
  },
  {
   "cell_type": "code",
   "execution_count": 7,
   "id": "3686baae",
   "metadata": {},
   "outputs": [
    {
     "data": {
      "text/plain": [
       "'/testblog/'"
      ]
     },
     "execution_count": 7,
     "metadata": {},
     "output_type": "execute_result"
    }
   ],
   "source": [
    "post.blog.url_path"
   ]
  },
  {
   "cell_type": "code",
   "execution_count": 5,
   "id": "4008d9d3",
   "metadata": {},
   "outputs": [
    {
     "name": "stdout",
     "output_type": "stream",
     "text": [
      "possible sites:  []\n"
     ]
    }
   ],
   "source": [
    "post.url"
   ]
  },
  {
   "cell_type": "code",
   "execution_count": 6,
   "id": "d1ba2a9c",
   "metadata": {},
   "outputs": [
    {
     "data": {
      "text/plain": [
       "'/testblog/test-entry/'"
      ]
     },
     "execution_count": 6,
     "metadata": {},
     "output_type": "execute_result"
    }
   ],
   "source": [
    "post.set_url_path(post.blog)"
   ]
  },
  {
   "cell_type": "code",
   "execution_count": 10,
   "id": "8de77559",
   "metadata": {},
   "outputs": [
    {
     "data": {
      "text/plain": [
       "'/testblog/test-entry/'"
      ]
     },
     "execution_count": 10,
     "metadata": {},
     "output_type": "execute_result"
    }
   ],
   "source": [
    "post.url_path"
   ]
  },
  {
   "cell_type": "code",
   "execution_count": 11,
   "id": "ea45fa8e",
   "metadata": {},
   "outputs": [
    {
     "name": "stdout",
     "output_type": "stream",
     "text": [
      "possible sites:  []\n"
     ]
    }
   ],
   "source": [
    "post.url"
   ]
  },
  {
   "cell_type": "code",
   "execution_count": 13,
   "id": "7ef54aae",
   "metadata": {},
   "outputs": [
    {
     "data": {
      "text/plain": [
       "'/testblog/'"
      ]
     },
     "execution_count": 13,
     "metadata": {},
     "output_type": "execute_result"
    }
   ],
   "source": [
    "blog.set_url_path(blog.get_parent())"
   ]
  },
  {
   "cell_type": "code",
   "execution_count": 8,
   "id": "de71dc50",
   "metadata": {},
   "outputs": [
    {
     "data": {
      "text/plain": [
       "[SiteRootPath(site_id=1, root_path='/home/', root_url='http://localhost', language_code='en')]"
      ]
     },
     "execution_count": 8,
     "metadata": {},
     "output_type": "execute_result"
    }
   ],
   "source": [
    "post._get_site_root_paths(None)"
   ]
  },
  {
   "cell_type": "code",
   "execution_count": 9,
   "id": "57f02b7f",
   "metadata": {},
   "outputs": [
    {
     "data": {
      "text/plain": [
       "[(1, '/home/', 'http://localhost', 'en')]"
      ]
     },
     "execution_count": 9,
     "metadata": {},
     "output_type": "execute_result"
    }
   ],
   "source": [
    "[(pk, path, url, language_code) for pk, path, url, language_code in post._get_site_root_paths(None)]"
   ]
  },
  {
   "cell_type": "code",
   "execution_count": 13,
   "id": "1928d2d2",
   "metadata": {},
   "outputs": [],
   "source": [
    "post.url_path = \"/home/foo-4/\""
   ]
  },
  {
   "cell_type": "code",
   "execution_count": 14,
   "id": "f932838d",
   "metadata": {},
   "outputs": [
    {
     "data": {
      "text/plain": [
       "[(1, '/home/', 'http://localhost', 'en')]"
      ]
     },
     "execution_count": 14,
     "metadata": {},
     "output_type": "execute_result"
    }
   ],
   "source": [
    "[(pk, path, url, language_code)\n",
    "            for pk, path, url, language_code in post._get_site_root_paths(None)\n",
    "            if post.url_path.startswith(path)]"
   ]
  },
  {
   "cell_type": "code",
   "execution_count": 16,
   "id": "322f0a0a",
   "metadata": {},
   "outputs": [
    {
     "name": "stdout",
     "output_type": "stream",
     "text": [
      "possible sites:  [(1, '/home/', 'http://localhost', 'en')]\n"
     ]
    },
    {
     "data": {
      "text/plain": [
       "'http://localhost/foo-4/'"
      ]
     },
     "execution_count": 16,
     "metadata": {},
     "output_type": "execute_result"
    }
   ],
   "source": [
    "post.full_url"
   ]
  },
  {
   "cell_type": "code",
   "execution_count": 5,
   "id": "029158c5",
   "metadata": {},
   "outputs": [
    {
     "data": {
      "text/plain": [
       "[SiteRootPath(site_id=1, root_path='/home/', root_url='http://localhost', language_code='en')]"
      ]
     },
     "execution_count": 5,
     "metadata": {},
     "output_type": "execute_result"
    }
   ],
   "source": [
    "post._get_site_root_paths()"
   ]
  },
  {
   "cell_type": "code",
   "execution_count": 6,
   "id": "483dad6d",
   "metadata": {},
   "outputs": [
    {
     "data": {
      "text/plain": [
       "'/foo-3/'"
      ]
     },
     "execution_count": 6,
     "metadata": {},
     "output_type": "execute_result"
    }
   ],
   "source": [
    "post.url_path"
   ]
  },
  {
   "cell_type": "code",
   "execution_count": 11,
   "id": "47f096d2",
   "metadata": {},
   "outputs": [
    {
     "data": {
      "text/plain": [
       "'/home/mein-kleines-blog/first-post/'"
      ]
     },
     "execution_count": 11,
     "metadata": {},
     "output_type": "execute_result"
    }
   ],
   "source": [
    "post.url_path"
   ]
  },
  {
   "cell_type": "code",
   "execution_count": 9,
   "id": "3addea93",
   "metadata": {},
   "outputs": [
    {
     "data": {
      "text/plain": [
       "<Page: Mein kleines Blog>"
      ]
     },
     "execution_count": 9,
     "metadata": {},
     "output_type": "execute_result"
    }
   ],
   "source": [
    "post.get_parent()"
   ]
  },
  {
   "cell_type": "code",
   "execution_count": 10,
   "id": "db03ee51",
   "metadata": {},
   "outputs": [],
   "source": [
    "post.save()"
   ]
  },
  {
   "cell_type": "code",
   "execution_count": 16,
   "id": "65e7e7dc",
   "metadata": {},
   "outputs": [
    {
     "name": "stdout",
     "output_type": "stream",
     "text": [
      "None\n"
     ]
    }
   ],
   "source": [
    "print(post.url)"
   ]
  },
  {
   "cell_type": "code",
   "execution_count": 17,
   "id": "1476707b",
   "metadata": {},
   "outputs": [
    {
     "data": {
      "text/plain": [
       "'/foo/'"
      ]
     },
     "execution_count": 17,
     "metadata": {},
     "output_type": "execute_result"
    }
   ],
   "source": [
    "post.url_path"
   ]
  },
  {
   "cell_type": "code",
   "execution_count": 18,
   "id": "e9def1d7",
   "metadata": {},
   "outputs": [
    {
     "name": "stdout",
     "output_type": "stream",
     "text": [
      "Help on NoneType object:\n",
      "\n",
      "class NoneType(object)\n",
      " |  Methods defined here:\n",
      " |  \n",
      " |  __bool__(self, /)\n",
      " |      self != 0\n",
      " |  \n",
      " |  __repr__(self, /)\n",
      " |      Return repr(self).\n",
      " |  \n",
      " |  ----------------------------------------------------------------------\n",
      " |  Static methods defined here:\n",
      " |  \n",
      " |  __new__(*args, **kwargs) from builtins.type\n",
      " |      Create and return a new object.  See help(type) for accurate signature.\n",
      "\n"
     ]
    }
   ],
   "source": [
    "help(post.url)"
   ]
  },
  {
   "cell_type": "code",
   "execution_count": 7,
   "id": "2b793ddb",
   "metadata": {},
   "outputs": [],
   "source": [
    "post = Post.objects.first()"
   ]
  },
  {
   "cell_type": "code",
   "execution_count": 21,
   "id": "001d1b2e",
   "metadata": {},
   "outputs": [
    {
     "name": "stdout",
     "output_type": "stream",
     "text": [
      "No Python documentation found for '/mein-kleines-blog/first-post/'.\n",
      "Use help() to get the interactive help utility.\n",
      "Use help(str) for help on the str class.\n",
      "\n"
     ]
    }
   ],
   "source": [
    "help(post.url)"
   ]
  },
  {
   "cell_type": "code",
   "execution_count": 22,
   "id": "8a3dad0c",
   "metadata": {},
   "outputs": [
    {
     "data": {
      "text/plain": [
       "'http://localhost/mein-kleines-blog/first-post/'"
      ]
     },
     "execution_count": 22,
     "metadata": {},
     "output_type": "execute_result"
    }
   ],
   "source": [
    "post.full_url"
   ]
  },
  {
   "cell_type": "code",
   "execution_count": 28,
   "id": "c5cabb78",
   "metadata": {},
   "outputs": [
    {
     "data": {
      "text/plain": [
       "(1, 'http://localhost', '/mein-kleines-blog/first-post/')"
      ]
     },
     "execution_count": 28,
     "metadata": {},
     "output_type": "execute_result"
    }
   ],
   "source": [
    "post.get_url_parts()"
   ]
  },
  {
   "cell_type": "code",
   "execution_count": 8,
   "id": "08c9fb9a",
   "metadata": {},
   "outputs": [
    {
     "data": {
      "text/plain": [
       "'/home/mein-kleines-blog/first-post/'"
      ]
     },
     "execution_count": 8,
     "metadata": {},
     "output_type": "execute_result"
    }
   ],
   "source": [
    "post.url_path"
   ]
  },
  {
   "cell_type": "code",
   "execution_count": 12,
   "id": "5ce2078a",
   "metadata": {},
   "outputs": [
    {
     "data": {
      "text/plain": [
       "[wagtail.core.models.Page,\n",
       " cast.models.HomePage,\n",
       " cast.models.BlogIndexPage,\n",
       " cast.models.Blog,\n",
       " cast.models.Post]"
      ]
     },
     "execution_count": 12,
     "metadata": {},
     "output_type": "execute_result"
    }
   ],
   "source": [
    "post.allowed_subpage_models()"
   ]
  },
  {
   "cell_type": "code",
   "execution_count": 13,
   "id": "debd0dab",
   "metadata": {},
   "outputs": [
    {
     "data": {
      "text/plain": [
       "[wagtail.core.models.Page,\n",
       " cast.models.HomePage,\n",
       " cast.models.BlogIndexPage,\n",
       " cast.models.Blog,\n",
       " cast.models.Post]"
      ]
     },
     "execution_count": 13,
     "metadata": {},
     "output_type": "execute_result"
    }
   ],
   "source": [
    "post.blog.allowed_subpage_models()"
   ]
  },
  {
   "cell_type": "code",
   "execution_count": 17,
   "id": "aa2f1c9a",
   "metadata": {},
   "outputs": [
    {
     "name": "stdout",
     "output_type": "stream",
     "text": [
      "Help on method set_url_path in module wagtail.core.models:\n",
      "\n",
      "set_url_path(parent) method of cast.models.Post instance\n",
      "    Populate the url_path field based on this page's slug and the specified parent page.\n",
      "    (We pass a parent in here, rather than retrieving it via get_parent, so that we can give\n",
      "    new unsaved pages a meaningful URL when previewing them; at that point the page has not\n",
      "    been assigned a position in the tree, as far as treebeard is concerned.\n",
      "\n"
     ]
    }
   ],
   "source": [
    "help(post.set_url_path)"
   ]
  },
  {
   "cell_type": "code",
   "execution_count": null,
   "id": "38cf5465",
   "metadata": {},
   "outputs": [],
   "source": []
  }
 ],
 "metadata": {
  "kernelspec": {
   "display_name": "Django Shell-Plus",
   "language": "python",
   "name": "django_extensions"
  },
  "language_info": {
   "codemirror_mode": {
    "name": "ipython",
    "version": 3
   },
   "file_extension": ".py",
   "mimetype": "text/x-python",
   "name": "python",
   "nbconvert_exporter": "python",
   "pygments_lexer": "ipython3",
   "version": "3.9.6"
  }
 },
 "nbformat": 4,
 "nbformat_minor": 5
}
