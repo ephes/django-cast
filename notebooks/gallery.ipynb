{
 "cells": [
  {
   "cell_type": "code",
   "execution_count": 2,
   "metadata": {},
   "outputs": [],
   "source": [
    "import os"
   ]
  },
  {
   "cell_type": "code",
   "execution_count": 3,
   "metadata": {},
   "outputs": [],
   "source": [
    "os.environ[\"DJANGO_ALLOW_ASYNC_UNSAFE\"] = \"true\""
   ]
  },
  {
   "cell_type": "code",
   "execution_count": 4,
   "metadata": {},
   "outputs": [],
   "source": [
    "bp = BlogPage.objects.first()"
   ]
  },
  {
   "cell_type": "code",
   "execution_count": 5,
   "metadata": {},
   "outputs": [
    {
     "data": {
      "text/plain": [
       "[<wagtail.core.blocks.stream_block.StreamValue.StreamChild object at 0x128621910>, <wagtail.core.blocks.stream_block.StreamValue.StreamChild object at 0x128621d30>]"
      ]
     },
     "execution_count": 5,
     "metadata": {},
     "output_type": "execute_result"
    }
   ],
   "source": [
    "bp.body"
   ]
  },
  {
   "cell_type": "code",
   "execution_count": 6,
   "metadata": {},
   "outputs": [
    {
     "name": "stdout",
     "output_type": "stream",
     "text": [
      "Help on StreamValue in module wagtail.core.blocks.stream_block object:\n",
      "\n",
      "class StreamValue(collections.abc.Sequence)\n",
      " |  StreamValue(stream_block, stream_data, is_lazy=False, raw_text=None)\n",
      " |  \n",
      " |  Custom type used to represent the value of a StreamBlock; behaves as a sequence of BoundBlocks\n",
      " |  (which keep track of block types in a way that the values alone wouldn't).\n",
      " |  \n",
      " |  Method resolution order:\n",
      " |      StreamValue\n",
      " |      collections.abc.Sequence\n",
      " |      collections.abc.Reversible\n",
      " |      collections.abc.Collection\n",
      " |      collections.abc.Sized\n",
      " |      collections.abc.Iterable\n",
      " |      collections.abc.Container\n",
      " |      builtins.object\n",
      " |  \n",
      " |  Methods defined here:\n",
      " |  \n",
      " |  __eq__(self, other)\n",
      " |      Return self==value.\n",
      " |  \n",
      " |  __getitem__(self, i)\n",
      " |  \n",
      " |  __html__(self)\n",
      " |  \n",
      " |  __init__(self, stream_block, stream_data, is_lazy=False, raw_text=None)\n",
      " |      Construct a StreamValue linked to the given StreamBlock,\n",
      " |      with child values given in stream_data.\n",
      " |      \n",
      " |      Passing is_lazy=True means that stream_data is raw JSONish data as stored\n",
      " |      in the database, and needs to be converted to native values\n",
      " |      (using block.to_python()) when accessed. In this mode, stream_data is a\n",
      " |      list of dicts, each containing 'type' and 'value' keys.\n",
      " |      \n",
      " |      Passing is_lazy=False means that stream_data consists of immediately usable\n",
      " |      native values. In this mode, stream_data is a list of (type_name, value)\n",
      " |      or (type_name, value, id) tuples.\n",
      " |      \n",
      " |      raw_text exists solely as a way of representing StreamField content that is\n",
      " |      not valid JSON; this may legitimately occur if an existing text field is\n",
      " |      migrated to a StreamField. In this situation we return a blank StreamValue\n",
      " |      with the raw text accessible under the `raw_text` attribute, so that migration\n",
      " |      code can be rewritten to convert it as desired.\n",
      " |  \n",
      " |  __len__(self)\n",
      " |  \n",
      " |  __repr__(self)\n",
      " |      Return repr(self).\n",
      " |  \n",
      " |  __str__(self)\n",
      " |      Return str(self).\n",
      " |  \n",
      " |  get_prep_value(self)\n",
      " |  \n",
      " |  render_as_block(self, context=None)\n",
      " |  \n",
      " |  ----------------------------------------------------------------------\n",
      " |  Data descriptors defined here:\n",
      " |  \n",
      " |  __dict__\n",
      " |      dictionary for instance variables (if defined)\n",
      " |  \n",
      " |  __weakref__\n",
      " |      list of weak references to the object (if defined)\n",
      " |  \n",
      " |  ----------------------------------------------------------------------\n",
      " |  Data and other attributes defined here:\n",
      " |  \n",
      " |  StreamChild = <class 'wagtail.core.blocks.stream_block.StreamValue.Str...\n",
      " |      Extends BoundBlock with methods that make logical sense in the context of\n",
      " |      children of StreamField, but not necessarily elsewhere that BoundBlock is used\n",
      " |  \n",
      " |  __abstractmethods__ = frozenset()\n",
      " |  \n",
      " |  __hash__ = None\n",
      " |  \n",
      " |  ----------------------------------------------------------------------\n",
      " |  Methods inherited from collections.abc.Sequence:\n",
      " |  \n",
      " |  __contains__(self, value)\n",
      " |  \n",
      " |  __iter__(self)\n",
      " |  \n",
      " |  __reversed__(self)\n",
      " |  \n",
      " |  count(self, value)\n",
      " |      S.count(value) -> integer -- return number of occurrences of value\n",
      " |  \n",
      " |  index(self, value, start=0, stop=None)\n",
      " |      S.index(value, [start, [stop]]) -> integer -- return first index of value.\n",
      " |      Raises ValueError if the value is not present.\n",
      " |      \n",
      " |      Supporting start and stop arguments is optional, but\n",
      " |      recommended.\n",
      " |  \n",
      " |  ----------------------------------------------------------------------\n",
      " |  Class methods inherited from collections.abc.Reversible:\n",
      " |  \n",
      " |  __subclasshook__(C) from abc.ABCMeta\n",
      " |      Abstract classes can override this to customize issubclass().\n",
      " |      \n",
      " |      This is invoked early on by abc.ABCMeta.__subclasscheck__().\n",
      " |      It should return True, False or NotImplemented.  If it returns\n",
      " |      NotImplemented, the normal algorithm is used.  Otherwise, it\n",
      " |      overrides the normal algorithm (and the outcome is cached).\n",
      "\n"
     ]
    }
   ],
   "source": [
    "help(bp.body)"
   ]
  },
  {
   "cell_type": "code",
   "execution_count": 8,
   "metadata": {},
   "outputs": [],
   "source": [
    "x = list(range(10))"
   ]
  },
  {
   "cell_type": "code",
   "execution_count": 10,
   "metadata": {},
   "outputs": [
    {
     "data": {
      "text/plain": [
       "[1, 2, 3, 4, 5, 6, 7, 8]"
      ]
     },
     "execution_count": 10,
     "metadata": {},
     "output_type": "execute_result"
    }
   ],
   "source": [
    "x[1:-1]"
   ]
  },
  {
   "cell_type": "code",
   "execution_count": 11,
   "metadata": {},
   "outputs": [
    {
     "data": {
      "text/plain": [
       "[0, 1, 2, 3, 4, 5, 6, 7, 8, 9]"
      ]
     },
     "execution_count": 11,
     "metadata": {},
     "output_type": "execute_result"
    }
   ],
   "source": [
    "x"
   ]
  },
  {
   "cell_type": "code",
   "execution_count": 12,
   "metadata": {},
   "outputs": [
    {
     "name": "stdout",
     "output_type": "stream",
     "text": [
      "1 1\n",
      "2 2\n",
      "3 3\n",
      "4 4\n",
      "5 5\n",
      "6 6\n",
      "7 7\n",
      "8 8\n"
     ]
    }
   ],
   "source": [
    "for num, item in enumerate(x[1:-1], 1):\n",
    "    print(num, item)"
   ]
  },
  {
   "cell_type": "code",
   "execution_count": 1,
   "metadata": {},
   "outputs": [
    {
     "ename": "NameError",
     "evalue": "name 'tee' is not defined",
     "output_type": "error",
     "traceback": [
      "\u001b[0;31m---------------------------------------------------------------------------\u001b[0m",
      "\u001b[0;31mNameError\u001b[0m                                 Traceback (most recent call last)",
      "\u001b[0;32m<ipython-input-1-add80e549ec8>\u001b[0m in \u001b[0;36m<module>\u001b[0;34m\u001b[0m\n\u001b[0;32m----> 1\u001b[0;31m \u001b[0mtee\u001b[0m\u001b[0;34m\u001b[0m\u001b[0;34m\u001b[0m\u001b[0m\n\u001b[0m",
      "\u001b[0;31mNameError\u001b[0m: name 'tee' is not defined"
     ]
    }
   ],
   "source": [
    "tee"
   ]
  },
  {
   "cell_type": "markdown",
   "metadata": {},
   "source": [
    "# iterate over previous, current, next"
   ]
  },
  {
   "cell_type": "code",
   "execution_count": 2,
   "metadata": {},
   "outputs": [],
   "source": [
    "from itertools import tee, islice, chain"
   ]
  },
  {
   "cell_type": "code",
   "execution_count": 6,
   "metadata": {},
   "outputs": [],
   "source": [
    "class EmptyGallery:\n",
    "    foo = \"false\""
   ]
  },
  {
   "cell_type": "code",
   "execution_count": 3,
   "metadata": {},
   "outputs": [],
   "source": [
    "def previous_and_next(iterable, default=None):\n",
    "    prevs, items, nexts = tee(iterable, 3)\n",
    "    prevs = chain([default], prevs)\n",
    "    nexts = chain(islice(nexts, 1, default), [default])\n",
    "    return zip(prevs, items, nexts)"
   ]
  },
  {
   "cell_type": "code",
   "execution_count": 5,
   "metadata": {},
   "outputs": [
    {
     "name": "stdout",
     "output_type": "stream",
     "text": [
      "Item is now banana next is orange previous is None\n",
      "Item is now orange next is apple previous is banana\n",
      "Item is now apple next is kiwi previous is orange\n",
      "Item is now kiwi next is tomato previous is apple\n",
      "Item is now tomato next is None previous is kiwi\n"
     ]
    }
   ],
   "source": [
    "mylist = ['banana', 'orange', 'apple', 'kiwi', 'tomato']\n",
    "\n",
    "for previous, item, nxt in previous_and_next(mylist):\n",
    "    print(\"Item is now\", item, \"next is\", nxt, \"previous is\", previous)"
   ]
  },
  {
   "cell_type": "markdown",
   "metadata": {},
   "source": [
    "# what is in a gallery?"
   ]
  },
  {
   "cell_type": "code",
   "execution_count": 34,
   "metadata": {},
   "outputs": [],
   "source": [
    "bp = BlogPage.objects.all()[1]"
   ]
  },
  {
   "cell_type": "code",
   "execution_count": 38,
   "metadata": {},
   "outputs": [
    {
     "data": {
      "text/plain": [
       "<wagtail.core.blocks.stream_block.StreamValue.StreamChild at 0x119ea8640>"
      ]
     },
     "execution_count": 38,
     "metadata": {},
     "output_type": "execute_result"
    }
   ],
   "source": [
    "bp.body[0]"
   ]
  },
  {
   "cell_type": "code",
   "execution_count": 39,
   "metadata": {},
   "outputs": [
    {
     "name": "stdout",
     "output_type": "stream",
     "text": [
      "None\n"
     ]
    }
   ],
   "source": [
    "print(bp.body.raw_text)"
   ]
  },
  {
   "cell_type": "code",
   "execution_count": 40,
   "metadata": {},
   "outputs": [
    {
     "data": {
      "text/plain": [
       "'49136c98-9a41-4fdd-ae16-29b162c4ff3b'"
      ]
     },
     "execution_count": 40,
     "metadata": {},
     "output_type": "execute_result"
    }
   ],
   "source": [
    "bp.body[0].id"
   ]
  },
  {
   "cell_type": "code",
   "execution_count": 28,
   "metadata": {},
   "outputs": [],
   "source": [
    "import json\n",
    "\n",
    "from django.db import connection"
   ]
  },
  {
   "cell_type": "code",
   "execution_count": 29,
   "metadata": {},
   "outputs": [],
   "source": [
    "with connection.cursor() as cursor:\n",
    "    cursor.execute(\"select * from cast_blogpage\")\n",
    "    result = cursor.fetchall()"
   ]
  },
  {
   "cell_type": "code",
   "execution_count": 30,
   "metadata": {},
   "outputs": [
    {
     "data": {
      "text/plain": [
       "[{'type': 'paragraph',\n",
       "  'value': '<p>Ein kleiner Abschnitt</p>',\n",
       "  'id': 'a3555a9e-47fa-41b4-b999-16807fcdc7d2'},\n",
       " {'type': 'gallery',\n",
       "  'value': [2, 3],\n",
       "  'id': '2a30b3d8-0061-4d19-a4a9-ef65c0c18d8b'}]"
      ]
     },
     "execution_count": 30,
     "metadata": {},
     "output_type": "execute_result"
    }
   ],
   "source": [
    "json.loads(result[0][2])"
   ]
  },
  {
   "cell_type": "markdown",
   "metadata": {},
   "source": [
    "# images?"
   ]
  },
  {
   "cell_type": "code",
   "execution_count": 4,
   "metadata": {},
   "outputs": [],
   "source": [
    "img = Image.objects.first()"
   ]
  },
  {
   "cell_type": "code",
   "execution_count": 7,
   "metadata": {},
   "outputs": [
    {
     "data": {
      "text/plain": [
       "(2828, 3771)"
      ]
     },
     "execution_count": 7,
     "metadata": {},
     "output_type": "execute_result"
    }
   ],
   "source": [
    "img.width, img.height"
   ]
  },
  {
   "cell_type": "code",
   "execution_count": 8,
   "metadata": {},
   "outputs": [
    {
     "data": {
      "text/plain": [
       "<ImageQuerySet [<Image: apes.jpeg>, <Image: 16E4240C-446B-4DD8-877E-07EB90F09D9B_1_201_a.jpeg>, <Image: Nikolaus-Statue>, <Image: Ostereier>, <Image: claas Portrait>, <Image: 5EEA4AD0-7B29-4D30-BC0C-8D3235BF6CA4_1_201_a.jpeg>, <Image: 8507FBD2-7520-4AE5-8940-D443E474144C_1_201_a.jpeg>, <Image: 1C33F439-99FE-4264-A7CA-D5A2CE34EBA5_1_201_a.jpeg>]>"
      ]
     },
     "execution_count": 8,
     "metadata": {},
     "output_type": "execute_result"
    }
   ],
   "source": [
    "Image.objects.all()"
   ]
  },
  {
   "cell_type": "code",
   "execution_count": 10,
   "metadata": {},
   "outputs": [],
   "source": [
    "img = Image.objects.get(title=\"Ostereier\")"
   ]
  },
  {
   "cell_type": "code",
   "execution_count": 11,
   "metadata": {},
   "outputs": [
    {
     "data": {
      "text/plain": [
       "(4032, 3024)"
      ]
     },
     "execution_count": 11,
     "metadata": {},
     "output_type": "execute_result"
    }
   ],
   "source": [
    "img.width, img.height"
   ]
  },
  {
   "cell_type": "code",
   "execution_count": 12,
   "metadata": {},
   "outputs": [
    {
     "data": {
      "text/plain": [
       "False"
      ]
     },
     "execution_count": 12,
     "metadata": {},
     "output_type": "execute_result"
    }
   ],
   "source": [
    "img.is_portrait()"
   ]
  },
  {
   "cell_type": "code",
   "execution_count": 41,
   "metadata": {},
   "outputs": [
    {
     "data": {
      "text/plain": [
       "'/media/original_images/046643B8-82DD-46C5-B1FC-26628ED5B547_1_201_a.jpeg'"
      ]
     },
     "execution_count": 41,
     "metadata": {},
     "output_type": "execute_result"
    }
   ],
   "source": [
    "img.file.url"
   ]
  },
  {
   "cell_type": "code",
   "execution_count": null,
   "metadata": {},
   "outputs": [],
   "source": []
  }
 ],
 "metadata": {
  "kernelspec": {
   "display_name": "Django Shell-Plus",
   "language": "python",
   "name": "django_extensions"
  },
  "language_info": {
   "codemirror_mode": {
    "name": "ipython",
    "version": 3
   },
   "file_extension": ".py",
   "mimetype": "text/x-python",
   "name": "python",
   "nbconvert_exporter": "python",
   "pygments_lexer": "ipython3",
   "version": "3.8.2"
  }
 },
 "nbformat": 4,
 "nbformat_minor": 4
}
