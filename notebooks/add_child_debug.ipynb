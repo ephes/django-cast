{
 "cells": [
  {
   "cell_type": "code",
   "execution_count": 1,
   "id": "26e68abf",
   "metadata": {},
   "outputs": [],
   "source": [
    "blog = Blog.objects.first()"
   ]
  },
  {
   "cell_type": "code",
   "execution_count": 2,
   "id": "f7baddfe",
   "metadata": {},
   "outputs": [
    {
     "data": {
      "text/plain": [
       "0"
      ]
     },
     "execution_count": 2,
     "metadata": {},
     "output_type": "execute_result"
    }
   ],
   "source": [
    "blog.numchild"
   ]
  },
  {
   "cell_type": "code",
   "execution_count": 3,
   "id": "6d1e11e0",
   "metadata": {},
   "outputs": [
    {
     "data": {
      "text/plain": [
       "0"
      ]
     },
     "execution_count": 3,
     "metadata": {},
     "output_type": "execute_result"
    }
   ],
   "source": [
    "blog.get_children_count()"
   ]
  },
  {
   "cell_type": "code",
   "execution_count": 4,
   "id": "97858e4d",
   "metadata": {},
   "outputs": [
    {
     "data": {
      "text/plain": [
       "<PageQuerySet []>"
      ]
     },
     "execution_count": 4,
     "metadata": {},
     "output_type": "execute_result"
    }
   ],
   "source": [
    "blog.get_children()"
   ]
  },
  {
   "cell_type": "code",
   "execution_count": 5,
   "id": "ee36abbe",
   "metadata": {},
   "outputs": [
    {
     "data": {
      "text/plain": [
       "True"
      ]
     },
     "execution_count": 5,
     "metadata": {},
     "output_type": "execute_result"
    }
   ],
   "source": [
    "blog.is_leaf()"
   ]
  },
  {
   "cell_type": "code",
   "execution_count": 6,
   "id": "27c76bc2",
   "metadata": {},
   "outputs": [
    {
     "data": {
      "text/plain": [
       "3"
      ]
     },
     "execution_count": 6,
     "metadata": {},
     "output_type": "execute_result"
    }
   ],
   "source": [
    "blog.depth"
   ]
  },
  {
   "cell_type": "code",
   "execution_count": 10,
   "id": "6bcab571",
   "metadata": {},
   "outputs": [
    {
     "data": {
      "text/plain": [
       "'000100010001'"
      ]
     },
     "execution_count": 10,
     "metadata": {},
     "output_type": "execute_result"
    }
   ],
   "source": [
    "blog.path"
   ]
  },
  {
   "cell_type": "code",
   "execution_count": 12,
   "id": "e8c15323",
   "metadata": {},
   "outputs": [
    {
     "data": {
      "text/plain": [
       "('0001000100010000', '000100010001ZZZZ')"
      ]
     },
     "execution_count": 12,
     "metadata": {},
     "output_type": "execute_result"
    }
   ],
   "source": [
    "blog._get_children_path_interval(blog.path)"
   ]
  },
  {
   "cell_type": "code",
   "execution_count": 17,
   "id": "2338f002",
   "metadata": {},
   "outputs": [
    {
     "data": {
      "text/plain": [
       "<PageQuerySet []>"
      ]
     },
     "execution_count": 17,
     "metadata": {},
     "output_type": "execute_result"
    }
   ],
   "source": [
    "Blog.objects.filter(depth=4, path__range=blog._get_children_path_interval(blog.path))"
   ]
  },
  {
   "cell_type": "code",
   "execution_count": 18,
   "id": "cebcb471",
   "metadata": {},
   "outputs": [
    {
     "data": {
      "text/plain": [
       "1"
      ]
     },
     "execution_count": 18,
     "metadata": {},
     "output_type": "execute_result"
    }
   ],
   "source": [
    "blog.numchild"
   ]
  },
  {
   "cell_type": "code",
   "execution_count": 19,
   "id": "64fff45b",
   "metadata": {},
   "outputs": [
    {
     "data": {
      "text/plain": [
       "1"
      ]
     },
     "execution_count": 19,
     "metadata": {},
     "output_type": "execute_result"
    }
   ],
   "source": [
    "blog.numchild"
   ]
  },
  {
   "cell_type": "code",
   "execution_count": null,
   "id": "a44eb1f6",
   "metadata": {},
   "outputs": [],
   "source": []
  }
 ],
 "metadata": {
  "kernelspec": {
   "display_name": "Django Shell-Plus",
   "language": "python",
   "name": "django_extensions"
  },
  "language_info": {
   "codemirror_mode": {
    "name": "ipython",
    "version": 3
   },
   "file_extension": ".py",
   "mimetype": "text/x-python",
   "name": "python",
   "nbconvert_exporter": "python",
   "pygments_lexer": "ipython3",
   "version": "3.9.7"
  }
 },
 "nbformat": 4,
 "nbformat_minor": 5
}
