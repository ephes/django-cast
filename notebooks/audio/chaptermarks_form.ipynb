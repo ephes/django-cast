{
 "cells": [
  {
   "cell_type": "code",
   "execution_count": 1,
   "id": "9939262c",
   "metadata": {},
   "outputs": [
    {
     "data": {
      "application/javascript": [
       "\n",
       "            setTimeout(function() {\n",
       "                var nbb_cell_id = 1;\n",
       "                var nbb_unformatted_code = \"%load_ext nb_black\";\n",
       "                var nbb_formatted_code = \"%load_ext nb_black\";\n",
       "                var nbb_cells = Jupyter.notebook.get_cells();\n",
       "                for (var i = 0; i < nbb_cells.length; ++i) {\n",
       "                    if (nbb_cells[i].input_prompt_number == nbb_cell_id) {\n",
       "                        if (nbb_cells[i].get_text() == nbb_unformatted_code) {\n",
       "                             nbb_cells[i].set_text(nbb_formatted_code);\n",
       "                        }\n",
       "                        break;\n",
       "                    }\n",
       "                }\n",
       "            }, 500);\n",
       "            "
      ],
      "text/plain": [
       "<IPython.core.display.Javascript object>"
      ]
     },
     "metadata": {},
     "output_type": "display_data"
    }
   ],
   "source": [
    "%load_ext nb_black"
   ]
  },
  {
   "cell_type": "code",
   "execution_count": 2,
   "id": "072dc76d",
   "metadata": {},
   "outputs": [
    {
     "name": "stdout",
     "output_type": "stream",
     "text": [
      "2 - Feinstes Audio\n",
      "2 - Feinstes Audio\n",
      "2 - Feinstes Audio\n",
      "2 - Feinstes Audio\n",
      "2 - Feinstes Audio\n",
      "13 - pp 35\n"
     ]
    },
    {
     "data": {
      "application/javascript": [
       "\n",
       "            setTimeout(function() {\n",
       "                var nbb_cell_id = 2;\n",
       "                var nbb_unformatted_code = \"for cm in ChapterMark.objects.all():\\n    print(cm.audio)\";\n",
       "                var nbb_formatted_code = \"for cm in ChapterMark.objects.all():\\n    print(cm.audio)\";\n",
       "                var nbb_cells = Jupyter.notebook.get_cells();\n",
       "                for (var i = 0; i < nbb_cells.length; ++i) {\n",
       "                    if (nbb_cells[i].input_prompt_number == nbb_cell_id) {\n",
       "                        if (nbb_cells[i].get_text() == nbb_unformatted_code) {\n",
       "                             nbb_cells[i].set_text(nbb_formatted_code);\n",
       "                        }\n",
       "                        break;\n",
       "                    }\n",
       "                }\n",
       "            }, 500);\n",
       "            "
      ],
      "text/plain": [
       "<IPython.core.display.Javascript object>"
      ]
     },
     "metadata": {},
     "output_type": "display_data"
    }
   ],
   "source": [
    "for cm in ChapterMark.objects.all():\n",
    "    print(cm.audio)"
   ]
  },
  {
   "cell_type": "code",
   "execution_count": 56,
   "id": "a1179504",
   "metadata": {},
   "outputs": [
    {
     "name": "stdout",
     "output_type": "stream",
     "text": [
      "1 1 - foo audio\n",
      "2 2 - asdf\n",
      "3 3 - next audio\n",
      "4 4 - foobar\n",
      "14 14 - audio form test\n"
     ]
    },
    {
     "data": {
      "application/javascript": [
       "\n",
       "            setTimeout(function() {\n",
       "                var nbb_cell_id = 56;\n",
       "                var nbb_unformatted_code = \"for audio in Audio.objects.all():\\n    print(audio.pk, audio)\";\n",
       "                var nbb_formatted_code = \"for audio in Audio.objects.all():\\n    print(audio.pk, audio)\";\n",
       "                var nbb_cells = Jupyter.notebook.get_cells();\n",
       "                for (var i = 0; i < nbb_cells.length; ++i) {\n",
       "                    if (nbb_cells[i].input_prompt_number == nbb_cell_id) {\n",
       "                        if (nbb_cells[i].get_text() == nbb_unformatted_code) {\n",
       "                             nbb_cells[i].set_text(nbb_formatted_code);\n",
       "                        }\n",
       "                        break;\n",
       "                    }\n",
       "                }\n",
       "            }, 500);\n",
       "            "
      ],
      "text/plain": [
       "<IPython.core.display.Javascript object>"
      ]
     },
     "metadata": {},
     "output_type": "display_data"
    }
   ],
   "source": [
    "for audio in Audio.objects.all():\n",
    "    print(audio.pk, audio)"
   ]
  },
  {
   "cell_type": "code",
   "execution_count": 57,
   "id": "347c66c4",
   "metadata": {},
   "outputs": [
    {
     "data": {
      "text/plain": [
       "(4, {'cast.ChapterMark': 3, 'cast.Audio': 1})"
      ]
     },
     "execution_count": 57,
     "metadata": {},
     "output_type": "execute_result"
    },
    {
     "data": {
      "application/javascript": [
       "\n",
       "            setTimeout(function() {\n",
       "                var nbb_cell_id = 57;\n",
       "                var nbb_unformatted_code = \"Audio.objects.get(pk=14).delete()\";\n",
       "                var nbb_formatted_code = \"Audio.objects.get(pk=14).delete()\";\n",
       "                var nbb_cells = Jupyter.notebook.get_cells();\n",
       "                for (var i = 0; i < nbb_cells.length; ++i) {\n",
       "                    if (nbb_cells[i].input_prompt_number == nbb_cell_id) {\n",
       "                        if (nbb_cells[i].get_text() == nbb_unformatted_code) {\n",
       "                             nbb_cells[i].set_text(nbb_formatted_code);\n",
       "                        }\n",
       "                        break;\n",
       "                    }\n",
       "                }\n",
       "            }, 500);\n",
       "            "
      ],
      "text/plain": [
       "<IPython.core.display.Javascript object>"
      ]
     },
     "metadata": {},
     "output_type": "display_data"
    }
   ],
   "source": [
    "Audio.objects.get(pk=14).delete()"
   ]
  },
  {
   "cell_type": "markdown",
   "id": "f0da7b17",
   "metadata": {},
   "source": [
    "# Trying to make the audio form work"
   ]
  },
  {
   "cell_type": "code",
   "execution_count": 3,
   "id": "5f88f373",
   "metadata": {},
   "outputs": [
    {
     "ename": "ModuleNotFoundError",
     "evalue": "No module named 'cast.wagtail_forms'",
     "output_type": "error",
     "traceback": [
      "\u001b[0;31m---------------------------------------------------------------------------\u001b[0m",
      "\u001b[0;31mModuleNotFoundError\u001b[0m                       Traceback (most recent call last)",
      "\u001b[0;32m/var/folders/dg/20nm141d3hj2hv67hjl6zmkc0000gn/T/ipykernel_40566/1527767496.py\u001b[0m in \u001b[0;36m<module>\u001b[0;34m\u001b[0m\n\u001b[1;32m      3\u001b[0m \u001b[0;32mfrom\u001b[0m \u001b[0mwagtail\u001b[0m\u001b[0;34m.\u001b[0m\u001b[0madmin\u001b[0m\u001b[0;34m.\u001b[0m\u001b[0mforms\u001b[0m\u001b[0;34m.\u001b[0m\u001b[0mcollections\u001b[0m \u001b[0;32mimport\u001b[0m \u001b[0mBaseCollectionMemberForm\u001b[0m\u001b[0;34m\u001b[0m\u001b[0;34m\u001b[0m\u001b[0m\n\u001b[1;32m      4\u001b[0m \u001b[0;34m\u001b[0m\u001b[0m\n\u001b[0;32m----> 5\u001b[0;31m \u001b[0;32mfrom\u001b[0m \u001b[0mcast\u001b[0m\u001b[0;34m.\u001b[0m\u001b[0mwagtail_forms\u001b[0m \u001b[0;32mimport\u001b[0m \u001b[0mFakePermissionPolicy\u001b[0m\u001b[0;34m\u001b[0m\u001b[0;34m\u001b[0m\u001b[0m\n\u001b[0m",
      "\u001b[0;31mModuleNotFoundError\u001b[0m: No module named 'cast.wagtail_forms'"
     ]
    },
    {
     "data": {
      "application/javascript": [
       "\n",
       "            setTimeout(function() {\n",
       "                var nbb_cell_id = 3;\n",
       "                var nbb_unformatted_code = \"from django import forms\\n\\nfrom wagtail.admin.forms.collections import BaseCollectionMemberForm\\n\\nfrom cast.wagtail_forms import FakePermissionPolicy\";\n",
       "                var nbb_formatted_code = \"from django import forms\\n\\nfrom wagtail.admin.forms.collections import BaseCollectionMemberForm\\n\\nfrom cast.wagtail_forms import FakePermissionPolicy\";\n",
       "                var nbb_cells = Jupyter.notebook.get_cells();\n",
       "                for (var i = 0; i < nbb_cells.length; ++i) {\n",
       "                    if (nbb_cells[i].input_prompt_number == nbb_cell_id) {\n",
       "                        if (nbb_cells[i].get_text() == nbb_unformatted_code) {\n",
       "                             nbb_cells[i].set_text(nbb_formatted_code);\n",
       "                        }\n",
       "                        break;\n",
       "                    }\n",
       "                }\n",
       "            }, 500);\n",
       "            "
      ],
      "text/plain": [
       "<IPython.core.display.Javascript object>"
      ]
     },
     "metadata": {},
     "output_type": "display_data"
    }
   ],
   "source": [
    "from django import forms\n",
    "\n",
    "from wagtail.admin.forms.collections import BaseCollectionMemberForm\n",
    "\n",
    "from cast.wagtail_forms import FakePermissionPolicy"
   ]
  },
  {
   "cell_type": "code",
   "execution_count": 59,
   "id": "39348bf3",
   "metadata": {},
   "outputs": [
    {
     "data": {
      "application/javascript": [
       "\n",
       "            setTimeout(function() {\n",
       "                var nbb_cell_id = 59;\n",
       "                var nbb_unformatted_code = \"class ChapterMarkForm(forms.ModelForm):\\n    class Meta:\\n        model = ChapterMark\\n        fields = (\\\"start\\\", \\\"title\\\", \\\"link\\\", \\\"image\\\")\\n\\n\\nclass ChapterMarksField(forms.CharField):\\n    def to_python(self, value):\\n        chaptermarks = []\\n        for line in value.split(\\\"\\\\n\\\"):\\n            splitted = line.split()\\n            if len(splitted) < 2:\\n                continue\\n            start, *parts = splitted\\n            title = \\\" \\\".join(parts)\\n            form = ChapterMarkForm({\\\"start\\\": start, \\\"title\\\": title})\\n            if form.is_valid():\\n                chaptermarks.append(form.save(commit=False))\\n        print(\\\"chaptermarks: \\\", chaptermarks)\\n        return chaptermarks\\n\\n\\nclass AudioForm(BaseCollectionMemberForm):\\n    chaptermarks = ChapterMarksField(widget=forms.Textarea, required=False)\\n    permission_policy = FakePermissionPolicy()\\n\\n    class Meta:\\n        model = Audio\\n        fields = [\\n            \\\"title\\\",\\n            \\\"subtitle\\\",\\n            \\\"m4a\\\",\\n            \\\"mp3\\\",\\n            \\\"oga\\\",\\n            \\\"opus\\\",\\n            \\\"tags\\\",\\n            \\\"collection\\\",\\n        ]\\n\\n    def save_chaptermarks(self, audio):\\n        chaptermarks = self.cleaned_data.get(\\\"chaptermarks\\\", [])\\n        for cm in chaptermarks:\\n            cm.audio = audio\\n            cm.save()\\n\\n    def save(self, commit=True):\\n        audio = super().save(commit=commit)\\n        if commit:\\n            self.save_chaptermarks(audio)\\n        return audio\";\n",
       "                var nbb_formatted_code = \"class ChapterMarkForm(forms.ModelForm):\\n    class Meta:\\n        model = ChapterMark\\n        fields = (\\\"start\\\", \\\"title\\\", \\\"link\\\", \\\"image\\\")\\n\\n\\nclass ChapterMarksField(forms.CharField):\\n    def to_python(self, value):\\n        chaptermarks = []\\n        for line in value.split(\\\"\\\\n\\\"):\\n            splitted = line.split()\\n            if len(splitted) < 2:\\n                continue\\n            start, *parts = splitted\\n            title = \\\" \\\".join(parts)\\n            form = ChapterMarkForm({\\\"start\\\": start, \\\"title\\\": title})\\n            if form.is_valid():\\n                chaptermarks.append(form.save(commit=False))\\n        print(\\\"chaptermarks: \\\", chaptermarks)\\n        return chaptermarks\\n\\n\\nclass AudioForm(BaseCollectionMemberForm):\\n    chaptermarks = ChapterMarksField(widget=forms.Textarea, required=False)\\n    permission_policy = FakePermissionPolicy()\\n\\n    class Meta:\\n        model = Audio\\n        fields = [\\n            \\\"title\\\",\\n            \\\"subtitle\\\",\\n            \\\"m4a\\\",\\n            \\\"mp3\\\",\\n            \\\"oga\\\",\\n            \\\"opus\\\",\\n            \\\"tags\\\",\\n            \\\"collection\\\",\\n        ]\\n\\n    def save_chaptermarks(self, audio):\\n        chaptermarks = self.cleaned_data.get(\\\"chaptermarks\\\", [])\\n        for cm in chaptermarks:\\n            cm.audio = audio\\n            cm.save()\\n\\n    def save(self, commit=True):\\n        audio = super().save(commit=commit)\\n        if commit:\\n            self.save_chaptermarks(audio)\\n        return audio\";\n",
       "                var nbb_cells = Jupyter.notebook.get_cells();\n",
       "                for (var i = 0; i < nbb_cells.length; ++i) {\n",
       "                    if (nbb_cells[i].input_prompt_number == nbb_cell_id) {\n",
       "                        if (nbb_cells[i].get_text() == nbb_unformatted_code) {\n",
       "                             nbb_cells[i].set_text(nbb_formatted_code);\n",
       "                        }\n",
       "                        break;\n",
       "                    }\n",
       "                }\n",
       "            }, 500);\n",
       "            "
      ],
      "text/plain": [
       "<IPython.core.display.Javascript object>"
      ]
     },
     "metadata": {},
     "output_type": "display_data"
    }
   ],
   "source": [
    "class ChapterMarkForm(forms.ModelForm):\n",
    "    class Meta:\n",
    "        model = ChapterMark\n",
    "        fields = (\"start\", \"title\", \"link\", \"image\")\n",
    "\n",
    "\n",
    "class ChapterMarksField(forms.CharField):\n",
    "    def to_python(self, value):\n",
    "        chaptermarks = []\n",
    "        for line in value.split(\"\\n\"):\n",
    "            splitted = line.split()\n",
    "            if len(splitted) < 2:\n",
    "                continue\n",
    "            start, *parts = splitted\n",
    "            title = \" \".join(parts)\n",
    "            form = ChapterMarkForm({\"start\": start, \"title\": title})\n",
    "            if form.is_valid():\n",
    "                chaptermarks.append(form.save(commit=False))\n",
    "        print(\"chaptermarks: \", chaptermarks)\n",
    "        return chaptermarks\n",
    "\n",
    "\n",
    "class AudioForm(BaseCollectionMemberForm):\n",
    "    chaptermarks = ChapterMarksField(widget=forms.Textarea, required=False)\n",
    "    permission_policy = FakePermissionPolicy()\n",
    "\n",
    "    class Meta:\n",
    "        model = Audio\n",
    "        fields = [\n",
    "            \"title\",\n",
    "            \"subtitle\",\n",
    "            \"m4a\",\n",
    "            \"mp3\",\n",
    "            \"oga\",\n",
    "            \"opus\",\n",
    "            \"tags\",\n",
    "            \"collection\",\n",
    "        ]\n",
    "\n",
    "    def save_chaptermarks(self, audio):\n",
    "        chaptermarks = self.cleaned_data.get(\"chaptermarks\", [])\n",
    "        for cm in chaptermarks:\n",
    "            cm.audio = audio\n",
    "            cm.save()\n",
    "\n",
    "    def save(self, commit=True):\n",
    "        audio = super().save(commit=commit)\n",
    "        if commit:\n",
    "            self.save_chaptermarks(audio)\n",
    "        return audio"
   ]
  },
  {
   "cell_type": "code",
   "execution_count": 60,
   "id": "ef181c7a",
   "metadata": {},
   "outputs": [
    {
     "data": {
      "application/javascript": [
       "\n",
       "            setTimeout(function() {\n",
       "                var nbb_cell_id = 60;\n",
       "                var nbb_unformatted_code = \"user = User.objects.first()\\nchaptermarks_text = \\\"\\\"\\\"\\n00:00:28.433 News aus der Szene\\n00:02:40.964 Packaging\\n00:12:24.409 Dokumentation\\n\\\"\\\"\\\"\\n# chaptermarks = chaptermarks_text_to_rows(chaptermarks_text)\\ndata = {\\n    \\\"title\\\": \\\"audio form test\\\",\\n    \\\"subtitle\\\": \\\"subtitle for audio test\\\",\\n    \\\"chaptermarks\\\": chaptermarks_text,\\n}\\naudio = Audio(user=user)\\nform = AudioForm(data, instance=audio)\";\n",
       "                var nbb_formatted_code = \"user = User.objects.first()\\nchaptermarks_text = \\\"\\\"\\\"\\n00:00:28.433 News aus der Szene\\n00:02:40.964 Packaging\\n00:12:24.409 Dokumentation\\n\\\"\\\"\\\"\\n# chaptermarks = chaptermarks_text_to_rows(chaptermarks_text)\\ndata = {\\n    \\\"title\\\": \\\"audio form test\\\",\\n    \\\"subtitle\\\": \\\"subtitle for audio test\\\",\\n    \\\"chaptermarks\\\": chaptermarks_text,\\n}\\naudio = Audio(user=user)\\nform = AudioForm(data, instance=audio)\";\n",
       "                var nbb_cells = Jupyter.notebook.get_cells();\n",
       "                for (var i = 0; i < nbb_cells.length; ++i) {\n",
       "                    if (nbb_cells[i].input_prompt_number == nbb_cell_id) {\n",
       "                        if (nbb_cells[i].get_text() == nbb_unformatted_code) {\n",
       "                             nbb_cells[i].set_text(nbb_formatted_code);\n",
       "                        }\n",
       "                        break;\n",
       "                    }\n",
       "                }\n",
       "            }, 500);\n",
       "            "
      ],
      "text/plain": [
       "<IPython.core.display.Javascript object>"
      ]
     },
     "metadata": {},
     "output_type": "display_data"
    }
   ],
   "source": [
    "user = User.objects.first()\n",
    "chaptermarks_text = \"\"\"\n",
    "00:00:28.433 News aus der Szene\n",
    "00:02:40.964 Packaging\n",
    "00:12:24.409 Dokumentation\n",
    "\"\"\"\n",
    "# chaptermarks = chaptermarks_text_to_rows(chaptermarks_text)\n",
    "data = {\n",
    "    \"title\": \"audio form test\",\n",
    "    \"subtitle\": \"subtitle for audio test\",\n",
    "    \"chaptermarks\": chaptermarks_text,\n",
    "}\n",
    "audio = Audio(user=user)\n",
    "form = AudioForm(data, instance=audio)"
   ]
  },
  {
   "cell_type": "code",
   "execution_count": 61,
   "id": "faf91b2d",
   "metadata": {},
   "outputs": [
    {
     "name": "stdout",
     "output_type": "stream",
     "text": [
      "chaptermarks:  [<ChapterMark: None 00:00:28.433000 News aus der Szene>, <ChapterMark: None 00:02:40.964000 Packaging>, <ChapterMark: None 00:12:24.409000 Dokumentation>]\n"
     ]
    },
    {
     "data": {
      "text/plain": [
       "True"
      ]
     },
     "execution_count": 61,
     "metadata": {},
     "output_type": "execute_result"
    },
    {
     "data": {
      "application/javascript": [
       "\n",
       "            setTimeout(function() {\n",
       "                var nbb_cell_id = 61;\n",
       "                var nbb_unformatted_code = \"form.is_valid()\";\n",
       "                var nbb_formatted_code = \"form.is_valid()\";\n",
       "                var nbb_cells = Jupyter.notebook.get_cells();\n",
       "                for (var i = 0; i < nbb_cells.length; ++i) {\n",
       "                    if (nbb_cells[i].input_prompt_number == nbb_cell_id) {\n",
       "                        if (nbb_cells[i].get_text() == nbb_unformatted_code) {\n",
       "                             nbb_cells[i].set_text(nbb_formatted_code);\n",
       "                        }\n",
       "                        break;\n",
       "                    }\n",
       "                }\n",
       "            }, 500);\n",
       "            "
      ],
      "text/plain": [
       "<IPython.core.display.Javascript object>"
      ]
     },
     "metadata": {},
     "output_type": "display_data"
    }
   ],
   "source": [
    "form.is_valid()"
   ]
  },
  {
   "cell_type": "code",
   "execution_count": 62,
   "id": "a7175f30",
   "metadata": {},
   "outputs": [
    {
     "data": {
      "text/plain": [
       "{'title': 'audio form test',\n",
       " 'subtitle': 'subtitle for audio test',\n",
       " 'm4a': None,\n",
       " 'mp3': None,\n",
       " 'oga': None,\n",
       " 'opus': None,\n",
       " 'tags': [],\n",
       " 'chaptermarks': [<ChapterMark: None 00:00:28.433000 News aus der Szene>,\n",
       "  <ChapterMark: None 00:02:40.964000 Packaging>,\n",
       "  <ChapterMark: None 00:12:24.409000 Dokumentation>]}"
      ]
     },
     "execution_count": 62,
     "metadata": {},
     "output_type": "execute_result"
    },
    {
     "data": {
      "application/javascript": [
       "\n",
       "            setTimeout(function() {\n",
       "                var nbb_cell_id = 62;\n",
       "                var nbb_unformatted_code = \"form.cleaned_data\";\n",
       "                var nbb_formatted_code = \"form.cleaned_data\";\n",
       "                var nbb_cells = Jupyter.notebook.get_cells();\n",
       "                for (var i = 0; i < nbb_cells.length; ++i) {\n",
       "                    if (nbb_cells[i].input_prompt_number == nbb_cell_id) {\n",
       "                        if (nbb_cells[i].get_text() == nbb_unformatted_code) {\n",
       "                             nbb_cells[i].set_text(nbb_formatted_code);\n",
       "                        }\n",
       "                        break;\n",
       "                    }\n",
       "                }\n",
       "            }, 500);\n",
       "            "
      ],
      "text/plain": [
       "<IPython.core.display.Javascript object>"
      ]
     },
     "metadata": {},
     "output_type": "display_data"
    }
   ],
   "source": [
    "form.cleaned_data"
   ]
  },
  {
   "cell_type": "code",
   "execution_count": 63,
   "id": "66e8f1d3",
   "metadata": {},
   "outputs": [
    {
     "data": {
      "application/javascript": [
       "\n",
       "            setTimeout(function() {\n",
       "                var nbb_cell_id = 63;\n",
       "                var nbb_unformatted_code = \"audio = form.save()\";\n",
       "                var nbb_formatted_code = \"audio = form.save()\";\n",
       "                var nbb_cells = Jupyter.notebook.get_cells();\n",
       "                for (var i = 0; i < nbb_cells.length; ++i) {\n",
       "                    if (nbb_cells[i].input_prompt_number == nbb_cell_id) {\n",
       "                        if (nbb_cells[i].get_text() == nbb_unformatted_code) {\n",
       "                             nbb_cells[i].set_text(nbb_formatted_code);\n",
       "                        }\n",
       "                        break;\n",
       "                    }\n",
       "                }\n",
       "            }, 500);\n",
       "            "
      ],
      "text/plain": [
       "<IPython.core.display.Javascript object>"
      ]
     },
     "metadata": {},
     "output_type": "display_data"
    }
   ],
   "source": [
    "audio = form.save()"
   ]
  },
  {
   "cell_type": "code",
   "execution_count": 64,
   "id": "3e9b5201",
   "metadata": {},
   "outputs": [
    {
     "data": {
      "text/plain": [
       "<Audio: 15 - audio form test>"
      ]
     },
     "execution_count": 64,
     "metadata": {},
     "output_type": "execute_result"
    },
    {
     "data": {
      "application/javascript": [
       "\n",
       "            setTimeout(function() {\n",
       "                var nbb_cell_id = 64;\n",
       "                var nbb_unformatted_code = \"audio\";\n",
       "                var nbb_formatted_code = \"audio\";\n",
       "                var nbb_cells = Jupyter.notebook.get_cells();\n",
       "                for (var i = 0; i < nbb_cells.length; ++i) {\n",
       "                    if (nbb_cells[i].input_prompt_number == nbb_cell_id) {\n",
       "                        if (nbb_cells[i].get_text() == nbb_unformatted_code) {\n",
       "                             nbb_cells[i].set_text(nbb_formatted_code);\n",
       "                        }\n",
       "                        break;\n",
       "                    }\n",
       "                }\n",
       "            }, 500);\n",
       "            "
      ],
      "text/plain": [
       "<IPython.core.display.Javascript object>"
      ]
     },
     "metadata": {},
     "output_type": "display_data"
    }
   ],
   "source": [
    "audio"
   ]
  },
  {
   "cell_type": "code",
   "execution_count": 65,
   "id": "d873324d",
   "metadata": {},
   "outputs": [
    {
     "name": "stdout",
     "output_type": "stream",
     "text": [
      "25 00:00:28.433000 News aus der Szene\n",
      "26 00:02:40.964000 Packaging\n",
      "27 00:12:24.409000 Dokumentation\n"
     ]
    },
    {
     "data": {
      "application/javascript": [
       "\n",
       "            setTimeout(function() {\n",
       "                var nbb_cell_id = 65;\n",
       "                var nbb_unformatted_code = \"for cm in audio.chaptermarks.all():\\n    print(cm)\";\n",
       "                var nbb_formatted_code = \"for cm in audio.chaptermarks.all():\\n    print(cm)\";\n",
       "                var nbb_cells = Jupyter.notebook.get_cells();\n",
       "                for (var i = 0; i < nbb_cells.length; ++i) {\n",
       "                    if (nbb_cells[i].input_prompt_number == nbb_cell_id) {\n",
       "                        if (nbb_cells[i].get_text() == nbb_unformatted_code) {\n",
       "                             nbb_cells[i].set_text(nbb_formatted_code);\n",
       "                        }\n",
       "                        break;\n",
       "                    }\n",
       "                }\n",
       "            }, 500);\n",
       "            "
      ],
      "text/plain": [
       "<IPython.core.display.Javascript object>"
      ]
     },
     "metadata": {},
     "output_type": "display_data"
    }
   ],
   "source": [
    "for cm in audio.chaptermarks.all():\n",
    "    print(cm)"
   ]
  },
  {
   "cell_type": "code",
   "execution_count": 1,
   "id": "76d971da",
   "metadata": {},
   "outputs": [],
   "source": [
    "cm1 = ChapterMark.objects.first()"
   ]
  },
  {
   "cell_type": "code",
   "execution_count": 3,
   "id": "78a55f41",
   "metadata": {},
   "outputs": [
    {
     "name": "stdout",
     "output_type": "stream",
     "text": [
      "News aus der Szene\n"
     ]
    }
   ],
   "source": [
    "print(cm1.title)"
   ]
  },
  {
   "cell_type": "code",
   "execution_count": 4,
   "id": "b2dce77c",
   "metadata": {},
   "outputs": [],
   "source": [
    "cm2 = ChapterMark(audio=cm1.audio, start=cm1.start, title=\"asdf\")"
   ]
  },
  {
   "cell_type": "code",
   "execution_count": 5,
   "id": "689a5640",
   "metadata": {},
   "outputs": [
    {
     "data": {
      "text/plain": [
       "True"
      ]
     },
     "execution_count": 5,
     "metadata": {},
     "output_type": "execute_result"
    }
   ],
   "source": [
    "cm2.has_changed(cm1)"
   ]
  },
  {
   "cell_type": "code",
   "execution_count": 6,
   "id": "efdaaf67",
   "metadata": {},
   "outputs": [
    {
     "data": {
      "text/plain": [
       "1"
      ]
     },
     "execution_count": 6,
     "metadata": {},
     "output_type": "execute_result"
    }
   ],
   "source": [
    "cm1.pk"
   ]
  },
  {
   "cell_type": "code",
   "execution_count": 7,
   "id": "a8d07dc6",
   "metadata": {},
   "outputs": [
    {
     "name": "stdout",
     "output_type": "stream",
     "text": [
      "None\n"
     ]
    }
   ],
   "source": [
    "print(cm2.pk)"
   ]
  },
  {
   "cell_type": "code",
   "execution_count": 9,
   "id": "7bccd0db",
   "metadata": {},
   "outputs": [],
   "source": [
    "cm2.pk = cm1.pk"
   ]
  },
  {
   "cell_type": "code",
   "execution_count": 10,
   "id": "046f507a",
   "metadata": {},
   "outputs": [],
   "source": [
    "cm2.save()"
   ]
  },
  {
   "cell_type": "code",
   "execution_count": 11,
   "id": "7878905d",
   "metadata": {},
   "outputs": [],
   "source": [
    "cm1.refresh_from_db()"
   ]
  },
  {
   "cell_type": "code",
   "execution_count": 12,
   "id": "6820efcc",
   "metadata": {},
   "outputs": [
    {
     "data": {
      "text/plain": [
       "'asdf'"
      ]
     },
     "execution_count": 12,
     "metadata": {},
     "output_type": "execute_result"
    }
   ],
   "source": [
    "cm1.title"
   ]
  },
  {
   "cell_type": "code",
   "execution_count": 1,
   "id": "137eff4a",
   "metadata": {},
   "outputs": [],
   "source": [
    "from cast.forms import ChapterMarkForm, AudioForm"
   ]
  },
  {
   "cell_type": "code",
   "execution_count": 2,
   "id": "7e9dce7c",
   "metadata": {},
   "outputs": [],
   "source": [
    "form = AudioForm({})"
   ]
  },
  {
   "cell_type": "code",
   "execution_count": 3,
   "id": "55c83f67",
   "metadata": {},
   "outputs": [
    {
     "data": {
      "text/plain": [
       "True"
      ]
     },
     "execution_count": 3,
     "metadata": {},
     "output_type": "execute_result"
    }
   ],
   "source": [
    "form.is_valid()"
   ]
  },
  {
   "cell_type": "code",
   "execution_count": 4,
   "id": "e9fce51c",
   "metadata": {},
   "outputs": [
    {
     "data": {
      "text/plain": [
       "{'title': None,\n",
       " 'subtitle': None,\n",
       " 'm4a': None,\n",
       " 'mp3': None,\n",
       " 'oga': None,\n",
       " 'opus': None,\n",
       " 'tags': [],\n",
       " 'chaptermarks': None}"
      ]
     },
     "execution_count": 4,
     "metadata": {},
     "output_type": "execute_result"
    }
   ],
   "source": [
    "form.cleaned_data"
   ]
  },
  {
   "cell_type": "code",
   "execution_count": 10,
   "id": "8494e5cf",
   "metadata": {},
   "outputs": [],
   "source": [
    "audio = Audio.objects.get(pk=14)"
   ]
  },
  {
   "cell_type": "code",
   "execution_count": 11,
   "id": "bbd8dfd4",
   "metadata": {},
   "outputs": [
    {
     "data": {
      "text/plain": [
       "<Audio: 14 - pp asdf>"
      ]
     },
     "execution_count": 11,
     "metadata": {},
     "output_type": "execute_result"
    }
   ],
   "source": [
    "audio"
   ]
  },
  {
   "cell_type": "code",
   "execution_count": 14,
   "id": "decb097c",
   "metadata": {},
   "outputs": [
    {
     "data": {
      "text/plain": [
       "False"
      ]
     },
     "execution_count": 14,
     "metadata": {},
     "output_type": "execute_result"
    }
   ],
   "source": [
    "getattr(audio, \"m4a\") is None"
   ]
  },
  {
   "cell_type": "code",
   "execution_count": 17,
   "id": "4d95b9d9",
   "metadata": {},
   "outputs": [
    {
     "data": {
      "text/plain": [
       "False"
      ]
     },
     "execution_count": 17,
     "metadata": {},
     "output_type": "execute_result"
    }
   ],
   "source": [
    "bool(audio.m4a)"
   ]
  },
  {
   "cell_type": "code",
   "execution_count": 19,
   "id": "6438f33f",
   "metadata": {},
   "outputs": [
    {
     "data": {
      "text/plain": [
       "True"
      ]
     },
     "execution_count": 19,
     "metadata": {},
     "output_type": "execute_result"
    }
   ],
   "source": [
    "audio.m4a.name == ''"
   ]
  },
  {
   "cell_type": "code",
   "execution_count": 20,
   "id": "2b214eaf",
   "metadata": {},
   "outputs": [
    {
     "name": "stdout",
     "output_type": "stream",
     "text": [
      "Help on class AudioForm in module cast.forms:\n",
      "\n",
      "class AudioForm(wagtail.admin.forms.collections.BaseCollectionMemberForm)\n",
      " |  AudioForm(*args, **kwargs)\n",
      " |  \n",
      " |  Method resolution order:\n",
      " |      AudioForm\n",
      " |      wagtail.admin.forms.collections.BaseCollectionMemberForm\n",
      " |      django.forms.models.ModelForm\n",
      " |      django.forms.models.BaseModelForm\n",
      " |      django.forms.forms.BaseForm\n",
      " |      builtins.object\n",
      " |  \n",
      " |  Methods defined here:\n",
      " |  \n",
      " |  get_chaptermarks_from_field_or_files(self, audio)\n",
      " |  \n",
      " |  save(self, commit=True)\n",
      " |      Save this form's self.instance object if commit=True. Otherwise, add\n",
      " |      a save_m2m() method to the form which can be called after the instance\n",
      " |      is saved manually at a later time. Return the model instance.\n",
      " |  \n",
      " |  save_chaptermarks(self, audio)\n",
      " |  \n",
      " |  ----------------------------------------------------------------------\n",
      " |  Readonly properties defined here:\n",
      " |  \n",
      " |  media\n",
      " |  \n",
      " |  ----------------------------------------------------------------------\n",
      " |  Data and other attributes defined here:\n",
      " |  \n",
      " |  Meta = <class 'cast.forms.AudioForm.Meta'>\n",
      " |  \n",
      " |  base_fields = {'chaptermarks': <cast.forms.ChapterMarksField object>, ...\n",
      " |  \n",
      " |  declared_fields = {'chaptermarks': <cast.forms.ChapterMarksField objec...\n",
      " |  \n",
      " |  permission_policy = <cast.forms.FakePermissionPolicy object>\n",
      " |  \n",
      " |  ----------------------------------------------------------------------\n",
      " |  Methods inherited from wagtail.admin.forms.collections.BaseCollectionMemberForm:\n",
      " |  \n",
      " |  __init__(self, *args, **kwargs)\n",
      " |      Initialize self.  See help(type(self)) for accurate signature.\n",
      " |  \n",
      " |  ----------------------------------------------------------------------\n",
      " |  Methods inherited from django.forms.models.BaseModelForm:\n",
      " |  \n",
      " |  clean(self)\n",
      " |      Hook for doing any extra form-wide cleaning after Field.clean() has been\n",
      " |      called on every field. Any ValidationError raised by this method will\n",
      " |      not be associated with a particular field; it will have a special-case\n",
      " |      association with the field named '__all__'.\n",
      " |  \n",
      " |  validate_unique(self)\n",
      " |      Call the instance's validate_unique() method and update the form's\n",
      " |      validation errors if any were raised.\n",
      " |  \n",
      " |  ----------------------------------------------------------------------\n",
      " |  Methods inherited from django.forms.forms.BaseForm:\n",
      " |  \n",
      " |  __getitem__(self, name)\n",
      " |      Return a BoundField with the given name.\n",
      " |  \n",
      " |  __html__ lambda self\n",
      " |  \n",
      " |  __iter__(self)\n",
      " |  \n",
      " |  __repr__(self)\n",
      " |      Return repr(self).\n",
      " |  \n",
      " |  __str__ lambda self\n",
      " |  \n",
      " |  add_error(self, field, error)\n",
      " |      Update the content of `self._errors`.\n",
      " |      \n",
      " |      The `field` argument is the name of the field to which the errors\n",
      " |      should be added. If it's None, treat the errors as NON_FIELD_ERRORS.\n",
      " |      \n",
      " |      The `error` argument can be a single error, a list of errors, or a\n",
      " |      dictionary that maps field names to lists of errors. An \"error\" can be\n",
      " |      either a simple string or an instance of ValidationError with its\n",
      " |      message attribute set and a \"list or dictionary\" can be an actual\n",
      " |      `list` or `dict` or an instance of ValidationError with its\n",
      " |      `error_list` or `error_dict` attribute set.\n",
      " |      \n",
      " |      If `error` is a dictionary, the `field` argument *must* be None and\n",
      " |      errors will be added to the fields that correspond to the keys of the\n",
      " |      dictionary.\n",
      " |  \n",
      " |  add_initial_prefix(self, field_name)\n",
      " |      Add an 'initial' prefix for checking dynamic initial values.\n",
      " |  \n",
      " |  add_prefix(self, field_name)\n",
      " |      Return the field name with a prefix appended, if this Form has a\n",
      " |      prefix set.\n",
      " |      \n",
      " |      Subclasses may wish to override.\n",
      " |  \n",
      " |  as_p(self)\n",
      " |      Return this form rendered as HTML <p>s.\n",
      " |  \n",
      " |  as_table(self)\n",
      " |      Return this form rendered as HTML <tr>s -- excluding the <table></table>.\n",
      " |  \n",
      " |  as_ul(self)\n",
      " |      Return this form rendered as HTML <li>s -- excluding the <ul></ul>.\n",
      " |  \n",
      " |  changed_data = <django.utils.functional.cached_property object>\n",
      " |  full_clean(self)\n",
      " |      Clean all of self.data and populate self._errors and self.cleaned_data.\n",
      " |  \n",
      " |  get_initial_for_field(self, field, field_name)\n",
      " |      Return initial data for field on form. Use initial data from the form\n",
      " |      or the field, in that order. Evaluate callable values.\n",
      " |  \n",
      " |  has_changed(self)\n",
      " |      Return True if data differs from initial.\n",
      " |  \n",
      " |  has_error(self, field, code=None)\n",
      " |  \n",
      " |  hidden_fields(self)\n",
      " |      Return a list of all the BoundField objects that are hidden fields.\n",
      " |      Useful for manual form layout in templates.\n",
      " |  \n",
      " |  is_multipart(self)\n",
      " |      Return True if the form needs to be multipart-encoded, i.e. it has\n",
      " |      FileInput, or False otherwise.\n",
      " |  \n",
      " |  is_valid(self)\n",
      " |      Return True if the form has no errors, or False otherwise.\n",
      " |  \n",
      " |  non_field_errors(self)\n",
      " |      Return an ErrorList of errors that aren't associated with a particular\n",
      " |      field -- i.e., from Form.clean(). Return an empty ErrorList if there\n",
      " |      are none.\n",
      " |  \n",
      " |  order_fields(self, field_order)\n",
      " |      Rearrange the fields according to field_order.\n",
      " |      \n",
      " |      field_order is a list of field names specifying the order. Append fields\n",
      " |      not included in the list in the default order for backward compatibility\n",
      " |      with subclasses not overriding field_order. If field_order is None,\n",
      " |      keep all fields in the order defined in the class. Ignore unknown\n",
      " |      fields in field_order to allow disabling fields in form subclasses\n",
      " |      without redefining ordering.\n",
      " |  \n",
      " |  visible_fields(self)\n",
      " |      Return a list of BoundField objects that aren't hidden fields.\n",
      " |      The opposite of the hidden_fields() method.\n",
      " |  \n",
      " |  ----------------------------------------------------------------------\n",
      " |  Readonly properties inherited from django.forms.forms.BaseForm:\n",
      " |  \n",
      " |  errors\n",
      " |      Return an ErrorDict for the data provided for the form.\n",
      " |  \n",
      " |  ----------------------------------------------------------------------\n",
      " |  Data descriptors inherited from django.forms.forms.BaseForm:\n",
      " |  \n",
      " |  __dict__\n",
      " |      dictionary for instance variables (if defined)\n",
      " |  \n",
      " |  __weakref__\n",
      " |      list of weak references to the object (if defined)\n",
      " |  \n",
      " |  ----------------------------------------------------------------------\n",
      " |  Data and other attributes inherited from django.forms.forms.BaseForm:\n",
      " |  \n",
      " |  default_renderer = None\n",
      " |  \n",
      " |  field_order = None\n",
      " |  \n",
      " |  prefix = None\n",
      " |  \n",
      " |  use_required_attribute = True\n",
      "\n"
     ]
    }
   ],
   "source": [
    "help(AudioForm)"
   ]
  },
  {
   "cell_type": "code",
   "execution_count": null,
   "id": "36943e81",
   "metadata": {},
   "outputs": [],
   "source": []
  }
 ],
 "metadata": {
  "kernelspec": {
   "display_name": "Django Shell-Plus",
   "language": "python",
   "name": "django_extensions"
  },
  "language_info": {
   "codemirror_mode": {
    "name": "ipython",
    "version": 3
   },
   "file_extension": ".py",
   "mimetype": "text/x-python",
   "name": "python",
   "nbconvert_exporter": "python",
   "pygments_lexer": "ipython3",
   "version": "3.10.0"
  }
 },
 "nbformat": 4,
 "nbformat_minor": 5
}
