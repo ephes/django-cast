{
 "cells": [
  {
   "cell_type": "code",
   "execution_count": 1,
   "id": "d5ca92e3",
   "metadata": {},
   "outputs": [],
   "source": [
    "audio = Audio.objects.first()"
   ]
  },
  {
   "cell_type": "code",
   "execution_count": 2,
   "id": "5e3bbcbc",
   "metadata": {},
   "outputs": [
    {
     "data": {
      "text/plain": [
       "<Audio: 1 - CSS / Markdown / Microservices>"
      ]
     },
     "execution_count": 2,
     "metadata": {},
     "output_type": "execute_result"
    }
   ],
   "source": [
    "audio"
   ]
  },
  {
   "cell_type": "code",
   "execution_count": 4,
   "id": "89ed6577",
   "metadata": {},
   "outputs": [
    {
     "ename": "ValueError",
     "evalue": "The 'mp3' attribute has no file associated with it.",
     "output_type": "error",
     "traceback": [
      "\u001B[0;31m---------------------------------------------------------------------------\u001B[0m",
      "\u001B[0;31mValueError\u001B[0m                                Traceback (most recent call last)",
      "Cell \u001B[0;32mIn[4], line 1\u001B[0m\n\u001B[0;32m----> 1\u001B[0m \u001B[43maudio\u001B[49m\u001B[38;5;241;43m.\u001B[39;49m\u001B[43mmp3\u001B[49m\u001B[38;5;241;43m.\u001B[39;49m\u001B[43msize\u001B[49m\n",
      "File \u001B[0;32m~/.virtualenvs/cast/lib/python3.11/site-packages/django/db/models/fields/files.py:70\u001B[0m, in \u001B[0;36mFieldFile.size\u001B[0;34m(self)\u001B[0m\n\u001B[1;32m     68\u001B[0m \u001B[38;5;129m@property\u001B[39m\n\u001B[1;32m     69\u001B[0m \u001B[38;5;28;01mdef\u001B[39;00m \u001B[38;5;21msize\u001B[39m(\u001B[38;5;28mself\u001B[39m):\n\u001B[0;32m---> 70\u001B[0m     \u001B[38;5;28;43mself\u001B[39;49m\u001B[38;5;241;43m.\u001B[39;49m\u001B[43m_require_file\u001B[49m\u001B[43m(\u001B[49m\u001B[43m)\u001B[49m\n\u001B[1;32m     71\u001B[0m     \u001B[38;5;28;01mif\u001B[39;00m \u001B[38;5;129;01mnot\u001B[39;00m \u001B[38;5;28mself\u001B[39m\u001B[38;5;241m.\u001B[39m_committed:\n\u001B[1;32m     72\u001B[0m         \u001B[38;5;28;01mreturn\u001B[39;00m \u001B[38;5;28mself\u001B[39m\u001B[38;5;241m.\u001B[39mfile\u001B[38;5;241m.\u001B[39msize\n",
      "File \u001B[0;32m~/.virtualenvs/cast/lib/python3.11/site-packages/django/db/models/fields/files.py:40\u001B[0m, in \u001B[0;36mFieldFile._require_file\u001B[0;34m(self)\u001B[0m\n\u001B[1;32m     38\u001B[0m \u001B[38;5;28;01mdef\u001B[39;00m \u001B[38;5;21m_require_file\u001B[39m(\u001B[38;5;28mself\u001B[39m):\n\u001B[1;32m     39\u001B[0m     \u001B[38;5;28;01mif\u001B[39;00m \u001B[38;5;129;01mnot\u001B[39;00m \u001B[38;5;28mself\u001B[39m:\n\u001B[0;32m---> 40\u001B[0m         \u001B[38;5;28;01mraise\u001B[39;00m \u001B[38;5;167;01mValueError\u001B[39;00m(\n\u001B[1;32m     41\u001B[0m             \u001B[38;5;124m\"\u001B[39m\u001B[38;5;124mThe \u001B[39m\u001B[38;5;124m'\u001B[39m\u001B[38;5;132;01m%s\u001B[39;00m\u001B[38;5;124m'\u001B[39m\u001B[38;5;124m attribute has no file associated with it.\u001B[39m\u001B[38;5;124m\"\u001B[39m \u001B[38;5;241m%\u001B[39m \u001B[38;5;28mself\u001B[39m\u001B[38;5;241m.\u001B[39mfield\u001B[38;5;241m.\u001B[39mname\n\u001B[1;32m     42\u001B[0m         )\n",
      "\u001B[0;31mValueError\u001B[0m: The 'mp3' attribute has no file associated with it."
     ]
    }
   ],
   "source": [
    "audio.mp3.size"
   ]
  },
  {
   "cell_type": "code",
   "execution_count": null,
   "id": "0a1e0403",
   "metadata": {},
   "outputs": [],
   "source": []
  }
 ],
 "metadata": {
  "kernelspec": {
   "display_name": "Django Shell-Plus",
   "language": "python",
   "name": "django_extensions"
  },
  "language_info": {
   "codemirror_mode": {
    "name": "ipython",
    "version": 3
   },
   "file_extension": ".py",
   "mimetype": "text/x-python",
   "name": "python",
   "nbconvert_exporter": "python",
   "pygments_lexer": "ipython3",
   "version": "3.11.1"
  }
 },
 "nbformat": 4,
 "nbformat_minor": 5
}
