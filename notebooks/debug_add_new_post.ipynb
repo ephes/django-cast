{
 "cells": [
  {
   "cell_type": "code",
   "execution_count": 4,
   "id": "655a84b6",
   "metadata": {},
   "outputs": [
    {
     "name": "stdout",
     "output_type": "stream",
     "text": [
      "The nb_black extension is already loaded. To reload it, use:\n",
      "  %reload_ext nb_black\n"
     ]
    },
    {
     "data": {
      "application/javascript": [
       "\n",
       "            setTimeout(function() {\n",
       "                var nbb_cell_id = 4;\n",
       "                var nbb_unformatted_code = \"%load_ext nb_black\";\n",
       "                var nbb_formatted_code = \"%load_ext nb_black\";\n",
       "                var nbb_cells = Jupyter.notebook.get_cells();\n",
       "                for (var i = 0; i < nbb_cells.length; ++i) {\n",
       "                    if (nbb_cells[i].input_prompt_number == nbb_cell_id) {\n",
       "                        if (nbb_cells[i].get_text() == nbb_unformatted_code) {\n",
       "                             nbb_cells[i].set_text(nbb_formatted_code);\n",
       "                        }\n",
       "                        break;\n",
       "                    }\n",
       "                }\n",
       "            }, 500);\n",
       "            "
      ],
      "text/plain": [
       "<IPython.core.display.Javascript object>"
      ]
     },
     "metadata": {},
     "output_type": "display_data"
    }
   ],
   "source": [
    "%load_ext nb_black"
   ]
  },
  {
   "cell_type": "code",
   "execution_count": 8,
   "id": "5b2a91e6",
   "metadata": {},
   "outputs": [
    {
     "data": {
      "application/javascript": [
       "\n",
       "            setTimeout(function() {\n",
       "                var nbb_cell_id = 8;\n",
       "                var nbb_unformatted_code = \"from urllib.parse import parse_qs\";\n",
       "                var nbb_formatted_code = \"from urllib.parse import parse_qs\";\n",
       "                var nbb_cells = Jupyter.notebook.get_cells();\n",
       "                for (var i = 0; i < nbb_cells.length; ++i) {\n",
       "                    if (nbb_cells[i].input_prompt_number == nbb_cell_id) {\n",
       "                        if (nbb_cells[i].get_text() == nbb_unformatted_code) {\n",
       "                             nbb_cells[i].set_text(nbb_formatted_code);\n",
       "                        }\n",
       "                        break;\n",
       "                    }\n",
       "                }\n",
       "            }, 500);\n",
       "            "
      ],
      "text/plain": [
       "<IPython.core.display.Javascript object>"
      ]
     },
     "metadata": {},
     "output_type": "display_data"
    }
   ],
   "source": [
    "from urllib.parse import parse_qs"
   ]
  },
  {
   "cell_type": "code",
   "execution_count": 6,
   "id": "f925d186",
   "metadata": {},
   "outputs": [
    {
     "data": {
      "application/javascript": [
       "\n",
       "            setTimeout(function() {\n",
       "                var nbb_cell_id = 6;\n",
       "                var nbb_unformatted_code = \"post_data_urlencoded = \\\"\\\"\\\"\\ncsrfmiddlewaretoken=638JURr27duYlQ3eLiK7oKj7lISdrBox0JhQwM7U9Djs9T9tRVPkZBkWQrrfqYj5&next=&comment_notifications=on&title=new+post&visible_date=2021-08-17+14%3A30&body-count=1&body-0-deleted=&body-0-order=0&body-0-type=overview&body-0-id=75ae26d4-5658-41bc-8678-66ff8cd9a495&body-0-value-count=1&body-0-value-0-deleted=&body-0-value-0-order=0&body-0-value-0-type=image&body-0-value-0-id=c9f41632-bd4d-4b8b-8f80-d6a4aa2023b0&body-0-value-0-value=1&slug=new-post&seo_title=&search_description=&go_live_at=&expire_at=&comments-TOTAL_FORMS=0&comments-INITIAL_FORMS=0&comments-MIN_NUM_FORMS=0&comments-MAX_NUM_FORMS=&action-publish=action-publish\\n\\\"\\\"\\\".rstrip().lstrip()\";\n",
       "                var nbb_formatted_code = \"post_data_urlencoded = \\\"\\\"\\\"\\ncsrfmiddlewaretoken=638JURr27duYlQ3eLiK7oKj7lISdrBox0JhQwM7U9Djs9T9tRVPkZBkWQrrfqYj5&next=&comment_notifications=on&title=new+post&visible_date=2021-08-17+14%3A30&body-count=1&body-0-deleted=&body-0-order=0&body-0-type=overview&body-0-id=75ae26d4-5658-41bc-8678-66ff8cd9a495&body-0-value-count=1&body-0-value-0-deleted=&body-0-value-0-order=0&body-0-value-0-type=image&body-0-value-0-id=c9f41632-bd4d-4b8b-8f80-d6a4aa2023b0&body-0-value-0-value=1&slug=new-post&seo_title=&search_description=&go_live_at=&expire_at=&comments-TOTAL_FORMS=0&comments-INITIAL_FORMS=0&comments-MIN_NUM_FORMS=0&comments-MAX_NUM_FORMS=&action-publish=action-publish\\n\\\"\\\"\\\".rstrip().lstrip()\";\n",
       "                var nbb_cells = Jupyter.notebook.get_cells();\n",
       "                for (var i = 0; i < nbb_cells.length; ++i) {\n",
       "                    if (nbb_cells[i].input_prompt_number == nbb_cell_id) {\n",
       "                        if (nbb_cells[i].get_text() == nbb_unformatted_code) {\n",
       "                             nbb_cells[i].set_text(nbb_formatted_code);\n",
       "                        }\n",
       "                        break;\n",
       "                    }\n",
       "                }\n",
       "            }, 500);\n",
       "            "
      ],
      "text/plain": [
       "<IPython.core.display.Javascript object>"
      ]
     },
     "metadata": {},
     "output_type": "display_data"
    }
   ],
   "source": [
    "post_data_urlencoded = \"\"\"\n",
    "csrfmiddlewaretoken=638JURr27duYlQ3eLiK7oKj7lISdrBox0JhQwM7U9Djs9T9tRVPkZBkWQrrfqYj5&next=&comment_notifications=on&title=new+post&visible_date=2021-08-17+14%3A30&body-count=1&body-0-deleted=&body-0-order=0&body-0-type=overview&body-0-id=75ae26d4-5658-41bc-8678-66ff8cd9a495&body-0-value-count=1&body-0-value-0-deleted=&body-0-value-0-order=0&body-0-value-0-type=image&body-0-value-0-id=c9f41632-bd4d-4b8b-8f80-d6a4aa2023b0&body-0-value-0-value=1&slug=new-post&seo_title=&search_description=&go_live_at=&expire_at=&comments-TOTAL_FORMS=0&comments-INITIAL_FORMS=0&comments-MIN_NUM_FORMS=0&comments-MAX_NUM_FORMS=&action-publish=action-publish\n",
    "\"\"\".rstrip().lstrip()"
   ]
  },
  {
   "cell_type": "code",
   "execution_count": 7,
   "id": "5a994b78",
   "metadata": {},
   "outputs": [
    {
     "data": {
      "text/plain": [
       "'csrfmiddlewaretoken=638JURr27duYlQ3eLiK7oKj7lISdrBox0JhQwM7U9Djs9T9tRVPkZBkWQrrfqYj5&next=&comment_notifications=on&title=new+post&visible_date=2021-08-17+14%3A30&body-count=1&body-0-deleted=&body-0-order=0&body-0-type=overview&body-0-id=75ae26d4-5658-41bc-8678-66ff8cd9a495&body-0-value-count=1&body-0-value-0-deleted=&body-0-value-0-order=0&body-0-value-0-type=image&body-0-value-0-id=c9f41632-bd4d-4b8b-8f80-d6a4aa2023b0&body-0-value-0-value=1&slug=new-post&seo_title=&search_description=&go_live_at=&expire_at=&comments-TOTAL_FORMS=0&comments-INITIAL_FORMS=0&comments-MIN_NUM_FORMS=0&comments-MAX_NUM_FORMS=&action-publish=action-publish'"
      ]
     },
     "execution_count": 7,
     "metadata": {},
     "output_type": "execute_result"
    },
    {
     "data": {
      "application/javascript": [
       "\n",
       "            setTimeout(function() {\n",
       "                var nbb_cell_id = 7;\n",
       "                var nbb_unformatted_code = \"post_data_urlencoded\";\n",
       "                var nbb_formatted_code = \"post_data_urlencoded\";\n",
       "                var nbb_cells = Jupyter.notebook.get_cells();\n",
       "                for (var i = 0; i < nbb_cells.length; ++i) {\n",
       "                    if (nbb_cells[i].input_prompt_number == nbb_cell_id) {\n",
       "                        if (nbb_cells[i].get_text() == nbb_unformatted_code) {\n",
       "                             nbb_cells[i].set_text(nbb_formatted_code);\n",
       "                        }\n",
       "                        break;\n",
       "                    }\n",
       "                }\n",
       "            }, 500);\n",
       "            "
      ],
      "text/plain": [
       "<IPython.core.display.Javascript object>"
      ]
     },
     "metadata": {},
     "output_type": "display_data"
    }
   ],
   "source": [
    "post_data_urlencoded"
   ]
  },
  {
   "cell_type": "code",
   "execution_count": 10,
   "id": "3e89142a",
   "metadata": {},
   "outputs": [
    {
     "data": {
      "text/plain": [
       "{'csrfmiddlewaretoken': ['638JURr27duYlQ3eLiK7oKj7lISdrBox0JhQwM7U9Djs9T9tRVPkZBkWQrrfqYj5'],\n",
       " 'next': [''],\n",
       " 'comment_notifications': ['on'],\n",
       " 'title': ['new post'],\n",
       " 'visible_date': ['2021-08-17 14:30'],\n",
       " 'body-count': ['1'],\n",
       " 'body-0-deleted': [''],\n",
       " 'body-0-order': ['0'],\n",
       " 'body-0-type': ['overview'],\n",
       " 'body-0-id': ['75ae26d4-5658-41bc-8678-66ff8cd9a495'],\n",
       " 'body-0-value-count': ['1'],\n",
       " 'body-0-value-0-deleted': [''],\n",
       " 'body-0-value-0-order': ['0'],\n",
       " 'body-0-value-0-type': ['image'],\n",
       " 'body-0-value-0-id': ['c9f41632-bd4d-4b8b-8f80-d6a4aa2023b0'],\n",
       " 'body-0-value-0-value': ['1'],\n",
       " 'slug': ['new-post'],\n",
       " 'seo_title': [''],\n",
       " 'search_description': [''],\n",
       " 'go_live_at': [''],\n",
       " 'expire_at': [''],\n",
       " 'comments-TOTAL_FORMS': ['0'],\n",
       " 'comments-INITIAL_FORMS': ['0'],\n",
       " 'comments-MIN_NUM_FORMS': ['0'],\n",
       " 'comments-MAX_NUM_FORMS': [''],\n",
       " 'action-publish': ['action-publish']}"
      ]
     },
     "execution_count": 10,
     "metadata": {},
     "output_type": "execute_result"
    },
    {
     "data": {
      "application/javascript": [
       "\n",
       "            setTimeout(function() {\n",
       "                var nbb_cell_id = 10;\n",
       "                var nbb_unformatted_code = \"parse_qs(post_data_urlencoded, keep_blank_values=True)\";\n",
       "                var nbb_formatted_code = \"parse_qs(post_data_urlencoded, keep_blank_values=True)\";\n",
       "                var nbb_cells = Jupyter.notebook.get_cells();\n",
       "                for (var i = 0; i < nbb_cells.length; ++i) {\n",
       "                    if (nbb_cells[i].input_prompt_number == nbb_cell_id) {\n",
       "                        if (nbb_cells[i].get_text() == nbb_unformatted_code) {\n",
       "                             nbb_cells[i].set_text(nbb_formatted_code);\n",
       "                        }\n",
       "                        break;\n",
       "                    }\n",
       "                }\n",
       "            }, 500);\n",
       "            "
      ],
      "text/plain": [
       "<IPython.core.display.Javascript object>"
      ]
     },
     "metadata": {},
     "output_type": "display_data"
    }
   ],
   "source": [
    "parse_qs(post_data_urlencoded, keep_blank_values=True)"
   ]
  },
  {
   "cell_type": "code",
   "execution_count": 11,
   "id": "025259d8",
   "metadata": {},
   "outputs": [
    {
     "data": {
      "text/plain": [
       "1"
      ]
     },
     "execution_count": 11,
     "metadata": {},
     "output_type": "execute_result"
    },
    {
     "data": {
      "application/javascript": [
       "\n",
       "            setTimeout(function() {\n",
       "                var nbb_cell_id = 11;\n",
       "                var nbb_unformatted_code = \"Image.objects.count()\";\n",
       "                var nbb_formatted_code = \"Image.objects.count()\";\n",
       "                var nbb_cells = Jupyter.notebook.get_cells();\n",
       "                for (var i = 0; i < nbb_cells.length; ++i) {\n",
       "                    if (nbb_cells[i].input_prompt_number == nbb_cell_id) {\n",
       "                        if (nbb_cells[i].get_text() == nbb_unformatted_code) {\n",
       "                             nbb_cells[i].set_text(nbb_formatted_code);\n",
       "                        }\n",
       "                        break;\n",
       "                    }\n",
       "                }\n",
       "            }, 500);\n",
       "            "
      ],
      "text/plain": [
       "<IPython.core.display.Javascript object>"
      ]
     },
     "metadata": {},
     "output_type": "display_data"
    }
   ],
   "source": [
    "Image.objects.count()"
   ]
  },
  {
   "cell_type": "code",
   "execution_count": 12,
   "id": "6bf3b8cb",
   "metadata": {},
   "outputs": [
    {
     "data": {
      "text/plain": [
       "wagtail.images.models.Image"
      ]
     },
     "execution_count": 12,
     "metadata": {},
     "output_type": "execute_result"
    },
    {
     "data": {
      "application/javascript": [
       "\n",
       "            setTimeout(function() {\n",
       "                var nbb_cell_id = 12;\n",
       "                var nbb_unformatted_code = \"Image\";\n",
       "                var nbb_formatted_code = \"Image\";\n",
       "                var nbb_cells = Jupyter.notebook.get_cells();\n",
       "                for (var i = 0; i < nbb_cells.length; ++i) {\n",
       "                    if (nbb_cells[i].input_prompt_number == nbb_cell_id) {\n",
       "                        if (nbb_cells[i].get_text() == nbb_unformatted_code) {\n",
       "                             nbb_cells[i].set_text(nbb_formatted_code);\n",
       "                        }\n",
       "                        break;\n",
       "                    }\n",
       "                }\n",
       "            }, 500);\n",
       "            "
      ],
      "text/plain": [
       "<IPython.core.display.Javascript object>"
      ]
     },
     "metadata": {},
     "output_type": "display_data"
    }
   ],
   "source": [
    "Image"
   ]
  },
  {
   "cell_type": "code",
   "execution_count": null,
   "id": "c44e67c4",
   "metadata": {},
   "outputs": [],
   "source": []
  }
 ],
 "metadata": {
  "kernelspec": {
   "display_name": "Django Shell-Plus",
   "language": "python",
   "name": "django_extensions"
  },
  "language_info": {
   "codemirror_mode": {
    "name": "ipython",
    "version": 3
   },
   "file_extension": ".py",
   "mimetype": "text/x-python",
   "name": "python",
   "nbconvert_exporter": "python",
   "pygments_lexer": "ipython3",
   "version": "3.9.6"
  }
 },
 "nbformat": 4,
 "nbformat_minor": 5
}
