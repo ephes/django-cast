{
 "cells": [
  {
   "cell_type": "code",
   "execution_count": 1,
   "id": "a4c6e7cb",
   "metadata": {},
   "outputs": [],
   "source": [
    "from django.core.files.uploadedfile import SimpleUploadedFile\n",
    "\n",
    "from wagtail.images.models import Image"
   ]
  },
  {
   "cell_type": "code",
   "execution_count": 2,
   "id": "a1526cb3",
   "metadata": {},
   "outputs": [],
   "source": [
    "png = (\n",
    "    b\"\\x89PNG\\r\\n\\x1a\\n\\x00\\x00\\x00\\rIHDR\\x00\\x00\"\n",
    "    b\"\\x00\\x01\\x00\\x00\\x00\\x01\\x08\\x06\\x00\\x00\\x00\"\n",
    "    b\"\\x1f\\x15\\xc4\\x89\\x00\\x00\\x00\\rIDATx\\x9cc````\"\n",
    "    b\"\\x00\\x00\\x00\\x05\\x00\\x01\\xa5\\xf6E@\\x00\\x00\"\n",
    "    b\"\\x00\\x00IEND\\xaeB`\\x82\"\n",
    ")\n",
    "\n",
    "simple_png = SimpleUploadedFile(name=\"test.png\", content=png, content_type=\"image/png\")\n",
    "\n",
    "image = Image(file=simple_png)\n",
    "image.save()"
   ]
  },
  {
   "cell_type": "code",
   "execution_count": 3,
   "id": "c5581b3a",
   "metadata": {},
   "outputs": [
    {
     "data": {
      "text/plain": [
       "<Image: >"
      ]
     },
     "execution_count": 3,
     "metadata": {},
     "output_type": "execute_result"
    }
   ],
   "source": [
    "image"
   ]
  },
  {
   "cell_type": "code",
   "execution_count": 7,
   "id": "e36d6f05",
   "metadata": {},
   "outputs": [
    {
     "data": {
      "text/plain": [
       "['DoesNotExist',\n",
       " 'Meta',\n",
       " 'MultipleObjectsReturned',\n",
       " '__class__',\n",
       " '__delattr__',\n",
       " '__dict__',\n",
       " '__dir__',\n",
       " '__doc__',\n",
       " '__eq__',\n",
       " '__format__',\n",
       " '__ge__',\n",
       " '__getattribute__',\n",
       " '__getstate__',\n",
       " '__gt__',\n",
       " '__hash__',\n",
       " '__init__',\n",
       " '__init_subclass__',\n",
       " '__le__',\n",
       " '__lt__',\n",
       " '__module__',\n",
       " '__ne__',\n",
       " '__new__',\n",
       " '__reduce__',\n",
       " '__reduce_ex__',\n",
       " '__repr__',\n",
       " '__setattr__',\n",
       " '__setstate__',\n",
       " '__sizeof__',\n",
       " '__str__',\n",
       " '__subclasshook__',\n",
       " '__weakref__',\n",
       " '_check_column_name_clashes',\n",
       " '_check_constraints',\n",
       " '_check_default_pk',\n",
       " '_check_field_name_clashes',\n",
       " '_check_fields',\n",
       " '_check_id_field',\n",
       " '_check_index_together',\n",
       " '_check_indexes',\n",
       " '_check_local_fields',\n",
       " '_check_long_column_names',\n",
       " '_check_m2m_through_same_relationship',\n",
       " '_check_managers',\n",
       " '_check_model',\n",
       " '_check_model_name_db_lookup_clashes',\n",
       " '_check_ordering',\n",
       " '_check_property_name_related_field_accessor_clashes',\n",
       " '_check_search_fields',\n",
       " '_check_single_primary_key',\n",
       " '_check_swappable',\n",
       " '_check_unique_together',\n",
       " '_do_insert',\n",
       " '_do_update',\n",
       " '_get_FIELD_display',\n",
       " '_get_expr_references',\n",
       " '_get_field_value_map',\n",
       " '_get_next_or_previous_by_FIELD',\n",
       " '_get_next_or_previous_in_order',\n",
       " '_get_pk_val',\n",
       " '_get_unique_checks',\n",
       " '_has_field',\n",
       " '_meta',\n",
       " '_perform_date_checks',\n",
       " '_perform_unique_checks',\n",
       " '_prepare_related_fields_for_save',\n",
       " '_save_parents',\n",
       " '_save_table',\n",
       " '_set_file_hash',\n",
       " '_set_image_file_metadata',\n",
       " '_set_pk_val',\n",
       " '_state',\n",
       " 'admin_form_fields',\n",
       " 'check',\n",
       " 'clean',\n",
       " 'clean_fields',\n",
       " 'collection',\n",
       " 'collection_id',\n",
       " 'create_rendition',\n",
       " 'created_at',\n",
       " 'date_error_message',\n",
       " 'default_alt_text',\n",
       " 'delete',\n",
       " 'file',\n",
       " 'file_hash',\n",
       " 'file_size',\n",
       " 'filename',\n",
       " 'find_existing_rendition',\n",
       " 'focal_point_height',\n",
       " 'focal_point_width',\n",
       " 'focal_point_x',\n",
       " 'focal_point_y',\n",
       " 'from_db',\n",
       " 'full_clean',\n",
       " 'gallery_set',\n",
       " 'generate_rendition_file',\n",
       " 'get_autocomplete_search_fields',\n",
       " 'get_constraints',\n",
       " 'get_deferred_fields',\n",
       " 'get_file_hash',\n",
       " 'get_file_size',\n",
       " 'get_filterable_search_fields',\n",
       " 'get_focal_point',\n",
       " 'get_indexed_instance',\n",
       " 'get_indexed_objects',\n",
       " 'get_next_by_created_at',\n",
       " 'get_previous_by_created_at',\n",
       " 'get_rect',\n",
       " 'get_rendition',\n",
       " 'get_rendition_model',\n",
       " 'get_search_fields',\n",
       " 'get_searchable_search_fields',\n",
       " 'get_suggested_focal_point',\n",
       " 'get_upload_to',\n",
       " 'get_usage',\n",
       " 'get_willow_image',\n",
       " 'has_focal_point',\n",
       " 'height',\n",
       " 'id',\n",
       " 'index_entries',\n",
       " 'indexed_get_content_type',\n",
       " 'indexed_get_parent',\n",
       " 'indexed_get_toplevel_content_type',\n",
       " 'is_editable_by_user',\n",
       " 'is_landscape',\n",
       " 'is_portrait',\n",
       " 'is_stored_locally',\n",
       " 'objects',\n",
       " 'open_file',\n",
       " 'pk',\n",
       " 'post_set',\n",
       " 'prepare_database_save',\n",
       " 'refresh_from_db',\n",
       " 'renditions',\n",
       " 'save',\n",
       " 'save_base',\n",
       " 'search_fields',\n",
       " 'serializable_value',\n",
       " 'set_focal_point',\n",
       " 'tagged_items',\n",
       " 'tags',\n",
       " 'title',\n",
       " 'unique_error_message',\n",
       " 'uploaded_by_user',\n",
       " 'uploaded_by_user_id',\n",
       " 'usage_url',\n",
       " 'validate_constraints',\n",
       " 'validate_unique',\n",
       " 'width']"
      ]
     },
     "execution_count": 7,
     "metadata": {},
     "output_type": "execute_result"
    }
   ],
   "source": [
    "dir(image)"
   ]
  },
  {
   "cell_type": "code",
   "execution_count": 9,
   "id": "49961322",
   "metadata": {},
   "outputs": [
    {
     "data": {
      "text/plain": [
       "'original_images/test_79jubgj.png'"
      ]
     },
     "execution_count": 9,
     "metadata": {},
     "output_type": "execute_result"
    }
   ],
   "source": [
    "image.file.name"
   ]
  },
  {
   "cell_type": "code",
   "execution_count": null,
   "id": "a506be94",
   "metadata": {},
   "outputs": [],
   "source": []
  }
 ],
 "metadata": {
  "kernelspec": {
   "display_name": "Django Shell-Plus",
   "language": "python",
   "name": "django_extensions"
  },
  "language_info": {
   "codemirror_mode": {
    "name": "ipython",
    "version": 3
   },
   "file_extension": ".py",
   "mimetype": "text/x-python",
   "name": "python",
   "nbconvert_exporter": "python",
   "pygments_lexer": "ipython3",
   "version": "3.11.1"
  }
 },
 "nbformat": 4,
 "nbformat_minor": 5
}
