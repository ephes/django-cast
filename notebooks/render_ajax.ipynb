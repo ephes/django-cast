{
 "cells": [
  {
   "cell_type": "code",
   "execution_count": 1,
   "id": "d755e004",
   "metadata": {},
   "outputs": [
    {
     "data": {
      "application/javascript": [
       "\n",
       "            setTimeout(function() {\n",
       "                var nbb_cell_id = 1;\n",
       "                var nbb_unformatted_code = \"%load_ext nb_black\";\n",
       "                var nbb_formatted_code = \"%load_ext nb_black\";\n",
       "                var nbb_cells = Jupyter.notebook.get_cells();\n",
       "                for (var i = 0; i < nbb_cells.length; ++i) {\n",
       "                    if (nbb_cells[i].input_prompt_number == nbb_cell_id) {\n",
       "                        if (nbb_cells[i].get_text() == nbb_unformatted_code) {\n",
       "                             nbb_cells[i].set_text(nbb_formatted_code);\n",
       "                        }\n",
       "                        break;\n",
       "                    }\n",
       "                }\n",
       "            }, 500);\n",
       "            "
      ],
      "text/plain": [
       "<IPython.core.display.Javascript object>"
      ]
     },
     "metadata": {},
     "output_type": "display_data"
    }
   ],
   "source": [
    "%load_ext nb_black"
   ]
  },
  {
   "cell_type": "code",
   "execution_count": 2,
   "id": "366bd296",
   "metadata": {},
   "outputs": [
    {
     "data": {
      "application/javascript": [
       "\n",
       "            setTimeout(function() {\n",
       "                var nbb_cell_id = 2;\n",
       "                var nbb_unformatted_code = \"from django.shortcuts import render\\n\\nfrom django.test.client import RequestFactory\";\n",
       "                var nbb_formatted_code = \"from django.shortcuts import render\\n\\nfrom django.test.client import RequestFactory\";\n",
       "                var nbb_cells = Jupyter.notebook.get_cells();\n",
       "                for (var i = 0; i < nbb_cells.length; ++i) {\n",
       "                    if (nbb_cells[i].input_prompt_number == nbb_cell_id) {\n",
       "                        if (nbb_cells[i].get_text() == nbb_unformatted_code) {\n",
       "                             nbb_cells[i].set_text(nbb_formatted_code);\n",
       "                        }\n",
       "                        break;\n",
       "                    }\n",
       "                }\n",
       "            }, 500);\n",
       "            "
      ],
      "text/plain": [
       "<IPython.core.display.Javascript object>"
      ]
     },
     "metadata": {},
     "output_type": "display_data"
    }
   ],
   "source": [
    "from django.shortcuts import render\n",
    "\n",
    "from django.test.client import RequestFactory"
   ]
  },
  {
   "cell_type": "code",
   "execution_count": 3,
   "id": "cd683198",
   "metadata": {},
   "outputs": [
    {
     "data": {
      "application/javascript": [
       "\n",
       "            setTimeout(function() {\n",
       "                var nbb_cell_id = 3;\n",
       "                var nbb_unformatted_code = \"factory = RequestFactory()\\nindex_url = reverse(\\\"castmedia:video_index\\\")\\nrequest = factory.get(index_url)\";\n",
       "                var nbb_formatted_code = \"factory = RequestFactory()\\nindex_url = reverse(\\\"castmedia:video_index\\\")\\nrequest = factory.get(index_url)\";\n",
       "                var nbb_cells = Jupyter.notebook.get_cells();\n",
       "                for (var i = 0; i < nbb_cells.length; ++i) {\n",
       "                    if (nbb_cells[i].input_prompt_number == nbb_cell_id) {\n",
       "                        if (nbb_cells[i].get_text() == nbb_unformatted_code) {\n",
       "                             nbb_cells[i].set_text(nbb_formatted_code);\n",
       "                        }\n",
       "                        break;\n",
       "                    }\n",
       "                }\n",
       "            }, 500);\n",
       "            "
      ],
      "text/plain": [
       "<IPython.core.display.Javascript object>"
      ]
     },
     "metadata": {},
     "output_type": "display_data"
    }
   ],
   "source": [
    "factory = RequestFactory()\n",
    "index_url = reverse(\"castmedia:video_index\")\n",
    "request = factory.get(index_url)"
   ]
  },
  {
   "cell_type": "code",
   "execution_count": 4,
   "id": "3ee6fa79",
   "metadata": {},
   "outputs": [
    {
     "data": {
      "application/javascript": [
       "\n",
       "            setTimeout(function() {\n",
       "                var nbb_cell_id = 4;\n",
       "                var nbb_unformatted_code = \"ordering = \\\"-created\\\"\\nvideos = Video.objects.all().order_by(ordering)\\nquery_string = None\";\n",
       "                var nbb_formatted_code = \"ordering = \\\"-created\\\"\\nvideos = Video.objects.all().order_by(ordering)\\nquery_string = None\";\n",
       "                var nbb_cells = Jupyter.notebook.get_cells();\n",
       "                for (var i = 0; i < nbb_cells.length; ++i) {\n",
       "                    if (nbb_cells[i].input_prompt_number == nbb_cell_id) {\n",
       "                        if (nbb_cells[i].get_text() == nbb_unformatted_code) {\n",
       "                             nbb_cells[i].set_text(nbb_formatted_code);\n",
       "                        }\n",
       "                        break;\n",
       "                    }\n",
       "                }\n",
       "            }, 500);\n",
       "            "
      ],
      "text/plain": [
       "<IPython.core.display.Javascript object>"
      ]
     },
     "metadata": {},
     "output_type": "display_data"
    }
   ],
   "source": [
    "ordering = \"-created\"\n",
    "videos = Video.objects.all().order_by(ordering)\n",
    "query_string = None"
   ]
  },
  {
   "cell_type": "code",
   "execution_count": 5,
   "id": "72d22376",
   "metadata": {},
   "outputs": [
    {
     "data": {
      "text/plain": [
       "<HttpResponse status_code=200, \"text/html; charset=utf-8\">"
      ]
     },
     "execution_count": 5,
     "metadata": {},
     "output_type": "execute_result"
    },
    {
     "data": {
      "application/javascript": [
       "\n",
       "            setTimeout(function() {\n",
       "                var nbb_cell_id = 5;\n",
       "                var nbb_unformatted_code = \"render(\\n    request,\\n    \\\"cast/wagtail/video_chooser_results.html\\\",\\n    {\\n        \\\"ordering\\\": ordering,\\n        \\\"videos\\\": videos,\\n        \\\"query_string\\\": query_string,\\n        \\\"is_searching\\\": bool(query_string),\\n    },\\n)\";\n",
       "                var nbb_formatted_code = \"render(\\n    request,\\n    \\\"cast/wagtail/video_chooser_results.html\\\",\\n    {\\n        \\\"ordering\\\": ordering,\\n        \\\"videos\\\": videos,\\n        \\\"query_string\\\": query_string,\\n        \\\"is_searching\\\": bool(query_string),\\n    },\\n)\";\n",
       "                var nbb_cells = Jupyter.notebook.get_cells();\n",
       "                for (var i = 0; i < nbb_cells.length; ++i) {\n",
       "                    if (nbb_cells[i].input_prompt_number == nbb_cell_id) {\n",
       "                        if (nbb_cells[i].get_text() == nbb_unformatted_code) {\n",
       "                             nbb_cells[i].set_text(nbb_formatted_code);\n",
       "                        }\n",
       "                        break;\n",
       "                    }\n",
       "                }\n",
       "            }, 500);\n",
       "            "
      ],
      "text/plain": [
       "<IPython.core.display.Javascript object>"
      ]
     },
     "metadata": {},
     "output_type": "display_data"
    }
   ],
   "source": [
    "render(\n",
    "    request,\n",
    "    \"cast/wagtail/video_chooser_results.html\",\n",
    "    {\n",
    "        \"ordering\": ordering,\n",
    "        \"videos\": videos,\n",
    "        \"query_string\": query_string,\n",
    "        \"is_searching\": bool(query_string),\n",
    "    },\n",
    ")"
   ]
  },
  {
   "cell_type": "code",
   "execution_count": null,
   "id": "de722e7e",
   "metadata": {},
   "outputs": [],
   "source": []
  }
 ],
 "metadata": {
  "kernelspec": {
   "display_name": "Django Shell-Plus",
   "language": "python",
   "name": "django_extensions"
  },
  "language_info": {
   "codemirror_mode": {
    "name": "ipython",
    "version": 3
   },
   "file_extension": ".py",
   "mimetype": "text/x-python",
   "name": "python",
   "nbconvert_exporter": "python",
   "pygments_lexer": "ipython3",
   "version": "3.9.7"
  }
 },
 "nbformat": 4,
 "nbformat_minor": 5
}
