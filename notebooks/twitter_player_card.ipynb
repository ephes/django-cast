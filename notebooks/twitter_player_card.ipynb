{
 "cells": [
  {
   "cell_type": "code",
   "execution_count": 4,
   "id": "8e25766f-ea83-47bf-b097-ac6b13479f82",
   "metadata": {},
   "outputs": [],
   "source": [
    "episode = Episode.objects.first()"
   ]
  },
  {
   "cell_type": "code",
   "execution_count": 5,
   "id": "9ff6e8bf-32d4-4a3c-b038-3e9c7b9c3b29",
   "metadata": {},
   "outputs": [
    {
     "data": {
      "text/plain": [
       "'Dominik und Jochen reden über alles ausser Python ;)'"
      ]
     },
     "execution_count": 5,
     "metadata": {},
     "output_type": "execute_result"
    }
   ],
   "source": [
    "episode.podcast_audio.subtitle"
   ]
  },
  {
   "cell_type": "code",
   "execution_count": 3,
   "id": "1f8a5033-0b87-4530-96c6-55625762cd4d",
   "metadata": {},
   "outputs": [
    {
     "data": {
      "text/plain": [
       "'&lt;article&gt;  &lt;header&gt;    &lt;h2&gt;PP03 - Weihnachtsfolge&lt;/h2&gt;    &lt;a href=&quot;/show/pp03-weihnachten/&quot;&gt;      &lt;time date-time=&quot;2018-12-24T01:00:00+01:00&quot;&gt;24. Dezember 2018&lt;/time&gt;,    &lt;/a&gt;    &lt;span class=&quot;author&quot;&gt;Jochen&lt;/span&gt;  &lt;/header&gt;            &lt;section class=&quot;block-overview&quot;&gt;        &lt;div class=&quot;block-paragraph&quot;&gt;In der dritten Episode unseres Python-Podcasts geht es ausnahmsweise gar nicht so viel um Python. Jochen erz&amp;auml;hlt, was er im Web so macht und was f&amp;uuml;r struggles ihm da aktuell so begegnen. Ziemlich chaotisch diese Folge. Weihnachtsstress pur :)&lt;br /&gt;\\r&lt;br /&gt;\\r&lt;/div&gt;&lt;div class=&quot;block-audio&quot;&gt;&lt;div id=&quot;audio_7&quot;&gt;&lt;/div&gt;&lt;/div&gt;&lt;div class=&quot;block-paragraph&quot;&gt;\\r\\r&lt;/div&gt;      &lt;/section&gt;      &lt;a href=&quot;/show/pp03-weihnachten/&quot;&gt;  Shownotes | Kommentare | Permalink&lt;/a&gt;            &lt;/article&gt;'"
      ]
     },
     "execution_count": 3,
     "metadata": {},
     "output_type": "execute_result"
    }
   ],
   "source": [
    "episode.get_description().replace(\"\\n\", \"\")"
   ]
  },
  {
   "cell_type": "code",
   "execution_count": 4,
   "id": "f43c4dbe-3677-4513-95a1-314ab1e46f56",
   "metadata": {},
   "outputs": [
    {
     "data": {
      "text/plain": [
       "'&lt;article&gt;  &lt;header&gt;    &lt;h2&gt;PP03 - Weihnachtsfolge&lt;/h2&gt;    &lt;a href=&quot;/show/pp03-weihnachten/&quot;&gt;      &lt;time date-time=&quot;2018-12-24T01:00:00+01:00&quot;&gt;24. Dezember 2018&lt;/time&gt;,    &lt;/a&gt;    &lt;span class=&quot;author&quot;&gt;Jochen&lt;/span&gt;  &lt;/header&gt;            &lt;section class=&quot;block-overview&quot;&gt;        &lt;div class=&quot;block-paragraph&quot;&gt;In der dritten Episode unseres Python-Podcasts geht es ausnahmsweise gar nicht so viel um Python. Jochen erz&amp;auml;hlt, was er im Web so macht und was f&amp;uuml;r struggles ihm da aktuell so begegnen. Ziemlich chaotisch diese Folge. Weihnachtsstress pur :)&lt;br /&gt;\\r&lt;br /&gt;\\r&lt;/div&gt;&lt;div class=&quot;block-audio&quot;&gt;&lt;div id=&quot;audio_7&quot;&gt;&lt;/div&gt;&lt;/div&gt;&lt;div class=&quot;block-paragraph&quot;&gt;\\r\\r&lt;/div&gt;      &lt;/section&gt;      &lt;a href=&quot;/show/pp03-weihnachten/&quot;&gt;  Shownotes | Kommentare | Permalink&lt;/a&gt;            &lt;/article&gt;'"
      ]
     },
     "execution_count": 4,
     "metadata": {},
     "output_type": "execute_result"
    }
   ],
   "source": [
    "episode.get_description()"
   ]
  },
  {
   "cell_type": "code",
   "execution_count": 10,
   "id": "81de24ff-5927-4b14-b43c-08b84597cdc4",
   "metadata": {},
   "outputs": [
    {
     "data": {
      "text/plain": [
       "'https://d2mmy4gxasde9x.cloudfront.net/cast_images/itunes_artwork/pp_itunes_artwork_3k.png'"
      ]
     },
     "execution_count": 10,
     "metadata": {},
     "output_type": "execute_result"
    }
   ],
   "source": [
    "episode.blog.itunes_artwork.original.url"
   ]
  },
  {
   "cell_type": "code",
   "execution_count": 11,
   "id": "2d0b1648-b14e-44fe-b26f-2a7cf7dca138",
   "metadata": {},
   "outputs": [
    {
     "data": {
      "text/plain": [
       "'https://d2mmy4gxasde9x.cloudfront.net/cast_audio/pp_03.m4a'"
      ]
     },
     "execution_count": 11,
     "metadata": {},
     "output_type": "execute_result"
    }
   ],
   "source": [
    "episode.podcast_audio.m4a.url"
   ]
  },
  {
   "cell_type": "code",
   "execution_count": 12,
   "id": "edab25bf-4358-41a9-80e9-bc31fdfc3885",
   "metadata": {},
   "outputs": [
    {
     "data": {
      "text/plain": [
       "'http://localhost:8000/show/'"
      ]
     },
     "execution_count": 12,
     "metadata": {},
     "output_type": "execute_result"
    }
   ],
   "source": [
    "episode.blog.full_url"
   ]
  },
  {
   "cell_type": "code",
   "execution_count": 13,
   "id": "f710a832-f9ab-475e-bf16-e46d56cb80a0",
   "metadata": {},
   "outputs": [
    {
     "data": {
      "text/plain": [
       "'Python Podcast'"
      ]
     },
     "execution_count": 13,
     "metadata": {},
     "output_type": "execute_result"
    }
   ],
   "source": [
    "episode.blog.title"
   ]
  },
  {
   "cell_type": "code",
   "execution_count": 16,
   "id": "331a3f19-9fd6-4fef-a212-7225acb09a96",
   "metadata": {},
   "outputs": [
    {
     "data": {
      "text/plain": [
       "'1:41:51'"
      ]
     },
     "execution_count": 16,
     "metadata": {},
     "output_type": "execute_result"
    }
   ],
   "source": [
    "episode.podcast_audio.duration_str"
   ]
  },
  {
   "cell_type": "code",
   "execution_count": 3,
   "id": "1275e3ec-6d4b-4d66-9b4e-981531ec6b5d",
   "metadata": {},
   "outputs": [
    {
     "ename": "ImproperlyConfigured",
     "evalue": "URL route '<blog_slug:slug>/<slug:slug>/twitter-player/' uses invalid converter 'blog_slug'.",
     "output_type": "error",
     "traceback": [
      "\u001b[0;31m---------------------------------------------------------------------------\u001b[0m",
      "\u001b[0;31mKeyError\u001b[0m                                  Traceback (most recent call last)",
      "File \u001b[0;32m~/.virtualenvs/pp/lib/python3.11/site-packages/django/urls/resolvers.py:283\u001b[0m, in \u001b[0;36m_route_to_regex\u001b[0;34m(route, is_endpoint)\u001b[0m\n\u001b[1;32m    282\u001b[0m \u001b[38;5;28;01mtry\u001b[39;00m:\n\u001b[0;32m--> 283\u001b[0m     converter \u001b[38;5;241m=\u001b[39m \u001b[43mget_converter\u001b[49m\u001b[43m(\u001b[49m\u001b[43mraw_converter\u001b[49m\u001b[43m)\u001b[49m\n\u001b[1;32m    284\u001b[0m \u001b[38;5;28;01mexcept\u001b[39;00m \u001b[38;5;167;01mKeyError\u001b[39;00m \u001b[38;5;28;01mas\u001b[39;00m e:\n",
      "File \u001b[0;32m~/.virtualenvs/pp/lib/python3.11/site-packages/django/urls/converters.py:66\u001b[0m, in \u001b[0;36mget_converter\u001b[0;34m(raw_converter)\u001b[0m\n\u001b[1;32m     65\u001b[0m \u001b[38;5;28;01mdef\u001b[39;00m \u001b[38;5;21mget_converter\u001b[39m(raw_converter):\n\u001b[0;32m---> 66\u001b[0m     \u001b[38;5;28;01mreturn\u001b[39;00m \u001b[43mget_converters\u001b[49m\u001b[43m(\u001b[49m\u001b[43m)\u001b[49m\u001b[43m[\u001b[49m\u001b[43mraw_converter\u001b[49m\u001b[43m]\u001b[49m\n",
      "\u001b[0;31mKeyError\u001b[0m: 'blog_slug'",
      "\nThe above exception was the direct cause of the following exception:\n",
      "\u001b[0;31mImproperlyConfigured\u001b[0m                      Traceback (most recent call last)",
      "Cell \u001b[0;32mIn[3], line 1\u001b[0m\n\u001b[0;32m----> 1\u001b[0m \u001b[43mreverse\u001b[49m\u001b[43m(\u001b[49m\u001b[38;5;124;43m\"\u001b[39;49m\u001b[38;5;124;43mcast:twitter-player\u001b[39;49m\u001b[38;5;124;43m\"\u001b[39;49m\u001b[43m,\u001b[49m\u001b[43m \u001b[49m\u001b[43mkwargs\u001b[49m\u001b[38;5;241;43m=\u001b[39;49m\u001b[43m{\u001b[49m\u001b[38;5;124;43m\"\u001b[39;49m\u001b[38;5;124;43mblog_slug\u001b[39;49m\u001b[38;5;124;43m\"\u001b[39;49m\u001b[43m:\u001b[49m\u001b[43m \u001b[49m\u001b[43mepisode\u001b[49m\u001b[38;5;241;43m.\u001b[39;49m\u001b[43mblog\u001b[49m\u001b[38;5;241;43m.\u001b[39;49m\u001b[43mslug\u001b[49m\u001b[43m,\u001b[49m\u001b[43m \u001b[49m\u001b[38;5;124;43m\"\u001b[39;49m\u001b[38;5;124;43mslug\u001b[39;49m\u001b[38;5;124;43m\"\u001b[39;49m\u001b[43m:\u001b[49m\u001b[43m \u001b[49m\u001b[43mepisode\u001b[49m\u001b[38;5;241;43m.\u001b[39;49m\u001b[43mslug\u001b[49m\u001b[43m}\u001b[49m\u001b[43m)\u001b[49m\n",
      "File \u001b[0;32m~/.virtualenvs/pp/lib/python3.11/site-packages/django/urls/base.py:54\u001b[0m, in \u001b[0;36mreverse\u001b[0;34m(viewname, urlconf, args, kwargs, current_app)\u001b[0m\n\u001b[1;32m     52\u001b[0m \u001b[38;5;66;03m# Lookup the name to see if it could be an app identifier.\u001b[39;00m\n\u001b[1;32m     53\u001b[0m \u001b[38;5;28;01mtry\u001b[39;00m:\n\u001b[0;32m---> 54\u001b[0m     app_list \u001b[38;5;241m=\u001b[39m \u001b[43mresolver\u001b[49m\u001b[38;5;241;43m.\u001b[39;49m\u001b[43mapp_dict\u001b[49m[ns]\n\u001b[1;32m     55\u001b[0m     \u001b[38;5;66;03m# Yes! Path part matches an app in the current Resolver.\u001b[39;00m\n\u001b[1;32m     56\u001b[0m     \u001b[38;5;28;01mif\u001b[39;00m current_ns \u001b[38;5;129;01mand\u001b[39;00m current_ns \u001b[38;5;129;01min\u001b[39;00m app_list:\n\u001b[1;32m     57\u001b[0m         \u001b[38;5;66;03m# If we are reversing for a particular app, use that\u001b[39;00m\n\u001b[1;32m     58\u001b[0m         \u001b[38;5;66;03m# namespace.\u001b[39;00m\n",
      "File \u001b[0;32m~/.virtualenvs/pp/lib/python3.11/site-packages/django/urls/resolvers.py:633\u001b[0m, in \u001b[0;36mURLResolver.app_dict\u001b[0;34m(self)\u001b[0m\n\u001b[1;32m    631\u001b[0m language_code \u001b[38;5;241m=\u001b[39m get_language()\n\u001b[1;32m    632\u001b[0m \u001b[38;5;28;01mif\u001b[39;00m language_code \u001b[38;5;129;01mnot\u001b[39;00m \u001b[38;5;129;01min\u001b[39;00m \u001b[38;5;28mself\u001b[39m\u001b[38;5;241m.\u001b[39m_app_dict:\n\u001b[0;32m--> 633\u001b[0m     \u001b[38;5;28;43mself\u001b[39;49m\u001b[38;5;241;43m.\u001b[39;49m\u001b[43m_populate\u001b[49m\u001b[43m(\u001b[49m\u001b[43m)\u001b[49m\n\u001b[1;32m    634\u001b[0m \u001b[38;5;28;01mreturn\u001b[39;00m \u001b[38;5;28mself\u001b[39m\u001b[38;5;241m.\u001b[39m_app_dict[language_code]\n",
      "File \u001b[0;32m~/.virtualenvs/pp/lib/python3.11/site-packages/django/urls/resolvers.py:543\u001b[0m, in \u001b[0;36mURLResolver._populate\u001b[0;34m(self)\u001b[0m\n\u001b[1;32m    541\u001b[0m apps \u001b[38;5;241m=\u001b[39m {}\n\u001b[1;32m    542\u001b[0m language_code \u001b[38;5;241m=\u001b[39m get_language()\n\u001b[0;32m--> 543\u001b[0m \u001b[38;5;28;01mfor\u001b[39;00m url_pattern \u001b[38;5;129;01min\u001b[39;00m \u001b[38;5;28mreversed\u001b[39m(\u001b[38;5;28;43mself\u001b[39;49m\u001b[38;5;241;43m.\u001b[39;49m\u001b[43murl_patterns\u001b[49m):\n\u001b[1;32m    544\u001b[0m     p_pattern \u001b[38;5;241m=\u001b[39m url_pattern\u001b[38;5;241m.\u001b[39mpattern\u001b[38;5;241m.\u001b[39mregex\u001b[38;5;241m.\u001b[39mpattern\n\u001b[1;32m    545\u001b[0m     \u001b[38;5;28;01mif\u001b[39;00m p_pattern\u001b[38;5;241m.\u001b[39mstartswith(\u001b[38;5;124m\"\u001b[39m\u001b[38;5;124m^\u001b[39m\u001b[38;5;124m\"\u001b[39m):\n",
      "File \u001b[0;32m~/.virtualenvs/pp/lib/python3.11/site-packages/django/utils/functional.py:57\u001b[0m, in \u001b[0;36mcached_property.__get__\u001b[0;34m(self, instance, cls)\u001b[0m\n\u001b[1;32m     55\u001b[0m \u001b[38;5;28;01mif\u001b[39;00m instance \u001b[38;5;129;01mis\u001b[39;00m \u001b[38;5;28;01mNone\u001b[39;00m:\n\u001b[1;32m     56\u001b[0m     \u001b[38;5;28;01mreturn\u001b[39;00m \u001b[38;5;28mself\u001b[39m\n\u001b[0;32m---> 57\u001b[0m res \u001b[38;5;241m=\u001b[39m instance\u001b[38;5;241m.\u001b[39m\u001b[38;5;18m__dict__\u001b[39m[\u001b[38;5;28mself\u001b[39m\u001b[38;5;241m.\u001b[39mname] \u001b[38;5;241m=\u001b[39m \u001b[38;5;28;43mself\u001b[39;49m\u001b[38;5;241;43m.\u001b[39;49m\u001b[43mfunc\u001b[49m\u001b[43m(\u001b[49m\u001b[43minstance\u001b[49m\u001b[43m)\u001b[49m\n\u001b[1;32m     58\u001b[0m \u001b[38;5;28;01mreturn\u001b[39;00m res\n",
      "File \u001b[0;32m~/.virtualenvs/pp/lib/python3.11/site-packages/django/urls/resolvers.py:715\u001b[0m, in \u001b[0;36mURLResolver.url_patterns\u001b[0;34m(self)\u001b[0m\n\u001b[1;32m    712\u001b[0m \u001b[38;5;129m@cached_property\u001b[39m\n\u001b[1;32m    713\u001b[0m \u001b[38;5;28;01mdef\u001b[39;00m \u001b[38;5;21murl_patterns\u001b[39m(\u001b[38;5;28mself\u001b[39m):\n\u001b[1;32m    714\u001b[0m     \u001b[38;5;66;03m# urlconf_module might be a valid set of patterns, so we default to it\u001b[39;00m\n\u001b[0;32m--> 715\u001b[0m     patterns \u001b[38;5;241m=\u001b[39m \u001b[38;5;28mgetattr\u001b[39m(\u001b[38;5;28;43mself\u001b[39;49m\u001b[38;5;241;43m.\u001b[39;49m\u001b[43murlconf_module\u001b[49m, \u001b[38;5;124m\"\u001b[39m\u001b[38;5;124murlpatterns\u001b[39m\u001b[38;5;124m\"\u001b[39m, \u001b[38;5;28mself\u001b[39m\u001b[38;5;241m.\u001b[39murlconf_module)\n\u001b[1;32m    716\u001b[0m     \u001b[38;5;28;01mtry\u001b[39;00m:\n\u001b[1;32m    717\u001b[0m         \u001b[38;5;28miter\u001b[39m(patterns)\n",
      "File \u001b[0;32m~/.virtualenvs/pp/lib/python3.11/site-packages/django/utils/functional.py:57\u001b[0m, in \u001b[0;36mcached_property.__get__\u001b[0;34m(self, instance, cls)\u001b[0m\n\u001b[1;32m     55\u001b[0m \u001b[38;5;28;01mif\u001b[39;00m instance \u001b[38;5;129;01mis\u001b[39;00m \u001b[38;5;28;01mNone\u001b[39;00m:\n\u001b[1;32m     56\u001b[0m     \u001b[38;5;28;01mreturn\u001b[39;00m \u001b[38;5;28mself\u001b[39m\n\u001b[0;32m---> 57\u001b[0m res \u001b[38;5;241m=\u001b[39m instance\u001b[38;5;241m.\u001b[39m\u001b[38;5;18m__dict__\u001b[39m[\u001b[38;5;28mself\u001b[39m\u001b[38;5;241m.\u001b[39mname] \u001b[38;5;241m=\u001b[39m \u001b[38;5;28;43mself\u001b[39;49m\u001b[38;5;241;43m.\u001b[39;49m\u001b[43mfunc\u001b[49m\u001b[43m(\u001b[49m\u001b[43minstance\u001b[49m\u001b[43m)\u001b[49m\n\u001b[1;32m     58\u001b[0m \u001b[38;5;28;01mreturn\u001b[39;00m res\n",
      "File \u001b[0;32m~/.virtualenvs/pp/lib/python3.11/site-packages/django/urls/resolvers.py:708\u001b[0m, in \u001b[0;36mURLResolver.urlconf_module\u001b[0;34m(self)\u001b[0m\n\u001b[1;32m    705\u001b[0m \u001b[38;5;129m@cached_property\u001b[39m\n\u001b[1;32m    706\u001b[0m \u001b[38;5;28;01mdef\u001b[39;00m \u001b[38;5;21murlconf_module\u001b[39m(\u001b[38;5;28mself\u001b[39m):\n\u001b[1;32m    707\u001b[0m     \u001b[38;5;28;01mif\u001b[39;00m \u001b[38;5;28misinstance\u001b[39m(\u001b[38;5;28mself\u001b[39m\u001b[38;5;241m.\u001b[39murlconf_name, \u001b[38;5;28mstr\u001b[39m):\n\u001b[0;32m--> 708\u001b[0m         \u001b[38;5;28;01mreturn\u001b[39;00m \u001b[43mimport_module\u001b[49m\u001b[43m(\u001b[49m\u001b[38;5;28;43mself\u001b[39;49m\u001b[38;5;241;43m.\u001b[39;49m\u001b[43murlconf_name\u001b[49m\u001b[43m)\u001b[49m\n\u001b[1;32m    709\u001b[0m     \u001b[38;5;28;01melse\u001b[39;00m:\n\u001b[1;32m    710\u001b[0m         \u001b[38;5;28;01mreturn\u001b[39;00m \u001b[38;5;28mself\u001b[39m\u001b[38;5;241m.\u001b[39murlconf_name\n",
      "File \u001b[0;32m~/.pyenv/versions/3.11.1/lib/python3.11/importlib/__init__.py:126\u001b[0m, in \u001b[0;36mimport_module\u001b[0;34m(name, package)\u001b[0m\n\u001b[1;32m    124\u001b[0m             \u001b[38;5;28;01mbreak\u001b[39;00m\n\u001b[1;32m    125\u001b[0m         level \u001b[38;5;241m+\u001b[39m\u001b[38;5;241m=\u001b[39m \u001b[38;5;241m1\u001b[39m\n\u001b[0;32m--> 126\u001b[0m \u001b[38;5;28;01mreturn\u001b[39;00m \u001b[43m_bootstrap\u001b[49m\u001b[38;5;241;43m.\u001b[39;49m\u001b[43m_gcd_import\u001b[49m\u001b[43m(\u001b[49m\u001b[43mname\u001b[49m\u001b[43m[\u001b[49m\u001b[43mlevel\u001b[49m\u001b[43m:\u001b[49m\u001b[43m]\u001b[49m\u001b[43m,\u001b[49m\u001b[43m \u001b[49m\u001b[43mpackage\u001b[49m\u001b[43m,\u001b[49m\u001b[43m \u001b[49m\u001b[43mlevel\u001b[49m\u001b[43m)\u001b[49m\n",
      "File \u001b[0;32m<frozen importlib._bootstrap>:1206\u001b[0m, in \u001b[0;36m_gcd_import\u001b[0;34m(name, package, level)\u001b[0m\n",
      "File \u001b[0;32m<frozen importlib._bootstrap>:1178\u001b[0m, in \u001b[0;36m_find_and_load\u001b[0;34m(name, import_)\u001b[0m\n",
      "File \u001b[0;32m<frozen importlib._bootstrap>:1149\u001b[0m, in \u001b[0;36m_find_and_load_unlocked\u001b[0;34m(name, import_)\u001b[0m\n",
      "File \u001b[0;32m<frozen importlib._bootstrap>:690\u001b[0m, in \u001b[0;36m_load_unlocked\u001b[0;34m(spec)\u001b[0m\n",
      "File \u001b[0;32m<frozen importlib._bootstrap_external>:940\u001b[0m, in \u001b[0;36mexec_module\u001b[0;34m(self, module)\u001b[0m\n",
      "File \u001b[0;32m<frozen importlib._bootstrap>:241\u001b[0m, in \u001b[0;36m_call_with_frames_removed\u001b[0;34m(f, *args, **kwds)\u001b[0m\n",
      "File \u001b[0;32m~/projects/python-podcast/config/urls.py:52\u001b[0m\n\u001b[1;32m     14\u001b[0m \u001b[38;5;66;03m# openapi endpoint broken for wagtail until this is fixed:\u001b[39;00m\n\u001b[1;32m     15\u001b[0m \u001b[38;5;66;03m# https://github.com/wagtail/wagtail/issues/8583\u001b[39;00m\n\u001b[1;32m     16\u001b[0m PagesAPIViewSet\u001b[38;5;241m.\u001b[39mschema \u001b[38;5;241m=\u001b[39m \u001b[38;5;28;01mNone\u001b[39;00m\n\u001b[1;32m     19\u001b[0m urlpatterns \u001b[38;5;241m=\u001b[39m [\n\u001b[1;32m     20\u001b[0m     \u001b[38;5;66;03m# path(\"\", TemplateView.as_view(template_name=\"pages/home.html\"), name=\"home\"),\u001b[39;00m\n\u001b[1;32m     21\u001b[0m     path(\u001b[38;5;124m\"\u001b[39m\u001b[38;5;124m\"\u001b[39m, RedirectView\u001b[38;5;241m.\u001b[39mas_view(url\u001b[38;5;241m=\u001b[39m\u001b[38;5;124m\"\u001b[39m\u001b[38;5;124m/show\u001b[39m\u001b[38;5;124m\"\u001b[39m), name\u001b[38;5;241m=\u001b[39m\u001b[38;5;124m\"\u001b[39m\u001b[38;5;124mhome\u001b[39m\u001b[38;5;124m\"\u001b[39m),\n\u001b[1;32m     22\u001b[0m     path(\n\u001b[1;32m     23\u001b[0m         \u001b[38;5;124m\"\u001b[39m\u001b[38;5;124mabout/\u001b[39m\u001b[38;5;124m\"\u001b[39m,\n\u001b[1;32m     24\u001b[0m         TemplateView\u001b[38;5;241m.\u001b[39mas_view(template_name\u001b[38;5;241m=\u001b[39m\u001b[38;5;124m\"\u001b[39m\u001b[38;5;124mpages/about.html\u001b[39m\u001b[38;5;124m\"\u001b[39m),\n\u001b[1;32m     25\u001b[0m         name\u001b[38;5;241m=\u001b[39m\u001b[38;5;124m\"\u001b[39m\u001b[38;5;124mabout\u001b[39m\u001b[38;5;124m\"\u001b[39m,\n\u001b[1;32m     26\u001b[0m     ),\n\u001b[1;32m     27\u001b[0m     path(\n\u001b[1;32m     28\u001b[0m         \u001b[38;5;124m\"\u001b[39m\u001b[38;5;124mdatenschutzerklaerung/\u001b[39m\u001b[38;5;124m\"\u001b[39m,\n\u001b[1;32m     29\u001b[0m         TemplateView\u001b[38;5;241m.\u001b[39mas_view(template_name\u001b[38;5;241m=\u001b[39m\u001b[38;5;124m\"\u001b[39m\u001b[38;5;124mpages/dsgvo.html\u001b[39m\u001b[38;5;124m\"\u001b[39m),\n\u001b[1;32m     30\u001b[0m         name\u001b[38;5;241m=\u001b[39m\u001b[38;5;124m\"\u001b[39m\u001b[38;5;124mdsgvo\u001b[39m\u001b[38;5;124m\"\u001b[39m,\n\u001b[1;32m     31\u001b[0m     ),\n\u001b[1;32m     32\u001b[0m     path(\n\u001b[1;32m     33\u001b[0m         \u001b[38;5;124m\"\u001b[39m\u001b[38;5;124mimpressum/\u001b[39m\u001b[38;5;124m\"\u001b[39m,\n\u001b[1;32m     34\u001b[0m         TemplateView\u001b[38;5;241m.\u001b[39mas_view(template_name\u001b[38;5;241m=\u001b[39m\u001b[38;5;124m\"\u001b[39m\u001b[38;5;124mpages/impressum.html\u001b[39m\u001b[38;5;124m\"\u001b[39m),\n\u001b[1;32m     35\u001b[0m         name\u001b[38;5;241m=\u001b[39m\u001b[38;5;124m\"\u001b[39m\u001b[38;5;124mimpressum\u001b[39m\u001b[38;5;124m\"\u001b[39m,\n\u001b[1;32m     36\u001b[0m     ),\n\u001b[1;32m     37\u001b[0m     \u001b[38;5;66;03m# Django Admin, use {% url 'admin:index' %}\u001b[39;00m\n\u001b[1;32m     38\u001b[0m     path(settings\u001b[38;5;241m.\u001b[39mADMIN_URL, admin\u001b[38;5;241m.\u001b[39msite\u001b[38;5;241m.\u001b[39murls),\n\u001b[1;32m     39\u001b[0m     \u001b[38;5;66;03m# User management\u001b[39;00m\n\u001b[1;32m     40\u001b[0m     path(\n\u001b[1;32m     41\u001b[0m         \u001b[38;5;124m\"\u001b[39m\u001b[38;5;124musers/\u001b[39m\u001b[38;5;124m\"\u001b[39m,\n\u001b[1;32m     42\u001b[0m         include(\u001b[38;5;124m\"\u001b[39m\u001b[38;5;124mpython_podcast.users.urls\u001b[39m\u001b[38;5;124m\"\u001b[39m, namespace\u001b[38;5;241m=\u001b[39m\u001b[38;5;124m\"\u001b[39m\u001b[38;5;124musers\u001b[39m\u001b[38;5;124m\"\u001b[39m),\n\u001b[1;32m     43\u001b[0m     ),\n\u001b[1;32m     44\u001b[0m     path(\u001b[38;5;124m\"\u001b[39m\u001b[38;5;124maccounts/\u001b[39m\u001b[38;5;124m\"\u001b[39m, include(\u001b[38;5;124m\"\u001b[39m\u001b[38;5;124mallauth.urls\u001b[39m\u001b[38;5;124m\"\u001b[39m)),\n\u001b[1;32m     45\u001b[0m     \u001b[38;5;66;03m# Your stuff: custom urls includes go here\u001b[39;00m\n\u001b[1;32m     46\u001b[0m     \u001b[38;5;66;03m# Threadedcomments\u001b[39;00m\n\u001b[1;32m     47\u001b[0m     path(\u001b[38;5;124m\"\u001b[39m\u001b[38;5;124mshow/comments/\u001b[39m\u001b[38;5;124m\"\u001b[39m, include(\u001b[38;5;124m\"\u001b[39m\u001b[38;5;124mfluent_comments.urls\u001b[39m\u001b[38;5;124m\"\u001b[39m)),\n\u001b[1;32m     48\u001b[0m     \u001b[38;5;66;03m# rest\u001b[39;00m\n\u001b[1;32m     49\u001b[0m     path(\u001b[38;5;124m\"\u001b[39m\u001b[38;5;124mapi/api-token-auth/\u001b[39m\u001b[38;5;124m\"\u001b[39m, authtokenviews\u001b[38;5;241m.\u001b[39mobtain_auth_token),\n\u001b[1;32m     50\u001b[0m     path(\u001b[38;5;124m\"\u001b[39m\u001b[38;5;124mdocs/\u001b[39m\u001b[38;5;124m\"\u001b[39m, include_docs_urls(title\u001b[38;5;241m=\u001b[39m\u001b[38;5;124m\"\u001b[39m\u001b[38;5;124mAPI service\u001b[39m\u001b[38;5;124m\"\u001b[39m, public\u001b[38;5;241m=\u001b[39m\u001b[38;5;28;01mFalse\u001b[39;00m)),\n\u001b[1;32m     51\u001b[0m     \u001b[38;5;66;03m# Cast\u001b[39;00m\n\u001b[0;32m---> 52\u001b[0m     path(\u001b[38;5;124m\"\u001b[39m\u001b[38;5;124m\"\u001b[39m, \u001b[43minclude\u001b[49m\u001b[43m(\u001b[49m\u001b[38;5;124;43m\"\u001b[39;49m\u001b[38;5;124;43mcast.urls\u001b[39;49m\u001b[38;5;124;43m\"\u001b[39;49m\u001b[43m,\u001b[49m\u001b[43m \u001b[49m\u001b[43mnamespace\u001b[49m\u001b[38;5;241;43m=\u001b[39;49m\u001b[38;5;124;43m\"\u001b[39;49m\u001b[38;5;124;43mcast\u001b[39;49m\u001b[38;5;124;43m\"\u001b[39;49m\u001b[43m)\u001b[49m),\n\u001b[1;32m     53\u001b[0m     \u001b[38;5;66;03m# Fediverse redirects etc.\u001b[39;00m\n\u001b[1;32m     54\u001b[0m     path(\u001b[38;5;124m\"\u001b[39m\u001b[38;5;124m\"\u001b[39m, include(\u001b[38;5;124m\"\u001b[39m\u001b[38;5;124mpython_podcast.fedi.urls\u001b[39m\u001b[38;5;124m\"\u001b[39m, namespace\u001b[38;5;241m=\u001b[39m\u001b[38;5;124m\"\u001b[39m\u001b[38;5;124mfedi\u001b[39m\u001b[38;5;124m\"\u001b[39m)),\n\u001b[1;32m     55\u001b[0m     \u001b[38;5;66;03m# Wagtail\u001b[39;00m\n\u001b[1;32m     56\u001b[0m     path(settings\u001b[38;5;241m.\u001b[39mWAGTAILADMIN_BASE_URL, include(wagtailadmin_urls)),\n\u001b[1;32m     57\u001b[0m     path(\u001b[38;5;124m\"\u001b[39m\u001b[38;5;124mdocuments/\u001b[39m\u001b[38;5;124m\"\u001b[39m, include(wagtaildocs_urls)),\n\u001b[1;32m     58\u001b[0m     path(\u001b[38;5;124m\"\u001b[39m\u001b[38;5;124m\"\u001b[39m, include(wagtail_urls)),  \u001b[38;5;66;03m# default is wagtail\u001b[39;00m\n\u001b[1;32m     59\u001b[0m ] \u001b[38;5;241m+\u001b[39m static(settings\u001b[38;5;241m.\u001b[39mMEDIA_URL, document_root\u001b[38;5;241m=\u001b[39msettings\u001b[38;5;241m.\u001b[39mMEDIA_ROOT)\n\u001b[1;32m     62\u001b[0m \u001b[38;5;28;01mif\u001b[39;00m settings\u001b[38;5;241m.\u001b[39mDEBUG:\n\u001b[1;32m     63\u001b[0m     \u001b[38;5;66;03m# This allows the error pages to be debugged during development, just visit\u001b[39;00m\n\u001b[1;32m     64\u001b[0m     \u001b[38;5;66;03m# these url in browser to see how these error pages look like.\u001b[39;00m\n\u001b[1;32m     65\u001b[0m     urlpatterns \u001b[38;5;241m+\u001b[39m\u001b[38;5;241m=\u001b[39m [\n\u001b[1;32m     66\u001b[0m         path(\n\u001b[1;32m     67\u001b[0m             \u001b[38;5;124m\"\u001b[39m\u001b[38;5;124m400/\u001b[39m\u001b[38;5;124m\"\u001b[39m,\n\u001b[0;32m   (...)\u001b[0m\n\u001b[1;32m     81\u001b[0m         path(\u001b[38;5;124m\"\u001b[39m\u001b[38;5;124m500/\u001b[39m\u001b[38;5;124m\"\u001b[39m, default_views\u001b[38;5;241m.\u001b[39mserver_error),\n\u001b[1;32m     82\u001b[0m     ]\n",
      "File \u001b[0;32m~/.virtualenvs/pp/lib/python3.11/site-packages/django/urls/conf.py:38\u001b[0m, in \u001b[0;36minclude\u001b[0;34m(arg, namespace)\u001b[0m\n\u001b[1;32m     35\u001b[0m     urlconf_module \u001b[38;5;241m=\u001b[39m arg\n\u001b[1;32m     37\u001b[0m \u001b[38;5;28;01mif\u001b[39;00m \u001b[38;5;28misinstance\u001b[39m(urlconf_module, \u001b[38;5;28mstr\u001b[39m):\n\u001b[0;32m---> 38\u001b[0m     urlconf_module \u001b[38;5;241m=\u001b[39m \u001b[43mimport_module\u001b[49m\u001b[43m(\u001b[49m\u001b[43murlconf_module\u001b[49m\u001b[43m)\u001b[49m\n\u001b[1;32m     39\u001b[0m patterns \u001b[38;5;241m=\u001b[39m \u001b[38;5;28mgetattr\u001b[39m(urlconf_module, \u001b[38;5;124m\"\u001b[39m\u001b[38;5;124murlpatterns\u001b[39m\u001b[38;5;124m\"\u001b[39m, urlconf_module)\n\u001b[1;32m     40\u001b[0m app_name \u001b[38;5;241m=\u001b[39m \u001b[38;5;28mgetattr\u001b[39m(urlconf_module, \u001b[38;5;124m\"\u001b[39m\u001b[38;5;124mapp_name\u001b[39m\u001b[38;5;124m\"\u001b[39m, app_name)\n",
      "File \u001b[0;32m~/.pyenv/versions/3.11.1/lib/python3.11/importlib/__init__.py:126\u001b[0m, in \u001b[0;36mimport_module\u001b[0;34m(name, package)\u001b[0m\n\u001b[1;32m    124\u001b[0m             \u001b[38;5;28;01mbreak\u001b[39;00m\n\u001b[1;32m    125\u001b[0m         level \u001b[38;5;241m+\u001b[39m\u001b[38;5;241m=\u001b[39m \u001b[38;5;241m1\u001b[39m\n\u001b[0;32m--> 126\u001b[0m \u001b[38;5;28;01mreturn\u001b[39;00m \u001b[43m_bootstrap\u001b[49m\u001b[38;5;241;43m.\u001b[39;49m\u001b[43m_gcd_import\u001b[49m\u001b[43m(\u001b[49m\u001b[43mname\u001b[49m\u001b[43m[\u001b[49m\u001b[43mlevel\u001b[49m\u001b[43m:\u001b[49m\u001b[43m]\u001b[49m\u001b[43m,\u001b[49m\u001b[43m \u001b[49m\u001b[43mpackage\u001b[49m\u001b[43m,\u001b[49m\u001b[43m \u001b[49m\u001b[43mlevel\u001b[49m\u001b[43m)\u001b[49m\n",
      "File \u001b[0;32m<frozen importlib._bootstrap>:1206\u001b[0m, in \u001b[0;36m_gcd_import\u001b[0;34m(name, package, level)\u001b[0m\n",
      "File \u001b[0;32m<frozen importlib._bootstrap>:1178\u001b[0m, in \u001b[0;36m_find_and_load\u001b[0;34m(name, import_)\u001b[0m\n",
      "File \u001b[0;32m<frozen importlib._bootstrap>:1149\u001b[0m, in \u001b[0;36m_find_and_load_unlocked\u001b[0;34m(name, import_)\u001b[0m\n",
      "File \u001b[0;32m<frozen importlib._bootstrap>:690\u001b[0m, in \u001b[0;36m_load_unlocked\u001b[0;34m(spec)\u001b[0m\n",
      "File \u001b[0;32m<frozen importlib._bootstrap_external>:940\u001b[0m, in \u001b[0;36mexec_module\u001b[0;34m(self, module)\u001b[0m\n",
      "File \u001b[0;32m<frozen importlib._bootstrap>:241\u001b[0m, in \u001b[0;36m_call_with_frames_removed\u001b[0;34m(f, *args, **kwds)\u001b[0m\n",
      "File \u001b[0;32m~/.virtualenvs/pp/lib/python3.11/site-packages/cast/urls.py:29\u001b[0m\n\u001b[1;32m      5\u001b[0m \u001b[38;5;28;01mfrom\u001b[39;00m \u001b[38;5;21;01m.\u001b[39;00m \u001b[38;5;28;01mimport\u001b[39;00m feeds\n\u001b[1;32m      7\u001b[0m app_name \u001b[38;5;241m=\u001b[39m \u001b[38;5;124m\"\u001b[39m\u001b[38;5;124mcast\u001b[39m\u001b[38;5;124m\"\u001b[39m\n\u001b[1;32m      8\u001b[0m urlpatterns \u001b[38;5;241m=\u001b[39m [\n\u001b[1;32m      9\u001b[0m     \u001b[38;5;66;03m# API\u001b[39;00m\n\u001b[1;32m     10\u001b[0m     \u001b[38;5;66;03m# url(r\"^api/\", include(\"cast.api.urls\", namespace=\"api\")),\u001b[39;00m\n\u001b[1;32m     11\u001b[0m     path(\u001b[38;5;124m\"\u001b[39m\u001b[38;5;124mapi/\u001b[39m\u001b[38;5;124m\"\u001b[39m, include(\u001b[38;5;124m\"\u001b[39m\u001b[38;5;124mcast.api.urls\u001b[39m\u001b[38;5;124m\"\u001b[39m, namespace\u001b[38;5;241m=\u001b[39m\u001b[38;5;124m\"\u001b[39m\u001b[38;5;124mapi\u001b[39m\u001b[38;5;124m\"\u001b[39m)),\n\u001b[1;32m     12\u001b[0m     \u001b[38;5;66;03m# Feeds\u001b[39;00m\n\u001b[1;32m     13\u001b[0m     path(\n\u001b[1;32m     14\u001b[0m         \u001b[38;5;124m\"\u001b[39m\u001b[38;5;124m<slug:slug>/feed/rss.xml\u001b[39m\u001b[38;5;124m\"\u001b[39m,\n\u001b[1;32m     15\u001b[0m         view\u001b[38;5;241m=\u001b[39mcache_page(\u001b[38;5;241m5\u001b[39m \u001b[38;5;241m*\u001b[39m \u001b[38;5;241m60\u001b[39m)(feeds\u001b[38;5;241m.\u001b[39mLatestEntriesFeed()),\n\u001b[1;32m     16\u001b[0m         name\u001b[38;5;241m=\u001b[39m\u001b[38;5;124m\"\u001b[39m\u001b[38;5;124mlatest_entries_feed\u001b[39m\u001b[38;5;124m\"\u001b[39m,\n\u001b[1;32m     17\u001b[0m     ),\n\u001b[1;32m     18\u001b[0m     path(\n\u001b[1;32m     19\u001b[0m         \u001b[38;5;124m\"\u001b[39m\u001b[38;5;124m<slug:slug>/feed/podcast/<audio_format>/rss.xml\u001b[39m\u001b[38;5;124m\"\u001b[39m,\n\u001b[1;32m     20\u001b[0m         view\u001b[38;5;241m=\u001b[39mcache_page(\u001b[38;5;241m5\u001b[39m \u001b[38;5;241m*\u001b[39m \u001b[38;5;241m60\u001b[39m)(feeds\u001b[38;5;241m.\u001b[39mRssPodcastFeed()),\n\u001b[1;32m     21\u001b[0m         name\u001b[38;5;241m=\u001b[39m\u001b[38;5;124m\"\u001b[39m\u001b[38;5;124mpodcast_feed_rss\u001b[39m\u001b[38;5;124m\"\u001b[39m,\n\u001b[1;32m     22\u001b[0m     ),\n\u001b[1;32m     23\u001b[0m     path(\n\u001b[1;32m     24\u001b[0m         \u001b[38;5;124m\"\u001b[39m\u001b[38;5;124m<slug:slug>/feed/podcast/<audio_format>/atom.xml\u001b[39m\u001b[38;5;124m\"\u001b[39m,\n\u001b[1;32m     25\u001b[0m         view\u001b[38;5;241m=\u001b[39mcache_page(\u001b[38;5;241m5\u001b[39m \u001b[38;5;241m*\u001b[39m \u001b[38;5;241m60\u001b[39m)(feeds\u001b[38;5;241m.\u001b[39mAtomPodcastFeed()),\n\u001b[1;32m     26\u001b[0m         name\u001b[38;5;241m=\u001b[39m\u001b[38;5;124m\"\u001b[39m\u001b[38;5;124mpodcast_feed_atom\u001b[39m\u001b[38;5;124m\"\u001b[39m,\n\u001b[1;32m     27\u001b[0m     ),\n\u001b[1;32m     28\u001b[0m     \u001b[38;5;66;03m# Meta views like twitter player cards etc\u001b[39;00m\n\u001b[0;32m---> 29\u001b[0m     \u001b[43mpath\u001b[49m\u001b[43m(\u001b[49m\u001b[38;5;124;43m\"\u001b[39;49m\u001b[38;5;124;43m<blog_slug:slug>/<slug:slug>/twitter-player/\u001b[39;49m\u001b[38;5;124;43m\"\u001b[39;49m\u001b[43m,\u001b[49m\u001b[43m \u001b[49m\u001b[43mview\u001b[49m\u001b[38;5;241;43m=\u001b[39;49m\u001b[43mmeta\u001b[49m\u001b[38;5;241;43m.\u001b[39;49m\u001b[43mtwitter_player\u001b[49m\u001b[43m,\u001b[49m\u001b[43m \u001b[49m\u001b[43mname\u001b[49m\u001b[38;5;241;43m=\u001b[39;49m\u001b[38;5;124;43m\"\u001b[39;49m\u001b[38;5;124;43mtwitter-player\u001b[39;49m\u001b[38;5;124;43m\"\u001b[39;49m\u001b[43m)\u001b[49m,\n\u001b[1;32m     30\u001b[0m ]\n",
      "File \u001b[0;32m~/.virtualenvs/pp/lib/python3.11/site-packages/django/urls/conf.py:80\u001b[0m, in \u001b[0;36m_path\u001b[0;34m(route, view, kwargs, name, Pattern)\u001b[0m\n\u001b[1;32m     72\u001b[0m     \u001b[38;5;28;01mreturn\u001b[39;00m URLResolver(\n\u001b[1;32m     73\u001b[0m         pattern,\n\u001b[1;32m     74\u001b[0m         urlconf_module,\n\u001b[0;32m   (...)\u001b[0m\n\u001b[1;32m     77\u001b[0m         namespace\u001b[38;5;241m=\u001b[39mnamespace,\n\u001b[1;32m     78\u001b[0m     )\n\u001b[1;32m     79\u001b[0m \u001b[38;5;28;01melif\u001b[39;00m callable(view):\n\u001b[0;32m---> 80\u001b[0m     pattern \u001b[38;5;241m=\u001b[39m \u001b[43mPattern\u001b[49m\u001b[43m(\u001b[49m\u001b[43mroute\u001b[49m\u001b[43m,\u001b[49m\u001b[43m \u001b[49m\u001b[43mname\u001b[49m\u001b[38;5;241;43m=\u001b[39;49m\u001b[43mname\u001b[49m\u001b[43m,\u001b[49m\u001b[43m \u001b[49m\u001b[43mis_endpoint\u001b[49m\u001b[38;5;241;43m=\u001b[39;49m\u001b[38;5;28;43;01mTrue\u001b[39;49;00m\u001b[43m)\u001b[49m\n\u001b[1;32m     81\u001b[0m     \u001b[38;5;28;01mreturn\u001b[39;00m URLPattern(pattern, view, kwargs, name)\n\u001b[1;32m     82\u001b[0m \u001b[38;5;28;01melif\u001b[39;00m \u001b[38;5;28misinstance\u001b[39m(view, View):\n",
      "File \u001b[0;32m~/.virtualenvs/pp/lib/python3.11/site-packages/django/urls/resolvers.py:304\u001b[0m, in \u001b[0;36mRoutePattern.__init__\u001b[0;34m(self, route, name, is_endpoint)\u001b[0m\n\u001b[1;32m    302\u001b[0m \u001b[38;5;28mself\u001b[39m\u001b[38;5;241m.\u001b[39m_is_endpoint \u001b[38;5;241m=\u001b[39m is_endpoint\n\u001b[1;32m    303\u001b[0m \u001b[38;5;28mself\u001b[39m\u001b[38;5;241m.\u001b[39mname \u001b[38;5;241m=\u001b[39m name\n\u001b[0;32m--> 304\u001b[0m \u001b[38;5;28mself\u001b[39m\u001b[38;5;241m.\u001b[39mconverters \u001b[38;5;241m=\u001b[39m \u001b[43m_route_to_regex\u001b[49m\u001b[43m(\u001b[49m\u001b[38;5;28;43mstr\u001b[39;49m\u001b[43m(\u001b[49m\u001b[43mroute\u001b[49m\u001b[43m)\u001b[49m\u001b[43m,\u001b[49m\u001b[43m \u001b[49m\u001b[43mis_endpoint\u001b[49m\u001b[43m)\u001b[49m[\u001b[38;5;241m1\u001b[39m]\n",
      "File \u001b[0;32m~/.virtualenvs/pp/lib/python3.11/site-packages/django/urls/resolvers.py:285\u001b[0m, in \u001b[0;36m_route_to_regex\u001b[0;34m(route, is_endpoint)\u001b[0m\n\u001b[1;32m    283\u001b[0m     converter \u001b[38;5;241m=\u001b[39m get_converter(raw_converter)\n\u001b[1;32m    284\u001b[0m \u001b[38;5;28;01mexcept\u001b[39;00m \u001b[38;5;167;01mKeyError\u001b[39;00m \u001b[38;5;28;01mas\u001b[39;00m e:\n\u001b[0;32m--> 285\u001b[0m     \u001b[38;5;28;01mraise\u001b[39;00m ImproperlyConfigured(\n\u001b[1;32m    286\u001b[0m         \u001b[38;5;124m\"\u001b[39m\u001b[38;5;124mURL route \u001b[39m\u001b[38;5;132;01m%r\u001b[39;00m\u001b[38;5;124m uses invalid converter \u001b[39m\u001b[38;5;132;01m%r\u001b[39;00m\u001b[38;5;124m.\u001b[39m\u001b[38;5;124m\"\u001b[39m\n\u001b[1;32m    287\u001b[0m         \u001b[38;5;241m%\u001b[39m (original_route, raw_converter)\n\u001b[1;32m    288\u001b[0m     ) \u001b[38;5;28;01mfrom\u001b[39;00m \u001b[38;5;21;01me\u001b[39;00m\n\u001b[1;32m    289\u001b[0m converters[parameter] \u001b[38;5;241m=\u001b[39m converter\n\u001b[1;32m    290\u001b[0m parts\u001b[38;5;241m.\u001b[39mappend(\u001b[38;5;124m\"\u001b[39m\u001b[38;5;124m(?P<\u001b[39m\u001b[38;5;124m\"\u001b[39m \u001b[38;5;241m+\u001b[39m parameter \u001b[38;5;241m+\u001b[39m \u001b[38;5;124m\"\u001b[39m\u001b[38;5;124m>\u001b[39m\u001b[38;5;124m\"\u001b[39m \u001b[38;5;241m+\u001b[39m converter\u001b[38;5;241m.\u001b[39mregex \u001b[38;5;241m+\u001b[39m \u001b[38;5;124m\"\u001b[39m\u001b[38;5;124m)\u001b[39m\u001b[38;5;124m\"\u001b[39m)\n",
      "\u001b[0;31mImproperlyConfigured\u001b[0m: URL route '<blog_slug:slug>/<slug:slug>/twitter-player/' uses invalid converter 'blog_slug'."
     ]
    }
   ],
   "source": [
    "reverse(\"cast:twitter-player\", kwargs={\"blog_slug\": episode.blog.slug, \"slug\": episode.slug})"
   ]
  },
  {
   "cell_type": "code",
   "execution_count": 4,
   "id": "6bd2b281-d303-4ab6-838c-0d9ee4a19fca",
   "metadata": {},
   "outputs": [
    {
     "data": {
      "text/plain": [
       "'show'"
      ]
     },
     "execution_count": 4,
     "metadata": {},
     "output_type": "execute_result"
    }
   ],
   "source": [
    "episode.blog.slug"
   ]
  },
  {
   "cell_type": "code",
   "execution_count": null,
   "id": "ec79bf57-4360-443c-adb7-621d89cda313",
   "metadata": {},
   "outputs": [],
   "source": []
  }
 ],
 "metadata": {
  "kernelspec": {
   "display_name": "Django Kernel",
   "language": "python",
   "name": "django_extensions"
  },
  "language_info": {
   "codemirror_mode": {
    "name": "ipython",
    "version": 3
   },
   "file_extension": ".py",
   "mimetype": "text/x-python",
   "name": "python",
   "nbconvert_exporter": "python",
   "pygments_lexer": "ipython3",
   "version": "3.11.1"
  }
 },
 "nbformat": 4,
 "nbformat_minor": 5
}
