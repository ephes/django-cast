{
 "cells": [
  {
   "cell_type": "code",
   "execution_count": 34,
   "id": "a941e532",
   "metadata": {},
   "outputs": [],
   "source": [
    "from pathlib import Path\n",
    "\n",
    "from cast.moderation import Moderator\n",
    "from cast.models.moderation import NaiveBayes"
   ]
  },
  {
   "cell_type": "code",
   "execution_count": 14,
   "id": "0835cd74",
   "metadata": {},
   "outputs": [
    {
     "data": {
      "text/plain": [
       "<QuerySet [<SpamFilter: SpamFilter object (1)>]>"
      ]
     },
     "execution_count": 14,
     "metadata": {},
     "output_type": "execute_result"
    }
   ],
   "source": [
    "SpamFilter.objects.all()"
   ]
  },
  {
   "cell_type": "code",
   "execution_count": 6,
   "id": "e08eb87e",
   "metadata": {},
   "outputs": [],
   "source": [
    "sm = SpamFilter(name=\"naive bayes\")\n",
    "sm.save()"
   ]
  },
  {
   "cell_type": "code",
   "execution_count": 8,
   "id": "a02e6306",
   "metadata": {},
   "outputs": [],
   "source": [
    "sm.retrain_from_scratch()"
   ]
  },
  {
   "cell_type": "code",
   "execution_count": 10,
   "id": "011bdbd4",
   "metadata": {},
   "outputs": [
    {
     "ename": "TypeError",
     "evalue": "Moderator.__init__() missing 1 required positional argument: 'model'",
     "output_type": "error",
     "traceback": [
      "\u001b[0;31m---------------------------------------------------------------------------\u001b[0m",
      "\u001b[0;31mTypeError\u001b[0m                                 Traceback (most recent call last)",
      "Cell \u001b[0;32mIn[10], line 1\u001b[0m\n\u001b[0;32m----> 1\u001b[0m mod \u001b[38;5;241m=\u001b[39m \u001b[43mModerator\u001b[49m\u001b[43m(\u001b[49m\u001b[43mspamfilter\u001b[49m\u001b[38;5;241;43m=\u001b[39;49m\u001b[43msm\u001b[49m\u001b[43m)\u001b[49m\n",
      "\u001b[0;31mTypeError\u001b[0m: Moderator.__init__() missing 1 required positional argument: 'model'"
     ]
    }
   ],
   "source": [
    "mod = Moderator(spamfilter=sm)"
   ]
  },
  {
   "cell_type": "code",
   "execution_count": 15,
   "id": "e95c5d0a",
   "metadata": {},
   "outputs": [
    {
     "data": {
      "text/plain": [
       "<QuerySet []>"
      ]
     },
     "execution_count": 15,
     "metadata": {},
     "output_type": "execute_result"
    }
   ],
   "source": [
    "Comment.objects.all()"
   ]
  },
  {
   "cell_type": "markdown",
   "id": "897fc170",
   "metadata": {},
   "source": [
    "# Load Comments"
   ]
  },
  {
   "cell_type": "code",
   "execution_count": 50,
   "id": "9ac613cc",
   "metadata": {},
   "outputs": [],
   "source": [
    "import json\n",
    "\n",
    "from collections import Counter"
   ]
  },
  {
   "cell_type": "code",
   "execution_count": 24,
   "id": "d7a12f91",
   "metadata": {},
   "outputs": [],
   "source": [
    "with Path(\"comments.json\").open(\"r\") as f:\n",
    "    json_comments = json.load(f)\n",
    "\n",
    "site = Site.objects.first()\n",
    "attrs = [\"name\", \"title\", \"comment\", \"is_public\", \"is_removed\"]\n",
    "comments = []\n",
    "for row in json_comments:\n",
    "    comment = Comment()\n",
    "    for attr in attrs:\n",
    "        setattr(comment, attr, row[attr])\n",
    "    comments.append(comment)"
   ]
  },
  {
   "cell_type": "code",
   "execution_count": 52,
   "id": "75f51318",
   "metadata": {},
   "outputs": [],
   "source": [
    "def get_training_data(comments):\n",
    "    train = []\n",
    "    for comment in comments:\n",
    "        label = \"ham\" if (comment.is_public and not comment.is_removed) else \"spam\"\n",
    "        message = SpamFilter.comment_to_message(comment)\n",
    "        train.append((label, message))\n",
    "    return train"
   ]
  },
  {
   "cell_type": "code",
   "execution_count": 53,
   "id": "e451ef11",
   "metadata": {},
   "outputs": [],
   "source": [
    "train = get_training_data(comments)"
   ]
  },
  {
   "cell_type": "code",
   "execution_count": 55,
   "id": "af40d861",
   "metadata": {},
   "outputs": [
    {
     "name": "stdout",
     "output_type": "stream",
     "text": [
      "CPU times: user 149 ms, sys: 5.07 ms, total: 154 ms\n",
      "Wall time: 153 ms\n"
     ]
    }
   ],
   "source": [
    "%%time\n",
    "model = NaiveBayes().fit(train)"
   ]
  },
  {
   "cell_type": "code",
   "execution_count": 56,
   "id": "e24e0d7d",
   "metadata": {},
   "outputs": [],
   "source": [
    "message = train[-1][-1]"
   ]
  },
  {
   "cell_type": "code",
   "execution_count": 57,
   "id": "5a88a1d5",
   "metadata": {},
   "outputs": [
    {
     "data": {
      "text/plain": [
       "'spam'"
      ]
     },
     "execution_count": 57,
     "metadata": {},
     "output_type": "execute_result"
    }
   ],
   "source": [
    "model.predict_label(message)"
   ]
  },
  {
   "cell_type": "code",
   "execution_count": 58,
   "id": "92999592",
   "metadata": {},
   "outputs": [
    {
     "data": {
      "text/plain": [
       "'Carloslendy  трахнул мать русская порнуха   https://pornuha.pro/  порнуха русская племянники  \\r\\n \\r\\n<img src=\"https://pornuha.pro/picture/Roskoshnaia-koshechka-stimuliruet-pisku-dvumia-vibratorami-i-konchaet.jpg\"> \\r\\n \\r\\n<a href=http://polyptyq.com/hello-world#comment-102343>порнухи русский ру</a>\\r\\n<a href=https://havasuembroidery.com/hello-world/#comment-4251>порнушка аниме геи</a>\\r\\n<a href=http://niwast.sblo.jp/article/186273111.html>порнушка в автобусе</a>\\r\\n<a href=https://mak-elearning.com/hello-world/#comment-3989>порнуха пьяные русские бабы</a>\\r\\n<a href=https://ntrinitarias.com/pfizer-inicia-prueba-de-una-pildora-anticovid/#comment-11217>смотреть онлайн бесплатно порнуха русские мамы</a>\\r\\n<a href=http://martin-wolf-film.de/2014/03/a-shine-co-nyc/#comment-24739>горячая порнуха</a>\\r\\n<a href=https://coppercitydigital.com/8-reasons-to-redesign-your-website/#comment-387>порнушка мужики</a>\\r\\n<a href=http://www.niedertor.it/gaestebuch-en.php>смотреть русские порнуху бесплатно старых</a>\\r\\n<a href=https://www.callgrangers.com/forum/viewtopic.php?t=81490>порнуха ебут русских девушек</a>\\r\\n<a href=http://avaya.newsystems.ru/forum/messages/forum1/topic220347/message1084386/?result=reply#message1084386>смотреть порнушку без</a>\\r\\n 819db9a'"
      ]
     },
     "execution_count": 58,
     "metadata": {},
     "output_type": "execute_result"
    }
   ],
   "source": [
    "message"
   ]
  },
  {
   "cell_type": "code",
   "execution_count": 42,
   "id": "ba55e0b4",
   "metadata": {},
   "outputs": [
    {
     "data": {
      "text/plain": [
       "{'ham': 0.8206452207488063, 'spam': 0.1793547792511937}"
      ]
     },
     "execution_count": 42,
     "metadata": {},
     "output_type": "execute_result"
    }
   ],
   "source": [
    "model.predict(message)"
   ]
  },
  {
   "cell_type": "code",
   "execution_count": 43,
   "id": "e2b75735",
   "metadata": {},
   "outputs": [
    {
     "data": {
      "text/plain": [
       "{'ham': 0.7160349854227406, 'spam': 0.2839650145772595}"
      ]
     },
     "execution_count": 43,
     "metadata": {},
     "output_type": "execute_result"
    }
   ],
   "source": [
    "model.prior_probabilities"
   ]
  },
  {
   "cell_type": "code",
   "execution_count": 47,
   "id": "4969a196",
   "metadata": {},
   "outputs": [
    {
     "ename": "SyntaxError",
     "evalue": "did you forget parentheses around the comprehension target? (503427492.py, line 1)",
     "output_type": "error",
     "traceback": [
      "\u001b[0;36m  Cell \u001b[0;32mIn[47], line 1\u001b[0;36m\u001b[0m\n\u001b[0;31m    [l, m for l, m in train if l == \"ham\"]\u001b[0m\n\u001b[0m     ^\u001b[0m\n\u001b[0;31mSyntaxError\u001b[0m\u001b[0;31m:\u001b[0m did you forget parentheses around the comprehension target?\n"
     ]
    }
   ],
   "source": [
    "[l, m for l, m in train if l == \"ham\"]"
   ]
  },
  {
   "cell_type": "code",
   "execution_count": 54,
   "id": "00d015fc",
   "metadata": {},
   "outputs": [
    {
     "data": {
      "text/plain": [
       "Counter({'ham': 122, 'spam': 1593})"
      ]
     },
     "execution_count": 54,
     "metadata": {},
     "output_type": "execute_result"
    }
   ],
   "source": [
    "Counter([l for l, m in train])"
   ]
  },
  {
   "cell_type": "code",
   "execution_count": null,
   "id": "a2263227",
   "metadata": {},
   "outputs": [],
   "source": []
  }
 ],
 "metadata": {
  "kernelspec": {
   "display_name": "Django Shell-Plus",
   "language": "python",
   "name": "django_extensions"
  },
  "language_info": {
   "codemirror_mode": {
    "name": "ipython",
    "version": 3
   },
   "file_extension": ".py",
   "mimetype": "text/x-python",
   "name": "python",
   "nbconvert_exporter": "python",
   "pygments_lexer": "ipython3",
   "version": "3.11.1"
  }
 },
 "nbformat": 4,
 "nbformat_minor": 5
}
