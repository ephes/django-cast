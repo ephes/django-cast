{
 "cells": [
  {
   "cell_type": "code",
   "execution_count": 1,
   "id": "823372a9",
   "metadata": {},
   "outputs": [
    {
     "data": {
      "application/javascript": [
       "\n",
       "            setTimeout(function() {\n",
       "                var nbb_cell_id = 1;\n",
       "                var nbb_unformatted_code = \"%load_ext nb_black\";\n",
       "                var nbb_formatted_code = \"%load_ext nb_black\";\n",
       "                var nbb_cells = Jupyter.notebook.get_cells();\n",
       "                for (var i = 0; i < nbb_cells.length; ++i) {\n",
       "                    if (nbb_cells[i].input_prompt_number == nbb_cell_id) {\n",
       "                        if (nbb_cells[i].get_text() == nbb_unformatted_code) {\n",
       "                             nbb_cells[i].set_text(nbb_formatted_code);\n",
       "                        }\n",
       "                        break;\n",
       "                    }\n",
       "                }\n",
       "            }, 500);\n",
       "            "
      ],
      "text/plain": [
       "<IPython.core.display.Javascript object>"
      ]
     },
     "metadata": {},
     "output_type": "display_data"
    }
   ],
   "source": [
    "%load_ext nb_black"
   ]
  },
  {
   "cell_type": "code",
   "execution_count": 324,
   "id": "801f1d7c",
   "metadata": {},
   "outputs": [
    {
     "data": {
      "application/javascript": [
       "\n",
       "            setTimeout(function() {\n",
       "                var nbb_cell_id = 324;\n",
       "                var nbb_unformatted_code = \"from collections import defaultdict\\n\\n\\ndef split_tokenize(text):\\n    return text.split()\\n\\n\\ndef normalize(probabilities):\\n    try:\\n        scale_factor = 1.0 / sum(probabilities.values())\\n    except ZeroDivisionError:\\n        scale_factor = 1\\n    for label, probability in probabilities.items():\\n        probabilities[label] = probability * scale_factor\\n    return probabilities\\n\\n\\nclass NaiveBayes:\\n    def __init__(self, tokenize=split_tokenize, alpha=0.1):\\n        self.tokenize = tokenize\\n        self.alpha = alpha\\n\\n    def get_label_counts(self, messages):\\n        counts = defaultdict(int)\\n        for label, text in messages:\\n            counts[label] += 1\\n        return counts\\n\\n    def get_initial_label_probabilities(self, label_counts):\\n        number_of_messages = sum(label_counts.values())\\n        return {k: v / number_of_messages for k, v in self.label_counts.items()}\\n\\n    def get_word_label_counts(self, messages):\\n        counts = defaultdict(lambda: defaultdict(int))\\n        for label, text in messages:\\n            for word in self.tokenize(text):\\n                counts[word][label] += 1\\n        return counts\\n\\n    def get_number_of_words(self, word_label_counts):\\n        number_of_words = defaultdict(int)\\n        for word, counts in word_label_counts.items():\\n            for label, count in counts.items():\\n                number_of_words[label] += 1\\n        return number_of_words\\n\\n    def fit(self, messages):\\n        self.label_counts = self.get_label_counts(messages)\\n        self.labels = set(self.label_counts.keys())\\n        self.initial_label_probabilities = self.get_initial_label_probabilities(\\n            self.label_counts\\n        )\\n        self.word_label_counts = self.get_word_label_counts(messages)\\n        self.number_of_words = self.get_number_of_words(self.word_label_counts)\\n        return self\\n\\n    def predict(self, message):\\n        probabilities = dict(self.initial_label_probabilities)\\n        for word in self.tokenize(message):\\n            counts_per_label = self.word_label_counts.get(word, {})\\n            for label in self.labels:\\n                label_word_count = counts_per_label.get(label, self.alpha)\\n                frequency = min(1.0, label_word_count / self.number_of_words[label])\\n                probabilities[label] *= frequency\\n        return normalize(probabilities)\\n\\n    def predict_label(self, message):\\n        predicted = self.predict(message)\\n        return sorted([(v, k) for k, v in predicted.items()], reverse=True)[0][1]\";\n",
       "                var nbb_formatted_code = \"from collections import defaultdict\\n\\n\\ndef split_tokenize(text):\\n    return text.split()\\n\\n\\ndef normalize(probabilities):\\n    try:\\n        scale_factor = 1.0 / sum(probabilities.values())\\n    except ZeroDivisionError:\\n        scale_factor = 1\\n    for label, probability in probabilities.items():\\n        probabilities[label] = probability * scale_factor\\n    return probabilities\\n\\n\\nclass NaiveBayes:\\n    def __init__(self, tokenize=split_tokenize, alpha=0.1):\\n        self.tokenize = tokenize\\n        self.alpha = alpha\\n\\n    def get_label_counts(self, messages):\\n        counts = defaultdict(int)\\n        for label, text in messages:\\n            counts[label] += 1\\n        return counts\\n\\n    def get_initial_label_probabilities(self, label_counts):\\n        number_of_messages = sum(label_counts.values())\\n        return {k: v / number_of_messages for k, v in self.label_counts.items()}\\n\\n    def get_word_label_counts(self, messages):\\n        counts = defaultdict(lambda: defaultdict(int))\\n        for label, text in messages:\\n            for word in self.tokenize(text):\\n                counts[word][label] += 1\\n        return counts\\n\\n    def get_number_of_words(self, word_label_counts):\\n        number_of_words = defaultdict(int)\\n        for word, counts in word_label_counts.items():\\n            for label, count in counts.items():\\n                number_of_words[label] += 1\\n        return number_of_words\\n\\n    def fit(self, messages):\\n        self.label_counts = self.get_label_counts(messages)\\n        self.labels = set(self.label_counts.keys())\\n        self.initial_label_probabilities = self.get_initial_label_probabilities(\\n            self.label_counts\\n        )\\n        self.word_label_counts = self.get_word_label_counts(messages)\\n        self.number_of_words = self.get_number_of_words(self.word_label_counts)\\n        return self\\n\\n    def predict(self, message):\\n        probabilities = dict(self.initial_label_probabilities)\\n        for word in self.tokenize(message):\\n            counts_per_label = self.word_label_counts.get(word, {})\\n            for label in self.labels:\\n                label_word_count = counts_per_label.get(label, self.alpha)\\n                frequency = min(1.0, label_word_count / self.number_of_words[label])\\n                probabilities[label] *= frequency\\n        return normalize(probabilities)\\n\\n    def predict_label(self, message):\\n        predicted = self.predict(message)\\n        return sorted([(v, k) for k, v in predicted.items()], reverse=True)[0][1]\";\n",
       "                var nbb_cells = Jupyter.notebook.get_cells();\n",
       "                for (var i = 0; i < nbb_cells.length; ++i) {\n",
       "                    if (nbb_cells[i].input_prompt_number == nbb_cell_id) {\n",
       "                        if (nbb_cells[i].get_text() == nbb_unformatted_code) {\n",
       "                             nbb_cells[i].set_text(nbb_formatted_code);\n",
       "                        }\n",
       "                        break;\n",
       "                    }\n",
       "                }\n",
       "            }, 500);\n",
       "            "
      ],
      "text/plain": [
       "<IPython.core.display.Javascript object>"
      ]
     },
     "metadata": {},
     "output_type": "display_data"
    }
   ],
   "source": [
    "from collections import defaultdict\n",
    "\n",
    "\n",
    "def split_tokenize(text):\n",
    "    return text.split()\n",
    "\n",
    "\n",
    "def normalize(probabilities):\n",
    "    try:\n",
    "        scale_factor = 1.0 / sum(probabilities.values())\n",
    "    except ZeroDivisionError:\n",
    "        scale_factor = 1\n",
    "    for label, probability in probabilities.items():\n",
    "        probabilities[label] = probability * scale_factor\n",
    "    return probabilities\n",
    "\n",
    "\n",
    "class NaiveBayes:\n",
    "    def __init__(self, tokenize=split_tokenize, alpha=0.1):\n",
    "        self.tokenize = tokenize\n",
    "        self.alpha = alpha\n",
    "\n",
    "    def get_label_counts(self, messages):\n",
    "        counts = defaultdict(int)\n",
    "        for label, text in messages:\n",
    "            counts[label] += 1\n",
    "        return counts\n",
    "\n",
    "    def get_initial_label_probabilities(self, label_counts):\n",
    "        number_of_messages = sum(label_counts.values())\n",
    "        return {k: v / number_of_messages for k, v in self.label_counts.items()}\n",
    "\n",
    "    def get_word_label_counts(self, messages):\n",
    "        counts = defaultdict(lambda: defaultdict(int))\n",
    "        for label, text in messages:\n",
    "            for word in self.tokenize(text):\n",
    "                counts[word][label] += 1\n",
    "        return counts\n",
    "\n",
    "    def get_number_of_words(self, word_label_counts):\n",
    "        number_of_words = defaultdict(int)\n",
    "        for word, counts in word_label_counts.items():\n",
    "            for label, count in counts.items():\n",
    "                number_of_words[label] += 1\n",
    "        return number_of_words\n",
    "\n",
    "    def fit(self, messages):\n",
    "        self.label_counts = self.get_label_counts(messages)\n",
    "        self.labels = set(self.label_counts.keys())\n",
    "        self.initial_label_probabilities = self.get_initial_label_probabilities(\n",
    "            self.label_counts\n",
    "        )\n",
    "        self.word_label_counts = self.get_word_label_counts(messages)\n",
    "        self.number_of_words = self.get_number_of_words(self.word_label_counts)\n",
    "        return self\n",
    "\n",
    "    def predict(self, message):\n",
    "        probabilities = dict(self.initial_label_probabilities)\n",
    "        for word in self.tokenize(message):\n",
    "            counts_per_label = self.word_label_counts.get(word, {})\n",
    "            for label in self.labels:\n",
    "                label_word_count = counts_per_label.get(label, self.alpha)\n",
    "                frequency = min(1.0, label_word_count / self.number_of_words[label])\n",
    "                probabilities[label] *= frequency\n",
    "        return normalize(probabilities)\n",
    "\n",
    "    def predict_label(self, message):\n",
    "        predicted = self.predict(message)\n",
    "        return sorted([(v, k) for k, v in predicted.items()], reverse=True)[0][1]"
   ]
  },
  {
   "cell_type": "code",
   "execution_count": 325,
   "id": "04b8c83c",
   "metadata": {},
   "outputs": [
    {
     "name": "stdout",
     "output_type": "stream",
     "text": [
      "{'spam': 0.8, 'ham': 0.2} {'spam': 0.8, 'ham': 0.2}\n"
     ]
    },
    {
     "data": {
      "application/javascript": [
       "\n",
       "            setTimeout(function() {\n",
       "                var nbb_cell_id = 325;\n",
       "                var nbb_unformatted_code = \"def test_probabilities_after_words():\\n    train = [\\n        (\\\"spam\\\", \\\"spam\\\"),\\n        (\\\"spam\\\", \\\"spam\\\"),\\n        (\\\"ham\\\", \\\"ham spam\\\"),\\n    ]\\n    test_cases = [\\n        # message, expected_probabilities\\n        (\\\"spam\\\", {\\\"spam\\\": 0.8, \\\"ham\\\": 0.2}),\\n    ]\\n    model = NaiveBayes().fit(train)\\n    for message, expected_probabilities in test_cases:\\n        actual_probabilities = model.predict(message)\\n        print(actual_probabilities, expected_probabilities)\\n        assert actual_probabilities == expected_probabilities\\n\\n\\ntest_probabilities_after_words()\";\n",
       "                var nbb_formatted_code = \"def test_probabilities_after_words():\\n    train = [\\n        (\\\"spam\\\", \\\"spam\\\"),\\n        (\\\"spam\\\", \\\"spam\\\"),\\n        (\\\"ham\\\", \\\"ham spam\\\"),\\n    ]\\n    test_cases = [\\n        # message, expected_probabilities\\n        (\\\"spam\\\", {\\\"spam\\\": 0.8, \\\"ham\\\": 0.2}),\\n    ]\\n    model = NaiveBayes().fit(train)\\n    for message, expected_probabilities in test_cases:\\n        actual_probabilities = model.predict(message)\\n        print(actual_probabilities, expected_probabilities)\\n        assert actual_probabilities == expected_probabilities\\n\\n\\ntest_probabilities_after_words()\";\n",
       "                var nbb_cells = Jupyter.notebook.get_cells();\n",
       "                for (var i = 0; i < nbb_cells.length; ++i) {\n",
       "                    if (nbb_cells[i].input_prompt_number == nbb_cell_id) {\n",
       "                        if (nbb_cells[i].get_text() == nbb_unformatted_code) {\n",
       "                             nbb_cells[i].set_text(nbb_formatted_code);\n",
       "                        }\n",
       "                        break;\n",
       "                    }\n",
       "                }\n",
       "            }, 500);\n",
       "            "
      ],
      "text/plain": [
       "<IPython.core.display.Javascript object>"
      ]
     },
     "metadata": {},
     "output_type": "display_data"
    }
   ],
   "source": [
    "def test_probabilities_after_words():\n",
    "    train = [\n",
    "        (\"spam\", \"spam\"),\n",
    "        (\"spam\", \"spam\"),\n",
    "        (\"ham\", \"ham spam\"),\n",
    "    ]\n",
    "    test_cases = [\n",
    "        # message, expected_probabilities\n",
    "        (\"spam\", {\"spam\": 0.8, \"ham\": 0.2}),\n",
    "    ]\n",
    "    model = NaiveBayes().fit(train)\n",
    "    for message, expected_probabilities in test_cases:\n",
    "        actual_probabilities = model.predict(message)\n",
    "        print(actual_probabilities, expected_probabilities)\n",
    "        assert actual_probabilities == expected_probabilities\n",
    "\n",
    "\n",
    "test_probabilities_after_words()"
   ]
  },
  {
   "cell_type": "code",
   "execution_count": 326,
   "id": "4d77c7ea",
   "metadata": {},
   "outputs": [
    {
     "data": {
      "application/javascript": [
       "\n",
       "            setTimeout(function() {\n",
       "                var nbb_cell_id = 326;\n",
       "                var nbb_unformatted_code = \"def test_initial_probabilities():\\n    test_cases = [\\n        # train, expected_initial_probabilities\\n        ([], {}),\\n        ([(\\\"ham\\\", \\\"\\\"), (\\\"spam\\\", \\\"\\\")], {\\\"ham\\\": 0.5, \\\"spam\\\": 0.5}),\\n        ([(i, \\\"\\\") for i in range(3)], {k: 1 / 3 for k in range(3)}),\\n    ]\\n    for train, expected_initial_probabilities in test_cases:\\n        model = NaiveBayes().fit(train)\\n        actual_probabilities = model.predict(\\\"\\\")\\n        #         print(actual_probabilities, expected_initial_probabilities)\\n        assert actual_probabilities == expected_initial_probabilities\\n\\n\\ntest_initial_probabilities()\";\n",
       "                var nbb_formatted_code = \"def test_initial_probabilities():\\n    test_cases = [\\n        # train, expected_initial_probabilities\\n        ([], {}),\\n        ([(\\\"ham\\\", \\\"\\\"), (\\\"spam\\\", \\\"\\\")], {\\\"ham\\\": 0.5, \\\"spam\\\": 0.5}),\\n        ([(i, \\\"\\\") for i in range(3)], {k: 1 / 3 for k in range(3)}),\\n    ]\\n    for train, expected_initial_probabilities in test_cases:\\n        model = NaiveBayes().fit(train)\\n        actual_probabilities = model.predict(\\\"\\\")\\n        #         print(actual_probabilities, expected_initial_probabilities)\\n        assert actual_probabilities == expected_initial_probabilities\\n\\n\\ntest_initial_probabilities()\";\n",
       "                var nbb_cells = Jupyter.notebook.get_cells();\n",
       "                for (var i = 0; i < nbb_cells.length; ++i) {\n",
       "                    if (nbb_cells[i].input_prompt_number == nbb_cell_id) {\n",
       "                        if (nbb_cells[i].get_text() == nbb_unformatted_code) {\n",
       "                             nbb_cells[i].set_text(nbb_formatted_code);\n",
       "                        }\n",
       "                        break;\n",
       "                    }\n",
       "                }\n",
       "            }, 500);\n",
       "            "
      ],
      "text/plain": [
       "<IPython.core.display.Javascript object>"
      ]
     },
     "metadata": {},
     "output_type": "display_data"
    }
   ],
   "source": [
    "def test_initial_probabilities():\n",
    "    test_cases = [\n",
    "        # train, expected_initial_probabilities\n",
    "        ([], {}),\n",
    "        ([(\"ham\", \"\"), (\"spam\", \"\")], {\"ham\": 0.5, \"spam\": 0.5}),\n",
    "        ([(i, \"\") for i in range(3)], {k: 1 / 3 for k in range(3)}),\n",
    "    ]\n",
    "    for train, expected_initial_probabilities in test_cases:\n",
    "        model = NaiveBayes().fit(train)\n",
    "        actual_probabilities = model.predict(\"\")\n",
    "        #         print(actual_probabilities, expected_initial_probabilities)\n",
    "        assert actual_probabilities == expected_initial_probabilities\n",
    "\n",
    "\n",
    "test_initial_probabilities()"
   ]
  },
  {
   "cell_type": "code",
   "execution_count": 327,
   "id": "5c2abd0f",
   "metadata": {},
   "outputs": [
    {
     "name": "stdout",
     "output_type": "stream",
     "text": [
      "{0: 0.75, 1: 0.25} {0: 0.75, 1: 0.25}\n"
     ]
    },
    {
     "data": {
      "application/javascript": [
       "\n",
       "            setTimeout(function() {\n",
       "                var nbb_cell_id = 327;\n",
       "                var nbb_unformatted_code = \"def test_normalize():\\n    test_cases = [\\n        # probabilities, expected\\n        ({0: 0.6, 1: 0.2}, {0: 0.75, 1: 0.25}),\\n    ]\\n    for probabilities, expected in test_cases:\\n        actual = normalize(probabilities)\\n        print(actual, expected)\\n        assert actual == expected\\n\\n\\ntest_normalize()\";\n",
       "                var nbb_formatted_code = \"def test_normalize():\\n    test_cases = [\\n        # probabilities, expected\\n        ({0: 0.6, 1: 0.2}, {0: 0.75, 1: 0.25}),\\n    ]\\n    for probabilities, expected in test_cases:\\n        actual = normalize(probabilities)\\n        print(actual, expected)\\n        assert actual == expected\\n\\n\\ntest_normalize()\";\n",
       "                var nbb_cells = Jupyter.notebook.get_cells();\n",
       "                for (var i = 0; i < nbb_cells.length; ++i) {\n",
       "                    if (nbb_cells[i].input_prompt_number == nbb_cell_id) {\n",
       "                        if (nbb_cells[i].get_text() == nbb_unformatted_code) {\n",
       "                             nbb_cells[i].set_text(nbb_formatted_code);\n",
       "                        }\n",
       "                        break;\n",
       "                    }\n",
       "                }\n",
       "            }, 500);\n",
       "            "
      ],
      "text/plain": [
       "<IPython.core.display.Javascript object>"
      ]
     },
     "metadata": {},
     "output_type": "display_data"
    }
   ],
   "source": [
    "def test_normalize():\n",
    "    test_cases = [\n",
    "        # probabilities, expected\n",
    "        ({0: 0.6, 1: 0.2}, {0: 0.75, 1: 0.25}),\n",
    "    ]\n",
    "    for probabilities, expected in test_cases:\n",
    "        actual = normalize(probabilities)\n",
    "        print(actual, expected)\n",
    "        assert actual == expected\n",
    "\n",
    "\n",
    "test_normalize()"
   ]
  },
  {
   "cell_type": "code",
   "execution_count": 328,
   "id": "f42bab55",
   "metadata": {},
   "outputs": [
    {
     "data": {
      "application/javascript": [
       "\n",
       "            setTimeout(function() {\n",
       "                var nbb_cell_id = 328;\n",
       "                var nbb_unformatted_code = \"import random\\n\\nrandom.seed(2021)  # make sure the same messages are choosen between restarts\\n\\n\\ndef split_train_test(messages, test_quote=0.1):\\n    messages_by_label = defaultdict(list)\\n    for label, text in messages:\\n        messages_by_label[label].append((label, text))\\n\\n    # stratified sampling\\n    test, train = [], []\\n    for label, label_messages in messages_by_label.items():\\n        indices = list(range(len(label_messages)))\\n        test_len = int(len(indices) * test_quote)\\n        test_indices = set(random.sample(indices, test_len))\\n        for index, message in enumerate(label_messages):\\n            if index in test_indices:\\n                test.append(message)\\n            else:\\n                train.append(message)\\n    return train, test\";\n",
       "                var nbb_formatted_code = \"import random\\n\\nrandom.seed(2021)  # make sure the same messages are choosen between restarts\\n\\n\\ndef split_train_test(messages, test_quote=0.1):\\n    messages_by_label = defaultdict(list)\\n    for label, text in messages:\\n        messages_by_label[label].append((label, text))\\n\\n    # stratified sampling\\n    test, train = [], []\\n    for label, label_messages in messages_by_label.items():\\n        indices = list(range(len(label_messages)))\\n        test_len = int(len(indices) * test_quote)\\n        test_indices = set(random.sample(indices, test_len))\\n        for index, message in enumerate(label_messages):\\n            if index in test_indices:\\n                test.append(message)\\n            else:\\n                train.append(message)\\n    return train, test\";\n",
       "                var nbb_cells = Jupyter.notebook.get_cells();\n",
       "                for (var i = 0; i < nbb_cells.length; ++i) {\n",
       "                    if (nbb_cells[i].input_prompt_number == nbb_cell_id) {\n",
       "                        if (nbb_cells[i].get_text() == nbb_unformatted_code) {\n",
       "                             nbb_cells[i].set_text(nbb_formatted_code);\n",
       "                        }\n",
       "                        break;\n",
       "                    }\n",
       "                }\n",
       "            }, 500);\n",
       "            "
      ],
      "text/plain": [
       "<IPython.core.display.Javascript object>"
      ]
     },
     "metadata": {},
     "output_type": "display_data"
    }
   ],
   "source": [
    "import random\n",
    "\n",
    "random.seed(2021)  # make sure the same messages are choosen between restarts\n",
    "\n",
    "\n",
    "def split_train_test(messages, test_quote=0.1):\n",
    "    messages_by_label = defaultdict(list)\n",
    "    for label, text in messages:\n",
    "        messages_by_label[label].append((label, text))\n",
    "\n",
    "    # stratified sampling\n",
    "    test, train = [], []\n",
    "    for label, label_messages in messages_by_label.items():\n",
    "        indices = list(range(len(label_messages)))\n",
    "        test_len = int(len(indices) * test_quote)\n",
    "        test_indices = set(random.sample(indices, test_len))\n",
    "        for index, message in enumerate(label_messages):\n",
    "            if index in test_indices:\n",
    "                test.append(message)\n",
    "            else:\n",
    "                train.append(message)\n",
    "    return train, test"
   ]
  },
  {
   "cell_type": "code",
   "execution_count": 329,
   "id": "fa1eb9e0",
   "metadata": {},
   "outputs": [
    {
     "data": {
      "application/javascript": [
       "\n",
       "            setTimeout(function() {\n",
       "                var nbb_cell_id = 329;\n",
       "                var nbb_unformatted_code = \"from django_comments import get_model as get_comments_model\\n\\nComment = get_comments_model()\\n\\n\\ndef get_messages_from_comments():\\n    messages = []\\n    for comment in Comment.objects.all():\\n        label = \\\"spam\\\" if comment.is_removed else \\\"ham\\\"\\n        message = f\\\"{comment.name} {comment.title} {comment.comment}\\\"\\n        messages.append((label, message))\\n    return messages\\n\\n\\nmessages = get_messages_from_comments()\";\n",
       "                var nbb_formatted_code = \"from django_comments import get_model as get_comments_model\\n\\nComment = get_comments_model()\\n\\n\\ndef get_messages_from_comments():\\n    messages = []\\n    for comment in Comment.objects.all():\\n        label = \\\"spam\\\" if comment.is_removed else \\\"ham\\\"\\n        message = f\\\"{comment.name} {comment.title} {comment.comment}\\\"\\n        messages.append((label, message))\\n    return messages\\n\\n\\nmessages = get_messages_from_comments()\";\n",
       "                var nbb_cells = Jupyter.notebook.get_cells();\n",
       "                for (var i = 0; i < nbb_cells.length; ++i) {\n",
       "                    if (nbb_cells[i].input_prompt_number == nbb_cell_id) {\n",
       "                        if (nbb_cells[i].get_text() == nbb_unformatted_code) {\n",
       "                             nbb_cells[i].set_text(nbb_formatted_code);\n",
       "                        }\n",
       "                        break;\n",
       "                    }\n",
       "                }\n",
       "            }, 500);\n",
       "            "
      ],
      "text/plain": [
       "<IPython.core.display.Javascript object>"
      ]
     },
     "metadata": {},
     "output_type": "display_data"
    }
   ],
   "source": [
    "from django_comments import get_model as get_comments_model\n",
    "\n",
    "Comment = get_comments_model()\n",
    "\n",
    "\n",
    "def get_messages_from_comments():\n",
    "    messages = []\n",
    "    for comment in Comment.objects.all():\n",
    "        label = \"spam\" if comment.is_removed else \"ham\"\n",
    "        message = f\"{comment.name} {comment.title} {comment.comment}\"\n",
    "        messages.append((label, message))\n",
    "    return messages\n",
    "\n",
    "\n",
    "messages = get_messages_from_comments()"
   ]
  },
  {
   "cell_type": "code",
   "execution_count": 330,
   "id": "5461ede1",
   "metadata": {},
   "outputs": [
    {
     "data": {
      "application/javascript": [
       "\n",
       "            setTimeout(function() {\n",
       "                var nbb_cell_id = 330;\n",
       "                var nbb_unformatted_code = \"import io\\nimport zipfile\\nimport requests\\n\\n\\ndef get_sms_messages():\\n    # download zip archive\\n    training_data_url = (\\n        \\\"https://d2b7dn9rofvhjd.cloudfront.net/sms-spam-collection-dataset.zip\\\"\\n    )\\n    response = requests.get(training_data_url)\\n    z = zipfile.ZipFile(io.BytesIO(response.content))\\n\\n    # parse messages\\n    spam_text = z.read(\\\"spam.csv\\\").decode(\\\"latin1\\\")\\n    lines = iter(spam_text.split(\\\"\\\\r\\\\n\\\"))\\n    skipped = next(lines)  # skip first line\\n\\n    messages = []\\n    for line in lines:\\n        line = line.rstrip(\\\",\\\")\\n        label, *message = line.split(\\\",\\\")\\n        messages.append((label, \\\" \\\".join(message)))\\n    return messages\\n\\n\\nmessages = get_sms_messages()\";\n",
       "                var nbb_formatted_code = \"import io\\nimport zipfile\\nimport requests\\n\\n\\ndef get_sms_messages():\\n    # download zip archive\\n    training_data_url = (\\n        \\\"https://d2b7dn9rofvhjd.cloudfront.net/sms-spam-collection-dataset.zip\\\"\\n    )\\n    response = requests.get(training_data_url)\\n    z = zipfile.ZipFile(io.BytesIO(response.content))\\n\\n    # parse messages\\n    spam_text = z.read(\\\"spam.csv\\\").decode(\\\"latin1\\\")\\n    lines = iter(spam_text.split(\\\"\\\\r\\\\n\\\"))\\n    skipped = next(lines)  # skip first line\\n\\n    messages = []\\n    for line in lines:\\n        line = line.rstrip(\\\",\\\")\\n        label, *message = line.split(\\\",\\\")\\n        messages.append((label, \\\" \\\".join(message)))\\n    return messages\\n\\n\\nmessages = get_sms_messages()\";\n",
       "                var nbb_cells = Jupyter.notebook.get_cells();\n",
       "                for (var i = 0; i < nbb_cells.length; ++i) {\n",
       "                    if (nbb_cells[i].input_prompt_number == nbb_cell_id) {\n",
       "                        if (nbb_cells[i].get_text() == nbb_unformatted_code) {\n",
       "                             nbb_cells[i].set_text(nbb_formatted_code);\n",
       "                        }\n",
       "                        break;\n",
       "                    }\n",
       "                }\n",
       "            }, 500);\n",
       "            "
      ],
      "text/plain": [
       "<IPython.core.display.Javascript object>"
      ]
     },
     "metadata": {},
     "output_type": "display_data"
    }
   ],
   "source": [
    "import io\n",
    "import zipfile\n",
    "import requests\n",
    "\n",
    "\n",
    "def get_sms_messages():\n",
    "    # download zip archive\n",
    "    training_data_url = (\n",
    "        \"https://d2b7dn9rofvhjd.cloudfront.net/sms-spam-collection-dataset.zip\"\n",
    "    )\n",
    "    response = requests.get(training_data_url)\n",
    "    z = zipfile.ZipFile(io.BytesIO(response.content))\n",
    "\n",
    "    # parse messages\n",
    "    spam_text = z.read(\"spam.csv\").decode(\"latin1\")\n",
    "    lines = iter(spam_text.split(\"\\r\\n\"))\n",
    "    skipped = next(lines)  # skip first line\n",
    "\n",
    "    messages = []\n",
    "    for line in lines:\n",
    "        line = line.rstrip(\",\")\n",
    "        label, *message = line.split(\",\")\n",
    "        messages.append((label, \" \".join(message)))\n",
    "    return messages\n",
    "\n",
    "\n",
    "messages = get_sms_messages()"
   ]
  },
  {
   "cell_type": "code",
   "execution_count": 331,
   "id": "1c130e93",
   "metadata": {},
   "outputs": [
    {
     "data": {
      "application/javascript": [
       "\n",
       "            setTimeout(function() {\n",
       "                var nbb_cell_id = 331;\n",
       "                var nbb_unformatted_code = \"import re\\n\\ntoken_pattern = re.compile(r\\\"(?u)\\\\b\\\\w\\\\w+\\\\b\\\")\\nstandard_tokenizer = token_pattern.findall\\n\\n\\ndef tokenize(message):\\n    return standard_tokenizer(message.lower())\";\n",
       "                var nbb_formatted_code = \"import re\\n\\ntoken_pattern = re.compile(r\\\"(?u)\\\\b\\\\w\\\\w+\\\\b\\\")\\nstandard_tokenizer = token_pattern.findall\\n\\n\\ndef tokenize(message):\\n    return standard_tokenizer(message.lower())\";\n",
       "                var nbb_cells = Jupyter.notebook.get_cells();\n",
       "                for (var i = 0; i < nbb_cells.length; ++i) {\n",
       "                    if (nbb_cells[i].input_prompt_number == nbb_cell_id) {\n",
       "                        if (nbb_cells[i].get_text() == nbb_unformatted_code) {\n",
       "                             nbb_cells[i].set_text(nbb_formatted_code);\n",
       "                        }\n",
       "                        break;\n",
       "                    }\n",
       "                }\n",
       "            }, 500);\n",
       "            "
      ],
      "text/plain": [
       "<IPython.core.display.Javascript object>"
      ]
     },
     "metadata": {},
     "output_type": "display_data"
    }
   ],
   "source": [
    "import re\n",
    "\n",
    "token_pattern = re.compile(r\"(?u)\\b\\w\\w+\\b\")\n",
    "standard_tokenizer = token_pattern.findall\n",
    "\n",
    "\n",
    "def tokenize(message):\n",
    "    return standard_tokenizer(message.lower())"
   ]
  },
  {
   "cell_type": "code",
   "execution_count": 332,
   "id": "96589795",
   "metadata": {},
   "outputs": [
    {
     "name": "stdout",
     "output_type": "stream",
     "text": [
      "5016 556\n",
      "CPU times: user 64.4 ms, sys: 2.66 ms, total: 67 ms\n",
      "Wall time: 65.6 ms\n"
     ]
    },
    {
     "data": {
      "application/javascript": [
       "\n",
       "            setTimeout(function() {\n",
       "                var nbb_cell_id = 332;\n",
       "                var nbb_unformatted_code = \"%%time\\ntrain_messages, test_messages = split_train_test(messages, test_quote=0.1)\\nprint(len(train_messages), len(test_messages))\\nmodel = NaiveBayes(tokenize=tokenize).fit(train_messages)\";\n",
       "                var nbb_formatted_code = \"%%time\\ntrain_messages, test_messages = split_train_test(messages, test_quote=0.1)\\nprint(len(train_messages), len(test_messages))\\nmodel = NaiveBayes(tokenize=tokenize).fit(train_messages)\";\n",
       "                var nbb_cells = Jupyter.notebook.get_cells();\n",
       "                for (var i = 0; i < nbb_cells.length; ++i) {\n",
       "                    if (nbb_cells[i].input_prompt_number == nbb_cell_id) {\n",
       "                        if (nbb_cells[i].get_text() == nbb_unformatted_code) {\n",
       "                             nbb_cells[i].set_text(nbb_formatted_code);\n",
       "                        }\n",
       "                        break;\n",
       "                    }\n",
       "                }\n",
       "            }, 500);\n",
       "            "
      ],
      "text/plain": [
       "<IPython.core.display.Javascript object>"
      ]
     },
     "metadata": {},
     "output_type": "display_data"
    }
   ],
   "source": [
    "%%time\n",
    "train_messages, test_messages = split_train_test(messages, test_quote=0.1)\n",
    "print(len(train_messages), len(test_messages))\n",
    "model = NaiveBayes(tokenize=tokenize).fit(train_messages)"
   ]
  },
  {
   "cell_type": "code",
   "execution_count": 333,
   "id": "c07a00c8",
   "metadata": {},
   "outputs": [
    {
     "name": "stdout",
     "output_type": "stream",
     "text": [
      "Accuracy: 0.980\n",
      "CPU times: user 19.1 ms, sys: 1.5 ms, total: 20.6 ms\n",
      "Wall time: 19.5 ms\n"
     ]
    },
    {
     "data": {
      "application/javascript": [
       "\n",
       "            setTimeout(function() {\n",
       "                var nbb_cell_id = 333;\n",
       "                var nbb_unformatted_code = \"%%time\\n\\ntrue_positives = 0\\nall_observations = len(test_messages)\\n\\nfor label, message in test_messages:\\n    if model.predict_label(message) == label:\\n        true_positives += 1\\n\\naccuracy = true_positives / all_observations\\nprint(f\\\"Accuracy: {accuracy:.3f}\\\")\";\n",
       "                var nbb_formatted_code = \"%%time\\n\\ntrue_positives = 0\\nall_observations = len(test_messages)\\n\\nfor label, message in test_messages:\\n    if model.predict_label(message) == label:\\n        true_positives += 1\\n\\naccuracy = true_positives / all_observations\\nprint(f\\\"Accuracy: {accuracy:.3f}\\\")\";\n",
       "                var nbb_cells = Jupyter.notebook.get_cells();\n",
       "                for (var i = 0; i < nbb_cells.length; ++i) {\n",
       "                    if (nbb_cells[i].input_prompt_number == nbb_cell_id) {\n",
       "                        if (nbb_cells[i].get_text() == nbb_unformatted_code) {\n",
       "                             nbb_cells[i].set_text(nbb_formatted_code);\n",
       "                        }\n",
       "                        break;\n",
       "                    }\n",
       "                }\n",
       "            }, 500);\n",
       "            "
      ],
      "text/plain": [
       "<IPython.core.display.Javascript object>"
      ]
     },
     "metadata": {},
     "output_type": "display_data"
    }
   ],
   "source": [
    "%%time\n",
    "\n",
    "true_positives = 0\n",
    "all_observations = len(test_messages)\n",
    "\n",
    "for label, message in test_messages:\n",
    "    if model.predict_label(message) == label:\n",
    "        true_positives += 1\n",
    "\n",
    "accuracy = true_positives / all_observations\n",
    "print(f\"Accuracy: {accuracy:.3f}\")"
   ]
  },
  {
   "cell_type": "code",
   "execution_count": 334,
   "id": "778c243f",
   "metadata": {},
   "outputs": [
    {
     "data": {
      "application/javascript": [
       "\n",
       "            setTimeout(function() {\n",
       "                var nbb_cell_id = 334;\n",
       "                var nbb_unformatted_code = \"outcomes = ((\\\"true\\\", \\\"false\\\"), (\\\"positive\\\", \\\"negative\\\"))\\npossible_results = [f\\\"{a}_{b}\\\" for b in outcomes[1] for a in outcomes[0]]\\nresult_template = dict.fromkeys(possible_results, 0)\\n\\nlabels = set(model.labels)\\nlabel_results = {label: dict(result_template) for label in labels}\\nall_observations = len(test_messages)\\n\\nfor label, message in test_messages:\\n    predicted = model.predict_label(message)\\n    if label == predicted:\\n        label_results[label][\\\"true_positive\\\"] += 1\\n    else:\\n        label_results[label][\\\"false_negative\\\"] += 1\\n        label_results[predicted][\\\"false_positive\\\"] += 1\";\n",
       "                var nbb_formatted_code = \"outcomes = ((\\\"true\\\", \\\"false\\\"), (\\\"positive\\\", \\\"negative\\\"))\\npossible_results = [f\\\"{a}_{b}\\\" for b in outcomes[1] for a in outcomes[0]]\\nresult_template = dict.fromkeys(possible_results, 0)\\n\\nlabels = set(model.labels)\\nlabel_results = {label: dict(result_template) for label in labels}\\nall_observations = len(test_messages)\\n\\nfor label, message in test_messages:\\n    predicted = model.predict_label(message)\\n    if label == predicted:\\n        label_results[label][\\\"true_positive\\\"] += 1\\n    else:\\n        label_results[label][\\\"false_negative\\\"] += 1\\n        label_results[predicted][\\\"false_positive\\\"] += 1\";\n",
       "                var nbb_cells = Jupyter.notebook.get_cells();\n",
       "                for (var i = 0; i < nbb_cells.length; ++i) {\n",
       "                    if (nbb_cells[i].input_prompt_number == nbb_cell_id) {\n",
       "                        if (nbb_cells[i].get_text() == nbb_unformatted_code) {\n",
       "                             nbb_cells[i].set_text(nbb_formatted_code);\n",
       "                        }\n",
       "                        break;\n",
       "                    }\n",
       "                }\n",
       "            }, 500);\n",
       "            "
      ],
      "text/plain": [
       "<IPython.core.display.Javascript object>"
      ]
     },
     "metadata": {},
     "output_type": "display_data"
    }
   ],
   "source": [
    "outcomes = ((\"true\", \"false\"), (\"positive\", \"negative\"))\n",
    "possible_results = [f\"{a}_{b}\" for b in outcomes[1] for a in outcomes[0]]\n",
    "result_template = dict.fromkeys(possible_results, 0)\n",
    "\n",
    "labels = set(model.labels)\n",
    "label_results = {label: dict(result_template) for label in labels}\n",
    "all_observations = len(test_messages)\n",
    "\n",
    "for label, message in test_messages:\n",
    "    predicted = model.predict_label(message)\n",
    "    if label == predicted:\n",
    "        label_results[label][\"true_positive\"] += 1\n",
    "    else:\n",
    "        label_results[label][\"false_negative\"] += 1\n",
    "        label_results[predicted][\"false_positive\"] += 1"
   ]
  },
  {
   "cell_type": "code",
   "execution_count": 335,
   "id": "b282c509",
   "metadata": {},
   "outputs": [
    {
     "data": {
      "application/javascript": [
       "\n",
       "            setTimeout(function() {\n",
       "                var nbb_cell_id = 335;\n",
       "                var nbb_unformatted_code = \"def precision_recall_f1(result):\\n    all_observations = sum(result.values())\\n    tp = result[\\\"true_positive\\\"]\\n    fp = result[\\\"false_positive\\\"]\\n    fn = result[\\\"false_negative\\\"]\\n    precision = tp / (tp + fp)\\n    recall = tp / (tp + fn)\\n    f1 = 2 * (precision * recall) / (precision + recall)\\n    return precision, recall, f1\\n\\n\\ndef show_result(label_results):\\n    for label, result in label_results.items():\\n        precision, recall, f1 = precision_recall_f1(result)\\n        print(\\n            f\\\"{label: >4} f1: {f1:.3f} precision: {precision:.3f} recall: {recall:.3f}\\\"\\n        )\";\n",
       "                var nbb_formatted_code = \"def precision_recall_f1(result):\\n    all_observations = sum(result.values())\\n    tp = result[\\\"true_positive\\\"]\\n    fp = result[\\\"false_positive\\\"]\\n    fn = result[\\\"false_negative\\\"]\\n    precision = tp / (tp + fp)\\n    recall = tp / (tp + fn)\\n    f1 = 2 * (precision * recall) / (precision + recall)\\n    return precision, recall, f1\\n\\n\\ndef show_result(label_results):\\n    for label, result in label_results.items():\\n        precision, recall, f1 = precision_recall_f1(result)\\n        print(\\n            f\\\"{label: >4} f1: {f1:.3f} precision: {precision:.3f} recall: {recall:.3f}\\\"\\n        )\";\n",
       "                var nbb_cells = Jupyter.notebook.get_cells();\n",
       "                for (var i = 0; i < nbb_cells.length; ++i) {\n",
       "                    if (nbb_cells[i].input_prompt_number == nbb_cell_id) {\n",
       "                        if (nbb_cells[i].get_text() == nbb_unformatted_code) {\n",
       "                             nbb_cells[i].set_text(nbb_formatted_code);\n",
       "                        }\n",
       "                        break;\n",
       "                    }\n",
       "                }\n",
       "            }, 500);\n",
       "            "
      ],
      "text/plain": [
       "<IPython.core.display.Javascript object>"
      ]
     },
     "metadata": {},
     "output_type": "display_data"
    }
   ],
   "source": [
    "def precision_recall_f1(result):\n",
    "    all_observations = sum(result.values())\n",
    "    tp = result[\"true_positive\"]\n",
    "    fp = result[\"false_positive\"]\n",
    "    fn = result[\"false_negative\"]\n",
    "    precision = tp / (tp + fp)\n",
    "    recall = tp / (tp + fn)\n",
    "    f1 = 2 * (precision * recall) / (precision + recall)\n",
    "    return precision, recall, f1\n",
    "\n",
    "\n",
    "def show_result(label_results):\n",
    "    for label, result in label_results.items():\n",
    "        precision, recall, f1 = precision_recall_f1(result)\n",
    "        print(\n",
    "            f\"{label: >4} f1: {f1:.3f} precision: {precision:.3f} recall: {recall:.3f}\"\n",
    "        )"
   ]
  },
  {
   "cell_type": "code",
   "execution_count": 336,
   "id": "b53ac48e",
   "metadata": {},
   "outputs": [
    {
     "name": "stdout",
     "output_type": "stream",
     "text": [
      " ham f1: 0.989 precision: 0.982 recall: 0.996\n",
      "spam f1: 0.922 precision: 0.970 recall: 0.878\n"
     ]
    },
    {
     "data": {
      "application/javascript": [
       "\n",
       "            setTimeout(function() {\n",
       "                var nbb_cell_id = 336;\n",
       "                var nbb_unformatted_code = \"show_result(label_results)\";\n",
       "                var nbb_formatted_code = \"show_result(label_results)\";\n",
       "                var nbb_cells = Jupyter.notebook.get_cells();\n",
       "                for (var i = 0; i < nbb_cells.length; ++i) {\n",
       "                    if (nbb_cells[i].input_prompt_number == nbb_cell_id) {\n",
       "                        if (nbb_cells[i].get_text() == nbb_unformatted_code) {\n",
       "                             nbb_cells[i].set_text(nbb_formatted_code);\n",
       "                        }\n",
       "                        break;\n",
       "                    }\n",
       "                }\n",
       "            }, 500);\n",
       "            "
      ],
      "text/plain": [
       "<IPython.core.display.Javascript object>"
      ]
     },
     "metadata": {},
     "output_type": "display_data"
    }
   ],
   "source": [
    "show_result(label_results)"
   ]
  }
 ],
 "metadata": {
  "kernelspec": {
   "display_name": "Django Shell-Plus",
   "language": "python",
   "name": "django_extensions"
  },
  "language_info": {
   "codemirror_mode": {
    "name": "ipython",
    "version": 3
   },
   "file_extension": ".py",
   "mimetype": "text/x-python",
   "name": "python",
   "nbconvert_exporter": "python",
   "pygments_lexer": "ipython3",
   "version": "3.9.7"
  }
 },
 "nbformat": 4,
 "nbformat_minor": 5
}
