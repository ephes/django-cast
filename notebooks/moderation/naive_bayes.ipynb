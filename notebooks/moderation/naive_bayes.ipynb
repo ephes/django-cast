{
 "cells": [
  {
   "cell_type": "code",
   "execution_count": 1,
   "id": "6e458692",
   "metadata": {},
   "outputs": [
    {
     "data": {
      "application/javascript": [
       "\n",
       "            setTimeout(function() {\n",
       "                var nbb_cell_id = 1;\n",
       "                var nbb_unformatted_code = \"%load_ext nb_black\";\n",
       "                var nbb_formatted_code = \"%load_ext nb_black\";\n",
       "                var nbb_cells = Jupyter.notebook.get_cells();\n",
       "                for (var i = 0; i < nbb_cells.length; ++i) {\n",
       "                    if (nbb_cells[i].input_prompt_number == nbb_cell_id) {\n",
       "                        if (nbb_cells[i].get_text() == nbb_unformatted_code) {\n",
       "                             nbb_cells[i].set_text(nbb_formatted_code);\n",
       "                        }\n",
       "                        break;\n",
       "                    }\n",
       "                }\n",
       "            }, 500);\n",
       "            "
      ],
      "text/plain": [
       "<IPython.core.display.Javascript object>"
      ]
     },
     "metadata": {},
     "output_type": "display_data"
    }
   ],
   "source": [
    "%load_ext nb_black"
   ]
  },
  {
   "cell_type": "markdown",
   "id": "d24f3a1a",
   "metadata": {},
   "source": [
    "# Vorteile\n",
    "\n",
    "* Ist sackschnell\n",
    "* Braucht wenig Trainingsdaten\n",
    "* Lässt sich gut auf mehrere Kategorien erweitern\n",
    "* Man benötigt kein pandas, numpy, sklearn nur eingebaute Datentypen\n",
    "* Kaum Hyperparametertuning"
   ]
  },
  {
   "cell_type": "code",
   "execution_count": 48,
   "id": "2ffe1261",
   "metadata": {},
   "outputs": [
    {
     "data": {
      "application/javascript": [
       "\n",
       "            setTimeout(function() {\n",
       "                var nbb_cell_id = 48;\n",
       "                var nbb_unformatted_code = \"import io\\nimport zipfile\\nimport requests\\n\\n\\ndef get_sms_messages():\\n    # download zip archive\\n    training_data_url = (\\n        \\\"https://d2b7dn9rofvhjd.cloudfront.net/sms-spam-collection-dataset.zip\\\"\\n    )\\n    response = requests.get(training_data_url)\\n    z = zipfile.ZipFile(io.BytesIO(response.content))\\n\\n    # parse messages\\n    spam_text = z.read(\\\"spam.csv\\\").decode(\\\"latin1\\\")\\n    lines = iter(spam_text.split(\\\"\\\\r\\\\n\\\"))\\n    skipped = next(lines)  # skip first line\\n\\n    messages = []\\n    for line in lines:\\n        line = line.rstrip(\\\",\\\")\\n        label, *message = line.split(\\\",\\\")\\n        messages.append((label, \\\" \\\".join(message)))\\n    return messages\";\n",
       "                var nbb_formatted_code = \"import io\\nimport zipfile\\nimport requests\\n\\n\\ndef get_sms_messages():\\n    # download zip archive\\n    training_data_url = (\\n        \\\"https://d2b7dn9rofvhjd.cloudfront.net/sms-spam-collection-dataset.zip\\\"\\n    )\\n    response = requests.get(training_data_url)\\n    z = zipfile.ZipFile(io.BytesIO(response.content))\\n\\n    # parse messages\\n    spam_text = z.read(\\\"spam.csv\\\").decode(\\\"latin1\\\")\\n    lines = iter(spam_text.split(\\\"\\\\r\\\\n\\\"))\\n    skipped = next(lines)  # skip first line\\n\\n    messages = []\\n    for line in lines:\\n        line = line.rstrip(\\\",\\\")\\n        label, *message = line.split(\\\",\\\")\\n        messages.append((label, \\\" \\\".join(message)))\\n    return messages\";\n",
       "                var nbb_cells = Jupyter.notebook.get_cells();\n",
       "                for (var i = 0; i < nbb_cells.length; ++i) {\n",
       "                    if (nbb_cells[i].input_prompt_number == nbb_cell_id) {\n",
       "                        if (nbb_cells[i].get_text() == nbb_unformatted_code) {\n",
       "                             nbb_cells[i].set_text(nbb_formatted_code);\n",
       "                        }\n",
       "                        break;\n",
       "                    }\n",
       "                }\n",
       "            }, 500);\n",
       "            "
      ],
      "text/plain": [
       "<IPython.core.display.Javascript object>"
      ]
     },
     "metadata": {},
     "output_type": "display_data"
    }
   ],
   "source": [
    "import io\n",
    "import zipfile\n",
    "import requests\n",
    "\n",
    "\n",
    "def get_sms_messages():\n",
    "    # download zip archive\n",
    "    training_data_url = (\n",
    "        \"https://d2b7dn9rofvhjd.cloudfront.net/sms-spam-collection-dataset.zip\"\n",
    "    )\n",
    "    response = requests.get(training_data_url)\n",
    "    z = zipfile.ZipFile(io.BytesIO(response.content))\n",
    "\n",
    "    # parse messages\n",
    "    spam_text = z.read(\"spam.csv\").decode(\"latin1\")\n",
    "    lines = iter(spam_text.split(\"\\r\\n\"))\n",
    "    skipped = next(lines)  # skip first line\n",
    "\n",
    "    messages = []\n",
    "    for line in lines:\n",
    "        line = line.rstrip(\",\")\n",
    "        label, *message = line.split(\",\")\n",
    "        messages.append((label, \" \".join(message)))\n",
    "    return messages"
   ]
  },
  {
   "cell_type": "markdown",
   "id": "306c682e",
   "metadata": {},
   "source": [
    "# Split Train/Test"
   ]
  },
  {
   "cell_type": "code",
   "execution_count": 49,
   "id": "a7317ae8",
   "metadata": {},
   "outputs": [
    {
     "data": {
      "application/javascript": [
       "\n",
       "            setTimeout(function() {\n",
       "                var nbb_cell_id = 49;\n",
       "                var nbb_unformatted_code = \"import random\\n\\n\\ndef split_train_test(messages, test_quote=0.25):\\n    train, test = [], []\\n    for label, message in messages:\\n        if random.random() < test_quote:\\n            test.append((label, message))\\n        else:\\n            train.append((label, message))\\n    return train, test\";\n",
       "                var nbb_formatted_code = \"import random\\n\\n\\ndef split_train_test(messages, test_quote=0.25):\\n    train, test = [], []\\n    for label, message in messages:\\n        if random.random() < test_quote:\\n            test.append((label, message))\\n        else:\\n            train.append((label, message))\\n    return train, test\";\n",
       "                var nbb_cells = Jupyter.notebook.get_cells();\n",
       "                for (var i = 0; i < nbb_cells.length; ++i) {\n",
       "                    if (nbb_cells[i].input_prompt_number == nbb_cell_id) {\n",
       "                        if (nbb_cells[i].get_text() == nbb_unformatted_code) {\n",
       "                             nbb_cells[i].set_text(nbb_formatted_code);\n",
       "                        }\n",
       "                        break;\n",
       "                    }\n",
       "                }\n",
       "            }, 500);\n",
       "            "
      ],
      "text/plain": [
       "<IPython.core.display.Javascript object>"
      ]
     },
     "metadata": {},
     "output_type": "display_data"
    }
   ],
   "source": [
    "import random\n",
    "\n",
    "\n",
    "def split_train_test(messages, test_quote=0.25):\n",
    "    train, test = [], []\n",
    "    for label, message in messages:\n",
    "        if random.random() < test_quote:\n",
    "            test.append((label, message))\n",
    "        else:\n",
    "            train.append((label, message))\n",
    "    return train, test"
   ]
  },
  {
   "cell_type": "code",
   "execution_count": 50,
   "id": "e269577a",
   "metadata": {},
   "outputs": [
    {
     "name": "stdout",
     "output_type": "stream",
     "text": [
      "4181 1391\n"
     ]
    },
    {
     "data": {
      "application/javascript": [
       "\n",
       "            setTimeout(function() {\n",
       "                var nbb_cell_id = 50;\n",
       "                var nbb_unformatted_code = \"train_messages, test_messages = split_train_test(messages)\\nprint(len(train_messages), len(test_messages))\";\n",
       "                var nbb_formatted_code = \"train_messages, test_messages = split_train_test(messages)\\nprint(len(train_messages), len(test_messages))\";\n",
       "                var nbb_cells = Jupyter.notebook.get_cells();\n",
       "                for (var i = 0; i < nbb_cells.length; ++i) {\n",
       "                    if (nbb_cells[i].input_prompt_number == nbb_cell_id) {\n",
       "                        if (nbb_cells[i].get_text() == nbb_unformatted_code) {\n",
       "                             nbb_cells[i].set_text(nbb_formatted_code);\n",
       "                        }\n",
       "                        break;\n",
       "                    }\n",
       "                }\n",
       "            }, 500);\n",
       "            "
      ],
      "text/plain": [
       "<IPython.core.display.Javascript object>"
      ]
     },
     "metadata": {},
     "output_type": "display_data"
    }
   ],
   "source": [
    "train_messages, test_messages = split_train_test(messages)\n",
    "print(len(train_messages), len(test_messages))"
   ]
  },
  {
   "cell_type": "markdown",
   "id": "85954e86",
   "metadata": {},
   "source": [
    "# Train Model"
   ]
  },
  {
   "cell_type": "code",
   "execution_count": 46,
   "id": "74f2c1b0",
   "metadata": {},
   "outputs": [
    {
     "data": {
      "application/javascript": [
       "\n",
       "            setTimeout(function() {\n",
       "                var nbb_cell_id = 46;\n",
       "                var nbb_unformatted_code = \"import re\\n\\nfrom collections import defaultdict\\n\\ntoken_pattern = re.compile(r\\\"(?u)\\\\b\\\\w\\\\w+\\\\b\\\")\\nstandard_tokenizer = token_pattern.findall\\n\\n\\ndef tokenize(message):\\n    return standard_tokenizer(message.lower())\";\n",
       "                var nbb_formatted_code = \"import re\\n\\nfrom collections import defaultdict\\n\\ntoken_pattern = re.compile(r\\\"(?u)\\\\b\\\\w\\\\w+\\\\b\\\")\\nstandard_tokenizer = token_pattern.findall\\n\\n\\ndef tokenize(message):\\n    return standard_tokenizer(message.lower())\";\n",
       "                var nbb_cells = Jupyter.notebook.get_cells();\n",
       "                for (var i = 0; i < nbb_cells.length; ++i) {\n",
       "                    if (nbb_cells[i].input_prompt_number == nbb_cell_id) {\n",
       "                        if (nbb_cells[i].get_text() == nbb_unformatted_code) {\n",
       "                             nbb_cells[i].set_text(nbb_formatted_code);\n",
       "                        }\n",
       "                        break;\n",
       "                    }\n",
       "                }\n",
       "            }, 500);\n",
       "            "
      ],
      "text/plain": [
       "<IPython.core.display.Javascript object>"
      ]
     },
     "metadata": {},
     "output_type": "display_data"
    }
   ],
   "source": [
    "import re\n",
    "\n",
    "from collections import defaultdict\n",
    "\n",
    "token_pattern = re.compile(r\"(?u)\\b\\w\\w+\\b\")\n",
    "standard_tokenizer = token_pattern.findall\n",
    "\n",
    "\n",
    "def tokenize(message):\n",
    "    return standard_tokenizer(message.lower())"
   ]
  },
  {
   "cell_type": "code",
   "execution_count": 36,
   "id": "0948d43b",
   "metadata": {},
   "outputs": [
    {
     "data": {
      "application/javascript": [
       "\n",
       "            setTimeout(function() {\n",
       "                var nbb_cell_id = 36;\n",
       "                var nbb_unformatted_code = \"def get_initial_probabilities(total):\\n    initial_probabilities = {}\\n    all_observations = sum(total.values())\\n    for label, observations_per_label in total.items():\\n        initial_probabilities[label] = observations_per_label / all_observations\\n    return initial_probabilities\\n\\n\\ndef get_words_per_label(counts):\\n    words_per_label = defaultdict(int)\\n    for word, label_counts in counts.items():\\n        for label, count in label_counts.items():\\n            # words_per_label[label] = words_per_label.get(label, 0) + 1\\n            words_per_label[label] += 1\\n    return words_per_label\\n\\n\\ndef build_model(counts, total):\\n    words_per_label = get_words_per_label(counts)\\n    return {\\n        \\\"counts\\\": counts,\\n        \\\"labels\\\": list(total.keys()),\\n        \\\"words_per_label\\\": words_per_label,\\n        \\\"minimal_probability\\\": 1.0 / sum(words_per_label.values()),\\n        \\\"initial_probabilities\\\": get_initial_probabilities(total),\\n    }\";\n",
       "                var nbb_formatted_code = \"def get_initial_probabilities(total):\\n    initial_probabilities = {}\\n    all_observations = sum(total.values())\\n    for label, observations_per_label in total.items():\\n        initial_probabilities[label] = observations_per_label / all_observations\\n    return initial_probabilities\\n\\n\\ndef get_words_per_label(counts):\\n    words_per_label = defaultdict(int)\\n    for word, label_counts in counts.items():\\n        for label, count in label_counts.items():\\n            # words_per_label[label] = words_per_label.get(label, 0) + 1\\n            words_per_label[label] += 1\\n    return words_per_label\\n\\n\\ndef build_model(counts, total):\\n    words_per_label = get_words_per_label(counts)\\n    return {\\n        \\\"counts\\\": counts,\\n        \\\"labels\\\": list(total.keys()),\\n        \\\"words_per_label\\\": words_per_label,\\n        \\\"minimal_probability\\\": 1.0 / sum(words_per_label.values()),\\n        \\\"initial_probabilities\\\": get_initial_probabilities(total),\\n    }\";\n",
       "                var nbb_cells = Jupyter.notebook.get_cells();\n",
       "                for (var i = 0; i < nbb_cells.length; ++i) {\n",
       "                    if (nbb_cells[i].input_prompt_number == nbb_cell_id) {\n",
       "                        if (nbb_cells[i].get_text() == nbb_unformatted_code) {\n",
       "                             nbb_cells[i].set_text(nbb_formatted_code);\n",
       "                        }\n",
       "                        break;\n",
       "                    }\n",
       "                }\n",
       "            }, 500);\n",
       "            "
      ],
      "text/plain": [
       "<IPython.core.display.Javascript object>"
      ]
     },
     "metadata": {},
     "output_type": "display_data"
    }
   ],
   "source": [
    "def get_initial_probabilities(total):\n",
    "    initial_probabilities = {}\n",
    "    all_observations = sum(total.values())\n",
    "    for label, observations_per_label in total.items():\n",
    "        initial_probabilities[label] = observations_per_label / all_observations\n",
    "    return initial_probabilities\n",
    "\n",
    "\n",
    "def get_words_per_label(counts):\n",
    "    words_per_label = defaultdict(int)\n",
    "    for word, label_counts in counts.items():\n",
    "        for label, count in label_counts.items():\n",
    "            words_per_label[label] += 1\n",
    "    return words_per_label\n",
    "\n",
    "\n",
    "def build_model(counts, total):\n",
    "    words_per_label = get_words_per_label(counts)\n",
    "    return {\n",
    "        \"counts\": counts,\n",
    "        \"labels\": list(total.keys()),\n",
    "        \"words_per_label\": words_per_label,\n",
    "        \"minimal_probability\": 1.0 / sum(words_per_label.values()),\n",
    "        \"initial_probabilities\": get_initial_probabilities(total),\n",
    "    }"
   ]
  },
  {
   "cell_type": "code",
   "execution_count": 37,
   "id": "b3dd6bf8",
   "metadata": {},
   "outputs": [
    {
     "data": {
      "application/javascript": [
       "\n",
       "            setTimeout(function() {\n",
       "                var nbb_cell_id = 37;\n",
       "                var nbb_unformatted_code = \"def train(messages):\\n    total = defaultdict(int)\\n    counts = defaultdict(lambda: defaultdict(int))\\n    for label, message in messages:\\n        total[label] += 1\\n        for word in tokenize(message):\\n            counts[word][label] += 1\\n    return build_model(counts, total)\";\n",
       "                var nbb_formatted_code = \"def train(messages):\\n    total = defaultdict(int)\\n    counts = defaultdict(lambda: defaultdict(int))\\n    for label, message in messages:\\n        total[label] += 1\\n        for word in tokenize(message):\\n            counts[word][label] += 1\\n    return build_model(counts, total)\";\n",
       "                var nbb_cells = Jupyter.notebook.get_cells();\n",
       "                for (var i = 0; i < nbb_cells.length; ++i) {\n",
       "                    if (nbb_cells[i].input_prompt_number == nbb_cell_id) {\n",
       "                        if (nbb_cells[i].get_text() == nbb_unformatted_code) {\n",
       "                             nbb_cells[i].set_text(nbb_formatted_code);\n",
       "                        }\n",
       "                        break;\n",
       "                    }\n",
       "                }\n",
       "            }, 500);\n",
       "            "
      ],
      "text/plain": [
       "<IPython.core.display.Javascript object>"
      ]
     },
     "metadata": {},
     "output_type": "display_data"
    }
   ],
   "source": [
    "def train(messages):\n",
    "    total = defaultdict(int)\n",
    "    counts = defaultdict(lambda: defaultdict(int))\n",
    "    for label, message in messages:\n",
    "        total[label] += 1\n",
    "        for word in tokenize(message):\n",
    "            counts[word][label] += 1\n",
    "    return build_model(counts, total)"
   ]
  },
  {
   "cell_type": "code",
   "execution_count": 38,
   "id": "bb106532",
   "metadata": {},
   "outputs": [
    {
     "name": "stdout",
     "output_type": "stream",
     "text": [
      "CPU times: user 54.3 ms, sys: 1.82 ms, total: 56.1 ms\n",
      "Wall time: 55 ms\n"
     ]
    },
    {
     "data": {
      "application/javascript": [
       "\n",
       "            setTimeout(function() {\n",
       "                var nbb_cell_id = 38;\n",
       "                var nbb_unformatted_code = \"%%time\\nmodel = train(train_messages)\";\n",
       "                var nbb_formatted_code = \"%%time\\nmodel = train(train_messages)\";\n",
       "                var nbb_cells = Jupyter.notebook.get_cells();\n",
       "                for (var i = 0; i < nbb_cells.length; ++i) {\n",
       "                    if (nbb_cells[i].input_prompt_number == nbb_cell_id) {\n",
       "                        if (nbb_cells[i].get_text() == nbb_unformatted_code) {\n",
       "                             nbb_cells[i].set_text(nbb_formatted_code);\n",
       "                        }\n",
       "                        break;\n",
       "                    }\n",
       "                }\n",
       "            }, 500);\n",
       "            "
      ],
      "text/plain": [
       "<IPython.core.display.Javascript object>"
      ]
     },
     "metadata": {},
     "output_type": "display_data"
    }
   ],
   "source": [
    "%%time\n",
    "model = train(train_messages)"
   ]
  },
  {
   "cell_type": "code",
   "execution_count": 51,
   "id": "cf83cf84",
   "metadata": {},
   "outputs": [
    {
     "data": {
      "text/plain": [
       "defaultdict(int, {'ham': 5984, 'spam': 2455})"
      ]
     },
     "execution_count": 51,
     "metadata": {},
     "output_type": "execute_result"
    },
    {
     "data": {
      "application/javascript": [
       "\n",
       "            setTimeout(function() {\n",
       "                var nbb_cell_id = 51;\n",
       "                var nbb_unformatted_code = \"model[\\\"words_per_label\\\"]\";\n",
       "                var nbb_formatted_code = \"model[\\\"words_per_label\\\"]\";\n",
       "                var nbb_cells = Jupyter.notebook.get_cells();\n",
       "                for (var i = 0; i < nbb_cells.length; ++i) {\n",
       "                    if (nbb_cells[i].input_prompt_number == nbb_cell_id) {\n",
       "                        if (nbb_cells[i].get_text() == nbb_unformatted_code) {\n",
       "                             nbb_cells[i].set_text(nbb_formatted_code);\n",
       "                        }\n",
       "                        break;\n",
       "                    }\n",
       "                }\n",
       "            }, 500);\n",
       "            "
      ],
      "text/plain": [
       "<IPython.core.display.Javascript object>"
      ]
     },
     "metadata": {},
     "output_type": "display_data"
    }
   ],
   "source": [
    "model[\"words_per_label\"]"
   ]
  },
  {
   "cell_type": "markdown",
   "id": "ffffbd35",
   "metadata": {},
   "source": [
    "# Predict Label"
   ]
  },
  {
   "cell_type": "code",
   "execution_count": 39,
   "id": "c23a1ab4",
   "metadata": {},
   "outputs": [
    {
     "data": {
      "application/javascript": [
       "\n",
       "            setTimeout(function() {\n",
       "                var nbb_cell_id = 39;\n",
       "                var nbb_unformatted_code = \"def normalize(label_results):\\n    try:\\n        scale_factor = 1.0 / sum(label_results.values())\\n    except ZeroDivisionError:\\n        scale_factor = 1\\n    for label, probability in label_results.items():\\n        label_results[label] = probability * scale_factor\\n    return label_results\\n\\n\\ndef predict(\\n    message,\\n    labels=[],\\n    counts={},\\n    words_per_label={},\\n    minimal_probability=None,\\n    initial_probabilities={},\\n):\\n    label_results = {}\\n    for word in tokenize(message):\\n        for label in labels:\\n            counts_per_label = counts.get(word, {})\\n            if label in counts_per_label:\\n                label_frequency = counts_per_label[label] / words_per_label[label]\\n            else:\\n                label_frequency = minimal_probability\\n            previous_result = label_results.get(label, initial_probabilities[label])\\n            label_results[label] = previous_result * label_frequency\\n    if label_results == {}:\\n        label_results = dict(initial_probabilities)\\n    return normalize(label_results)\\n\\n\\ndef predict(\\n    message,\\n    labels=[],\\n    counts={},\\n    words_per_label={},\\n    minimal_probability=None,\\n    initial_probabilities={},\\n):\\n    label_results = {}\\n    for word in tokenize(message):\\n        for label in labels:\\n            counts_per_label = counts.get(word, {})\\n            counts_per_label.get(\\n                label,\\n            )\\n\\n            if label in counts_per_label:\\n                label_frequency = counts_per_label[label] / words_per_label[label]\\n            else:\\n                label_frequency = minimal_probability\\n            previous_result = label_results.get(label, initial_probabilities[label])\\n            label_results[label] = previous_result * label_frequency\\n    if label_results == {}:\\n        label_results = dict(initial_probabilities)\\n    return normalize(label_results)\\n\\n\\ndef predict_label(message, **model):\\n    result = predict(message, **model)\\n    return sorted([(v, k) for k, v in result.items()], reverse=True)[0][1]\";\n",
       "                var nbb_formatted_code = \"def normalize(label_results):\\n    try:\\n        scale_factor = 1.0 / sum(label_results.values())\\n    except ZeroDivisionError:\\n        scale_factor = 1\\n    for label, probability in label_results.items():\\n        label_results[label] = probability * scale_factor\\n    return label_results\\n\\n\\ndef predict(\\n    message,\\n    labels=[],\\n    counts={},\\n    words_per_label={},\\n    minimal_probability=None,\\n    initial_probabilities={},\\n):\\n    label_results = {}\\n    for word in tokenize(message):\\n        for label in labels:\\n            counts_per_label = counts.get(word, {})\\n            if label in counts_per_label:\\n                label_frequency = counts_per_label[label] / words_per_label[label]\\n            else:\\n                label_frequency = minimal_probability\\n            previous_result = label_results.get(label, initial_probabilities[label])\\n            label_results[label] = previous_result * label_frequency\\n    if label_results == {}:\\n        label_results = dict(initial_probabilities)\\n    return normalize(label_results)\\n\\n\\ndef predict(\\n    message,\\n    labels=[],\\n    counts={},\\n    words_per_label={},\\n    minimal_probability=None,\\n    initial_probabilities={},\\n):\\n    label_results = {}\\n    for word in tokenize(message):\\n        for label in labels:\\n            counts_per_label = counts.get(word, {})\\n            counts_per_label.get(\\n                label,\\n            )\\n\\n            if label in counts_per_label:\\n                label_frequency = counts_per_label[label] / words_per_label[label]\\n            else:\\n                label_frequency = minimal_probability\\n            previous_result = label_results.get(label, initial_probabilities[label])\\n            label_results[label] = previous_result * label_frequency\\n    if label_results == {}:\\n        label_results = dict(initial_probabilities)\\n    return normalize(label_results)\\n\\n\\ndef predict_label(message, **model):\\n    result = predict(message, **model)\\n    return sorted([(v, k) for k, v in result.items()], reverse=True)[0][1]\";\n",
       "                var nbb_cells = Jupyter.notebook.get_cells();\n",
       "                for (var i = 0; i < nbb_cells.length; ++i) {\n",
       "                    if (nbb_cells[i].input_prompt_number == nbb_cell_id) {\n",
       "                        if (nbb_cells[i].get_text() == nbb_unformatted_code) {\n",
       "                             nbb_cells[i].set_text(nbb_formatted_code);\n",
       "                        }\n",
       "                        break;\n",
       "                    }\n",
       "                }\n",
       "            }, 500);\n",
       "            "
      ],
      "text/plain": [
       "<IPython.core.display.Javascript object>"
      ]
     },
     "metadata": {},
     "output_type": "display_data"
    }
   ],
   "source": [
    "def normalize(label_results):\n",
    "    try:\n",
    "        scale_factor = 1.0 / sum(label_results.values())\n",
    "    except ZeroDivisionError:\n",
    "        scale_factor = 1\n",
    "    for label, probability in label_results.items():\n",
    "        label_results[label] = probability * scale_factor\n",
    "    return label_results\n",
    "\n",
    "\n",
    "def predict(\n",
    "    message,\n",
    "    labels=[],\n",
    "    counts={},\n",
    "    words_per_label={},\n",
    "    minimal_probability=None,\n",
    "    initial_probabilities={},\n",
    "):\n",
    "    label_results = {}\n",
    "    for word in tokenize(message):\n",
    "        for label in labels:\n",
    "            counts_per_label = counts.get(word, {})\n",
    "            if label in counts_per_label:\n",
    "                label_frequency = counts_per_label[label] / words_per_label[label]\n",
    "            else:\n",
    "                label_frequency = minimal_probability\n",
    "            previous_result = label_results.get(label, initial_probabilities[label])\n",
    "            label_results[label] = previous_result * label_frequency\n",
    "    if label_results == {}:\n",
    "        label_results = dict(initial_probabilities)\n",
    "    return normalize(label_results)\n",
    "\n",
    "\n",
    "def predict_label(message, **model):\n",
    "    result = predict(message, **model)\n",
    "    return sorted([(v, k) for k, v in result.items()], reverse=True)[0][1]"
   ]
  },
  {
   "cell_type": "code",
   "execution_count": 40,
   "id": "3aa6b588",
   "metadata": {},
   "outputs": [
    {
     "data": {
      "application/javascript": [
       "\n",
       "            setTimeout(function() {\n",
       "                var nbb_cell_id = 40;\n",
       "                var nbb_unformatted_code = \"my_spam_message = \\\"renew your subscription for free now\\\"\\nmy_ham_message = \\\"remember to go to church on sunday\\\"\";\n",
       "                var nbb_formatted_code = \"my_spam_message = \\\"renew your subscription for free now\\\"\\nmy_ham_message = \\\"remember to go to church on sunday\\\"\";\n",
       "                var nbb_cells = Jupyter.notebook.get_cells();\n",
       "                for (var i = 0; i < nbb_cells.length; ++i) {\n",
       "                    if (nbb_cells[i].input_prompt_number == nbb_cell_id) {\n",
       "                        if (nbb_cells[i].get_text() == nbb_unformatted_code) {\n",
       "                             nbb_cells[i].set_text(nbb_formatted_code);\n",
       "                        }\n",
       "                        break;\n",
       "                    }\n",
       "                }\n",
       "            }, 500);\n",
       "            "
      ],
      "text/plain": [
       "<IPython.core.display.Javascript object>"
      ]
     },
     "metadata": {},
     "output_type": "display_data"
    }
   ],
   "source": [
    "my_spam_message = \"renew your subscription for free now\"\n",
    "my_ham_message = \"remember to go to church on sunday\""
   ]
  },
  {
   "cell_type": "code",
   "execution_count": 41,
   "id": "25cc86a0",
   "metadata": {},
   "outputs": [
    {
     "name": "stdout",
     "output_type": "stream",
     "text": [
      " ham: 0.99995695\n",
      "spam: 0.00004305\n",
      "CPU times: user 2.53 ms, sys: 1.65 ms, total: 4.18 ms\n",
      "Wall time: 3.01 ms\n"
     ]
    },
    {
     "data": {
      "application/javascript": [
       "\n",
       "            setTimeout(function() {\n",
       "                var nbb_cell_id = 41;\n",
       "                var nbb_unformatted_code = \"%%time\\nresult = predict(my_ham_message, **model)\\nfor label, probability in result.items():\\n    print(f\\\"{label:>4}: {probability:.8f}\\\")\";\n",
       "                var nbb_formatted_code = \"%%time\\nresult = predict(my_ham_message, **model)\\nfor label, probability in result.items():\\n    print(f\\\"{label:>4}: {probability:.8f}\\\")\";\n",
       "                var nbb_cells = Jupyter.notebook.get_cells();\n",
       "                for (var i = 0; i < nbb_cells.length; ++i) {\n",
       "                    if (nbb_cells[i].input_prompt_number == nbb_cell_id) {\n",
       "                        if (nbb_cells[i].get_text() == nbb_unformatted_code) {\n",
       "                             nbb_cells[i].set_text(nbb_formatted_code);\n",
       "                        }\n",
       "                        break;\n",
       "                    }\n",
       "                }\n",
       "            }, 500);\n",
       "            "
      ],
      "text/plain": [
       "<IPython.core.display.Javascript object>"
      ]
     },
     "metadata": {},
     "output_type": "display_data"
    }
   ],
   "source": [
    "%%time\n",
    "result = predict(my_ham_message, **model)\n",
    "for label, probability in result.items():\n",
    "    print(f\"{label:>4}: {probability:.8f}\")"
   ]
  },
  {
   "cell_type": "markdown",
   "id": "29bbbaba",
   "metadata": {},
   "source": [
    "# Evaluate"
   ]
  },
  {
   "cell_type": "code",
   "execution_count": 42,
   "id": "72f0dd9f",
   "metadata": {},
   "outputs": [
    {
     "name": "stdout",
     "output_type": "stream",
     "text": [
      "Accuracy: 0.977\n",
      "CPU times: user 36.2 ms, sys: 1.48 ms, total: 37.7 ms\n",
      "Wall time: 36.6 ms\n"
     ]
    },
    {
     "data": {
      "application/javascript": [
       "\n",
       "            setTimeout(function() {\n",
       "                var nbb_cell_id = 42;\n",
       "                var nbb_unformatted_code = \"%%time\\n\\ntrue_positives = 0\\nall_observations = len(test_messages)\\n\\nfor label, message in test_messages:\\n    if predict_label(message, **model) == label:\\n        true_positives += 1\\n\\naccuracy = true_positives / all_observations\\nprint(f\\\"Accuracy: {accuracy:.3f}\\\")\";\n",
       "                var nbb_formatted_code = \"%%time\\n\\ntrue_positives = 0\\nall_observations = len(test_messages)\\n\\nfor label, message in test_messages:\\n    if predict_label(message, **model) == label:\\n        true_positives += 1\\n\\naccuracy = true_positives / all_observations\\nprint(f\\\"Accuracy: {accuracy:.3f}\\\")\";\n",
       "                var nbb_cells = Jupyter.notebook.get_cells();\n",
       "                for (var i = 0; i < nbb_cells.length; ++i) {\n",
       "                    if (nbb_cells[i].input_prompt_number == nbb_cell_id) {\n",
       "                        if (nbb_cells[i].get_text() == nbb_unformatted_code) {\n",
       "                             nbb_cells[i].set_text(nbb_formatted_code);\n",
       "                        }\n",
       "                        break;\n",
       "                    }\n",
       "                }\n",
       "            }, 500);\n",
       "            "
      ],
      "text/plain": [
       "<IPython.core.display.Javascript object>"
      ]
     },
     "metadata": {},
     "output_type": "display_data"
    }
   ],
   "source": [
    "%%time\n",
    "\n",
    "true_positives = 0\n",
    "all_observations = len(test_messages)\n",
    "\n",
    "for label, message in test_messages:\n",
    "    if predict_label(message, **model) == label:\n",
    "        true_positives += 1\n",
    "\n",
    "accuracy = true_positives / all_observations\n",
    "print(f\"Accuracy: {accuracy:.3f}\")"
   ]
  },
  {
   "cell_type": "code",
   "execution_count": 43,
   "id": "806a728d",
   "metadata": {},
   "outputs": [
    {
     "data": {
      "application/javascript": [
       "\n",
       "            setTimeout(function() {\n",
       "                var nbb_cell_id = 43;\n",
       "                var nbb_unformatted_code = \"outcomes = ((\\\"true\\\", \\\"false\\\"), (\\\"positive\\\", \\\"negative\\\"))\\npossible_results = [f\\\"{a}_{b}\\\" for b in outcomes[1] for a in outcomes[0]]\\nresult_template = dict.fromkeys(possible_results, 0)\\n\\nlabels = set(model[\\\"labels\\\"])\\nlabel_results = {label: dict(result_template) for label in labels}\\nall_observations = len(test_messages)\\n\\nfor label, message in test_messages:\\n    predicted = predict_label(message, **model)\\n    if label == predicted:\\n        label_results[label][\\\"true_positive\\\"] += 1\\n    else:\\n        label_results[label][\\\"false_negative\\\"] += 1\\n        label_results[predicted][\\\"false_positive\\\"] += 1\";\n",
       "                var nbb_formatted_code = \"outcomes = ((\\\"true\\\", \\\"false\\\"), (\\\"positive\\\", \\\"negative\\\"))\\npossible_results = [f\\\"{a}_{b}\\\" for b in outcomes[1] for a in outcomes[0]]\\nresult_template = dict.fromkeys(possible_results, 0)\\n\\nlabels = set(model[\\\"labels\\\"])\\nlabel_results = {label: dict(result_template) for label in labels}\\nall_observations = len(test_messages)\\n\\nfor label, message in test_messages:\\n    predicted = predict_label(message, **model)\\n    if label == predicted:\\n        label_results[label][\\\"true_positive\\\"] += 1\\n    else:\\n        label_results[label][\\\"false_negative\\\"] += 1\\n        label_results[predicted][\\\"false_positive\\\"] += 1\";\n",
       "                var nbb_cells = Jupyter.notebook.get_cells();\n",
       "                for (var i = 0; i < nbb_cells.length; ++i) {\n",
       "                    if (nbb_cells[i].input_prompt_number == nbb_cell_id) {\n",
       "                        if (nbb_cells[i].get_text() == nbb_unformatted_code) {\n",
       "                             nbb_cells[i].set_text(nbb_formatted_code);\n",
       "                        }\n",
       "                        break;\n",
       "                    }\n",
       "                }\n",
       "            }, 500);\n",
       "            "
      ],
      "text/plain": [
       "<IPython.core.display.Javascript object>"
      ]
     },
     "metadata": {},
     "output_type": "display_data"
    }
   ],
   "source": [
    "outcomes = ((\"true\", \"false\"), (\"positive\", \"negative\"))\n",
    "possible_results = [f\"{a}_{b}\" for b in outcomes[1] for a in outcomes[0]]\n",
    "result_template = dict.fromkeys(possible_results, 0)\n",
    "\n",
    "labels = set(model[\"labels\"])\n",
    "label_results = {label: dict(result_template) for label in labels}\n",
    "all_observations = len(test_messages)\n",
    "\n",
    "for label, message in test_messages:\n",
    "    predicted = predict_label(message, **model)\n",
    "    if label == predicted:\n",
    "        label_results[label][\"true_positive\"] += 1\n",
    "    else:\n",
    "        label_results[label][\"false_negative\"] += 1\n",
    "        label_results[predicted][\"false_positive\"] += 1"
   ]
  },
  {
   "cell_type": "code",
   "execution_count": 44,
   "id": "73b98bd4",
   "metadata": {},
   "outputs": [
    {
     "data": {
      "application/javascript": [
       "\n",
       "            setTimeout(function() {\n",
       "                var nbb_cell_id = 44;\n",
       "                var nbb_unformatted_code = \"def precision_recall_f1(result):\\n    all_observations = sum(result.values())\\n    tp = result[\\\"true_positive\\\"]\\n    fp = result[\\\"false_positive\\\"]\\n    fn = result[\\\"false_negative\\\"]\\n    precision = tp / (tp + fp)\\n    recall = tp / (tp + fn)\\n    f1 = 2 * (precision * recall) / (precision + recall)\\n    return precision, recall, f1\\n\\n\\ndef show_result(label_results):\\n    for label, result in label_results.items():\\n        precision, recall, f1 = precision_recall_f1(result)\\n        print(\\n            f\\\"{label: >4} f1: {f1:.3f} precision: {precision:.3f} recall: {recall:.3f}\\\"\\n        )\";\n",
       "                var nbb_formatted_code = \"def precision_recall_f1(result):\\n    all_observations = sum(result.values())\\n    tp = result[\\\"true_positive\\\"]\\n    fp = result[\\\"false_positive\\\"]\\n    fn = result[\\\"false_negative\\\"]\\n    precision = tp / (tp + fp)\\n    recall = tp / (tp + fn)\\n    f1 = 2 * (precision * recall) / (precision + recall)\\n    return precision, recall, f1\\n\\n\\ndef show_result(label_results):\\n    for label, result in label_results.items():\\n        precision, recall, f1 = precision_recall_f1(result)\\n        print(\\n            f\\\"{label: >4} f1: {f1:.3f} precision: {precision:.3f} recall: {recall:.3f}\\\"\\n        )\";\n",
       "                var nbb_cells = Jupyter.notebook.get_cells();\n",
       "                for (var i = 0; i < nbb_cells.length; ++i) {\n",
       "                    if (nbb_cells[i].input_prompt_number == nbb_cell_id) {\n",
       "                        if (nbb_cells[i].get_text() == nbb_unformatted_code) {\n",
       "                             nbb_cells[i].set_text(nbb_formatted_code);\n",
       "                        }\n",
       "                        break;\n",
       "                    }\n",
       "                }\n",
       "            }, 500);\n",
       "            "
      ],
      "text/plain": [
       "<IPython.core.display.Javascript object>"
      ]
     },
     "metadata": {},
     "output_type": "display_data"
    }
   ],
   "source": [
    "def precision_recall_f1(result):\n",
    "    all_observations = sum(result.values())\n",
    "    tp = result[\"true_positive\"]\n",
    "    fp = result[\"false_positive\"]\n",
    "    fn = result[\"false_negative\"]\n",
    "    precision = tp / (tp + fp)\n",
    "    recall = tp / (tp + fn)\n",
    "    f1 = 2 * (precision * recall) / (precision + recall)\n",
    "    return precision, recall, f1\n",
    "\n",
    "\n",
    "def show_result(label_results):\n",
    "    for label, result in label_results.items():\n",
    "        precision, recall, f1 = precision_recall_f1(result)\n",
    "        print(\n",
    "            f\"{label: >4} f1: {f1:.3f} precision: {precision:.3f} recall: {recall:.3f}\"\n",
    "        )"
   ]
  },
  {
   "cell_type": "code",
   "execution_count": 45,
   "id": "4f4489c9",
   "metadata": {},
   "outputs": [
    {
     "name": "stdout",
     "output_type": "stream",
     "text": [
      "spam f1: 0.914 precision: 0.977 recall: 0.859\n",
      " ham f1: 0.986 precision: 0.976 recall: 0.997\n"
     ]
    },
    {
     "data": {
      "application/javascript": [
       "\n",
       "            setTimeout(function() {\n",
       "                var nbb_cell_id = 45;\n",
       "                var nbb_unformatted_code = \"# standard tokenizer\\nshow_result(label_results)\";\n",
       "                var nbb_formatted_code = \"# standard tokenizer\\nshow_result(label_results)\";\n",
       "                var nbb_cells = Jupyter.notebook.get_cells();\n",
       "                for (var i = 0; i < nbb_cells.length; ++i) {\n",
       "                    if (nbb_cells[i].input_prompt_number == nbb_cell_id) {\n",
       "                        if (nbb_cells[i].get_text() == nbb_unformatted_code) {\n",
       "                             nbb_cells[i].set_text(nbb_formatted_code);\n",
       "                        }\n",
       "                        break;\n",
       "                    }\n",
       "                }\n",
       "            }, 500);\n",
       "            "
      ],
      "text/plain": [
       "<IPython.core.display.Javascript object>"
      ]
     },
     "metadata": {},
     "output_type": "display_data"
    }
   ],
   "source": [
    "# standard tokenizer\n",
    "show_result(label_results)"
   ]
  },
  {
   "cell_type": "code",
   "execution_count": 32,
   "id": "b730e310",
   "metadata": {},
   "outputs": [
    {
     "name": "stdout",
     "output_type": "stream",
     "text": [
      "spam f1: 0.937 precision: 0.988 recall: 0.890\n",
      " ham f1: 0.990 precision: 0.983 recall: 0.998\n"
     ]
    },
    {
     "data": {
      "application/javascript": [
       "\n",
       "            setTimeout(function() {\n",
       "                var nbb_cell_id = 32;\n",
       "                var nbb_unformatted_code = \"# standard + lower\\nshow_result(label_results)\";\n",
       "                var nbb_formatted_code = \"# standard + lower\\nshow_result(label_results)\";\n",
       "                var nbb_cells = Jupyter.notebook.get_cells();\n",
       "                for (var i = 0; i < nbb_cells.length; ++i) {\n",
       "                    if (nbb_cells[i].input_prompt_number == nbb_cell_id) {\n",
       "                        if (nbb_cells[i].get_text() == nbb_unformatted_code) {\n",
       "                             nbb_cells[i].set_text(nbb_formatted_code);\n",
       "                        }\n",
       "                        break;\n",
       "                    }\n",
       "                }\n",
       "            }, 500);\n",
       "            "
      ],
      "text/plain": [
       "<IPython.core.display.Javascript object>"
      ]
     },
     "metadata": {},
     "output_type": "display_data"
    }
   ],
   "source": [
    "# standard + lower\n",
    "show_result(label_results)"
   ]
  },
  {
   "cell_type": "code",
   "execution_count": 56,
   "id": "324af6bb",
   "metadata": {},
   "outputs": [
    {
     "data": {
      "application/javascript": [
       "\n",
       "            setTimeout(function() {\n",
       "                var nbb_cell_id = 56;\n",
       "                var nbb_unformatted_code = \"class Foobar:\\n    blub = \\\"blua\\\"\";\n",
       "                var nbb_formatted_code = \"class Foobar:\\n    blub = \\\"blua\\\"\";\n",
       "                var nbb_cells = Jupyter.notebook.get_cells();\n",
       "                for (var i = 0; i < nbb_cells.length; ++i) {\n",
       "                    if (nbb_cells[i].input_prompt_number == nbb_cell_id) {\n",
       "                        if (nbb_cells[i].get_text() == nbb_unformatted_code) {\n",
       "                             nbb_cells[i].set_text(nbb_formatted_code);\n",
       "                        }\n",
       "                        break;\n",
       "                    }\n",
       "                }\n",
       "            }, 500);\n",
       "            "
      ],
      "text/plain": [
       "<IPython.core.display.Javascript object>"
      ]
     },
     "metadata": {},
     "output_type": "display_data"
    }
   ],
   "source": [
    "class Foobar:\n",
    "    blub = \"blua\""
   ]
  },
  {
   "cell_type": "code",
   "execution_count": 57,
   "id": "d3aa8fab",
   "metadata": {},
   "outputs": [
    {
     "data": {
      "application/javascript": [
       "\n",
       "            setTimeout(function() {\n",
       "                var nbb_cell_id = 57;\n",
       "                var nbb_unformatted_code = \"foo = Foobar()\";\n",
       "                var nbb_formatted_code = \"foo = Foobar()\";\n",
       "                var nbb_cells = Jupyter.notebook.get_cells();\n",
       "                for (var i = 0; i < nbb_cells.length; ++i) {\n",
       "                    if (nbb_cells[i].input_prompt_number == nbb_cell_id) {\n",
       "                        if (nbb_cells[i].get_text() == nbb_unformatted_code) {\n",
       "                             nbb_cells[i].set_text(nbb_formatted_code);\n",
       "                        }\n",
       "                        break;\n",
       "                    }\n",
       "                }\n",
       "            }, 500);\n",
       "            "
      ],
      "text/plain": [
       "<IPython.core.display.Javascript object>"
      ]
     },
     "metadata": {},
     "output_type": "display_data"
    }
   ],
   "source": [
    "foo = Foobar()"
   ]
  },
  {
   "cell_type": "code",
   "execution_count": 59,
   "id": "e0f35b29",
   "metadata": {},
   "outputs": [
    {
     "data": {
      "text/plain": [
       "'blua'"
      ]
     },
     "execution_count": 59,
     "metadata": {},
     "output_type": "execute_result"
    },
    {
     "data": {
      "application/javascript": [
       "\n",
       "            setTimeout(function() {\n",
       "                var nbb_cell_id = 59;\n",
       "                var nbb_unformatted_code = \"foo.blub\";\n",
       "                var nbb_formatted_code = \"foo.blub\";\n",
       "                var nbb_cells = Jupyter.notebook.get_cells();\n",
       "                for (var i = 0; i < nbb_cells.length; ++i) {\n",
       "                    if (nbb_cells[i].input_prompt_number == nbb_cell_id) {\n",
       "                        if (nbb_cells[i].get_text() == nbb_unformatted_code) {\n",
       "                             nbb_cells[i].set_text(nbb_formatted_code);\n",
       "                        }\n",
       "                        break;\n",
       "                    }\n",
       "                }\n",
       "            }, 500);\n",
       "            "
      ],
      "text/plain": [
       "<IPython.core.display.Javascript object>"
      ]
     },
     "metadata": {},
     "output_type": "display_data"
    }
   ],
   "source": [
    "foo.blub"
   ]
  },
  {
   "cell_type": "code",
   "execution_count": 60,
   "id": "0eb1c5a4",
   "metadata": {},
   "outputs": [
    {
     "data": {
      "application/javascript": [
       "\n",
       "            setTimeout(function() {\n",
       "                var nbb_cell_id = 60;\n",
       "                var nbb_unformatted_code = \"foo.blub = \\\"asdf\\\"\";\n",
       "                var nbb_formatted_code = \"foo.blub = \\\"asdf\\\"\";\n",
       "                var nbb_cells = Jupyter.notebook.get_cells();\n",
       "                for (var i = 0; i < nbb_cells.length; ++i) {\n",
       "                    if (nbb_cells[i].input_prompt_number == nbb_cell_id) {\n",
       "                        if (nbb_cells[i].get_text() == nbb_unformatted_code) {\n",
       "                             nbb_cells[i].set_text(nbb_formatted_code);\n",
       "                        }\n",
       "                        break;\n",
       "                    }\n",
       "                }\n",
       "            }, 500);\n",
       "            "
      ],
      "text/plain": [
       "<IPython.core.display.Javascript object>"
      ]
     },
     "metadata": {},
     "output_type": "display_data"
    }
   ],
   "source": [
    "foo.blub = \"asdf\""
   ]
  },
  {
   "cell_type": "code",
   "execution_count": 61,
   "id": "41aef1df",
   "metadata": {},
   "outputs": [
    {
     "data": {
      "application/javascript": [
       "\n",
       "            setTimeout(function() {\n",
       "                var nbb_cell_id = 61;\n",
       "                var nbb_unformatted_code = \"x = Foobar()\";\n",
       "                var nbb_formatted_code = \"x = Foobar()\";\n",
       "                var nbb_cells = Jupyter.notebook.get_cells();\n",
       "                for (var i = 0; i < nbb_cells.length; ++i) {\n",
       "                    if (nbb_cells[i].input_prompt_number == nbb_cell_id) {\n",
       "                        if (nbb_cells[i].get_text() == nbb_unformatted_code) {\n",
       "                             nbb_cells[i].set_text(nbb_formatted_code);\n",
       "                        }\n",
       "                        break;\n",
       "                    }\n",
       "                }\n",
       "            }, 500);\n",
       "            "
      ],
      "text/plain": [
       "<IPython.core.display.Javascript object>"
      ]
     },
     "metadata": {},
     "output_type": "display_data"
    }
   ],
   "source": [
    "x = Foobar()"
   ]
  },
  {
   "cell_type": "code",
   "execution_count": 62,
   "id": "a30d706c",
   "metadata": {},
   "outputs": [
    {
     "data": {
      "text/plain": [
       "'blua'"
      ]
     },
     "execution_count": 62,
     "metadata": {},
     "output_type": "execute_result"
    },
    {
     "data": {
      "application/javascript": [
       "\n",
       "            setTimeout(function() {\n",
       "                var nbb_cell_id = 62;\n",
       "                var nbb_unformatted_code = \"x.blub\";\n",
       "                var nbb_formatted_code = \"x.blub\";\n",
       "                var nbb_cells = Jupyter.notebook.get_cells();\n",
       "                for (var i = 0; i < nbb_cells.length; ++i) {\n",
       "                    if (nbb_cells[i].input_prompt_number == nbb_cell_id) {\n",
       "                        if (nbb_cells[i].get_text() == nbb_unformatted_code) {\n",
       "                             nbb_cells[i].set_text(nbb_formatted_code);\n",
       "                        }\n",
       "                        break;\n",
       "                    }\n",
       "                }\n",
       "            }, 500);\n",
       "            "
      ],
      "text/plain": [
       "<IPython.core.display.Javascript object>"
      ]
     },
     "metadata": {},
     "output_type": "display_data"
    }
   ],
   "source": [
    "x.blub"
   ]
  },
  {
   "cell_type": "code",
   "execution_count": 63,
   "id": "d2798be7",
   "metadata": {},
   "outputs": [
    {
     "data": {
      "text/plain": [
       "'asdf'"
      ]
     },
     "execution_count": 63,
     "metadata": {},
     "output_type": "execute_result"
    },
    {
     "data": {
      "application/javascript": [
       "\n",
       "            setTimeout(function() {\n",
       "                var nbb_cell_id = 63;\n",
       "                var nbb_unformatted_code = \"foo.blub\";\n",
       "                var nbb_formatted_code = \"foo.blub\";\n",
       "                var nbb_cells = Jupyter.notebook.get_cells();\n",
       "                for (var i = 0; i < nbb_cells.length; ++i) {\n",
       "                    if (nbb_cells[i].input_prompt_number == nbb_cell_id) {\n",
       "                        if (nbb_cells[i].get_text() == nbb_unformatted_code) {\n",
       "                             nbb_cells[i].set_text(nbb_formatted_code);\n",
       "                        }\n",
       "                        break;\n",
       "                    }\n",
       "                }\n",
       "            }, 500);\n",
       "            "
      ],
      "text/plain": [
       "<IPython.core.display.Javascript object>"
      ]
     },
     "metadata": {},
     "output_type": "display_data"
    }
   ],
   "source": [
    "foo.blub"
   ]
  },
  {
   "cell_type": "code",
   "execution_count": null,
   "id": "af57c385",
   "metadata": {},
   "outputs": [],
   "source": []
  }
 ],
 "metadata": {
  "kernelspec": {
   "display_name": "Django Shell-Plus",
   "language": "python",
   "name": "django_extensions"
  },
  "language_info": {
   "codemirror_mode": {
    "name": "ipython",
    "version": 3
   },
   "file_extension": ".py",
   "mimetype": "text/x-python",
   "name": "python",
   "nbconvert_exporter": "python",
   "pygments_lexer": "ipython3",
   "version": "3.11.1"
  }
 },
 "nbformat": 4,
 "nbformat_minor": 5
}
