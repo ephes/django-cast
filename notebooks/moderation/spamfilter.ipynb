{
 "cells": [
  {
   "cell_type": "code",
   "execution_count": 1,
   "id": "99dbab7f",
   "metadata": {},
   "outputs": [
    {
     "data": {
      "application/javascript": [
       "\n",
       "            setTimeout(function() {\n",
       "                var nbb_cell_id = 1;\n",
       "                var nbb_unformatted_code = \"%load_ext nb_black\";\n",
       "                var nbb_formatted_code = \"%load_ext nb_black\";\n",
       "                var nbb_cells = Jupyter.notebook.get_cells();\n",
       "                for (var i = 0; i < nbb_cells.length; ++i) {\n",
       "                    if (nbb_cells[i].input_prompt_number == nbb_cell_id) {\n",
       "                        if (nbb_cells[i].get_text() == nbb_unformatted_code) {\n",
       "                             nbb_cells[i].set_text(nbb_formatted_code);\n",
       "                        }\n",
       "                        break;\n",
       "                    }\n",
       "                }\n",
       "            }, 500);\n",
       "            "
      ],
      "text/plain": [
       "<IPython.core.display.Javascript object>"
      ]
     },
     "metadata": {},
     "output_type": "display_data"
    }
   ],
   "source": [
    "%load_ext nb_black"
   ]
  },
  {
   "cell_type": "code",
   "execution_count": 2,
   "id": "fa1472a7",
   "metadata": {},
   "outputs": [
    {
     "data": {
      "application/javascript": [
       "\n",
       "            setTimeout(function() {\n",
       "                var nbb_cell_id = 2;\n",
       "                var nbb_unformatted_code = \"import re\\n\\nfrom collections import defaultdict\\n\\n\\ndef split_tokenize(message):\\n    return message.split()\\n\\n\\ntoken_pattern = re.compile(r\\\"(?u)\\\\b\\\\w\\\\w+\\\\b\\\")\\nstandard_tokenizer = token_pattern.findall\\n\\n\\ndef tokenize(message):\\n    return standard_tokenizer(message.lower())\\n\\n\\nclass NaiveBayes:\\n    def __init__(self, tokenize=tokenize):\\n        self.tokenize = tokenize\\n\\n    def get_label_counts(self, messages):\\n        label_counts = defaultdict(int)\\n        for label, text in messages:\\n            label_counts[label] += 1\\n        return label_counts\\n\\n    def get_prior_probabilities(self, label_counts):\\n        number_of_messages = sum(label_counts.values())\\n        return {\\n            label: count / number_of_messages for label, count in label_counts.items()\\n        }\\n\\n    def get_word_label_counts(self, messages):\\n        counts = defaultdict(lambda: defaultdict(int))\\n        for label, text in messages:\\n            for word in self.tokenize(text):\\n                counts[word][label] += 1\\n        return counts\\n\\n    def get_number_of_words(self, word_label_counts):\\n        number_of_words = defaultdict(int)\\n        for word, counts in word_label_counts.items():\\n            for label, count in counts.items():\\n                number_of_words[label] += 1\\n        return number_of_words\\n\\n    def fit(self, messages):\\n        self.prior_probabilities = self.get_prior_probabilities(\\n            self.get_label_counts(messages)\\n        )\\n        self.word_label_counts = self.get_word_label_counts(messages)\\n        self.number_of_words = self.get_number_of_words(self.word_label_counts)\\n        return self\\n\\n    def update_probabilities(self, probabilities, counts_per_label, number_of_words):\\n        updated_probabilites = {}\\n        for label, prior_probability in probabilities.items():\\n            word_count = counts_per_label.get(label, 0.5)\\n            word_probability = word_count / number_of_words[label]\\n            updated_probabilites[label] = prior_probability * word_probability\\n        return updated_probabilites\\n\\n    def predict(self, message):\\n        probabilities = dict(self.prior_probabilities)\\n        for word in self.tokenize(message):\\n            counts_per_label = self.word_label_counts.get(word, {})\\n            probabilities = self.update_probabilities(\\n                probabilities, counts_per_label, self.number_of_words\\n            )\\n        return probabilities\\n\\n    def predict_label(self, message):\\n        probabilities = self.predict(message)\\n        return sorted(\\n            [(prob, label) for label, prob in probabilities.items()], reverse=True\\n        )[0][1]\";\n",
       "                var nbb_formatted_code = \"import re\\n\\nfrom collections import defaultdict\\n\\n\\ndef split_tokenize(message):\\n    return message.split()\\n\\n\\ntoken_pattern = re.compile(r\\\"(?u)\\\\b\\\\w\\\\w+\\\\b\\\")\\nstandard_tokenizer = token_pattern.findall\\n\\n\\ndef tokenize(message):\\n    return standard_tokenizer(message.lower())\\n\\n\\nclass NaiveBayes:\\n    def __init__(self, tokenize=tokenize):\\n        self.tokenize = tokenize\\n\\n    def get_label_counts(self, messages):\\n        label_counts = defaultdict(int)\\n        for label, text in messages:\\n            label_counts[label] += 1\\n        return label_counts\\n\\n    def get_prior_probabilities(self, label_counts):\\n        number_of_messages = sum(label_counts.values())\\n        return {\\n            label: count / number_of_messages for label, count in label_counts.items()\\n        }\\n\\n    def get_word_label_counts(self, messages):\\n        counts = defaultdict(lambda: defaultdict(int))\\n        for label, text in messages:\\n            for word in self.tokenize(text):\\n                counts[word][label] += 1\\n        return counts\\n\\n    def get_number_of_words(self, word_label_counts):\\n        number_of_words = defaultdict(int)\\n        for word, counts in word_label_counts.items():\\n            for label, count in counts.items():\\n                number_of_words[label] += 1\\n        return number_of_words\\n\\n    def fit(self, messages):\\n        self.prior_probabilities = self.get_prior_probabilities(\\n            self.get_label_counts(messages)\\n        )\\n        self.word_label_counts = self.get_word_label_counts(messages)\\n        self.number_of_words = self.get_number_of_words(self.word_label_counts)\\n        return self\\n\\n    def update_probabilities(self, probabilities, counts_per_label, number_of_words):\\n        updated_probabilites = {}\\n        for label, prior_probability in probabilities.items():\\n            word_count = counts_per_label.get(label, 0.5)\\n            word_probability = word_count / number_of_words[label]\\n            updated_probabilites[label] = prior_probability * word_probability\\n        return updated_probabilites\\n\\n    def predict(self, message):\\n        probabilities = dict(self.prior_probabilities)\\n        for word in self.tokenize(message):\\n            counts_per_label = self.word_label_counts.get(word, {})\\n            probabilities = self.update_probabilities(\\n                probabilities, counts_per_label, self.number_of_words\\n            )\\n        return probabilities\\n\\n    def predict_label(self, message):\\n        probabilities = self.predict(message)\\n        return sorted(\\n            [(prob, label) for label, prob in probabilities.items()], reverse=True\\n        )[0][1]\";\n",
       "                var nbb_cells = Jupyter.notebook.get_cells();\n",
       "                for (var i = 0; i < nbb_cells.length; ++i) {\n",
       "                    if (nbb_cells[i].input_prompt_number == nbb_cell_id) {\n",
       "                        if (nbb_cells[i].get_text() == nbb_unformatted_code) {\n",
       "                             nbb_cells[i].set_text(nbb_formatted_code);\n",
       "                        }\n",
       "                        break;\n",
       "                    }\n",
       "                }\n",
       "            }, 500);\n",
       "            "
      ],
      "text/plain": [
       "<IPython.core.display.Javascript object>"
      ]
     },
     "metadata": {},
     "output_type": "display_data"
    }
   ],
   "source": [
    "import re\n",
    "\n",
    "from collections import defaultdict\n",
    "\n",
    "\n",
    "def split_tokenize(message):\n",
    "    return message.split()\n",
    "\n",
    "\n",
    "token_pattern = re.compile(r\"(?u)\\b\\w\\w+\\b\")\n",
    "standard_tokenizer = token_pattern.findall\n",
    "\n",
    "\n",
    "def tokenize(message):\n",
    "    return standard_tokenizer(message.lower())\n",
    "\n",
    "\n",
    "class NaiveBayes:\n",
    "    def __init__(self, tokenize=tokenize):\n",
    "        self.tokenize = tokenize\n",
    "\n",
    "    def get_label_counts(self, messages):\n",
    "        label_counts = defaultdict(int)\n",
    "        for label, text in messages:\n",
    "            label_counts[label] += 1\n",
    "        return label_counts\n",
    "\n",
    "    def get_prior_probabilities(self, label_counts):\n",
    "        number_of_messages = sum(label_counts.values())\n",
    "        return {\n",
    "            label: count / number_of_messages for label, count in label_counts.items()\n",
    "        }\n",
    "\n",
    "    def get_word_label_counts(self, messages):\n",
    "        counts = defaultdict(lambda: defaultdict(int))\n",
    "        for label, text in messages:\n",
    "            for word in self.tokenize(text):\n",
    "                counts[word][label] += 1\n",
    "        return counts\n",
    "\n",
    "    def get_number_of_words(self, word_label_counts):\n",
    "        number_of_words = defaultdict(int)\n",
    "        for word, counts in word_label_counts.items():\n",
    "            for label, count in counts.items():\n",
    "                number_of_words[label] += 1\n",
    "        return number_of_words\n",
    "\n",
    "    def fit(self, messages):\n",
    "        self.prior_probabilities = self.get_prior_probabilities(\n",
    "            self.get_label_counts(messages)\n",
    "        )\n",
    "        self.word_label_counts = self.get_word_label_counts(messages)\n",
    "        self.number_of_words = self.get_number_of_words(self.word_label_counts)\n",
    "        return self\n",
    "\n",
    "    def update_probabilities(self, probabilities, counts_per_label, number_of_words):\n",
    "        updated_probabilites = {}\n",
    "        for label, prior_probability in probabilities.items():\n",
    "            word_count = counts_per_label.get(label, 0.5)\n",
    "            word_probability = word_count / number_of_words[label]\n",
    "            updated_probabilites[label] = prior_probability * word_probability\n",
    "        return updated_probabilites\n",
    "\n",
    "    def predict(self, message):\n",
    "        probabilities = dict(self.prior_probabilities)\n",
    "        for word in self.tokenize(message):\n",
    "            counts_per_label = self.word_label_counts.get(word, {})\n",
    "            probabilities = self.update_probabilities(\n",
    "                probabilities, counts_per_label, self.number_of_words\n",
    "            )\n",
    "        return probabilities\n",
    "\n",
    "    def predict_label(self, message):\n",
    "        probabilities = self.predict(message)\n",
    "        return sorted(\n",
    "            [(prob, label) for label, prob in probabilities.items()], reverse=True\n",
    "        )[0][1]"
   ]
  },
  {
   "cell_type": "code",
   "execution_count": 3,
   "id": "a8210730",
   "metadata": {},
   "outputs": [
    {
     "data": {
      "application/javascript": [
       "\n",
       "            setTimeout(function() {\n",
       "                var nbb_cell_id = 3;\n",
       "                var nbb_unformatted_code = \"def test_predict():\\n    train = [\\n        (\\\"spam\\\", \\\"foo bar baz\\\"),\\n        (\\\"spam\\\", \\\"foo asdf bsdf\\\"),\\n        (\\\"ham\\\", \\\"asdf csdf\\\"),\\n    ]\\n    test_cases = [\\n        # message, expected_probabilities\\n        (\\\"foo\\\", {\\\"ham\\\": (1 / 3) * (0.5 / 2), \\\"spam\\\": (2 / 3) * (2 / 5)})\\n    ]\\n    model = NaiveBayes().fit(train)\\n    for message, expected_probabilites in test_cases:\\n        probabilities = model.predict(message)\\n        assert probabilities == expected_probabilites\\n\\n\\ntest_predict()\";\n",
       "                var nbb_formatted_code = \"def test_predict():\\n    train = [\\n        (\\\"spam\\\", \\\"foo bar baz\\\"),\\n        (\\\"spam\\\", \\\"foo asdf bsdf\\\"),\\n        (\\\"ham\\\", \\\"asdf csdf\\\"),\\n    ]\\n    test_cases = [\\n        # message, expected_probabilities\\n        (\\\"foo\\\", {\\\"ham\\\": (1 / 3) * (0.5 / 2), \\\"spam\\\": (2 / 3) * (2 / 5)})\\n    ]\\n    model = NaiveBayes().fit(train)\\n    for message, expected_probabilites in test_cases:\\n        probabilities = model.predict(message)\\n        assert probabilities == expected_probabilites\\n\\n\\ntest_predict()\";\n",
       "                var nbb_cells = Jupyter.notebook.get_cells();\n",
       "                for (var i = 0; i < nbb_cells.length; ++i) {\n",
       "                    if (nbb_cells[i].input_prompt_number == nbb_cell_id) {\n",
       "                        if (nbb_cells[i].get_text() == nbb_unformatted_code) {\n",
       "                             nbb_cells[i].set_text(nbb_formatted_code);\n",
       "                        }\n",
       "                        break;\n",
       "                    }\n",
       "                }\n",
       "            }, 500);\n",
       "            "
      ],
      "text/plain": [
       "<IPython.core.display.Javascript object>"
      ]
     },
     "metadata": {},
     "output_type": "display_data"
    }
   ],
   "source": [
    "def test_predict():\n",
    "    train = [\n",
    "        (\"spam\", \"foo bar baz\"),\n",
    "        (\"spam\", \"foo asdf bsdf\"),\n",
    "        (\"ham\", \"asdf csdf\"),\n",
    "    ]\n",
    "    test_cases = [\n",
    "        # message, expected_probabilities\n",
    "        (\"foo\", {\"ham\": (1 / 3) * (0.5 / 2), \"spam\": (2 / 3) * (2 / 5)})\n",
    "    ]\n",
    "    model = NaiveBayes().fit(train)\n",
    "    for message, expected_probabilites in test_cases:\n",
    "        probabilities = model.predict(message)\n",
    "        assert probabilities == expected_probabilites\n",
    "\n",
    "\n",
    "test_predict()"
   ]
  },
  {
   "cell_type": "code",
   "execution_count": 4,
   "id": "df730d64",
   "metadata": {},
   "outputs": [
    {
     "data": {
      "application/javascript": [
       "\n",
       "            setTimeout(function() {\n",
       "                var nbb_cell_id = 4;\n",
       "                var nbb_unformatted_code = \"def test_predict_word_probabilities():\\n    test_cases = [\\n        # (probabilities, counts_per_label, number_of_words), expected\\n        (({}, {}, {}), {}),\\n        (({\\\"spam\\\": 1}, {\\\"spam\\\": 10}, {\\\"spam\\\": 100}), {\\\"spam\\\": 0.1}),\\n        (\\n            ({\\\"spam\\\": 1, \\\"ham\\\": 0.5}, {\\\"spam\\\": 10, \\\"ham\\\": 5}, {\\\"spam\\\": 100, \\\"ham\\\": 50}),\\n            {\\\"spam\\\": 0.1, \\\"ham\\\": 0.05},\\n        ),\\n        # no word count -> make sure probability is > 0\\n        (({\\\"spam\\\": 1}, {}, {\\\"spam\\\": 100}), {\\\"spam\\\": 0.005}),\\n    ]\\n    model = NaiveBayes()\\n    for (probabilities, counts_per_label, number_of_words), expected in test_cases:\\n        updated = model.update_probabilities(\\n            probabilities, counts_per_label, number_of_words\\n        )\\n        assert updated == expected\\n\\n\\ntest_predict_word_probabilities()\";\n",
       "                var nbb_formatted_code = \"def test_predict_word_probabilities():\\n    test_cases = [\\n        # (probabilities, counts_per_label, number_of_words), expected\\n        (({}, {}, {}), {}),\\n        (({\\\"spam\\\": 1}, {\\\"spam\\\": 10}, {\\\"spam\\\": 100}), {\\\"spam\\\": 0.1}),\\n        (\\n            ({\\\"spam\\\": 1, \\\"ham\\\": 0.5}, {\\\"spam\\\": 10, \\\"ham\\\": 5}, {\\\"spam\\\": 100, \\\"ham\\\": 50}),\\n            {\\\"spam\\\": 0.1, \\\"ham\\\": 0.05},\\n        ),\\n        # no word count -> make sure probability is > 0\\n        (({\\\"spam\\\": 1}, {}, {\\\"spam\\\": 100}), {\\\"spam\\\": 0.005}),\\n    ]\\n    model = NaiveBayes()\\n    for (probabilities, counts_per_label, number_of_words), expected in test_cases:\\n        updated = model.update_probabilities(\\n            probabilities, counts_per_label, number_of_words\\n        )\\n        assert updated == expected\\n\\n\\ntest_predict_word_probabilities()\";\n",
       "                var nbb_cells = Jupyter.notebook.get_cells();\n",
       "                for (var i = 0; i < nbb_cells.length; ++i) {\n",
       "                    if (nbb_cells[i].input_prompt_number == nbb_cell_id) {\n",
       "                        if (nbb_cells[i].get_text() == nbb_unformatted_code) {\n",
       "                             nbb_cells[i].set_text(nbb_formatted_code);\n",
       "                        }\n",
       "                        break;\n",
       "                    }\n",
       "                }\n",
       "            }, 500);\n",
       "            "
      ],
      "text/plain": [
       "<IPython.core.display.Javascript object>"
      ]
     },
     "metadata": {},
     "output_type": "display_data"
    }
   ],
   "source": [
    "def test_predict_word_probabilities():\n",
    "    test_cases = [\n",
    "        # (probabilities, counts_per_label, number_of_words), expected\n",
    "        (({}, {}, {}), {}),\n",
    "        (({\"spam\": 1}, {\"spam\": 10}, {\"spam\": 100}), {\"spam\": 0.1}),\n",
    "        (\n",
    "            ({\"spam\": 1, \"ham\": 0.5}, {\"spam\": 10, \"ham\": 5}, {\"spam\": 100, \"ham\": 50}),\n",
    "            {\"spam\": 0.1, \"ham\": 0.05},\n",
    "        ),\n",
    "        # no word count -> make sure probability is > 0\n",
    "        (({\"spam\": 1}, {}, {\"spam\": 100}), {\"spam\": 0.005}),\n",
    "    ]\n",
    "    model = NaiveBayes()\n",
    "    for (probabilities, counts_per_label, number_of_words), expected in test_cases:\n",
    "        updated = model.update_probabilities(\n",
    "            probabilities, counts_per_label, number_of_words\n",
    "        )\n",
    "        assert updated == expected\n",
    "\n",
    "\n",
    "test_predict_word_probabilities()"
   ]
  },
  {
   "cell_type": "code",
   "execution_count": 5,
   "id": "cf7957d2",
   "metadata": {},
   "outputs": [
    {
     "data": {
      "application/javascript": [
       "\n",
       "            setTimeout(function() {\n",
       "                var nbb_cell_id = 5;\n",
       "                var nbb_unformatted_code = \"def test_initial_probabilities():\\n    test_cases = [\\n        # (train, expected_initial_probabilities)\\n        ([], {}),\\n        ([(\\\"ham\\\", \\\"\\\"), (\\\"spam\\\", \\\"\\\")], {\\\"ham\\\": 0.5, \\\"spam\\\": 0.5}),\\n        ([(i, \\\"\\\") for i in range(3)], {k: 1 / 3 for k in range(3)}),\\n    ]\\n    for train, expected_initial_probabilities in test_cases:\\n        model = NaiveBayes().fit(train)\\n        probabilities = model.predict(\\\"\\\")\\n        assert probabilities == expected_initial_probabilities\\n\\n\\ntest_initial_probabilities()\";\n",
       "                var nbb_formatted_code = \"def test_initial_probabilities():\\n    test_cases = [\\n        # (train, expected_initial_probabilities)\\n        ([], {}),\\n        ([(\\\"ham\\\", \\\"\\\"), (\\\"spam\\\", \\\"\\\")], {\\\"ham\\\": 0.5, \\\"spam\\\": 0.5}),\\n        ([(i, \\\"\\\") for i in range(3)], {k: 1 / 3 for k in range(3)}),\\n    ]\\n    for train, expected_initial_probabilities in test_cases:\\n        model = NaiveBayes().fit(train)\\n        probabilities = model.predict(\\\"\\\")\\n        assert probabilities == expected_initial_probabilities\\n\\n\\ntest_initial_probabilities()\";\n",
       "                var nbb_cells = Jupyter.notebook.get_cells();\n",
       "                for (var i = 0; i < nbb_cells.length; ++i) {\n",
       "                    if (nbb_cells[i].input_prompt_number == nbb_cell_id) {\n",
       "                        if (nbb_cells[i].get_text() == nbb_unformatted_code) {\n",
       "                             nbb_cells[i].set_text(nbb_formatted_code);\n",
       "                        }\n",
       "                        break;\n",
       "                    }\n",
       "                }\n",
       "            }, 500);\n",
       "            "
      ],
      "text/plain": [
       "<IPython.core.display.Javascript object>"
      ]
     },
     "metadata": {},
     "output_type": "display_data"
    }
   ],
   "source": [
    "def test_initial_probabilities():\n",
    "    test_cases = [\n",
    "        # (train, expected_initial_probabilities)\n",
    "        ([], {}),\n",
    "        ([(\"ham\", \"\"), (\"spam\", \"\")], {\"ham\": 0.5, \"spam\": 0.5}),\n",
    "        ([(i, \"\") for i in range(3)], {k: 1 / 3 for k in range(3)}),\n",
    "    ]\n",
    "    for train, expected_initial_probabilities in test_cases:\n",
    "        model = NaiveBayes().fit(train)\n",
    "        probabilities = model.predict(\"\")\n",
    "        assert probabilities == expected_initial_probabilities\n",
    "\n",
    "\n",
    "test_initial_probabilities()"
   ]
  },
  {
   "cell_type": "markdown",
   "id": "476777ad",
   "metadata": {},
   "source": [
    "# Evaluation"
   ]
  },
  {
   "cell_type": "code",
   "execution_count": 6,
   "id": "5cb9d6fe",
   "metadata": {},
   "outputs": [
    {
     "data": {
      "application/javascript": [
       "\n",
       "            setTimeout(function() {\n",
       "                var nbb_cell_id = 6;\n",
       "                var nbb_unformatted_code = \"import random\\n\\nrandom.seed(2021)  # make sure the same messages are choosen between restarts\\n\\n\\ndef split_train_test(messages, test_quote=0.1):\\n    messages_by_label = defaultdict(list)\\n    for label, text in messages:\\n        messages_by_label[label].append((label, text))\\n\\n    # stratified sampling\\n    test, train = [], []\\n    for label, label_messages in messages_by_label.items():\\n        indices = list(range(len(label_messages)))\\n        test_len = int(len(indices) * test_quote)\\n        test_indices = set(random.sample(indices, test_len))\\n        for index, message in enumerate(label_messages):\\n            if index in test_indices:\\n                test.append(message)\\n            else:\\n                train.append(message)\\n    return train, test\";\n",
       "                var nbb_formatted_code = \"import random\\n\\nrandom.seed(2021)  # make sure the same messages are choosen between restarts\\n\\n\\ndef split_train_test(messages, test_quote=0.1):\\n    messages_by_label = defaultdict(list)\\n    for label, text in messages:\\n        messages_by_label[label].append((label, text))\\n\\n    # stratified sampling\\n    test, train = [], []\\n    for label, label_messages in messages_by_label.items():\\n        indices = list(range(len(label_messages)))\\n        test_len = int(len(indices) * test_quote)\\n        test_indices = set(random.sample(indices, test_len))\\n        for index, message in enumerate(label_messages):\\n            if index in test_indices:\\n                test.append(message)\\n            else:\\n                train.append(message)\\n    return train, test\";\n",
       "                var nbb_cells = Jupyter.notebook.get_cells();\n",
       "                for (var i = 0; i < nbb_cells.length; ++i) {\n",
       "                    if (nbb_cells[i].input_prompt_number == nbb_cell_id) {\n",
       "                        if (nbb_cells[i].get_text() == nbb_unformatted_code) {\n",
       "                             nbb_cells[i].set_text(nbb_formatted_code);\n",
       "                        }\n",
       "                        break;\n",
       "                    }\n",
       "                }\n",
       "            }, 500);\n",
       "            "
      ],
      "text/plain": [
       "<IPython.core.display.Javascript object>"
      ]
     },
     "metadata": {},
     "output_type": "display_data"
    }
   ],
   "source": [
    "import random\n",
    "\n",
    "random.seed(2021)  # make sure the same messages are choosen between restarts\n",
    "\n",
    "\n",
    "def split_train_test(messages, test_quote=0.1):\n",
    "    messages_by_label = defaultdict(list)\n",
    "    for label, text in messages:\n",
    "        messages_by_label[label].append((label, text))\n",
    "\n",
    "    # stratified sampling\n",
    "    test, train = [], []\n",
    "    for label, label_messages in messages_by_label.items():\n",
    "        indices = list(range(len(label_messages)))\n",
    "        test_len = int(len(indices) * test_quote)\n",
    "        test_indices = set(random.sample(indices, test_len))\n",
    "        for index, message in enumerate(label_messages):\n",
    "            if index in test_indices:\n",
    "                test.append(message)\n",
    "            else:\n",
    "                train.append(message)\n",
    "    return train, test"
   ]
  },
  {
   "cell_type": "code",
   "execution_count": 7,
   "id": "c8ab94dc",
   "metadata": {},
   "outputs": [
    {
     "data": {
      "application/javascript": [
       "\n",
       "            setTimeout(function() {\n",
       "                var nbb_cell_id = 7;\n",
       "                var nbb_unformatted_code = \"from django_comments import get_model as get_comments_model\\n\\nComment = get_comments_model()\\n\\n\\ndef get_messages_from_comments():\\n    messages = []\\n    for comment in Comment.objects.all():\\n        label = \\\"spam\\\" if comment.is_removed else \\\"ham\\\"\\n        message = f\\\"{comment.name} {comment.title} {comment.comment}\\\"\\n        messages.append((label, message))\\n    return messages\\n\\n\\nmessages = get_messages_from_comments()\";\n",
       "                var nbb_formatted_code = \"from django_comments import get_model as get_comments_model\\n\\nComment = get_comments_model()\\n\\n\\ndef get_messages_from_comments():\\n    messages = []\\n    for comment in Comment.objects.all():\\n        label = \\\"spam\\\" if comment.is_removed else \\\"ham\\\"\\n        message = f\\\"{comment.name} {comment.title} {comment.comment}\\\"\\n        messages.append((label, message))\\n    return messages\\n\\n\\nmessages = get_messages_from_comments()\";\n",
       "                var nbb_cells = Jupyter.notebook.get_cells();\n",
       "                for (var i = 0; i < nbb_cells.length; ++i) {\n",
       "                    if (nbb_cells[i].input_prompt_number == nbb_cell_id) {\n",
       "                        if (nbb_cells[i].get_text() == nbb_unformatted_code) {\n",
       "                             nbb_cells[i].set_text(nbb_formatted_code);\n",
       "                        }\n",
       "                        break;\n",
       "                    }\n",
       "                }\n",
       "            }, 500);\n",
       "            "
      ],
      "text/plain": [
       "<IPython.core.display.Javascript object>"
      ]
     },
     "metadata": {},
     "output_type": "display_data"
    }
   ],
   "source": [
    "from django_comments import get_model as get_comments_model\n",
    "\n",
    "Comment = get_comments_model()\n",
    "\n",
    "\n",
    "def get_messages_from_comments():\n",
    "    messages = []\n",
    "    for comment in Comment.objects.all():\n",
    "        label = \"spam\" if comment.is_removed else \"ham\"\n",
    "        message = f\"{comment.name} {comment.title} {comment.comment}\"\n",
    "        messages.append((label, message))\n",
    "    return messages\n",
    "\n",
    "\n",
    "messages = get_messages_from_comments()"
   ]
  },
  {
   "cell_type": "code",
   "execution_count": 8,
   "id": "21b9964f",
   "metadata": {},
   "outputs": [
    {
     "name": "stdout",
     "output_type": "stream",
     "text": [
      "310 34\n"
     ]
    },
    {
     "data": {
      "application/javascript": [
       "\n",
       "            setTimeout(function() {\n",
       "                var nbb_cell_id = 8;\n",
       "                var nbb_unformatted_code = \"train_messages, test_messages = split_train_test(messages, test_quote=0.1)\\nprint(len(train_messages), len(test_messages))\\nmodel = NaiveBayes().fit(train_messages)\";\n",
       "                var nbb_formatted_code = \"train_messages, test_messages = split_train_test(messages, test_quote=0.1)\\nprint(len(train_messages), len(test_messages))\\nmodel = NaiveBayes().fit(train_messages)\";\n",
       "                var nbb_cells = Jupyter.notebook.get_cells();\n",
       "                for (var i = 0; i < nbb_cells.length; ++i) {\n",
       "                    if (nbb_cells[i].input_prompt_number == nbb_cell_id) {\n",
       "                        if (nbb_cells[i].get_text() == nbb_unformatted_code) {\n",
       "                             nbb_cells[i].set_text(nbb_formatted_code);\n",
       "                        }\n",
       "                        break;\n",
       "                    }\n",
       "                }\n",
       "            }, 500);\n",
       "            "
      ],
      "text/plain": [
       "<IPython.core.display.Javascript object>"
      ]
     },
     "metadata": {},
     "output_type": "display_data"
    }
   ],
   "source": [
    "train_messages, test_messages = split_train_test(messages, test_quote=0.1)\n",
    "print(len(train_messages), len(test_messages))\n",
    "model = NaiveBayes().fit(train_messages)"
   ]
  },
  {
   "cell_type": "code",
   "execution_count": 9,
   "id": "983094e1",
   "metadata": {},
   "outputs": [
    {
     "name": "stdout",
     "output_type": "stream",
     "text": [
      "Accuracy: 1.000\n",
      "CPU times: user 6.75 ms, sys: 1.49 ms, total: 8.24 ms\n",
      "Wall time: 7.09 ms\n"
     ]
    },
    {
     "data": {
      "application/javascript": [
       "\n",
       "            setTimeout(function() {\n",
       "                var nbb_cell_id = 9;\n",
       "                var nbb_unformatted_code = \"%%time\\n\\ntrue_positives = 0\\nall_observations = len(test_messages)\\n\\nfor label, message in test_messages:\\n    if model.predict_label(message) == label:\\n        true_positives += 1\\n\\naccuracy = true_positives / all_observations\\nprint(f\\\"Accuracy: {accuracy:.3f}\\\")\";\n",
       "                var nbb_formatted_code = \"%%time\\n\\ntrue_positives = 0\\nall_observations = len(test_messages)\\n\\nfor label, message in test_messages:\\n    if model.predict_label(message) == label:\\n        true_positives += 1\\n\\naccuracy = true_positives / all_observations\\nprint(f\\\"Accuracy: {accuracy:.3f}\\\")\";\n",
       "                var nbb_cells = Jupyter.notebook.get_cells();\n",
       "                for (var i = 0; i < nbb_cells.length; ++i) {\n",
       "                    if (nbb_cells[i].input_prompt_number == nbb_cell_id) {\n",
       "                        if (nbb_cells[i].get_text() == nbb_unformatted_code) {\n",
       "                             nbb_cells[i].set_text(nbb_formatted_code);\n",
       "                        }\n",
       "                        break;\n",
       "                    }\n",
       "                }\n",
       "            }, 500);\n",
       "            "
      ],
      "text/plain": [
       "<IPython.core.display.Javascript object>"
      ]
     },
     "metadata": {},
     "output_type": "display_data"
    }
   ],
   "source": [
    "%%time\n",
    "\n",
    "true_positives = 0\n",
    "all_observations = len(test_messages)\n",
    "\n",
    "for label, message in test_messages:\n",
    "    if model.predict_label(message) == label:\n",
    "        true_positives += 1\n",
    "\n",
    "accuracy = true_positives / all_observations\n",
    "print(f\"Accuracy: {accuracy:.3f}\")"
   ]
  },
  {
   "cell_type": "code",
   "execution_count": 36,
   "id": "cb397c7c",
   "metadata": {},
   "outputs": [
    {
     "data": {
      "application/javascript": [
       "\n",
       "            setTimeout(function() {\n",
       "                var nbb_cell_id = 36;\n",
       "                var nbb_unformatted_code = \"outcomes = ((\\\"true\\\", \\\"false\\\"), (\\\"positive\\\", \\\"negative\\\"))\\npossible_results = [f\\\"{a}_{b}\\\" for b in outcomes[1] for a in outcomes[0]]\\nresult_template = dict.fromkeys(possible_results, 0)\\n\\nlabels = set(model.prior_probabilities.keys())\\nlabel_results = {label: dict(result_template) for label in labels}\\nall_observations = len(test_messages)\\n\\nfor label, message in test_messages:\\n    predicted = model.predict_label(message)\\n    if label == predicted:\\n        label_results[label][\\\"true_positive\\\"] += 1\\n    else:\\n        label_results[label][\\\"false_negative\\\"] += 1\\n        label_results[predicted][\\\"false_positive\\\"] += 1\";\n",
       "                var nbb_formatted_code = \"outcomes = ((\\\"true\\\", \\\"false\\\"), (\\\"positive\\\", \\\"negative\\\"))\\npossible_results = [f\\\"{a}_{b}\\\" for b in outcomes[1] for a in outcomes[0]]\\nresult_template = dict.fromkeys(possible_results, 0)\\n\\nlabels = set(model.prior_probabilities.keys())\\nlabel_results = {label: dict(result_template) for label in labels}\\nall_observations = len(test_messages)\\n\\nfor label, message in test_messages:\\n    predicted = model.predict_label(message)\\n    if label == predicted:\\n        label_results[label][\\\"true_positive\\\"] += 1\\n    else:\\n        label_results[label][\\\"false_negative\\\"] += 1\\n        label_results[predicted][\\\"false_positive\\\"] += 1\";\n",
       "                var nbb_cells = Jupyter.notebook.get_cells();\n",
       "                for (var i = 0; i < nbb_cells.length; ++i) {\n",
       "                    if (nbb_cells[i].input_prompt_number == nbb_cell_id) {\n",
       "                        if (nbb_cells[i].get_text() == nbb_unformatted_code) {\n",
       "                             nbb_cells[i].set_text(nbb_formatted_code);\n",
       "                        }\n",
       "                        break;\n",
       "                    }\n",
       "                }\n",
       "            }, 500);\n",
       "            "
      ],
      "text/plain": [
       "<IPython.core.display.Javascript object>"
      ]
     },
     "metadata": {},
     "output_type": "display_data"
    }
   ],
   "source": [
    "outcomes = ((\"true\", \"false\"), (\"positive\", \"negative\"))\n",
    "possible_results = [f\"{a}_{b}\" for b in outcomes[1] for a in outcomes[0]]\n",
    "result_template = dict.fromkeys(possible_results, 0)\n",
    "\n",
    "labels = set(model.prior_probabilities.keys())\n",
    "label_results = {label: dict(result_template) for label in labels}\n",
    "all_observations = len(test_messages)\n",
    "\n",
    "for label, message in test_messages:\n",
    "    predicted = model.predict_label(message)\n",
    "    if label == predicted:\n",
    "        label_results[label][\"true_positive\"] += 1\n",
    "    else:\n",
    "        label_results[label][\"false_negative\"] += 1\n",
    "        label_results[predicted][\"false_positive\"] += 1"
   ]
  },
  {
   "cell_type": "code",
   "execution_count": 37,
   "id": "3581efd2",
   "metadata": {},
   "outputs": [
    {
     "data": {
      "application/javascript": [
       "\n",
       "            setTimeout(function() {\n",
       "                var nbb_cell_id = 37;\n",
       "                var nbb_unformatted_code = \"def precision_recall_f1(result):\\n    all_observations = sum(result.values())\\n    tp = result[\\\"true_positive\\\"]\\n    fp = result[\\\"false_positive\\\"]\\n    fn = result[\\\"false_negative\\\"]\\n    precision = tp / (tp + fp)\\n    recall = tp / (tp + fn)\\n    f1 = 2 * (precision * recall) / (precision + recall)\\n    return precision, recall, f1\\n\\n\\ndef show_result(label_results):\\n    for label, result in label_results.items():\\n        precision, recall, f1 = precision_recall_f1(result)\\n        print(\\n            f\\\"{label: >4} f1: {f1:.3f} precision: {precision:.3f} recall: {recall:.3f}\\\"\\n        )\";\n",
       "                var nbb_formatted_code = \"def precision_recall_f1(result):\\n    all_observations = sum(result.values())\\n    tp = result[\\\"true_positive\\\"]\\n    fp = result[\\\"false_positive\\\"]\\n    fn = result[\\\"false_negative\\\"]\\n    precision = tp / (tp + fp)\\n    recall = tp / (tp + fn)\\n    f1 = 2 * (precision * recall) / (precision + recall)\\n    return precision, recall, f1\\n\\n\\ndef show_result(label_results):\\n    for label, result in label_results.items():\\n        precision, recall, f1 = precision_recall_f1(result)\\n        print(\\n            f\\\"{label: >4} f1: {f1:.3f} precision: {precision:.3f} recall: {recall:.3f}\\\"\\n        )\";\n",
       "                var nbb_cells = Jupyter.notebook.get_cells();\n",
       "                for (var i = 0; i < nbb_cells.length; ++i) {\n",
       "                    if (nbb_cells[i].input_prompt_number == nbb_cell_id) {\n",
       "                        if (nbb_cells[i].get_text() == nbb_unformatted_code) {\n",
       "                             nbb_cells[i].set_text(nbb_formatted_code);\n",
       "                        }\n",
       "                        break;\n",
       "                    }\n",
       "                }\n",
       "            }, 500);\n",
       "            "
      ],
      "text/plain": [
       "<IPython.core.display.Javascript object>"
      ]
     },
     "metadata": {},
     "output_type": "display_data"
    }
   ],
   "source": [
    "def precision_recall_f1(result):\n",
    "    all_observations = sum(result.values())\n",
    "    tp = result[\"true_positive\"]\n",
    "    fp = result[\"false_positive\"]\n",
    "    fn = result[\"false_negative\"]\n",
    "    precision = tp / (tp + fp)\n",
    "    recall = tp / (tp + fn)\n",
    "    f1 = 2 * (precision * recall) / (precision + recall)\n",
    "    return precision, recall, f1\n",
    "\n",
    "\n",
    "def show_result(label_results):\n",
    "    for label, result in label_results.items():\n",
    "        precision, recall, f1 = precision_recall_f1(result)\n",
    "        print(\n",
    "            f\"{label: >4} f1: {f1:.3f} precision: {precision:.3f} recall: {recall:.3f}\"\n",
    "        )"
   ]
  },
  {
   "cell_type": "code",
   "execution_count": 28,
   "id": "269348f6",
   "metadata": {},
   "outputs": [
    {
     "name": "stdout",
     "output_type": "stream",
     "text": [
      " ham f1: 0.975 precision: 0.987 recall: 0.963\n",
      "spam f1: 0.850 precision: 0.791 recall: 0.919\n"
     ]
    },
    {
     "data": {
      "application/javascript": [
       "\n",
       "            setTimeout(function() {\n",
       "                var nbb_cell_id = 28;\n",
       "                var nbb_unformatted_code = \"show_result(label_results)\";\n",
       "                var nbb_formatted_code = \"show_result(label_results)\";\n",
       "                var nbb_cells = Jupyter.notebook.get_cells();\n",
       "                for (var i = 0; i < nbb_cells.length; ++i) {\n",
       "                    if (nbb_cells[i].input_prompt_number == nbb_cell_id) {\n",
       "                        if (nbb_cells[i].get_text() == nbb_unformatted_code) {\n",
       "                             nbb_cells[i].set_text(nbb_formatted_code);\n",
       "                        }\n",
       "                        break;\n",
       "                    }\n",
       "                }\n",
       "            }, 500);\n",
       "            "
      ],
      "text/plain": [
       "<IPython.core.display.Javascript object>"
      ]
     },
     "metadata": {},
     "output_type": "display_data"
    }
   ],
   "source": [
    "show_result(label_results)"
   ]
  },
  {
   "cell_type": "code",
   "execution_count": 38,
   "id": "c95522a0",
   "metadata": {},
   "outputs": [
    {
     "name": "stdout",
     "output_type": "stream",
     "text": [
      " ham f1: 0.991 precision: 0.996 recall: 0.985\n",
      "spam f1: 0.941 precision: 0.911 recall: 0.973\n"
     ]
    },
    {
     "data": {
      "application/javascript": [
       "\n",
       "            setTimeout(function() {\n",
       "                var nbb_cell_id = 38;\n",
       "                var nbb_unformatted_code = \"show_result(label_results)\";\n",
       "                var nbb_formatted_code = \"show_result(label_results)\";\n",
       "                var nbb_cells = Jupyter.notebook.get_cells();\n",
       "                for (var i = 0; i < nbb_cells.length; ++i) {\n",
       "                    if (nbb_cells[i].input_prompt_number == nbb_cell_id) {\n",
       "                        if (nbb_cells[i].get_text() == nbb_unformatted_code) {\n",
       "                             nbb_cells[i].set_text(nbb_formatted_code);\n",
       "                        }\n",
       "                        break;\n",
       "                    }\n",
       "                }\n",
       "            }, 500);\n",
       "            "
      ],
      "text/plain": [
       "<IPython.core.display.Javascript object>"
      ]
     },
     "metadata": {},
     "output_type": "display_data"
    }
   ],
   "source": [
    "show_result(label_results)"
   ]
  },
  {
   "cell_type": "code",
   "execution_count": 33,
   "id": "6aad3908",
   "metadata": {},
   "outputs": [
    {
     "data": {
      "application/javascript": [
       "\n",
       "            setTimeout(function() {\n",
       "                var nbb_cell_id = 33;\n",
       "                var nbb_unformatted_code = \"import io\\nimport zipfile\\nimport requests\\n\\n\\ndef get_sms_messages():\\n    # download zip archive\\n    training_data_url = (\\n        \\\"https://d2b7dn9rofvhjd.cloudfront.net/sms-spam-collection-dataset.zip\\\"\\n    )\\n    response = requests.get(training_data_url)\\n    z = zipfile.ZipFile(io.BytesIO(response.content))\\n\\n    # parse messages\\n    spam_text = z.read(\\\"spam.csv\\\").decode(\\\"latin1\\\")\\n    lines = iter(spam_text.split(\\\"\\\\r\\\\n\\\"))\\n    skipped = next(lines)  # skip first line\\n\\n    messages = []\\n    for line in lines:\\n        line = line.rstrip(\\\",\\\")\\n        label, *message = line.split(\\\",\\\")\\n        messages.append((label, \\\" \\\".join(message)))\\n    return messages\\n\\n\\nmessages = get_sms_messages()\";\n",
       "                var nbb_formatted_code = \"import io\\nimport zipfile\\nimport requests\\n\\n\\ndef get_sms_messages():\\n    # download zip archive\\n    training_data_url = (\\n        \\\"https://d2b7dn9rofvhjd.cloudfront.net/sms-spam-collection-dataset.zip\\\"\\n    )\\n    response = requests.get(training_data_url)\\n    z = zipfile.ZipFile(io.BytesIO(response.content))\\n\\n    # parse messages\\n    spam_text = z.read(\\\"spam.csv\\\").decode(\\\"latin1\\\")\\n    lines = iter(spam_text.split(\\\"\\\\r\\\\n\\\"))\\n    skipped = next(lines)  # skip first line\\n\\n    messages = []\\n    for line in lines:\\n        line = line.rstrip(\\\",\\\")\\n        label, *message = line.split(\\\",\\\")\\n        messages.append((label, \\\" \\\".join(message)))\\n    return messages\\n\\n\\nmessages = get_sms_messages()\";\n",
       "                var nbb_cells = Jupyter.notebook.get_cells();\n",
       "                for (var i = 0; i < nbb_cells.length; ++i) {\n",
       "                    if (nbb_cells[i].input_prompt_number == nbb_cell_id) {\n",
       "                        if (nbb_cells[i].get_text() == nbb_unformatted_code) {\n",
       "                             nbb_cells[i].set_text(nbb_formatted_code);\n",
       "                        }\n",
       "                        break;\n",
       "                    }\n",
       "                }\n",
       "            }, 500);\n",
       "            "
      ],
      "text/plain": [
       "<IPython.core.display.Javascript object>"
      ]
     },
     "metadata": {},
     "output_type": "display_data"
    }
   ],
   "source": [
    "import io\n",
    "import zipfile\n",
    "import requests\n",
    "\n",
    "\n",
    "def get_sms_messages():\n",
    "    # download zip archive\n",
    "    training_data_url = (\n",
    "        \"https://d2b7dn9rofvhjd.cloudfront.net/sms-spam-collection-dataset.zip\"\n",
    "    )\n",
    "    response = requests.get(training_data_url)\n",
    "    z = zipfile.ZipFile(io.BytesIO(response.content))\n",
    "\n",
    "    # parse messages\n",
    "    spam_text = z.read(\"spam.csv\").decode(\"latin1\")\n",
    "    lines = iter(spam_text.split(\"\\r\\n\"))\n",
    "    skipped = next(lines)  # skip first line\n",
    "\n",
    "    messages = []\n",
    "    for line in lines:\n",
    "        line = line.rstrip(\",\")\n",
    "        label, *message = line.split(\",\")\n",
    "        messages.append((label, \" \".join(message)))\n",
    "    return messages\n",
    "\n",
    "\n",
    "messages = get_sms_messages()"
   ]
  },
  {
   "cell_type": "code",
   "execution_count": 34,
   "id": "d20d6af9",
   "metadata": {},
   "outputs": [
    {
     "name": "stdout",
     "output_type": "stream",
     "text": [
      "5016 556\n"
     ]
    },
    {
     "data": {
      "application/javascript": [
       "\n",
       "            setTimeout(function() {\n",
       "                var nbb_cell_id = 34;\n",
       "                var nbb_unformatted_code = \"train_messages, test_messages = split_train_test(messages, test_quote=0.1)\\nprint(len(train_messages), len(test_messages))\\nmodel = NaiveBayes().fit(train_messages)\";\n",
       "                var nbb_formatted_code = \"train_messages, test_messages = split_train_test(messages, test_quote=0.1)\\nprint(len(train_messages), len(test_messages))\\nmodel = NaiveBayes().fit(train_messages)\";\n",
       "                var nbb_cells = Jupyter.notebook.get_cells();\n",
       "                for (var i = 0; i < nbb_cells.length; ++i) {\n",
       "                    if (nbb_cells[i].input_prompt_number == nbb_cell_id) {\n",
       "                        if (nbb_cells[i].get_text() == nbb_unformatted_code) {\n",
       "                             nbb_cells[i].set_text(nbb_formatted_code);\n",
       "                        }\n",
       "                        break;\n",
       "                    }\n",
       "                }\n",
       "            }, 500);\n",
       "            "
      ],
      "text/plain": [
       "<IPython.core.display.Javascript object>"
      ]
     },
     "metadata": {},
     "output_type": "display_data"
    }
   ],
   "source": [
    "train_messages, test_messages = split_train_test(messages, test_quote=0.1)\n",
    "print(len(train_messages), len(test_messages))\n",
    "model = NaiveBayes().fit(train_messages)"
   ]
  },
  {
   "cell_type": "code",
   "execution_count": null,
   "id": "83a187f0",
   "metadata": {},
   "outputs": [],
   "source": []
  }
 ],
 "metadata": {
  "kernelspec": {
   "display_name": "Django Shell-Plus",
   "language": "python",
   "name": "django_extensions"
  },
  "language_info": {
   "codemirror_mode": {
    "name": "ipython",
    "version": 3
   },
   "file_extension": ".py",
   "mimetype": "text/x-python",
   "name": "python",
   "nbconvert_exporter": "python",
   "pygments_lexer": "ipython3",
   "version": "3.9.7"
  }
 },
 "nbformat": 4,
 "nbformat_minor": 5
}
