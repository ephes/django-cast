{
 "cells": [
  {
   "cell_type": "code",
   "execution_count": 1,
   "id": "f50f91c8",
   "metadata": {},
   "outputs": [],
   "source": [
    "import re\n",
    "import requests\n",
    "\n",
    "from collections import defaultdict\n",
    "\n",
    "from getpass import getpass\n",
    "\n",
    "from cast.models.moderation import NaiveBayes, SpamFilter, Evaluation"
   ]
  },
  {
   "cell_type": "markdown",
   "id": "6bfb1e0e",
   "metadata": {},
   "source": [
    "# Get Training Data From Production"
   ]
  },
  {
   "cell_type": "code",
   "execution_count": 2,
   "id": "a40944c1",
   "metadata": {},
   "outputs": [
    {
     "name": "stdout",
     "output_type": "stream",
     "text": [
      "········\n",
      "200\n",
      "1865\n"
     ]
    }
   ],
   "source": [
    "username = \"jochen\"\n",
    "password = getpass()\n",
    "host = \"http://localhost:8000\"\n",
    "host = \"https://python-podcast.de\"\n",
    "token_url = f\"{host}/api/api-token-auth/\"\n",
    "r = requests.post(token_url, data={\"username\": username, \"password\": password})\n",
    "token = r.json()[\"token\"]\n",
    "\n",
    "# training_path = reverse(\"cast:api:comment-training-data\")\n",
    "training_path = \"/api/comment_training_data/\"\n",
    "training_data_url = f\"{host}{training_path}\"\n",
    "headers = {\"Authorization\": f\"Token {token}\"}\n",
    "r = requests.get(training_data_url, headers=headers)\n",
    "print(r.status_code)\n",
    "messages = r.json()\n",
    "print(len(messages))"
   ]
  },
  {
   "cell_type": "markdown",
   "id": "64955351",
   "metadata": {},
   "source": [
    "# Evaluate Model"
   ]
  },
  {
   "cell_type": "code",
   "execution_count": 3,
   "id": "2094e0fa",
   "metadata": {},
   "outputs": [],
   "source": [
    "def show_performance(performance):\n",
    "    for label, result in performance.items():\n",
    "        precision, recall, f1 = result[\"precision\"], result[\"recall\"], result[\"f1\"]\n",
    "        print(f\"{label: >4} f1: {f1:.3f} precision: {precision:.3f} recall: {recall:.3f}\")"
   ]
  },
  {
   "cell_type": "code",
   "execution_count": 4,
   "id": "1ad87e36",
   "metadata": {},
   "outputs": [
    {
     "name": "stdout",
     "output_type": "stream",
     "text": [
      " ham f1: 0.953 precision: 0.982 recall: 0.925\n",
      "spam f1: 0.997 precision: 0.995 recall: 0.999\n"
     ]
    }
   ],
   "source": [
    "evaluator = Evaluation()\n",
    "performance = evaluator.evaluate(messages)\n",
    "show_performance(performance)"
   ]
  },
  {
   "cell_type": "markdown",
   "id": "0543bade",
   "metadata": {},
   "source": [
    "# Retrain From Scratch"
   ]
  },
  {
   "cell_type": "code",
   "execution_count": 5,
   "id": "08789e92",
   "metadata": {},
   "outputs": [],
   "source": [
    "sf = SpamFilter.default\n",
    "sf.retrain_from_scratch(messages)"
   ]
  },
  {
   "cell_type": "code",
   "execution_count": 6,
   "id": "89bb5241",
   "metadata": {},
   "outputs": [
    {
     "data": {
      "text/plain": [
       "{'ham': {'precision': 0.9739130434782609,\n",
       "  'recall': 0.9333333333333333,\n",
       "  'f1': 0.9531914893617022},\n",
       " 'spam': {'precision': 0.9954233409610984,\n",
       "  'recall': 0.9982788296041308,\n",
       "  'f1': 0.9968490403895731}}"
      ]
     },
     "execution_count": 6,
     "metadata": {},
     "output_type": "execute_result"
    }
   ],
   "source": [
    "sf.performance"
   ]
  },
  {
   "cell_type": "markdown",
   "id": "c89fbf8e",
   "metadata": {},
   "source": [
    "# Debug Model"
   ]
  },
  {
   "cell_type": "code",
   "execution_count": 36,
   "id": "1e6675d3",
   "metadata": {},
   "outputs": [],
   "source": [
    "token_pattern = re.compile(r\"(?u)\\b\\w\\w+\\b\")\n",
    "standard_tokenizer = token_pattern.findall\n",
    "\n",
    "\n",
    "def regex_tokenize(message):\n",
    "    return standard_tokenizer(message.lower())\n",
    "\n",
    "\n",
    "def normalize(probabilities):\n",
    "    try:\n",
    "        factor = 1.0 / float(sum(probabilities.values()))\n",
    "    except ZeroDivisionError:\n",
    "        # not possible to scale -> skip\n",
    "        return probabilities\n",
    "    for name, value in probabilities.items():\n",
    "        probabilities[name] *= factor\n",
    "    return probabilities\n",
    "\n",
    "\n",
    "class NaiveBayes:\n",
    "    def __init__(self, tokenize=regex_tokenize, prior_probabilities={}, word_label_counts=None):\n",
    "        self.tokenize = tokenize\n",
    "        self.prior_probabilities = prior_probabilities\n",
    "        if word_label_counts is None:\n",
    "            self.word_label_counts = defaultdict(lambda: defaultdict(int))\n",
    "        else:\n",
    "            self.word_label_counts = word_label_counts\n",
    "        self.number_of_words = self.get_number_of_words(self.word_label_counts)\n",
    "        self.number_of_all_words = 1  # FIXME 0 or 1 - division by zero?\n",
    "\n",
    "    @staticmethod\n",
    "    def get_label_counts(messages):\n",
    "        label_counts = defaultdict(int)\n",
    "        for label, text in messages:\n",
    "            label_counts[label] += 1\n",
    "        return label_counts\n",
    "\n",
    "    def set_prior_probabilities(self, label_counts):\n",
    "        number_of_messages = sum(label_counts.values())\n",
    "        self.prior_probabilities = {label: count / number_of_messages for label, count in label_counts.items()}\n",
    "\n",
    "    def set_word_label_counts(self, messages):\n",
    "        counts = self.word_label_counts\n",
    "        for label, text in messages:\n",
    "            for word in self.tokenize(text):\n",
    "                counts[word][label] += 1\n",
    "\n",
    "    @staticmethod\n",
    "    def get_number_of_words(word_label_counts):\n",
    "        number_of_words = defaultdict(int)\n",
    "        for word, counts in word_label_counts.items():\n",
    "            for label, count in counts.items():\n",
    "                number_of_words[label] += 1\n",
    "        return number_of_words\n",
    "\n",
    "    def fit(self, messages):\n",
    "        self.set_prior_probabilities(self.get_label_counts(messages))\n",
    "        self.set_word_label_counts(messages)\n",
    "        self.number_of_words = self.get_number_of_words(self.word_label_counts)\n",
    "        self.number_of_all_words = sum(self.number_of_words.values())\n",
    "        return self\n",
    "\n",
    "    @staticmethod\n",
    "    def update_probabilities(probabilities, counts_per_label, number_of_all_words):\n",
    "        updated_probabilities = {}\n",
    "        for label, prior_probability in probabilities.items():\n",
    "            word_count = counts_per_label.get(label, 0.5)\n",
    "            word_probability = word_count / number_of_all_words\n",
    "            updated_probabilities[label] = prior_probability * word_probability\n",
    "        return updated_probabilities\n",
    "\n",
    "    def predict(self, message):\n",
    "        probabilities = dict(self.prior_probabilities)\n",
    "        for word in self.tokenize(message):\n",
    "            counts_per_label = self.word_label_counts.get(word, {})\n",
    "            probabilities = normalize(self.update_probabilities(probabilities, counts_per_label, self.number_of_all_words))\n",
    "        return probabilities\n",
    "\n",
    "    def predict_label(self, message):\n",
    "        probabilities = self.predict(message)\n",
    "        if len(probabilities) == 0:\n",
    "            return None\n",
    "        return sorted(((prob, label) for label, prob in probabilities.items()), reverse=True)[0][1]\n",
    "\n",
    "    def dict(self):\n",
    "        return {\n",
    "            \"class\": \"NaiveBayes\",\n",
    "            \"prior_probabilities\": self.prior_probabilities,\n",
    "            \"word_label_counts\": self.word_label_counts,\n",
    "        }\n",
    "\n",
    "    def __eq__(self, other):\n",
    "        return (\n",
    "            self.prior_probabilities == other.prior_probabilities and self.word_label_counts == other.word_label_counts\n",
    "        )\n",
    "\n",
    "nb = NaiveBayes().fit(messages)"
   ]
  },
  {
   "cell_type": "code",
   "execution_count": null,
   "id": "0b8ef09d",
   "metadata": {},
   "outputs": [],
   "source": [
    "nb.number_of_words"
   ]
  },
  {
   "cell_type": "code",
   "execution_count": 37,
   "id": "a5e2f7a8",
   "metadata": {},
   "outputs": [
    {
     "name": "stdout",
     "output_type": "stream",
     "text": [
      " ham f1: 0.953 precision: 0.974 recall: 0.933\n",
      "spam f1: 0.997 precision: 0.995 recall: 0.998\n"
     ]
    }
   ],
   "source": [
    "evaluator = Evaluation(model_class=NaiveBayes)\n",
    "performance = evaluator.evaluate(messages)\n",
    "show_performance(performance)"
   ]
  },
  {
   "cell_type": "code",
   "execution_count": 33,
   "id": "6946b4b6",
   "metadata": {},
   "outputs": [],
   "source": [
    "# nb.predict_label(messages[35][1])"
   ]
  },
  {
   "cell_type": "code",
   "execution_count": 22,
   "id": "fd36c5e3",
   "metadata": {},
   "outputs": [
    {
     "data": {
      "text/plain": [
       "{'ham': 0.06541554959785523, 'spam': 0.9345844504021448}"
      ]
     },
     "execution_count": 22,
     "metadata": {},
     "output_type": "execute_result"
    }
   ],
   "source": [
    "nb.prior_probabilities"
   ]
  },
  {
   "cell_type": "code",
   "execution_count": 21,
   "id": "d2315952",
   "metadata": {},
   "outputs": [
    {
     "name": "stdout",
     "output_type": "stream",
     "text": [
      "Cibulja40  преобразователь частоты кварцевых резонаторов . Модерируемый рейтинг . Электронный блок питания транзисторов на запуске двигатель постоянного тока через пару контактов . Также большое количество товаров , но несколько оборотов вентилятора частоты являются настоящими любителями аппаратуры . И благодаря интеллектуальному управлению , пригонке муфт , когда из двух головных станций различного  \n",
      "<a href=https://prom-electric.ru/articles/1/71/>как работает частотный преобразователь</a>  преобразователь частоты осуществлялась с нашими менеджерами нашей компании в системе водоснабжения , устойчивого к условиям , что их на повышение эластичности кожи или равно , имеет компактные размеры , благодаря встроенному позиционеру . Периодические испытания , изготовлен из перечисленных недостатков невозможность получить контакт с контроллерами отсутствие ограничения по цене .  \n",
      "преобразователь частоты . Ранее все полученные данные любая из импортных . Так как привод . Таким образом , связанные с обратной связи и не содержащей выпрямитель . Устойчивая репутация компании завоевать звание если его поверхности двигателя к нему? Отзывы , а также наличие тормозного прерывателя и головные уборы , кнопки  \n",
      "преобразователь и тут ничего не нест ответственности за потоком и бывает нужно применить частотный преобразователь соответствующим модулем управления агрегатами . В работе . С этой серии важнейших проблем будет учтен! Риба не напряжения! Ключи и которое выдерживает , пришлось бы запустить его? В рабочем органе электроприводы горнообогатительного оборудования . Ваше  \n",
      "<a href=https://prom-electric.ru/media/uchebnoe-posobie-po-remontu-generatorov.pdf>как проверить статор генератора</a>  преобразователь позволяет уменьшить размеры , и в обращении и позволяют значительно повысит их пропускную способность асинхроника . Идентификация двигателя снимают переменное , центрифуги , с валиком поршневого компрессора . В моем усилителе ничего платить только для управления ведт к реле с тем самым энергоэффективным технологиям , правилам эксплуатации . Даже  \n",
      "преобразователь . Проблема в инструкциях по дороге . Большинство деталей компрессоры применяются два транзистора складывается из вискозы и на отказ и комплектации высокое давление масла . Этот тип весов предусматривает наличие значимых различий между собой работают только реализуют широтноимпульсную модуляцию , для регулирования . Усилитель собран в вопросе имеют ограничения  \n",
      "<a href=https://prom-electric.ru/articles/2/287/>генератор на транзисторе</a>  преобразователь частоты . Но на широком диапазоне напряжений . Количество уровней , выставляет тактовые частоты . Во время , а также от смол и воды может пол , о начислении заработной плате совсем не используем только с регулятором главного движения тепловоза регулируют сменой напряжения . При переходе на компонентах .  \n",
      "преобразователь для изменения конструкции двигателя , предполагающий использование компактных машин и минусов . Я не в нижней части агрегата насос один\n"
     ]
    }
   ],
   "source": [
    "nb = NaiveBayes().fit(messages)\n",
    "for i, (label, message) in enumerate(messages):\n",
    "    predicted = nb.predict_label(message)\n",
    "    if label == \"spam\" and (predicted != label):\n",
    "        print(message)\n",
    "        break"
   ]
  },
  {
   "cell_type": "code",
   "execution_count": null,
   "id": "42fd6d9c",
   "metadata": {},
   "outputs": [],
   "source": []
  }
 ],
 "metadata": {
  "kernelspec": {
   "display_name": "Django Shell-Plus",
   "language": "python",
   "name": "django_extensions"
  },
  "language_info": {
   "codemirror_mode": {
    "name": "ipython",
    "version": 3
   },
   "file_extension": ".py",
   "mimetype": "text/x-python",
   "name": "python",
   "nbconvert_exporter": "python",
   "pygments_lexer": "ipython3",
   "version": "3.11.3"
  }
 },
 "nbformat": 4,
 "nbformat_minor": 5
}
