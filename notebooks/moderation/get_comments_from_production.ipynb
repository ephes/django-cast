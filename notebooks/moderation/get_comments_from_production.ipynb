{
 "cells": [
  {
   "cell_type": "code",
   "execution_count": 1,
   "id": "58cf25a4",
   "metadata": {},
   "outputs": [
    {
     "data": {
      "application/javascript": [
       "\n",
       "            setTimeout(function() {\n",
       "                var nbb_cell_id = 1;\n",
       "                var nbb_unformatted_code = \"%load_ext nb_black\";\n",
       "                var nbb_formatted_code = \"%load_ext nb_black\";\n",
       "                var nbb_cells = Jupyter.notebook.get_cells();\n",
       "                for (var i = 0; i < nbb_cells.length; ++i) {\n",
       "                    if (nbb_cells[i].input_prompt_number == nbb_cell_id) {\n",
       "                        if (nbb_cells[i].get_text() == nbb_unformatted_code) {\n",
       "                             nbb_cells[i].set_text(nbb_formatted_code);\n",
       "                        }\n",
       "                        break;\n",
       "                    }\n",
       "                }\n",
       "            }, 500);\n",
       "            "
      ],
      "text/plain": [
       "<IPython.core.display.Javascript object>"
      ]
     },
     "metadata": {},
     "output_type": "display_data"
    }
   ],
   "source": [
    "%load_ext nb_black"
   ]
  },
  {
   "cell_type": "code",
   "execution_count": 2,
   "id": "14d6ac56",
   "metadata": {},
   "outputs": [
    {
     "data": {
      "application/javascript": [
       "\n",
       "            setTimeout(function() {\n",
       "                var nbb_cell_id = 2;\n",
       "                var nbb_unformatted_code = \"import json\\n\\nfrom django_comments import get_model as get_comments_model\\n\\nComment = get_comments_model()\";\n",
       "                var nbb_formatted_code = \"import json\\n\\nfrom django_comments import get_model as get_comments_model\\n\\nComment = get_comments_model()\";\n",
       "                var nbb_cells = Jupyter.notebook.get_cells();\n",
       "                for (var i = 0; i < nbb_cells.length; ++i) {\n",
       "                    if (nbb_cells[i].input_prompt_number == nbb_cell_id) {\n",
       "                        if (nbb_cells[i].get_text() == nbb_unformatted_code) {\n",
       "                             nbb_cells[i].set_text(nbb_formatted_code);\n",
       "                        }\n",
       "                        break;\n",
       "                    }\n",
       "                }\n",
       "            }, 500);\n",
       "            "
      ],
      "text/plain": [
       "<IPython.core.display.Javascript object>"
      ]
     },
     "metadata": {},
     "output_type": "display_data"
    }
   ],
   "source": [
    "import json\n",
    "\n",
    "from django_comments import get_model as get_comments_model\n",
    "\n",
    "Comment = get_comments_model()"
   ]
  },
  {
   "cell_type": "code",
   "execution_count": 8,
   "id": "a03b865c",
   "metadata": {},
   "outputs": [
    {
     "data": {
      "application/javascript": [
       "\n",
       "            setTimeout(function() {\n",
       "                var nbb_cell_id = 8;\n",
       "                var nbb_unformatted_code = \"attrs = [\\\"name\\\", \\\"title\\\", \\\"comment\\\", \\\"is_public\\\", \\\"is_removed\\\"]\\nrows = []\\nfor comment in Comment.objects.all():\\n    row = {}\\n    for attr in attrs:\\n        row[attr] = getattr(comment, attr)\\n    rows.append(row)\";\n",
       "                var nbb_formatted_code = \"attrs = [\\\"name\\\", \\\"title\\\", \\\"comment\\\", \\\"is_public\\\", \\\"is_removed\\\"]\\nrows = []\\nfor comment in Comment.objects.all():\\n    row = {}\\n    for attr in attrs:\\n        row[attr] = getattr(comment, attr)\\n    rows.append(row)\";\n",
       "                var nbb_cells = Jupyter.notebook.get_cells();\n",
       "                for (var i = 0; i < nbb_cells.length; ++i) {\n",
       "                    if (nbb_cells[i].input_prompt_number == nbb_cell_id) {\n",
       "                        if (nbb_cells[i].get_text() == nbb_unformatted_code) {\n",
       "                             nbb_cells[i].set_text(nbb_formatted_code);\n",
       "                        }\n",
       "                        break;\n",
       "                    }\n",
       "                }\n",
       "            }, 500);\n",
       "            "
      ],
      "text/plain": [
       "<IPython.core.display.Javascript object>"
      ]
     },
     "metadata": {},
     "output_type": "display_data"
    }
   ],
   "source": [
    "attrs = [\"name\", \"title\", \"comment\", \"is_public\", \"is_removed\"]\n",
    "rows = []\n",
    "for comment in Comment.objects.all():\n",
    "    row = {}\n",
    "    for attr in attrs:\n",
    "        row[attr] = getattr(comment, attr)\n",
    "    rows.append(row)"
   ]
  },
  {
   "cell_type": "code",
   "execution_count": 7,
   "id": "1b0149d2",
   "metadata": {},
   "outputs": [
    {
     "data": {
      "application/javascript": [
       "\n",
       "            setTimeout(function() {\n",
       "                var nbb_cell_id = 7;\n",
       "                var nbb_unformatted_code = \"with open(\\\"comments.json\\\", \\\"w\\\") as f:\\n    json.dump(rows, f)\";\n",
       "                var nbb_formatted_code = \"with open(\\\"comments.json\\\", \\\"w\\\") as f:\\n    json.dump(rows, f)\";\n",
       "                var nbb_cells = Jupyter.notebook.get_cells();\n",
       "                for (var i = 0; i < nbb_cells.length; ++i) {\n",
       "                    if (nbb_cells[i].input_prompt_number == nbb_cell_id) {\n",
       "                        if (nbb_cells[i].get_text() == nbb_unformatted_code) {\n",
       "                             nbb_cells[i].set_text(nbb_formatted_code);\n",
       "                        }\n",
       "                        break;\n",
       "                    }\n",
       "                }\n",
       "            }, 500);\n",
       "            "
      ],
      "text/plain": [
       "<IPython.core.display.Javascript object>"
      ]
     },
     "metadata": {},
     "output_type": "display_data"
    }
   ],
   "source": [
    "with open(\"comments.json\", \"w\") as f:\n",
    "    json.dump(rows, f)"
   ]
  },
  {
   "cell_type": "markdown",
   "id": "795bd238",
   "metadata": {},
   "source": [
    "## copy from container\n",
    "\n",
    " docker cp 440e13a97989:/app/comments.json ."
   ]
  },
  {
   "cell_type": "markdown",
   "id": "41d0e6a8",
   "metadata": {},
   "source": [
    "# Load Comments Back Into DB"
   ]
  },
  {
   "cell_type": "code",
   "execution_count": 3,
   "id": "191d5dd2",
   "metadata": {},
   "outputs": [
    {
     "data": {
      "application/javascript": [
       "\n",
       "            setTimeout(function() {\n",
       "                var nbb_cell_id = 3;\n",
       "                var nbb_unformatted_code = \"from django.contrib.sites.models import Site\\nfrom django.contrib.contenttypes.models import ContentType\\n\\npost_type = ContentType.objects.get(app_label=\\\"cast\\\", model=\\\"post\\\")\\nsite = Site.objects.first()\";\n",
       "                var nbb_formatted_code = \"from django.contrib.sites.models import Site\\nfrom django.contrib.contenttypes.models import ContentType\\n\\npost_type = ContentType.objects.get(app_label=\\\"cast\\\", model=\\\"post\\\")\\nsite = Site.objects.first()\";\n",
       "                var nbb_cells = Jupyter.notebook.get_cells();\n",
       "                for (var i = 0; i < nbb_cells.length; ++i) {\n",
       "                    if (nbb_cells[i].input_prompt_number == nbb_cell_id) {\n",
       "                        if (nbb_cells[i].get_text() == nbb_unformatted_code) {\n",
       "                             nbb_cells[i].set_text(nbb_formatted_code);\n",
       "                        }\n",
       "                        break;\n",
       "                    }\n",
       "                }\n",
       "            }, 500);\n",
       "            "
      ],
      "text/plain": [
       "<IPython.core.display.Javascript object>"
      ]
     },
     "metadata": {},
     "output_type": "display_data"
    }
   ],
   "source": [
    "from django.contrib.sites.models import Site\n",
    "from django.contrib.contenttypes.models import ContentType\n",
    "\n",
    "post_type = ContentType.objects.get(app_label=\"cast\", model=\"post\")\n",
    "site = Site.objects.first()"
   ]
  },
  {
   "cell_type": "code",
   "execution_count": 4,
   "id": "f96678ac",
   "metadata": {},
   "outputs": [
    {
     "data": {
      "application/javascript": [
       "\n",
       "            setTimeout(function() {\n",
       "                var nbb_cell_id = 4;\n",
       "                var nbb_unformatted_code = \"with open(\\\"comments.json\\\", \\\"r\\\") as f:\\n    comments = json.load(f)\";\n",
       "                var nbb_formatted_code = \"with open(\\\"comments.json\\\", \\\"r\\\") as f:\\n    comments = json.load(f)\";\n",
       "                var nbb_cells = Jupyter.notebook.get_cells();\n",
       "                for (var i = 0; i < nbb_cells.length; ++i) {\n",
       "                    if (nbb_cells[i].input_prompt_number == nbb_cell_id) {\n",
       "                        if (nbb_cells[i].get_text() == nbb_unformatted_code) {\n",
       "                             nbb_cells[i].set_text(nbb_formatted_code);\n",
       "                        }\n",
       "                        break;\n",
       "                    }\n",
       "                }\n",
       "            }, 500);\n",
       "            "
      ],
      "text/plain": [
       "<IPython.core.display.Javascript object>"
      ]
     },
     "metadata": {},
     "output_type": "display_data"
    }
   ],
   "source": [
    "with open(\"comments.json\", \"r\") as f:\n",
    "    comments = json.load(f)"
   ]
  },
  {
   "cell_type": "code",
   "execution_count": 11,
   "id": "913ee3a8",
   "metadata": {},
   "outputs": [
    {
     "data": {
      "application/javascript": [
       "\n",
       "            setTimeout(function() {\n",
       "                var nbb_cell_id = 11;\n",
       "                var nbb_unformatted_code = \"attrs = [\\\"name\\\", \\\"title\\\", \\\"comment\\\", \\\"is_public\\\", \\\"is_removed\\\"]\\nfor row in comments:\\n    comment = Comment()\\n    for attr in attrs:\\n        setattr(comment, attr, row[attr])\\n    comment.content_type = post_type\\n    comment.site = site\\n    comment.save()\";\n",
       "                var nbb_formatted_code = \"attrs = [\\\"name\\\", \\\"title\\\", \\\"comment\\\", \\\"is_public\\\", \\\"is_removed\\\"]\\nfor row in comments:\\n    comment = Comment()\\n    for attr in attrs:\\n        setattr(comment, attr, row[attr])\\n    comment.content_type = post_type\\n    comment.site = site\\n    comment.save()\";\n",
       "                var nbb_cells = Jupyter.notebook.get_cells();\n",
       "                for (var i = 0; i < nbb_cells.length; ++i) {\n",
       "                    if (nbb_cells[i].input_prompt_number == nbb_cell_id) {\n",
       "                        if (nbb_cells[i].get_text() == nbb_unformatted_code) {\n",
       "                             nbb_cells[i].set_text(nbb_formatted_code);\n",
       "                        }\n",
       "                        break;\n",
       "                    }\n",
       "                }\n",
       "            }, 500);\n",
       "            "
      ],
      "text/plain": [
       "<IPython.core.display.Javascript object>"
      ]
     },
     "metadata": {},
     "output_type": "display_data"
    }
   ],
   "source": [
    "attrs = [\"name\", \"title\", \"comment\", \"is_public\", \"is_removed\"]\n",
    "for row in comments:\n",
    "    comment = Comment()\n",
    "    for attr in attrs:\n",
    "        setattr(comment, attr, row[attr])\n",
    "    comment.content_type = post_type\n",
    "    comment.site = site\n",
    "    comment.save()"
   ]
  },
  {
   "cell_type": "code",
   "execution_count": 2,
   "id": "19e9a3a2",
   "metadata": {},
   "outputs": [
    {
     "data": {
      "text/plain": [
       "0"
      ]
     },
     "execution_count": 2,
     "metadata": {},
     "output_type": "execute_result"
    }
   ],
   "source": [
    "Comment.objects.count()"
   ]
  },
  {
   "cell_type": "code",
   "execution_count": null,
   "id": "208caa4f",
   "metadata": {},
   "outputs": [],
   "source": []
  }
 ],
 "metadata": {
  "kernelspec": {
   "display_name": "Django Shell-Plus",
   "language": "python",
   "name": "django_extensions"
  },
  "language_info": {
   "codemirror_mode": {
    "name": "ipython",
    "version": 3
   },
   "file_extension": ".py",
   "mimetype": "text/x-python",
   "name": "python",
   "nbconvert_exporter": "python",
   "pygments_lexer": "ipython3",
   "version": "3.11.1"
  }
 },
 "nbformat": 4,
 "nbformat_minor": 5
}
