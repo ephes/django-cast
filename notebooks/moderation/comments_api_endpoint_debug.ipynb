{
 "cells": [
  {
   "cell_type": "code",
   "execution_count": 1,
   "id": "8b8fa8b6",
   "metadata": {},
   "outputs": [],
   "source": [
    "import requests"
   ]
  },
  {
   "cell_type": "markdown",
   "id": "6fb96db7",
   "metadata": {},
   "source": [
    "# Get API auth token"
   ]
  },
  {
   "cell_type": "code",
   "execution_count": 10,
   "id": "41c94c5e",
   "metadata": {},
   "outputs": [
    {
     "name": "stdout",
     "output_type": "stream",
     "text": [
      "········\n"
     ]
    }
   ],
   "source": [
    "from getpass import getpass\n",
    "\n",
    "username = \"jochen\"\n",
    "password = getpass()"
   ]
  },
  {
   "cell_type": "code",
   "execution_count": 12,
   "id": "3d82df5a",
   "metadata": {},
   "outputs": [
    {
     "name": "stdout",
     "output_type": "stream",
     "text": [
      "https://python-podcast.staging.django-cast.com/api/api-token-auth/\n",
      "4acf2cddb07f66ceaf8bec25022ce4b2258fe5eb\n"
     ]
    }
   ],
   "source": [
    "token_path = reverse(\"api-token-auth\")\n",
    "token_url = f\"http://localhost:8000{token_path}\"\n",
    "token_url = f\"https://python-podcast.staging.django-cast.com{token_path}\"\n",
    "print(token_url)\n",
    "\n",
    "r = requests.post(token_url, data={\"username\": username, \"password\": password})\n",
    "token = r.json()[\"token\"]\n",
    "print(token)"
   ]
  },
  {
   "cell_type": "markdown",
   "id": "6263037f",
   "metadata": {},
   "source": [
    "# Get Training Data"
   ]
  },
  {
   "cell_type": "code",
   "execution_count": 17,
   "id": "dd94049f",
   "metadata": {},
   "outputs": [
    {
     "name": "stdout",
     "output_type": "stream",
     "text": [
      "https://python-podcast.staging.django-cast.com/api/comment_training_data/\n"
     ]
    }
   ],
   "source": [
    "path = reverse(\"cast:api:comment_training_data\")\n",
    "url = f\"http://localhost:8000{path}\"\n",
    "url = f\"https://python-podcast.staging.django-cast.com/api/comment_training_data/\"\n",
    "print(url)"
   ]
  },
  {
   "cell_type": "code",
   "execution_count": 31,
   "id": "f4aa1499",
   "metadata": {},
   "outputs": [
    {
     "name": "stdout",
     "output_type": "stream",
     "text": [
      "CPU times: user 63.4 ms, sys: 10.2 ms, total: 73.6 ms\n",
      "Wall time: 344 ms\n"
     ]
    }
   ],
   "source": [
    "%%time\n",
    "headers = {\"Authorization\": f\"Token {token}\"}\n",
    "r = requests.get(url, headers=headers)\n",
    "messages = r.json()"
   ]
  },
  {
   "cell_type": "code",
   "execution_count": 32,
   "id": "81fdb0aa",
   "metadata": {},
   "outputs": [
    {
     "data": {
      "text/plain": [
       "1711"
      ]
     },
     "execution_count": 32,
     "metadata": {},
     "output_type": "execute_result"
    }
   ],
   "source": [
    "len(messages)"
   ]
  },
  {
   "cell_type": "markdown",
   "id": "70406157",
   "metadata": {},
   "source": [
    "# Train Spamfilter"
   ]
  },
  {
   "cell_type": "code",
   "execution_count": 33,
   "id": "50c89517",
   "metadata": {},
   "outputs": [],
   "source": [
    "from cast.models.moderation import NaiveBayes"
   ]
  },
  {
   "cell_type": "code",
   "execution_count": 24,
   "id": "ad1cb966",
   "metadata": {},
   "outputs": [
    {
     "name": "stdout",
     "output_type": "stream",
     "text": [
      "CPU times: user 107 ms, sys: 5.03 ms, total: 112 ms\n",
      "Wall time: 109 ms\n"
     ]
    }
   ],
   "source": [
    "%%time\n",
    "nb = NaiveBayes().fit(train)"
   ]
  },
  {
   "cell_type": "code",
   "execution_count": 27,
   "id": "af3cf6a3",
   "metadata": {},
   "outputs": [
    {
     "name": "stdout",
     "output_type": "stream",
     "text": [
      "ham ham\n"
     ]
    }
   ],
   "source": [
    "label, message = train[23]\n",
    "print(label, nb.predict_label(message))"
   ]
  },
  {
   "cell_type": "markdown",
   "id": "205a778e",
   "metadata": {},
   "source": [
    "# Split Train/Test"
   ]
  },
  {
   "cell_type": "code",
   "execution_count": 71,
   "id": "3dfbc1e8",
   "metadata": {},
   "outputs": [],
   "source": [
    "def split_into_folds(items, folds):\n",
    "    k, m = divmod(len(items), folds)\n",
    "    return [items[i * k + min(i, m):(i + 1) * k + min(i + 1, m)] for i in range(folds)]\n",
    "\n",
    "\n",
    "def flatten(items):\n",
    "    return [item for sublist in items for item in sublist]\n",
    "\n",
    "\n",
    "\n",
    "def generate_train_test(folds):\n",
    "    for i, n in enumerate(folds):\n",
    "        all_but_n = flatten(folds[:i]) + flatten(folds[i + 1:])\n",
    "        yield n, all_but_n"
   ]
  },
  {
   "cell_type": "markdown",
   "id": "c53dad5d",
   "metadata": {},
   "source": [
    "## Split Into Spam and Ham\n",
    "\n",
    "To be able to sample stratified."
   ]
  },
  {
   "cell_type": "code",
   "execution_count": 106,
   "id": "2559348a",
   "metadata": {},
   "outputs": [
    {
     "name": "stdout",
     "output_type": "stream",
     "text": [
      "1589 122\n"
     ]
    }
   ],
   "source": [
    "spam, ham = [], []\n",
    "for label, msg in messages:\n",
    "    if label == \"ham\":\n",
    "        ham.append((label, msg))\n",
    "    else:\n",
    "        spam.append((label, msg))\n",
    "random.shuffle(spam)\n",
    "random.shuffle(ham)\n",
    "print(len(spam), len(ham))"
   ]
  },
  {
   "cell_type": "code",
   "execution_count": 108,
   "id": "61213888",
   "metadata": {},
   "outputs": [],
   "source": [
    "num_folds = 3\n",
    "ham_folds = split_into_folds(ham, num_folds)\n",
    "spam_folds = split_into_folds(spam, num_folds)\n",
    "folds = []\n",
    "for ham_fold, spam_fold in zip(ham_folds, spam_folds):\n",
    "    folds.append(ham_fold + spam_fold)"
   ]
  },
  {
   "cell_type": "code",
   "execution_count": 84,
   "id": "05bc0247",
   "metadata": {},
   "outputs": [],
   "source": [
    "random.shuffle(messages)\n",
    "folds = split_into_folds(messages, 3)"
   ]
  },
  {
   "cell_type": "code",
   "execution_count": 109,
   "id": "42b0e24d",
   "metadata": {},
   "outputs": [
    {
     "name": "stdout",
     "output_type": "stream",
     "text": [
      "571 1140\n",
      "571 1140\n",
      "569 1142\n"
     ]
    }
   ],
   "source": [
    "for test, train in generate_train_test(folds):\n",
    "    print(len(test), len(train))"
   ]
  },
  {
   "cell_type": "markdown",
   "id": "6d3988ae",
   "metadata": {},
   "source": [
    "# Evaluate"
   ]
  },
  {
   "cell_type": "code",
   "execution_count": 110,
   "id": "d5628c4b",
   "metadata": {},
   "outputs": [
    {
     "name": "stdout",
     "output_type": "stream",
     "text": [
      "571 1140\n",
      "Accuracy: 0.802 458 571\n",
      "571 1140\n",
      "Accuracy: 0.809 462 571\n",
      "569 1142\n",
      "Accuracy: 0.772 439 569\n"
     ]
    }
   ],
   "source": [
    "for test, train in generate_train_test(folds):\n",
    "    print(len(test), len(train))\n",
    "    nb = NaiveBayes().fit(train)\n",
    "\n",
    "    true_positives = 0\n",
    "    all_observations = len(test)\n",
    "\n",
    "    for label, message in test:\n",
    "        if nb.predict_label(message) == label:\n",
    "            true_positives += 1\n",
    "\n",
    "    accuracy = true_positives / all_observations\n",
    "    print(f\"Accuracy: {accuracy:.3f}\", true_positives, all_observations)"
   ]
  },
  {
   "cell_type": "code",
   "execution_count": 111,
   "id": "e4b5c877",
   "metadata": {},
   "outputs": [
    {
     "name": "stdout",
     "output_type": "stream",
     "text": [
      "Accuracy: 0.761\n",
      "CPU times: user 136 ms, sys: 3.1 ms, total: 139 ms\n",
      "Wall time: 137 ms\n"
     ]
    }
   ],
   "source": [
    "%%time\n",
    "\n",
    "train_messages, test_messages = split_train_test(messages)\n",
    "nb = NaiveBayes().fit(train_messages)\n",
    "true_positives = 0\n",
    "all_observations = len(test_messages)\n",
    "\n",
    "for label, message in test_messages:\n",
    "    if nb.predict_label(message) == label:\n",
    "        true_positives += 1\n",
    "\n",
    "accuracy = true_positives / all_observations\n",
    "print(f\"Accuracy: {accuracy:.3f}\")"
   ]
  },
  {
   "cell_type": "code",
   "execution_count": 112,
   "id": "a66db49b",
   "metadata": {},
   "outputs": [],
   "source": [
    "def generate_outcomes(nb, test_messages):\n",
    "    outcomes = ((\"true\", \"false\"), (\"positive\", \"negative\"))\n",
    "    possible_results = [f\"{a}_{b}\" for b in outcomes[1] for a in outcomes[0]]\n",
    "    result_template = dict.fromkeys(possible_results, 0)\n",
    "\n",
    "    labels = set(nb.prior_probabilities)\n",
    "    label_results = {label: dict(result_template) for label in labels}\n",
    "    all_observations = len(test_messages)\n",
    "\n",
    "    for label, message in test_messages:\n",
    "        predicted = nb.predict_label(message)\n",
    "        if label == predicted:\n",
    "            label_results[label][\"true_positive\"] += 1\n",
    "        else:\n",
    "            label_results[label][\"false_negative\"] += 1\n",
    "            label_results[predicted][\"false_positive\"] += 1\n",
    "    return label_results"
   ]
  },
  {
   "cell_type": "code",
   "execution_count": 113,
   "id": "ca74307b",
   "metadata": {},
   "outputs": [],
   "source": [
    "def precision_recall_f1(result):\n",
    "    all_observations = sum(result.values())\n",
    "    tp = result[\"true_positive\"]\n",
    "    fp = result[\"false_positive\"]\n",
    "    fn = result[\"false_negative\"]\n",
    "    precision = tp / (tp + fp)\n",
    "    recall = tp / (tp + fn)\n",
    "    f1 = 2 * (precision * recall) / (precision + recall)\n",
    "    return precision, recall, f1\n",
    "\n",
    "\n",
    "def show_result(label_results):\n",
    "    for label, result in label_results.items():\n",
    "        precision, recall, f1 = precision_recall_f1(result)\n",
    "        print(\n",
    "            f\"{label: >4} f1: {f1:.3f} precision: {precision:.3f} recall: {recall:.3f}\"\n",
    "        )"
   ]
  },
  {
   "cell_type": "code",
   "execution_count": 114,
   "id": "4823ef77",
   "metadata": {},
   "outputs": [
    {
     "name": "stdout",
     "output_type": "stream",
     "text": [
      "571 1140\n",
      "571 1140\n",
      "569 1142\n",
      "spam f1: 0.876 precision: 0.999 recall: 0.779\n",
      " ham f1: 0.407 precision: 0.256 recall: 0.992\n"
     ]
    }
   ],
   "source": [
    "results = None\n",
    "for test, train in generate_train_test(folds):\n",
    "    print(len(test), len(train))\n",
    "    nb = NaiveBayes().fit(train)\n",
    "    label_result = generate_outcomes(nb, test)\n",
    "    if results is None:\n",
    "        results = label_result\n",
    "    else:\n",
    "        for label, counts in label_result.items():\n",
    "            for name, count in counts.items():\n",
    "                results[label][name] += count\n",
    "show_result(results)"
   ]
  },
  {
   "cell_type": "code",
   "execution_count": 115,
   "id": "f882bb5b",
   "metadata": {},
   "outputs": [
    {
     "data": {
      "text/plain": [
       "{'ham': 0.07180385288966724, 'spam': 0.9281961471103327}"
      ]
     },
     "execution_count": 115,
     "metadata": {},
     "output_type": "execute_result"
    }
   ],
   "source": [
    "nb.prior_probabilities"
   ]
  },
  {
   "cell_type": "code",
   "execution_count": 98,
   "id": "c15b619d",
   "metadata": {},
   "outputs": [
    {
     "name": "stdout",
     "output_type": "stream",
     "text": [
      "Jürgen  Nach drei Wochen Pendeln hatte ich die Folge durch 😅\n",
      "\n",
      "Nachdem ich in den letzten Jahren fast nur mit ZODB gearbeitet habe, habe ich durch die Folge viel Neues gelernt! Vor allem die Geschichte mit Postgres und JSON hört sich ja super an.\n",
      "\n",
      "Vielen Dank und immer weiter so!\n",
      "Norbert  Danke für diese sehr interessante Folge!\n",
      "\n",
      "Für mich waren viele nutzbare Infos dabei, die ich entweder noch gar nicht wusste oder jedenfalls nicht derart detailliert.\n",
      "\n",
      "Gruss\n",
      "Norbert  War interessant für mich, danke!\n",
      "Jürgen  DNS over https im Firefox kommt afaik nur in den USA.\n",
      "Johannes  Voll die gute Episode!\n",
      "Jochen  Danke :)\n",
      "Jochen  Nee, ist gut. Hilft dabei uns dazu zu bringen, dass das hier mal weitergeht :).\n",
      "Jochen Wersdörfer  Also ich mache das vor allem auch, um selbst etwas dabei über das Thema zu lernen. Und öffentlich failen hat halt einen ganz guten Lerneffekt :). Aber ja, vielleicht sollten wir uns zumindest bei Themen, mit denen wir uns nicht eh schon jeden Tag beschäftigen etwas besser vorbereiten..\n",
      "Jochen  Alles klar, freut mich zu hören, danke :)\n",
      "Jochen  Moin,\n",
      "\n",
      "erstmal sorry dafür, dass dein Kommentar für Spam gehalten und dann moderiert wurde. Der erste false positiv Fall bisher, daher danke für dieses gute Trainingsbeispiel :).\n",
      "\n",
      "Ich würde heute immer eher eine webbasierte Anwendung bauen, aber ich habe auch keine Erfahrung mit qt-bindings oder so. Tkinter ist halt schon arg alt und sieht auch so aus.. aber wenn es funktioniert, warum nicht. Wenn es denn unbedingt eine Desktop-Applikation sein müsste, würde ich das eher so machen, wie Simon Willison hier, denke ich:\n",
      "\n",
      "https://simonwillison.net/2021/Aug/30/datasette-app/\n",
      "\n",
      "Vielen Dank und viele Grüße\n",
      "Jochen\n",
      "Jochen  Ja, edit wäre schön, aber dafür müsste man sich dann einloggen können (was auch ginge, aber hmm... mal drüber nachdenken) :). Wenn ich nur mal schnell was ändern soll, kann ich das auch einfach so machen..\n",
      "Arnim Sommer  Ihr wollt Fragen?\n",
      "Na gut:\n",
      "Wie steht ihr zu objektorientiertem Programmieren?\n",
      "Der FdI http://altlasten.lutz.donnerhacke.de/mitarb/lutz/usenet/Fachbegriffe.der.Informatik.html#528 ist mir bekannt, und zumindest unter PHP finde ich das unübersichtlicher als normales Arbeiten...\n",
      "Jochen  Oha, magic wormhole ist voll gut, das kannte ich noch gar nicht. Vielen Dank dafür :).\n",
      "Ben  Ein dreifaches Juchu auf Eure neue Folge!\n",
      "\n",
      "Musste nach dem Strategy Pattern abbrechen wegen Endorphinüberlauf :D\n",
      "(Das werde ich mir mal im Zusammenhang mit der python-docx API und HTML anschauen.)\n",
      "Das war eine Überraschung zum Feierabend! Höre Euch seit August und so (ganz) langsam erschöpfen sich die alten Folgen.\n",
      "\n",
      "Audiotechnisch war es vom Feinsten.\n",
      "Lasst Euch Zeit für noch so einen großen Wurf ODER haut einfach mal (wieder) eine Folge groben Unfugs raus! :)\n",
      "\n",
      "Grüße aus Halle\n",
      "Ben\n",
      "Jochen  Eigentlich sollte auphonic die Kapitelmarken auch ins mp3 schreiben. Sieht auch so aus, als ob das geklappt hätte:\n",
      "\n",
      "ffprobe pp_10.mp3\n",
      "...\n",
      "  Duration: 02:16:46.03, start: 0.025057, bitrate: 112 kb/s\n",
      "    Chapter #0:0: start 65.163000, end 174.821000\n",
      "    Metadata:\n",
      "      title           : Theuni stellt sich vor\n",
      "    Chapter #0:1: start 174.821000, end 548.978000\n",
      "    Metadata:\n",
      "      title           : Python Software Verband\n",
      "    Chapter #0:2: start 548.978000, end 598.982000\n",
      "    Metadata:\n",
      "      title           : Python Software Foundation\n",
      "    Chapter #0:3: start 598.982000, end 645.922000\n",
      "...\n",
      "\n",
      "Ist wohl eine Inkompatibilität zwischen der Art wie auphonic die Tags da reinschreibt und Pocketcast.\n",
      "Jochen  Hmm, andere haben da wohl auch Probleme: https://sendegate.de/t/korrekte-einrichtung-von-kapitelmarken/1668/11\n",
      "Dirk Deimeke  Schön, dass Ihr mittlerweile auch Kommentare erlaubt. Danke!\n",
      "\n",
      "Ich habe Euch übrigens mit Pocket Casts abonniert und da sehe ich keine Kapitelmarken, der Client beherrscht das allerdings.\n",
      "Jochen  Oha, Wekan kannte ich noch gar nicht, danke. Wir nehmen das direkt mal für die nächste Episode über Projektmanagement etc. auf :).\n",
      "Niko  Moin,\n",
      "\n",
      "entweder hab ich euch im Chaos um setdefault falsch verstanden oder euch ist ein kleiner Fehler beim Thema \"defaultdict\" unterlaufen.\n",
      "\n",
      "Bei \"defaultdict\" wird der default in das dict eingetragen beim Zugriff:\n",
      "\n",
      ">>> x = defaultdict(int)\n",
      ">>> x\n",
      "defaultdict(<class 'int'>, {})\n",
      ">>> x[1]\n",
      "0\n",
      ">>> x\n",
      "defaultdict(<class 'int'>, {1: 0})\n",
      "Jochen Wersdörfer  Hallo Tobias,\n",
      "\n",
      "vielen Dank und sorry, dass dein Kommentar in die Moderationsqueue gelaufen ist. War der erste false Positive seit langem.\n",
      "\n",
      "Also ich fänd' es ja super, wenn pip-tools die requirements aus pyproject.toml lesen könnte. Ich habe auch schon gehört das es ginge, aber als ich das letzte Mal nachgesehen habe, ging es dann doch nicht so wirklich. Hast du da vielleicht eine Quelle oder  ein Beispiel, wie man das hinbekommt?\n",
      "\n",
      "Viele Grüße nach Krefeld\n",
      "Jochen\n",
      "Jochen Wersdörfer  Oh, danke - immer schön zu Hören, dass das hilfreich war :).\n",
      "Philip May  Hallo zusammen,\n",
      "Susanne sagt in dem Podcast mehrmals, dass die Postleitzahl als sehr guter primärschlüssel für Orte genutzt werden kann.\n",
      "Leider geht was so nicht. Ort und Postleitzahl stehen in einem \"n zu m Verhältnis\".\n",
      "\n",
      "Ein Ort kann mehrere Postleitzahlen haben. Aber eine Postleitzahl kann auch mehrere Orte haben.\n",
      "Das ist oft der Fall in dünn besiedelten Bereichen.\n",
      "\n",
      "Ein Beispiel ist \"01561\": https://www.suche-postleitzahl.org/plz-gebiet/01561#list\n",
      "Jochen Wersdörfer  Jo, tut anscheinend :)\n",
      "durschdti  Hallo,\n",
      "\n",
      "vielen Dank für den Tipp mit pywin32. Ich nutze auto-py-to-exe damit meine Kollegen nicht erst python installieren müssen. Ich habe ein pip Update gemacht und plötzlich  konnte ich nicht mehr die exe  Datei nutzen. Ich habe eine erzeugt bekommen. Da es im Visual Studio Code funktioniert hat, habe ich wie immer die alte exe gleich überschrieben. Ich habe drei Stunden geschwitzt um eine funktionierende Version in meinen Ordnern  zu finden. Ich werde es nach meinem Urlaub testen, hoffe euer Tipp funktioniert, da meine Kollegen sonst Python installieren müssen und eine .pyw starten müssen. Bei der exe können sie wenigstens nichts kaputt machen.\n",
      "\n",
      "Also vielen Dank! Bleibt gesund.\n",
      "Toller Podcast auch wenn ich nicht immer alles verstehe. :-)\n",
      "\n",
      "Frage:\n",
      "Würdet ihr Tkinter oder Django empfehlen wenn man ein Cockpit bauen möchte damit die Kollegen damit arbeiten können? Ich habe eure Django Folge zwar gehört aber war dann fachlich schnell raus. Wir haben keine Netzlaufwerke mehr sondern nur noch Onedrive und Sharepoints. Ich habe ein 3800 Zeilen langes Script geschrieben was tkinter nutzt. Kann man Django einfach so anderen bereitstellen oder benötigt man einen Server wo das laufen muss? Wenn ja dann muss ich bei tkinter bleiben was auch okay ist aber man will ja das Tool auch optisch anheben. :-)\n",
      "\n",
      "Also wie gesagt, Dankeschön für die tollen Folgen, ich lerne immer etwas dazu und heute war es ganz wichtig mit dem pywin32 Hinweis!!!\n",
      "miracee  Moin,\n",
      "was ist T-SQL? Natürlich kann ich jede Menge erzählen für Umsteiger von PG <-> MariaDB bzw. MySQL. Was genau möchtest Du denn wissen? Ich gebe darüber übrigens sogar Schulungen. \n",
      "miracee (Susanne)\n",
      "Alpengreis  Ob das wirklich so ist, weiss ich ehrlich gesagt auch nicht. Aber da Dominik eben gesagt hatte, er bekommt immer den gleichen Wert raus, wäre das in diesem Fall wohl die Lösung??\n",
      "\n",
      "Ich werde das auf jeden Fall demnächst eh testen, da ich ein kleines Projekt habe, in das ich \"random\" noch einbauen muss ...\n",
      "Oliver  Sehr spannender Podcast! Was die Förderung von open source Projekten angeht wollte ich kurz auf https://prototypefund.de/ aufmerksam machen, ich hatte den Eindruck, dass Ihr das noch nicht kanntet. VG Oliver\n",
      "Dirk Deimeke  Gerade geantwortet.\n",
      "scatty  Die Zeilenumbrüche von black führen zu lesbareren Diffs. Vor allem bei Code Review kann man dadurch auf einen Blick sehen, was sich genau geändert hat.\n",
      "\n",
      "Ich musste mich auch erst daran gewöhnen, aber mittlerweile möchte ich es nicht mehr missen.\n",
      "Jürgen  Das Pinnen der transitiven Dependencies (also der Abhängigkeiten der Abhängigkeiten) konnte anno dazumals schon `buildout`. Und nein, das würde man heutzutage wohl nicht mehr für ein neues Projekt verwenden. Aber so im Zope-Umfeld war und ist das Gang und Gäbe.\n",
      "\n",
      "Dazu passt ja das Zitat: \"Those who do not study Zope, are condemned to reinvent it.\" Anfangs habe ich darüber gelächelt, aber stimmt ja doch :-)\n",
      "\n",
      "Und `Poetry` kann natürlich alles - also auch Packages zu PyPi hochladen.\n",
      "\n",
      "Und dann gäbs da noch `flit`... wobei wohl nichts zum Pinnen mit sich bringt...\n",
      "\n"
     ]
    },
    {
     "name": "stdout",
     "output_type": "stream",
     "text": [
      "Ajo, wieder eine klasse Episode! Hoffe bald auf Nachschub!\n",
      "Alpengreis  Wieder einiges gelernt, danke!\n",
      "Jochen  Oh, wenn du eine gute Hostinglösung gefunden hast, sag bescheid :).\n",
      "\n",
      "Hmm, jo - also zum Verschieben von Dateien nehme ich meistens scp/rsync. Wofür möchtest du den Dateien zwischen Rechnern verteilen? Vielleicht gibt es für deinen Anwendungsfall ja auch noch andere Möglichkeiten...\n",
      "Dominik  oh, jetzt habe ich aus Versehen einen Kommentar gelöscht der sich auf die letzte Folge bezog.. in dem stand: \"*piep, *piep, *piep\"\n",
      "da ging sofort mein Spam-Filter an :-----P\n",
      "Jochen Wersdörfer  Hallo Philip,\n",
      "\n",
      "vielen Dank für deinen Hinweis. Ja, Adressen eine normalisierte Form zu bringen, ist irgendwie immer schwieriger als man denkt. Je nachdem wofür man den Ort verwenden möchte, kann man das vielleicht  schon so machen, denn vielleicht braucht man bei einer Marketingkampagne gar nicht den Ortsnamen, sondern halt nur die ungefähre Region - aber es hängt halt immer davon ab, was der Zweck der Datenbank ist.\n",
      "\n",
      "Viele Grüße\n",
      "Jochen\n",
      "Jochen Wersdörfer  Hehe, ich habe das auch schon zu hören bekommen. Dabei bin ich älter und trotzdem noch nicht so lange dabei wie Christian.\n",
      "\n",
      "Ach damals... als die erste .com-Bubble platzte... ;)\n",
      "Jochen Wersdörfer  Danke für deine Rückmeldung, sieht momentan tatsächlich danach aus, als ob wir vielleicht etwas Richtung Werbung machen würden. Werde mir das mal bei der Lage der Nation anhören. MQTT finde ich prinzipiell total super, aber da braucht man dann ja auch noch einen Broker, den man mitdeployen müsste. Und wenn man eh ein zusätzliches Stück Infrastruktur mitdeployen muss, würde ich da eher redis nehmen, das kann ja auch queue, aber eben noch viel mehr.\n",
      "Alpengreis  Nope, das war nix, sorry!\n",
      "lioman  Das ist das tatsächlich der hauptusecase für die knappen 80 Zeichen. Wir hatten erst immer auf 120 vergrößert. Inzwischen sind wir wieder beim Default. Diffs egal, ob im Browser oder lokal beim entwickeln sind einfacher zu lesen. Vor allem hat man ja auch nicht immer noch zwei große Monitore angeschlossen.\n",
      "Alpengreis  Interessante Folge, dankeè\n",
      "Jochen Wersdörfer  Danke, Nachschub ist auch schon wieder in Sicht :).\n",
      "\n",
      "Oha, dass buildout das kann, wusste ich noch nicht. Und ja, das zope-Projekt hat wohl schon ganz viele Dinge getan, bevor das allgemein üblich wurde. Zu zope müssen wir auch unbedingt mal eine Episode aufnehmen, glaube ich. Kenne mich da leider überhaupt nicht aus.\n",
      "Jochen  Danke :), jo - Brian Okken macht ja auch den https://testandcode.com/ Podcast. Da höre ich auch ab und zu mal rein.\n",
      "Dirk Deimeke  Wirklich schöne Episode und auch interessant einmal den Blick von Pythonistas auf DevOps zu sehen. Ich habe einige Anregungen mitgenommen.\n",
      "\n",
      "Schade finde ich allerdings, dass Ihr - wie so viele - nur über Ops redet statt mit Ops. Das ist eines der Hauptprobleme der DevOps-Kultur. Unsere Entwicker sagten auch, dass sie DevOps machen, ohne, dass sie jemals mit Ops geredet, noch Ops zu ihren Sprintmeetings oder Retros eingeladen haben. Das ist mittlerweile behoben.\n",
      "\n",
      "Bei den Entwickler hat sich viel Ernüchterung eingestellt, als sie gemerkt haben, dass mit neuer Kultur auch neue Verantwortung (Bereitschaft, ...) auf sie zugekommen ist.\n",
      "\n",
      "Naturgemäss (ich bin Sysadmin) hätte ich zu vielen im Podcast angesprochenen Punkten eine andere Meinung gehabt. Das können wir gerne einmal separat - FrOSCon anyone? - besprechen.\n",
      "\n",
      "Bezogen auf Twitter möchte ich Euch sehr die \"Fallacies of Distributed Computing\" ans Herz legen.\n",
      "\n",
      "Ich habe einmal die vier Links, hier zusammengestellt: https://pinboard.in/u:ddeimeke/t:pythonpodcastdevops/\n",
      "Jochen  Ja, die Formatierungsmöglichkeiten sind hier sehr rudimentär. Vielleicht mal ein\n",
      "https://github.com/discourse/discourse dranklemmen oder so.\n",
      "Jochen Wersdörfer  Oh, gerade erst gesehen - vielen Dank! :)\n",
      "Jochen  Ja, stimmt natürlich.. hmm.\n",
      "Jochen Wersdörfer  Nee, kannten wir (zumindest ich) noch nicht :). Vielen Dank für den Hinweis - klingt ja schon interessant!\n",
      "Alpengreis  PS: Ich hatte übrigens den Code INKL. Leerzeichen hier gepastet ... die werden aber anscheinend verschluckt, wie auch gewollte Leerzeilen, um Abschnitte übersichtlicher darzustellen ...\n",
      "Norbert  Sehr gute Folge wieder, besten Dank - habe wieder EINIGES dazugelernt!\n",
      "\n",
      "Insbesondere war mir der Unterschied zwischen unittest und pytest in Bezug auf die Klassen/Funktionen überhaupt nicht klar. Habe mich schliesslich bislang nur kurz mit Tests beschäftigt.\n",
      "\n",
      "Und die Folge machte es auch klar, dass mein Entscheid für pytest nicht so ganz falsch war ;-) Hatte übrigens bereits ein Buch angeschafft, nämlich \"Pyton Testing with pytest\" von \"Brian Okken\" - scheint ganz gut zu sein.\n",
      "\n",
      "Super finde ich auch Eure ausführlichen Shownotes, die sind in dieserm Form auch richtig hilfreich, bitte an diesem Prinzip festhalten!\n",
      "\n",
      "Und schliesslich noch zur Aufnahme-Technik: das klappte ja soweit tadellos - das Zoom H6 ist wohl nicht umsonst so beliebt.\n",
      "\n",
      "Dann machts mal gut und bis bald ...\n",
      "\n",
      "Norbert\n",
      "Jochen Wersdörfer  Hallo Niko,\n",
      "\n",
      "oh - kann gut sein, dass uns da etwas durcheinander geraten ist. Ich muss da nachher nochmal reinhören. Verwirrend bei setdefault finde ich, dass das den value halt nur setzt, wenn der key nicht drin ist und ansonsten ein get macht. Aber der default wird in jedem Fall instanziiert, egal ob man ihn dann braucht oder nicht. Irgendwie ist diese Funktion einfach etwas unglücklich (auch wenn ich sie früher sehr oft verwendet habe und auch heute noch manchmal aus alter Gewohnheit :)).\n",
      "Jürgen  Toller Anwendungsfall für `classmethods` sind `factories`.\n",
      "\n",
      "Und Reeeespekt. Gar nicht so einfach so viele Konzepte aus dem Stand heraus zu erklären, gerade wenn man sonst gar nicht darüber nachdenkt!\n",
      "Jochen Wersdörfer  Habe das Löschen mal wieder rückgängig gemacht. Wusste gar nicht, dass das geht :).\n",
      "Manfred Schmid  Hallo,\n",
      "\n",
      "hatte heute wiedermal das Vergnügen zu meinem 100km entfernten Kunden zu pendeln. \n",
      "Also hatte ich genügend  Zeit um eure Folger \"REST\" zu hören. Wie immer sehr interessant, auch wenn ich nicht immer 100% folgen kann.\n",
      "Zu Flask und Rest hätte ich euch folgende Packages zu bieten:\n",
      "\n",
      "Flask-RESTful und Flask-Restplus\n",
      "\n",
      "Da ihr ja große Freunde von Django seit, hab ich es mir inzwischen auch mal angetan damit zu Spielen.\n",
      "Konkret habe ich die Datenstruktur meiner Flask Anwendung in Django übernommen und ein wenig mit dem Admin Interface gespielt. In meiner Flask Anwendung, ich benutze Flask-Admin, relativ viel gestallten. So ist das Admin Interface meine eigentliche Anwendung. Man kann sehr einfach Submenu bzw Menü im allgemeinen erstellen.\n",
      "Meine Frage an euch, vielleicht habt ihr mir ja einen Tip, ich möchte eigentlich keine großen Frontends schreiben. \n",
      "Für meine Anwendungen brauche ich eigentlich nur ein AdminInterface um die Daten die ich später z.B mit Rest abfrage  vernünftig zu pflegen. Das geht ja mit Django super, allerdings habe ich noch nicht wirklich was simples gefunden das mir erlaubt die Struktur meiner Views (Menü) ordentlich auf zu bauen.Habt Ihr da irgend ein Modul für mich?\n",
      "\n",
      "Und zweite Frage, ich möchte gerne etwas mehr mit Django machen, suche aber in erste Linie eine deutsch sprachiges Forum / Community, am liebsten natürlich in Bayern. Wisst ihr da was für mich?\n",
      "\n",
      "Ansonsten Danke für die interessanten Stunden im Auto.\n",
      "Grüße aus dem Allgäu und bleibt gesund!\n",
      "\n",
      "Manfred\n",
      "bendust  Test mit Firefox für Android 09:13 UTC.\n",
      "Jochen Wersdörfer  Voll der gute Kommentar!\n",
      "Skillet  Wieder super Folge,\n",
      "als kleine Idee warum nicht MQTT als inter process Kommunikation nutzen wenn die Daten nicht zu groß sind?\n",
      "Werbung find ich Ok wenn das Transparent ist also klar gekennzeichnet ist. Lage der Nation macht das recht gut.\n",
      "Jochen Wersdörfer  Ab Minute 7 ungefähr, habe extra auch Kapitelmarken gesetzt, damit man das skippen kann :). Aber ja, danke für dein Feedback.\n",
      "Dominik  das ist meine co-pilot-autocompletion für pi:\n",
      "\n"
     ]
    },
    {
     "name": "stdout",
     "output_type": "stream",
     "text": [
      "pi = 3.14215926535897932384626433832795028841971693993751058209749445923078164062862089986280348253421170679821480865132823066470938446095505822317253594081284811174502841027019385211055596446229489549303819644288109756659334461284756482337867831652712019091456485669234603486104543266482133936072602491412737245870066063155881748815209209628292540917153643678925903600113305305488204665213841469519415116094330572703657595919530921861173819326117931051185480744623799627495673518857527248912279381830119491298336733624406566430860213949463952247371907021798609437027705392171762931767523846748184676694051320005681271452635608277857713427577896091736371787214684409012249534301465495853710507922796892589235420199561121290219608640344181598136297747713099605187072113499999983729780499510597317328160963185950244594553469083026425223082533446850352619311881710100031378387528865875332083814206171776691473035982534904287554687311595628638823537875937519577818577805321712268066130019278766111959092164201989380952572010654858632788659361533818279682303019520353018529689957736225994138912497217752834791315155748572424541506959508295331168617278558890750983817546374649393192550604009\n",
      "Marco  Jetzt mit Werbung? Habe ich irgendwie verpasst. Gruselig, wenn Podcasts, die sich mit Technik auskennen, Werbung für vpn machen. \n",
      "\n",
      "Trotzdem danke ich euch für die schöne Folge.\n",
      "Dirk Deimeke  Jetzt fehlt nur noch Mailbenachrichtigung bei Kommentaren oder ein Kommentar-Feed.\n",
      "Dirk Deimeke  An Euch hatte ich gar nicht mehr gedacht. Ich habe meinen Pinboard-Account geschlossen. Die Links finden sich jetzt hier: https://shaarli.deimeke.net/?searchtags=pythonpodcastdevops\n",
      "Patrick  Hallo,\n",
      "\n",
      "was über graphiti erzählt wurde erinnert mich schon sehr stark an ODATA. Und das ist ein alter Hut und wird vom ach so langweiligen SAP genutzt ;)\n",
      "\n",
      "Haha, viele Grüße\n",
      "Jochen Wersdörfer  Achso, hmm, keine Ahnung ob T-SQL jetzt näher am Standard ist als MySQL oder umgekehrt :). Die Lernspiele in den Shownotes basieren imho auf SQLite und das ist jedenfalls näher an Postgres als an MySQL, daher sollte das schon passen, denke ich mal. So aus dem Kopf würde ich aber auch denken, dass da gar keine so grossen Unterschiede sind? In MySQL sind halt die Zeit/Datumsfunktionen anders und man kann | statt OR schreiben, was man aber vielleicht eh nicht machen sollte und es gibt diese Geschichte mit den Anführungszeichen, aber sonst?\n",
      "\n",
      "Die wesentlichen Unterschiede liegen für mich eher da, wo Postgres zusätzliche Features hat. Aber wenn man von MySQL kommt, kennt man die ja nicht, das stört dann ja nicht weiter.\n",
      "Markus  Hallo,\n",
      "\n",
      "endlich ein guter Python-Podcast aus Deutschland. Bisher muss ich mir immer die amerikanischen Varianten a la  Dataframed anhören.\n",
      "Jochen  Was ist denn T-SQL? Ich leite den Kommentar mal weiter :).\n",
      "Dominik  Bitte. :)\n",
      "Das mit den Kapitelmarken liegt wohl daran, dass der feed für Pocketcast mp3 bereitstellt, was keine Marken kann. Mal gucken, ob wir das fixen können. Habs mal auf die Todo-Liste geschrieben.\n",
      "Gruß\n",
      "Jochen Wersdörfer  Kommt darauf an, was man machen will :). Manchmal finde ich das bei Frameworks recht schick, so wie zum Beispiel beim Django REST framework. Oft reicht es einfach nur von irgendeinem Standardview zu erben und eine kleine Methode zu überschreiben, um eine API mit einem Verhalten hinzubekommen, wo man sonst selbst hätte sehr viel Code schreiben müssen. Andererseits ist die Lernkurve steiler und man muss mehr Dinge wissen. Vielleicht war das jetzt aber auch eher der Unterschied zwischen Libraries und Frameworks..\n",
      "\n",
      "Denke, wenn man nicht zu viel auf Vererbung setzt und für Codereuse eher Mixins benutzt, kann das schon recht schick sein. Aber man kann auch sehr nette Dinge mit Funktionen tun und dann den State eher in speziellen Stores halten, wie bei den ganzen Javascript-Frontendframeworks heutzutage üblich ist.\n",
      "\n",
      "Aber das ist ja auch wieder das schöne an Python. Ist halt eher Multiparadigma. Kann man machen wie man will :).\n",
      "Alpengreis  Ok, besten Dank, auch für den Link!\n",
      "Alpengreis  PPS:\n",
      "Und auch die Replies scheinen (manchmal) nicht an der richtigen Stelle zu erscheinen ...\n",
      "\n",
      "So, nun genug gemeckert ... aber es ist ja nur konstruktiv gemeint!!\n",
      "Jochen  Echt, man muss seed immer aufrufen? Ich kenne das eher so, dass man seed immer mit dem gleichen Integer (viele nehmen die Jahreszahl) aufruft, um reproduzierbare Ergebnisse zu bekommen, wenn man irgendwo zufällig Dinge aufteilt oder so..\n",
      "Alpengreis  Oder vielleicht geht es ja (als Workaround sozusagen) mit \"Non-Breakable-Spaces\" und \"break\"? Das geschützte Leerzeichen \"Alt+0160\" ist wohl nicht so geeignet dazu. Mal nur kurz testen, wenn Du erlaubst (sehe es eben noch nicht in der Vorschau-Ansicht) ... (sonst einfach löschen bitte):\n",
      "\n",
      "1) Test nur mit \"Non-Breakable-Spaces\":\n",
      "Zeile 1 - uneingerückt\n",
      "&nbsp;&nbsp;&nbsp;&nbsp;Zeile 2 - sollte eingerückt sein (4 \"Non-Breakable-Spaces\" verwendet)\n",
      "Zeile 3 - uneingerückt\n",
      "\n",
      "2) Test mit \"Non-Breakable Spaces\" und zusätzlich vorangehendem/abschliessendem code-Attribut, um Monospace-Font zu verwenden:\n",
      "<code>\n",
      "Zeile 1 - uneingerückt\n",
      "&nbsp;&nbsp;&nbsp;&nbsp;Zeile 2 - sollte eingerückt sein (4 \"Non-Breakable-Spaces\" verwendet)\n",
      "Zeile 3 - uneingerückt\n",
      "</code>\n",
      "\n",
      "3) Hier noch ein Test für Newlines mit \"Non-Breakable-Spaces\" mit folgendem \"br\":\n",
      "&nbsp;<br>\n",
      "&nbsp;<br>\n",
      "Oberhalt dieser Linie sollten 2 Newlines eingefügt worden sein ...\n",
      "Jochen Wersdörfer  Hallo Christian,\n",
      "\n",
      "vielen Dank auch :). Habe den Link zu Commandeer mal auf das Package geändert. Komisch, kaum wartet man mal ein paar Jahre, gehen die Links nicht mehr... muss mal Johannes anpingen, ob das eigentlich so gedacht war.\n",
      "Jochen Wersdörfer  Das hier ist übrigens ein sehr empfehlenswertes Buch zu PostgreSQL: https://theartofpostgresql.com/\n",
      "Philip May  Fun fact für nebenbei: Es gibt Posteitzahlen hinter denen keine wirkliche Adresse steht. Und zwar Postleitzahlen von Postfächern. Das ist besonders lustig in Transport-Logistik Systemen:\n",
      "\n",
      "Wenn da plötzlich eine Quelle die Postleitzahl auf die des Postfaches ändert, dann kann die Adresse plötzlich nicht mehr von LKWs angefahren werden. Ich spreche da aus Erfahrung. ;-)\n",
      "Jürgen  REPL = read eval print loop\n",
      "Matthias  War auf jeden Fall sehr ehrhellend, auch wenn ich denke ich schon reichlich Erfahrungen in DBs habe, bewege ich mich dort doch eher auf PSQL und bin dann natürlich etwas betriebsblind ;)\n",
      "Alpengreis  - Betreffend IO.Multiplexen und dem Verteilen auf mehrere CPUs:\n",
      "\n",
      "Threads (oder Async IO) für IO-lastige Sachen ... das ist mir soweit klar - könnte man dann aber für CPU-lastige Dinge nicht das Multiprocessing-Modul verwenden, gemäss folgender Webpage z.B.? ...\n",
      "\n",
      "https://timber.io/blog/multiprocessing-vs-multithreading-in-python-what-you-need-to-know/\n",
      "\n",
      "\n",
      "- Betreffend random.randinit(1,10):\n",
      "\n",
      "Da reicht dies eben nicht, sondern der Zufallsgenerator muss auch jeweils initialisiert werden mit: random.seed()\n",
      "Jochen Wersdörfer  Freut mich, wenn es gefällt - an dem Raushauen müssen wir noch ein bisschen arbeiten, aber immerhin planen wir schon wieder :).\n",
      "Jochen  Jo, ich habe in den 0er Jahren sehr viel MySQL gemacht, aber dann seit ich irgendwann 2013 mit Django angefangen habe, eigentlich nur noch Postgres.\n",
      "Dominik  Euch allen auch schöne Festtage!\n",
      "5 Sterne. Da werd ich ja ganz rot. Danke.\n",
      "\n",
      "Ich frage Jochen mal, was er zu HANA weiß.\n",
      "Jochen Wersdörfer  Hallo Manfred,\n",
      "\n",
      "ah - die beiden Pakete für Flask kannte ich noch gar nicht. Was das Django-Admin angeht: Ich benutze das ehrlich gesagt gar nicht so häufig :).\n",
      "\n",
      "Django-Forum oder Community in Bayern wäre mir jetzt ehrlich gesagt auch keine bekannt. Wir hängen üblicherweise in diesem Telegram-Chat rum: https://t.me/djangoRhein\n",
      "\n",
      "Vielleicht da die Frage danach, wie man das mit den Menus im Django-Admin hinbekommt da einfach nochmal stellen. Da sind auf jeden Fall auch Leute, die damit eine ganze Menge machen.\n",
      "\n",
      "Viele Grüße aus Düsseldorf\n",
      "Jochen\n",
      "Jürgen  Der Theuni wäre da genau der richtige. Den hättet ihr ja eh schon das eine oder andere mal in der Sendung.\n",
      "Jochen  Ja, Mail wäre eigentlich kein Problem. Setze ich auch mal auf ToDo..\n",
      "Jochen  Ohja stimmt, sowas in der Art, oder? https://github.com/python/cpython/blob/eb8ac57af26c4eb96a8230eba7492ce5ceef7886/Lib/collections/__init__.py#L1038\n",
      "\n"
     ]
    },
    {
     "name": "stdout",
     "output_type": "stream",
     "text": [
      "Da braucht man die Klasse natürlich für. Danke auch :).\n",
      "Jochen Wersdörfer  Vielen Dank - ja, waren einige ausführliche Abschweifungen dabei diesmal. Aber es gab halt auch viel zu erzählen 😇.\n",
      "\n",
      "Dein Kommentar war übrigens auch der erste, der nach dem Umstieg auf wagtail nicht vom Spamfilter abgelehnt wurde. Gut, dass das mal jemand getestet hat 😅.\n",
      "Johannes  Stimmt, da haben wir einen Fehler gemacht. Danke für das Ausprobieren und die Korrektur!\n",
      "Frank Mankel  Hallo Podcast Team,\n",
      "\n",
      "ich finde es absolut rekordverdächtig, Euer Intro hat diesmal fast 1 1/2 Stunden gedauert. Meinen Respekt dafür ;)\n",
      "\n",
      "Spaß beiseite, ich mag Euren Podcast und freue mich auf jede Folge. Ok, ab und zu bin ich von den Themen überfordert (Python Einsteiger) aber ich habe schon einiges bei Euch gelernt.\n",
      "\n",
      "Danke für den tollen Podcast!\n",
      "\n",
      "Gruß\n",
      "FrankM\n",
      "Jochen Wersdörfer  Schön zu hören :).\n",
      "Alpengreis  Ah ja, eine EDIT-Funktion für die Beiträge hier wäre auch noch schön :-)\n",
      "Frank  ... bei dem Gestammel zu Vue habe ich dann abgeschaltet ... warum produziert ihr so einen inhaltlosen, schlecht vorbereiteten Unsinn??? Es gibt schon genug nutzloses Zeug im Internet. Danke dass ihr meine Zeit verschwendet habt.\n",
      "Dirk Deimeke  Ich bin ein bisschen hintendran mit dem Hören von Podcasts. Es war eine schöne Folge.\n",
      "\n",
      "Für das Verteilen von dotFiles benutze ich Ansible von einer zentralen Maschine, die Daten liegen natürlich in einem Git-Repo.\n",
      "\n",
      "Für lokale Konfigurationen verteile ich eine \".localrc\" auf den entsprechenden Hosts, die wird bei Existenz von der \".bashrc\" aufgerufen (\"gesourct\").\n",
      "\n",
      "Als Prompt benutze ich Liquidprompt, was insbesondere Informationen über das Git-Repo, in dem ich mich befinde und das verwendete Virtual Environment anzeigt. Liquidprompt kann deutlich mehr und ist wesentlich schneller als andere Prompts. - https://github.com/nojhan/liquidprompt\n",
      "\n",
      "Zum Suchen von Dateiinhalten, kann ich \"The Silver Searcher\" bzw. \"ag\" sehr empfehlen, der untersucht per Default keine Binärdaten und ist unter anderem deswegen sehr schnell: https://geoff.greer.fm/ag/ (ist in den meisten Distributionen enthalten).\n",
      "\n",
      "Last not least, wer tmux nutzt, braucht xpanes. Punkt. - https://github.com/greymd/tmux-xpanes\n",
      "Man alive  Guck guck\n",
      "Jochen Wersdörfer  Dochdoch, ich werde da sein :). Habe ne Mail wegen Termin geschrieben..\n",
      "Jochen  Ja, wenn man CPU-bound ist, baucht man mehrere Prozesse in Python. Aber den Empfehlungen der verlinkten Seite würde ich jetzt nicht so unbedingt folgen (die ist fachlich eher so meh). Schau dir mal das concurrent.futures modul an:\n",
      "\n",
      "https://docs.python.org/3/library/concurrent.futures.html\n",
      "\n",
      "Bücher, in denen gut beschrieben wird, was man da so machen kann sind Effective Python oder Fluent Python.\n",
      "\n",
      "Was auch super ist, gerade wenn man Last auch über mehrere Maschinen verteilen möchte, ist dask:\n",
      "\n",
      "https://youtu.be/ods97a5Pzw0\n",
      "Nico  Ich finde ihr hättet in der Liste von Taiga, Trello und Jira noch Wekan erwähnen sollen. Der deutlich einfachste Ansatz in dieser Aufzählung aber für Leute die mal in agile Methoden wie scrum/kanban reinschnuppern wollen mit wenig Einstiegshürden. Außerdem kann man es on-premise betreiben was ganz gut zu dem Indieweb-Gedanken passt der bei euch immer wieder durch schwingt.\n",
      "Ansonsten sehr gute Folge. Gerade die Erklärung zu Docker war die Erste die mir das Konzept endlich mal verständlich gemacht hat.\n",
      "Jochen Wersdörfer  Ja, tut anscheinend. Es kam auch eine Mail :).\n",
      "Jürgen  Zope 4 final kam im Mai 2019 raus - mit vollständiger Python 3 Unterstützung.\n",
      "Jochen Wersdörfer  So, gefixt.\n",
      "Dominik  danke sehr!\n",
      "Jürgen  So gut wie es für legacy Systeme funktioniert, für was Neues würd's wohl keiner verwenden.\n",
      "Dirk Deimeke  Das ist so nicht richtig, auch mp3 kann Kapitelmarken.\n",
      "\n",
      "http://id3.org/id3v2-chapters-1.0\n",
      "boleos  Wie immer eine Top Darstellung.\n",
      "Vielen Dank\n",
      "Patrick  Sehr gute Folge, Danke dafür! Datenbanken ist ein interessantes Thema, welches aus meiner Sicht oft unterschätzt wird, vor allem von IT-Einsteigern. Ich selbst hätte mir wenigstens mal eine Erwähnung von SAP HANA gewünscht ;-) Damit beschäftige ich mich schon länger, aber das sind Dinge, die in der Welt \"da draußen\" natürlich nicht so präsent und bekannt sind.\n",
      "\n",
      "Weiter so, schöne Weihnachten und 5 Sterne bei iTunes sind schon raus :-)\n",
      "Jochen Wersdörfer  Stimmt, muss ich gleich mal nachfragen, danke :).\n",
      "Lars  Der Typ der meinte Opa erzählt vom Krieg war dann wohl ich. ;-). War nicht böse gemeint. Super Podcast macht bitte weiter Jungs. Freu mich immer über neuen Folgen in meinem Feed.\n",
      "Ranthoron  Ich habe mit MySQL angefangen und ärgere mich jedes mal, wenn ich T-SQL anfassen muß...\n",
      "Ich weiß, daß es einen Proxy T-SQL/Postgres gibt; aber hat Susanne eventuell eine Anleitung Postgres für MySQLer?\n",
      "(Und Mengenlehre hatte ich auch noch in der Schule, ich fand es schön...)\n",
      "Jochen Wersdörfer  Hallo Patrick,\n",
      "\n",
      "ah interessant. Bisher war für mich ODATA nur das komische Microsoft-Ding, bei dem man raten muss, wie die URLs aufgebaut werden müssen :). Habe anlässlich deines Kommentars da gerade noch mal nach gegoogelt und mir war überhaupt nicht klar, dass das auch RESTful ist. Und ich habe gerade gelernt, dass es /$metadata/ gibt - leider ist der bei uns gesperrt (natürlich, wäre ja auch zu einfach).\n",
      "\n",
      "Viele Grüße,\n",
      "Jochen\n",
      "Jochen Wersdörfer  Oh super, vielen Dank. Vielleicht sollte ich mir das doch noch mal ansehen :).\n",
      "Christian  Ich bin erst vor wenigen Tagen auf den Podcast gestoßen und finde ihn bisher echt super, insbesondere die Package Empfehlungen bzw. Erweiterungen für Python! Vielen Dank an euch (:\n",
      "\n",
      "PS: Die Commandeer URL liefert aktuell einen 404 Fehler zurück\n",
      "Dimitrij  Hallo Zusammen,\n",
      "\n",
      "habe gerade die Folge angehört und einen „kleinen“ Fehler bei der Definition der Zahl PI entdeckt. Die Zahl PI ist nicht das Verhältnis von Radius zu Fläche sondern Durchmesser zu Umfang. Beim Durchmesser von 1 ist der Umfang 3,14… lang. Sollte ich falsch liegen dann bitte diesen Comment ignorieren. Macht weiter so und alles Gute,\n",
      "\n",
      "Dimitrij\n",
      "Ranthoron  T-SQL ist die von MOFT verbreitete Version, auch bekannt als MSSQL...\n",
      "Aber ein Buch/Heft/Lernspiel/...  für Postgres für My'ler wäre schon mal ein Einstieg...\n",
      "Bastian  Hallo zusammen,\n",
      "\n",
      "höre gerade die Folge nochmal nach, da ich aktuell nach Lösungen für Python Hosting suche.\n",
      "Danke schon mal für die interessante Folge.\n",
      "\n",
      "Zu den Möglichkeiten Dateien einfach zwischen Rechnern zu verteilen / synchronisieren hätte ich noch ein paar Ideen:\n",
      "\n",
      "- SyncThing für die Synchronisation von Verzeichnissen zwischen lokalen Rechnern / Mobile / Server (analog zu dropbox, jedoch ohne zentrale Server)\n",
      "- wormhole ist ein in Python geschriebenes Programm zum schicken von Dateien übers Netz (einzelne Dateien)\n",
      "- nextCloud als alternative zu ownCloud\n",
      "\n",
      "Viele Grüße\n",
      "Bastian\n",
      "Long John  Penis Penis Penis,\n",
      "Kihihihi\n",
      "Dirk Deimeke  Dann werden die Podcasts, bei denen ich Kapitel sehe, vermutlich m4a-Format sein.\n",
      "\n",
      "(Ist für mich nicht \"kriegsentscheidend\", ich nutze Kapitelmarken kaum).\n",
      "Tobias  Hey Leute,\n",
      "\n",
      "das war wie immer eine schöne Folge.\n",
      "\n",
      "Vorab mal ein Feedback: Euren \"von Höcksken auf Stöcksken\" Stil empfinde ich als sehr angenehm, da menschlich und natürlich. Und es ist ein Alleinstellungsmerkmal unter den deutschsprachigen Tech-Podcasts. Also, macht weiter so.\n",
      "\n",
      "Ich wollte auf eine Sache bzgl. pip-tools, poetry und project.toml hinweisen. Entgegen eurer Aussage, dass pip-tools nicht mit project.toml funktioniert, empfiehlt pip-tools ausdrücklich die Verwendung von project.toml. Kann sein, dass pip-tools das erst seit kurzem kann, jedenfalls war ich sehr glücklich darüber weil mich poetry ebenfalls nicht überzeugt, ich aber ungern auf eine project.toml verzichte.\n",
      "\n",
      "Schöne Grüße aus eurer Nachbarstadt Krefeld\n",
      "Tobias\n",
      "Alpengreis  Ist ja auch nichts schlimmes, OBWOHL ... bei meinen Tipp-Feeehlern manchmal :-)\n",
      "Jochen Wersdörfer  Uh oh, die Zeitzone ist falsch eingestellt, sehe ich gerade. Hrmpf.\n",
      "Dirk Deimeke  Mail hat das Problem mit dem Double Opt-In und vermutlich auch mit dem Abbestellen.\n",
      "Thomas  Bin bei Minute 24 und empfehle für die vorherigen Fragen, wie funktionieren MS usw. diese Dokumentation: docs.commercetools.com\n",
      "Auch dabei: Frontend mit Microservices\n",
      "Norbert  Sehr gute Folge wieder, vielen Dank!\n",
      "\n",
      "Habe wieder VIEL dazugelernt! Ist halt schon super, wenn man auf diesem Weg derart profitieren kann - daher hoffe ich, dass dieser Podcast noch seeeeehr lange weitergeführt wird :-)\n",
      "\n",
      "Ihr zwei (Jochen und Dominik) habt Euch prima in Eure \"Rollen\" im Podcast eingefunden, das passt einfach - aber auch Eure Gäste sind jeweils spannende Ergänzungen!\n",
      "\n",
      "Auch Dank Euch habe ich nun mein erstes kleines Python-Projekt bald fertig! Wird sicherlich kein Master-Piece, macht mir aber unheimlich Spass (es geht dabei übrigens um das bekannte Ziegenproblem, das ich als Basic-Code vorliegen und nun in Python \"neu\" geschrieben habe. Beim Programmieren selber lernte ich natürlich auch wiederum viel. Immerhin läuft das eigentliche Programm bereits tipp topp und darauf bin ich schon ein wenig stolz).\n",
      "\n",
      "Also dann, ich freue mich schon sehr auf die Fortsetzung von AsyncIO!\n",
      "\n",
      "Alles Gute und mit bestem Gruss\n"
     ]
    },
    {
     "name": "stdout",
     "output_type": "stream",
     "text": [
      "Norbert\n",
      "Dominik  Hey Dirk, Danke für die Links und sorry, für die verspätete Antwort - hier geht es gerade drunter und drüber.\n",
      "Besonders die letzte der Definitionen von DevOps ist sehr interessant - es entwickelt & verflechtet sich quasi gemeinsam ineinander.\n",
      "Hatten die Links ein Ablaufdatum? - letzte Woche konnte ich sie noch sehen, heute sind sie nicht mehr verfügbar. Ich fände es als \"anderer Leser\" total spannend, wenn ich die Links hier ebenfalls angucken könnte.\n",
      "\n",
      "Ich schaffe es leider nicht auf die FrOSCon, Jochen war afaik auf \"vielleicht\"\n",
      "\n",
      "Gruß,\n",
      "Dominik\n",
      "Domi  *Hüsterchen https://www.youtube.com/watch?v=WVDQEoe6ZWY\n",
      "Alpengreis  Ja, Du hast schon recht, dass mit dem gleichen Integer reproduzierbare Ergebnisse \"forciert\" werden, wie z.B. mit:\n",
      "\n",
      "import random\n",
      "\n",
      "for i in range(2):\n",
      "    random.seed(2020)\n",
      "    for i in range(20):\n",
      "        print(random.random())\n",
      "    print()\n",
      "\n",
      "\n",
      "Im Gegensatz zu Folgendem:\n",
      "\n",
      "import random\n",
      "\n",
      "for i in range(2):\n",
      "    random.seed()\n",
      "    for i in range(20):\n",
      "        print(random.random())\n",
      "    print()\n",
      "\n",
      "\n",
      "Aber eben auch das Gegenteil ist der Fall, weil bei Nicht-Verwendung es offenbar sein kann, dass immer die gleichen Werte herauskommen (je nach System), siehe z.B. hier:\n",
      "\n",
      "https://stackoverflow.com/questions/33806022/random-randint2-12-returns-same-results-every-time-its-run-in-python\n",
      "\n",
      "Wegen dieser Gefahr habe ich mich perslönlich dazu entschlossen, immer zuerst den Zufallsgenerator zu initialisieren (natürlich NICHT mit gleicher Ganzzahl), sondern eben nur mit (), dann wird laut:\n",
      "\n",
      "https://pynative.com/python-random-seed/\n",
      "\n",
      "zuerst eine Betriebssystemspezifische Zufallsquelle - und wenn das fehlschlägt - die aktuelle Systemzeit verwendet.\n",
      "\n",
      "Ich selbst hatte zwar immer andere Werte bei meinen bislang nur kurzen Tests ohne random.seed, das MUSS aber eben scheinbar nicht immer so sein und deshalb ist mir wohler, jeweils ein \"random.seed()\" zu verwenden.\n",
      "122\n"
     ]
    }
   ],
   "source": [
    "count = 0\n",
    "for label, message in messages:\n",
    "    if label == \"ham\":\n",
    "        print(message)\n",
    "        count += 1\n",
    "print(count)"
   ]
  }
 ],
 "metadata": {
  "kernelspec": {
   "display_name": "Django Shell-Plus",
   "language": "python",
   "name": "django_extensions"
  },
  "language_info": {
   "codemirror_mode": {
    "name": "ipython",
    "version": 3
   },
   "file_extension": ".py",
   "mimetype": "text/x-python",
   "name": "python",
   "nbconvert_exporter": "python",
   "pygments_lexer": "ipython3",
   "version": "3.11.1"
  }
 },
 "nbformat": 4,
 "nbformat_minor": 5
}
