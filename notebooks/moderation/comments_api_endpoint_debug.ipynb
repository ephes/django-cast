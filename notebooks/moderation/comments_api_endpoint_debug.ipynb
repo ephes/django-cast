{
 "cells": [
  {
   "cell_type": "code",
   "execution_count": 1,
   "id": "ef82aae5",
   "metadata": {},
   "outputs": [],
   "source": [
    "import requests"
   ]
  },
  {
   "cell_type": "markdown",
   "id": "6535ae7d",
   "metadata": {},
   "source": [
    "# Get API auth token"
   ]
  },
  {
   "cell_type": "code",
   "execution_count": 2,
   "id": "019cf9ec",
   "metadata": {},
   "outputs": [
    {
     "name": "stdout",
     "output_type": "stream",
     "text": [
      "········\n"
     ]
    }
   ],
   "source": [
    "from getpass import getpass\n",
    "\n",
    "username = \"jochen\"\n",
    "password = getpass()"
   ]
  },
  {
   "cell_type": "code",
   "execution_count": 4,
   "id": "ce0f0542",
   "metadata": {},
   "outputs": [
    {
     "name": "stdout",
     "output_type": "stream",
     "text": [
      "http://localhost:8000/api/api-token-auth/\n",
      "a8c463d67ed8ff7bc8f5a639de727de8a29c93de\n"
     ]
    }
   ],
   "source": [
    "token_path = reverse(\"api-token-auth\")\n",
    "token_url = f\"http://localhost:8000{token_path}\"\n",
    "print(token_url)\n",
    "\n",
    "r = requests.post(token_url, data={\"username\": username, \"password\": password})\n",
    "token = r.json()[\"token\"]\n",
    "print(token)"
   ]
  },
  {
   "cell_type": "markdown",
   "id": "4526051b",
   "metadata": {},
   "source": [
    "# Get Training Data"
   ]
  },
  {
   "cell_type": "code",
   "execution_count": 5,
   "id": "2511f67d",
   "metadata": {},
   "outputs": [
    {
     "name": "stdout",
     "output_type": "stream",
     "text": [
      "http://localhost:8000/cast/api/comment_training_data/\n"
     ]
    }
   ],
   "source": [
    "path = reverse(\"cast:api:comment_training_data\")\n",
    "url = f\"http://localhost:8000{path}\"\n",
    "print(url)"
   ]
  },
  {
   "cell_type": "code",
   "execution_count": 6,
   "id": "a5a565e5",
   "metadata": {},
   "outputs": [],
   "source": [
    "headers = {\"Authorization\": f\"Token {token}\"}\n",
    "r = requests.get(url, headers=headers)\n",
    "train = r.json()"
   ]
  },
  {
   "cell_type": "markdown",
   "id": "914f3e49",
   "metadata": {},
   "source": [
    "# Train Spamfilter"
   ]
  },
  {
   "cell_type": "code",
   "execution_count": 8,
   "id": "a09ac45f",
   "metadata": {},
   "outputs": [],
   "source": [
    "from cast.models.moderation import NaiveBayes"
   ]
  },
  {
   "cell_type": "code",
   "execution_count": 9,
   "id": "14614b30",
   "metadata": {},
   "outputs": [],
   "source": [
    "nb = NaiveBayes().fit(train)"
   ]
  },
  {
   "cell_type": "code",
   "execution_count": null,
   "id": "a6e77461",
   "metadata": {},
   "outputs": [],
   "source": []
  }
 ],
 "metadata": {
  "kernelspec": {
   "display_name": "Django Shell-Plus",
   "language": "python",
   "name": "django_extensions"
  },
  "language_info": {
   "codemirror_mode": {
    "name": "ipython",
    "version": 3
   },
   "file_extension": ".py",
   "mimetype": "text/x-python",
   "name": "python",
   "nbconvert_exporter": "python",
   "pygments_lexer": "ipython3",
   "version": "3.11.1"
  }
 },
 "nbformat": 4,
 "nbformat_minor": 5
}
