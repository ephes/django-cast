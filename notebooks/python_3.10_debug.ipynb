{
 "cells": [
  {
   "cell_type": "code",
   "execution_count": 1,
   "id": "a8106988",
   "metadata": {},
   "outputs": [
    {
     "name": "stdout",
     "output_type": "stream",
     "text": [
      "hello world\n"
     ]
    }
   ],
   "source": [
    "print(\"hello world\")"
   ]
  },
  {
   "cell_type": "code",
   "execution_count": 2,
   "id": "ed0c3d80",
   "metadata": {},
   "outputs": [],
   "source": [
    "import sys"
   ]
  },
  {
   "cell_type": "code",
   "execution_count": 5,
   "id": "5eb2bd20",
   "metadata": {},
   "outputs": [
    {
     "data": {
      "text/plain": [
       "'/Users/jochen/.virtualenvs/cast/bin/python'"
      ]
     },
     "execution_count": 5,
     "metadata": {},
     "output_type": "execute_result"
    }
   ],
   "source": [
    "sys.executable"
   ]
  },
  {
   "cell_type": "code",
   "execution_count": 7,
   "id": "0acd1556",
   "metadata": {},
   "outputs": [
    {
     "data": {
      "text/plain": [
       "sys.version_info(major=3, minor=10, micro=0, releaselevel='final', serial=0)"
      ]
     },
     "execution_count": 7,
     "metadata": {},
     "output_type": "execute_result"
    }
   ],
   "source": [
    "sys.version_info"
   ]
  },
  {
   "cell_type": "code",
   "execution_count": 13,
   "id": "d5884f04",
   "metadata": {},
   "outputs": [],
   "source": [
    "class Foo:\n",
    "    def __init__(self, x):\n",
    "        self.x = x\n",
    "        \n",
    "    def func1(self, a, b):\n",
    "        return a + b\n",
    "    \n",
    "    def func2(self, c):\n",
    "        return self.func1(2, 3) + c + self.x"
   ]
  },
  {
   "cell_type": "code",
   "execution_count": 9,
   "id": "73371703",
   "metadata": {},
   "outputs": [],
   "source": [
    "foo = Foo(None)\n",
    "assert 7 == foo.func1(3, 4)"
   ]
  },
  {
   "cell_type": "code",
   "execution_count": 16,
   "id": "cc9c57ba",
   "metadata": {},
   "outputs": [],
   "source": [
    "foo = Foo(1)\n",
    "assert 10 == foo.func2(4)"
   ]
  },
  {
   "cell_type": "code",
   "execution_count": null,
   "id": "5cc1b941",
   "metadata": {},
   "outputs": [],
   "source": [
    "test_cases = [\n",
    "    input, output\n",
    "]\n",
    "instance = Class()\n",
    "for input, output in test_cases:\n",
    "    assert instance.to_test(input) == output"
   ]
  }
 ],
 "metadata": {
  "kernelspec": {
   "display_name": "Django Shell-Plus",
   "language": "python",
   "name": "django_extensions"
  },
  "language_info": {
   "codemirror_mode": {
    "name": "ipython",
    "version": 3
   },
   "file_extension": ".py",
   "mimetype": "text/x-python",
   "name": "python",
   "nbconvert_exporter": "python",
   "pygments_lexer": "ipython3",
   "version": "3.10.0"
  }
 },
 "nbformat": 4,
 "nbformat_minor": 5
}
