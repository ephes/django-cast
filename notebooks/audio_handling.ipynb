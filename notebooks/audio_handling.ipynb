{
 "cells": [
  {
   "cell_type": "code",
   "execution_count": 1,
   "id": "9c3ee504",
   "metadata": {},
   "outputs": [
    {
     "data": {
      "text/plain": [
       "<AudioQuerySet [<Audio: 1 - foo audio title>]>"
      ]
     },
     "execution_count": 1,
     "metadata": {},
     "output_type": "execute_result"
    }
   ],
   "source": [
    "Audio.objects.all()"
   ]
  },
  {
   "cell_type": "code",
   "execution_count": 2,
   "id": "bd64035e",
   "metadata": {},
   "outputs": [],
   "source": [
    "from cast.wagtail_forms import get_audio_form"
   ]
  },
  {
   "cell_type": "code",
   "execution_count": 3,
   "id": "7cb4dc19",
   "metadata": {},
   "outputs": [],
   "source": [
    "AudioForm = get_audio_form()"
   ]
  },
  {
   "cell_type": "code",
   "execution_count": 4,
   "id": "2f5495d9",
   "metadata": {},
   "outputs": [],
   "source": [
    "form = AudioForm(data={\"duration\": \"asdf\"})"
   ]
  },
  {
   "cell_type": "code",
   "execution_count": 5,
   "id": "06f39f9a",
   "metadata": {},
   "outputs": [
    {
     "data": {
      "text/plain": [
       "False"
      ]
     },
     "execution_count": 5,
     "metadata": {},
     "output_type": "execute_result"
    }
   ],
   "source": [
    "form.is_valid()"
   ]
  },
  {
   "cell_type": "code",
   "execution_count": 6,
   "id": "f8a7d023",
   "metadata": {},
   "outputs": [],
   "source": [
    "post = Post.objects.last()"
   ]
  },
  {
   "cell_type": "code",
   "execution_count": 7,
   "id": "fa2e45aa",
   "metadata": {},
   "outputs": [
    {
     "data": {
      "text/plain": [
       "'post with audio'"
      ]
     },
     "execution_count": 7,
     "metadata": {},
     "output_type": "execute_result"
    }
   ],
   "source": [
    "post.title"
   ]
  },
  {
   "cell_type": "code",
   "execution_count": 8,
   "id": "231dbb6a",
   "metadata": {},
   "outputs": [
    {
     "data": {
      "text/plain": [
       "True"
      ]
     },
     "execution_count": 8,
     "metadata": {},
     "output_type": "execute_result"
    }
   ],
   "source": [
    "post.has_audio"
   ]
  },
  {
   "cell_type": "code",
   "execution_count": 13,
   "id": "78cf7385",
   "metadata": {},
   "outputs": [
    {
     "data": {
      "text/plain": [
       "{1: <Audio: 1 - foo audio title>}"
      ]
     },
     "execution_count": 13,
     "metadata": {},
     "output_type": "execute_result"
    }
   ],
   "source": [
    "post.media_lookup[\"audio\"]"
   ]
  },
  {
   "cell_type": "code",
   "execution_count": 15,
   "id": "f6f40bfb",
   "metadata": {},
   "outputs": [],
   "source": [
    "audio = list(post.media_lookup[\"audio\"].values())[0]"
   ]
  },
  {
   "cell_type": "code",
   "execution_count": 16,
   "id": "c6776e69",
   "metadata": {},
   "outputs": [
    {
     "data": {
      "text/plain": [
       "<FieldFile: None>"
      ]
     },
     "execution_count": 16,
     "metadata": {},
     "output_type": "execute_result"
    }
   ],
   "source": [
    "audio.m4a"
   ]
  },
  {
   "cell_type": "code",
   "execution_count": 19,
   "id": "6dc56548",
   "metadata": {},
   "outputs": [
    {
     "data": {
      "text/plain": [
       "{'m4a', 'mp3'}"
      ]
     },
     "execution_count": 19,
     "metadata": {},
     "output_type": "execute_result"
    }
   ],
   "source": [
    "{\"mp3\", \"m4a\"}.intersection(audio.audio_formats)"
   ]
  },
  {
   "cell_type": "code",
   "execution_count": null,
   "id": "84bb256e",
   "metadata": {},
   "outputs": [],
   "source": []
  }
 ],
 "metadata": {
  "kernelspec": {
   "display_name": "Django Shell-Plus",
   "language": "python",
   "name": "django_extensions"
  },
  "language_info": {
   "codemirror_mode": {
    "name": "ipython",
    "version": 3
   },
   "file_extension": ".py",
   "mimetype": "text/x-python",
   "name": "python",
   "nbconvert_exporter": "python",
   "pygments_lexer": "ipython3",
   "version": "3.9.7"
  }
 },
 "nbformat": 4,
 "nbformat_minor": 5
}
