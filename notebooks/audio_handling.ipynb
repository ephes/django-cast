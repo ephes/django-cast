{
 "cells": [
  {
   "cell_type": "code",
   "execution_count": 1,
   "id": "9c3ee504",
   "metadata": {},
   "outputs": [
    {
     "data": {
      "text/plain": [
       "<AudioQuerySet [<Audio: 1 - foo audio title>]>"
      ]
     },
     "execution_count": 1,
     "metadata": {},
     "output_type": "execute_result"
    }
   ],
   "source": [
    "Audio.objects.all()"
   ]
  }
 ],
 "metadata": {
  "kernelspec": {
   "display_name": "Django Shell-Plus",
   "language": "python",
   "name": "django_extensions"
  },
  "language_info": {
   "codemirror_mode": {
    "name": "ipython",
    "version": 3
   },
   "file_extension": ".py",
   "mimetype": "text/x-python",
   "name": "python",
   "nbconvert_exporter": "python",
   "pygments_lexer": "ipython3",
   "version": "3.9.6"
  }
 },
 "nbformat": 4,
 "nbformat_minor": 5
}
