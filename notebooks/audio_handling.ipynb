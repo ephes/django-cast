{
 "cells": [
  {
   "cell_type": "code",
   "execution_count": 1,
   "id": "9c3ee504",
   "metadata": {},
   "outputs": [
    {
     "data": {
      "text/plain": [
       "<AudioQuerySet [<Audio: 2 - Feinstes Audio>, <Audio: 3 - Foo bar baz>, <Audio: 4 - a>, <Audio: 5 - b>, <Audio: 6 - c>, <Audio: 7 - c>, <Audio: 8 - e>, <Audio: 9 - x>, <Audio: 10 - y>, <Audio: 11 - v>, <Audio: 12 - w>, <Audio: 14 - pp asdf>, <Audio: 15 - foobarbaz>]>"
      ]
     },
     "execution_count": 1,
     "metadata": {},
     "output_type": "execute_result"
    }
   ],
   "source": [
    "Audio.objects.all()"
   ]
  },
  {
   "cell_type": "code",
   "execution_count": 2,
   "id": "bd64035e",
   "metadata": {},
   "outputs": [],
   "source": [
    "from cast.wagtail_forms import get_audio_form"
   ]
  },
  {
   "cell_type": "code",
   "execution_count": 3,
   "id": "7cb4dc19",
   "metadata": {},
   "outputs": [],
   "source": [
    "AudioForm = get_audio_form()"
   ]
  },
  {
   "cell_type": "code",
   "execution_count": 4,
   "id": "2f5495d9",
   "metadata": {},
   "outputs": [],
   "source": [
    "form = AudioForm(data={\"duration\": \"asdf\"})"
   ]
  },
  {
   "cell_type": "code",
   "execution_count": 5,
   "id": "06f39f9a",
   "metadata": {},
   "outputs": [
    {
     "data": {
      "text/plain": [
       "False"
      ]
     },
     "execution_count": 5,
     "metadata": {},
     "output_type": "execute_result"
    }
   ],
   "source": [
    "form.is_valid()"
   ]
  },
  {
   "cell_type": "code",
   "execution_count": 2,
   "id": "f8a7d023",
   "metadata": {},
   "outputs": [],
   "source": [
    "post = Post.objects.last()"
   ]
  },
  {
   "cell_type": "code",
   "execution_count": 3,
   "id": "78cc877b",
   "metadata": {},
   "outputs": [
    {
     "data": {
      "text/plain": [
       "'post with audio'"
      ]
     },
     "execution_count": 3,
     "metadata": {},
     "output_type": "execute_result"
    }
   ],
   "source": [
    "post.title"
   ]
  },
  {
   "cell_type": "code",
   "execution_count": 4,
   "id": "a75fc6eb",
   "metadata": {},
   "outputs": [
    {
     "data": {
      "text/plain": [
       "False"
      ]
     },
     "execution_count": 4,
     "metadata": {},
     "output_type": "execute_result"
    }
   ],
   "source": [
    "post.has_audio"
   ]
  },
  {
   "cell_type": "code",
   "execution_count": 13,
   "id": "c5305893",
   "metadata": {},
   "outputs": [
    {
     "data": {
      "text/plain": [
       "{1: <Audio: 1 - foo audio title>}"
      ]
     },
     "execution_count": 13,
     "metadata": {},
     "output_type": "execute_result"
    }
   ],
   "source": [
    "post.media_lookup[\"audio\"]"
   ]
  },
  {
   "cell_type": "code",
   "execution_count": 15,
   "id": "664dadc4",
   "metadata": {},
   "outputs": [],
   "source": [
    "audio = list(post.media_lookup[\"audio\"].values())[0]"
   ]
  },
  {
   "cell_type": "code",
   "execution_count": 16,
   "id": "a3932797",
   "metadata": {},
   "outputs": [
    {
     "data": {
      "text/plain": [
       "<FieldFile: None>"
      ]
     },
     "execution_count": 16,
     "metadata": {},
     "output_type": "execute_result"
    }
   ],
   "source": [
    "audio.m4a"
   ]
  },
  {
   "cell_type": "code",
   "execution_count": 19,
   "id": "91992865",
   "metadata": {},
   "outputs": [
    {
     "data": {
      "text/plain": [
       "{'m4a', 'mp3'}"
      ]
     },
     "execution_count": 19,
     "metadata": {},
     "output_type": "execute_result"
    }
   ],
   "source": [
    "{\"mp3\", \"m4a\"}.intersection(audio.audio_formats)"
   ]
  },
  {
   "cell_type": "code",
   "execution_count": 6,
   "id": "b0b93ef5",
   "metadata": {},
   "outputs": [
    {
     "data": {
      "text/plain": [
       "'/cms/media/audio/edit/1/'"
      ]
     },
     "execution_count": 6,
     "metadata": {},
     "output_type": "execute_result"
    }
   ],
   "source": [
    "reverse(\"castmedia:audio_edit\", args=(1,))"
   ]
  },
  {
   "cell_type": "code",
   "execution_count": 4,
   "id": "960648cd",
   "metadata": {},
   "outputs": [],
   "source": [
    "user = User.objects.first()"
   ]
  },
  {
   "cell_type": "code",
   "execution_count": 5,
   "id": "55d235f4",
   "metadata": {},
   "outputs": [],
   "source": [
    "audio = Audio(title=\"foobar\", user=user)"
   ]
  },
  {
   "cell_type": "code",
   "execution_count": 6,
   "id": "e391c098",
   "metadata": {},
   "outputs": [],
   "source": [
    "audio.save()"
   ]
  },
  {
   "cell_type": "code",
   "execution_count": 7,
   "id": "2e2dbfb4",
   "metadata": {},
   "outputs": [
    {
     "data": {
      "text/plain": [
       "'/cms/media/audio/chooser/'"
      ]
     },
     "execution_count": 7,
     "metadata": {},
     "output_type": "execute_result"
    }
   ],
   "source": [
    "reverse(\"castmedia:audio_chooser\")"
   ]
  },
  {
   "cell_type": "code",
   "execution_count": 12,
   "id": "756bdce2",
   "metadata": {},
   "outputs": [
    {
     "name": "stdout",
     "output_type": "stream",
     "text": [
      "1\n",
      "2\n"
     ]
    }
   ],
   "source": [
    "for i in range(1, 3):\n",
    "    print(i)"
   ]
  },
  {
   "cell_type": "code",
   "execution_count": 10,
   "id": "c85120d4",
   "metadata": {},
   "outputs": [
    {
     "name": "stdout",
     "output_type": "stream",
     "text": [
      "Help on class range in module builtins:\n",
      "\n",
      "class range(object)\n",
      " |  range(stop) -> range object\n",
      " |  range(start, stop[, step]) -> range object\n",
      " |  \n",
      " |  Return an object that produces a sequence of integers from start (inclusive)\n",
      " |  to stop (exclusive) by step.  range(i, j) produces i, i+1, i+2, ..., j-1.\n",
      " |  start defaults to 0, and stop is omitted!  range(4) produces 0, 1, 2, 3.\n",
      " |  These are exactly the valid indices for a list of 4 elements.\n",
      " |  When step is given, it specifies the increment (or decrement).\n",
      " |  \n",
      " |  Methods defined here:\n",
      " |  \n",
      " |  __bool__(self, /)\n",
      " |      self != 0\n",
      " |  \n",
      " |  __contains__(self, key, /)\n",
      " |      Return key in self.\n",
      " |  \n",
      " |  __eq__(self, value, /)\n",
      " |      Return self==value.\n",
      " |  \n",
      " |  __ge__(self, value, /)\n",
      " |      Return self>=value.\n",
      " |  \n",
      " |  __getattribute__(self, name, /)\n",
      " |      Return getattr(self, name).\n",
      " |  \n",
      " |  __getitem__(self, key, /)\n",
      " |      Return self[key].\n",
      " |  \n",
      " |  __gt__(self, value, /)\n",
      " |      Return self>value.\n",
      " |  \n",
      " |  __hash__(self, /)\n",
      " |      Return hash(self).\n",
      " |  \n",
      " |  __iter__(self, /)\n",
      " |      Implement iter(self).\n",
      " |  \n",
      " |  __le__(self, value, /)\n",
      " |      Return self<=value.\n",
      " |  \n",
      " |  __len__(self, /)\n",
      " |      Return len(self).\n",
      " |  \n",
      " |  __lt__(self, value, /)\n",
      " |      Return self<value.\n",
      " |  \n",
      " |  __ne__(self, value, /)\n",
      " |      Return self!=value.\n",
      " |  \n",
      " |  __reduce__(...)\n",
      " |      Helper for pickle.\n",
      " |  \n",
      " |  __repr__(self, /)\n",
      " |      Return repr(self).\n",
      " |  \n",
      " |  __reversed__(...)\n",
      " |      Return a reverse iterator.\n",
      " |  \n",
      " |  count(...)\n",
      " |      rangeobject.count(value) -> integer -- return number of occurrences of value\n",
      " |  \n",
      " |  index(...)\n",
      " |      rangeobject.index(value) -> integer -- return index of value.\n",
      " |      Raise ValueError if the value is not present.\n",
      " |  \n",
      " |  ----------------------------------------------------------------------\n",
      " |  Static methods defined here:\n",
      " |  \n",
      " |  __new__(*args, **kwargs) from builtins.type\n",
      " |      Create and return a new object.  See help(type) for accurate signature.\n",
      " |  \n",
      " |  ----------------------------------------------------------------------\n",
      " |  Data descriptors defined here:\n",
      " |  \n",
      " |  start\n",
      " |  \n",
      " |  step\n",
      " |  \n",
      " |  stop\n",
      "\n"
     ]
    }
   ],
   "source": [
    "help(range)"
   ]
  },
  {
   "cell_type": "code",
   "execution_count": 2,
   "id": "a6ef1d69",
   "metadata": {},
   "outputs": [],
   "source": [
    "post = Post.objects.get(pk=17)"
   ]
  },
  {
   "cell_type": "code",
   "execution_count": 11,
   "id": "0c1e66fe",
   "metadata": {},
   "outputs": [
    {
     "name": "stdout",
     "output_type": "stream",
     "text": [
      "0 <div class=\"block-heading\">asdf</div>\n",
      "1 <div class=\"block-audio\"><h2>Feinstes Audio</h2>\n",
      "<div id=\"audio_2\"></div>\n",
      "</div>\n",
      "<div class=\"block-paragraph\"><p data-block-key=\"q0lby\">Eindeutiges</p></div>\n"
     ]
    }
   ],
   "source": [
    "for num, block in enumerate(post.body):\n",
    "    print(num, block)"
   ]
  },
  {
   "cell_type": "code",
   "execution_count": 12,
   "id": "822b3494",
   "metadata": {},
   "outputs": [],
   "source": [
    "block = post.body[1]"
   ]
  },
  {
   "cell_type": "code",
   "execution_count": 13,
   "id": "e6b70f58",
   "metadata": {},
   "outputs": [
    {
     "data": {
      "text/plain": [
       "['__class__',\n",
       " '__delattr__',\n",
       " '__dict__',\n",
       " '__dir__',\n",
       " '__doc__',\n",
       " '__eq__',\n",
       " '__format__',\n",
       " '__ge__',\n",
       " '__getattribute__',\n",
       " '__gt__',\n",
       " '__hash__',\n",
       " '__init__',\n",
       " '__init_subclass__',\n",
       " '__le__',\n",
       " '__lt__',\n",
       " '__module__',\n",
       " '__ne__',\n",
       " '__new__',\n",
       " '__reduce__',\n",
       " '__reduce_ex__',\n",
       " '__repr__',\n",
       " '__setattr__',\n",
       " '__sizeof__',\n",
       " '__str__',\n",
       " '__subclasshook__',\n",
       " '__weakref__',\n",
       " '_as_tuple',\n",
       " 'block',\n",
       " 'block_type',\n",
       " 'errors',\n",
       " 'get_prep_value',\n",
       " 'id',\n",
       " 'id_for_label',\n",
       " 'prefix',\n",
       " 'render',\n",
       " 'render_as_block',\n",
       " 'value']"
      ]
     },
     "execution_count": 13,
     "metadata": {},
     "output_type": "execute_result"
    }
   ],
   "source": [
    "dir(block)"
   ]
  },
  {
   "cell_type": "code",
   "execution_count": 14,
   "id": "d06c3d91",
   "metadata": {},
   "outputs": [
    {
     "data": {
      "text/plain": [
       "'detail'"
      ]
     },
     "execution_count": 14,
     "metadata": {},
     "output_type": "execute_result"
    }
   ],
   "source": [
    "block.block_type"
   ]
  },
  {
   "cell_type": "code",
   "execution_count": 20,
   "id": "20adaaf5",
   "metadata": {},
   "outputs": [
    {
     "data": {
      "text/plain": [
       "'audio'"
      ]
     },
     "execution_count": 20,
     "metadata": {},
     "output_type": "execute_result"
    }
   ],
   "source": [
    "block.value[0].block_type"
   ]
  },
  {
   "cell_type": "code",
   "execution_count": 21,
   "id": "a0171b41",
   "metadata": {},
   "outputs": [
    {
     "data": {
      "text/plain": [
       "['RawDataView',\n",
       " 'StreamChild',\n",
       " '__abstractmethods__',\n",
       " '__class__',\n",
       " '__class_getitem__',\n",
       " '__contains__',\n",
       " '__delattr__',\n",
       " '__delitem__',\n",
       " '__dict__',\n",
       " '__dir__',\n",
       " '__doc__',\n",
       " '__eq__',\n",
       " '__format__',\n",
       " '__ge__',\n",
       " '__getattribute__',\n",
       " '__getitem__',\n",
       " '__gt__',\n",
       " '__hash__',\n",
       " '__html__',\n",
       " '__iadd__',\n",
       " '__init__',\n",
       " '__init_subclass__',\n",
       " '__iter__',\n",
       " '__le__',\n",
       " '__len__',\n",
       " '__lt__',\n",
       " '__module__',\n",
       " '__ne__',\n",
       " '__new__',\n",
       " '__reduce__',\n",
       " '__reduce_ex__',\n",
       " '__repr__',\n",
       " '__reversed__',\n",
       " '__setattr__',\n",
       " '__setitem__',\n",
       " '__sizeof__',\n",
       " '__slots__',\n",
       " '__str__',\n",
       " '__subclasshook__',\n",
       " '__weakref__',\n",
       " '_abc_impl',\n",
       " '_bound_blocks',\n",
       " '_construct_stream_child',\n",
       " '_prefetch_blocks',\n",
       " '_raw_data',\n",
       " 'append',\n",
       " 'clear',\n",
       " 'count',\n",
       " 'extend',\n",
       " 'get_prep_value',\n",
       " 'index',\n",
       " 'insert',\n",
       " 'is_lazy',\n",
       " 'pop',\n",
       " 'raw_data',\n",
       " 'raw_text',\n",
       " 'remove',\n",
       " 'render_as_block',\n",
       " 'reverse',\n",
       " 'stream_block']"
      ]
     },
     "execution_count": 21,
     "metadata": {},
     "output_type": "execute_result"
    }
   ],
   "source": [
    "dir(post.body)"
   ]
  },
  {
   "cell_type": "code",
   "execution_count": 22,
   "id": "2c5dbb52",
   "metadata": {},
   "outputs": [
    {
     "data": {
      "text/plain": [
       "<wagtail.core.blocks.stream_block.StreamBlock at 0x112645700>"
      ]
     },
     "execution_count": 22,
     "metadata": {},
     "output_type": "execute_result"
    }
   ],
   "source": [
    "post.body.stream_block"
   ]
  },
  {
   "cell_type": "code",
   "execution_count": 23,
   "id": "2f3029cb",
   "metadata": {},
   "outputs": [],
   "source": [
    "for block in post.body:\n",
    "    if block.block_type == \"audio\":\n",
    "        print(block)"
   ]
  },
  {
   "cell_type": "code",
   "execution_count": 25,
   "id": "4430590e",
   "metadata": {},
   "outputs": [
    {
     "name": "stdout",
     "output_type": "stream",
     "text": [
      "Help on method count in module collections.abc:\n",
      "\n",
      "count(value) method of wagtail.core.blocks.stream_block.StreamValue instance\n",
      "    S.count(value) -> integer -- return number of occurrences of value\n",
      "\n"
     ]
    }
   ],
   "source": [
    "help(post.body.count)"
   ]
  },
  {
   "cell_type": "code",
   "execution_count": 27,
   "id": "76991b7e",
   "metadata": {},
   "outputs": [
    {
     "data": {
      "text/plain": [
       "[{'type': 'overview', 'value': [{'type': 'heading', 'value': 'asdf', 'id': '90a177bb-febe-4846-8f90-8ece05da8ca5'}], 'id': 'f789160b-d94c-4233-a5ba-5639f36770dc'}, {'type': 'detail', 'value': [{'type': 'audio', 'value': 2, 'id': 'ff354c91-441b-4ba5-8bad-85a0bd87727d'}, {'type': 'paragraph', 'value': '<p data-block-key=\"q0lby\">Eindeutiges</p>', 'id': '33ba2caf-2ada-47b3-944f-6d8f2e1f3d93'}], 'id': '4b5446e8-7132-4cc9-af2a-b3bd874183a7'}]"
      ]
     },
     "execution_count": 27,
     "metadata": {},
     "output_type": "execute_result"
    }
   ],
   "source": [
    "post.body.raw_data"
   ]
  },
  {
   "cell_type": "code",
   "execution_count": 28,
   "id": "b0ec695d",
   "metadata": {},
   "outputs": [
    {
     "name": "stdout",
     "output_type": "stream",
     "text": [
      "heureka:  <h2>Feinstes Audio</h2>\n",
      "<div id=\"audio_2\"></div>\n",
      "\n"
     ]
    }
   ],
   "source": [
    "for block in post.body:\n",
    "    for content_block in block.value:\n",
    "        if content_block.block_type == \"audio\":\n",
    "            print(\"heureka: \", content_block)"
   ]
  },
  {
   "cell_type": "code",
   "execution_count": 1,
   "id": "fa478629",
   "metadata": {},
   "outputs": [],
   "source": [
    "def foobar(asdf):\n",
    "    class Foo:\n",
    "        pass\n",
    "    return Foo()"
   ]
  },
  {
   "cell_type": "code",
   "execution_count": 3,
   "id": "61a2dadc",
   "metadata": {},
   "outputs": [],
   "source": [
    "x = foobar(\"blub\")"
   ]
  },
  {
   "cell_type": "code",
   "execution_count": null,
   "id": "ed0354d0",
   "metadata": {},
   "outputs": [],
   "source": []
  },
  {
   "cell_type": "code",
   "execution_count": 4,
   "id": "3db33abb",
   "metadata": {},
   "outputs": [
    {
     "data": {
      "text/plain": [
       "<__main__.foobar.<locals>.Foo at 0x105bc2340>"
      ]
     },
     "execution_count": 4,
     "metadata": {},
     "output_type": "execute_result"
    }
   ],
   "source": [
    "x"
   ]
  },
  {
   "cell_type": "code",
   "execution_count": null,
   "id": "3fb07d71",
   "metadata": {},
   "outputs": [],
   "source": []
  }
 ],
 "metadata": {
  "kernelspec": {
   "display_name": "Django Shell-Plus",
   "language": "python",
   "name": "django_extensions"
  },
  "language_info": {
   "codemirror_mode": {
    "name": "ipython",
    "version": 3
   },
   "file_extension": ".py",
   "mimetype": "text/x-python",
   "name": "python",
   "nbconvert_exporter": "python",
   "pygments_lexer": "ipython3",
   "version": "3.9.7"
  }
 },
 "nbformat": 4,
 "nbformat_minor": 5
}
