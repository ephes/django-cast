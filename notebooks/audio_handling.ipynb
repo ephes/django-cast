{
 "cells": [
  {
   "cell_type": "code",
   "execution_count": 1,
   "id": "9c3ee504",
   "metadata": {},
   "outputs": [
    {
     "data": {
      "text/plain": [
       "<AudioQuerySet [<Audio: 1 - foo audio title>]>"
      ]
     },
     "execution_count": 1,
     "metadata": {},
     "output_type": "execute_result"
    }
   ],
   "source": [
    "Audio.objects.all()"
   ]
  },
  {
   "cell_type": "code",
   "execution_count": null,
   "id": "bd64035e",
   "metadata": {},
   "outputs": [],
   "source": [
    "from cast.wagtail_forms import get_audio_form"
   ]
  },
  {
   "cell_type": "code",
   "execution_count": null,
   "id": "7cb4dc19",
   "metadata": {},
   "outputs": [],
   "source": [
    "AudioForm = get_audio_form()"
   ]
  },
  {
   "cell_type": "code",
   "execution_count": null,
   "id": "2f5495d9",
   "metadata": {},
   "outputs": [],
   "source": [
    "form = AudioForm(data={\"duration\": \"asdf\"})"
   ]
  },
  {
   "cell_type": "code",
   "execution_count": null,
   "id": "06f39f9a",
   "metadata": {},
   "outputs": [],
   "source": [
    "form.is_valid()"
   ]
  },
  {
   "cell_type": "code",
   "execution_count": null,
   "id": "f8a7d023",
   "metadata": {},
   "outputs": [],
   "source": []
  }
 ],
 "metadata": {
  "kernelspec": {
   "display_name": "Django Shell-Plus",
   "language": "python",
   "name": "django_extensions"
  },
  "language_info": {
   "codemirror_mode": {
    "name": "ipython",
    "version": 3
   },
   "file_extension": ".py",
   "mimetype": "text/x-python",
   "name": "python",
   "nbconvert_exporter": "python",
   "pygments_lexer": "ipython3",
   "version": "3.9.6"
  }
 },
 "nbformat": 4,
 "nbformat_minor": 5
}
