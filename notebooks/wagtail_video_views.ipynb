{
 "cells": [
  {
   "cell_type": "code",
   "execution_count": 1,
   "id": "ca328f67",
   "metadata": {},
   "outputs": [
    {
     "data": {
      "application/javascript": [
       "\n",
       "            setTimeout(function() {\n",
       "                var nbb_cell_id = 1;\n",
       "                var nbb_unformatted_code = \"%load_ext nb_black\";\n",
       "                var nbb_formatted_code = \"%load_ext nb_black\";\n",
       "                var nbb_cells = Jupyter.notebook.get_cells();\n",
       "                for (var i = 0; i < nbb_cells.length; ++i) {\n",
       "                    if (nbb_cells[i].input_prompt_number == nbb_cell_id) {\n",
       "                        if (nbb_cells[i].get_text() == nbb_unformatted_code) {\n",
       "                             nbb_cells[i].set_text(nbb_formatted_code);\n",
       "                        }\n",
       "                        break;\n",
       "                    }\n",
       "                }\n",
       "            }, 500);\n",
       "            "
      ],
      "text/plain": [
       "<IPython.core.display.Javascript object>"
      ]
     },
     "metadata": {},
     "output_type": "display_data"
    }
   ],
   "source": [
    "%load_ext nb_black"
   ]
  },
  {
   "cell_type": "code",
   "execution_count": 2,
   "id": "163b288d",
   "metadata": {},
   "outputs": [
    {
     "data": {
      "text/plain": [
       "'/cms/media/video'"
      ]
     },
     "execution_count": 2,
     "metadata": {},
     "output_type": "execute_result"
    },
    {
     "data": {
      "application/javascript": [
       "\n",
       "            setTimeout(function() {\n",
       "                var nbb_cell_id = 2;\n",
       "                var nbb_unformatted_code = \"reverse(\\\"castmedia:video_index\\\")\";\n",
       "                var nbb_formatted_code = \"reverse(\\\"castmedia:video_index\\\")\";\n",
       "                var nbb_cells = Jupyter.notebook.get_cells();\n",
       "                for (var i = 0; i < nbb_cells.length; ++i) {\n",
       "                    if (nbb_cells[i].input_prompt_number == nbb_cell_id) {\n",
       "                        if (nbb_cells[i].get_text() == nbb_unformatted_code) {\n",
       "                             nbb_cells[i].set_text(nbb_formatted_code);\n",
       "                        }\n",
       "                        break;\n",
       "                    }\n",
       "                }\n",
       "            }, 500);\n",
       "            "
      ],
      "text/plain": [
       "<IPython.core.display.Javascript object>"
      ]
     },
     "metadata": {},
     "output_type": "display_data"
    }
   ],
   "source": [
    "reverse(\"castmedia:video_index\")"
   ]
  },
  {
   "cell_type": "code",
   "execution_count": 3,
   "id": "1906807f",
   "metadata": {},
   "outputs": [
    {
     "data": {
      "text/plain": [
       "'/cms/media/video/add/'"
      ]
     },
     "execution_count": 3,
     "metadata": {},
     "output_type": "execute_result"
    },
    {
     "data": {
      "application/javascript": [
       "\n",
       "            setTimeout(function() {\n",
       "                var nbb_cell_id = 3;\n",
       "                var nbb_unformatted_code = \"reverse(\\\"castmedia:video_add\\\")\";\n",
       "                var nbb_formatted_code = \"reverse(\\\"castmedia:video_add\\\")\";\n",
       "                var nbb_cells = Jupyter.notebook.get_cells();\n",
       "                for (var i = 0; i < nbb_cells.length; ++i) {\n",
       "                    if (nbb_cells[i].input_prompt_number == nbb_cell_id) {\n",
       "                        if (nbb_cells[i].get_text() == nbb_unformatted_code) {\n",
       "                             nbb_cells[i].set_text(nbb_formatted_code);\n",
       "                        }\n",
       "                        break;\n",
       "                    }\n",
       "                }\n",
       "            }, 500);\n",
       "            "
      ],
      "text/plain": [
       "<IPython.core.display.Javascript object>"
      ]
     },
     "metadata": {},
     "output_type": "display_data"
    }
   ],
   "source": [
    "reverse(\"castmedia:video_add\")"
   ]
  },
  {
   "cell_type": "code",
   "execution_count": 4,
   "id": "05e914ed",
   "metadata": {},
   "outputs": [
    {
     "data": {
      "application/javascript": [
       "\n",
       "            setTimeout(function() {\n",
       "                var nbb_cell_id = 4;\n",
       "                var nbb_unformatted_code = \"user = User.objects.first()\";\n",
       "                var nbb_formatted_code = \"user = User.objects.first()\";\n",
       "                var nbb_cells = Jupyter.notebook.get_cells();\n",
       "                for (var i = 0; i < nbb_cells.length; ++i) {\n",
       "                    if (nbb_cells[i].input_prompt_number == nbb_cell_id) {\n",
       "                        if (nbb_cells[i].get_text() == nbb_unformatted_code) {\n",
       "                             nbb_cells[i].set_text(nbb_formatted_code);\n",
       "                        }\n",
       "                        break;\n",
       "                    }\n",
       "                }\n",
       "            }, 500);\n",
       "            "
      ],
      "text/plain": [
       "<IPython.core.display.Javascript object>"
      ]
     },
     "metadata": {},
     "output_type": "display_data"
    }
   ],
   "source": [
    "user = User.objects.first()"
   ]
  },
  {
   "cell_type": "code",
   "execution_count": 5,
   "id": "c4247ed4",
   "metadata": {},
   "outputs": [
    {
     "ename": "AttributeError",
     "evalue": "'User' object has no attribute 'permissions'",
     "output_type": "error",
     "traceback": [
      "\u001b[0;31m---------------------------------------------------------------------------\u001b[0m",
      "\u001b[0;31mAttributeError\u001b[0m                            Traceback (most recent call last)",
      "\u001b[0;32m/var/folders/dg/20nm141d3hj2hv67hjl6zmkc0000gn/T/ipykernel_12707/67757523.py\u001b[0m in \u001b[0;36m<module>\u001b[0;34m\u001b[0m\n\u001b[0;32m----> 1\u001b[0;31m \u001b[0muser\u001b[0m\u001b[0;34m.\u001b[0m\u001b[0mpermissions\u001b[0m\u001b[0;34m.\u001b[0m\u001b[0mall\u001b[0m\u001b[0;34m(\u001b[0m\u001b[0;34m)\u001b[0m\u001b[0;34m\u001b[0m\u001b[0;34m\u001b[0m\u001b[0m\n\u001b[0m",
      "\u001b[0;31mAttributeError\u001b[0m: 'User' object has no attribute 'permissions'"
     ]
    },
    {
     "data": {
      "application/javascript": [
       "\n",
       "            setTimeout(function() {\n",
       "                var nbb_cell_id = 5;\n",
       "                var nbb_unformatted_code = \"user.permissions.all()\";\n",
       "                var nbb_formatted_code = \"user.permissions.all()\";\n",
       "                var nbb_cells = Jupyter.notebook.get_cells();\n",
       "                for (var i = 0; i < nbb_cells.length; ++i) {\n",
       "                    if (nbb_cells[i].input_prompt_number == nbb_cell_id) {\n",
       "                        if (nbb_cells[i].get_text() == nbb_unformatted_code) {\n",
       "                             nbb_cells[i].set_text(nbb_formatted_code);\n",
       "                        }\n",
       "                        break;\n",
       "                    }\n",
       "                }\n",
       "            }, 500);\n",
       "            "
      ],
      "text/plain": [
       "<IPython.core.display.Javascript object>"
      ]
     },
     "metadata": {},
     "output_type": "display_data"
    }
   ],
   "source": [
    "user.permissions.all()"
   ]
  },
  {
   "cell_type": "code",
   "execution_count": 6,
   "id": "594243c4",
   "metadata": {},
   "outputs": [
    {
     "data": {
      "application/javascript": [
       "\n",
       "            setTimeout(function() {\n",
       "                var nbb_cell_id = 6;\n",
       "                var nbb_unformatted_code = \"from django.contrib.auth.models import Permission\";\n",
       "                var nbb_formatted_code = \"from django.contrib.auth.models import Permission\";\n",
       "                var nbb_cells = Jupyter.notebook.get_cells();\n",
       "                for (var i = 0; i < nbb_cells.length; ++i) {\n",
       "                    if (nbb_cells[i].input_prompt_number == nbb_cell_id) {\n",
       "                        if (nbb_cells[i].get_text() == nbb_unformatted_code) {\n",
       "                             nbb_cells[i].set_text(nbb_formatted_code);\n",
       "                        }\n",
       "                        break;\n",
       "                    }\n",
       "                }\n",
       "            }, 500);\n",
       "            "
      ],
      "text/plain": [
       "<IPython.core.display.Javascript object>"
      ]
     },
     "metadata": {},
     "output_type": "display_data"
    }
   ],
   "source": [
    "from django.contrib.auth.models import Permission"
   ]
  },
  {
   "cell_type": "code",
   "execution_count": 8,
   "id": "3e2900b0",
   "metadata": {},
   "outputs": [
    {
     "name": "stdout",
     "output_type": "stream",
     "text": [
      "account | email address | Can add email address\n",
      "account | email address | Can change email address\n",
      "account | email address | Can delete email address\n",
      "account | email address | Can view email address\n",
      "account | email confirmation | Can add email confirmation\n",
      "account | email confirmation | Can change email confirmation\n",
      "account | email confirmation | Can delete email confirmation\n",
      "account | email confirmation | Can view email confirmation\n",
      "admin | log entry | Can add log entry\n",
      "admin | log entry | Can change log entry\n",
      "admin | log entry | Can delete log entry\n",
      "admin | log entry | Can view log entry\n",
      "auth | group | Can add group\n",
      "auth | group | Can change group\n",
      "auth | group | Can delete group\n",
      "auth | group | Can view group\n",
      "auth | permission | Can add permission\n",
      "auth | permission | Can change permission\n",
      "auth | permission | Can delete permission\n",
      "auth | permission | Can view permission\n",
      "auth | user | Can add user\n",
      "auth | user | Can change user\n",
      "auth | user | Can delete user\n",
      "auth | user | Can view user\n",
      "authtoken | Token | Can add Token\n",
      "authtoken | Token | Can change Token\n",
      "authtoken | Token | Can delete Token\n",
      "authtoken | Token | Can view Token\n",
      "authtoken | token | Can add token\n",
      "authtoken | token | Can change token\n",
      "authtoken | token | Can delete token\n",
      "authtoken | token | Can view token\n",
      "cast | audio | Can add audio\n",
      "cast | audio | Can change audio\n",
      "cast | audio | Can delete audio\n",
      "cast | audio | Can view audio\n",
      "cast | blog | Can add blog\n",
      "cast | blog | Can change blog\n",
      "cast | blog | Can delete blog\n",
      "cast | blog | Can view blog\n",
      "blogindexpage | Can add blog index page\n",
      "blogindexpage | Can change blog index page\n",
      "blogindexpage | Can delete blog index page\n",
      "blogindexpage | Can view blog index page\n",
      "cast | chapter mark | Can add chapter mark\n",
      "cast | chapter mark | Can change chapter mark\n",
      "cast | chapter mark | Can delete chapter mark\n",
      "cast | chapter mark | Can view chapter mark\n",
      "cast | file | Can add file\n",
      "cast | file | Can change file\n",
      "cast | file | Can delete file\n",
      "cast | file | Can view file\n",
      "cast | gallery | Can add gallery\n",
      "cast | gallery | Can change gallery\n",
      "cast | gallery | Can delete gallery\n",
      "cast | gallery | Can view gallery\n",
      "cast | home page | Can add home page\n",
      "cast | home page | Can change home page\n",
      "cast | home page | Can delete home page\n",
      "cast | home page | Can view home page\n",
      "cast | image | Can add image\n",
      "cast | image | Can change image\n",
      "cast | image | Can delete image\n",
      "cast | image | Can view image\n",
      "cast | itunes art work | Can add itunes art work\n",
      "cast | itunes art work | Can change itunes art work\n",
      "cast | itunes art work | Can delete itunes art work\n",
      "cast | itunes art work | Can view itunes art work\n",
      "cast | post | Can add post\n",
      "cast | post | Can change post\n",
      "cast | post | Can delete post\n",
      "cast | post | Can view post\n",
      "cast | request | Can add request\n",
      "cast | request | Can change request\n",
      "cast | request | Can delete request\n",
      "cast | request | Can view request\n",
      "cast | video | Can add video\n",
      "cast | video | Can change video\n",
      "cast | video | Can delete video\n",
      "cast | video | Can view video\n",
      "contenttypes | content type | Can add content type\n",
      "contenttypes | content type | Can change content type\n",
      "contenttypes | content type | Can delete content type\n",
      "contenttypes | content type | Can view content type\n",
      "django_comments | comment | Can add comment\n",
      "django_comments | comment | Can moderate comments\n",
      "django_comments | comment | Can change comment\n",
      "django_comments | comment | Can delete comment\n",
      "django_comments | comment | Can view comment\n",
      "django_comments | comment flag | Can add comment flag\n",
      "django_comments | comment flag | Can change comment flag\n",
      "django_comments | comment flag | Can delete comment flag\n",
      "django_comments | comment flag | Can view comment flag\n",
      "filepond | upload | Can add upload\n",
      "filepond | upload | Can change upload\n",
      "filepond | upload | Can delete upload\n",
      "filepond | upload | Can view upload\n",
      "fluent_comments | Comment | Can add Comment\n",
      "fluent_comments | Comment | Can change Comment\n",
      "fluent_comments | Comment | Can delete Comment\n",
      "fluent_comments | Comment | Can view Comment\n",
      "sessions | session | Can add session\n",
      "sessions | session | Can change session\n",
      "sessions | session | Can delete session\n",
      "sessions | session | Can view session\n",
      "sites | site | Can add site\n",
      "sites | site | Can change site\n",
      "sites | site | Can delete site\n",
      "sites | site | Can view site\n",
      "socialaccount | social account | Can add social account\n",
      "socialaccount | social account | Can change social account\n",
      "socialaccount | social account | Can delete social account\n",
      "socialaccount | social account | Can view social account\n",
      "socialaccount | social application | Can add social application\n",
      "socialaccount | social application | Can change social application\n",
      "socialaccount | social application | Can delete social application\n",
      "socialaccount | social application | Can view social application\n",
      "socialaccount | social application token | Can add social application token\n",
      "socialaccount | social application token | Can change social application token\n",
      "socialaccount | social application token | Can delete social application token\n",
      "socialaccount | social application token | Can view social application token\n",
      "taggit | tag | Can add tag\n",
      "taggit | tag | Can change tag\n",
      "taggit | tag | Can delete tag\n",
      "taggit | tag | Can view tag\n",
      "taggit | tagged item | Can add tagged item\n",
      "taggit | tagged item | Can change tagged item\n",
      "taggit | tagged item | Can delete tagged item\n",
      "taggit | tagged item | Can view tagged item\n",
      "threadedcomments | Threaded comment | Can add Threaded comment\n",
      "threadedcomments | Threaded comment | Can change Threaded comment\n",
      "threadedcomments | Threaded comment | Can delete Threaded comment\n",
      "threadedcomments | Threaded comment | Can view Threaded comment\n",
      "wagtailadmin | admin | Can access Wagtail admin\n",
      "wagtailcore | collection | Can add collection\n",
      "wagtailcore | collection | Can change collection\n",
      "wagtailcore | collection | Can delete collection\n",
      "wagtailcore | collection | Can view collection\n",
      "wagtailcore | collection view restriction | Can add collection view restriction\n",
      "wagtailcore | collection view restriction | Can change collection view restriction\n",
      "wagtailcore | collection view restriction | Can delete collection view restriction\n",
      "wagtailcore | collection view restriction | Can view collection view restriction\n",
      "wagtailcore | comment | Can add comment\n",
      "wagtailcore | comment | Can change comment\n",
      "wagtailcore | comment | Can delete comment\n",
      "wagtailcore | comment | Can view comment\n",
      "wagtailcore | comment reply | Can add comment reply\n",
      "wagtailcore | comment reply | Can change comment reply\n",
      "wagtailcore | comment reply | Can delete comment reply\n",
      "wagtailcore | comment reply | Can view comment reply\n",
      "wagtailcore | Group approval task | Can add Group approval task\n",
      "wagtailcore | Group approval task | Can change Group approval task\n",
      "wagtailcore | Group approval task | Can delete Group approval task\n",
      "wagtailcore | Group approval task | Can view Group approval task\n",
      "wagtailcore | group collection permission | Can add group collection permission\n",
      "wagtailcore | group collection permission | Can change group collection permission\n",
      "wagtailcore | group collection permission | Can delete group collection permission\n",
      "wagtailcore | group collection permission | Can view group collection permission\n",
      "wagtailcore | group page permission | Can add group page permission\n",
      "wagtailcore | group page permission | Can change group page permission\n",
      "wagtailcore | group page permission | Can delete group page permission\n",
      "wagtailcore | group page permission | Can view group page permission\n",
      "wagtailcore | locale | Can add locale\n",
      "wagtailcore | locale | Can change locale\n",
      "wagtailcore | locale | Can delete locale\n",
      "wagtailcore | locale | Can view locale\n",
      "wagtailcore | page | Can add page\n",
      "wagtailcore | page | Can change page\n",
      "wagtailcore | page | Can delete page\n",
      "wagtailcore | page | Can view page\n",
      "wagtailcore | page log entry | Can add page log entry\n",
      "wagtailcore | page log entry | Can change page log entry\n",
      "wagtailcore | page log entry | Can delete page log entry\n",
      "wagtailcore | page log entry | Can view page log entry\n",
      "wagtailcore | page revision | Can add page revision\n",
      "wagtailcore | page revision | Can change page revision\n",
      "wagtailcore | page revision | Can delete page revision\n",
      "wagtailcore | page revision | Can view page revision\n",
      "wagtailcore | page subscription | Can add page subscription\n",
      "wagtailcore | page subscription | Can change page subscription\n",
      "wagtailcore | page subscription | Can delete page subscription\n",
      "wagtailcore | page subscription | Can view page subscription\n",
      "wagtailcore | page view restriction | Can add page view restriction\n",
      "wagtailcore | page view restriction | Can change page view restriction\n",
      "wagtailcore | page view restriction | Can delete page view restriction\n",
      "wagtailcore | page view restriction | Can view page view restriction\n",
      "wagtailcore | site | Can add site\n",
      "wagtailcore | site | Can change site\n",
      "wagtailcore | site | Can delete site\n",
      "wagtailcore | site | Can view site\n",
      "wagtailcore | task | Can add task\n",
      "wagtailcore | task | Can change task\n",
      "wagtailcore | task | Can delete task\n",
      "wagtailcore | task | Can view task\n",
      "wagtailcore | Task state | Can add Task state\n",
      "wagtailcore | Task state | Can change Task state\n",
      "wagtailcore | Task state | Can delete Task state\n",
      "wagtailcore | Task state | Can view Task state\n",
      "wagtailcore | workflow | Can add workflow\n",
      "wagtailcore | workflow | Can change workflow\n",
      "wagtailcore | workflow | Can delete workflow\n",
      "wagtailcore | workflow | Can view workflow\n",
      "wagtailcore | workflow page | Can add workflow page\n",
      "wagtailcore | workflow page | Can change workflow page\n",
      "wagtailcore | workflow page | Can delete workflow page\n",
      "wagtailcore | workflow page | Can view workflow page\n",
      "wagtailcore | Workflow state | Can add Workflow state\n",
      "wagtailcore | Workflow state | Can change Workflow state\n",
      "wagtailcore | Workflow state | Can delete Workflow state\n",
      "wagtailcore | Workflow state | Can view Workflow state\n",
      "wagtailcore | workflow task order | Can add workflow task order\n",
      "wagtailcore | workflow task order | Can change workflow task order\n",
      "wagtailcore | workflow task order | Can delete workflow task order\n",
      "wagtailcore | workflow task order | Can view workflow task order\n",
      "wagtaildocs | document | Can add document\n",
      "wagtaildocs | document | Can change document\n",
      "wagtaildocs | document | Can choose document\n",
      "wagtaildocs | document | Can delete document\n",
      "wagtaildocs | document | Can view document\n",
      "wagtaildocs | uploaded document | Can add uploaded document\n",
      "wagtaildocs | uploaded document | Can change uploaded document\n",
      "wagtaildocs | uploaded document | Can delete uploaded document\n",
      "wagtaildocs | uploaded document | Can view uploaded document\n",
      "wagtailembeds | embed | Can add embed\n",
      "wagtailembeds | embed | Can change embed\n",
      "wagtailembeds | embed | Can delete embed\n",
      "wagtailembeds | embed | Can view embed\n",
      "wagtailforms | form submission | Can add form submission\n",
      "wagtailforms | form submission | Can change form submission\n",
      "wagtailforms | form submission | Can delete form submission\n",
      "wagtailforms | form submission | Can view form submission\n",
      "wagtailimages | image | Can add image\n",
      "wagtailimages | image | Can change image\n",
      "wagtailimages | image | Can choose image\n",
      "wagtailimages | image | Can delete image\n",
      "wagtailimages | image | Can view image\n",
      "wagtailimages | rendition | Can add rendition\n",
      "wagtailimages | rendition | Can change rendition\n",
      "wagtailimages | rendition | Can delete rendition\n",
      "wagtailimages | rendition | Can view rendition\n",
      "wagtailimages | uploaded image | Can add uploaded image\n",
      "wagtailimages | uploaded image | Can change uploaded image\n",
      "wagtailimages | uploaded image | Can delete uploaded image\n",
      "wagtailimages | uploaded image | Can view uploaded image\n",
      "wagtailredirects | redirect | Can add redirect\n",
      "wagtailredirects | redirect | Can change redirect\n",
      "wagtailredirects | redirect | Can delete redirect\n",
      "wagtailredirects | redirect | Can view redirect\n",
      "wagtailsearch | query | Can add query\n",
      "wagtailsearch | query | Can change query\n",
      "wagtailsearch | query | Can delete query\n",
      "wagtailsearch | query | Can view query\n",
      "wagtailsearch | Query Daily Hits | Can add Query Daily Hits\n",
      "wagtailsearch | Query Daily Hits | Can change Query Daily Hits\n",
      "wagtailsearch | Query Daily Hits | Can delete Query Daily Hits\n",
      "wagtailsearch | Query Daily Hits | Can view Query Daily Hits\n",
      "wagtailusers | user profile | Can add user profile\n",
      "wagtailusers | user profile | Can change user profile\n",
      "wagtailusers | user profile | Can delete user profile\n",
      "wagtailusers | user profile | Can view user profile\n",
      "watson | search entry | Can add search entry\n",
      "watson | search entry | Can change search entry\n",
      "watson | search entry | Can delete search entry\n",
      "watson | search entry | Can view search entry\n"
     ]
    },
    {
     "data": {
      "application/javascript": [
       "\n",
       "            setTimeout(function() {\n",
       "                var nbb_cell_id = 8;\n",
       "                var nbb_unformatted_code = \"for permission in Permission.objects.all():\\n    print(permission)\";\n",
       "                var nbb_formatted_code = \"for permission in Permission.objects.all():\\n    print(permission)\";\n",
       "                var nbb_cells = Jupyter.notebook.get_cells();\n",
       "                for (var i = 0; i < nbb_cells.length; ++i) {\n",
       "                    if (nbb_cells[i].input_prompt_number == nbb_cell_id) {\n",
       "                        if (nbb_cells[i].get_text() == nbb_unformatted_code) {\n",
       "                             nbb_cells[i].set_text(nbb_formatted_code);\n",
       "                        }\n",
       "                        break;\n",
       "                    }\n",
       "                }\n",
       "            }, 500);\n",
       "            "
      ],
      "text/plain": [
       "<IPython.core.display.Javascript object>"
      ]
     },
     "metadata": {},
     "output_type": "display_data"
    }
   ],
   "source": [
    "for permission in Permission.objects.all():\n",
    "    print(permission)"
   ]
  },
  {
   "cell_type": "code",
   "execution_count": 10,
   "id": "c452dc72",
   "metadata": {},
   "outputs": [
    {
     "name": "stdout",
     "output_type": "stream",
     "text": [
      "Moderators\n",
      "Editors\n"
     ]
    },
    {
     "data": {
      "application/javascript": [
       "\n",
       "            setTimeout(function() {\n",
       "                var nbb_cell_id = 10;\n",
       "                var nbb_unformatted_code = \"for group in Group.objects.all():\\n    print(group)\";\n",
       "                var nbb_formatted_code = \"for group in Group.objects.all():\\n    print(group)\";\n",
       "                var nbb_cells = Jupyter.notebook.get_cells();\n",
       "                for (var i = 0; i < nbb_cells.length; ++i) {\n",
       "                    if (nbb_cells[i].input_prompt_number == nbb_cell_id) {\n",
       "                        if (nbb_cells[i].get_text() == nbb_unformatted_code) {\n",
       "                             nbb_cells[i].set_text(nbb_formatted_code);\n",
       "                        }\n",
       "                        break;\n",
       "                    }\n",
       "                }\n",
       "            }, 500);\n",
       "            "
      ],
      "text/plain": [
       "<IPython.core.display.Javascript object>"
      ]
     },
     "metadata": {},
     "output_type": "display_data"
    }
   ],
   "source": [
    "for group in Group.objects.all():\n",
    "    print(group)"
   ]
  },
  {
   "cell_type": "code",
   "execution_count": 11,
   "id": "eae270aa",
   "metadata": {},
   "outputs": [
    {
     "data": {
      "application/javascript": [
       "\n",
       "            setTimeout(function() {\n",
       "                var nbb_cell_id = 11;\n",
       "                var nbb_unformatted_code = \"from pathlib import Path\";\n",
       "                var nbb_formatted_code = \"from pathlib import Path\";\n",
       "                var nbb_cells = Jupyter.notebook.get_cells();\n",
       "                for (var i = 0; i < nbb_cells.length; ++i) {\n",
       "                    if (nbb_cells[i].input_prompt_number == nbb_cell_id) {\n",
       "                        if (nbb_cells[i].get_text() == nbb_unformatted_code) {\n",
       "                             nbb_cells[i].set_text(nbb_formatted_code);\n",
       "                        }\n",
       "                        break;\n",
       "                    }\n",
       "                }\n",
       "            }, 500);\n",
       "            "
      ],
      "text/plain": [
       "<IPython.core.display.Javascript object>"
      ]
     },
     "metadata": {},
     "output_type": "display_data"
    }
   ],
   "source": [
    "from pathlib import Path"
   ]
  },
  {
   "cell_type": "code",
   "execution_count": 31,
   "id": "adc83e60",
   "metadata": {},
   "outputs": [],
   "source": [
    "class VideoUrls:\n",
    "    def __init__(self, video):\n",
    "        self.urls = self.get_endpoint_urls_without_args()\n",
    "        self.urls.update(self.get_endpoint_urls_with_args(video))\n",
    "\n",
    "    def get_endpoint_urls_without_args(self):\n",
    "        urls = {}\n",
    "        view_names = [\"index\", \"add\", \"chooser\", \"chooser_upload\"]\n",
    "        for view_name in view_names:\n",
    "            video_view_name = f\"video_{view_name}\"\n",
    "            urls[video_view_name] = reverse(f\"castmedia:{video_view_name}\")\n",
    "        return urls\n",
    "\n",
    "    def get_endpoint_urls_with_args(self, video):\n",
    "        urls = {}\n",
    "        view_names = [\"edit\", \"delete\", \"chosen\"]\n",
    "        for view_name in view_names:\n",
    "            video_view_name = f\"video_{view_name}\"\n",
    "            urls[video_view_name] = reverse(f\"castmedia:{video_view_name}\", args=(video.id,))\n",
    "        return urls\n",
    "\n",
    "    def __getattr__(self, item):\n",
    "        return self.urls[item]"
   ]
  },
  {
   "cell_type": "code",
   "execution_count": 32,
   "id": "3b9d3c14",
   "metadata": {},
   "outputs": [],
   "source": [
    "class SlugVideo:\n",
    "    id = 1"
   ]
  },
  {
   "cell_type": "code",
   "execution_count": 33,
   "id": "e98fb80a",
   "metadata": {},
   "outputs": [],
   "source": [
    "video_urls = VideoUrls(SlugVideo())"
   ]
  },
  {
   "cell_type": "code",
   "execution_count": 34,
   "id": "8d12377e",
   "metadata": {},
   "outputs": [
    {
     "data": {
      "text/plain": [
       "'/cms/media/video/edit/1/'"
      ]
     },
     "execution_count": 34,
     "metadata": {},
     "output_type": "execute_result"
    }
   ],
   "source": [
    "video_urls.video_edit"
   ]
  },
  {
   "cell_type": "code",
   "execution_count": 36,
   "id": "cd485f3c",
   "metadata": {},
   "outputs": [
    {
     "name": "stdout",
     "output_type": "stream",
     "text": [
      "video_index /cms/media/video\n",
      "video_add /cms/media/video/add/\n",
      "video_chooser /cms/media/video/chooser/\n",
      "video_chooser_upload /cms/media/video/chooser/upload/\n",
      "video_edit /cms/media/video/edit/1/\n",
      "video_delete /cms/media/video/delete/1/\n",
      "video_chosen /cms/media/video/chooser/1/\n"
     ]
    }
   ],
   "source": [
    "for view_name, url in video_urls.urls.items():\n",
    "    print(view_name, url)"
   ]
  },
  {
   "cell_type": "code",
   "execution_count": 27,
   "id": "bda265a9",
   "metadata": {},
   "outputs": [
    {
     "ename": "AttributeError",
     "evalue": "'SlugVideo' object has no attribute 'keys'",
     "output_type": "error",
     "traceback": [
      "\u001b[0;31m---------------------------------------------------------------------------\u001b[0m",
      "\u001b[0;31mAttributeError\u001b[0m                            Traceback (most recent call last)",
      "\u001b[0;32m/var/folders/dg/20nm141d3hj2hv67hjl6zmkc0000gn/T/ipykernel_25498/1310008956.py\u001b[0m in \u001b[0;36m<module>\u001b[0;34m\u001b[0m\n\u001b[0;32m----> 1\u001b[0;31m \u001b[0mlist\u001b[0m\u001b[0;34m(\u001b[0m\u001b[0mvideo_urls\u001b[0m\u001b[0;34m.\u001b[0m\u001b[0m__dict__\u001b[0m\u001b[0;34m[\u001b[0m\u001b[0;34m\"video\"\u001b[0m\u001b[0;34m]\u001b[0m\u001b[0;34m.\u001b[0m\u001b[0mkeys\u001b[0m\u001b[0;34m(\u001b[0m\u001b[0;34m)\u001b[0m\u001b[0;34m)\u001b[0m\u001b[0;34m\u001b[0m\u001b[0;34m\u001b[0m\u001b[0m\n\u001b[0m",
      "\u001b[0;31mAttributeError\u001b[0m: 'SlugVideo' object has no attribute 'keys'"
     ]
    }
   ],
   "source": [
    "list(video_urls.__dict__[\"video\"].keys())"
   ]
  },
  {
   "cell_type": "code",
   "execution_count": 2,
   "id": "e64da60d",
   "metadata": {},
   "outputs": [
    {
     "data": {
      "text/plain": [
       "2"
      ]
     },
     "execution_count": 2,
     "metadata": {},
     "output_type": "execute_result"
    },
    {
     "data": {
      "application/javascript": [
       "\n",
       "            setTimeout(function() {\n",
       "                var nbb_cell_id = 2;\n",
       "                var nbb_unformatted_code = \"Video.objects.count()\";\n",
       "                var nbb_formatted_code = \"Video.objects.count()\";\n",
       "                var nbb_cells = Jupyter.notebook.get_cells();\n",
       "                for (var i = 0; i < nbb_cells.length; ++i) {\n",
       "                    if (nbb_cells[i].input_prompt_number == nbb_cell_id) {\n",
       "                        if (nbb_cells[i].get_text() == nbb_unformatted_code) {\n",
       "                             nbb_cells[i].set_text(nbb_formatted_code);\n",
       "                        }\n",
       "                        break;\n",
       "                    }\n",
       "                }\n",
       "            }, 500);\n",
       "            "
      ],
      "text/plain": [
       "<IPython.core.display.Javascript object>"
      ]
     },
     "metadata": {},
     "output_type": "display_data"
    }
   ],
   "source": [
    "Video.objects.count()"
   ]
  },
  {
   "cell_type": "code",
   "execution_count": 6,
   "id": "dd905aeb",
   "metadata": {},
   "outputs": [
    {
     "name": "stdout",
     "output_type": "stream",
     "text": [
      "asdf\n",
      "asdf\n",
      "foobar\n"
     ]
    },
    {
     "data": {
      "application/javascript": [
       "\n",
       "            setTimeout(function() {\n",
       "                var nbb_cell_id = 6;\n",
       "                var nbb_unformatted_code = \"for video in Video.objects.all():\\n    print(video.title)\";\n",
       "                var nbb_formatted_code = \"for video in Video.objects.all():\\n    print(video.title)\";\n",
       "                var nbb_cells = Jupyter.notebook.get_cells();\n",
       "                for (var i = 0; i < nbb_cells.length; ++i) {\n",
       "                    if (nbb_cells[i].input_prompt_number == nbb_cell_id) {\n",
       "                        if (nbb_cells[i].get_text() == nbb_unformatted_code) {\n",
       "                             nbb_cells[i].set_text(nbb_formatted_code);\n",
       "                        }\n",
       "                        break;\n",
       "                    }\n",
       "                }\n",
       "            }, 500);\n",
       "            "
      ],
      "text/plain": [
       "<IPython.core.display.Javascript object>"
      ]
     },
     "metadata": {},
     "output_type": "display_data"
    }
   ],
   "source": [
    "for video in Video.objects.all():\n",
    "    print(video.title)"
   ]
  },
  {
   "cell_type": "code",
   "execution_count": 7,
   "id": "3c1e984d",
   "metadata": {},
   "outputs": [
    {
     "data": {
      "text/plain": [
       "['DoesNotExist',\n",
       " 'Meta',\n",
       " 'MultipleObjectsReturned',\n",
       " '__class__',\n",
       " '__delattr__',\n",
       " '__dict__',\n",
       " '__dir__',\n",
       " '__doc__',\n",
       " '__eq__',\n",
       " '__format__',\n",
       " '__ge__',\n",
       " '__getattribute__',\n",
       " '__getstate__',\n",
       " '__gt__',\n",
       " '__hash__',\n",
       " '__init__',\n",
       " '__init_subclass__',\n",
       " '__le__',\n",
       " '__lt__',\n",
       " '__module__',\n",
       " '__ne__',\n",
       " '__new__',\n",
       " '__reduce__',\n",
       " '__reduce_ex__',\n",
       " '__repr__',\n",
       " '__setattr__',\n",
       " '__setstate__',\n",
       " '__sizeof__',\n",
       " '__str__',\n",
       " '__subclasshook__',\n",
       " '__weakref__',\n",
       " '_check_column_name_clashes',\n",
       " '_check_constraints',\n",
       " '_check_default_pk',\n",
       " '_check_field_name_clashes',\n",
       " '_check_fields',\n",
       " '_check_id_field',\n",
       " '_check_index_together',\n",
       " '_check_indexes',\n",
       " '_check_local_fields',\n",
       " '_check_long_column_names',\n",
       " '_check_m2m_through_same_relationship',\n",
       " '_check_managers',\n",
       " '_check_model',\n",
       " '_check_model_name_db_lookup_clashes',\n",
       " '_check_ordering',\n",
       " '_check_property_name_related_field_accessor_clashes',\n",
       " '_check_single_primary_key',\n",
       " '_check_swappable',\n",
       " '_check_unique_together',\n",
       " '_create_poster',\n",
       " '_do_insert',\n",
       " '_do_update',\n",
       " '_get_FIELD_display',\n",
       " '_get_expr_references',\n",
       " '_get_next_or_previous_by_FIELD',\n",
       " '_get_next_or_previous_in_order',\n",
       " '_get_pk_val',\n",
       " '_get_unique_checks',\n",
       " '_get_video_dimensions',\n",
       " '_ik',\n",
       " '_meta',\n",
       " '_perform_date_checks',\n",
       " '_perform_unique_checks',\n",
       " '_prepare_related_fields_for_save',\n",
       " '_save_parents',\n",
       " '_save_table',\n",
       " '_set_pk_val',\n",
       " '_state',\n",
       " 'admin_form_fields',\n",
       " 'calc_poster',\n",
       " 'check',\n",
       " 'clean',\n",
       " 'clean_fields',\n",
       " 'collection',\n",
       " 'collection_id',\n",
       " 'create_poster',\n",
       " 'created',\n",
       " 'date_error_message',\n",
       " 'delete',\n",
       " 'filename',\n",
       " 'from_db',\n",
       " 'full_clean',\n",
       " 'get_all_paths',\n",
       " 'get_deferred_fields',\n",
       " 'get_mime_type',\n",
       " 'get_next_by_created',\n",
       " 'get_next_by_modified',\n",
       " 'get_previous_by_created',\n",
       " 'get_previous_by_modified',\n",
       " 'id',\n",
       " 'modified',\n",
       " 'objects',\n",
       " 'original',\n",
       " 'pk',\n",
       " 'post_context_key',\n",
       " 'post_set',\n",
       " 'poster',\n",
       " 'poster_seconds',\n",
       " 'poster_thumbnail',\n",
       " 'prepare_database_save',\n",
       " 'refresh_from_db',\n",
       " 'save',\n",
       " 'save_base',\n",
       " 'search_fields',\n",
       " 'serializable_value',\n",
       " 'tagged_items',\n",
       " 'tags',\n",
       " 'title',\n",
       " 'type',\n",
       " 'unique_error_message',\n",
       " 'user',\n",
       " 'user_id',\n",
       " 'validate_unique']"
      ]
     },
     "execution_count": 7,
     "metadata": {},
     "output_type": "execute_result"
    },
    {
     "data": {
      "application/javascript": [
       "\n",
       "            setTimeout(function() {\n",
       "                var nbb_cell_id = 7;\n",
       "                var nbb_unformatted_code = \"dir(video)\";\n",
       "                var nbb_formatted_code = \"dir(video)\";\n",
       "                var nbb_cells = Jupyter.notebook.get_cells();\n",
       "                for (var i = 0; i < nbb_cells.length; ++i) {\n",
       "                    if (nbb_cells[i].input_prompt_number == nbb_cell_id) {\n",
       "                        if (nbb_cells[i].get_text() == nbb_unformatted_code) {\n",
       "                             nbb_cells[i].set_text(nbb_formatted_code);\n",
       "                        }\n",
       "                        break;\n",
       "                    }\n",
       "                }\n",
       "            }, 500);\n",
       "            "
      ],
      "text/plain": [
       "<IPython.core.display.Javascript object>"
      ]
     },
     "metadata": {},
     "output_type": "display_data"
    }
   ],
   "source": [
    "dir(video)"
   ]
  },
  {
   "cell_type": "code",
   "execution_count": 8,
   "id": "1cf4a716",
   "metadata": {},
   "outputs": [
    {
     "ename": "AttributeError",
     "evalue": "'Video' object has no attribute 'update_index'",
     "output_type": "error",
     "traceback": [
      "\u001b[0;31m---------------------------------------------------------------------------\u001b[0m",
      "\u001b[0;31mAttributeError\u001b[0m                            Traceback (most recent call last)",
      "\u001b[0;32m/var/folders/dg/20nm141d3hj2hv67hjl6zmkc0000gn/T/ipykernel_12707/200450678.py\u001b[0m in \u001b[0;36m<module>\u001b[0;34m\u001b[0m\n\u001b[0;32m----> 1\u001b[0;31m \u001b[0mvideo\u001b[0m\u001b[0;34m.\u001b[0m\u001b[0mupdate_index\u001b[0m\u001b[0;34m(\u001b[0m\u001b[0;34m)\u001b[0m\u001b[0;34m\u001b[0m\u001b[0;34m\u001b[0m\u001b[0m\n\u001b[0m",
      "\u001b[0;31mAttributeError\u001b[0m: 'Video' object has no attribute 'update_index'"
     ]
    },
    {
     "data": {
      "application/javascript": [
       "\n",
       "            setTimeout(function() {\n",
       "                var nbb_cell_id = 8;\n",
       "                var nbb_unformatted_code = \"video.update_index()\";\n",
       "                var nbb_formatted_code = \"video.update_index()\";\n",
       "                var nbb_cells = Jupyter.notebook.get_cells();\n",
       "                for (var i = 0; i < nbb_cells.length; ++i) {\n",
       "                    if (nbb_cells[i].input_prompt_number == nbb_cell_id) {\n",
       "                        if (nbb_cells[i].get_text() == nbb_unformatted_code) {\n",
       "                             nbb_cells[i].set_text(nbb_formatted_code);\n",
       "                        }\n",
       "                        break;\n",
       "                    }\n",
       "                }\n",
       "            }, 500);\n",
       "            "
      ],
      "text/plain": [
       "<IPython.core.display.Javascript object>"
      ]
     },
     "metadata": {},
     "output_type": "display_data"
    }
   ],
   "source": [
    "video.update_index()"
   ]
  },
  {
   "cell_type": "code",
   "execution_count": 3,
   "id": "4a8d1e04",
   "metadata": {},
   "outputs": [
    {
     "data": {
      "text/plain": [
       "<SearchResults [<Video: Video object (3)>]>"
      ]
     },
     "execution_count": 3,
     "metadata": {},
     "output_type": "execute_result"
    },
    {
     "data": {
      "application/javascript": [
       "\n",
       "            setTimeout(function() {\n",
       "                var nbb_cell_id = 3;\n",
       "                var nbb_unformatted_code = \"Video.objects.search(\\\"foo\\\")\";\n",
       "                var nbb_formatted_code = \"Video.objects.search(\\\"foo\\\")\";\n",
       "                var nbb_cells = Jupyter.notebook.get_cells();\n",
       "                for (var i = 0; i < nbb_cells.length; ++i) {\n",
       "                    if (nbb_cells[i].input_prompt_number == nbb_cell_id) {\n",
       "                        if (nbb_cells[i].get_text() == nbb_unformatted_code) {\n",
       "                             nbb_cells[i].set_text(nbb_formatted_code);\n",
       "                        }\n",
       "                        break;\n",
       "                    }\n",
       "                }\n",
       "            }, 500);\n",
       "            "
      ],
      "text/plain": [
       "<IPython.core.display.Javascript object>"
      ]
     },
     "metadata": {},
     "output_type": "display_data"
    }
   ],
   "source": [
    "Video.objects.search(\"foo\")"
   ]
  },
  {
   "cell_type": "code",
   "execution_count": null,
   "id": "f8bc7bb6",
   "metadata": {},
   "outputs": [],
   "source": [
    "Video.objects"
   ]
  },
  {
   "cell_type": "code",
   "execution_count": 4,
   "id": "26d93e6e",
   "metadata": {},
   "outputs": [
    {
     "data": {
      "application/javascript": [
       "\n",
       "            setTimeout(function() {\n",
       "                var nbb_cell_id = 4;\n",
       "                var nbb_unformatted_code = \"from wagtail.admin.forms.search import SearchForm\";\n",
       "                var nbb_formatted_code = \"from wagtail.admin.forms.search import SearchForm\";\n",
       "                var nbb_cells = Jupyter.notebook.get_cells();\n",
       "                for (var i = 0; i < nbb_cells.length; ++i) {\n",
       "                    if (nbb_cells[i].input_prompt_number == nbb_cell_id) {\n",
       "                        if (nbb_cells[i].get_text() == nbb_unformatted_code) {\n",
       "                             nbb_cells[i].set_text(nbb_formatted_code);\n",
       "                        }\n",
       "                        break;\n",
       "                    }\n",
       "                }\n",
       "            }, 500);\n",
       "            "
      ],
      "text/plain": [
       "<IPython.core.display.Javascript object>"
      ]
     },
     "metadata": {},
     "output_type": "display_data"
    }
   ],
   "source": [
    "from wagtail.admin.forms.search import SearchForm"
   ]
  },
  {
   "cell_type": "code",
   "execution_count": 5,
   "id": "de68dfb4",
   "metadata": {},
   "outputs": [
    {
     "data": {
      "application/javascript": [
       "\n",
       "            setTimeout(function() {\n",
       "                var nbb_cell_id = 5;\n",
       "                var nbb_unformatted_code = \"form = SearchForm({\\\"q\\\": \\\"foobar\\\"})\";\n",
       "                var nbb_formatted_code = \"form = SearchForm({\\\"q\\\": \\\"foobar\\\"})\";\n",
       "                var nbb_cells = Jupyter.notebook.get_cells();\n",
       "                for (var i = 0; i < nbb_cells.length; ++i) {\n",
       "                    if (nbb_cells[i].input_prompt_number == nbb_cell_id) {\n",
       "                        if (nbb_cells[i].get_text() == nbb_unformatted_code) {\n",
       "                             nbb_cells[i].set_text(nbb_formatted_code);\n",
       "                        }\n",
       "                        break;\n",
       "                    }\n",
       "                }\n",
       "            }, 500);\n",
       "            "
      ],
      "text/plain": [
       "<IPython.core.display.Javascript object>"
      ]
     },
     "metadata": {},
     "output_type": "display_data"
    }
   ],
   "source": [
    "form = SearchForm({\"q\": \"foobar\"})"
   ]
  },
  {
   "cell_type": "code",
   "execution_count": 6,
   "id": "cbbba1cc",
   "metadata": {},
   "outputs": [
    {
     "data": {
      "text/plain": [
       "True"
      ]
     },
     "execution_count": 6,
     "metadata": {},
     "output_type": "execute_result"
    },
    {
     "data": {
      "application/javascript": [
       "\n",
       "            setTimeout(function() {\n",
       "                var nbb_cell_id = 6;\n",
       "                var nbb_unformatted_code = \"form.is_valid()\";\n",
       "                var nbb_formatted_code = \"form.is_valid()\";\n",
       "                var nbb_cells = Jupyter.notebook.get_cells();\n",
       "                for (var i = 0; i < nbb_cells.length; ++i) {\n",
       "                    if (nbb_cells[i].input_prompt_number == nbb_cell_id) {\n",
       "                        if (nbb_cells[i].get_text() == nbb_unformatted_code) {\n",
       "                             nbb_cells[i].set_text(nbb_formatted_code);\n",
       "                        }\n",
       "                        break;\n",
       "                    }\n",
       "                }\n",
       "            }, 500);\n",
       "            "
      ],
      "text/plain": [
       "<IPython.core.display.Javascript object>"
      ]
     },
     "metadata": {},
     "output_type": "display_data"
    }
   ],
   "source": [
    "form.is_valid()"
   ]
  },
  {
   "cell_type": "code",
   "execution_count": 13,
   "id": "196299be",
   "metadata": {},
   "outputs": [
    {
     "data": {
      "application/javascript": [
       "\n",
       "            setTimeout(function() {\n",
       "                var nbb_cell_id = 13;\n",
       "                var nbb_unformatted_code = \"form = SearchForm({\\\"q\\\": \\\" \\\"})\";\n",
       "                var nbb_formatted_code = \"form = SearchForm({\\\"q\\\": \\\" \\\"})\";\n",
       "                var nbb_cells = Jupyter.notebook.get_cells();\n",
       "                for (var i = 0; i < nbb_cells.length; ++i) {\n",
       "                    if (nbb_cells[i].input_prompt_number == nbb_cell_id) {\n",
       "                        if (nbb_cells[i].get_text() == nbb_unformatted_code) {\n",
       "                             nbb_cells[i].set_text(nbb_formatted_code);\n",
       "                        }\n",
       "                        break;\n",
       "                    }\n",
       "                }\n",
       "            }, 500);\n",
       "            "
      ],
      "text/plain": [
       "<IPython.core.display.Javascript object>"
      ]
     },
     "metadata": {},
     "output_type": "display_data"
    }
   ],
   "source": [
    "form = SearchForm({\"q\": \" \"})"
   ]
  },
  {
   "cell_type": "code",
   "execution_count": 14,
   "id": "76e71ec6",
   "metadata": {},
   "outputs": [
    {
     "data": {
      "text/plain": [
       "False"
      ]
     },
     "execution_count": 14,
     "metadata": {},
     "output_type": "execute_result"
    },
    {
     "data": {
      "application/javascript": [
       "\n",
       "            setTimeout(function() {\n",
       "                var nbb_cell_id = 14;\n",
       "                var nbb_unformatted_code = \"form.is_valid()\";\n",
       "                var nbb_formatted_code = \"form.is_valid()\";\n",
       "                var nbb_cells = Jupyter.notebook.get_cells();\n",
       "                for (var i = 0; i < nbb_cells.length; ++i) {\n",
       "                    if (nbb_cells[i].input_prompt_number == nbb_cell_id) {\n",
       "                        if (nbb_cells[i].get_text() == nbb_unformatted_code) {\n",
       "                             nbb_cells[i].set_text(nbb_formatted_code);\n",
       "                        }\n",
       "                        break;\n",
       "                    }\n",
       "                }\n",
       "            }, 500);\n",
       "            "
      ],
      "text/plain": [
       "<IPython.core.display.Javascript object>"
      ]
     },
     "metadata": {},
     "output_type": "display_data"
    }
   ],
   "source": [
    "form.is_valid()"
   ]
  },
  {
   "cell_type": "code",
   "execution_count": 1,
   "id": "d1c73504",
   "metadata": {},
   "outputs": [],
   "source": [
    "from wagtail.admin.forms.search import SearchForm"
   ]
  },
  {
   "cell_type": "code",
   "execution_count": 29,
   "id": "53aa5ab9",
   "metadata": {},
   "outputs": [],
   "source": [
    "search_form = SearchForm({\"q\": []})"
   ]
  },
  {
   "cell_type": "code",
   "execution_count": 30,
   "id": "2063a307",
   "metadata": {},
   "outputs": [
    {
     "data": {
      "text/plain": [
       "False"
      ]
     },
     "execution_count": 30,
     "metadata": {},
     "output_type": "execute_result"
    }
   ],
   "source": [
    "search_form.is_valid()"
   ]
  },
  {
   "cell_type": "code",
   "execution_count": 1,
   "id": "be2f1376",
   "metadata": {},
   "outputs": [
    {
     "data": {
      "text/plain": [
       "3"
      ]
     },
     "execution_count": 1,
     "metadata": {},
     "output_type": "execute_result"
    }
   ],
   "source": [
    "Video.objects.count()"
   ]
  },
  {
   "cell_type": "code",
   "execution_count": 4,
   "id": "6eba2341",
   "metadata": {},
   "outputs": [],
   "source": [
    "user = User.objects.first()"
   ]
  },
  {
   "cell_type": "code",
   "execution_count": 5,
   "id": "32db5d40",
   "metadata": {},
   "outputs": [],
   "source": [
    "video = Video(title=\"foobar\", user=user)"
   ]
  },
  {
   "cell_type": "code",
   "execution_count": 6,
   "id": "caea5e0d",
   "metadata": {},
   "outputs": [],
   "source": [
    "video.save()"
   ]
  },
  {
   "cell_type": "code",
   "execution_count": 7,
   "id": "2aa78581",
   "metadata": {},
   "outputs": [],
   "source": [
    "for i in range(10):\n",
    "    video = Video(title=f\"video_{i}\", user=user)\n",
    "    video.save()"
   ]
  },
  {
   "cell_type": "code",
   "execution_count": null,
   "id": "4cfc2d22",
   "metadata": {},
   "outputs": [],
   "source": []
  }
 ],
 "metadata": {
  "kernelspec": {
   "display_name": "Django Shell-Plus",
   "language": "python",
   "name": "django_extensions"
  },
  "language_info": {
   "codemirror_mode": {
    "name": "ipython",
    "version": 3
   },
   "file_extension": ".py",
   "mimetype": "text/x-python",
   "name": "python",
   "nbconvert_exporter": "python",
   "pygments_lexer": "ipython3",
   "version": "3.9.7"
  }
 },
 "nbformat": 4,
 "nbformat_minor": 5
}
