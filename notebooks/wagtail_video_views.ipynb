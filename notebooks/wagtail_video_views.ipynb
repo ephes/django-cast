{
 "cells": [
  {
   "cell_type": "code",
   "execution_count": 1,
   "id": "ca328f67",
   "metadata": {},
   "outputs": [
    {
     "data": {
      "application/javascript": [
       "\n",
       "            setTimeout(function() {\n",
       "                var nbb_cell_id = 1;\n",
       "                var nbb_unformatted_code = \"%load_ext nb_black\";\n",
       "                var nbb_formatted_code = \"%load_ext nb_black\";\n",
       "                var nbb_cells = Jupyter.notebook.get_cells();\n",
       "                for (var i = 0; i < nbb_cells.length; ++i) {\n",
       "                    if (nbb_cells[i].input_prompt_number == nbb_cell_id) {\n",
       "                        if (nbb_cells[i].get_text() == nbb_unformatted_code) {\n",
       "                             nbb_cells[i].set_text(nbb_formatted_code);\n",
       "                        }\n",
       "                        break;\n",
       "                    }\n",
       "                }\n",
       "            }, 500);\n",
       "            "
      ],
      "text/plain": [
       "<IPython.core.display.Javascript object>"
      ]
     },
     "metadata": {},
     "output_type": "display_data"
    }
   ],
   "source": [
    "%load_ext nb_black"
   ]
  },
  {
   "cell_type": "code",
   "execution_count": 2,
   "id": "163b288d",
   "metadata": {},
   "outputs": [
    {
     "data": {
      "text/plain": [
       "'/cms/media/video'"
      ]
     },
     "execution_count": 2,
     "metadata": {},
     "output_type": "execute_result"
    },
    {
     "data": {
      "application/javascript": [
       "\n",
       "            setTimeout(function() {\n",
       "                var nbb_cell_id = 2;\n",
       "                var nbb_unformatted_code = \"reverse(\\\"castmedia:video_index\\\")\";\n",
       "                var nbb_formatted_code = \"reverse(\\\"castmedia:video_index\\\")\";\n",
       "                var nbb_cells = Jupyter.notebook.get_cells();\n",
       "                for (var i = 0; i < nbb_cells.length; ++i) {\n",
       "                    if (nbb_cells[i].input_prompt_number == nbb_cell_id) {\n",
       "                        if (nbb_cells[i].get_text() == nbb_unformatted_code) {\n",
       "                             nbb_cells[i].set_text(nbb_formatted_code);\n",
       "                        }\n",
       "                        break;\n",
       "                    }\n",
       "                }\n",
       "            }, 500);\n",
       "            "
      ],
      "text/plain": [
       "<IPython.core.display.Javascript object>"
      ]
     },
     "metadata": {},
     "output_type": "display_data"
    }
   ],
   "source": [
    "reverse(\"castmedia:video_index\")"
   ]
  },
  {
   "cell_type": "code",
   "execution_count": 3,
   "id": "1906807f",
   "metadata": {},
   "outputs": [
    {
     "data": {
      "text/plain": [
       "'/cms/media/video/add/'"
      ]
     },
     "execution_count": 3,
     "metadata": {},
     "output_type": "execute_result"
    },
    {
     "data": {
      "application/javascript": [
       "\n",
       "            setTimeout(function() {\n",
       "                var nbb_cell_id = 3;\n",
       "                var nbb_unformatted_code = \"reverse(\\\"castmedia:video_add\\\")\";\n",
       "                var nbb_formatted_code = \"reverse(\\\"castmedia:video_add\\\")\";\n",
       "                var nbb_cells = Jupyter.notebook.get_cells();\n",
       "                for (var i = 0; i < nbb_cells.length; ++i) {\n",
       "                    if (nbb_cells[i].input_prompt_number == nbb_cell_id) {\n",
       "                        if (nbb_cells[i].get_text() == nbb_unformatted_code) {\n",
       "                             nbb_cells[i].set_text(nbb_formatted_code);\n",
       "                        }\n",
       "                        break;\n",
       "                    }\n",
       "                }\n",
       "            }, 500);\n",
       "            "
      ],
      "text/plain": [
       "<IPython.core.display.Javascript object>"
      ]
     },
     "metadata": {},
     "output_type": "display_data"
    }
   ],
   "source": [
    "reverse(\"castmedia:video_add\")"
   ]
  },
  {
   "cell_type": "code",
   "execution_count": 4,
   "id": "05e914ed",
   "metadata": {},
   "outputs": [
    {
     "data": {
      "application/javascript": [
       "\n",
       "            setTimeout(function() {\n",
       "                var nbb_cell_id = 4;\n",
       "                var nbb_unformatted_code = \"user = User.objects.first()\";\n",
       "                var nbb_formatted_code = \"user = User.objects.first()\";\n",
       "                var nbb_cells = Jupyter.notebook.get_cells();\n",
       "                for (var i = 0; i < nbb_cells.length; ++i) {\n",
       "                    if (nbb_cells[i].input_prompt_number == nbb_cell_id) {\n",
       "                        if (nbb_cells[i].get_text() == nbb_unformatted_code) {\n",
       "                             nbb_cells[i].set_text(nbb_formatted_code);\n",
       "                        }\n",
       "                        break;\n",
       "                    }\n",
       "                }\n",
       "            }, 500);\n",
       "            "
      ],
      "text/plain": [
       "<IPython.core.display.Javascript object>"
      ]
     },
     "metadata": {},
     "output_type": "display_data"
    }
   ],
   "source": [
    "user = User.objects.first()"
   ]
  },
  {
   "cell_type": "code",
   "execution_count": 5,
   "id": "c4247ed4",
   "metadata": {},
   "outputs": [
    {
     "ename": "AttributeError",
     "evalue": "'User' object has no attribute 'permissions'",
     "output_type": "error",
     "traceback": [
      "\u001b[0;31m---------------------------------------------------------------------------\u001b[0m",
      "\u001b[0;31mAttributeError\u001b[0m                            Traceback (most recent call last)",
      "\u001b[0;32m/var/folders/35/mhty_0hd42ddfvyk3_09f1hc0000gn/T/ipykernel_40105/67757523.py\u001b[0m in \u001b[0;36m<module>\u001b[0;34m\u001b[0m\n\u001b[0;32m----> 1\u001b[0;31m \u001b[0muser\u001b[0m\u001b[0;34m.\u001b[0m\u001b[0mpermissions\u001b[0m\u001b[0;34m.\u001b[0m\u001b[0mall\u001b[0m\u001b[0;34m(\u001b[0m\u001b[0;34m)\u001b[0m\u001b[0;34m\u001b[0m\u001b[0;34m\u001b[0m\u001b[0m\n\u001b[0m",
      "\u001b[0;31mAttributeError\u001b[0m: 'User' object has no attribute 'permissions'"
     ]
    },
    {
     "data": {
      "application/javascript": [
       "\n",
       "            setTimeout(function() {\n",
       "                var nbb_cell_id = 5;\n",
       "                var nbb_unformatted_code = \"user.permissions.all()\";\n",
       "                var nbb_formatted_code = \"user.permissions.all()\";\n",
       "                var nbb_cells = Jupyter.notebook.get_cells();\n",
       "                for (var i = 0; i < nbb_cells.length; ++i) {\n",
       "                    if (nbb_cells[i].input_prompt_number == nbb_cell_id) {\n",
       "                        if (nbb_cells[i].get_text() == nbb_unformatted_code) {\n",
       "                             nbb_cells[i].set_text(nbb_formatted_code);\n",
       "                        }\n",
       "                        break;\n",
       "                    }\n",
       "                }\n",
       "            }, 500);\n",
       "            "
      ],
      "text/plain": [
       "<IPython.core.display.Javascript object>"
      ]
     },
     "metadata": {},
     "output_type": "display_data"
    }
   ],
   "source": [
    "user.permissions.all()"
   ]
  },
  {
   "cell_type": "code",
   "execution_count": 6,
   "id": "594243c4",
   "metadata": {},
   "outputs": [
    {
     "data": {
      "application/javascript": [
       "\n",
       "            setTimeout(function() {\n",
       "                var nbb_cell_id = 6;\n",
       "                var nbb_unformatted_code = \"from django.contrib.auth.models import Permission\";\n",
       "                var nbb_formatted_code = \"from django.contrib.auth.models import Permission\";\n",
       "                var nbb_cells = Jupyter.notebook.get_cells();\n",
       "                for (var i = 0; i < nbb_cells.length; ++i) {\n",
       "                    if (nbb_cells[i].input_prompt_number == nbb_cell_id) {\n",
       "                        if (nbb_cells[i].get_text() == nbb_unformatted_code) {\n",
       "                             nbb_cells[i].set_text(nbb_formatted_code);\n",
       "                        }\n",
       "                        break;\n",
       "                    }\n",
       "                }\n",
       "            }, 500);\n",
       "            "
      ],
      "text/plain": [
       "<IPython.core.display.Javascript object>"
      ]
     },
     "metadata": {},
     "output_type": "display_data"
    }
   ],
   "source": [
    "from django.contrib.auth.models import Permission"
   ]
  },
  {
   "cell_type": "code",
   "execution_count": 8,
   "id": "3e2900b0",
   "metadata": {},
   "outputs": [
    {
     "name": "stdout",
     "output_type": "stream",
     "text": [
      "account | email address | Can add email address\n",
      "account | email address | Can change email address\n",
      "account | email address | Can delete email address\n",
      "account | email address | Can view email address\n",
      "account | email confirmation | Can add email confirmation\n",
      "account | email confirmation | Can change email confirmation\n",
      "account | email confirmation | Can delete email confirmation\n",
      "account | email confirmation | Can view email confirmation\n",
      "admin | log entry | Can add log entry\n",
      "admin | log entry | Can change log entry\n",
      "admin | log entry | Can delete log entry\n",
      "admin | log entry | Can view log entry\n",
      "auth | group | Can add group\n",
      "auth | group | Can change group\n",
      "auth | group | Can delete group\n",
      "auth | group | Can view group\n",
      "auth | permission | Can add permission\n",
      "auth | permission | Can change permission\n",
      "auth | permission | Can delete permission\n",
      "auth | permission | Can view permission\n",
      "auth | user | Can add user\n",
      "auth | user | Can change user\n",
      "auth | user | Can delete user\n",
      "auth | user | Can view user\n",
      "authtoken | Token | Can add Token\n",
      "authtoken | Token | Can change Token\n",
      "authtoken | Token | Can delete Token\n",
      "authtoken | Token | Can view Token\n",
      "authtoken | token | Can add token\n",
      "authtoken | token | Can change token\n",
      "authtoken | token | Can delete token\n",
      "authtoken | token | Can view token\n",
      "cast | audio | Can add audio\n",
      "cast | audio | Can change audio\n",
      "cast | audio | Can delete audio\n",
      "cast | audio | Can view audio\n",
      "cast | blog | Can add blog\n",
      "cast | blog | Can change blog\n",
      "cast | blog | Can delete blog\n",
      "cast | blog | Can view blog\n",
      "blogindexpage | Can add blog index page\n",
      "blogindexpage | Can change blog index page\n",
      "blogindexpage | Can delete blog index page\n",
      "blogindexpage | Can view blog index page\n",
      "cast | chapter mark | Can add chapter mark\n",
      "cast | chapter mark | Can change chapter mark\n",
      "cast | chapter mark | Can delete chapter mark\n",
      "cast | chapter mark | Can view chapter mark\n",
      "cast | file | Can add file\n",
      "cast | file | Can change file\n",
      "cast | file | Can delete file\n",
      "cast | file | Can view file\n",
      "cast | gallery | Can add gallery\n",
      "cast | gallery | Can change gallery\n",
      "cast | gallery | Can delete gallery\n",
      "cast | gallery | Can view gallery\n",
      "cast | home page | Can add home page\n",
      "cast | home page | Can change home page\n",
      "cast | home page | Can delete home page\n",
      "cast | home page | Can view home page\n",
      "cast | image | Can add image\n",
      "cast | image | Can change image\n",
      "cast | image | Can delete image\n",
      "cast | image | Can view image\n",
      "cast | itunes art work | Can add itunes art work\n",
      "cast | itunes art work | Can change itunes art work\n",
      "cast | itunes art work | Can delete itunes art work\n",
      "cast | itunes art work | Can view itunes art work\n",
      "cast | post | Can add post\n",
      "cast | post | Can change post\n",
      "cast | post | Can delete post\n",
      "cast | post | Can view post\n",
      "cast | request | Can add request\n",
      "cast | request | Can change request\n",
      "cast | request | Can delete request\n",
      "cast | request | Can view request\n",
      "cast | video | Can add video\n",
      "cast | video | Can change video\n",
      "cast | video | Can delete video\n",
      "cast | video | Can view video\n",
      "contenttypes | content type | Can add content type\n",
      "contenttypes | content type | Can change content type\n",
      "contenttypes | content type | Can delete content type\n",
      "contenttypes | content type | Can view content type\n",
      "django_comments | comment | Can add comment\n",
      "django_comments | comment | Can moderate comments\n",
      "django_comments | comment | Can change comment\n",
      "django_comments | comment | Can delete comment\n",
      "django_comments | comment | Can view comment\n",
      "django_comments | comment flag | Can add comment flag\n",
      "django_comments | comment flag | Can change comment flag\n",
      "django_comments | comment flag | Can delete comment flag\n",
      "django_comments | comment flag | Can view comment flag\n",
      "filepond | upload | Can add upload\n",
      "filepond | upload | Can change upload\n",
      "filepond | upload | Can delete upload\n",
      "filepond | upload | Can view upload\n",
      "fluent_comments | Comment | Can add Comment\n",
      "fluent_comments | Comment | Can change Comment\n",
      "fluent_comments | Comment | Can delete Comment\n",
      "fluent_comments | Comment | Can view Comment\n",
      "sessions | session | Can add session\n",
      "sessions | session | Can change session\n",
      "sessions | session | Can delete session\n",
      "sessions | session | Can view session\n",
      "sites | site | Can add site\n",
      "sites | site | Can change site\n",
      "sites | site | Can delete site\n",
      "sites | site | Can view site\n",
      "socialaccount | social account | Can add social account\n",
      "socialaccount | social account | Can change social account\n",
      "socialaccount | social account | Can delete social account\n",
      "socialaccount | social account | Can view social account\n",
      "socialaccount | social application | Can add social application\n",
      "socialaccount | social application | Can change social application\n",
      "socialaccount | social application | Can delete social application\n",
      "socialaccount | social application | Can view social application\n",
      "socialaccount | social application token | Can add social application token\n",
      "socialaccount | social application token | Can change social application token\n",
      "socialaccount | social application token | Can delete social application token\n",
      "socialaccount | social application token | Can view social application token\n",
      "taggit | tag | Can add tag\n",
      "taggit | tag | Can change tag\n",
      "taggit | tag | Can delete tag\n",
      "taggit | tag | Can view tag\n",
      "taggit | tagged item | Can add tagged item\n",
      "taggit | tagged item | Can change tagged item\n",
      "taggit | tagged item | Can delete tagged item\n",
      "taggit | tagged item | Can view tagged item\n",
      "threadedcomments | Threaded comment | Can add Threaded comment\n",
      "threadedcomments | Threaded comment | Can change Threaded comment\n",
      "threadedcomments | Threaded comment | Can delete Threaded comment\n",
      "threadedcomments | Threaded comment | Can view Threaded comment\n",
      "wagtailadmin | admin | Can access Wagtail admin\n",
      "wagtailcore | collection | Can add collection\n",
      "wagtailcore | collection | Can change collection\n",
      "wagtailcore | collection | Can delete collection\n",
      "wagtailcore | collection | Can view collection\n",
      "wagtailcore | collection view restriction | Can add collection view restriction\n",
      "wagtailcore | collection view restriction | Can change collection view restriction\n",
      "wagtailcore | collection view restriction | Can delete collection view restriction\n",
      "wagtailcore | collection view restriction | Can view collection view restriction\n",
      "wagtailcore | comment | Can add comment\n",
      "wagtailcore | comment | Can change comment\n",
      "wagtailcore | comment | Can delete comment\n",
      "wagtailcore | comment | Can view comment\n",
      "wagtailcore | comment reply | Can add comment reply\n",
      "wagtailcore | comment reply | Can change comment reply\n",
      "wagtailcore | comment reply | Can delete comment reply\n",
      "wagtailcore | comment reply | Can view comment reply\n",
      "wagtailcore | Group approval task | Can add Group approval task\n",
      "wagtailcore | Group approval task | Can change Group approval task\n",
      "wagtailcore | Group approval task | Can delete Group approval task\n",
      "wagtailcore | Group approval task | Can view Group approval task\n",
      "wagtailcore | group collection permission | Can add group collection permission\n",
      "wagtailcore | group collection permission | Can change group collection permission\n",
      "wagtailcore | group collection permission | Can delete group collection permission\n",
      "wagtailcore | group collection permission | Can view group collection permission\n",
      "wagtailcore | group page permission | Can add group page permission\n",
      "wagtailcore | group page permission | Can change group page permission\n",
      "wagtailcore | group page permission | Can delete group page permission\n",
      "wagtailcore | group page permission | Can view group page permission\n",
      "wagtailcore | locale | Can add locale\n",
      "wagtailcore | locale | Can change locale\n",
      "wagtailcore | locale | Can delete locale\n",
      "wagtailcore | locale | Can view locale\n",
      "wagtailcore | page | Can add page\n",
      "wagtailcore | page | Can change page\n",
      "wagtailcore | page | Can delete page\n",
      "wagtailcore | page | Can view page\n",
      "wagtailcore | page log entry | Can add page log entry\n",
      "wagtailcore | page log entry | Can change page log entry\n",
      "wagtailcore | page log entry | Can delete page log entry\n",
      "wagtailcore | page log entry | Can view page log entry\n",
      "wagtailcore | page revision | Can add page revision\n",
      "wagtailcore | page revision | Can change page revision\n",
      "wagtailcore | page revision | Can delete page revision\n",
      "wagtailcore | page revision | Can view page revision\n"
     ]
    },
    {
     "name": "stdout",
     "output_type": "stream",
     "text": [
      "wagtailcore | page subscription | Can add page subscription\n",
      "wagtailcore | page subscription | Can change page subscription\n",
      "wagtailcore | page subscription | Can delete page subscription\n",
      "wagtailcore | page subscription | Can view page subscription\n",
      "wagtailcore | page view restriction | Can add page view restriction\n",
      "wagtailcore | page view restriction | Can change page view restriction\n",
      "wagtailcore | page view restriction | Can delete page view restriction\n",
      "wagtailcore | page view restriction | Can view page view restriction\n",
      "wagtailcore | site | Can add site\n",
      "wagtailcore | site | Can change site\n",
      "wagtailcore | site | Can delete site\n",
      "wagtailcore | site | Can view site\n",
      "wagtailcore | task | Can add task\n",
      "wagtailcore | task | Can change task\n",
      "wagtailcore | task | Can delete task\n",
      "wagtailcore | task | Can view task\n",
      "wagtailcore | Task state | Can add Task state\n",
      "wagtailcore | Task state | Can change Task state\n",
      "wagtailcore | Task state | Can delete Task state\n",
      "wagtailcore | Task state | Can view Task state\n",
      "wagtailcore | workflow | Can add workflow\n",
      "wagtailcore | workflow | Can change workflow\n",
      "wagtailcore | workflow | Can delete workflow\n",
      "wagtailcore | workflow | Can view workflow\n",
      "wagtailcore | workflow page | Can add workflow page\n",
      "wagtailcore | workflow page | Can change workflow page\n",
      "wagtailcore | workflow page | Can delete workflow page\n",
      "wagtailcore | workflow page | Can view workflow page\n",
      "wagtailcore | Workflow state | Can add Workflow state\n",
      "wagtailcore | Workflow state | Can change Workflow state\n",
      "wagtailcore | Workflow state | Can delete Workflow state\n",
      "wagtailcore | Workflow state | Can view Workflow state\n",
      "wagtailcore | workflow task order | Can add workflow task order\n",
      "wagtailcore | workflow task order | Can change workflow task order\n",
      "wagtailcore | workflow task order | Can delete workflow task order\n",
      "wagtailcore | workflow task order | Can view workflow task order\n",
      "wagtaildocs | document | Can add document\n",
      "wagtaildocs | document | Can change document\n",
      "wagtaildocs | document | Can choose document\n",
      "wagtaildocs | document | Can delete document\n",
      "wagtaildocs | document | Can view document\n",
      "wagtaildocs | uploaded document | Can add uploaded document\n",
      "wagtaildocs | uploaded document | Can change uploaded document\n",
      "wagtaildocs | uploaded document | Can delete uploaded document\n",
      "wagtaildocs | uploaded document | Can view uploaded document\n",
      "wagtailembeds | embed | Can add embed\n",
      "wagtailembeds | embed | Can change embed\n",
      "wagtailembeds | embed | Can delete embed\n",
      "wagtailembeds | embed | Can view embed\n",
      "wagtailforms | form submission | Can add form submission\n",
      "wagtailforms | form submission | Can change form submission\n",
      "wagtailforms | form submission | Can delete form submission\n",
      "wagtailforms | form submission | Can view form submission\n",
      "wagtailimages | image | Can add image\n",
      "wagtailimages | image | Can change image\n",
      "wagtailimages | image | Can choose image\n",
      "wagtailimages | image | Can delete image\n",
      "wagtailimages | image | Can view image\n",
      "wagtailimages | rendition | Can add rendition\n",
      "wagtailimages | rendition | Can change rendition\n",
      "wagtailimages | rendition | Can delete rendition\n",
      "wagtailimages | rendition | Can view rendition\n",
      "wagtailimages | uploaded image | Can add uploaded image\n",
      "wagtailimages | uploaded image | Can change uploaded image\n",
      "wagtailimages | uploaded image | Can delete uploaded image\n",
      "wagtailimages | uploaded image | Can view uploaded image\n",
      "wagtailredirects | redirect | Can add redirect\n",
      "wagtailredirects | redirect | Can change redirect\n",
      "wagtailredirects | redirect | Can delete redirect\n",
      "wagtailredirects | redirect | Can view redirect\n",
      "wagtailsearch | query | Can add query\n",
      "wagtailsearch | query | Can change query\n",
      "wagtailsearch | query | Can delete query\n",
      "wagtailsearch | query | Can view query\n",
      "wagtailsearch | Query Daily Hits | Can add Query Daily Hits\n",
      "wagtailsearch | Query Daily Hits | Can change Query Daily Hits\n",
      "wagtailsearch | Query Daily Hits | Can delete Query Daily Hits\n",
      "wagtailsearch | Query Daily Hits | Can view Query Daily Hits\n",
      "wagtailusers | user profile | Can add user profile\n",
      "wagtailusers | user profile | Can change user profile\n",
      "wagtailusers | user profile | Can delete user profile\n",
      "wagtailusers | user profile | Can view user profile\n",
      "watson | search entry | Can add search entry\n",
      "watson | search entry | Can change search entry\n",
      "watson | search entry | Can delete search entry\n",
      "watson | search entry | Can view search entry\n"
     ]
    },
    {
     "data": {
      "application/javascript": [
       "\n",
       "            setTimeout(function() {\n",
       "                var nbb_cell_id = 8;\n",
       "                var nbb_unformatted_code = \"for permission in Permission.objects.all():\\n    print(permission)\";\n",
       "                var nbb_formatted_code = \"for permission in Permission.objects.all():\\n    print(permission)\";\n",
       "                var nbb_cells = Jupyter.notebook.get_cells();\n",
       "                for (var i = 0; i < nbb_cells.length; ++i) {\n",
       "                    if (nbb_cells[i].input_prompt_number == nbb_cell_id) {\n",
       "                        if (nbb_cells[i].get_text() == nbb_unformatted_code) {\n",
       "                             nbb_cells[i].set_text(nbb_formatted_code);\n",
       "                        }\n",
       "                        break;\n",
       "                    }\n",
       "                }\n",
       "            }, 500);\n",
       "            "
      ],
      "text/plain": [
       "<IPython.core.display.Javascript object>"
      ]
     },
     "metadata": {},
     "output_type": "display_data"
    }
   ],
   "source": [
    "for permission in Permission.objects.all():\n",
    "    print(permission)"
   ]
  },
  {
   "cell_type": "code",
   "execution_count": 10,
   "id": "c452dc72",
   "metadata": {},
   "outputs": [
    {
     "name": "stdout",
     "output_type": "stream",
     "text": [
      "Moderators\n",
      "Editors\n"
     ]
    },
    {
     "data": {
      "application/javascript": [
       "\n",
       "            setTimeout(function() {\n",
       "                var nbb_cell_id = 10;\n",
       "                var nbb_unformatted_code = \"for group in Group.objects.all():\\n    print(group)\";\n",
       "                var nbb_formatted_code = \"for group in Group.objects.all():\\n    print(group)\";\n",
       "                var nbb_cells = Jupyter.notebook.get_cells();\n",
       "                for (var i = 0; i < nbb_cells.length; ++i) {\n",
       "                    if (nbb_cells[i].input_prompt_number == nbb_cell_id) {\n",
       "                        if (nbb_cells[i].get_text() == nbb_unformatted_code) {\n",
       "                             nbb_cells[i].set_text(nbb_formatted_code);\n",
       "                        }\n",
       "                        break;\n",
       "                    }\n",
       "                }\n",
       "            }, 500);\n",
       "            "
      ],
      "text/plain": [
       "<IPython.core.display.Javascript object>"
      ]
     },
     "metadata": {},
     "output_type": "display_data"
    }
   ],
   "source": [
    "for group in Group.objects.all():\n",
    "    print(group)"
   ]
  },
  {
   "cell_type": "code",
   "execution_count": 11,
   "id": "eae270aa",
   "metadata": {},
   "outputs": [
    {
     "data": {
      "application/javascript": [
       "\n",
       "            setTimeout(function() {\n",
       "                var nbb_cell_id = 11;\n",
       "                var nbb_unformatted_code = \"from pathlib import Path\";\n",
       "                var nbb_formatted_code = \"from pathlib import Path\";\n",
       "                var nbb_cells = Jupyter.notebook.get_cells();\n",
       "                for (var i = 0; i < nbb_cells.length; ++i) {\n",
       "                    if (nbb_cells[i].input_prompt_number == nbb_cell_id) {\n",
       "                        if (nbb_cells[i].get_text() == nbb_unformatted_code) {\n",
       "                             nbb_cells[i].set_text(nbb_formatted_code);\n",
       "                        }\n",
       "                        break;\n",
       "                    }\n",
       "                }\n",
       "            }, 500);\n",
       "            "
      ],
      "text/plain": [
       "<IPython.core.display.Javascript object>"
      ]
     },
     "metadata": {},
     "output_type": "display_data"
    }
   ],
   "source": [
    "from pathlib import Path"
   ]
  },
  {
   "cell_type": "code",
   "execution_count": 12,
   "id": "51c93d4f",
   "metadata": {},
   "outputs": [
    {
     "data": {
      "text/plain": [
       "['__bytes__',\n",
       " '__class__',\n",
       " '__class_getitem__',\n",
       " '__delattr__',\n",
       " '__dir__',\n",
       " '__doc__',\n",
       " '__enter__',\n",
       " '__eq__',\n",
       " '__exit__',\n",
       " '__format__',\n",
       " '__fspath__',\n",
       " '__ge__',\n",
       " '__getattribute__',\n",
       " '__gt__',\n",
       " '__hash__',\n",
       " '__init__',\n",
       " '__init_subclass__',\n",
       " '__le__',\n",
       " '__lt__',\n",
       " '__module__',\n",
       " '__ne__',\n",
       " '__new__',\n",
       " '__reduce__',\n",
       " '__reduce_ex__',\n",
       " '__repr__',\n",
       " '__rtruediv__',\n",
       " '__setattr__',\n",
       " '__sizeof__',\n",
       " '__slots__',\n",
       " '__str__',\n",
       " '__subclasshook__',\n",
       " '__truediv__',\n",
       " '_accessor',\n",
       " '_cached_cparts',\n",
       " '_cparts',\n",
       " '_drv',\n",
       " '_format_parsed_parts',\n",
       " '_from_parsed_parts',\n",
       " '_from_parts',\n",
       " '_hash',\n",
       " '_init',\n",
       " '_make_child',\n",
       " '_make_child_relpath',\n",
       " '_opener',\n",
       " '_parse_args',\n",
       " '_parts',\n",
       " '_pparts',\n",
       " '_raw_open',\n",
       " '_root',\n",
       " '_str',\n",
       " 'absolute',\n",
       " 'anchor',\n",
       " 'as_posix',\n",
       " 'as_uri',\n",
       " 'chmod',\n",
       " 'cwd',\n",
       " 'drive',\n",
       " 'exists',\n",
       " 'expanduser',\n",
       " 'glob',\n",
       " 'group',\n",
       " 'home',\n",
       " 'is_absolute',\n",
       " 'is_block_device',\n",
       " 'is_char_device',\n",
       " 'is_dir',\n",
       " 'is_fifo',\n",
       " 'is_file',\n",
       " 'is_mount',\n",
       " 'is_relative_to',\n",
       " 'is_reserved',\n",
       " 'is_socket',\n",
       " 'is_symlink',\n",
       " 'iterdir',\n",
       " 'joinpath',\n",
       " 'lchmod',\n",
       " 'link_to',\n",
       " 'lstat',\n",
       " 'match',\n",
       " 'mkdir',\n",
       " 'name',\n",
       " 'open',\n",
       " 'owner',\n",
       " 'parent',\n",
       " 'parents',\n",
       " 'parts',\n",
       " 'read_bytes',\n",
       " 'read_text',\n",
       " 'readlink',\n",
       " 'relative_to',\n",
       " 'rename',\n",
       " 'replace',\n",
       " 'resolve',\n",
       " 'rglob',\n",
       " 'rmdir',\n",
       " 'root',\n",
       " 'samefile',\n",
       " 'stat',\n",
       " 'stem',\n",
       " 'suffix',\n",
       " 'suffixes',\n",
       " 'symlink_to',\n",
       " 'touch',\n",
       " 'unlink',\n",
       " 'with_name',\n",
       " 'with_stem',\n",
       " 'with_suffix',\n",
       " 'write_bytes',\n",
       " 'write_text']"
      ]
     },
     "execution_count": 12,
     "metadata": {},
     "output_type": "execute_result"
    },
    {
     "data": {
      "application/javascript": [
       "\n",
       "            setTimeout(function() {\n",
       "                var nbb_cell_id = 12;\n",
       "                var nbb_unformatted_code = \"dir(Path)\";\n",
       "                var nbb_formatted_code = \"dir(Path)\";\n",
       "                var nbb_cells = Jupyter.notebook.get_cells();\n",
       "                for (var i = 0; i < nbb_cells.length; ++i) {\n",
       "                    if (nbb_cells[i].input_prompt_number == nbb_cell_id) {\n",
       "                        if (nbb_cells[i].get_text() == nbb_unformatted_code) {\n",
       "                             nbb_cells[i].set_text(nbb_formatted_code);\n",
       "                        }\n",
       "                        break;\n",
       "                    }\n",
       "                }\n",
       "            }, 500);\n",
       "            "
      ],
      "text/plain": [
       "<IPython.core.display.Javascript object>"
      ]
     },
     "metadata": {},
     "output_type": "display_data"
    }
   ],
   "source": [
    "dir(Path)"
   ]
  },
  {
   "cell_type": "code",
   "execution_count": 13,
   "id": "910ebc86",
   "metadata": {},
   "outputs": [
    {
     "data": {
      "text/plain": [
       "PosixPath('/Users/jochen/projects/django-cast/notebooks')"
      ]
     },
     "execution_count": 13,
     "metadata": {},
     "output_type": "execute_result"
    },
    {
     "data": {
      "application/javascript": [
       "\n",
       "            setTimeout(function() {\n",
       "                var nbb_cell_id = 13;\n",
       "                var nbb_unformatted_code = \"Path.cwd()\";\n",
       "                var nbb_formatted_code = \"Path.cwd()\";\n",
       "                var nbb_cells = Jupyter.notebook.get_cells();\n",
       "                for (var i = 0; i < nbb_cells.length; ++i) {\n",
       "                    if (nbb_cells[i].input_prompt_number == nbb_cell_id) {\n",
       "                        if (nbb_cells[i].get_text() == nbb_unformatted_code) {\n",
       "                             nbb_cells[i].set_text(nbb_formatted_code);\n",
       "                        }\n",
       "                        break;\n",
       "                    }\n",
       "                }\n",
       "            }, 500);\n",
       "            "
      ],
      "text/plain": [
       "<IPython.core.display.Javascript object>"
      ]
     },
     "metadata": {},
     "output_type": "display_data"
    }
   ],
   "source": [
    "Path.cwd()"
   ]
  },
  {
   "cell_type": "code",
   "execution_count": 14,
   "id": "4c760864",
   "metadata": {},
   "outputs": [
    {
     "data": {
      "application/javascript": [
       "\n",
       "            setTimeout(function() {\n",
       "                var nbb_cell_id = 14;\n",
       "                var nbb_unformatted_code = \"from django.contrib.auth.models import Group\";\n",
       "                var nbb_formatted_code = \"from django.contrib.auth.models import Group\";\n",
       "                var nbb_cells = Jupyter.notebook.get_cells();\n",
       "                for (var i = 0; i < nbb_cells.length; ++i) {\n",
       "                    if (nbb_cells[i].input_prompt_number == nbb_cell_id) {\n",
       "                        if (nbb_cells[i].get_text() == nbb_unformatted_code) {\n",
       "                             nbb_cells[i].set_text(nbb_formatted_code);\n",
       "                        }\n",
       "                        break;\n",
       "                    }\n",
       "                }\n",
       "            }, 500);\n",
       "            "
      ],
      "text/plain": [
       "<IPython.core.display.Javascript object>"
      ]
     },
     "metadata": {},
     "output_type": "display_data"
    }
   ],
   "source": [
    "from django.contrib.auth.models import Group"
   ]
  },
  {
   "cell_type": "code",
   "execution_count": 15,
   "id": "f2c5fd74",
   "metadata": {},
   "outputs": [
    {
     "data": {
      "text/plain": [
       "<QuerySet [<Group: Moderators>, <Group: Editors>]>"
      ]
     },
     "execution_count": 15,
     "metadata": {},
     "output_type": "execute_result"
    },
    {
     "data": {
      "application/javascript": [
       "\n",
       "            setTimeout(function() {\n",
       "                var nbb_cell_id = 15;\n",
       "                var nbb_unformatted_code = \"Group.objects.all()\";\n",
       "                var nbb_formatted_code = \"Group.objects.all()\";\n",
       "                var nbb_cells = Jupyter.notebook.get_cells();\n",
       "                for (var i = 0; i < nbb_cells.length; ++i) {\n",
       "                    if (nbb_cells[i].input_prompt_number == nbb_cell_id) {\n",
       "                        if (nbb_cells[i].get_text() == nbb_unformatted_code) {\n",
       "                             nbb_cells[i].set_text(nbb_formatted_code);\n",
       "                        }\n",
       "                        break;\n",
       "                    }\n",
       "                }\n",
       "            }, 500);\n",
       "            "
      ],
      "text/plain": [
       "<IPython.core.display.Javascript object>"
      ]
     },
     "metadata": {},
     "output_type": "display_data"
    }
   ],
   "source": [
    "Group.objects.all()"
   ]
  },
  {
   "cell_type": "code",
   "execution_count": 16,
   "id": "7580d3d2",
   "metadata": {},
   "outputs": [
    {
     "data": {
      "text/plain": [
       "<Group: Moderators>"
      ]
     },
     "execution_count": 16,
     "metadata": {},
     "output_type": "execute_result"
    },
    {
     "data": {
      "application/javascript": [
       "\n",
       "            setTimeout(function() {\n",
       "                var nbb_cell_id = 16;\n",
       "                var nbb_unformatted_code = \"Group.objects.get(name=\\\"Moderators\\\")\";\n",
       "                var nbb_formatted_code = \"Group.objects.get(name=\\\"Moderators\\\")\";\n",
       "                var nbb_cells = Jupyter.notebook.get_cells();\n",
       "                for (var i = 0; i < nbb_cells.length; ++i) {\n",
       "                    if (nbb_cells[i].input_prompt_number == nbb_cell_id) {\n",
       "                        if (nbb_cells[i].get_text() == nbb_unformatted_code) {\n",
       "                             nbb_cells[i].set_text(nbb_formatted_code);\n",
       "                        }\n",
       "                        break;\n",
       "                    }\n",
       "                }\n",
       "            }, 500);\n",
       "            "
      ],
      "text/plain": [
       "<IPython.core.display.Javascript object>"
      ]
     },
     "metadata": {},
     "output_type": "display_data"
    }
   ],
   "source": [
    "Group.objects.get(name=\"Moderators\")"
   ]
  },
  {
   "cell_type": "code",
   "execution_count": 17,
   "id": "c8ed2bf6",
   "metadata": {},
   "outputs": [
    {
     "data": {
      "application/javascript": [
       "\n",
       "            setTimeout(function() {\n",
       "                var nbb_cell_id = 17;\n",
       "                var nbb_unformatted_code = \"DATABASES = {\\\"default\\\": {\\\"ENGINE\\\": \\\"django.db.backends.sqlite3\\\", \\\"NAME\\\": \\\"tests/test_database.sqlite3\\\"}}\";\n",
       "                var nbb_formatted_code = \"DATABASES = {\\n    \\\"default\\\": {\\n        \\\"ENGINE\\\": \\\"django.db.backends.sqlite3\\\",\\n        \\\"NAME\\\": \\\"tests/test_database.sqlite3\\\",\\n    }\\n}\";\n",
       "                var nbb_cells = Jupyter.notebook.get_cells();\n",
       "                for (var i = 0; i < nbb_cells.length; ++i) {\n",
       "                    if (nbb_cells[i].input_prompt_number == nbb_cell_id) {\n",
       "                        if (nbb_cells[i].get_text() == nbb_unformatted_code) {\n",
       "                             nbb_cells[i].set_text(nbb_formatted_code);\n",
       "                        }\n",
       "                        break;\n",
       "                    }\n",
       "                }\n",
       "            }, 500);\n",
       "            "
      ],
      "text/plain": [
       "<IPython.core.display.Javascript object>"
      ]
     },
     "metadata": {},
     "output_type": "display_data"
    }
   ],
   "source": [
    "DATABASES = {\n",
    "    \"default\": {\n",
    "        \"ENGINE\": \"django.db.backends.sqlite3\",\n",
    "        \"NAME\": \"tests/test_database.sqlite3\",\n",
    "    }\n",
    "}"
   ]
  },
  {
   "cell_type": "code",
   "execution_count": null,
   "id": "a7057799",
   "metadata": {},
   "outputs": [],
   "source": [
    "DATABASES = {\n",
    "    \"default\": {\n",
    "        \"ENGINE\": \"django.db.backends.sqlite3\",\n",
    "        \"NAME\": \"tests/test_database.sqlite3\",\n",
    "    },\n",
    "    \"test\": {\n",
    "        \"ENGINE\": \"django.db.backends.sqlite3\",\n",
    "        \"NAME\": \"tests/test_database.sqlite3\",\n",
    "    }\n",
    "\n",
    "}"
   ]
  },
  {
   "cell_type": "code",
   "execution_count": null,
   "id": "fee54394",
   "metadata": {},
   "outputs": [],
   "source": [
    "DATABASES = {\n",
    "    \"default\": {\n",
    "        \"ENGINE\": \"django.db.backends.sqlite3\",\n",
    "        \"NAME\": \"tests/test_database.sqlite3\",\n",
    "    },\n",
    "    \"TEST\": {\n",
    "        \"ENGINE\": \"django.db.backends.sqlite3\",\n",
    "        \"NAME\": \"tests/test_database.sqlite3\",\n",
    "    }\n",
    "\n",
    "}"
   ]
  }
 ],
 "metadata": {
  "kernelspec": {
   "display_name": "Django Shell-Plus",
   "language": "python",
   "name": "django_extensions"
  },
  "language_info": {
   "codemirror_mode": {
    "name": "ipython",
    "version": 3
   },
   "file_extension": ".py",
   "mimetype": "text/x-python",
   "name": "python",
   "nbconvert_exporter": "python",
   "pygments_lexer": "ipython3",
   "version": "3.9.6"
  }
 },
 "nbformat": 4,
 "nbformat_minor": 5
}
