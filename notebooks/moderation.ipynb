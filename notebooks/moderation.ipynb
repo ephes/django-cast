{
 "cells": [
  {
   "cell_type": "code",
   "execution_count": 1,
   "id": "a6f57e40",
   "metadata": {},
   "outputs": [],
   "source": [
    "import json\n",
    "\n",
    "from pathlib import Path\n",
    "\n",
    "from cast.naive_bayes import train, predict_label"
   ]
  },
  {
   "cell_type": "markdown",
   "id": "cc08549c",
   "metadata": {},
   "source": [
    "# Train Naive Bayes Model"
   ]
  },
  {
   "cell_type": "code",
   "execution_count": 2,
   "id": "10e63b45",
   "metadata": {},
   "outputs": [
    {
     "name": "stdout",
     "output_type": "stream",
     "text": [
      "CPU times: user 2.47 ms, sys: 2.08 ms, total: 4.55 ms\n",
      "Wall time: 3.47 ms\n"
     ]
    }
   ],
   "source": [
    "%%time\n",
    "with Path(\"comments.train.json\").open(\"r\") as f:\n",
    "    messages = json.loads(f.read())"
   ]
  },
  {
   "cell_type": "code",
   "execution_count": 3,
   "id": "49e73ef7",
   "metadata": {},
   "outputs": [
    {
     "name": "stdout",
     "output_type": "stream",
     "text": [
      "CPU times: user 15.3 ms, sys: 1.08 ms, total: 16.4 ms\n",
      "Wall time: 15.9 ms\n"
     ]
    }
   ],
   "source": [
    "%%time\n",
    "model = train(messages)"
   ]
  },
  {
   "cell_type": "code",
   "execution_count": 5,
   "id": "e7a90c63",
   "metadata": {},
   "outputs": [
    {
     "data": {
      "text/plain": [
       "'spam'"
      ]
     },
     "execution_count": 5,
     "metadata": {},
     "output_type": "execute_result"
    }
   ],
   "source": [
    "predict_label(\"eric jones\", **model)"
   ]
  },
  {
   "cell_type": "code",
   "execution_count": 6,
   "id": "c54f35d6",
   "metadata": {},
   "outputs": [
    {
     "data": {
      "text/plain": [
       "'ham'"
      ]
     },
     "execution_count": 6,
     "metadata": {},
     "output_type": "execute_result"
    }
   ],
   "source": [
    "predict_label(\"Das ist ein normaler Kommentar!\", **model)"
   ]
  },
  {
   "cell_type": "code",
   "execution_count": 8,
   "id": "d409278f",
   "metadata": {},
   "outputs": [],
   "source": [
    "with Path(\"model.json\").open(\"w\") as f:\n",
    "    f.write(json.dumps(model))"
   ]
  },
  {
   "cell_type": "markdown",
   "id": "24c24206",
   "metadata": {},
   "source": [
    "# Use Pretrained Model"
   ]
  },
  {
   "cell_type": "code",
   "execution_count": 2,
   "id": "8ebb9c6f",
   "metadata": {},
   "outputs": [],
   "source": [
    "from cast.naive_bayes import get_pretrained_model, predict_label"
   ]
  },
  {
   "cell_type": "code",
   "execution_count": 3,
   "id": "2250cd2e",
   "metadata": {},
   "outputs": [
    {
     "name": "stdout",
     "output_type": "stream",
     "text": [
      "CPU times: user 2.65 ms, sys: 890 µs, total: 3.54 ms\n",
      "Wall time: 3.06 ms\n"
     ]
    }
   ],
   "source": [
    "%%time\n",
    "\n",
    "model = get_pretrained_model()"
   ]
  },
  {
   "cell_type": "code",
   "execution_count": 4,
   "id": "3dafb36c",
   "metadata": {},
   "outputs": [
    {
     "data": {
      "text/plain": [
       "'spam'"
      ]
     },
     "execution_count": 4,
     "metadata": {},
     "output_type": "execute_result"
    }
   ],
   "source": [
    "predict_label(\"eric jones\", **model)"
   ]
  },
  {
   "cell_type": "code",
   "execution_count": null,
   "id": "ff885d11",
   "metadata": {},
   "outputs": [],
   "source": []
  }
 ],
 "metadata": {
  "kernelspec": {
   "display_name": "Django Shell-Plus",
   "language": "python",
   "name": "django_extensions"
  },
  "language_info": {
   "codemirror_mode": {
    "name": "ipython",
    "version": 3
   },
   "file_extension": ".py",
   "mimetype": "text/x-python",
   "name": "python",
   "nbconvert_exporter": "python",
   "pygments_lexer": "ipython3",
   "version": "3.9.4"
  }
 },
 "nbformat": 4,
 "nbformat_minor": 5
}
