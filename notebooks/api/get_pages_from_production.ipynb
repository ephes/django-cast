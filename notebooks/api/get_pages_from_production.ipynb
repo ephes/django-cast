{
 "cells": [
  {
   "cell_type": "code",
   "execution_count": 4,
   "id": "2e0fc9de",
   "metadata": {},
   "outputs": [],
   "source": [
    "import requests"
   ]
  },
  {
   "cell_type": "markdown",
   "id": "acb39805",
   "metadata": {},
   "source": [
    "# Get Wagtail Pages from Production"
   ]
  },
  {
   "cell_type": "code",
   "execution_count": 1,
   "id": "44200588",
   "metadata": {},
   "outputs": [],
   "source": [
    "from urllib.parse import urljoin"
   ]
  },
  {
   "cell_type": "code",
   "execution_count": 13,
   "id": "209a68b2",
   "metadata": {},
   "outputs": [
    {
     "name": "stdout",
     "output_type": "stream",
     "text": [
      "https://wersdoerfer.de/blogs/api/wagtail/pages/\n"
     ]
    }
   ],
   "source": [
    "base_api = \"https://wersdoerfer.de/blogs/api/\"\n",
    "pages_endpoint = urljoin(base_api, \"wagtail/pages/\")\n",
    "print(pages_endpoint)"
   ]
  },
  {
   "cell_type": "code",
   "execution_count": 21,
   "id": "b937ae0a",
   "metadata": {},
   "outputs": [
    {
     "name": "stdout",
     "output_type": "stream",
     "text": [
      "200\n",
      "CPU times: user 22.5 ms, sys: 4.16 ms, total: 26.7 ms\n",
      "Wall time: 151 ms\n"
     ]
    }
   ],
   "source": [
    "%%time\n",
    "r = requests.get(pages_endpoint)\n",
    "r.raise_for_status()\n",
    "print(r.status_code)\n",
    "data = r.json()"
   ]
  },
  {
   "cell_type": "code",
   "execution_count": 32,
   "id": "495d7870",
   "metadata": {},
   "outputs": [
    {
     "data": {
      "text/plain": [
       "{'id': 5,\n",
       " 'meta': {'type': 'cast.Post',\n",
       "  'detail_url': 'https://wersdoerfer.de/blogs/api/wagtail/pages/5/',\n",
       "  'html_url': 'https://wersdoerfer.de/blogs/das_claas_und_nora_blog/Zu-ersten-Mal-etwas-Mohrenbrei/',\n",
       "  'slug': 'Zu-ersten-Mal-etwas-Mohrenbrei',\n",
       "  'first_published_at': '2018-05-28T09:47:05.679581Z'},\n",
       " 'title': 'Zu ersten Mal etwas Möhrenbrei'}"
      ]
     },
     "execution_count": 32,
     "metadata": {},
     "output_type": "execute_result"
    }
   ],
   "source": [
    "data[\"items\"][2]"
   ]
  },
  {
   "cell_type": "markdown",
   "id": "57948695",
   "metadata": {},
   "source": [
    "## Fetch Detail URLs"
   ]
  },
  {
   "cell_type": "code",
   "execution_count": 33,
   "id": "ea667f8d",
   "metadata": {},
   "outputs": [
    {
     "name": "stdout",
     "output_type": "stream",
     "text": [
      "CPU times: user 429 ms, sys: 53.8 ms, total: 482 ms\n",
      "Wall time: 2.76 s\n"
     ]
    }
   ],
   "source": [
    "%%time\n",
    "detail_urls = [(item[\"id\"], item[\"meta\"][\"detail_url\"]) for item in data[\"items\"]]\n",
    "details = {}\n",
    "for item_id, detail_url in detail_urls:\n",
    "    r = requests.get(detail_url)\n",
    "    r.raise_for_status()\n",
    "    details[item_id] = r.json()"
   ]
  },
  {
   "cell_type": "code",
   "execution_count": 37,
   "id": "bd6b06cc",
   "metadata": {},
   "outputs": [
    {
     "name": "stdout",
     "output_type": "stream",
     "text": [
      "5\n"
     ]
    },
    {
     "data": {
      "text/plain": [
       "{'id': 5,\n",
       " 'meta': {'type': 'cast.Post',\n",
       "  'detail_url': 'https://wersdoerfer.de/blogs/api/wagtail/pages/5/',\n",
       "  'html_url': 'https://wersdoerfer.de/blogs/das_claas_und_nora_blog/Zu-ersten-Mal-etwas-Mohrenbrei/',\n",
       "  'slug': 'Zu-ersten-Mal-etwas-Mohrenbrei',\n",
       "  'show_in_menus': False,\n",
       "  'seo_title': '',\n",
       "  'search_description': '',\n",
       "  'first_published_at': '2018-05-28T09:47:05.679581Z',\n",
       "  'alias_of': None,\n",
       "  'parent': {'id': 3,\n",
       "   'meta': {'type': 'cast.Blog',\n",
       "    'detail_url': 'https://wersdoerfer.de/blogs/api/wagtail/pages/3/',\n",
       "    'html_url': 'https://wersdoerfer.de/blogs/das_claas_und_nora_blog/'},\n",
       "   'title': 'Claas und Nora sagen Hallo'}},\n",
       " 'title': 'Zu ersten Mal etwas Möhrenbrei'}"
      ]
     },
     "execution_count": 37,
     "metadata": {},
     "output_type": "execute_result"
    }
   ],
   "source": [
    "print(list(details.keys())[2])\n",
    "details[5]"
   ]
  },
  {
   "cell_type": "code",
   "execution_count": 38,
   "id": "91e760a6",
   "metadata": {},
   "outputs": [],
   "source": [
    "r = requests.get(\"https://wersdoerfer.de/blogs/api/wagtail/pages/5/?fields=body\")"
   ]
  },
  {
   "cell_type": "code",
   "execution_count": 39,
   "id": "15cf1f92",
   "metadata": {},
   "outputs": [],
   "source": [
    "r = requests.get(\"http://localhost:8000/cast/api/wagtail/pages/11/\")\n",
    "r.raise_for_status()"
   ]
  },
  {
   "cell_type": "code",
   "execution_count": 40,
   "id": "2bf153bd",
   "metadata": {},
   "outputs": [
    {
     "data": {
      "text/plain": [
       "{'id': 11,\n",
       " 'meta': {'type': 'cast.Post',\n",
       "  'detail_url': 'http://localhost:8000/cast/api/wagtail/pages/11/',\n",
       "  'html_url': 'http://localhost:8000/mein-kleines-blog/audio-test/',\n",
       "  'slug': 'audio-test',\n",
       "  'show_in_menus': False,\n",
       "  'seo_title': '',\n",
       "  'search_description': '',\n",
       "  'first_published_at': '2022-11-19T14:14:58.013575Z',\n",
       "  'alias_of': None,\n",
       "  'parent': {'id': 3,\n",
       "   'meta': {'type': 'cast.Blog',\n",
       "    'detail_url': 'http://localhost:8000/cast/api/wagtail/pages/3/',\n",
       "    'html_url': 'http://localhost:8000/mein-kleines-blog/'},\n",
       "   'title': 'Mein kleines Blog'}},\n",
       " 'title': 'audio test'}"
      ]
     },
     "execution_count": 40,
     "metadata": {},
     "output_type": "execute_result"
    }
   ],
   "source": [
    "r.json()"
   ]
  },
  {
   "cell_type": "code",
   "execution_count": null,
   "id": "a5671fd9",
   "metadata": {},
   "outputs": [],
   "source": []
  }
 ],
 "metadata": {
  "kernelspec": {
   "display_name": "Django Shell-Plus",
   "language": "python",
   "name": "django_extensions"
  },
  "language_info": {
   "codemirror_mode": {
    "name": "ipython",
    "version": 3
   },
   "file_extension": ".py",
   "mimetype": "text/x-python",
   "name": "python",
   "nbconvert_exporter": "python",
   "pygments_lexer": "ipython3",
   "version": "3.11.2"
  }
 },
 "nbformat": 4,
 "nbformat_minor": 5
}
