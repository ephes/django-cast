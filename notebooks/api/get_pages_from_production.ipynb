{
 "cells": [
  {
   "cell_type": "code",
   "execution_count": 4,
   "id": "89b4614f",
   "metadata": {},
   "outputs": [],
   "source": [
    "import requests"
   ]
  },
  {
   "cell_type": "markdown",
   "id": "cf96b606",
   "metadata": {},
   "source": [
    "# Get Wagtail Pages from Production"
   ]
  },
  {
   "cell_type": "code",
   "execution_count": 1,
   "id": "13b168c4",
   "metadata": {},
   "outputs": [],
   "source": [
    "from urllib.parse import urljoin"
   ]
  },
  {
   "cell_type": "code",
   "execution_count": 13,
   "id": "faf3d6ea",
   "metadata": {},
   "outputs": [
    {
     "name": "stdout",
     "output_type": "stream",
     "text": [
      "https://wersdoerfer.de/blogs/api/wagtail/pages/\n"
     ]
    }
   ],
   "source": [
    "base_api = \"https://wersdoerfer.de/blogs/api/\"\n",
    "pages_endpoint = urljoin(base_api, \"wagtail/pages/\")\n",
    "print(pages_endpoint)"
   ]
  },
  {
   "cell_type": "code",
   "execution_count": 21,
   "id": "5f0cbc0e",
   "metadata": {},
   "outputs": [
    {
     "name": "stdout",
     "output_type": "stream",
     "text": [
      "200\n",
      "CPU times: user 22.5 ms, sys: 4.16 ms, total: 26.7 ms\n",
      "Wall time: 151 ms\n"
     ]
    }
   ],
   "source": [
    "%%time\n",
    "r = requests.get(pages_endpoint)\n",
    "r.raise_for_status()\n",
    "print(r.status_code)\n",
    "data = r.json()"
   ]
  },
  {
   "cell_type": "code",
   "execution_count": 32,
   "id": "b9990c5c",
   "metadata": {},
   "outputs": [
    {
     "data": {
      "text/plain": [
       "{'id': 5,\n",
       " 'meta': {'type': 'cast.Post',\n",
       "  'detail_url': 'https://wersdoerfer.de/blogs/api/wagtail/pages/5/',\n",
       "  'html_url': 'https://wersdoerfer.de/blogs/das_claas_und_nora_blog/Zu-ersten-Mal-etwas-Mohrenbrei/',\n",
       "  'slug': 'Zu-ersten-Mal-etwas-Mohrenbrei',\n",
       "  'first_published_at': '2018-05-28T09:47:05.679581Z'},\n",
       " 'title': 'Zu ersten Mal etwas Möhrenbrei'}"
      ]
     },
     "execution_count": 32,
     "metadata": {},
     "output_type": "execute_result"
    }
   ],
   "source": [
    "data[\"items\"][2]"
   ]
  },
  {
   "cell_type": "markdown",
   "id": "9302c5ae",
   "metadata": {},
   "source": [
    "## Fetch Detail URLs"
   ]
  },
  {
   "cell_type": "code",
   "execution_count": 33,
   "id": "a4ae4534",
   "metadata": {},
   "outputs": [
    {
     "name": "stdout",
     "output_type": "stream",
     "text": [
      "CPU times: user 429 ms, sys: 53.8 ms, total: 482 ms\n",
      "Wall time: 2.76 s\n"
     ]
    }
   ],
   "source": [
    "%%time\n",
    "detail_urls = [(item[\"id\"], item[\"meta\"][\"detail_url\"]) for item in data[\"items\"]]\n",
    "details = {}\n",
    "for item_id, detail_url in detail_urls:\n",
    "    r = requests.get(detail_url)\n",
    "    r.raise_for_status()\n",
    "    details[item_id] = r.json()"
   ]
  },
  {
   "cell_type": "code",
   "execution_count": 37,
   "id": "18afc78d",
   "metadata": {},
   "outputs": [
    {
     "name": "stdout",
     "output_type": "stream",
     "text": [
      "5\n"
     ]
    },
    {
     "data": {
      "text/plain": [
       "{'id': 5,\n",
       " 'meta': {'type': 'cast.Post',\n",
       "  'detail_url': 'https://wersdoerfer.de/blogs/api/wagtail/pages/5/',\n",
       "  'html_url': 'https://wersdoerfer.de/blogs/das_claas_und_nora_blog/Zu-ersten-Mal-etwas-Mohrenbrei/',\n",
       "  'slug': 'Zu-ersten-Mal-etwas-Mohrenbrei',\n",
       "  'show_in_menus': False,\n",
       "  'seo_title': '',\n",
       "  'search_description': '',\n",
       "  'first_published_at': '2018-05-28T09:47:05.679581Z',\n",
       "  'alias_of': None,\n",
       "  'parent': {'id': 3,\n",
       "   'meta': {'type': 'cast.Blog',\n",
       "    'detail_url': 'https://wersdoerfer.de/blogs/api/wagtail/pages/3/',\n",
       "    'html_url': 'https://wersdoerfer.de/blogs/das_claas_und_nora_blog/'},\n",
       "   'title': 'Claas und Nora sagen Hallo'}},\n",
       " 'title': 'Zu ersten Mal etwas Möhrenbrei'}"
      ]
     },
     "execution_count": 37,
     "metadata": {},
     "output_type": "execute_result"
    }
   ],
   "source": [
    "print(list(details.keys())[2])\n",
    "details[5]"
   ]
  },
  {
   "cell_type": "code",
   "execution_count": 38,
   "id": "81de4303",
   "metadata": {},
   "outputs": [],
   "source": [
    "r = requests.get(\"https://wersdoerfer.de/blogs/api/wagtail/pages/5/?fields=body\")"
   ]
  },
  {
   "cell_type": "code",
   "execution_count": 45,
   "id": "3ccc4952",
   "metadata": {},
   "outputs": [],
   "source": [
    "r = requests.get(\"http://localhost:8000/cast/api/wagtail/pages/11/\")\n",
    "r.raise_for_status()"
   ]
  },
  {
   "cell_type": "code",
   "execution_count": 51,
   "id": "f627a71b",
   "metadata": {},
   "outputs": [
    {
     "data": {
      "text/plain": [
       "{'id': 11,\n",
       " 'meta': {'type': 'cast.Post',\n",
       "  'detail_url': 'http://localhost:8000/cast/api/wagtail/pages/11/',\n",
       "  'html_url': 'http://localhost:8000/mein-kleines-blog/audio-test/',\n",
       "  'slug': 'audio-test',\n",
       "  'show_in_menus': False,\n",
       "  'seo_title': '',\n",
       "  'search_description': '',\n",
       "  'first_published_at': '2022-11-19T14:14:58.013575Z',\n",
       "  'alias_of': None,\n",
       "  'parent': {'id': 3,\n",
       "   'meta': {'type': 'cast.Blog',\n",
       "    'detail_url': 'http://localhost:8000/cast/api/wagtail/pages/3/',\n",
       "    'html_url': 'http://localhost:8000/mein-kleines-blog/'},\n",
       "   'title': 'Mein kleines Blog'}},\n",
       " 'title': 'audio test',\n",
       " 'uuid': '716212d8-2aea-4a85-b162-8b13a4908921',\n",
       " 'visible_date': '2022-11-19T13:27:00Z',\n",
       " 'comments_enabled': True,\n",
       " 'body': [{'type': 'overview',\n",
       "   'value': [{'type': 'heading',\n",
       "     'value': 'Foo bar baz',\n",
       "     'id': 'c75f42f0-bee5-4985-aeab-4912e3fb4c25'},\n",
       "    {'type': 'video',\n",
       "     'value': 1,\n",
       "     'id': 'aed3e3a5-5d92-48d7-aad1-073698ed7c86'},\n",
       "    {'type': 'audio',\n",
       "     'value': 2,\n",
       "     'id': 'db1c0c6d-3fc7-43c2-b647-43f98f69f97c'},\n",
       "    {'type': 'paragraph',\n",
       "     'value': '<p data-block-key=\"7bwuk\">Hier kommt ein bisschen Text.</p><h2 data-block-key=\"aqink\">Überschriften</h2><p data-block-key=\"9difh\">sollte es hier natürlich auch geben...</p><hr/><p data-block-key=\"f408\">asdf</p>',\n",
       "     'id': '22cb3605-3390-48d7-92e9-97c5fb9ea78b'},\n",
       "    {'type': 'code',\n",
       "     'value': {'language': 'python',\n",
       "      'source': 'def hello():\\r\\n    print(\"hello world!\")'},\n",
       "     'id': 'aabd9e9d-ce53-4851-acd2-d0902000ca6d'}],\n",
       "   'id': '79de484e-df4f-49c0-a662-10d49fa05c79'}]}"
      ]
     },
     "execution_count": 51,
     "metadata": {},
     "output_type": "execute_result"
    }
   ],
   "source": [
    "apidata = r.json()\n",
    "apidata"
   ]
  },
  {
   "cell_type": "code",
   "execution_count": 55,
   "id": "e66281ac",
   "metadata": {},
   "outputs": [
    {
     "data": {
      "text/plain": [
       "<Post: audio test>"
      ]
     },
     "execution_count": 55,
     "metadata": {},
     "output_type": "execute_result"
    }
   ],
   "source": [
    "exclude = {\"meta\"}\n",
    "kwargs = {k: v for k, v in apidata.items() if k not in exclude}\n",
    "Post(**kwargs)"
   ]
  },
  {
   "cell_type": "code",
   "execution_count": 48,
   "id": "b52b3abf",
   "metadata": {},
   "outputs": [],
   "source": [
    "blog = Blog.objects.first()"
   ]
  },
  {
   "cell_type": "code",
   "execution_count": 60,
   "id": "9360297a",
   "metadata": {},
   "outputs": [],
   "source": [
    "def api_to_post(apidata):\n",
    "    exclude = {\"meta\", \"id\"}\n",
    "    kwargs = {k: v for k, v in apidata.items() if k not in exclude}\n",
    "    return Post(**kwargs)"
   ]
  },
  {
   "cell_type": "code",
   "execution_count": 63,
   "id": "2ae55b54",
   "metadata": {},
   "outputs": [
    {
     "data": {
      "text/plain": [
       "<Post: audio test>"
      ]
     },
     "execution_count": 63,
     "metadata": {},
     "output_type": "execute_result"
    }
   ],
   "source": [
    "post = api_to_post(apidata)\n",
    "post.slug = \"audio-test-new\"\n",
    "blog.add_child(instance=post)"
   ]
  },
  {
   "cell_type": "code",
   "execution_count": 65,
   "id": "1e720f75",
   "metadata": {},
   "outputs": [
    {
     "data": {
      "text/plain": [
       "41"
      ]
     },
     "execution_count": 65,
     "metadata": {},
     "output_type": "execute_result"
    }
   ],
   "source": [
    "post.pk"
   ]
  },
  {
   "cell_type": "code",
   "execution_count": 66,
   "id": "c3d0c49b",
   "metadata": {},
   "outputs": [],
   "source": [
    "post.title = \"audio test new 🤩\""
   ]
  },
  {
   "cell_type": "code",
   "execution_count": 67,
   "id": "cea5242e",
   "metadata": {},
   "outputs": [],
   "source": [
    "post.save()"
   ]
  },
  {
   "cell_type": "code",
   "execution_count": 68,
   "id": "d86fd37e",
   "metadata": {},
   "outputs": [
    {
     "data": {
      "text/plain": [
       "<AudioQuerySet [<Audio: 2 - pp 23 foobar>]>"
      ]
     },
     "execution_count": 68,
     "metadata": {},
     "output_type": "execute_result"
    }
   ],
   "source": [
    "post.audios.all()"
   ]
  },
  {
   "cell_type": "code",
   "execution_count": null,
   "id": "283b6e3f",
   "metadata": {},
   "outputs": [],
   "source": []
  }
 ],
 "metadata": {
  "kernelspec": {
   "display_name": "Django Shell-Plus",
   "language": "python",
   "name": "django_extensions"
  },
  "language_info": {
   "codemirror_mode": {
    "name": "ipython",
    "version": 3
   },
   "file_extension": ".py",
   "mimetype": "text/x-python",
   "name": "python",
   "nbconvert_exporter": "python",
   "pygments_lexer": "ipython3",
   "version": "3.11.2"
  }
 },
 "nbformat": 4,
 "nbformat_minor": 5
}
